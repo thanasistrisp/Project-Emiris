{
 "cells": [
  {
   "attachments": {},
   "cell_type": "markdown",
   "metadata": {},
   "source": [
    "# Grid Search for non-Clustering Algorithms in Latent Space (+ Comparison to Initial Space)"
   ]
  },
  {
   "cell_type": "code",
   "execution_count": null,
   "metadata": {
    "execution": {
     "iopub.execute_input": "2024-01-06T10:55:33.053643Z",
     "iopub.status.busy": "2024-01-06T10:55:33.053179Z",
     "iopub.status.idle": "2024-01-06T10:55:37.935144Z",
     "shell.execute_reply": "2024-01-06T10:55:37.933970Z"
    }
   },
   "outputs": [],
   "source": [
    "import os\n",
    "\n",
    "from multiprocessing.pool import ThreadPool\n",
    "\n",
    "import ctypes\n",
    "from ctypes import *\n",
    "\n",
    "import numpy as np\n",
    "\n",
    "from tensorflow.keras.models import load_model\n",
    "\n",
    "from autoencoder import Autoencoder\n",
    "\n",
    "from helper_funcs import *\n",
    "\n",
    "import pandas\n",
    "pandas.set_option('display.max_rows', None)\n",
    "\n",
    "from params import get_aaf"
   ]
  },
  {
   "cell_type": "code",
   "execution_count": null,
   "metadata": {
    "execution": {
     "iopub.execute_input": "2024-01-06T10:55:37.939815Z",
     "iopub.status.busy": "2024-01-06T10:55:37.939107Z",
     "iopub.status.idle": "2024-01-06T10:55:37.945777Z",
     "shell.execute_reply": "2024-01-06T10:55:37.944984Z"
    }
   },
   "outputs": [],
   "source": [
    "models = os.listdir('./models/')\n",
    "\n",
    "dataset = b'MNIST/input.dat'\n",
    "query   = b'MNIST/query.dat'\n",
    "\n",
    "model_to_files = {}\n",
    "for i, model in enumerate(models):\n",
    "    normalized_dataset = b'MNIST/' + models[i].removesuffix('.keras').encode() + b'_normalized_dataset.dat'\n",
    "    normalized_query   = b'MNIST/' + models[i].removesuffix('.keras').encode() + b'_normalized_query.dat'\n",
    "    encoded_dataset    = b'MNIST/' + models[i].removesuffix('.keras').encode() + b'_encoded_dataset.dat'\n",
    "    encoded_query      = b'MNIST/' + models[i].removesuffix('.keras').encode() + b'_encoded_query.dat'\n",
    "\n",
    "    model_to_files.update({models[i] : [normalized_dataset, normalized_query,\n",
    "                                        encoded_dataset, encoded_query]})\n",
    "\n",
    "n = 60000"
   ]
  },
  {
   "cell_type": "code",
   "execution_count": null,
   "metadata": {
    "execution": {
     "iopub.execute_input": "2024-01-06T10:55:37.948789Z",
     "iopub.status.busy": "2024-01-06T10:55:37.948465Z",
     "iopub.status.idle": "2024-01-06T10:57:08.879364Z",
     "shell.execute_reply": "2024-01-06T10:57:08.878157Z"
    }
   },
   "outputs": [],
   "source": [
    "for model in model_to_files:\n",
    "    normalized_dataset, normalized_query, encoded_dataset, encoded_query = model_to_files[model]\n",
    "\n",
    "    model = b'models/' + model.encode()\n",
    "\n",
    "    # load model\n",
    "    autoencoder = load_model(model.decode())\n",
    "    shape = autoencoder.layers[-2].output_shape[1:] # get shape of encoded layer\n",
    "\n",
    "    # load dataset\n",
    "    x_train = load_dataset(dataset)\n",
    "    x_train = x_train.astype('float32') / 255.\n",
    "    x_test = load_dataset(query)\n",
    "    x_test = x_test.astype('float32') / 255.\n",
    "    if len(shape) == 3: # if model type is convolutional\n",
    "        x_train = np.reshape(x_train, (len(x_train), 28, 28, 1))\n",
    "        x_test = np.reshape(x_test, (len(x_test), 28, 28, 1))\n",
    "    else:\n",
    "        x_train = np.reshape(x_train, (len(x_train), 784))\n",
    "        x_test = np.reshape(x_test, (len(x_test), 784))\n",
    "\n",
    "    encoded_train = autoencoder.encode(x_train)\n",
    "    encoded_test = autoencoder.encode(x_test)\n",
    "\n",
    "    # deflatten encoded datasets\n",
    "    encoded_train = deflatten_encoded(encoded_train, shape)\n",
    "    encoded_test = deflatten_encoded(encoded_test, shape)\n",
    "\n",
    "    # save original datasets normalized\n",
    "    save_decoded_binary(x_train, normalized_dataset)\n",
    "    save_decoded_binary(x_test, normalized_query)\n",
    "\n",
    "    # normalize encoded datasets\n",
    "    encoded_train = normalize(encoded_train)\n",
    "    encoded_test = normalize(encoded_test)\n",
    "\n",
    "    # save encoded datasets\n",
    "    save_encoded_binary(encoded_train, encoded_dataset)\n",
    "    save_encoded_binary(encoded_test, encoded_query)"
   ]
  },
  {
   "cell_type": "code",
   "execution_count": null,
   "metadata": {
    "execution": {
     "iopub.execute_input": "2024-01-06T10:57:08.885522Z",
     "iopub.status.busy": "2024-01-06T10:57:08.885127Z",
     "iopub.status.idle": "2024-01-06T10:57:08.892678Z",
     "shell.execute_reply": "2024-01-06T10:57:08.891867Z"
    }
   },
   "outputs": [],
   "source": [
    "best_params_lsh = [7, 4, 1875, 0, 0.6]      # k, L, table_size, query_trick, window\n",
    "best_params_hypercube = [3, 67, 1000, 0.42] # k, M, probes, window\n",
    "\n",
    "# k, E, R\n",
    "best_params_gnns = {'model_conv_46.keras':  [92, 44, 9],\n",
    "                    'model_conv_12.keras':  [86, 59, 8],\n",
    "                    'model_conv_19.keras':  [96, 87, 7],\n",
    "                    'model_dense_26.keras': [70, 69, 9],\n",
    "                    'model_dense_43.keras': [100, 66, 10], \n",
    "                    'model_dense_1.keras':  [64, 58, 10]}\n",
    "\n",
    "# l\n",
    "best_params_mrng = {'model_dense_26.keras': [883],\n",
    "                    'model_conv_46.keras':  [859],\n",
    "                    'model_conv_19.keras':  [507],\n",
    "                    'model_dense_1.keras':  [428],\n",
    "                    'model_dense_43.keras': [818], \n",
    "                    'model_conv_12.keras':  [814]}\n",
    "\n",
    "# l, m, k, lq\n",
    "best_params_nsg = {'model_dense_26.keras': [987, 52, 69, 667],\n",
    "                   'model_conv_46.keras':  [987, 43, 87, 476],\n",
    "                   'model_dense_43.keras': [960, 102, 86, 768],\n",
    "                   'model_dense_1.keras':  [996, 11, 98, 657],\n",
    "                   'model_conv_12.keras':  [635, 197, 50, 907],\n",
    "                   'model_conv_19.keras':  [663, 99, 41, 533]}\n",
    "\n",
    "rows = []"
   ]
  },
  {
   "cell_type": "code",
   "execution_count": null,
   "metadata": {
    "execution": {
     "iopub.execute_input": "2024-01-06T10:57:08.896576Z",
     "iopub.status.busy": "2024-01-06T10:57:08.896292Z",
     "iopub.status.idle": "2024-01-06T10:57:08.911819Z",
     "shell.execute_reply": "2024-01-06T10:57:08.911064Z"
    }
   },
   "outputs": [],
   "source": [
    "def run_brute_force(model):\n",
    "    normalized_dataset, normalized_query, encoded_dataset, encoded_query = model_to_files[model]\n",
    "\n",
    "    conf = {\n",
    "        'model': b'BRUTE',\n",
    "        'vals': [],\n",
    "        'dataset': normalized_dataset,\n",
    "        'query': normalized_query,\n",
    "        'encoded_query': encoded_query,\n",
    "        'encoded_dataset': encoded_dataset\n",
    "    }\n",
    "\n",
    "    aaf_lat_init, average_time = get_aaf(100, conf)\n",
    "\n",
    "    print(\"Average time           :\", average_time.value)\n",
    "    print(\"AAF (latent to initial):\", aaf_lat_init.value)\n",
    "    print(\"-------------------------\")\n",
    "\n",
    "    rows.append([model, 'BRUTE', average_time.value, aaf_lat_init.value])\n",
    "\n",
    "def run_lsh(model):\n",
    "    normalized_dataset, normalized_query, encoded_dataset, encoded_query = model_to_files[model]\n",
    "    \n",
    "    conf = {\n",
    "        'model': b'LSH',\n",
    "        'vals': best_params_lsh[:-1],\n",
    "        'window': best_params_lsh[-1],\n",
    "        'dataset': normalized_dataset,\n",
    "        'query': normalized_query,\n",
    "        'encoded_query': encoded_query,\n",
    "        'encoded_dataset': encoded_dataset\n",
    "    }\n",
    "\n",
    "    aaf_lat_init, average_time = get_aaf(100, conf)\n",
    "\n",
    "    print(\"Average time           :\", average_time.value)\n",
    "    print(\"AAF (latent to initial):\", aaf_lat_init.value)\n",
    "    print(\"-------------------------\")\n",
    "\n",
    "    rows.append([model, 'LSH', average_time.value, aaf_lat_init.value])\n",
    "\n",
    "def run_hypercube(model):\n",
    "    normalized_dataset, normalized_query, encoded_dataset, encoded_query = model_to_files[model]\n",
    "    \n",
    "    conf = {\n",
    "        'model': b'CUBE',\n",
    "        'vals': best_params_hypercube[:-1],\n",
    "        'window': best_params_hypercube[-1],\n",
    "        'dataset': normalized_dataset,\n",
    "        'query': normalized_query,\n",
    "        'encoded_query': encoded_query,\n",
    "        'encoded_dataset': encoded_dataset\n",
    "    }\n",
    "\n",
    "    aaf_lat_init, average_time = get_aaf(100, conf)\n",
    "\n",
    "    print(\"Average time           :\", average_time.value)\n",
    "    print(\"AAF (latent to initial):\", aaf_lat_init.value)\n",
    "    print(\"-------------------------\")\n",
    "\n",
    "    rows.append([model, 'CUBE', average_time.value, aaf_lat_init.value])\n",
    "\n",
    "def run_gnns(model):\n",
    "    normalized_dataset, normalized_query, encoded_dataset, encoded_query = model_to_files[model]\n",
    "    \n",
    "    conf = {\n",
    "        'model': b'GNNS',\n",
    "        'vals': best_params_gnns[model],\n",
    "        'dataset': normalized_dataset,\n",
    "        'query': normalized_query,\n",
    "        'encoded_query': encoded_query,\n",
    "        'encoded_dataset': encoded_dataset\n",
    "    }\n",
    "\n",
    "    aaf_lat_init, average_time = get_aaf(100, conf)\n",
    "\n",
    "    print(\"Average time           :\", average_time.value)\n",
    "    print(\"AAF (latent to initial):\", aaf_lat_init.value)\n",
    "    print(\"-------------------------\")\n",
    "\n",
    "    rows.append([model, 'GNNS', average_time.value, aaf_lat_init.value])\n",
    "\n",
    "def run_mrng(model):\n",
    "    normalized_dataset, normalized_query, encoded_dataset, encoded_query = model_to_files[model]\n",
    "    \n",
    "    conf = {\n",
    "        'model': b'MRNG',\n",
    "        'vals': best_params_mrng[model],\n",
    "        'dataset': normalized_dataset,\n",
    "        'query': normalized_query,\n",
    "        'encoded_query': encoded_query,\n",
    "        'encoded_dataset': encoded_dataset\n",
    "    }\n",
    "\n",
    "    aaf_lat_init, average_time = get_aaf(100, conf)\n",
    "\n",
    "    print(\"Average time           :\", average_time.value)\n",
    "    print(\"AAF (latent to initial):\", aaf_lat_init.value)\n",
    "    print(\"-------------------------\")\n",
    "\n",
    "    rows.append([model, 'MRNG', average_time.value, aaf_lat_init.value])\n",
    "\n",
    "def run_nsg(model):\n",
    "    normalized_dataset, normalized_query, encoded_dataset, encoded_query = model_to_files[model]\n",
    "    \n",
    "    conf = {\n",
    "        'model': b'NSG',\n",
    "        'vals': best_params_nsg[model],\n",
    "        'dataset': normalized_dataset,\n",
    "        'query': normalized_query,\n",
    "        'encoded_query': encoded_query,\n",
    "        'encoded_dataset': encoded_dataset\n",
    "    }\n",
    "\n",
    "    aaf_lat_init, average_time = get_aaf(100, conf)\n",
    "\n",
    "    print(\"Average time           :\", average_time.value)\n",
    "    print(\"AAF (latent to initial):\", aaf_lat_init.value)\n",
    "    print(\"-------------------------\")\n",
    "\n",
    "    rows.append([model, 'NSG', average_time.value, aaf_lat_init.value])"
   ]
  },
  {
   "cell_type": "code",
   "execution_count": null,
   "metadata": {
    "execution": {
     "iopub.execute_input": "2024-01-06T10:57:08.915353Z",
     "iopub.status.busy": "2024-01-06T10:57:08.915028Z",
     "iopub.status.idle": "2024-01-06T12:04:11.279249Z",
     "shell.execute_reply": "2024-01-06T12:04:11.278521Z"
    }
   },
   "outputs": [],
   "source": [
    "algorithms_to_functions = {'BRUTE': run_brute_force,\n",
    "                           'LSH'  : run_lsh,\n",
    "                           'CUBE' : run_hypercube,\n",
    "                           'GNNS' : run_gnns,\n",
    "                           'MRNG' : run_mrng,\n",
    "                           'NSG'  : run_nsg}\n",
    "\n",
    "pool = ThreadPool(processes=4)\n",
    "\n",
    "for model in models:\n",
    "    for algorithm in algorithms_to_functions:\n",
    "        pool.apply_async(algorithms_to_functions[algorithm], (model,))\n",
    "\n",
    "pool.close()\n",
    "pool.join()"
   ]
  },
  {
   "cell_type": "code",
   "execution_count": null,
   "metadata": {
    "execution": {
     "iopub.execute_input": "2024-01-06T12:04:11.283331Z",
     "iopub.status.busy": "2024-01-06T12:04:11.282520Z",
     "iopub.status.idle": "2024-01-06T12:04:11.303922Z",
     "shell.execute_reply": "2024-01-06T12:04:11.302971Z"
    }
   },
   "outputs": [],
   "source": [
    "col_models, col_algorithms, col_average_time, col_aaf_lat_init = [], [], [], []\n",
    "\n",
    "for row in rows:\n",
    "    model, algorithm, average_time, aaf_lat_init = row\n",
    "\n",
    "    col_models.append(model)\n",
    "    col_algorithms.append(algorithm)\n",
    "    col_average_time.append(average_time)\n",
    "    col_aaf_lat_init.append(aaf_lat_init)\n",
    "\n",
    "col_dict = {'model': col_models, 'algorithm': col_algorithms,\n",
    "            'average time': col_average_time, 'AAF (latent to initial)': col_aaf_lat_init}\n",
    "\n",
    "df = pandas.DataFrame(data=col_dict)\n",
    "df"
   ]
  },
  {
   "cell_type": "code",
   "execution_count": null,
   "metadata": {
    "execution": {
     "iopub.execute_input": "2024-01-06T12:04:11.308514Z",
     "iopub.status.busy": "2024-01-06T12:04:11.308125Z",
     "iopub.status.idle": "2024-01-06T12:04:11.325267Z",
     "shell.execute_reply": "2024-01-06T12:04:11.323818Z"
    }
   },
   "outputs": [],
   "source": [
    "df_sorted = df.copy(deep=True)\n",
    "df_sorted = df_sorted.sort_values(by='model', ascending=True)\n",
    "df_sorted = df_sorted.reset_index(drop=True)\n",
    "df_sorted"
   ]
  },
  {
   "cell_type": "code",
   "execution_count": null,
   "metadata": {
    "execution": {
     "iopub.execute_input": "2024-01-06T12:04:11.330237Z",
     "iopub.status.busy": "2024-01-06T12:04:11.329324Z",
     "iopub.status.idle": "2024-01-06T12:04:11.344335Z",
     "shell.execute_reply": "2024-01-06T12:04:11.343298Z"
    }
   },
   "outputs": [],
   "source": [
    "df_sorted = df.copy(deep=True)\n",
    "df_sorted = df_sorted.sort_values(by='algorithm', ascending=True)\n",
    "df_sorted = df_sorted.reset_index(drop=True)\n",
    "df_sorted"
   ]
  },
  {
   "attachments": {},
   "cell_type": "markdown",
   "metadata": {},
   "source": [
    "# Results\n",
    "\n",
    "## Best algorithm for each latent space\n",
    "\n",
    "| model | latent dimension | best (AAF) | best (average query time) |\n",
    "|:-----:|:----------------:|:----:|:------------------:|\n",
    "| `model_conv_12.keras`    | $25$ | GNNS | CUBE |\n",
    "| `model_conv_19.keras`    | $32$ | LSH  | CUBE |\n",
    "| `model_conv_46.keras`    | $18$ | MRNG | CUBE |\n",
    "| `model_dense_1.keras`    | $46$ | NSG  | CUBE |\n",
    "| `model_dense_26.keras`   | $23$ | CUBE | LSH  |\n",
    "| `model_dense_43.keras`   | $33$ | MRNG | CUBE |\n",
    "\n",
    "## Worst algorithm for each latent space\n",
    "\n",
    "| model | latent dimension | worst (AAF) | worst (average query time) |\n",
    "|:-----:|:----------------:|:----:|:------------------:|\n",
    "| `model_conv_12.keras`    | $25$ | NSG  | BRUTE |\n",
    "| `model_conv_19.keras`    | $32$ | MRNG | BRUTE |\n",
    "| `model_conv_46.keras`    | $18$ | NSG  | LSH   |\n",
    "| `model_dense_1.keras`    | $46$ | LSH  | BRUTE |\n",
    "| `model_dense_26.keras`   | $23$ | NSG  | BRUTE |\n",
    "| `model_dense_43.keras`   | $33$ | NSG  | BRUTE |\n",
    "\n",
    "## Average construction time in initial and latent space\n",
    "\n",
    "|      | initial       | latent    |\n",
    "|:----:|:-------------:|:---------:|\n",
    "| LSH  | $1$ min       | $1-3$ sec |\n",
    "| CUBE | $30$ sec      | $4-7$ sec |\n",
    "| GNNS | $50-70$ sec   | $30-70$ sec |\n",
    "| MRNG | $8$ h         | $20-30$ min |\n",
    "| NSG  | $15-40$ min   | $10-20$ min |"
   ]
  },
  {
   "attachments": {},
   "cell_type": "markdown",
   "metadata": {},
   "source": [
    "# Conclusions\n",
    "\n",
    "The MRNG algorithm is the best for most latent spaces in terms of AAF.\n",
    "\n",
    "On the other hand, the Hypercube algorithm is the best in terms of average query time for almost all latent spaces and yields a very good AAF, very close to the best AAF recorded for all latent spaces.\n",
    "\n",
    "The NSG tends to be the worst algorithm when it comes to latent spaces of smaller dimensions.\n",
    "\n",
    "The average query time for the brute-force algorithm reduced from $0.5$ sec to $0.03$ sec when the latent space encodings were introduced.\n",
    "\n",
    "The brute force algorithm is the worst in terms of average query time for almost all latent spaces, regardless of the dimension of the latent space.\n",
    "<br></br>\n",
    "\n",
    "In lower dimensions, approximate algorithms are not as efficient in time as in higher dimensions. In dimensions less than $50$, we see an improvement of $1-2$ orders of magnitude in the average query time, while in higher dimensions, the improvement is $3-4$ orders of magnitude.\n",
    "<br></br>\n",
    "\n",
    "All algorithms yield AAF values very close to $2.7$ and very close to the ones yielded by the brute-force algorithm.\n",
    "<br></br>\n",
    "\n",
    "The average construction time of all algorithms in the latent space has decreased. However, the largest difference in construction times was recoded in MRNG, to the extent that allows us to take advantage of the dimensionality reduction. Instead of spending $8$ hours for the construction of the graph in the initial space, we train an autoencoder in approximately $2$ hours and then run the MRNG algorithm in the latent space for about $2-2.5$ hours instead, with very little difference in the final results in terms of AAF."
   ]
  },
  {
   "attachments": {},
   "cell_type": "markdown",
   "metadata": {},
   "source": [
    "We do not gain much between AAF and query time when we use the latent space encodings as the AAF between the two spaces is much higher than the AAF in initial space ($2.7$ vs $<1.5$), and times are not changing dramatically (~$0.01$ vs ~$0.001$) for almost all algorithms. However, we gain a lot in terms of construction time (~$2$ mins to construct the NN autoencoder) and approximate algorithms are much faster in the latent space than in the initial space as we have seen above.\n",
    "<br></br>\n",
    "\n",
    "For all the algorithms in latent space, only Hypercube seems to be the best algorithm in terms of average query time. It needs less than $10^{-4}$ secs for finding a nearest neighbor to a query point, and is very close to brute force AAF (~$2.7$ both)."
   ]
  },
  {
   "attachments": {},
   "cell_type": "markdown",
   "metadata": {},
   "source": [
    "Especially in latent spaces of lower dimensions, nearest neighbor search does not perform well on average. For our limited dataset, this is probably due to the fact that when a digit gets encoded to the latent space, it loses its accurate representation, though that loss is quite small. In most cases, the digit gets encoded to a more \"generalized\" shape of the same digit (e.g. a calligraphic digit probably gets mapped to a more \"normalized\" version). So, AAF ~$3$ could mean that an ANN algorithm finds the average nearest neighbor 3 times farther than the real nearest neighbor. Despite this, the probability that it is still the same digit (as autoencoder loss is very small) is high."
   ]
  }
 ],
 "metadata": {
  "kernelspec": {
   "display_name": "tf",
   "language": "python",
   "name": "python3"
  },
  "language_info": {
   "codemirror_mode": {
    "name": "ipython",
    "version": 3
   },
   "file_extension": ".py",
   "mimetype": "text/x-python",
   "name": "python",
   "nbconvert_exporter": "python",
   "pygments_lexer": "ipython3",
   "version": "3.10.13"
  }
 },
 "nbformat": 4,
 "nbformat_minor": 2
}
