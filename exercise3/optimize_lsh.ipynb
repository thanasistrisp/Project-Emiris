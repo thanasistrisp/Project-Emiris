{
 "cells": [
  {
   "cell_type": "code",
   "execution_count": 1,
   "metadata": {},
   "outputs": [
    {
     "name": "stderr",
     "output_type": "stream",
     "text": [
      "2023-12-31 02:00:30.476603: I tensorflow/tsl/cuda/cudart_stub.cc:28] Could not find cuda drivers on your machine, GPU will not be used.\n",
      "2023-12-31 02:00:30.909116: I tensorflow/tsl/cuda/cudart_stub.cc:28] Could not find cuda drivers on your machine, GPU will not be used.\n",
      "2023-12-31 02:00:30.909952: I tensorflow/core/platform/cpu_feature_guard.cc:182] This TensorFlow binary is optimized to use available CPU instructions in performance-critical operations.\n",
      "To enable the following instructions: AVX2 FMA, in other operations, rebuild TensorFlow with the appropriate compiler flags.\n",
      "2023-12-31 02:00:31.932991: W tensorflow/compiler/tf2tensorrt/utils/py_utils.cc:38] TF-TRT Warning: Could not find TensorRT\n",
      "/home/thantrisp/miniconda3/envs/tf/lib/python3.10/site-packages/tqdm/auto.py:21: TqdmWarning: IProgress not found. Please update jupyter and ipywidgets. See https://ipywidgets.readthedocs.io/en/stable/user_install.html\n",
      "  from .autonotebook import tqdm as notebook_tqdm\n"
     ]
    }
   ],
   "source": [
    "import os\n",
    "\n",
    "import numpy as np\n",
    "\n",
    "from tensorflow.keras.models import load_model\n",
    "\n",
    "from autoencoder import Autoencoder\n",
    "from helper_funcs import *\n",
    "\n",
    "import pandas\n",
    "\n",
    "import optuna\n",
    "from optuna.visualization import plot_pareto_front, plot_optimization_history, plot_slice\n",
    "\n",
    "from params import lsh_test, hypercube_test, kmeans_test, gnn_test, mrng_test, nsg_test, get_aaf"
   ]
  },
  {
   "cell_type": "code",
   "execution_count": 2,
   "metadata": {},
   "outputs": [],
   "source": [
    "models = os.listdir('./models/')\n",
    "\n",
    "dataset = b'MNIST/input.dat'\n",
    "query   = b'MNIST/query.dat'\n",
    "\n",
    "model_to_files = {}\n",
    "for i, model in enumerate(models):\n",
    "    normalized_dataset = b'MNIST/' + models[i].removesuffix('.keras').encode() + b'_normalized_dataset.dat'\n",
    "    normalized_query   = b'MNIST/' + models[i].removesuffix('.keras').encode() + b'_normalized_query.dat'\n",
    "    encoded_dataset    = b'MNIST/' + models[i].removesuffix('.keras').encode() + b'_encoded_dataset.dat'\n",
    "    encoded_query      = b'MNIST/' + models[i].removesuffix('.keras').encode() + b'_encoded_query.dat'\n",
    "    decoded_dataset    = b'MNIST/' + models[i].removesuffix('.keras').encode() + b'_decoded_dataset.dat'\n",
    "    decoded_query      = b'MNIST/' + models[i].removesuffix('.keras').encode() + b'_decoded_query.dat'\n",
    "\n",
    "    model_to_files.update({models[i] : [normalized_dataset, normalized_query,\n",
    "                                        encoded_dataset, encoded_query,\n",
    "                                        decoded_dataset, decoded_query]})\n",
    "\n",
    "n = 60000"
   ]
  },
  {
   "cell_type": "code",
   "execution_count": 3,
   "metadata": {},
   "outputs": [
    {
     "name": "stdout",
     "output_type": "stream",
     "text": [
      "1875/1875 [==============================] - 9s 5ms/step\n",
      "313/313 [==============================] - 1s 4ms/step\n",
      "1875/1875 [==============================] - 12s 6ms/step\n",
      "313/313 [==============================] - 2s 6ms/step\n",
      "1875/1875 [==============================] - 11s 6ms/step\n",
      "313/313 [==============================] - 1s 5ms/step\n",
      "1875/1875 [==============================] - 11s 6ms/step\n",
      "313/313 [==============================] - 2s 6ms/step\n",
      "1875/1875 [==============================] - 9s 5ms/step\n",
      "313/313 [==============================] - 2s 5ms/step\n",
      "1875/1875 [==============================] - 12s 7ms/step\n",
      "313/313 [==============================] - 2s 7ms/step\n",
      "1875/1875 [==============================] - 2s 1ms/step\n",
      "313/313 [==============================] - 0s 1ms/step\n",
      "1875/1875 [==============================] - 3s 1ms/step\n",
      "313/313 [==============================] - 1s 1ms/step\n",
      "1875/1875 [==============================] - 3s 1ms/step\n",
      "313/313 [==============================] - 0s 1ms/step\n",
      "1875/1875 [==============================] - 3s 1ms/step\n",
      "313/313 [==============================] - 0s 1ms/step\n",
      "1875/1875 [==============================] - 3s 2ms/step\n",
      "313/313 [==============================] - 1s 2ms/step\n",
      "1875/1875 [==============================] - 3s 2ms/step\n",
      "313/313 [==============================] - 1s 2ms/step\n"
     ]
    }
   ],
   "source": [
    "for model in model_to_files:\n",
    "    normalized_dataset, normalized_query, encoded_dataset, encoded_query, decoded_dataset, decoded_query = model_to_files[model]\n",
    "\n",
    "    model = b'models/' + model.encode()\n",
    "\n",
    "    # load model\n",
    "    autoencoder = load_model(model.decode())\n",
    "    shape = autoencoder.layers[-2].output_shape[1:] # get shape of encoded layer\n",
    "\n",
    "    # load dataset\n",
    "    x_train = load_dataset(dataset)\n",
    "    x_train = x_train.astype('float32') / 255.\n",
    "    x_test = load_dataset(query)\n",
    "    x_test = x_test.astype('float32') / 255.\n",
    "    if len(shape) == 3: # if model type is convolutional\n",
    "        x_train = np.reshape(x_train, (len(x_train), 28, 28, 1))\n",
    "        x_test = np.reshape(x_test, (len(x_test), 28, 28, 1))\n",
    "    else:\n",
    "        x_train = np.reshape(x_train, (len(x_train), 784))\n",
    "        x_test = np.reshape(x_test, (len(x_test), 784))\n",
    "\n",
    "    encoded_train = autoencoder.encode(x_train)\n",
    "    encoded_test = autoencoder.encode(x_test)\n",
    "\n",
    "    # deflatten encoded datasets\n",
    "    encoded_train = deflatten_encoded(encoded_train, shape)\n",
    "    encoded_test = deflatten_encoded(encoded_test, shape)\n",
    "\n",
    "    # decode encoded datasets\n",
    "    decoded_train = autoencoder.decode(encoded_train)\n",
    "    decoded_test = autoencoder.decode(encoded_test)\n",
    "\n",
    "    # save original datasets normalized\n",
    "    save_decoded_binary(x_train, normalized_dataset)\n",
    "    save_decoded_binary(x_test, normalized_query)\n",
    "\n",
    "    # normalize encoded datasets\n",
    "    encoded_train = normalize(encoded_train)\n",
    "    encoded_test = normalize(encoded_test)\n",
    "\n",
    "    # save encoded datasets\n",
    "    save_encoded_binary(encoded_train, encoded_dataset)\n",
    "    save_encoded_binary(encoded_test, encoded_query)\n",
    "\n",
    "    # normalize decoded datasets\n",
    "    decoded_train = normalize(decoded_train)\n",
    "    decoded_test = normalize(decoded_test)\n",
    "\n",
    "    # save decoded datasets\n",
    "    save_decoded_binary(decoded_train, decoded_dataset)\n",
    "    save_decoded_binary(decoded_test, decoded_query)"
   ]
  },
  {
   "cell_type": "code",
   "execution_count": 6,
   "metadata": {},
   "outputs": [],
   "source": [
    "def objective_lsh(trial):\n",
    "    model = trial.suggest_categorical('model', model_to_files.keys())\n",
    "    param_dict = {'k': trial.suggest_int('k', 1, 10),\n",
    "                  'L': trial.suggest_int('L', 1, 10),\n",
    "                  'table_size':  trial.suggest_categorical('table_size', [int(n/32), int(n/16), int(n/8)]),\n",
    "                  'window_size': trial.suggest_float('window_size', 0.01, 1),\n",
    "                  'query_trick': trial.suggest_categorical('query_trick', [True, False])\n",
    "                 }\n",
    "    \n",
    "    print(\"Trial parameters:\", param_dict)\n",
    "\n",
    "    encoded_dataset, encoded_query = model_to_files[model][2:4]\n",
    "\n",
    "    average_time, aaf_latent, min_neighbors = lsh_test(encoded_dataset, encoded_query, queries_num=100, **param_dict, N=60)\n",
    "\n",
    "    # trial should return at least 60 neighbors to be used in GNNS\n",
    "    # penalize model if slower than brute force\n",
    "    c0 = - min_neighbors.value + 60\n",
    "    c1 = average_time.value - 1e-4\n",
    "    trial.set_user_attr('constraint', (c0, c1))\n",
    "\n",
    "    return aaf_latent.value, average_time.value\n",
    "\n",
    "def constraints(trial):\n",
    "    return trial.user_attrs['constraint']"
   ]
  },
  {
   "cell_type": "code",
   "execution_count": 7,
   "metadata": {},
   "outputs": [
    {
     "name": "stderr",
     "output_type": "stream",
     "text": [
      "[I 2023-12-31 02:02:48,229] A new study created in memory with name: lsh\n"
     ]
    },
    {
     "name": "stdout",
     "output_type": "stream",
     "text": [
      "Trial parameters: {'k': 6, 'L': 5, 'table_size': 1875, 'window_size': 1, 'query_trick': True}\n",
      "Trial parameters: {'k': 4, 'L': 6, 'table_size': 3750, 'window_size': 0, 'query_trick': False}\n",
      "Trial parameters: {'k': 1, 'L': 8, 'table_size': 1875, 'window_size': 1, 'query_trick': False}\n",
      "Trial parameters: {'k': 2, 'L': 3, 'table_size': 3750, 'window_size': 0, 'query_trick': True}\n",
      "Trial parameters: {'k': 8, 'L': 10, 'table_size': 1875, 'window_size': 1, 'query_trick': True}\n",
      "Trial parameters: {'k': 8, 'L': 4, 'table_size': 7500, 'window_size': 0, 'query_trick': False}\n",
      "Trial parameters: {'k': 3, 'L': 2, 'table_size': 7500, 'window_size': 0, 'query_trick': False}\n",
      "Trial parameters: {'k': 8, 'L': 5, 'table_size': 7500, 'window_size': 0, 'query_trick': False}\n",
      "Trial parameters: {'k': 5, 'L': 7, 'table_size': 7500, 'window_size': 1, 'query_trick': True}\n",
      "Trial parameters: {'k': 6, 'L': 2, 'table_size': 1875, 'window_size': 0, 'query_trick': False}\n",
      "Trial parameters: {'k': 4, 'L': 7, 'table_size': 1875, 'window_size': 1, 'query_trick': True}\n",
      "Trial parameters: {'k': 9, 'L': 10, 'table_size': 3750, 'window_size': 1, 'query_trick': True}\n"
     ]
    },
    {
     "name": "stderr",
     "output_type": "stream",
     "text": [
      "[I 2023-12-31 02:02:50,577] Trial 2 finished with values: [1.5032889047955507, 0.009155769999999999] and parameters: {'model': 'model_conv_46.keras', 'k': 1, 'L': 8, 'table_size': 1875, 'window_size': 1, 'query_trick': False}. \n"
     ]
    },
    {
     "name": "stdout",
     "output_type": "stream",
     "text": [
      "Trial parameters: {'k': 10, 'L': 10, 'table_size': 3750, 'window_size': 0, 'query_trick': True}\n"
     ]
    },
    {
     "name": "stderr",
     "output_type": "stream",
     "text": [
      "[W 2023-12-31 02:02:52,447] Trial 0 failed with parameters: {'model': 'model_conv_46.keras', 'k': 6, 'L': 5, 'table_size': 1875, 'window_size': 1, 'query_trick': True} because of the following error: The value nan is not acceptable.\n",
      "[W 2023-12-31 02:02:52,450] Trial 0 failed with value (nan, 0.0016034000000000005).\n"
     ]
    },
    {
     "name": "stdout",
     "output_type": "stream",
     "text": [
      "Trial parameters: {'k': 10, 'L': 9, 'table_size': 1875, 'window_size': 1, 'query_trick': False}\n"
     ]
    },
    {
     "name": "stderr",
     "output_type": "stream",
     "text": [
      "[W 2023-12-31 02:02:53,246] Trial 11 failed with parameters: {'model': 'model_dense_43.keras', 'k': 5, 'L': 7, 'table_size': 7500, 'window_size': 1, 'query_trick': True} because of the following error: The value nan is not acceptable.\n",
      "[W 2023-12-31 02:02:53,247] Trial 11 failed with value (nan, 0.00114518).\n"
     ]
    },
    {
     "name": "stdout",
     "output_type": "stream",
     "text": [
      "Trial parameters: {'k': 1, 'L': 10, 'table_size': 1875, 'window_size': 0, 'query_trick': True}\n"
     ]
    },
    {
     "name": "stderr",
     "output_type": "stream",
     "text": [
      "[I 2023-12-31 02:02:55,093] Trial 8 finished with values: [0.999908201704201, 0.46837748999999973] and parameters: {'model': 'model_conv_46.keras', 'k': 6, 'L': 2, 'table_size': 1875, 'window_size': 0, 'query_trick': False}. \n",
      "[W 2023-12-31 02:02:55,113] Trial 9 failed with parameters: {'model': 'model_dense_1.keras', 'k': 4, 'L': 7, 'table_size': 1875, 'window_size': 1, 'query_trick': True} because of the following error: The value nan is not acceptable.\n",
      "[W 2023-12-31 02:02:55,114] Trial 9 failed with value (nan, 0.0034774800000000024).\n"
     ]
    },
    {
     "name": "stdout",
     "output_type": "stream",
     "text": [
      "Trial parameters: {'k': 8, 'L': 2, 'table_size': 7500, 'window_size': 0, 'query_trick': True}\n",
      "Trial parameters: {'k': 6, 'L': 10, 'table_size': 7500, 'window_size': 1, 'query_trick': False}\n"
     ]
    },
    {
     "name": "stderr",
     "output_type": "stream",
     "text": [
      "[W 2023-12-31 02:02:55,945] Trial 4 failed with parameters: {'model': 'model_conv_12.keras', 'k': 8, 'L': 10, 'table_size': 1875, 'window_size': 1, 'query_trick': True} because of the following error: The value nan is not acceptable.\n",
      "[W 2023-12-31 02:02:55,946] Trial 4 failed with value (nan, 0.005300389999999999).\n"
     ]
    },
    {
     "name": "stdout",
     "output_type": "stream",
     "text": [
      "Trial parameters: {'k': 2, 'L': 5, 'table_size': 7500, 'window_size': 1, 'query_trick': True}\n"
     ]
    },
    {
     "name": "stderr",
     "output_type": "stream",
     "text": [
      "[I 2023-12-31 02:02:56,172] Trial 6 finished with values: [0.999951183835149, 0.5095927000000001] and parameters: {'model': 'model_dense_43.keras', 'k': 3, 'L': 2, 'table_size': 7500, 'window_size': 0, 'query_trick': False}. \n"
     ]
    },
    {
     "name": "stdout",
     "output_type": "stream",
     "text": [
      "Trial parameters: {'k': 3, 'L': 3, 'table_size': 1875, 'window_size': 0, 'query_trick': False}\n"
     ]
    },
    {
     "name": "stderr",
     "output_type": "stream",
     "text": [
      "[W 2023-12-31 02:02:57,307] Trial 10 failed with parameters: {'model': 'model_dense_1.keras', 'k': 9, 'L': 10, 'table_size': 3750, 'window_size': 1, 'query_trick': True} because of the following error: The value nan is not acceptable.\n",
      "[W 2023-12-31 02:02:57,309] Trial 10 failed with value (nan, 0.0032336699999999997).\n"
     ]
    },
    {
     "name": "stdout",
     "output_type": "stream",
     "text": [
      "Trial parameters: {'k': 1, 'L': 10, 'table_size': 3750, 'window_size': 0, 'query_trick': True}\n"
     ]
    },
    {
     "name": "stderr",
     "output_type": "stream",
     "text": [
      "[I 2023-12-31 02:02:58,884] Trial 13 finished with values: [1.5375706518476722, 0.0045239600000000005] and parameters: {'model': 'model_conv_12.keras', 'k': 10, 'L': 9, 'table_size': 1875, 'window_size': 1, 'query_trick': False}. \n"
     ]
    },
    {
     "name": "stdout",
     "output_type": "stream",
     "text": [
      "Trial parameters: {'k': 3, 'L': 5, 'table_size': 7500, 'window_size': 0, 'query_trick': False}\n"
     ]
    },
    {
     "name": "stderr",
     "output_type": "stream",
     "text": [
      "[W 2023-12-31 02:02:59,591] Trial 17 failed with parameters: {'model': 'model_dense_26.keras', 'k': 2, 'L': 5, 'table_size': 7500, 'window_size': 1, 'query_trick': True} because of the following error: The value nan is not acceptable.\n",
      "[W 2023-12-31 02:02:59,594] Trial 17 failed with value (nan, 0.00110546).\n"
     ]
    },
    {
     "name": "stdout",
     "output_type": "stream",
     "text": [
      "Trial parameters: {'k': 4, 'L': 4, 'table_size': 3750, 'window_size': 0, 'query_trick': False}\n"
     ]
    },
    {
     "name": "stderr",
     "output_type": "stream",
     "text": [
      "[I 2023-12-31 02:03:00,351] Trial 3 finished with values: [0.9999845110546619, 0.85213341] and parameters: {'model': 'model_dense_1.keras', 'k': 2, 'L': 3, 'table_size': 3750, 'window_size': 0, 'query_trick': True}. \n"
     ]
    },
    {
     "name": "stdout",
     "output_type": "stream",
     "text": [
      "Trial parameters: {'k': 1, 'L': 7, 'table_size': 3750, 'window_size': 1, 'query_trick': False}\n"
     ]
    },
    {
     "name": "stderr",
     "output_type": "stream",
     "text": [
      "[I 2023-12-31 02:03:00,781] Trial 5 finished with values: [0.999951183835149, 0.9263925799999997] and parameters: {'model': 'model_dense_43.keras', 'k': 8, 'L': 4, 'table_size': 7500, 'window_size': 0, 'query_trick': False}. \n"
     ]
    },
    {
     "name": "stdout",
     "output_type": "stream",
     "text": [
      "Trial parameters: {'k': 7, 'L': 10, 'table_size': 7500, 'window_size': 1, 'query_trick': False}\n"
     ]
    },
    {
     "name": "stderr",
     "output_type": "stream",
     "text": [
      "[I 2023-12-31 02:03:01,272] Trial 16 finished with values: [1.8048059634390878, 0.0038952999999999982] and parameters: {'model': 'model_conv_12.keras', 'k': 6, 'L': 10, 'table_size': 7500, 'window_size': 1, 'query_trick': False}. \n"
     ]
    },
    {
     "name": "stdout",
     "output_type": "stream",
     "text": [
      "Trial parameters: {'k': 1, 'L': 1, 'table_size': 1875, 'window_size': 1, 'query_trick': True}\n"
     ]
    },
    {
     "name": "stderr",
     "output_type": "stream",
     "text": [
      "[I 2023-12-31 02:03:01,881] Trial 7 finished with values: [0.9998639081922337, 1.1055373900000003] and parameters: {'model': 'model_dense_26.keras', 'k': 8, 'L': 5, 'table_size': 7500, 'window_size': 0, 'query_trick': False}. \n",
      "[I 2023-12-31 02:03:01,963] Trial 15 finished with values: [0.9998639081922337, 0.45592603] and parameters: {'model': 'model_dense_26.keras', 'k': 8, 'L': 2, 'table_size': 7500, 'window_size': 0, 'query_trick': True}. \n"
     ]
    },
    {
     "name": "stdout",
     "output_type": "stream",
     "text": [
      "Trial parameters: {'k': 10, 'L': 3, 'table_size': 1875, 'window_size': 0, 'query_trick': True}\n",
      "Trial parameters: {'k': 2, 'L': 3, 'table_size': 3750, 'window_size': 0, 'query_trick': False}\n"
     ]
    },
    {
     "name": "stderr",
     "output_type": "stream",
     "text": [
      "[I 2023-12-31 02:03:03,780] Trial 22 finished with values: [1.4050596036710312, 0.009946059999999998] and parameters: {'model': 'model_conv_12.keras', 'k': 1, 'L': 7, 'table_size': 3750, 'window_size': 1, 'query_trick': False}. \n"
     ]
    },
    {
     "name": "stdout",
     "output_type": "stream",
     "text": [
      "Trial parameters: {'k': 7, 'L': 4, 'table_size': 1875, 'window_size': 0, 'query_trick': False}\n"
     ]
    },
    {
     "name": "stderr",
     "output_type": "stream",
     "text": [
      "[W 2023-12-31 02:03:04,522] Trial 24 failed with parameters: {'model': 'model_dense_43.keras', 'k': 1, 'L': 1, 'table_size': 1875, 'window_size': 1, 'query_trick': True} because of the following error: The value nan is not acceptable.\n",
      "[W 2023-12-31 02:03:04,523] Trial 24 failed with value (nan, 0.0012284099999999999).\n"
     ]
    },
    {
     "name": "stdout",
     "output_type": "stream",
     "text": [
      "Trial parameters: {'k': 1, 'L': 5, 'table_size': 7500, 'window_size': 1, 'query_trick': True}\n"
     ]
    },
    {
     "name": "stderr",
     "output_type": "stream",
     "text": [
      "[I 2023-12-31 02:03:05,183] Trial 1 finished with values: [0.9999829171257432, 1.4241466599999995] and parameters: {'model': 'model_conv_19.keras', 'k': 4, 'L': 6, 'table_size': 3750, 'window_size': 0, 'query_trick': False}. \n"
     ]
    },
    {
     "name": "stdout",
     "output_type": "stream",
     "text": [
      "Trial parameters: {'k': 8, 'L': 4, 'table_size': 7500, 'window_size': 0, 'query_trick': True}\n"
     ]
    },
    {
     "name": "stderr",
     "output_type": "stream",
     "text": [
      "[I 2023-12-31 02:03:07,454] Trial 23 finished with values: [2.6058060111555226, 0.0019794000000000005] and parameters: {'model': 'model_dense_26.keras', 'k': 7, 'L': 10, 'table_size': 7500, 'window_size': 1, 'query_trick': False}. \n"
     ]
    },
    {
     "name": "stdout",
     "output_type": "stream",
     "text": [
      "Trial parameters: {'k': 8, 'L': 5, 'table_size': 7500, 'window_size': 0, 'query_trick': True}\n"
     ]
    },
    {
     "name": "stderr",
     "output_type": "stream",
     "text": [
      "[I 2023-12-31 02:03:08,215] Trial 18 finished with values: [0.999951183835149, 0.8364890399999999] and parameters: {'model': 'model_dense_43.keras', 'k': 3, 'L': 3, 'table_size': 1875, 'window_size': 0, 'query_trick': False}. \n"
     ]
    },
    {
     "name": "stdout",
     "output_type": "stream",
     "text": [
      "Trial parameters: {'k': 2, 'L': 7, 'table_size': 3750, 'window_size': 1, 'query_trick': True}\n"
     ]
    },
    {
     "name": "stderr",
     "output_type": "stream",
     "text": [
      "[I 2023-12-31 02:03:09,968] Trial 28 finished with values: [1.396509954755074, 0.003735940000000002] and parameters: {'model': 'model_dense_1.keras', 'k': 1, 'L': 5, 'table_size': 7500, 'window_size': 1, 'query_trick': True}. \n"
     ]
    },
    {
     "name": "stdout",
     "output_type": "stream",
     "text": [
      "Trial parameters: {'k': 1, 'L': 4, 'table_size': 1875, 'window_size': 1, 'query_trick': True}\n"
     ]
    },
    {
     "name": "stderr",
     "output_type": "stream",
     "text": [
      "[I 2023-12-31 02:03:10,996] Trial 26 finished with values: [0.999908201704201, 0.6448856699999999] and parameters: {'model': 'model_conv_46.keras', 'k': 2, 'L': 3, 'table_size': 3750, 'window_size': 0, 'query_trick': False}. \n"
     ]
    },
    {
     "name": "stdout",
     "output_type": "stream",
     "text": [
      "Trial parameters: {'k': 1, 'L': 4, 'table_size': 1875, 'window_size': 1, 'query_trick': False}\n"
     ]
    },
    {
     "name": "stderr",
     "output_type": "stream",
     "text": [
      "[I 2023-12-31 02:03:12,044] Trial 25 finished with values: [0.999908201704201, 0.7130813599999999] and parameters: {'model': 'model_conv_46.keras', 'k': 10, 'L': 3, 'table_size': 1875, 'window_size': 0, 'query_trick': True}. \n"
     ]
    },
    {
     "name": "stdout",
     "output_type": "stream",
     "text": [
      "Trial parameters: {'k': 8, 'L': 10, 'table_size': 7500, 'window_size': 1, 'query_trick': True}\n"
     ]
    },
    {
     "name": "stderr",
     "output_type": "stream",
     "text": [
      "[W 2023-12-31 02:03:14,639] Trial 31 failed with parameters: {'model': 'model_conv_19.keras', 'k': 2, 'L': 7, 'table_size': 3750, 'window_size': 1, 'query_trick': True} because of the following error: The value nan is not acceptable.\n",
      "[W 2023-12-31 02:03:14,641] Trial 31 failed with value (nan, 0.002631430000000002).\n",
      "[I 2023-12-31 02:03:14,645] Trial 32 finished with values: [1.3990318679469138, 0.003999400000000002] and parameters: {'model': 'model_dense_1.keras', 'k': 1, 'L': 4, 'table_size': 1875, 'window_size': 1, 'query_trick': True}. \n",
      "[I 2023-12-31 02:03:15,173] Trial 33 finished with values: [1.5373577126413358, 0.005075040000000002] and parameters: {'model': 'model_dense_43.keras', 'k': 1, 'L': 4, 'table_size': 1875, 'window_size': 1, 'query_trick': False}. \n",
      "[I 2023-12-31 02:03:16,028] Trial 21 finished with values: [0.9999845110546619, 1.2037005800000002] and parameters: {'model': 'model_dense_1.keras', 'k': 4, 'L': 4, 'table_size': 3750, 'window_size': 0, 'query_trick': False}. \n",
      "[I 2023-12-31 02:03:17,003] Trial 29 finished with values: [0.9998639081922337, 0.8474787200000001] and parameters: {'model': 'model_dense_26.keras', 'k': 8, 'L': 4, 'table_size': 7500, 'window_size': 0, 'query_trick': True}. \n",
      "[I 2023-12-31 02:03:17,292] Trial 20 finished with values: [0.9999845110546619, 1.4330592100000001] and parameters: {'model': 'model_dense_1.keras', 'k': 3, 'L': 5, 'table_size': 7500, 'window_size': 0, 'query_trick': False}. \n",
      "[W 2023-12-31 02:03:17,992] Trial 34 failed with parameters: {'model': 'model_dense_43.keras', 'k': 8, 'L': 10, 'table_size': 7500, 'window_size': 1, 'query_trick': True} because of the following error: The value nan is not acceptable.\n",
      "[W 2023-12-31 02:03:17,993] Trial 34 failed with value (nan, 0.0006368199999999997).\n",
      "[I 2023-12-31 02:03:18,300] Trial 14 finished with values: [0.9999539649974762, 2.17963762] and parameters: {'model': 'model_conv_12.keras', 'k': 1, 'L': 10, 'table_size': 1875, 'window_size': 0, 'query_trick': True}. \n",
      "[I 2023-12-31 02:03:18,973] Trial 27 finished with values: [0.9999845110546619, 0.9746244500000002] and parameters: {'model': 'model_dense_1.keras', 'k': 7, 'L': 4, 'table_size': 1875, 'window_size': 0, 'query_trick': False}. \n",
      "[I 2023-12-31 02:03:20,120] Trial 30 finished with values: [0.9999539649974762, 0.7891634400000003] and parameters: {'model': 'model_conv_12.keras', 'k': 8, 'L': 5, 'table_size': 7500, 'window_size': 0, 'query_trick': True}. \n",
      "[I 2023-12-31 02:03:20,534] Trial 19 finished with values: [0.9998639081922337, 1.8667721199999996] and parameters: {'model': 'model_dense_26.keras', 'k': 1, 'L': 10, 'table_size': 3750, 'window_size': 0, 'query_trick': True}. \n",
      "[I 2023-12-31 02:03:21,650] Trial 12 finished with values: [0.9999845110546619, 2.250772410000001] and parameters: {'model': 'model_dense_1.keras', 'k': 10, 'L': 10, 'table_size': 3750, 'window_size': 0, 'query_trick': True}. \n"
     ]
    },
    {
     "ename": "KeyboardInterrupt",
     "evalue": "",
     "output_type": "error",
     "traceback": [
      "\u001b[0;31m---------------------------------------------------------------------------\u001b[0m",
      "\u001b[0;31mKeyboardInterrupt\u001b[0m                         Traceback (most recent call last)",
      "File \u001b[0;32m<timed exec>:3\u001b[0m\n",
      "File \u001b[0;32m~/miniconda3/envs/tf/lib/python3.10/site-packages/optuna/study/study.py:451\u001b[0m, in \u001b[0;36mStudy.optimize\u001b[0;34m(self, func, n_trials, timeout, n_jobs, catch, callbacks, gc_after_trial, show_progress_bar)\u001b[0m\n\u001b[1;32m    348\u001b[0m \u001b[38;5;28;01mdef\u001b[39;00m \u001b[38;5;21moptimize\u001b[39m(\n\u001b[1;32m    349\u001b[0m     \u001b[38;5;28mself\u001b[39m,\n\u001b[1;32m    350\u001b[0m     func: ObjectiveFuncType,\n\u001b[0;32m   (...)\u001b[0m\n\u001b[1;32m    357\u001b[0m     show_progress_bar: \u001b[38;5;28mbool\u001b[39m \u001b[38;5;241m=\u001b[39m \u001b[38;5;28;01mFalse\u001b[39;00m,\n\u001b[1;32m    358\u001b[0m ) \u001b[38;5;241m-\u001b[39m\u001b[38;5;241m>\u001b[39m \u001b[38;5;28;01mNone\u001b[39;00m:\n\u001b[1;32m    359\u001b[0m \u001b[38;5;250m    \u001b[39m\u001b[38;5;124;03m\"\"\"Optimize an objective function.\u001b[39;00m\n\u001b[1;32m    360\u001b[0m \n\u001b[1;32m    361\u001b[0m \u001b[38;5;124;03m    Optimization is done by choosing a suitable set of hyperparameter values from a given\u001b[39;00m\n\u001b[0;32m   (...)\u001b[0m\n\u001b[1;32m    449\u001b[0m \u001b[38;5;124;03m            If nested invocation of this method occurs.\u001b[39;00m\n\u001b[1;32m    450\u001b[0m \u001b[38;5;124;03m    \"\"\"\u001b[39;00m\n\u001b[0;32m--> 451\u001b[0m     \u001b[43m_optimize\u001b[49m\u001b[43m(\u001b[49m\n\u001b[1;32m    452\u001b[0m \u001b[43m        \u001b[49m\u001b[43mstudy\u001b[49m\u001b[38;5;241;43m=\u001b[39;49m\u001b[38;5;28;43mself\u001b[39;49m\u001b[43m,\u001b[49m\n\u001b[1;32m    453\u001b[0m \u001b[43m        \u001b[49m\u001b[43mfunc\u001b[49m\u001b[38;5;241;43m=\u001b[39;49m\u001b[43mfunc\u001b[49m\u001b[43m,\u001b[49m\n\u001b[1;32m    454\u001b[0m \u001b[43m        \u001b[49m\u001b[43mn_trials\u001b[49m\u001b[38;5;241;43m=\u001b[39;49m\u001b[43mn_trials\u001b[49m\u001b[43m,\u001b[49m\n\u001b[1;32m    455\u001b[0m \u001b[43m        \u001b[49m\u001b[43mtimeout\u001b[49m\u001b[38;5;241;43m=\u001b[39;49m\u001b[43mtimeout\u001b[49m\u001b[43m,\u001b[49m\n\u001b[1;32m    456\u001b[0m \u001b[43m        \u001b[49m\u001b[43mn_jobs\u001b[49m\u001b[38;5;241;43m=\u001b[39;49m\u001b[43mn_jobs\u001b[49m\u001b[43m,\u001b[49m\n\u001b[1;32m    457\u001b[0m \u001b[43m        \u001b[49m\u001b[43mcatch\u001b[49m\u001b[38;5;241;43m=\u001b[39;49m\u001b[38;5;28;43mtuple\u001b[39;49m\u001b[43m(\u001b[49m\u001b[43mcatch\u001b[49m\u001b[43m)\u001b[49m\u001b[43m \u001b[49m\u001b[38;5;28;43;01mif\u001b[39;49;00m\u001b[43m \u001b[49m\u001b[38;5;28;43misinstance\u001b[39;49m\u001b[43m(\u001b[49m\u001b[43mcatch\u001b[49m\u001b[43m,\u001b[49m\u001b[43m \u001b[49m\u001b[43mIterable\u001b[49m\u001b[43m)\u001b[49m\u001b[43m \u001b[49m\u001b[38;5;28;43;01melse\u001b[39;49;00m\u001b[43m \u001b[49m\u001b[43m(\u001b[49m\u001b[43mcatch\u001b[49m\u001b[43m,\u001b[49m\u001b[43m)\u001b[49m\u001b[43m,\u001b[49m\n\u001b[1;32m    458\u001b[0m \u001b[43m        \u001b[49m\u001b[43mcallbacks\u001b[49m\u001b[38;5;241;43m=\u001b[39;49m\u001b[43mcallbacks\u001b[49m\u001b[43m,\u001b[49m\n\u001b[1;32m    459\u001b[0m \u001b[43m        \u001b[49m\u001b[43mgc_after_trial\u001b[49m\u001b[38;5;241;43m=\u001b[39;49m\u001b[43mgc_after_trial\u001b[49m\u001b[43m,\u001b[49m\n\u001b[1;32m    460\u001b[0m \u001b[43m        \u001b[49m\u001b[43mshow_progress_bar\u001b[49m\u001b[38;5;241;43m=\u001b[39;49m\u001b[43mshow_progress_bar\u001b[49m\u001b[43m,\u001b[49m\n\u001b[1;32m    461\u001b[0m \u001b[43m    \u001b[49m\u001b[43m)\u001b[49m\n",
      "File \u001b[0;32m~/miniconda3/envs/tf/lib/python3.10/site-packages/optuna/study/_optimize.py:100\u001b[0m, in \u001b[0;36m_optimize\u001b[0;34m(study, func, n_trials, timeout, n_jobs, catch, callbacks, gc_after_trial, show_progress_bar)\u001b[0m\n\u001b[1;32m     97\u001b[0m     \u001b[38;5;28;01mbreak\u001b[39;00m\n\u001b[1;32m     99\u001b[0m \u001b[38;5;28;01mif\u001b[39;00m \u001b[38;5;28mlen\u001b[39m(futures) \u001b[38;5;241m>\u001b[39m\u001b[38;5;241m=\u001b[39m n_jobs:\n\u001b[0;32m--> 100\u001b[0m     completed, futures \u001b[38;5;241m=\u001b[39m \u001b[43mwait\u001b[49m\u001b[43m(\u001b[49m\u001b[43mfutures\u001b[49m\u001b[43m,\u001b[49m\u001b[43m \u001b[49m\u001b[43mreturn_when\u001b[49m\u001b[38;5;241;43m=\u001b[39;49m\u001b[43mFIRST_COMPLETED\u001b[49m\u001b[43m)\u001b[49m\n\u001b[1;32m    101\u001b[0m     \u001b[38;5;66;03m# Raise if exception occurred in executing the completed futures.\u001b[39;00m\n\u001b[1;32m    102\u001b[0m     \u001b[38;5;28;01mfor\u001b[39;00m f \u001b[38;5;129;01min\u001b[39;00m completed:\n",
      "File \u001b[0;32m~/miniconda3/envs/tf/lib/python3.10/concurrent/futures/_base.py:307\u001b[0m, in \u001b[0;36mwait\u001b[0;34m(fs, timeout, return_when)\u001b[0m\n\u001b[1;32m    303\u001b[0m         \u001b[38;5;28;01mreturn\u001b[39;00m DoneAndNotDoneFutures(done, not_done)\n\u001b[1;32m    305\u001b[0m     waiter \u001b[38;5;241m=\u001b[39m _create_and_install_waiters(fs, return_when)\n\u001b[0;32m--> 307\u001b[0m \u001b[43mwaiter\u001b[49m\u001b[38;5;241;43m.\u001b[39;49m\u001b[43mevent\u001b[49m\u001b[38;5;241;43m.\u001b[39;49m\u001b[43mwait\u001b[49m\u001b[43m(\u001b[49m\u001b[43mtimeout\u001b[49m\u001b[43m)\u001b[49m\n\u001b[1;32m    308\u001b[0m \u001b[38;5;28;01mfor\u001b[39;00m f \u001b[38;5;129;01min\u001b[39;00m fs:\n\u001b[1;32m    309\u001b[0m     \u001b[38;5;28;01mwith\u001b[39;00m f\u001b[38;5;241m.\u001b[39m_condition:\n",
      "File \u001b[0;32m~/miniconda3/envs/tf/lib/python3.10/threading.py:607\u001b[0m, in \u001b[0;36mEvent.wait\u001b[0;34m(self, timeout)\u001b[0m\n\u001b[1;32m    605\u001b[0m signaled \u001b[38;5;241m=\u001b[39m \u001b[38;5;28mself\u001b[39m\u001b[38;5;241m.\u001b[39m_flag\n\u001b[1;32m    606\u001b[0m \u001b[38;5;28;01mif\u001b[39;00m \u001b[38;5;129;01mnot\u001b[39;00m signaled:\n\u001b[0;32m--> 607\u001b[0m     signaled \u001b[38;5;241m=\u001b[39m \u001b[38;5;28;43mself\u001b[39;49m\u001b[38;5;241;43m.\u001b[39;49m\u001b[43m_cond\u001b[49m\u001b[38;5;241;43m.\u001b[39;49m\u001b[43mwait\u001b[49m\u001b[43m(\u001b[49m\u001b[43mtimeout\u001b[49m\u001b[43m)\u001b[49m\n\u001b[1;32m    608\u001b[0m \u001b[38;5;28;01mreturn\u001b[39;00m signaled\n",
      "File \u001b[0;32m~/miniconda3/envs/tf/lib/python3.10/threading.py:320\u001b[0m, in \u001b[0;36mCondition.wait\u001b[0;34m(self, timeout)\u001b[0m\n\u001b[1;32m    318\u001b[0m \u001b[38;5;28;01mtry\u001b[39;00m:    \u001b[38;5;66;03m# restore state no matter what (e.g., KeyboardInterrupt)\u001b[39;00m\n\u001b[1;32m    319\u001b[0m     \u001b[38;5;28;01mif\u001b[39;00m timeout \u001b[38;5;129;01mis\u001b[39;00m \u001b[38;5;28;01mNone\u001b[39;00m:\n\u001b[0;32m--> 320\u001b[0m         \u001b[43mwaiter\u001b[49m\u001b[38;5;241;43m.\u001b[39;49m\u001b[43macquire\u001b[49m\u001b[43m(\u001b[49m\u001b[43m)\u001b[49m\n\u001b[1;32m    321\u001b[0m         gotit \u001b[38;5;241m=\u001b[39m \u001b[38;5;28;01mTrue\u001b[39;00m\n\u001b[1;32m    322\u001b[0m     \u001b[38;5;28;01melse\u001b[39;00m:\n",
      "\u001b[0;31mKeyboardInterrupt\u001b[0m: "
     ]
    }
   ],
   "source": [
    "%%time\n",
    "sampler = optuna.samplers.NSGAIISampler(constraints_func=constraints)\n",
    "lsh_study = optuna.create_study(study_name='lsh', directions=['minimize', 'minimize'], sampler=sampler)\n",
    "lsh_study.optimize(objective_lsh, n_trials=100, n_jobs=-1)\n",
    "print(\"-------------------- Best trials --------------------\")\n",
    "trials = sorted(lsh_study.best_trials, key=lambda x: x.values)\n",
    "# print feasible trials only\n",
    "for trial in trials:\n",
    "    print(\"Trial no. {}\".format(trial.number))\n",
    "    print(\" Values = {}, Constraints = {}\".format(trial.values, trial.user_attrs[\"constraint\"]))\n",
    "    print(\" Params = {}\".format(trial.params))"
   ]
  },
  {
   "cell_type": "code",
   "execution_count": null,
   "metadata": {},
   "outputs": [],
   "source": [
    "df = lsh_study.trials_dataframe()\n",
    "\n",
    "df_sorted = df.copy(deep=True)\n",
    "df_sorted = df_sorted.dropna(subset=['value'])\n",
    "df_sorted = df_sorted.sort_values(by=['value'], ascending=True)\n",
    "df_sorted = df_sorted.reset_index(drop=True)\n",
    "df_sorted"
   ]
  },
  {
   "cell_type": "code",
   "execution_count": null,
   "metadata": {},
   "outputs": [],
   "source": [
    "plot_pareto_front(lsh_study, target_names=['aaf', 'average_time'])"
   ]
  },
  {
   "cell_type": "code",
   "execution_count": null,
   "metadata": {},
   "outputs": [],
   "source": [
    "plot_optimization_history(lsh_study, target = lambda t: t.values[0], target_name = 'aaf')"
   ]
  },
  {
   "cell_type": "code",
   "execution_count": null,
   "metadata": {},
   "outputs": [],
   "source": [
    "plot_optimization_history(lsh_study, target = lambda t: t.values[1], target_name = 'average_time')"
   ]
  },
  {
   "cell_type": "code",
   "execution_count": null,
   "metadata": {},
   "outputs": [],
   "source": [
    "plot_slice(lsh_study, target = lambda t: t.values[0], target_name = 'aaf')"
   ]
  },
  {
   "cell_type": "code",
   "execution_count": null,
   "metadata": {},
   "outputs": [],
   "source": [
    "plot_slice(lsh_study, target = lambda t: t.values[1], target_name = 'average_time')"
   ]
  }
 ],
 "metadata": {
  "language_info": {
   "name": "python"
  },
  "orig_nbformat": 4
 },
 "nbformat": 4,
 "nbformat_minor": 2
}
