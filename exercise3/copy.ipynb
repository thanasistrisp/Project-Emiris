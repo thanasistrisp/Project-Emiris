{
 "cells": [
  {
   "attachments": {},
   "cell_type": "markdown",
   "metadata": {},
   "source": [
    "# Optimization - fine tuning in Initial Space\n",
    "\n",
    "[1. Optimize LSH](#1-optimize-lsh)\n",
    "\n",
    "[2. Optimize Hypercube](#2-optimize-hypercube)\n",
    "\n",
    "[3. Optimize GNNS](#3-optimize-gnns)\n",
    "\n",
    "[4. Optimize MRNG](#4-optimize-mrng)\n",
    "\n",
    "[5. Optimize NSG](#5-optimize-nsg)\n",
    "\n",
    "[6. Results](#6-results)\n",
    "\n",
    "[7. Conclusions](#7-conclusions)"
   ]
  },
  {
   "attachments": {},
   "cell_type": "markdown",
   "metadata": {},
   "source": [
    "# Import libraries"
   ]
  },
  {
   "cell_type": "code",
   "execution_count": null,
   "metadata": {
    "execution": {
     "iopub.execute_input": "2023-12-29T23:17:14.613629Z",
     "iopub.status.busy": "2023-12-29T23:17:14.612730Z",
     "iopub.status.idle": "2023-12-29T23:17:15.993932Z",
     "shell.execute_reply": "2023-12-29T23:17:15.992833Z"
    }
   },
   "outputs": [],
   "source": [
    "import numpy as np\n",
    "\n",
    "import pandas\n",
    "\n",
    "import optuna\n",
    "from optuna.visualization import plot_pareto_front, plot_optimization_history, plot_slice\n",
    "\n",
    "from params import lsh_test, hypercube_test, gnn_test, mrng_test, nsg_test"
   ]
  },
  {
   "cell_type": "code",
   "execution_count": null,
   "metadata": {
    "execution": {
     "iopub.execute_input": "2023-12-29T23:17:15.997756Z",
     "iopub.status.busy": "2023-12-29T23:17:15.997391Z",
     "iopub.status.idle": "2023-12-29T23:17:16.002359Z",
     "shell.execute_reply": "2023-12-29T23:17:16.001569Z"
    }
   },
   "outputs": [],
   "source": [
    "input_path = b'MNIST/input.dat'\n",
    "query_path = b'MNIST/query.dat'\n",
    "\n",
    "n = 60000"
   ]
  },
  {
   "attachments": {},
   "cell_type": "markdown",
   "metadata": {},
   "source": [
    "# 3. Optimize GNNS\n",
    "\n",
    "To skip logs, click [here](#visualize-gnns-study-results)."
   ]
  },
  {
   "cell_type": "code",
   "execution_count": null,
   "metadata": {
    "execution": {
     "iopub.execute_input": "2023-12-29T23:52:01.028083Z",
     "iopub.status.busy": "2023-12-29T23:52:01.027716Z",
     "iopub.status.idle": "2023-12-29T23:52:01.032895Z",
     "shell.execute_reply": "2023-12-29T23:52:01.032241Z"
    }
   },
   "outputs": [],
   "source": [
    "def objective_gnns(trial):\n",
    "    param_dict = {'k': trial.suggest_int('k', 40, 100)}\n",
    "    param_dict.update({'E': trial.suggest_int('E', 40, param_dict['k'])})\n",
    "    param_dict.update({'R': trial.suggest_int('R', 1, 10)})\n",
    "\n",
    "    print(\"Trial params\", param_dict)\n",
    "\n",
    "    average_time, aaf = gnn_test(input_path, query_path, queries_num=100, **param_dict, N=5)\n",
    "\n",
    "    return aaf.value, average_time.value"
   ]
  },
  {
   "cell_type": "code",
   "execution_count": null,
   "metadata": {
    "execution": {
     "iopub.execute_input": "2023-12-29T23:52:01.036119Z",
     "iopub.status.busy": "2023-12-29T23:52:01.035715Z",
     "iopub.status.idle": "2023-12-30T00:41:03.218245Z",
     "shell.execute_reply": "2023-12-30T00:41:03.217507Z"
    }
   },
   "outputs": [],
   "source": [
    "%%time\n",
    "gnns_study = optuna.create_study(study_name='gnns', directions=['minimize', 'minimize'])\n",
    "gnns_study.optimize(objective_gnns, n_trials=50, n_jobs=-1)\n",
    "print(\"-------------------- Best trials --------------------\")\n",
    "trials = sorted(gnns_study.best_trials, key=lambda x: x.values)\n",
    "for trial in trials:\n",
    "    print(\"Trial no. {}\".format(trial.number))\n",
    "    print(\" Values = {}\".format(trial.values))\n",
    "    print(\" Params = {}\".format(trial.params))"
   ]
  },
  {
   "cell_type": "code",
   "execution_count": null,
   "metadata": {
    "execution": {
     "iopub.execute_input": "2023-12-30T00:41:03.221878Z",
     "iopub.status.busy": "2023-12-30T00:41:03.221209Z",
     "iopub.status.idle": "2023-12-30T00:41:03.248769Z",
     "shell.execute_reply": "2023-12-30T00:41:03.248116Z"
    }
   },
   "outputs": [],
   "source": [
    "df = gnns_study.trials_dataframe()\n",
    "\n",
    "df_sorted = df.copy(deep=True)\n",
    "df_sorted = df_sorted.dropna(subset=['values_0', 'values_1'])\n",
    "df_sorted = df_sorted.sort_values(by=['values_0', 'values_1'], ascending=[True, True])\n",
    "df_sorted = df_sorted.reset_index(drop=True)\n",
    "df_sorted"
   ]
  },
  {
   "attachments": {},
   "cell_type": "markdown",
   "metadata": {},
   "source": [
    "## Visualize GNNS study results"
   ]
  },
  {
   "cell_type": "code",
   "execution_count": null,
   "metadata": {
    "execution": {
     "iopub.execute_input": "2023-12-30T00:41:03.254221Z",
     "iopub.status.busy": "2023-12-30T00:41:03.253677Z",
     "iopub.status.idle": "2023-12-30T00:41:03.272883Z",
     "shell.execute_reply": "2023-12-30T00:41:03.272194Z"
    }
   },
   "outputs": [],
   "source": [
    "plot_pareto_front(gnns_study, target_names=['aaf', 'average_time'])"
   ]
  },
  {
   "cell_type": "code",
   "execution_count": null,
   "metadata": {
    "execution": {
     "iopub.execute_input": "2023-12-30T00:41:03.277637Z",
     "iopub.status.busy": "2023-12-30T00:41:03.277131Z",
     "iopub.status.idle": "2023-12-30T00:41:03.290591Z",
     "shell.execute_reply": "2023-12-30T00:41:03.290034Z"
    }
   },
   "outputs": [],
   "source": [
    "plot_optimization_history(gnns_study, target = lambda t: t.values[0], target_name = 'aaf')"
   ]
  },
  {
   "cell_type": "code",
   "execution_count": null,
   "metadata": {
    "execution": {
     "iopub.execute_input": "2023-12-30T00:41:03.295344Z",
     "iopub.status.busy": "2023-12-30T00:41:03.294932Z",
     "iopub.status.idle": "2023-12-30T00:41:03.310321Z",
     "shell.execute_reply": "2023-12-30T00:41:03.309632Z"
    }
   },
   "outputs": [],
   "source": [
    "plot_optimization_history(gnns_study, target = lambda t: t.values[1], target_name = 'average_time')"
   ]
  },
  {
   "cell_type": "code",
   "execution_count": null,
   "metadata": {
    "execution": {
     "iopub.execute_input": "2023-12-30T00:41:03.314913Z",
     "iopub.status.busy": "2023-12-30T00:41:03.313593Z",
     "iopub.status.idle": "2023-12-30T00:41:03.363004Z",
     "shell.execute_reply": "2023-12-30T00:41:03.362422Z"
    }
   },
   "outputs": [],
   "source": [
    "plot_slice(gnns_study, target = lambda t: t.values[0], target_name = 'aaf')"
   ]
  },
  {
   "cell_type": "code",
   "execution_count": null,
   "metadata": {
    "execution": {
     "iopub.execute_input": "2023-12-30T00:41:03.368230Z",
     "iopub.status.busy": "2023-12-30T00:41:03.367029Z",
     "iopub.status.idle": "2023-12-30T00:41:03.421353Z",
     "shell.execute_reply": "2023-12-30T00:41:03.420774Z"
    }
   },
   "outputs": [],
   "source": [
    "plot_slice(gnns_study, target = lambda t: t.values[1], target_name = 'average_time')"
   ]
  }
 ],
 "metadata": {
  "kernelspec": {
   "display_name": "tf",
   "language": "python",
   "name": "python3"
  },
  "language_info": {
   "codemirror_mode": {
    "name": "ipython",
    "version": 3
   },
   "file_extension": ".py",
   "mimetype": "text/x-python",
   "name": "python",
   "nbconvert_exporter": "python",
   "pygments_lexer": "ipython3",
   "version": "3.10.13"
  }
 },
 "nbformat": 4,
 "nbformat_minor": 2
}
