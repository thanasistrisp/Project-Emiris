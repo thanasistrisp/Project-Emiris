{
 "cells": [
  {
   "attachments": {},
   "cell_type": "markdown",
   "metadata": {},
   "source": [
    "# Optimization - fine tuning\n",
    "\n",
    "[1. Optimize LSH](#1-optimize-lsh)\n",
    "\n",
    "[2. Optimize Hypercube](#2-optimize-hypercube)\n",
    "\n",
    "[3. Optimize GNNS](#3-optimize-gnns)\n",
    "\n",
    "[4. Optimize MRNG]()"
   ]
  },
  {
   "attachments": {},
   "cell_type": "markdown",
   "metadata": {},
   "source": [
    "# Import libraries"
   ]
  },
  {
   "cell_type": "code",
   "execution_count": 1,
   "metadata": {},
   "outputs": [],
   "source": [
    "import optuna\n",
    "from optuna.visualization import plot_pareto_front, plot_optimization_history, plot_slice\n",
    "\n",
    "import pandas\n",
    "\n",
    "from params import lsh_test, hypercube_test, gnn_test, mrng_test"
   ]
  },
  {
   "cell_type": "code",
   "execution_count": 2,
   "metadata": {},
   "outputs": [],
   "source": [
    "input_path = b'../MNIST/input.dat'\n",
    "query_path = b'../MNIST/query.dat'\n",
    "\n",
    "n = 60000"
   ]
  },
  {
   "attachments": {},
   "cell_type": "markdown",
   "metadata": {},
   "source": [
    "# 1. Optimize LSH\n",
    "\n",
    "To skip logs, click [here](#visualize-lsh-study-results)."
   ]
  },
  {
   "cell_type": "code",
   "execution_count": 5,
   "metadata": {},
   "outputs": [],
   "source": [
    "def objective_lsh(trial):\n",
    "    param_dict = {'k': trial.suggest_int('k', 2, 10),\n",
    "                  'L': trial.suggest_int('L', 2, 10),\n",
    "                  'table_size': trial.suggest_categorical('table_size', [int(n/16), int(n/8), int(n/4)]),\n",
    "                  'window_size': trial.suggest_int('window_size', 1000, 5000)\n",
    "                 }\n",
    "    \n",
    "    print(\"Trial parameters:\", param_dict)\n",
    "\n",
    "    average_time, true_time, maf, min_neighbors = lsh_test(input_path, query_path, queries_num=10,\n",
    "                                                           **param_dict, query_trick=True, N=50)\n",
    "\n",
    "    # trial should return at least 50 neighbors to be used in GNNS\n",
    "    c0 = - min_neighbors.value + 50\n",
    "    c1 = - average_time.value + 0.01\n",
    "    trial.set_user_attr('constraint', (c0, c1))\n",
    "\n",
    "    return maf.value, average_time.value\n",
    "\n",
    "def constraints(trial):\n",
    "    return trial.user_attrs['constraint']"
   ]
  },
  {
   "cell_type": "code",
   "execution_count": 6,
   "metadata": {},
   "outputs": [
    {
     "name": "stderr",
     "output_type": "stream",
     "text": [
      "<timed exec>:1: ExperimentalWarning: BoTorchSampler is experimental (supported from v2.4.0). The interface can change in the future.\n",
      "[I 2023-11-25 13:31:12,611] A new study created in memory with name: lsh\n"
     ]
    },
    {
     "name": "stdout",
     "output_type": "stream",
     "text": [
      "Trial parameters: {'k': 10, 'L': 8, 'table_size': 15000, 'window_size': 2003}\n",
      "Read MNIST data\n",
      "Done\n",
      "Algorithm: LSH\n",
      "Query: 0\n",
      "Query: 1\n",
      "Query: 2\n",
      "Query: 3\n",
      "Query: 4\n",
      "Query: 5\n",
      "Query: 6\n",
      "Query: 7\n",
      "Query: 8\n",
      "Query: 9\n"
     ]
    },
    {
     "name": "stderr",
     "output_type": "stream",
     "text": [
      "[I 2023-11-25 13:31:47,486] Trial 0 finished with values: [1.1772753554968618, 0.0022889000000000004] and parameters: {'k': 10, 'L': 8, 'table_size': 15000, 'window_size': 2003}. \n"
     ]
    },
    {
     "name": "stdout",
     "output_type": "stream",
     "text": [
      "Trial parameters: {'k': 6, 'L': 4, 'table_size': 3750, 'window_size': 2844}\n",
      "Read MNIST data\n",
      "Done\n",
      "Algorithm: LSH\n",
      "Query: 0\n",
      "Query: 1\n",
      "Query: 2\n",
      "Query: 3\n",
      "Query: 4\n",
      "Query: 5\n",
      "Query: 6\n",
      "Query: 7\n",
      "Query: 8\n",
      "Query: 9\n"
     ]
    },
    {
     "name": "stderr",
     "output_type": "stream",
     "text": [
      "[I 2023-11-25 13:32:00,370] Trial 1 finished with values: [1.0323896418551815, 0.0247823] and parameters: {'k': 6, 'L': 4, 'table_size': 3750, 'window_size': 2844}. \n"
     ]
    },
    {
     "name": "stdout",
     "output_type": "stream",
     "text": [
      "Trial parameters: {'k': 8, 'L': 5, 'table_size': 3750, 'window_size': 1773}\n",
      "Read MNIST data\n",
      "Done\n",
      "Algorithm: LSH\n",
      "Query: 0\n",
      "Query: 1\n",
      "Query: 2\n",
      "Query: 3\n",
      "Query: 4\n",
      "Query: 5\n",
      "Query: 6\n",
      "Query: 7\n",
      "Query: 8\n",
      "Query: 9\n"
     ]
    },
    {
     "name": "stderr",
     "output_type": "stream",
     "text": [
      "[I 2023-11-25 13:32:19,050] Trial 2 finished with values: [1.3015398135892386, 0.0017852] and parameters: {'k': 8, 'L': 5, 'table_size': 3750, 'window_size': 1773}. \n"
     ]
    },
    {
     "name": "stdout",
     "output_type": "stream",
     "text": [
      "Trial parameters: {'k': 7, 'L': 3, 'table_size': 3750, 'window_size': 1354}\n",
      "Read MNIST data\n",
      "Done\n",
      "Algorithm: LSH\n",
      "Query: 0\n",
      "Query: 1\n",
      "Query: 2\n",
      "Query: 3\n",
      "Query: 4\n",
      "Query: 5\n",
      "Query: 6\n",
      "Query: 7\n",
      "Query: 8\n",
      "Query: 9\n"
     ]
    },
    {
     "name": "stderr",
     "output_type": "stream",
     "text": [
      "[I 2023-11-25 13:32:29,711] Trial 3 finished with values: [1.6441154261537358, 0.0005732000000000001] and parameters: {'k': 7, 'L': 3, 'table_size': 3750, 'window_size': 1354}. \n"
     ]
    },
    {
     "name": "stdout",
     "output_type": "stream",
     "text": [
      "Trial parameters: {'k': 2, 'L': 10, 'table_size': 15000, 'window_size': 4782}\n",
      "Read MNIST data\n",
      "Done\n",
      "Algorithm: LSH\n",
      "Query: 0\n",
      "Query: 1\n",
      "Query: 2\n",
      "Query: 3\n",
      "Query: 4\n",
      "Query: 5\n",
      "Query: 6\n",
      "Query: 7\n",
      "Query: 8\n",
      "Query: 9\n"
     ]
    },
    {
     "name": "stderr",
     "output_type": "stream",
     "text": [
      "[I 2023-11-25 13:32:46,564] Trial 4 finished with values: [0.8612792049187826, 0.6233115] and parameters: {'k': 2, 'L': 10, 'table_size': 15000, 'window_size': 4782}. \n"
     ]
    },
    {
     "name": "stdout",
     "output_type": "stream",
     "text": [
      "Trial parameters: {'k': 7, 'L': 3, 'table_size': 15000, 'window_size': 3326}\n",
      "Read MNIST data\n",
      "Done\n",
      "Algorithm: LSH\n",
      "Query: 0\n",
      "Query: 1\n",
      "Query: 2\n",
      "Query: 3\n",
      "Query: 4\n",
      "Query: 5\n",
      "Query: 6\n",
      "Query: 7\n",
      "Query: 8\n",
      "Query: 9\n"
     ]
    },
    {
     "name": "stderr",
     "output_type": "stream",
     "text": [
      "[I 2023-11-25 13:32:57,327] Trial 5 finished with values: [1.0537973456315135, 0.015467299999999998] and parameters: {'k': 7, 'L': 3, 'table_size': 15000, 'window_size': 3326}. \n"
     ]
    },
    {
     "name": "stdout",
     "output_type": "stream",
     "text": [
      "Trial parameters: {'k': 9, 'L': 9, 'table_size': 7500, 'window_size': 1082}\n",
      "Read MNIST data\n",
      "Done\n",
      "Algorithm: LSH\n",
      "Query: 0\n",
      "Query: 1\n",
      "Query: 2\n",
      "Query: 3\n",
      "Query: 4\n",
      "Query: 5\n",
      "Query: 6\n",
      "Query: 7\n",
      "Query: 8\n",
      "Query: 9\n"
     ]
    },
    {
     "name": "stderr",
     "output_type": "stream",
     "text": [
      "[I 2023-11-25 13:33:32,157] Trial 6 finished with values: [2.215816764148133, 0.0013180000000000002] and parameters: {'k': 9, 'L': 9, 'table_size': 7500, 'window_size': 1082}. \n"
     ]
    },
    {
     "name": "stdout",
     "output_type": "stream",
     "text": [
      "Trial parameters: {'k': 2, 'L': 5, 'table_size': 7500, 'window_size': 2870}\n",
      "Read MNIST data\n",
      "Done\n",
      "Algorithm: LSH\n",
      "Query: 0\n",
      "Query: 1\n",
      "Query: 2\n",
      "Query: 3\n",
      "Query: 4\n",
      "Query: 5\n",
      "Query: 6\n",
      "Query: 7\n",
      "Query: 8\n",
      "Query: 9\n"
     ]
    },
    {
     "name": "stderr",
     "output_type": "stream",
     "text": [
      "[I 2023-11-25 13:33:41,997] Trial 7 finished with values: [0.9089349207288518, 0.2493493] and parameters: {'k': 2, 'L': 5, 'table_size': 7500, 'window_size': 2870}. \n"
     ]
    },
    {
     "name": "stdout",
     "output_type": "stream",
     "text": [
      "Trial parameters: {'k': 4, 'L': 9, 'table_size': 3750, 'window_size': 2200}\n",
      "Read MNIST data\n",
      "Done\n",
      "Algorithm: LSH\n",
      "Query: 0\n",
      "Query: 1\n",
      "Query: 2\n",
      "Query: 3\n",
      "Query: 4\n",
      "Query: 5\n",
      "Query: 6\n",
      "Query: 7\n",
      "Query: 8\n",
      "Query: 9\n"
     ]
    },
    {
     "name": "stderr",
     "output_type": "stream",
     "text": [
      "[I 2023-11-25 13:34:00,851] Trial 8 finished with values: [1.0, 0.10556829999999999] and parameters: {'k': 4, 'L': 9, 'table_size': 3750, 'window_size': 2200}. \n"
     ]
    },
    {
     "name": "stdout",
     "output_type": "stream",
     "text": [
      "Trial parameters: {'k': 4, 'L': 10, 'table_size': 3750, 'window_size': 3355}\n",
      "Read MNIST data\n",
      "Done\n",
      "Algorithm: LSH\n",
      "Query: 0\n",
      "Query: 1\n",
      "Query: 2\n",
      "Query: 3\n",
      "Query: 4\n",
      "Query: 5\n",
      "Query: 6\n",
      "Query: 7\n",
      "Query: 8\n",
      "Query: 9\n"
     ]
    },
    {
     "name": "stderr",
     "output_type": "stream",
     "text": [
      "[I 2023-11-25 13:34:22,651] Trial 9 finished with values: [0.9078231289864939, 0.24525959999999997] and parameters: {'k': 4, 'L': 10, 'table_size': 3750, 'window_size': 3355}. \n",
      "/home/elvrach/.local/lib/python3.10/site-packages/optuna/integration/botorch.py:843: ExperimentalWarning: qehvi_candidates_func is experimental (supported from v2.4.0). The interface can change in the future.\n",
      "  candidates = self._candidates_func(\n"
     ]
    },
    {
     "name": "stdout",
     "output_type": "stream",
     "text": [
      "Trial parameters: {'k': 7, 'L': 6, 'table_size': 3750, 'window_size': 3200}\n",
      "Read MNIST data\n",
      "Done\n",
      "Algorithm: LSH\n",
      "Query: 0\n",
      "Query: 1\n",
      "Query: 2\n",
      "Query: 3\n",
      "Query: 4\n",
      "Query: 5\n",
      "Query: 6\n",
      "Query: 7\n",
      "Query: 8\n",
      "Query: 9\n"
     ]
    },
    {
     "name": "stderr",
     "output_type": "stream",
     "text": [
      "[I 2023-11-25 13:34:54,862] Trial 10 finished with values: [0.9716113798142378, 0.043435699999999994] and parameters: {'k': 7, 'L': 6, 'table_size': 3750, 'window_size': 3200}. \n",
      "/home/elvrach/.local/lib/python3.10/site-packages/optuna/integration/botorch.py:843: ExperimentalWarning: qehvi_candidates_func is experimental (supported from v2.4.0). The interface can change in the future.\n",
      "  candidates = self._candidates_func(\n"
     ]
    },
    {
     "name": "stdout",
     "output_type": "stream",
     "text": [
      "Trial parameters: {'k': 5, 'L': 6, 'table_size': 3750, 'window_size': 3249}\n",
      "Read MNIST data\n",
      "Done\n",
      "Algorithm: LSH\n",
      "Query: 0\n",
      "Query: 1\n",
      "Query: 2\n",
      "Query: 3\n",
      "Query: 4\n",
      "Query: 5\n",
      "Query: 6\n",
      "Query: 7\n",
      "Query: 8\n",
      "Query: 9\n"
     ]
    },
    {
     "name": "stderr",
     "output_type": "stream",
     "text": [
      "[I 2023-11-25 13:35:23,057] Trial 11 finished with values: [1.0127508175968094, 0.1036674] and parameters: {'k': 5, 'L': 6, 'table_size': 3750, 'window_size': 3249}. \n",
      "/home/elvrach/.local/lib/python3.10/site-packages/optuna/integration/botorch.py:843: ExperimentalWarning: qehvi_candidates_func is experimental (supported from v2.4.0). The interface can change in the future.\n",
      "  candidates = self._candidates_func(\n"
     ]
    },
    {
     "name": "stdout",
     "output_type": "stream",
     "text": [
      "Trial parameters: {'k': 8, 'L': 5, 'table_size': 3750, 'window_size': 3303}\n",
      "Read MNIST data\n",
      "Done\n",
      "Algorithm: LSH\n",
      "Query: 0\n",
      "Query: 1\n",
      "Query: 2\n",
      "Query: 3\n",
      "Query: 4\n",
      "Query: 5\n",
      "Query: 6\n",
      "Query: 7\n",
      "Query: 8\n",
      "Query: 9\n"
     ]
    },
    {
     "name": "stderr",
     "output_type": "stream",
     "text": [
      "[I 2023-11-25 13:35:59,486] Trial 12 finished with values: [1.0419217967921204, 0.025681400000000004] and parameters: {'k': 8, 'L': 5, 'table_size': 3750, 'window_size': 3303}. \n",
      "/home/elvrach/.local/lib/python3.10/site-packages/optuna/integration/botorch.py:843: ExperimentalWarning: qehvi_candidates_func is experimental (supported from v2.4.0). The interface can change in the future.\n",
      "  candidates = self._candidates_func(\n"
     ]
    },
    {
     "name": "stdout",
     "output_type": "stream",
     "text": [
      "Trial parameters: {'k': 8, 'L': 7, 'table_size': 3750, 'window_size': 2742}\n",
      "Read MNIST data\n",
      "Done\n",
      "Algorithm: LSH\n",
      "Query: 0\n",
      "Query: 1\n",
      "Query: 2\n",
      "Query: 3\n",
      "Query: 4\n",
      "Query: 5\n",
      "Query: 6\n",
      "Query: 7\n",
      "Query: 8\n",
      "Query: 9\n"
     ]
    },
    {
     "name": "stderr",
     "output_type": "stream",
     "text": [
      "[I 2023-11-25 13:36:36,833] Trial 13 finished with values: [1.0879964690732533, 0.0232022] and parameters: {'k': 8, 'L': 7, 'table_size': 3750, 'window_size': 2742}. \n",
      "/home/elvrach/.local/lib/python3.10/site-packages/optuna/integration/botorch.py:843: ExperimentalWarning: qehvi_candidates_func is experimental (supported from v2.4.0). The interface can change in the future.\n",
      "  candidates = self._candidates_func(\n"
     ]
    },
    {
     "name": "stdout",
     "output_type": "stream",
     "text": [
      "Trial parameters: {'k': 7, 'L': 5, 'table_size': 3750, 'window_size': 3061}\n",
      "Read MNIST data\n",
      "Done\n",
      "Algorithm: LSH\n",
      "Query: 0\n",
      "Query: 1\n",
      "Query: 2\n",
      "Query: 3\n",
      "Query: 4\n",
      "Query: 5\n",
      "Query: 6\n",
      "Query: 7\n",
      "Query: 8\n",
      "Query: 9\n"
     ]
    },
    {
     "name": "stderr",
     "output_type": "stream",
     "text": [
      "[I 2023-11-25 13:37:11,061] Trial 14 finished with values: [1.004813609368143, 0.0365574] and parameters: {'k': 7, 'L': 5, 'table_size': 3750, 'window_size': 3061}. \n",
      "/home/elvrach/.local/lib/python3.10/site-packages/optuna/integration/botorch.py:843: ExperimentalWarning: qehvi_candidates_func is experimental (supported from v2.4.0). The interface can change in the future.\n",
      "  candidates = self._candidates_func(\n"
     ]
    },
    {
     "name": "stdout",
     "output_type": "stream",
     "text": [
      "Trial parameters: {'k': 10, 'L': 3, 'table_size': 15000, 'window_size': 3260}\n",
      "Read MNIST data\n",
      "Done\n",
      "Algorithm: LSH\n",
      "Query: 0\n",
      "Query: 1\n",
      "Query: 2\n",
      "Query: 3\n",
      "Query: 4\n",
      "Query: 5\n",
      "Query: 6\n",
      "Query: 7\n",
      "Query: 8\n",
      "Query: 9\n"
     ]
    },
    {
     "name": "stderr",
     "output_type": "stream",
     "text": [
      "[I 2023-11-25 13:37:40,619] Trial 15 finished with values: [1.0677614985514365, 0.0169359] and parameters: {'k': 10, 'L': 3, 'table_size': 15000, 'window_size': 3260}. \n",
      "/home/elvrach/.local/lib/python3.10/site-packages/optuna/integration/botorch.py:843: ExperimentalWarning: qehvi_candidates_func is experimental (supported from v2.4.0). The interface can change in the future.\n",
      "  candidates = self._candidates_func(\n"
     ]
    },
    {
     "name": "stdout",
     "output_type": "stream",
     "text": [
      "Trial parameters: {'k': 8, 'L': 2, 'table_size': 15000, 'window_size': 2082}\n",
      "Read MNIST data\n",
      "Done\n",
      "Algorithm: LSH\n",
      "Query: 0\n",
      "Query: 1\n",
      "Query: 2\n",
      "Query: 3\n",
      "Query: 4\n",
      "Query: 5\n",
      "Query: 6\n",
      "Query: 7\n",
      "Query: 8\n",
      "Query: 9\n"
     ]
    },
    {
     "name": "stderr",
     "output_type": "stream",
     "text": [
      "[I 2023-11-25 13:38:00,730] Trial 16 finished with values: [1.3564779718539302, 0.0023514999999999994] and parameters: {'k': 8, 'L': 2, 'table_size': 15000, 'window_size': 2082}. \n",
      "/home/elvrach/.local/lib/python3.10/site-packages/optuna/integration/botorch.py:843: ExperimentalWarning: qehvi_candidates_func is experimental (supported from v2.4.0). The interface can change in the future.\n",
      "  candidates = self._candidates_func(\n"
     ]
    },
    {
     "name": "stdout",
     "output_type": "stream",
     "text": [
      "Trial parameters: {'k': 9, 'L': 7, 'table_size': 15000, 'window_size': 4243}\n",
      "Read MNIST data\n",
      "Done\n",
      "Algorithm: LSH\n",
      "Query: 0\n",
      "Query: 1\n",
      "Query: 2\n",
      "Query: 3\n",
      "Query: 4\n",
      "Query: 5\n",
      "Query: 6\n",
      "Query: 7\n",
      "Query: 8\n",
      "Query: 9\n"
     ]
    },
    {
     "name": "stderr",
     "output_type": "stream",
     "text": [
      "[I 2023-11-25 13:38:43,066] Trial 17 finished with values: [1.0, 0.0822667] and parameters: {'k': 9, 'L': 7, 'table_size': 15000, 'window_size': 4243}. \n",
      "/home/elvrach/.local/lib/python3.10/site-packages/optuna/integration/botorch.py:843: ExperimentalWarning: qehvi_candidates_func is experimental (supported from v2.4.0). The interface can change in the future.\n",
      "  candidates = self._candidates_func(\n"
     ]
    },
    {
     "name": "stdout",
     "output_type": "stream",
     "text": [
      "Trial parameters: {'k': 9, 'L': 3, 'table_size': 15000, 'window_size': 3974}\n",
      "Read MNIST data\n",
      "Done\n",
      "Algorithm: LSH\n",
      "Query: 0\n",
      "Query: 1\n",
      "Query: 2\n",
      "Query: 3\n",
      "Query: 4\n",
      "Query: 5\n",
      "Query: 6\n",
      "Query: 7\n",
      "Query: 8\n",
      "Query: 9\n"
     ]
    },
    {
     "name": "stderr",
     "output_type": "stream",
     "text": [
      "[I 2023-11-25 13:39:10,812] Trial 18 finished with values: [1.0578582149524811, 0.0300072] and parameters: {'k': 9, 'L': 3, 'table_size': 15000, 'window_size': 3974}. \n",
      "/home/elvrach/.local/lib/python3.10/site-packages/optuna/integration/botorch.py:843: ExperimentalWarning: qehvi_candidates_func is experimental (supported from v2.4.0). The interface can change in the future.\n",
      "  candidates = self._candidates_func(\n"
     ]
    },
    {
     "name": "stdout",
     "output_type": "stream",
     "text": [
      "Trial parameters: {'k': 7, 'L': 7, 'table_size': 15000, 'window_size': 3848}\n",
      "Read MNIST data\n",
      "Done\n",
      "Algorithm: LSH\n",
      "Query: 0\n",
      "Query: 1\n",
      "Query: 2\n",
      "Query: 3\n",
      "Query: 4\n",
      "Query: 5\n",
      "Query: 6\n",
      "Query: 7\n",
      "Query: 8\n",
      "Query: 9\n"
     ]
    },
    {
     "name": "stderr",
     "output_type": "stream",
     "text": [
      "[I 2023-11-25 13:39:50,620] Trial 19 finished with values: [1.0, 0.0947414] and parameters: {'k': 7, 'L': 7, 'table_size': 15000, 'window_size': 3848}. \n",
      "/home/elvrach/.local/lib/python3.10/site-packages/optuna/integration/botorch.py:843: ExperimentalWarning: qehvi_candidates_func is experimental (supported from v2.4.0). The interface can change in the future.\n",
      "  candidates = self._candidates_func(\n"
     ]
    },
    {
     "name": "stdout",
     "output_type": "stream",
     "text": [
      "Trial parameters: {'k': 9, 'L': 5, 'table_size': 15000, 'window_size': 3253}\n",
      "Read MNIST data\n",
      "Done\n",
      "Algorithm: LSH\n",
      "Query: 0\n",
      "Query: 1\n",
      "Query: 2\n",
      "Query: 3\n",
      "Query: 4\n",
      "Query: 5\n",
      "Query: 6\n",
      "Query: 7\n",
      "Query: 8\n",
      "Query: 9\n"
     ]
    },
    {
     "name": "stderr",
     "output_type": "stream",
     "text": [
      "[I 2023-11-25 13:40:23,493] Trial 20 finished with values: [1.0613361064156164, 0.0135708] and parameters: {'k': 9, 'L': 5, 'table_size': 15000, 'window_size': 3253}. \n",
      "/home/elvrach/.local/lib/python3.10/site-packages/optuna/integration/botorch.py:843: ExperimentalWarning: qehvi_candidates_func is experimental (supported from v2.4.0). The interface can change in the future.\n",
      "  candidates = self._candidates_func(\n"
     ]
    },
    {
     "name": "stdout",
     "output_type": "stream",
     "text": [
      "Trial parameters: {'k': 9, 'L': 6, 'table_size': 15000, 'window_size': 3612}\n",
      "Read MNIST data\n",
      "Done\n",
      "Algorithm: LSH\n",
      "Query: 0\n",
      "Query: 1\n",
      "Query: 2\n",
      "Query: 3\n",
      "Query: 4\n",
      "Query: 5\n",
      "Query: 6\n",
      "Query: 7\n",
      "Query: 8\n",
      "Query: 9\n"
     ]
    },
    {
     "name": "stderr",
     "output_type": "stream",
     "text": [
      "[I 2023-11-25 13:41:00,599] Trial 21 finished with values: [1.0360367975311127, 0.0333736] and parameters: {'k': 9, 'L': 6, 'table_size': 15000, 'window_size': 3612}. \n",
      "/home/elvrach/.local/lib/python3.10/site-packages/optuna/integration/botorch.py:843: ExperimentalWarning: qehvi_candidates_func is experimental (supported from v2.4.0). The interface can change in the future.\n",
      "  candidates = self._candidates_func(\n"
     ]
    },
    {
     "name": "stdout",
     "output_type": "stream",
     "text": [
      "Trial parameters: {'k': 7, 'L': 6, 'table_size': 3750, 'window_size': 3128}\n",
      "Read MNIST data\n",
      "Done\n",
      "Algorithm: LSH\n",
      "Query: 0\n",
      "Query: 1\n",
      "Query: 2\n",
      "Query: 3\n",
      "Query: 4\n",
      "Query: 5\n",
      "Query: 6\n",
      "Query: 7\n",
      "Query: 8\n",
      "Query: 9\n"
     ]
    },
    {
     "name": "stderr",
     "output_type": "stream",
     "text": [
      "[I 2023-11-25 13:41:32,284] Trial 22 finished with values: [1.1057644437514855, 0.0205578] and parameters: {'k': 7, 'L': 6, 'table_size': 3750, 'window_size': 3128}. \n",
      "/home/elvrach/.local/lib/python3.10/site-packages/optuna/integration/botorch.py:843: ExperimentalWarning: qehvi_candidates_func is experimental (supported from v2.4.0). The interface can change in the future.\n",
      "  candidates = self._candidates_func(\n"
     ]
    },
    {
     "name": "stdout",
     "output_type": "stream",
     "text": [
      "Trial parameters: {'k': 9, 'L': 6, 'table_size': 15000, 'window_size': 4050}\n",
      "Read MNIST data\n",
      "Done\n",
      "Algorithm: LSH\n",
      "Query: 0\n",
      "Query: 1\n",
      "Query: 2\n",
      "Query: 3\n",
      "Query: 4\n",
      "Query: 5\n",
      "Query: 6\n",
      "Query: 7\n",
      "Query: 8\n",
      "Query: 9\n"
     ]
    },
    {
     "name": "stderr",
     "output_type": "stream",
     "text": [
      "[I 2023-11-25 13:42:11,511] Trial 23 finished with values: [0.9709495420790043, 0.08566159999999999] and parameters: {'k': 9, 'L': 6, 'table_size': 15000, 'window_size': 4050}. \n",
      "/home/elvrach/.local/lib/python3.10/site-packages/optuna/integration/botorch.py:843: ExperimentalWarning: qehvi_candidates_func is experimental (supported from v2.4.0). The interface can change in the future.\n",
      "  candidates = self._candidates_func(\n"
     ]
    },
    {
     "name": "stdout",
     "output_type": "stream",
     "text": [
      "Trial parameters: {'k': 8, 'L': 7, 'table_size': 15000, 'window_size': 4195}\n",
      "Read MNIST data\n",
      "Done\n",
      "Algorithm: LSH\n",
      "Query: 0\n",
      "Query: 1\n",
      "Query: 2\n",
      "Query: 3\n",
      "Query: 4\n",
      "Query: 5\n",
      "Query: 6\n",
      "Query: 7\n",
      "Query: 8\n",
      "Query: 9\n"
     ]
    },
    {
     "name": "stderr",
     "output_type": "stream",
     "text": [
      "[I 2023-11-25 13:42:55,842] Trial 24 finished with values: [1.0001554991361883, 0.104514] and parameters: {'k': 8, 'L': 7, 'table_size': 15000, 'window_size': 4195}. \n",
      "/home/elvrach/.local/lib/python3.10/site-packages/optuna/integration/botorch.py:843: ExperimentalWarning: qehvi_candidates_func is experimental (supported from v2.4.0). The interface can change in the future.\n",
      "  candidates = self._candidates_func(\n"
     ]
    },
    {
     "name": "stdout",
     "output_type": "stream",
     "text": [
      "Trial parameters: {'k': 9, 'L': 6, 'table_size': 15000, 'window_size': 4075}\n",
      "Read MNIST data\n",
      "Done\n",
      "Algorithm: LSH\n",
      "Query: 0\n",
      "Query: 1\n",
      "Query: 2\n",
      "Query: 3\n",
      "Query: 4\n",
      "Query: 5\n",
      "Query: 6\n",
      "Query: 7\n",
      "Query: 8\n",
      "Query: 9\n"
     ]
    },
    {
     "name": "stderr",
     "output_type": "stream",
     "text": [
      "[I 2023-11-25 13:43:39,447] Trial 25 finished with values: [1.0356523434986677, 0.0324463] and parameters: {'k': 9, 'L': 6, 'table_size': 15000, 'window_size': 4075}. \n",
      "/home/elvrach/.local/lib/python3.10/site-packages/optuna/integration/botorch.py:843: ExperimentalWarning: qehvi_candidates_func is experimental (supported from v2.4.0). The interface can change in the future.\n",
      "  candidates = self._candidates_func(\n"
     ]
    },
    {
     "name": "stdout",
     "output_type": "stream",
     "text": [
      "Trial parameters: {'k': 10, 'L': 6, 'table_size': 15000, 'window_size': 3752}\n",
      "Read MNIST data\n",
      "Done\n",
      "Algorithm: LSH\n",
      "Query: 0\n",
      "Query: 1\n",
      "Query: 2\n",
      "Query: 3\n",
      "Query: 4\n",
      "Query: 5\n",
      "Query: 6\n",
      "Query: 7\n",
      "Query: 8\n",
      "Query: 9\n"
     ]
    },
    {
     "name": "stderr",
     "output_type": "stream",
     "text": [
      "[I 2023-11-25 13:44:25,731] Trial 26 finished with values: [1.0124678074909996, 0.019983400000000002] and parameters: {'k': 10, 'L': 6, 'table_size': 15000, 'window_size': 3752}. \n",
      "/home/elvrach/.local/lib/python3.10/site-packages/optuna/integration/botorch.py:843: ExperimentalWarning: qehvi_candidates_func is experimental (supported from v2.4.0). The interface can change in the future.\n",
      "  candidates = self._candidates_func(\n"
     ]
    },
    {
     "name": "stdout",
     "output_type": "stream",
     "text": [
      "Trial parameters: {'k': 9, 'L': 8, 'table_size': 15000, 'window_size': 4076}\n",
      "Read MNIST data\n",
      "Done\n",
      "Algorithm: LSH\n",
      "Query: 0\n",
      "Query: 1\n",
      "Query: 2\n",
      "Query: 3\n",
      "Query: 4\n",
      "Query: 5\n",
      "Query: 6\n",
      "Query: 7\n",
      "Query: 8\n",
      "Query: 9\n"
     ]
    },
    {
     "name": "stderr",
     "output_type": "stream",
     "text": [
      "[I 2023-11-25 13:45:15,954] Trial 27 finished with values: [0.9895012144816999, 0.06250710000000001] and parameters: {'k': 9, 'L': 8, 'table_size': 15000, 'window_size': 4076}. \n",
      "/home/elvrach/.local/lib/python3.10/site-packages/optuna/integration/botorch.py:843: ExperimentalWarning: qehvi_candidates_func is experimental (supported from v2.4.0). The interface can change in the future.\n",
      "  candidates = self._candidates_func(\n"
     ]
    },
    {
     "name": "stdout",
     "output_type": "stream",
     "text": [
      "Trial parameters: {'k': 10, 'L': 8, 'table_size': 15000, 'window_size': 3636}\n",
      "Read MNIST data\n",
      "Done\n",
      "Algorithm: LSH\n",
      "Query: 0\n",
      "Query: 1\n",
      "Query: 2\n",
      "Query: 3\n",
      "Query: 4\n",
      "Query: 5\n",
      "Query: 6\n",
      "Query: 7\n",
      "Query: 8\n",
      "Query: 9\n"
     ]
    },
    {
     "name": "stderr",
     "output_type": "stream",
     "text": [
      "[I 2023-11-25 13:46:08,734] Trial 28 finished with values: [1.0, 0.044309] and parameters: {'k': 10, 'L': 8, 'table_size': 15000, 'window_size': 3636}. \n",
      "/home/elvrach/.local/lib/python3.10/site-packages/optuna/integration/botorch.py:843: ExperimentalWarning: qehvi_candidates_func is experimental (supported from v2.4.0). The interface can change in the future.\n",
      "  candidates = self._candidates_func(\n"
     ]
    },
    {
     "name": "stdout",
     "output_type": "stream",
     "text": [
      "Trial parameters: {'k': 10, 'L': 7, 'table_size': 15000, 'window_size': 3534}\n",
      "Read MNIST data\n",
      "Done\n",
      "Algorithm: LSH\n",
      "Query: 0\n",
      "Query: 1\n",
      "Query: 2\n",
      "Query: 3\n",
      "Query: 4\n",
      "Query: 5\n",
      "Query: 6\n",
      "Query: 7\n",
      "Query: 8\n",
      "Query: 9\n"
     ]
    },
    {
     "name": "stderr",
     "output_type": "stream",
     "text": [
      "[I 2023-11-25 13:47:07,906] Trial 29 finished with values: [1.0, 0.035598199999999997] and parameters: {'k': 10, 'L': 7, 'table_size': 15000, 'window_size': 3534}. \n",
      "/home/elvrach/.local/lib/python3.10/site-packages/optuna/integration/botorch.py:843: ExperimentalWarning: qehvi_candidates_func is experimental (supported from v2.4.0). The interface can change in the future.\n",
      "  candidates = self._candidates_func(\n"
     ]
    },
    {
     "name": "stdout",
     "output_type": "stream",
     "text": [
      "Trial parameters: {'k': 2, 'L': 4, 'table_size': 7500, 'window_size': 3841}\n",
      "Read MNIST data\n",
      "Done\n",
      "Algorithm: LSH\n",
      "Query: 0\n",
      "Query: 1\n",
      "Query: 2\n",
      "Query: 3\n",
      "Query: 4\n",
      "Query: 5\n",
      "Query: 6\n",
      "Query: 7\n",
      "Query: 8\n",
      "Query: 9\n"
     ]
    },
    {
     "name": "stderr",
     "output_type": "stream",
     "text": [
      "[I 2023-11-25 13:47:41,196] Trial 30 finished with values: [0.9051289104677074, 0.29210859999999994] and parameters: {'k': 2, 'L': 4, 'table_size': 7500, 'window_size': 3841}. \n",
      "/home/elvrach/.local/lib/python3.10/site-packages/optuna/integration/botorch.py:843: ExperimentalWarning: qehvi_candidates_func is experimental (supported from v2.4.0). The interface can change in the future.\n",
      "  candidates = self._candidates_func(\n"
     ]
    },
    {
     "name": "stdout",
     "output_type": "stream",
     "text": [
      "Trial parameters: {'k': 10, 'L': 7, 'table_size': 15000, 'window_size': 3640}\n",
      "Read MNIST data\n",
      "Done\n",
      "Algorithm: LSH\n",
      "Query: 0\n",
      "Query: 1\n",
      "Query: 2\n",
      "Query: 3\n",
      "Query: 4\n",
      "Query: 5\n",
      "Query: 6\n",
      "Query: 7\n",
      "Query: 8\n",
      "Query: 9\n"
     ]
    },
    {
     "name": "stderr",
     "output_type": "stream",
     "text": [
      "[I 2023-11-25 13:48:40,100] Trial 31 finished with values: [1.0116103751992551, 0.0407757] and parameters: {'k': 10, 'L': 7, 'table_size': 15000, 'window_size': 3640}. \n",
      "/home/elvrach/.local/lib/python3.10/site-packages/optuna/integration/botorch.py:843: ExperimentalWarning: qehvi_candidates_func is experimental (supported from v2.4.0). The interface can change in the future.\n",
      "  candidates = self._candidates_func(\n"
     ]
    },
    {
     "name": "stdout",
     "output_type": "stream",
     "text": [
      "Trial parameters: {'k': 10, 'L': 7, 'table_size': 15000, 'window_size': 3660}\n",
      "Read MNIST data\n",
      "Done\n",
      "Algorithm: LSH\n",
      "Query: 0\n",
      "Query: 1\n",
      "Query: 2\n",
      "Query: 3\n",
      "Query: 4\n",
      "Query: 5\n",
      "Query: 6\n",
      "Query: 7\n",
      "Query: 8\n",
      "Query: 9\n"
     ]
    },
    {
     "name": "stderr",
     "output_type": "stream",
     "text": [
      "[I 2023-11-25 13:49:35,438] Trial 32 finished with values: [1.0021869427020387, 0.033583] and parameters: {'k': 10, 'L': 7, 'table_size': 15000, 'window_size': 3660}. \n",
      "/home/elvrach/.local/lib/python3.10/site-packages/optuna/integration/botorch.py:843: ExperimentalWarning: qehvi_candidates_func is experimental (supported from v2.4.0). The interface can change in the future.\n",
      "  candidates = self._candidates_func(\n"
     ]
    },
    {
     "name": "stdout",
     "output_type": "stream",
     "text": [
      "Trial parameters: {'k': 7, 'L': 4, 'table_size': 3750, 'window_size': 4037}\n",
      "Read MNIST data\n",
      "Done\n",
      "Algorithm: LSH\n",
      "Query: 0\n",
      "Query: 1\n",
      "Query: 2\n",
      "Query: 3\n",
      "Query: 4\n",
      "Query: 5\n",
      "Query: 6\n",
      "Query: 7\n",
      "Query: 8\n",
      "Query: 9\n"
     ]
    },
    {
     "name": "stderr",
     "output_type": "stream",
     "text": [
      "[I 2023-11-25 13:50:14,059] Trial 33 finished with values: [1.0, 0.0914615] and parameters: {'k': 7, 'L': 4, 'table_size': 3750, 'window_size': 4037}. \n",
      "/home/elvrach/.local/lib/python3.10/site-packages/optuna/integration/botorch.py:843: ExperimentalWarning: qehvi_candidates_func is experimental (supported from v2.4.0). The interface can change in the future.\n",
      "  candidates = self._candidates_func(\n"
     ]
    },
    {
     "name": "stdout",
     "output_type": "stream",
     "text": [
      "Trial parameters: {'k': 10, 'L': 8, 'table_size': 15000, 'window_size': 3884}\n",
      "Read MNIST data\n",
      "Done\n",
      "Algorithm: LSH\n",
      "Query: 0\n",
      "Query: 1\n",
      "Query: 2\n",
      "Query: 3\n",
      "Query: 4\n",
      "Query: 5\n",
      "Query: 6\n",
      "Query: 7\n",
      "Query: 8\n",
      "Query: 9\n"
     ]
    },
    {
     "name": "stderr",
     "output_type": "stream",
     "text": [
      "[I 2023-11-25 13:51:14,936] Trial 34 finished with values: [0.9777148272779262, 0.06271970000000002] and parameters: {'k': 10, 'L': 8, 'table_size': 15000, 'window_size': 3884}. \n",
      "/home/elvrach/.local/lib/python3.10/site-packages/optuna/integration/botorch.py:843: ExperimentalWarning: qehvi_candidates_func is experimental (supported from v2.4.0). The interface can change in the future.\n",
      "  candidates = self._candidates_func(\n"
     ]
    },
    {
     "name": "stdout",
     "output_type": "stream",
     "text": [
      "Trial parameters: {'k': 10, 'L': 6, 'table_size': 15000, 'window_size': 3440}\n",
      "Read MNIST data\n",
      "Done\n",
      "Algorithm: LSH\n",
      "Query: 0\n",
      "Query: 1\n",
      "Query: 2\n",
      "Query: 3\n",
      "Query: 4\n",
      "Query: 5\n",
      "Query: 6\n",
      "Query: 7\n",
      "Query: 8\n",
      "Query: 9\n"
     ]
    },
    {
     "name": "stderr",
     "output_type": "stream",
     "text": [
      "[I 2023-11-25 13:52:03,309] Trial 35 finished with values: [1.0, 0.0355708] and parameters: {'k': 10, 'L': 6, 'table_size': 15000, 'window_size': 3440}. \n",
      "/home/elvrach/.local/lib/python3.10/site-packages/optuna/integration/botorch.py:843: ExperimentalWarning: qehvi_candidates_func is experimental (supported from v2.4.0). The interface can change in the future.\n",
      "  candidates = self._candidates_func(\n"
     ]
    },
    {
     "name": "stdout",
     "output_type": "stream",
     "text": [
      "Trial parameters: {'k': 10, 'L': 7, 'table_size': 15000, 'window_size': 3766}\n",
      "Read MNIST data\n",
      "Done\n",
      "Algorithm: LSH\n",
      "Query: 0\n",
      "Query: 1\n",
      "Query: 2\n",
      "Query: 3\n",
      "Query: 4\n",
      "Query: 5\n",
      "Query: 6\n",
      "Query: 7\n",
      "Query: 8\n",
      "Query: 9\n"
     ]
    },
    {
     "name": "stderr",
     "output_type": "stream",
     "text": [
      "[I 2023-11-25 13:52:59,815] Trial 36 finished with values: [1.053125112087831, 0.0412917] and parameters: {'k': 10, 'L': 7, 'table_size': 15000, 'window_size': 3766}. \n",
      "/home/elvrach/.local/lib/python3.10/site-packages/optuna/integration/botorch.py:843: ExperimentalWarning: qehvi_candidates_func is experimental (supported from v2.4.0). The interface can change in the future.\n",
      "  candidates = self._candidates_func(\n"
     ]
    },
    {
     "name": "stdout",
     "output_type": "stream",
     "text": [
      "Trial parameters: {'k': 10, 'L': 7, 'table_size': 15000, 'window_size': 3412}\n",
      "Read MNIST data\n",
      "Done\n",
      "Algorithm: LSH\n",
      "Query: 0\n",
      "Query: 1\n",
      "Query: 2\n",
      "Query: 3\n",
      "Query: 4\n",
      "Query: 5\n",
      "Query: 6\n",
      "Query: 7\n",
      "Query: 8\n",
      "Query: 9\n"
     ]
    },
    {
     "name": "stderr",
     "output_type": "stream",
     "text": [
      "[I 2023-11-25 13:53:53,719] Trial 37 finished with values: [1.0276999562716072, 0.025152599999999997] and parameters: {'k': 10, 'L': 7, 'table_size': 15000, 'window_size': 3412}. \n",
      "/home/elvrach/.local/lib/python3.10/site-packages/optuna/integration/botorch.py:843: ExperimentalWarning: qehvi_candidates_func is experimental (supported from v2.4.0). The interface can change in the future.\n",
      "  candidates = self._candidates_func(\n"
     ]
    },
    {
     "name": "stdout",
     "output_type": "stream",
     "text": [
      "Trial parameters: {'k': 10, 'L': 8, 'table_size': 15000, 'window_size': 3687}\n",
      "Read MNIST data\n",
      "Done\n",
      "Algorithm: LSH\n",
      "Query: 0\n",
      "Query: 1\n",
      "Query: 2\n",
      "Query: 3\n",
      "Query: 4\n",
      "Query: 5\n",
      "Query: 6\n",
      "Query: 7\n",
      "Query: 8\n",
      "Query: 9\n"
     ]
    },
    {
     "name": "stderr",
     "output_type": "stream",
     "text": [
      "[I 2023-11-25 13:54:57,032] Trial 38 finished with values: [1.0, 0.031066999999999994] and parameters: {'k': 10, 'L': 8, 'table_size': 15000, 'window_size': 3687}. \n",
      "/home/elvrach/.local/lib/python3.10/site-packages/optuna/integration/botorch.py:843: ExperimentalWarning: qehvi_candidates_func is experimental (supported from v2.4.0). The interface can change in the future.\n",
      "  candidates = self._candidates_func(\n"
     ]
    },
    {
     "name": "stdout",
     "output_type": "stream",
     "text": [
      "Trial parameters: {'k': 10, 'L': 8, 'table_size': 15000, 'window_size': 3713}\n",
      "Read MNIST data\n",
      "Done\n",
      "Algorithm: LSH\n",
      "Query: 0\n",
      "Query: 1\n",
      "Query: 2\n",
      "Query: 3\n",
      "Query: 4\n",
      "Query: 5\n",
      "Query: 6\n",
      "Query: 7\n",
      "Query: 8\n",
      "Query: 9\n"
     ]
    },
    {
     "name": "stderr",
     "output_type": "stream",
     "text": [
      "[I 2023-11-25 13:56:01,219] Trial 39 finished with values: [0.9739520308506253, 0.05091140000000001] and parameters: {'k': 10, 'L': 8, 'table_size': 15000, 'window_size': 3713}. \n",
      "/home/elvrach/.local/lib/python3.10/site-packages/optuna/integration/botorch.py:843: ExperimentalWarning: qehvi_candidates_func is experimental (supported from v2.4.0). The interface can change in the future.\n",
      "  candidates = self._candidates_func(\n"
     ]
    },
    {
     "name": "stdout",
     "output_type": "stream",
     "text": [
      "Trial parameters: {'k': 10, 'L': 8, 'table_size': 15000, 'window_size': 3606}\n",
      "Read MNIST data\n",
      "Done\n",
      "Algorithm: LSH\n",
      "Query: 0\n",
      "Query: 1\n",
      "Query: 2\n",
      "Query: 3\n",
      "Query: 4\n",
      "Query: 5\n",
      "Query: 6\n",
      "Query: 7\n",
      "Query: 8\n",
      "Query: 9\n"
     ]
    },
    {
     "name": "stderr",
     "output_type": "stream",
     "text": [
      "[I 2023-11-25 13:57:04,064] Trial 40 finished with values: [1.0561276292155861, 0.025736] and parameters: {'k': 10, 'L': 8, 'table_size': 15000, 'window_size': 3606}. \n",
      "/home/elvrach/.local/lib/python3.10/site-packages/optuna/integration/botorch.py:843: ExperimentalWarning: qehvi_candidates_func is experimental (supported from v2.4.0). The interface can change in the future.\n",
      "  candidates = self._candidates_func(\n"
     ]
    },
    {
     "name": "stdout",
     "output_type": "stream",
     "text": [
      "Trial parameters: {'k': 10, 'L': 7, 'table_size': 15000, 'window_size': 3604}\n",
      "Read MNIST data\n",
      "Done\n",
      "Algorithm: LSH\n",
      "Query: 0\n",
      "Query: 1\n",
      "Query: 2\n",
      "Query: 3\n",
      "Query: 4\n",
      "Query: 5\n",
      "Query: 6\n",
      "Query: 7\n",
      "Query: 8\n",
      "Query: 9\n"
     ]
    },
    {
     "name": "stderr",
     "output_type": "stream",
     "text": [
      "[I 2023-11-25 13:58:11,521] Trial 41 finished with values: [0.9861754171211075, 0.051636900000000006] and parameters: {'k': 10, 'L': 7, 'table_size': 15000, 'window_size': 3604}. \n",
      "/home/elvrach/.local/lib/python3.10/site-packages/optuna/integration/botorch.py:843: ExperimentalWarning: qehvi_candidates_func is experimental (supported from v2.4.0). The interface can change in the future.\n",
      "  candidates = self._candidates_func(\n"
     ]
    },
    {
     "name": "stdout",
     "output_type": "stream",
     "text": [
      "Trial parameters: {'k': 10, 'L': 7, 'table_size': 15000, 'window_size': 3441}\n",
      "Read MNIST data\n",
      "Done\n",
      "Algorithm: LSH\n",
      "Query: 0\n",
      "Query: 1\n",
      "Query: 2\n",
      "Query: 3\n",
      "Query: 4\n",
      "Query: 5\n",
      "Query: 6\n",
      "Query: 7\n",
      "Query: 8\n",
      "Query: 9\n"
     ]
    },
    {
     "name": "stderr",
     "output_type": "stream",
     "text": [
      "[I 2023-11-25 13:59:18,901] Trial 42 finished with values: [1.0021869427020387, 0.048907799999999994] and parameters: {'k': 10, 'L': 7, 'table_size': 15000, 'window_size': 3441}. \n",
      "/home/elvrach/.local/lib/python3.10/site-packages/optuna/integration/botorch.py:843: ExperimentalWarning: qehvi_candidates_func is experimental (supported from v2.4.0). The interface can change in the future.\n",
      "  candidates = self._candidates_func(\n"
     ]
    },
    {
     "name": "stdout",
     "output_type": "stream",
     "text": [
      "Trial parameters: {'k': 10, 'L': 8, 'table_size': 15000, 'window_size': 3985}\n",
      "Read MNIST data\n",
      "Done\n",
      "Algorithm: LSH\n",
      "Query: 0\n",
      "Query: 1\n",
      "Query: 2\n",
      "Query: 3\n",
      "Query: 4\n",
      "Query: 5\n",
      "Query: 6\n",
      "Query: 7\n",
      "Query: 8\n",
      "Query: 9\n"
     ]
    },
    {
     "name": "stderr",
     "output_type": "stream",
     "text": [
      "[I 2023-11-25 14:00:24,036] Trial 43 finished with values: [1.0, 0.0643002] and parameters: {'k': 10, 'L': 8, 'table_size': 15000, 'window_size': 3985}. \n",
      "/home/elvrach/.local/lib/python3.10/site-packages/optuna/integration/botorch.py:843: ExperimentalWarning: qehvi_candidates_func is experimental (supported from v2.4.0). The interface can change in the future.\n",
      "  candidates = self._candidates_func(\n"
     ]
    },
    {
     "name": "stdout",
     "output_type": "stream",
     "text": [
      "Trial parameters: {'k': 10, 'L': 7, 'table_size': 15000, 'window_size': 3513}\n",
      "Read MNIST data\n",
      "Done\n",
      "Algorithm: LSH\n",
      "Query: 0\n",
      "Query: 1\n",
      "Query: 2\n",
      "Query: 3\n",
      "Query: 4\n",
      "Query: 5\n",
      "Query: 6\n",
      "Query: 7\n",
      "Query: 8\n",
      "Query: 9\n"
     ]
    },
    {
     "name": "stderr",
     "output_type": "stream",
     "text": [
      "[I 2023-11-25 14:01:25,822] Trial 44 finished with values: [1.0, 0.0371734] and parameters: {'k': 10, 'L': 7, 'table_size': 15000, 'window_size': 3513}. \n",
      "/home/elvrach/.local/lib/python3.10/site-packages/optuna/integration/botorch.py:843: ExperimentalWarning: qehvi_candidates_func is experimental (supported from v2.4.0). The interface can change in the future.\n",
      "  candidates = self._candidates_func(\n"
     ]
    },
    {
     "name": "stdout",
     "output_type": "stream",
     "text": [
      "Trial parameters: {'k': 7, 'L': 5, 'table_size': 3750, 'window_size': 3551}\n",
      "Read MNIST data\n",
      "Done\n",
      "Algorithm: LSH\n",
      "Query: 0\n",
      "Query: 1\n",
      "Query: 2\n",
      "Query: 3\n",
      "Query: 4\n",
      "Query: 5\n",
      "Query: 6\n",
      "Query: 7\n",
      "Query: 8\n",
      "Query: 9\n"
     ]
    },
    {
     "name": "stderr",
     "output_type": "stream",
     "text": [
      "[I 2023-11-25 14:02:15,293] Trial 45 finished with values: [1.0021869427020387, 0.031239100000000002] and parameters: {'k': 7, 'L': 5, 'table_size': 3750, 'window_size': 3551}. \n",
      "/home/elvrach/.local/lib/python3.10/site-packages/optuna/integration/botorch.py:843: ExperimentalWarning: qehvi_candidates_func is experimental (supported from v2.4.0). The interface can change in the future.\n",
      "  candidates = self._candidates_func(\n"
     ]
    },
    {
     "name": "stdout",
     "output_type": "stream",
     "text": [
      "Trial parameters: {'k': 9, 'L': 8, 'table_size': 15000, 'window_size': 4217}\n",
      "Read MNIST data\n",
      "Done\n",
      "Algorithm: LSH\n",
      "Query: 0\n",
      "Query: 1\n",
      "Query: 2\n",
      "Query: 3\n",
      "Query: 4\n",
      "Query: 5\n",
      "Query: 6\n",
      "Query: 7\n",
      "Query: 8\n",
      "Query: 9\n"
     ]
    },
    {
     "name": "stderr",
     "output_type": "stream",
     "text": [
      "[I 2023-11-25 14:03:20,725] Trial 46 finished with values: [0.9492472634245511, 0.0918829] and parameters: {'k': 9, 'L': 8, 'table_size': 15000, 'window_size': 4217}. \n",
      "/home/elvrach/.local/lib/python3.10/site-packages/optuna/integration/botorch.py:843: ExperimentalWarning: qehvi_candidates_func is experimental (supported from v2.4.0). The interface can change in the future.\n",
      "  candidates = self._candidates_func(\n"
     ]
    },
    {
     "name": "stdout",
     "output_type": "stream",
     "text": [
      "Trial parameters: {'k': 7, 'L': 5, 'table_size': 3750, 'window_size': 3252}\n",
      "Read MNIST data\n",
      "Done\n",
      "Algorithm: LSH\n",
      "Query: 0\n",
      "Query: 1\n",
      "Query: 2\n",
      "Query: 3\n",
      "Query: 4\n",
      "Query: 5\n",
      "Query: 6\n",
      "Query: 7\n",
      "Query: 8\n",
      "Query: 9\n"
     ]
    },
    {
     "name": "stderr",
     "output_type": "stream",
     "text": [
      "[I 2023-11-25 14:04:21,546] Trial 47 finished with values: [1.0127508175968094, 0.040324299999999993] and parameters: {'k': 7, 'L': 5, 'table_size': 3750, 'window_size': 3252}. \n",
      "/home/elvrach/.local/lib/python3.10/site-packages/optuna/integration/botorch.py:843: ExperimentalWarning: qehvi_candidates_func is experimental (supported from v2.4.0). The interface can change in the future.\n",
      "  candidates = self._candidates_func(\n"
     ]
    },
    {
     "name": "stdout",
     "output_type": "stream",
     "text": [
      "Trial parameters: {'k': 10, 'L': 8, 'table_size': 15000, 'window_size': 3738}\n",
      "Read MNIST data\n",
      "Done\n",
      "Algorithm: LSH\n",
      "Query: 0\n",
      "Query: 1\n",
      "Query: 2\n",
      "Query: 3\n",
      "Query: 4\n",
      "Query: 5\n",
      "Query: 6\n",
      "Query: 7\n",
      "Query: 8\n",
      "Query: 9\n"
     ]
    },
    {
     "name": "stderr",
     "output_type": "stream",
     "text": [
      "[I 2023-11-25 14:05:35,747] Trial 48 finished with values: [1.0213835094142336, 0.08483169999999998] and parameters: {'k': 10, 'L': 8, 'table_size': 15000, 'window_size': 3738}. \n",
      "/home/elvrach/.local/lib/python3.10/site-packages/optuna/integration/botorch.py:843: ExperimentalWarning: qehvi_candidates_func is experimental (supported from v2.4.0). The interface can change in the future.\n",
      "  candidates = self._candidates_func(\n"
     ]
    },
    {
     "name": "stdout",
     "output_type": "stream",
     "text": [
      "Trial parameters: {'k': 10, 'L': 8, 'table_size': 15000, 'window_size': 4244}\n",
      "Read MNIST data\n",
      "Done\n",
      "Algorithm: LSH\n",
      "Query: 0\n",
      "Query: 1\n",
      "Query: 2\n",
      "Query: 3\n",
      "Query: 4\n",
      "Query: 5\n",
      "Query: 6\n",
      "Query: 7\n",
      "Query: 8\n",
      "Query: 9\n"
     ]
    },
    {
     "name": "stderr",
     "output_type": "stream",
     "text": [
      "[I 2023-11-25 14:06:54,408] Trial 49 finished with values: [1.0021869427020387, 0.11239860000000002] and parameters: {'k': 10, 'L': 8, 'table_size': 15000, 'window_size': 4244}. \n"
     ]
    },
    {
     "name": "stdout",
     "output_type": "stream",
     "text": [
      "-------------------- Best trials --------------------\n",
      "Trial no. 4\n",
      " Values = [0.8612792049187826, 0.6233115], Constraints = (0, -0.6133115)\n",
      " Params = {'k': 2, 'L': 10, 'table_size': 15000, 'window_size': 4782}\n",
      "Trial no. 30\n",
      " Values = [0.9051289104677074, 0.29210859999999994], Constraints = (0, -0.28210859999999993)\n",
      " Params = {'k': 2, 'L': 4, 'table_size': 7500, 'window_size': 3841}\n",
      "Trial no. 9\n",
      " Values = [0.9078231289864939, 0.24525959999999997], Constraints = (0, -0.23525959999999996)\n",
      " Params = {'k': 4, 'L': 10, 'table_size': 3750, 'window_size': 3355}\n",
      "Trial no. 46\n",
      " Values = [0.9492472634245511, 0.0918829], Constraints = (0, -0.08188290000000001)\n",
      " Params = {'k': 9, 'L': 8, 'table_size': 15000, 'window_size': 4217}\n",
      "Trial no. 23\n",
      " Values = [0.9709495420790043, 0.08566159999999999], Constraints = (0, -0.0756616)\n",
      " Params = {'k': 9, 'L': 6, 'table_size': 15000, 'window_size': 4050}\n",
      "Trial no. 10\n",
      " Values = [0.9716113798142378, 0.043435699999999994], Constraints = (0, -0.03343569999999999)\n",
      " Params = {'k': 7, 'L': 6, 'table_size': 3750, 'window_size': 3200}\n",
      "Trial no. 38\n",
      " Values = [1.0, 0.031066999999999994], Constraints = (0, -0.021066999999999995)\n",
      " Params = {'k': 10, 'L': 8, 'table_size': 15000, 'window_size': 3687}\n",
      "Trial no. 26\n",
      " Values = [1.0124678074909996, 0.019983400000000002], Constraints = (0, -0.009983400000000002)\n",
      " Params = {'k': 10, 'L': 6, 'table_size': 15000, 'window_size': 3752}\n",
      "Trial no. 5\n",
      " Values = [1.0537973456315135, 0.015467299999999998], Constraints = (0, -0.005467299999999998)\n",
      " Params = {'k': 7, 'L': 3, 'table_size': 15000, 'window_size': 3326}\n",
      "Trial no. 20\n",
      " Values = [1.0613361064156164, 0.0135708], Constraints = (0, -0.003570799999999999)\n",
      " Params = {'k': 9, 'L': 5, 'table_size': 15000, 'window_size': 3253}\n",
      "Trial no. 0\n",
      " Values = [1.1772753554968618, 0.0022889000000000004], Constraints = (0, 0.0077111)\n",
      " Params = {'k': 10, 'L': 8, 'table_size': 15000, 'window_size': 2003}\n",
      "Trial no. 2\n",
      " Values = [1.3015398135892386, 0.0017852], Constraints = (0, 0.0082148)\n",
      " Params = {'k': 8, 'L': 5, 'table_size': 3750, 'window_size': 1773}\n",
      "Trial no. 3\n",
      " Values = [1.6441154261537358, 0.0005732000000000001], Constraints = (43, 0.0094268)\n",
      " Params = {'k': 7, 'L': 3, 'table_size': 3750, 'window_size': 1354}\n",
      "CPU times: user 1h 42min 56s, sys: 57.4 s, total: 1h 43min 53s\n",
      "Wall time: 35min 41s\n"
     ]
    }
   ],
   "source": [
    "%%time\n",
    "sampler = optuna.integration.BoTorchSampler(constraints_func=constraints, n_startup_trials=10)\n",
    "lsh_study = optuna.create_study(study_name='lsh', directions=['minimize', 'minimize'], sampler=sampler)\n",
    "lsh_study.optimize(objective_lsh, n_trials=50)\n",
    "print(\"-------------------- Best trials --------------------\")\n",
    "\n",
    "trials = sorted(lsh_study.best_trials, key=lambda x: x.values)\n",
    "for trial in trials:\n",
    "    print(\"Trial no. {}\".format(trial.number))\n",
    "    print(\" Values = {}, Constraints = {}\".format(trial.values, trial.user_attrs[\"constraint\"]))\n",
    "    print(\" Params = {}\".format(trial.params))"
   ]
  },
  {
   "attachments": {},
   "cell_type": "markdown",
   "metadata": {},
   "source": [
    "## Visualize LSH study results"
   ]
  },
  {
   "cell_type": "code",
   "execution_count": 13,
   "metadata": {},
   "outputs": [
    {
     "data": {
      "application/vnd.plotly.v1+json": {
       "config": {
        "plotlyServerURL": "https://plot.ly"
       },
       "data": [
        {
         "hovertemplate": "%{text}<extra>Trial</extra>",
         "marker": {
          "color": [
           1,
           6,
           7,
           8,
           11,
           12,
           13,
           14,
           15,
           16,
           17,
           18,
           19,
           21,
           22,
           24,
           25,
           27,
           28,
           29,
           31,
           32,
           33,
           34,
           35,
           36,
           37,
           39,
           40,
           41,
           42,
           43,
           44,
           45,
           47,
           48,
           49
          ],
          "colorbar": {
           "title": {
            "text": "Trial"
           }
          },
          "colorscale": [
           [
            0,
            "rgb(247,251,255)"
           ],
           [
            0.125,
            "rgb(222,235,247)"
           ],
           [
            0.25,
            "rgb(198,219,239)"
           ],
           [
            0.375,
            "rgb(158,202,225)"
           ],
           [
            0.5,
            "rgb(107,174,214)"
           ],
           [
            0.625,
            "rgb(66,146,198)"
           ],
           [
            0.75,
            "rgb(33,113,181)"
           ],
           [
            0.875,
            "rgb(8,81,156)"
           ],
           [
            1,
            "rgb(8,48,107)"
           ]
          ],
          "line": {
           "color": "Grey",
           "width": 0.5
          }
         },
         "mode": "markers",
         "showlegend": false,
         "text": [
          "{<br>  \"number\": 1,<br>  \"values\": [<br>    1.0323896418551815,<br>    0.0247823<br>  ],<br>  \"params\": {<br>    \"k\": 6,<br>    \"L\": 4,<br>    \"table_size\": 3750,<br>    \"window_size\": 2844<br>  },<br>  \"user_attrs\": {<br>    \"constraint\": [<br>      0,<br>      -0.0147823<br>    ]<br>  }<br>}",
          "{<br>  \"number\": 6,<br>  \"values\": [<br>    2.215816764148133,<br>    0.0013180000000000002<br>  ],<br>  \"params\": {<br>    \"k\": 9,<br>    \"L\": 9,<br>    \"table_size\": 7500,<br>    \"window_size\": 1082<br>  },<br>  \"user_attrs\": {<br>    \"constraint\": [<br>      48,<br>      0.008682<br>    ]<br>  }<br>}",
          "{<br>  \"number\": 7,<br>  \"values\": [<br>    0.9089349207288518,<br>    0.2493493<br>  ],<br>  \"params\": {<br>    \"k\": 2,<br>    \"L\": 5,<br>    \"table_size\": 7500,<br>    \"window_size\": 2870<br>  },<br>  \"user_attrs\": {<br>    \"constraint\": [<br>      0,<br>      -0.2393493<br>    ]<br>  }<br>}",
          "{<br>  \"number\": 8,<br>  \"values\": [<br>    1.0,<br>    0.10556829999999999<br>  ],<br>  \"params\": {<br>    \"k\": 4,<br>    \"L\": 9,<br>    \"table_size\": 3750,<br>    \"window_size\": 2200<br>  },<br>  \"user_attrs\": {<br>    \"constraint\": [<br>      0,<br>      -0.0955683<br>    ]<br>  }<br>}",
          "{<br>  \"number\": 11,<br>  \"values\": [<br>    1.0127508175968094,<br>    0.1036674<br>  ],<br>  \"params\": {<br>    \"k\": 5,<br>    \"L\": 6,<br>    \"table_size\": 3750,<br>    \"window_size\": 3249<br>  },<br>  \"user_attrs\": {<br>    \"constraint\": [<br>      0,<br>      -0.09366740000000001<br>    ]<br>  }<br>}",
          "{<br>  \"number\": 12,<br>  \"values\": [<br>    1.0419217967921204,<br>    0.025681400000000004<br>  ],<br>  \"params\": {<br>    \"k\": 8,<br>    \"L\": 5,<br>    \"table_size\": 3750,<br>    \"window_size\": 3303<br>  },<br>  \"user_attrs\": {<br>    \"constraint\": [<br>      0,<br>      -0.015681400000000005<br>    ]<br>  }<br>}",
          "{<br>  \"number\": 13,<br>  \"values\": [<br>    1.0879964690732533,<br>    0.0232022<br>  ],<br>  \"params\": {<br>    \"k\": 8,<br>    \"L\": 7,<br>    \"table_size\": 3750,<br>    \"window_size\": 2742<br>  },<br>  \"user_attrs\": {<br>    \"constraint\": [<br>      0,<br>      -0.013202199999999999<br>    ]<br>  }<br>}",
          "{<br>  \"number\": 14,<br>  \"values\": [<br>    1.004813609368143,<br>    0.0365574<br>  ],<br>  \"params\": {<br>    \"k\": 7,<br>    \"L\": 5,<br>    \"table_size\": 3750,<br>    \"window_size\": 3061<br>  },<br>  \"user_attrs\": {<br>    \"constraint\": [<br>      0,<br>      -0.026557399999999995<br>    ]<br>  }<br>}",
          "{<br>  \"number\": 15,<br>  \"values\": [<br>    1.0677614985514365,<br>    0.0169359<br>  ],<br>  \"params\": {<br>    \"k\": 10,<br>    \"L\": 3,<br>    \"table_size\": 15000,<br>    \"window_size\": 3260<br>  },<br>  \"user_attrs\": {<br>    \"constraint\": [<br>      0,<br>      -0.0069359<br>    ]<br>  }<br>}",
          "{<br>  \"number\": 16,<br>  \"values\": [<br>    1.3564779718539302,<br>    0.0023514999999999994<br>  ],<br>  \"params\": {<br>    \"k\": 8,<br>    \"L\": 2,<br>    \"table_size\": 15000,<br>    \"window_size\": 2082<br>  },<br>  \"user_attrs\": {<br>    \"constraint\": [<br>      0,<br>      0.007648500000000001<br>    ]<br>  }<br>}",
          "{<br>  \"number\": 17,<br>  \"values\": [<br>    1.0,<br>    0.0822667<br>  ],<br>  \"params\": {<br>    \"k\": 9,<br>    \"L\": 7,<br>    \"table_size\": 15000,<br>    \"window_size\": 4243<br>  },<br>  \"user_attrs\": {<br>    \"constraint\": [<br>      0,<br>      -0.0722667<br>    ]<br>  }<br>}",
          "{<br>  \"number\": 18,<br>  \"values\": [<br>    1.0578582149524811,<br>    0.0300072<br>  ],<br>  \"params\": {<br>    \"k\": 9,<br>    \"L\": 3,<br>    \"table_size\": 15000,<br>    \"window_size\": 3974<br>  },<br>  \"user_attrs\": {<br>    \"constraint\": [<br>      0,<br>      -0.020007200000000003<br>    ]<br>  }<br>}",
          "{<br>  \"number\": 19,<br>  \"values\": [<br>    1.0,<br>    0.0947414<br>  ],<br>  \"params\": {<br>    \"k\": 7,<br>    \"L\": 7,<br>    \"table_size\": 15000,<br>    \"window_size\": 3848<br>  },<br>  \"user_attrs\": {<br>    \"constraint\": [<br>      0,<br>      -0.08474140000000001<br>    ]<br>  }<br>}",
          "{<br>  \"number\": 21,<br>  \"values\": [<br>    1.0360367975311127,<br>    0.0333736<br>  ],<br>  \"params\": {<br>    \"k\": 9,<br>    \"L\": 6,<br>    \"table_size\": 15000,<br>    \"window_size\": 3612<br>  },<br>  \"user_attrs\": {<br>    \"constraint\": [<br>      0,<br>      -0.0233736<br>    ]<br>  }<br>}",
          "{<br>  \"number\": 22,<br>  \"values\": [<br>    1.1057644437514855,<br>    0.0205578<br>  ],<br>  \"params\": {<br>    \"k\": 7,<br>    \"L\": 6,<br>    \"table_size\": 3750,<br>    \"window_size\": 3128<br>  },<br>  \"user_attrs\": {<br>    \"constraint\": [<br>      0,<br>      -0.0105578<br>    ]<br>  }<br>}",
          "{<br>  \"number\": 24,<br>  \"values\": [<br>    1.0001554991361883,<br>    0.104514<br>  ],<br>  \"params\": {<br>    \"k\": 8,<br>    \"L\": 7,<br>    \"table_size\": 15000,<br>    \"window_size\": 4195<br>  },<br>  \"user_attrs\": {<br>    \"constraint\": [<br>      0,<br>      -0.094514<br>    ]<br>  }<br>}",
          "{<br>  \"number\": 25,<br>  \"values\": [<br>    1.0356523434986677,<br>    0.0324463<br>  ],<br>  \"params\": {<br>    \"k\": 9,<br>    \"L\": 6,<br>    \"table_size\": 15000,<br>    \"window_size\": 4075<br>  },<br>  \"user_attrs\": {<br>    \"constraint\": [<br>      0,<br>      -0.022446299999999995<br>    ]<br>  }<br>}",
          "{<br>  \"number\": 27,<br>  \"values\": [<br>    0.9895012144816999,<br>    0.06250710000000001<br>  ],<br>  \"params\": {<br>    \"k\": 9,<br>    \"L\": 8,<br>    \"table_size\": 15000,<br>    \"window_size\": 4076<br>  },<br>  \"user_attrs\": {<br>    \"constraint\": [<br>      0,<br>      -0.05250710000000001<br>    ]<br>  }<br>}",
          "{<br>  \"number\": 28,<br>  \"values\": [<br>    1.0,<br>    0.044309<br>  ],<br>  \"params\": {<br>    \"k\": 10,<br>    \"L\": 8,<br>    \"table_size\": 15000,<br>    \"window_size\": 3636<br>  },<br>  \"user_attrs\": {<br>    \"constraint\": [<br>      0,<br>      -0.034309<br>    ]<br>  }<br>}",
          "{<br>  \"number\": 29,<br>  \"values\": [<br>    1.0,<br>    0.035598199999999997<br>  ],<br>  \"params\": {<br>    \"k\": 10,<br>    \"L\": 7,<br>    \"table_size\": 15000,<br>    \"window_size\": 3534<br>  },<br>  \"user_attrs\": {<br>    \"constraint\": [<br>      0,<br>      -0.025598199999999995<br>    ]<br>  }<br>}",
          "{<br>  \"number\": 31,<br>  \"values\": [<br>    1.0116103751992551,<br>    0.0407757<br>  ],<br>  \"params\": {<br>    \"k\": 10,<br>    \"L\": 7,<br>    \"table_size\": 15000,<br>    \"window_size\": 3640<br>  },<br>  \"user_attrs\": {<br>    \"constraint\": [<br>      0,<br>      -0.030775699999999996<br>    ]<br>  }<br>}",
          "{<br>  \"number\": 32,<br>  \"values\": [<br>    1.0021869427020387,<br>    0.033583<br>  ],<br>  \"params\": {<br>    \"k\": 10,<br>    \"L\": 7,<br>    \"table_size\": 15000,<br>    \"window_size\": 3660<br>  },<br>  \"user_attrs\": {<br>    \"constraint\": [<br>      0,<br>      -0.023583<br>    ]<br>  }<br>}",
          "{<br>  \"number\": 33,<br>  \"values\": [<br>    1.0,<br>    0.0914615<br>  ],<br>  \"params\": {<br>    \"k\": 7,<br>    \"L\": 4,<br>    \"table_size\": 3750,<br>    \"window_size\": 4037<br>  },<br>  \"user_attrs\": {<br>    \"constraint\": [<br>      0,<br>      -0.0814615<br>    ]<br>  }<br>}",
          "{<br>  \"number\": 34,<br>  \"values\": [<br>    0.9777148272779262,<br>    0.06271970000000002<br>  ],<br>  \"params\": {<br>    \"k\": 10,<br>    \"L\": 8,<br>    \"table_size\": 15000,<br>    \"window_size\": 3884<br>  },<br>  \"user_attrs\": {<br>    \"constraint\": [<br>      0,<br>      -0.052719700000000015<br>    ]<br>  }<br>}",
          "{<br>  \"number\": 35,<br>  \"values\": [<br>    1.0,<br>    0.0355708<br>  ],<br>  \"params\": {<br>    \"k\": 10,<br>    \"L\": 6,<br>    \"table_size\": 15000,<br>    \"window_size\": 3440<br>  },<br>  \"user_attrs\": {<br>    \"constraint\": [<br>      0,<br>      -0.025570799999999998<br>    ]<br>  }<br>}",
          "{<br>  \"number\": 36,<br>  \"values\": [<br>    1.053125112087831,<br>    0.0412917<br>  ],<br>  \"params\": {<br>    \"k\": 10,<br>    \"L\": 7,<br>    \"table_size\": 15000,<br>    \"window_size\": 3766<br>  },<br>  \"user_attrs\": {<br>    \"constraint\": [<br>      0,<br>      -0.0312917<br>    ]<br>  }<br>}",
          "{<br>  \"number\": 37,<br>  \"values\": [<br>    1.0276999562716072,<br>    0.025152599999999997<br>  ],<br>  \"params\": {<br>    \"k\": 10,<br>    \"L\": 7,<br>    \"table_size\": 15000,<br>    \"window_size\": 3412<br>  },<br>  \"user_attrs\": {<br>    \"constraint\": [<br>      0,<br>      -0.015152599999999997<br>    ]<br>  }<br>}",
          "{<br>  \"number\": 39,<br>  \"values\": [<br>    0.9739520308506253,<br>    0.05091140000000001<br>  ],<br>  \"params\": {<br>    \"k\": 10,<br>    \"L\": 8,<br>    \"table_size\": 15000,<br>    \"window_size\": 3713<br>  },<br>  \"user_attrs\": {<br>    \"constraint\": [<br>      0,<br>      -0.04091140000000001<br>    ]<br>  }<br>}",
          "{<br>  \"number\": 40,<br>  \"values\": [<br>    1.0561276292155861,<br>    0.025736<br>  ],<br>  \"params\": {<br>    \"k\": 10,<br>    \"L\": 8,<br>    \"table_size\": 15000,<br>    \"window_size\": 3606<br>  },<br>  \"user_attrs\": {<br>    \"constraint\": [<br>      0,<br>      -0.015736<br>    ]<br>  }<br>}",
          "{<br>  \"number\": 41,<br>  \"values\": [<br>    0.9861754171211075,<br>    0.051636900000000006<br>  ],<br>  \"params\": {<br>    \"k\": 10,<br>    \"L\": 7,<br>    \"table_size\": 15000,<br>    \"window_size\": 3604<br>  },<br>  \"user_attrs\": {<br>    \"constraint\": [<br>      0,<br>      -0.041636900000000004<br>    ]<br>  }<br>}",
          "{<br>  \"number\": 42,<br>  \"values\": [<br>    1.0021869427020387,<br>    0.048907799999999994<br>  ],<br>  \"params\": {<br>    \"k\": 10,<br>    \"L\": 7,<br>    \"table_size\": 15000,<br>    \"window_size\": 3441<br>  },<br>  \"user_attrs\": {<br>    \"constraint\": [<br>      0,<br>      -0.03890779999999999<br>    ]<br>  }<br>}",
          "{<br>  \"number\": 43,<br>  \"values\": [<br>    1.0,<br>    0.0643002<br>  ],<br>  \"params\": {<br>    \"k\": 10,<br>    \"L\": 8,<br>    \"table_size\": 15000,<br>    \"window_size\": 3985<br>  },<br>  \"user_attrs\": {<br>    \"constraint\": [<br>      0,<br>      -0.0543002<br>    ]<br>  }<br>}",
          "{<br>  \"number\": 44,<br>  \"values\": [<br>    1.0,<br>    0.0371734<br>  ],<br>  \"params\": {<br>    \"k\": 10,<br>    \"L\": 7,<br>    \"table_size\": 15000,<br>    \"window_size\": 3513<br>  },<br>  \"user_attrs\": {<br>    \"constraint\": [<br>      0,<br>      -0.0271734<br>    ]<br>  }<br>}",
          "{<br>  \"number\": 45,<br>  \"values\": [<br>    1.0021869427020387,<br>    0.031239100000000002<br>  ],<br>  \"params\": {<br>    \"k\": 7,<br>    \"L\": 5,<br>    \"table_size\": 3750,<br>    \"window_size\": 3551<br>  },<br>  \"user_attrs\": {<br>    \"constraint\": [<br>      0,<br>      -0.021239100000000004<br>    ]<br>  }<br>}",
          "{<br>  \"number\": 47,<br>  \"values\": [<br>    1.0127508175968094,<br>    0.040324299999999993<br>  ],<br>  \"params\": {<br>    \"k\": 7,<br>    \"L\": 5,<br>    \"table_size\": 3750,<br>    \"window_size\": 3252<br>  },<br>  \"user_attrs\": {<br>    \"constraint\": [<br>      0,<br>      -0.03032429999999999<br>    ]<br>  }<br>}",
          "{<br>  \"number\": 48,<br>  \"values\": [<br>    1.0213835094142336,<br>    0.08483169999999998<br>  ],<br>  \"params\": {<br>    \"k\": 10,<br>    \"L\": 8,<br>    \"table_size\": 15000,<br>    \"window_size\": 3738<br>  },<br>  \"user_attrs\": {<br>    \"constraint\": [<br>      0,<br>      -0.07483169999999999<br>    ]<br>  }<br>}",
          "{<br>  \"number\": 49,<br>  \"values\": [<br>    1.0021869427020387,<br>    0.11239860000000002<br>  ],<br>  \"params\": {<br>    \"k\": 10,<br>    \"L\": 8,<br>    \"table_size\": 15000,<br>    \"window_size\": 4244<br>  },<br>  \"user_attrs\": {<br>    \"constraint\": [<br>      0,<br>      -0.10239860000000002<br>    ]<br>  }<br>}"
         ],
         "type": "scatter",
         "x": [
          1.0323896418551815,
          2.215816764148133,
          0.9089349207288518,
          1,
          1.0127508175968094,
          1.0419217967921204,
          1.0879964690732533,
          1.004813609368143,
          1.0677614985514365,
          1.3564779718539302,
          1,
          1.0578582149524811,
          1,
          1.0360367975311127,
          1.1057644437514855,
          1.0001554991361883,
          1.0356523434986677,
          0.9895012144816999,
          1,
          1,
          1.0116103751992551,
          1.0021869427020387,
          1,
          0.9777148272779262,
          1,
          1.053125112087831,
          1.0276999562716072,
          0.9739520308506253,
          1.0561276292155861,
          0.9861754171211075,
          1.0021869427020387,
          1,
          1,
          1.0021869427020387,
          1.0127508175968094,
          1.0213835094142336,
          1.0021869427020387
         ],
         "y": [
          0.0247823,
          0.0013180000000000002,
          0.2493493,
          0.10556829999999999,
          0.1036674,
          0.025681400000000004,
          0.0232022,
          0.0365574,
          0.0169359,
          0.0023514999999999994,
          0.0822667,
          0.0300072,
          0.0947414,
          0.0333736,
          0.0205578,
          0.104514,
          0.0324463,
          0.06250710000000001,
          0.044309,
          0.035598199999999997,
          0.0407757,
          0.033583,
          0.0914615,
          0.06271970000000002,
          0.0355708,
          0.0412917,
          0.025152599999999997,
          0.05091140000000001,
          0.025736,
          0.051636900000000006,
          0.048907799999999994,
          0.0643002,
          0.0371734,
          0.031239100000000002,
          0.040324299999999993,
          0.08483169999999998,
          0.11239860000000002
         ]
        },
        {
         "hovertemplate": "%{text}<extra>Best Trial</extra>",
         "marker": {
          "color": [
           0,
           2,
           3,
           4,
           5,
           9,
           10,
           20,
           23,
           26,
           30,
           38,
           46
          ],
          "colorbar": {
           "title": {
            "text": "Best Trial"
           },
           "x": 1.1,
           "xpad": 40
          },
          "colorscale": [
           [
            0,
            "rgb(255,245,240)"
           ],
           [
            0.125,
            "rgb(254,224,210)"
           ],
           [
            0.25,
            "rgb(252,187,161)"
           ],
           [
            0.375,
            "rgb(252,146,114)"
           ],
           [
            0.5,
            "rgb(251,106,74)"
           ],
           [
            0.625,
            "rgb(239,59,44)"
           ],
           [
            0.75,
            "rgb(203,24,29)"
           ],
           [
            0.875,
            "rgb(165,15,21)"
           ],
           [
            1,
            "rgb(103,0,13)"
           ]
          ],
          "line": {
           "color": "Grey",
           "width": 0.5
          }
         },
         "mode": "markers",
         "showlegend": false,
         "text": [
          "{<br>  \"number\": 0,<br>  \"values\": [<br>    1.1772753554968618,<br>    0.0022889000000000004<br>  ],<br>  \"params\": {<br>    \"k\": 10,<br>    \"L\": 8,<br>    \"table_size\": 15000,<br>    \"window_size\": 2003<br>  },<br>  \"user_attrs\": {<br>    \"constraint\": [<br>      0,<br>      0.0077111<br>    ]<br>  }<br>}",
          "{<br>  \"number\": 2,<br>  \"values\": [<br>    1.3015398135892386,<br>    0.0017852<br>  ],<br>  \"params\": {<br>    \"k\": 8,<br>    \"L\": 5,<br>    \"table_size\": 3750,<br>    \"window_size\": 1773<br>  },<br>  \"user_attrs\": {<br>    \"constraint\": [<br>      0,<br>      0.0082148<br>    ]<br>  }<br>}",
          "{<br>  \"number\": 3,<br>  \"values\": [<br>    1.6441154261537358,<br>    0.0005732000000000001<br>  ],<br>  \"params\": {<br>    \"k\": 7,<br>    \"L\": 3,<br>    \"table_size\": 3750,<br>    \"window_size\": 1354<br>  },<br>  \"user_attrs\": {<br>    \"constraint\": [<br>      43,<br>      0.0094268<br>    ]<br>  }<br>}",
          "{<br>  \"number\": 4,<br>  \"values\": [<br>    0.8612792049187826,<br>    0.6233115<br>  ],<br>  \"params\": {<br>    \"k\": 2,<br>    \"L\": 10,<br>    \"table_size\": 15000,<br>    \"window_size\": 4782<br>  },<br>  \"user_attrs\": {<br>    \"constraint\": [<br>      0,<br>      -0.6133115<br>    ]<br>  }<br>}",
          "{<br>  \"number\": 5,<br>  \"values\": [<br>    1.0537973456315135,<br>    0.015467299999999998<br>  ],<br>  \"params\": {<br>    \"k\": 7,<br>    \"L\": 3,<br>    \"table_size\": 15000,<br>    \"window_size\": 3326<br>  },<br>  \"user_attrs\": {<br>    \"constraint\": [<br>      0,<br>      -0.005467299999999998<br>    ]<br>  }<br>}",
          "{<br>  \"number\": 9,<br>  \"values\": [<br>    0.9078231289864939,<br>    0.24525959999999997<br>  ],<br>  \"params\": {<br>    \"k\": 4,<br>    \"L\": 10,<br>    \"table_size\": 3750,<br>    \"window_size\": 3355<br>  },<br>  \"user_attrs\": {<br>    \"constraint\": [<br>      0,<br>      -0.23525959999999996<br>    ]<br>  }<br>}",
          "{<br>  \"number\": 10,<br>  \"values\": [<br>    0.9716113798142378,<br>    0.043435699999999994<br>  ],<br>  \"params\": {<br>    \"k\": 7,<br>    \"L\": 6,<br>    \"table_size\": 3750,<br>    \"window_size\": 3200<br>  },<br>  \"user_attrs\": {<br>    \"constraint\": [<br>      0,<br>      -0.03343569999999999<br>    ]<br>  }<br>}",
          "{<br>  \"number\": 20,<br>  \"values\": [<br>    1.0613361064156164,<br>    0.0135708<br>  ],<br>  \"params\": {<br>    \"k\": 9,<br>    \"L\": 5,<br>    \"table_size\": 15000,<br>    \"window_size\": 3253<br>  },<br>  \"user_attrs\": {<br>    \"constraint\": [<br>      0,<br>      -0.003570799999999999<br>    ]<br>  }<br>}",
          "{<br>  \"number\": 23,<br>  \"values\": [<br>    0.9709495420790043,<br>    0.08566159999999999<br>  ],<br>  \"params\": {<br>    \"k\": 9,<br>    \"L\": 6,<br>    \"table_size\": 15000,<br>    \"window_size\": 4050<br>  },<br>  \"user_attrs\": {<br>    \"constraint\": [<br>      0,<br>      -0.0756616<br>    ]<br>  }<br>}",
          "{<br>  \"number\": 26,<br>  \"values\": [<br>    1.0124678074909996,<br>    0.019983400000000002<br>  ],<br>  \"params\": {<br>    \"k\": 10,<br>    \"L\": 6,<br>    \"table_size\": 15000,<br>    \"window_size\": 3752<br>  },<br>  \"user_attrs\": {<br>    \"constraint\": [<br>      0,<br>      -0.009983400000000002<br>    ]<br>  }<br>}",
          "{<br>  \"number\": 30,<br>  \"values\": [<br>    0.9051289104677074,<br>    0.29210859999999994<br>  ],<br>  \"params\": {<br>    \"k\": 2,<br>    \"L\": 4,<br>    \"table_size\": 7500,<br>    \"window_size\": 3841<br>  },<br>  \"user_attrs\": {<br>    \"constraint\": [<br>      0,<br>      -0.28210859999999993<br>    ]<br>  }<br>}",
          "{<br>  \"number\": 38,<br>  \"values\": [<br>    1.0,<br>    0.031066999999999994<br>  ],<br>  \"params\": {<br>    \"k\": 10,<br>    \"L\": 8,<br>    \"table_size\": 15000,<br>    \"window_size\": 3687<br>  },<br>  \"user_attrs\": {<br>    \"constraint\": [<br>      0,<br>      -0.021066999999999995<br>    ]<br>  }<br>}",
          "{<br>  \"number\": 46,<br>  \"values\": [<br>    0.9492472634245511,<br>    0.0918829<br>  ],<br>  \"params\": {<br>    \"k\": 9,<br>    \"L\": 8,<br>    \"table_size\": 15000,<br>    \"window_size\": 4217<br>  },<br>  \"user_attrs\": {<br>    \"constraint\": [<br>      0,<br>      -0.08188290000000001<br>    ]<br>  }<br>}"
         ],
         "type": "scatter",
         "x": [
          1.1772753554968618,
          1.3015398135892386,
          1.6441154261537358,
          0.8612792049187826,
          1.0537973456315135,
          0.9078231289864939,
          0.9716113798142378,
          1.0613361064156164,
          0.9709495420790043,
          1.0124678074909996,
          0.9051289104677074,
          1,
          0.9492472634245511
         ],
         "y": [
          0.0022889000000000004,
          0.0017852,
          0.0005732000000000001,
          0.6233115,
          0.015467299999999998,
          0.24525959999999997,
          0.043435699999999994,
          0.0135708,
          0.08566159999999999,
          0.019983400000000002,
          0.29210859999999994,
          0.031066999999999994,
          0.0918829
         ]
        }
       ],
       "layout": {
        "template": {
         "data": {
          "bar": [
           {
            "error_x": {
             "color": "#2a3f5f"
            },
            "error_y": {
             "color": "#2a3f5f"
            },
            "marker": {
             "line": {
              "color": "#E5ECF6",
              "width": 0.5
             },
             "pattern": {
              "fillmode": "overlay",
              "size": 10,
              "solidity": 0.2
             }
            },
            "type": "bar"
           }
          ],
          "barpolar": [
           {
            "marker": {
             "line": {
              "color": "#E5ECF6",
              "width": 0.5
             },
             "pattern": {
              "fillmode": "overlay",
              "size": 10,
              "solidity": 0.2
             }
            },
            "type": "barpolar"
           }
          ],
          "carpet": [
           {
            "aaxis": {
             "endlinecolor": "#2a3f5f",
             "gridcolor": "white",
             "linecolor": "white",
             "minorgridcolor": "white",
             "startlinecolor": "#2a3f5f"
            },
            "baxis": {
             "endlinecolor": "#2a3f5f",
             "gridcolor": "white",
             "linecolor": "white",
             "minorgridcolor": "white",
             "startlinecolor": "#2a3f5f"
            },
            "type": "carpet"
           }
          ],
          "choropleth": [
           {
            "colorbar": {
             "outlinewidth": 0,
             "ticks": ""
            },
            "type": "choropleth"
           }
          ],
          "contour": [
           {
            "colorbar": {
             "outlinewidth": 0,
             "ticks": ""
            },
            "colorscale": [
             [
              0,
              "#0d0887"
             ],
             [
              0.1111111111111111,
              "#46039f"
             ],
             [
              0.2222222222222222,
              "#7201a8"
             ],
             [
              0.3333333333333333,
              "#9c179e"
             ],
             [
              0.4444444444444444,
              "#bd3786"
             ],
             [
              0.5555555555555556,
              "#d8576b"
             ],
             [
              0.6666666666666666,
              "#ed7953"
             ],
             [
              0.7777777777777778,
              "#fb9f3a"
             ],
             [
              0.8888888888888888,
              "#fdca26"
             ],
             [
              1,
              "#f0f921"
             ]
            ],
            "type": "contour"
           }
          ],
          "contourcarpet": [
           {
            "colorbar": {
             "outlinewidth": 0,
             "ticks": ""
            },
            "type": "contourcarpet"
           }
          ],
          "heatmap": [
           {
            "colorbar": {
             "outlinewidth": 0,
             "ticks": ""
            },
            "colorscale": [
             [
              0,
              "#0d0887"
             ],
             [
              0.1111111111111111,
              "#46039f"
             ],
             [
              0.2222222222222222,
              "#7201a8"
             ],
             [
              0.3333333333333333,
              "#9c179e"
             ],
             [
              0.4444444444444444,
              "#bd3786"
             ],
             [
              0.5555555555555556,
              "#d8576b"
             ],
             [
              0.6666666666666666,
              "#ed7953"
             ],
             [
              0.7777777777777778,
              "#fb9f3a"
             ],
             [
              0.8888888888888888,
              "#fdca26"
             ],
             [
              1,
              "#f0f921"
             ]
            ],
            "type": "heatmap"
           }
          ],
          "heatmapgl": [
           {
            "colorbar": {
             "outlinewidth": 0,
             "ticks": ""
            },
            "colorscale": [
             [
              0,
              "#0d0887"
             ],
             [
              0.1111111111111111,
              "#46039f"
             ],
             [
              0.2222222222222222,
              "#7201a8"
             ],
             [
              0.3333333333333333,
              "#9c179e"
             ],
             [
              0.4444444444444444,
              "#bd3786"
             ],
             [
              0.5555555555555556,
              "#d8576b"
             ],
             [
              0.6666666666666666,
              "#ed7953"
             ],
             [
              0.7777777777777778,
              "#fb9f3a"
             ],
             [
              0.8888888888888888,
              "#fdca26"
             ],
             [
              1,
              "#f0f921"
             ]
            ],
            "type": "heatmapgl"
           }
          ],
          "histogram": [
           {
            "marker": {
             "pattern": {
              "fillmode": "overlay",
              "size": 10,
              "solidity": 0.2
             }
            },
            "type": "histogram"
           }
          ],
          "histogram2d": [
           {
            "colorbar": {
             "outlinewidth": 0,
             "ticks": ""
            },
            "colorscale": [
             [
              0,
              "#0d0887"
             ],
             [
              0.1111111111111111,
              "#46039f"
             ],
             [
              0.2222222222222222,
              "#7201a8"
             ],
             [
              0.3333333333333333,
              "#9c179e"
             ],
             [
              0.4444444444444444,
              "#bd3786"
             ],
             [
              0.5555555555555556,
              "#d8576b"
             ],
             [
              0.6666666666666666,
              "#ed7953"
             ],
             [
              0.7777777777777778,
              "#fb9f3a"
             ],
             [
              0.8888888888888888,
              "#fdca26"
             ],
             [
              1,
              "#f0f921"
             ]
            ],
            "type": "histogram2d"
           }
          ],
          "histogram2dcontour": [
           {
            "colorbar": {
             "outlinewidth": 0,
             "ticks": ""
            },
            "colorscale": [
             [
              0,
              "#0d0887"
             ],
             [
              0.1111111111111111,
              "#46039f"
             ],
             [
              0.2222222222222222,
              "#7201a8"
             ],
             [
              0.3333333333333333,
              "#9c179e"
             ],
             [
              0.4444444444444444,
              "#bd3786"
             ],
             [
              0.5555555555555556,
              "#d8576b"
             ],
             [
              0.6666666666666666,
              "#ed7953"
             ],
             [
              0.7777777777777778,
              "#fb9f3a"
             ],
             [
              0.8888888888888888,
              "#fdca26"
             ],
             [
              1,
              "#f0f921"
             ]
            ],
            "type": "histogram2dcontour"
           }
          ],
          "mesh3d": [
           {
            "colorbar": {
             "outlinewidth": 0,
             "ticks": ""
            },
            "type": "mesh3d"
           }
          ],
          "parcoords": [
           {
            "line": {
             "colorbar": {
              "outlinewidth": 0,
              "ticks": ""
             }
            },
            "type": "parcoords"
           }
          ],
          "pie": [
           {
            "automargin": true,
            "type": "pie"
           }
          ],
          "scatter": [
           {
            "fillpattern": {
             "fillmode": "overlay",
             "size": 10,
             "solidity": 0.2
            },
            "type": "scatter"
           }
          ],
          "scatter3d": [
           {
            "line": {
             "colorbar": {
              "outlinewidth": 0,
              "ticks": ""
             }
            },
            "marker": {
             "colorbar": {
              "outlinewidth": 0,
              "ticks": ""
             }
            },
            "type": "scatter3d"
           }
          ],
          "scattercarpet": [
           {
            "marker": {
             "colorbar": {
              "outlinewidth": 0,
              "ticks": ""
             }
            },
            "type": "scattercarpet"
           }
          ],
          "scattergeo": [
           {
            "marker": {
             "colorbar": {
              "outlinewidth": 0,
              "ticks": ""
             }
            },
            "type": "scattergeo"
           }
          ],
          "scattergl": [
           {
            "marker": {
             "colorbar": {
              "outlinewidth": 0,
              "ticks": ""
             }
            },
            "type": "scattergl"
           }
          ],
          "scattermapbox": [
           {
            "marker": {
             "colorbar": {
              "outlinewidth": 0,
              "ticks": ""
             }
            },
            "type": "scattermapbox"
           }
          ],
          "scatterpolar": [
           {
            "marker": {
             "colorbar": {
              "outlinewidth": 0,
              "ticks": ""
             }
            },
            "type": "scatterpolar"
           }
          ],
          "scatterpolargl": [
           {
            "marker": {
             "colorbar": {
              "outlinewidth": 0,
              "ticks": ""
             }
            },
            "type": "scatterpolargl"
           }
          ],
          "scatterternary": [
           {
            "marker": {
             "colorbar": {
              "outlinewidth": 0,
              "ticks": ""
             }
            },
            "type": "scatterternary"
           }
          ],
          "surface": [
           {
            "colorbar": {
             "outlinewidth": 0,
             "ticks": ""
            },
            "colorscale": [
             [
              0,
              "#0d0887"
             ],
             [
              0.1111111111111111,
              "#46039f"
             ],
             [
              0.2222222222222222,
              "#7201a8"
             ],
             [
              0.3333333333333333,
              "#9c179e"
             ],
             [
              0.4444444444444444,
              "#bd3786"
             ],
             [
              0.5555555555555556,
              "#d8576b"
             ],
             [
              0.6666666666666666,
              "#ed7953"
             ],
             [
              0.7777777777777778,
              "#fb9f3a"
             ],
             [
              0.8888888888888888,
              "#fdca26"
             ],
             [
              1,
              "#f0f921"
             ]
            ],
            "type": "surface"
           }
          ],
          "table": [
           {
            "cells": {
             "fill": {
              "color": "#EBF0F8"
             },
             "line": {
              "color": "white"
             }
            },
            "header": {
             "fill": {
              "color": "#C8D4E3"
             },
             "line": {
              "color": "white"
             }
            },
            "type": "table"
           }
          ]
         },
         "layout": {
          "annotationdefaults": {
           "arrowcolor": "#2a3f5f",
           "arrowhead": 0,
           "arrowwidth": 1
          },
          "autotypenumbers": "strict",
          "coloraxis": {
           "colorbar": {
            "outlinewidth": 0,
            "ticks": ""
           }
          },
          "colorscale": {
           "diverging": [
            [
             0,
             "#8e0152"
            ],
            [
             0.1,
             "#c51b7d"
            ],
            [
             0.2,
             "#de77ae"
            ],
            [
             0.3,
             "#f1b6da"
            ],
            [
             0.4,
             "#fde0ef"
            ],
            [
             0.5,
             "#f7f7f7"
            ],
            [
             0.6,
             "#e6f5d0"
            ],
            [
             0.7,
             "#b8e186"
            ],
            [
             0.8,
             "#7fbc41"
            ],
            [
             0.9,
             "#4d9221"
            ],
            [
             1,
             "#276419"
            ]
           ],
           "sequential": [
            [
             0,
             "#0d0887"
            ],
            [
             0.1111111111111111,
             "#46039f"
            ],
            [
             0.2222222222222222,
             "#7201a8"
            ],
            [
             0.3333333333333333,
             "#9c179e"
            ],
            [
             0.4444444444444444,
             "#bd3786"
            ],
            [
             0.5555555555555556,
             "#d8576b"
            ],
            [
             0.6666666666666666,
             "#ed7953"
            ],
            [
             0.7777777777777778,
             "#fb9f3a"
            ],
            [
             0.8888888888888888,
             "#fdca26"
            ],
            [
             1,
             "#f0f921"
            ]
           ],
           "sequentialminus": [
            [
             0,
             "#0d0887"
            ],
            [
             0.1111111111111111,
             "#46039f"
            ],
            [
             0.2222222222222222,
             "#7201a8"
            ],
            [
             0.3333333333333333,
             "#9c179e"
            ],
            [
             0.4444444444444444,
             "#bd3786"
            ],
            [
             0.5555555555555556,
             "#d8576b"
            ],
            [
             0.6666666666666666,
             "#ed7953"
            ],
            [
             0.7777777777777778,
             "#fb9f3a"
            ],
            [
             0.8888888888888888,
             "#fdca26"
            ],
            [
             1,
             "#f0f921"
            ]
           ]
          },
          "colorway": [
           "#636efa",
           "#EF553B",
           "#00cc96",
           "#ab63fa",
           "#FFA15A",
           "#19d3f3",
           "#FF6692",
           "#B6E880",
           "#FF97FF",
           "#FECB52"
          ],
          "font": {
           "color": "#2a3f5f"
          },
          "geo": {
           "bgcolor": "white",
           "lakecolor": "white",
           "landcolor": "#E5ECF6",
           "showlakes": true,
           "showland": true,
           "subunitcolor": "white"
          },
          "hoverlabel": {
           "align": "left"
          },
          "hovermode": "closest",
          "mapbox": {
           "style": "light"
          },
          "paper_bgcolor": "white",
          "plot_bgcolor": "#E5ECF6",
          "polar": {
           "angularaxis": {
            "gridcolor": "white",
            "linecolor": "white",
            "ticks": ""
           },
           "bgcolor": "#E5ECF6",
           "radialaxis": {
            "gridcolor": "white",
            "linecolor": "white",
            "ticks": ""
           }
          },
          "scene": {
           "xaxis": {
            "backgroundcolor": "#E5ECF6",
            "gridcolor": "white",
            "gridwidth": 2,
            "linecolor": "white",
            "showbackground": true,
            "ticks": "",
            "zerolinecolor": "white"
           },
           "yaxis": {
            "backgroundcolor": "#E5ECF6",
            "gridcolor": "white",
            "gridwidth": 2,
            "linecolor": "white",
            "showbackground": true,
            "ticks": "",
            "zerolinecolor": "white"
           },
           "zaxis": {
            "backgroundcolor": "#E5ECF6",
            "gridcolor": "white",
            "gridwidth": 2,
            "linecolor": "white",
            "showbackground": true,
            "ticks": "",
            "zerolinecolor": "white"
           }
          },
          "shapedefaults": {
           "line": {
            "color": "#2a3f5f"
           }
          },
          "ternary": {
           "aaxis": {
            "gridcolor": "white",
            "linecolor": "white",
            "ticks": ""
           },
           "baxis": {
            "gridcolor": "white",
            "linecolor": "white",
            "ticks": ""
           },
           "bgcolor": "#E5ECF6",
           "caxis": {
            "gridcolor": "white",
            "linecolor": "white",
            "ticks": ""
           }
          },
          "title": {
           "x": 0.05
          },
          "xaxis": {
           "automargin": true,
           "gridcolor": "white",
           "linecolor": "white",
           "ticks": "",
           "title": {
            "standoff": 15
           },
           "zerolinecolor": "white",
           "zerolinewidth": 2
          },
          "yaxis": {
           "automargin": true,
           "gridcolor": "white",
           "linecolor": "white",
           "ticks": "",
           "title": {
            "standoff": 15
           },
           "zerolinecolor": "white",
           "zerolinewidth": 2
          }
         }
        },
        "title": {
         "text": "Pareto-front Plot"
        },
        "xaxis": {
         "title": {
          "text": "maf"
         }
        },
        "yaxis": {
         "title": {
          "text": "average_time"
         }
        }
       }
      }
     },
     "metadata": {},
     "output_type": "display_data"
    }
   ],
   "source": [
    "plot_pareto_front(lsh_study, target_names=['maf', 'average_time'])"
   ]
  },
  {
   "cell_type": "code",
   "execution_count": 14,
   "metadata": {},
   "outputs": [
    {
     "data": {
      "application/vnd.plotly.v1+json": {
       "config": {
        "plotlyServerURL": "https://plot.ly"
       },
       "data": [
        {
         "mode": "markers",
         "name": "maf",
         "type": "scatter",
         "x": [
          1,
          4,
          5,
          7,
          8,
          9,
          10,
          11,
          12,
          13,
          14,
          15,
          17,
          18,
          19,
          20,
          21,
          22,
          23,
          24,
          25,
          26,
          27,
          28,
          29,
          30,
          31,
          32,
          33,
          34,
          35,
          36,
          37,
          38,
          39,
          40,
          41,
          42,
          43,
          44,
          45,
          46,
          47,
          48,
          49
         ],
         "y": [
          1.0323896418551815,
          0.8612792049187826,
          1.0537973456315135,
          0.9089349207288518,
          1,
          0.9078231289864939,
          0.9716113798142378,
          1.0127508175968094,
          1.0419217967921204,
          1.0879964690732533,
          1.004813609368143,
          1.0677614985514365,
          1,
          1.0578582149524811,
          1,
          1.0613361064156164,
          1.0360367975311127,
          1.1057644437514855,
          0.9709495420790043,
          1.0001554991361883,
          1.0356523434986677,
          1.0124678074909996,
          0.9895012144816999,
          1,
          1,
          0.9051289104677074,
          1.0116103751992551,
          1.0021869427020387,
          1,
          0.9777148272779262,
          1,
          1.053125112087831,
          1.0276999562716072,
          1,
          0.9739520308506253,
          1.0561276292155861,
          0.9861754171211075,
          1.0021869427020387,
          1,
          1,
          1.0021869427020387,
          0.9492472634245511,
          1.0127508175968094,
          1.0213835094142336,
          1.0021869427020387
         ]
        },
        {
         "marker": {
          "color": "#cccccc"
         },
         "mode": "markers",
         "name": "Infeasible Trial",
         "showlegend": false,
         "type": "scatter",
         "x": [
          0,
          2,
          3,
          6,
          16
         ],
         "y": [
          1.1772753554968618,
          1.3015398135892386,
          1.6441154261537358,
          2.215816764148133,
          1.3564779718539302
         ]
        }
       ],
       "layout": {
        "template": {
         "data": {
          "bar": [
           {
            "error_x": {
             "color": "#2a3f5f"
            },
            "error_y": {
             "color": "#2a3f5f"
            },
            "marker": {
             "line": {
              "color": "#E5ECF6",
              "width": 0.5
             },
             "pattern": {
              "fillmode": "overlay",
              "size": 10,
              "solidity": 0.2
             }
            },
            "type": "bar"
           }
          ],
          "barpolar": [
           {
            "marker": {
             "line": {
              "color": "#E5ECF6",
              "width": 0.5
             },
             "pattern": {
              "fillmode": "overlay",
              "size": 10,
              "solidity": 0.2
             }
            },
            "type": "barpolar"
           }
          ],
          "carpet": [
           {
            "aaxis": {
             "endlinecolor": "#2a3f5f",
             "gridcolor": "white",
             "linecolor": "white",
             "minorgridcolor": "white",
             "startlinecolor": "#2a3f5f"
            },
            "baxis": {
             "endlinecolor": "#2a3f5f",
             "gridcolor": "white",
             "linecolor": "white",
             "minorgridcolor": "white",
             "startlinecolor": "#2a3f5f"
            },
            "type": "carpet"
           }
          ],
          "choropleth": [
           {
            "colorbar": {
             "outlinewidth": 0,
             "ticks": ""
            },
            "type": "choropleth"
           }
          ],
          "contour": [
           {
            "colorbar": {
             "outlinewidth": 0,
             "ticks": ""
            },
            "colorscale": [
             [
              0,
              "#0d0887"
             ],
             [
              0.1111111111111111,
              "#46039f"
             ],
             [
              0.2222222222222222,
              "#7201a8"
             ],
             [
              0.3333333333333333,
              "#9c179e"
             ],
             [
              0.4444444444444444,
              "#bd3786"
             ],
             [
              0.5555555555555556,
              "#d8576b"
             ],
             [
              0.6666666666666666,
              "#ed7953"
             ],
             [
              0.7777777777777778,
              "#fb9f3a"
             ],
             [
              0.8888888888888888,
              "#fdca26"
             ],
             [
              1,
              "#f0f921"
             ]
            ],
            "type": "contour"
           }
          ],
          "contourcarpet": [
           {
            "colorbar": {
             "outlinewidth": 0,
             "ticks": ""
            },
            "type": "contourcarpet"
           }
          ],
          "heatmap": [
           {
            "colorbar": {
             "outlinewidth": 0,
             "ticks": ""
            },
            "colorscale": [
             [
              0,
              "#0d0887"
             ],
             [
              0.1111111111111111,
              "#46039f"
             ],
             [
              0.2222222222222222,
              "#7201a8"
             ],
             [
              0.3333333333333333,
              "#9c179e"
             ],
             [
              0.4444444444444444,
              "#bd3786"
             ],
             [
              0.5555555555555556,
              "#d8576b"
             ],
             [
              0.6666666666666666,
              "#ed7953"
             ],
             [
              0.7777777777777778,
              "#fb9f3a"
             ],
             [
              0.8888888888888888,
              "#fdca26"
             ],
             [
              1,
              "#f0f921"
             ]
            ],
            "type": "heatmap"
           }
          ],
          "heatmapgl": [
           {
            "colorbar": {
             "outlinewidth": 0,
             "ticks": ""
            },
            "colorscale": [
             [
              0,
              "#0d0887"
             ],
             [
              0.1111111111111111,
              "#46039f"
             ],
             [
              0.2222222222222222,
              "#7201a8"
             ],
             [
              0.3333333333333333,
              "#9c179e"
             ],
             [
              0.4444444444444444,
              "#bd3786"
             ],
             [
              0.5555555555555556,
              "#d8576b"
             ],
             [
              0.6666666666666666,
              "#ed7953"
             ],
             [
              0.7777777777777778,
              "#fb9f3a"
             ],
             [
              0.8888888888888888,
              "#fdca26"
             ],
             [
              1,
              "#f0f921"
             ]
            ],
            "type": "heatmapgl"
           }
          ],
          "histogram": [
           {
            "marker": {
             "pattern": {
              "fillmode": "overlay",
              "size": 10,
              "solidity": 0.2
             }
            },
            "type": "histogram"
           }
          ],
          "histogram2d": [
           {
            "colorbar": {
             "outlinewidth": 0,
             "ticks": ""
            },
            "colorscale": [
             [
              0,
              "#0d0887"
             ],
             [
              0.1111111111111111,
              "#46039f"
             ],
             [
              0.2222222222222222,
              "#7201a8"
             ],
             [
              0.3333333333333333,
              "#9c179e"
             ],
             [
              0.4444444444444444,
              "#bd3786"
             ],
             [
              0.5555555555555556,
              "#d8576b"
             ],
             [
              0.6666666666666666,
              "#ed7953"
             ],
             [
              0.7777777777777778,
              "#fb9f3a"
             ],
             [
              0.8888888888888888,
              "#fdca26"
             ],
             [
              1,
              "#f0f921"
             ]
            ],
            "type": "histogram2d"
           }
          ],
          "histogram2dcontour": [
           {
            "colorbar": {
             "outlinewidth": 0,
             "ticks": ""
            },
            "colorscale": [
             [
              0,
              "#0d0887"
             ],
             [
              0.1111111111111111,
              "#46039f"
             ],
             [
              0.2222222222222222,
              "#7201a8"
             ],
             [
              0.3333333333333333,
              "#9c179e"
             ],
             [
              0.4444444444444444,
              "#bd3786"
             ],
             [
              0.5555555555555556,
              "#d8576b"
             ],
             [
              0.6666666666666666,
              "#ed7953"
             ],
             [
              0.7777777777777778,
              "#fb9f3a"
             ],
             [
              0.8888888888888888,
              "#fdca26"
             ],
             [
              1,
              "#f0f921"
             ]
            ],
            "type": "histogram2dcontour"
           }
          ],
          "mesh3d": [
           {
            "colorbar": {
             "outlinewidth": 0,
             "ticks": ""
            },
            "type": "mesh3d"
           }
          ],
          "parcoords": [
           {
            "line": {
             "colorbar": {
              "outlinewidth": 0,
              "ticks": ""
             }
            },
            "type": "parcoords"
           }
          ],
          "pie": [
           {
            "automargin": true,
            "type": "pie"
           }
          ],
          "scatter": [
           {
            "fillpattern": {
             "fillmode": "overlay",
             "size": 10,
             "solidity": 0.2
            },
            "type": "scatter"
           }
          ],
          "scatter3d": [
           {
            "line": {
             "colorbar": {
              "outlinewidth": 0,
              "ticks": ""
             }
            },
            "marker": {
             "colorbar": {
              "outlinewidth": 0,
              "ticks": ""
             }
            },
            "type": "scatter3d"
           }
          ],
          "scattercarpet": [
           {
            "marker": {
             "colorbar": {
              "outlinewidth": 0,
              "ticks": ""
             }
            },
            "type": "scattercarpet"
           }
          ],
          "scattergeo": [
           {
            "marker": {
             "colorbar": {
              "outlinewidth": 0,
              "ticks": ""
             }
            },
            "type": "scattergeo"
           }
          ],
          "scattergl": [
           {
            "marker": {
             "colorbar": {
              "outlinewidth": 0,
              "ticks": ""
             }
            },
            "type": "scattergl"
           }
          ],
          "scattermapbox": [
           {
            "marker": {
             "colorbar": {
              "outlinewidth": 0,
              "ticks": ""
             }
            },
            "type": "scattermapbox"
           }
          ],
          "scatterpolar": [
           {
            "marker": {
             "colorbar": {
              "outlinewidth": 0,
              "ticks": ""
             }
            },
            "type": "scatterpolar"
           }
          ],
          "scatterpolargl": [
           {
            "marker": {
             "colorbar": {
              "outlinewidth": 0,
              "ticks": ""
             }
            },
            "type": "scatterpolargl"
           }
          ],
          "scatterternary": [
           {
            "marker": {
             "colorbar": {
              "outlinewidth": 0,
              "ticks": ""
             }
            },
            "type": "scatterternary"
           }
          ],
          "surface": [
           {
            "colorbar": {
             "outlinewidth": 0,
             "ticks": ""
            },
            "colorscale": [
             [
              0,
              "#0d0887"
             ],
             [
              0.1111111111111111,
              "#46039f"
             ],
             [
              0.2222222222222222,
              "#7201a8"
             ],
             [
              0.3333333333333333,
              "#9c179e"
             ],
             [
              0.4444444444444444,
              "#bd3786"
             ],
             [
              0.5555555555555556,
              "#d8576b"
             ],
             [
              0.6666666666666666,
              "#ed7953"
             ],
             [
              0.7777777777777778,
              "#fb9f3a"
             ],
             [
              0.8888888888888888,
              "#fdca26"
             ],
             [
              1,
              "#f0f921"
             ]
            ],
            "type": "surface"
           }
          ],
          "table": [
           {
            "cells": {
             "fill": {
              "color": "#EBF0F8"
             },
             "line": {
              "color": "white"
             }
            },
            "header": {
             "fill": {
              "color": "#C8D4E3"
             },
             "line": {
              "color": "white"
             }
            },
            "type": "table"
           }
          ]
         },
         "layout": {
          "annotationdefaults": {
           "arrowcolor": "#2a3f5f",
           "arrowhead": 0,
           "arrowwidth": 1
          },
          "autotypenumbers": "strict",
          "coloraxis": {
           "colorbar": {
            "outlinewidth": 0,
            "ticks": ""
           }
          },
          "colorscale": {
           "diverging": [
            [
             0,
             "#8e0152"
            ],
            [
             0.1,
             "#c51b7d"
            ],
            [
             0.2,
             "#de77ae"
            ],
            [
             0.3,
             "#f1b6da"
            ],
            [
             0.4,
             "#fde0ef"
            ],
            [
             0.5,
             "#f7f7f7"
            ],
            [
             0.6,
             "#e6f5d0"
            ],
            [
             0.7,
             "#b8e186"
            ],
            [
             0.8,
             "#7fbc41"
            ],
            [
             0.9,
             "#4d9221"
            ],
            [
             1,
             "#276419"
            ]
           ],
           "sequential": [
            [
             0,
             "#0d0887"
            ],
            [
             0.1111111111111111,
             "#46039f"
            ],
            [
             0.2222222222222222,
             "#7201a8"
            ],
            [
             0.3333333333333333,
             "#9c179e"
            ],
            [
             0.4444444444444444,
             "#bd3786"
            ],
            [
             0.5555555555555556,
             "#d8576b"
            ],
            [
             0.6666666666666666,
             "#ed7953"
            ],
            [
             0.7777777777777778,
             "#fb9f3a"
            ],
            [
             0.8888888888888888,
             "#fdca26"
            ],
            [
             1,
             "#f0f921"
            ]
           ],
           "sequentialminus": [
            [
             0,
             "#0d0887"
            ],
            [
             0.1111111111111111,
             "#46039f"
            ],
            [
             0.2222222222222222,
             "#7201a8"
            ],
            [
             0.3333333333333333,
             "#9c179e"
            ],
            [
             0.4444444444444444,
             "#bd3786"
            ],
            [
             0.5555555555555556,
             "#d8576b"
            ],
            [
             0.6666666666666666,
             "#ed7953"
            ],
            [
             0.7777777777777778,
             "#fb9f3a"
            ],
            [
             0.8888888888888888,
             "#fdca26"
            ],
            [
             1,
             "#f0f921"
            ]
           ]
          },
          "colorway": [
           "#636efa",
           "#EF553B",
           "#00cc96",
           "#ab63fa",
           "#FFA15A",
           "#19d3f3",
           "#FF6692",
           "#B6E880",
           "#FF97FF",
           "#FECB52"
          ],
          "font": {
           "color": "#2a3f5f"
          },
          "geo": {
           "bgcolor": "white",
           "lakecolor": "white",
           "landcolor": "#E5ECF6",
           "showlakes": true,
           "showland": true,
           "subunitcolor": "white"
          },
          "hoverlabel": {
           "align": "left"
          },
          "hovermode": "closest",
          "mapbox": {
           "style": "light"
          },
          "paper_bgcolor": "white",
          "plot_bgcolor": "#E5ECF6",
          "polar": {
           "angularaxis": {
            "gridcolor": "white",
            "linecolor": "white",
            "ticks": ""
           },
           "bgcolor": "#E5ECF6",
           "radialaxis": {
            "gridcolor": "white",
            "linecolor": "white",
            "ticks": ""
           }
          },
          "scene": {
           "xaxis": {
            "backgroundcolor": "#E5ECF6",
            "gridcolor": "white",
            "gridwidth": 2,
            "linecolor": "white",
            "showbackground": true,
            "ticks": "",
            "zerolinecolor": "white"
           },
           "yaxis": {
            "backgroundcolor": "#E5ECF6",
            "gridcolor": "white",
            "gridwidth": 2,
            "linecolor": "white",
            "showbackground": true,
            "ticks": "",
            "zerolinecolor": "white"
           },
           "zaxis": {
            "backgroundcolor": "#E5ECF6",
            "gridcolor": "white",
            "gridwidth": 2,
            "linecolor": "white",
            "showbackground": true,
            "ticks": "",
            "zerolinecolor": "white"
           }
          },
          "shapedefaults": {
           "line": {
            "color": "#2a3f5f"
           }
          },
          "ternary": {
           "aaxis": {
            "gridcolor": "white",
            "linecolor": "white",
            "ticks": ""
           },
           "baxis": {
            "gridcolor": "white",
            "linecolor": "white",
            "ticks": ""
           },
           "bgcolor": "#E5ECF6",
           "caxis": {
            "gridcolor": "white",
            "linecolor": "white",
            "ticks": ""
           }
          },
          "title": {
           "x": 0.05
          },
          "xaxis": {
           "automargin": true,
           "gridcolor": "white",
           "linecolor": "white",
           "ticks": "",
           "title": {
            "standoff": 15
           },
           "zerolinecolor": "white",
           "zerolinewidth": 2
          },
          "yaxis": {
           "automargin": true,
           "gridcolor": "white",
           "linecolor": "white",
           "ticks": "",
           "title": {
            "standoff": 15
           },
           "zerolinecolor": "white",
           "zerolinewidth": 2
          }
         }
        },
        "title": {
         "text": "Optimization History Plot"
        },
        "xaxis": {
         "title": {
          "text": "Trial"
         }
        },
        "yaxis": {
         "title": {
          "text": "maf"
         }
        }
       }
      }
     },
     "metadata": {},
     "output_type": "display_data"
    }
   ],
   "source": [
    "plot_optimization_history(lsh_study, target = lambda t: t.values[0], target_name = 'maf')"
   ]
  },
  {
   "cell_type": "code",
   "execution_count": 15,
   "metadata": {},
   "outputs": [
    {
     "data": {
      "application/vnd.plotly.v1+json": {
       "config": {
        "plotlyServerURL": "https://plot.ly"
       },
       "data": [
        {
         "mode": "markers",
         "name": "average_time",
         "type": "scatter",
         "x": [
          1,
          4,
          5,
          7,
          8,
          9,
          10,
          11,
          12,
          13,
          14,
          15,
          17,
          18,
          19,
          20,
          21,
          22,
          23,
          24,
          25,
          26,
          27,
          28,
          29,
          30,
          31,
          32,
          33,
          34,
          35,
          36,
          37,
          38,
          39,
          40,
          41,
          42,
          43,
          44,
          45,
          46,
          47,
          48,
          49
         ],
         "y": [
          0.0247823,
          0.6233115,
          0.015467299999999998,
          0.2493493,
          0.10556829999999999,
          0.24525959999999997,
          0.043435699999999994,
          0.1036674,
          0.025681400000000004,
          0.0232022,
          0.0365574,
          0.0169359,
          0.0822667,
          0.0300072,
          0.0947414,
          0.0135708,
          0.0333736,
          0.0205578,
          0.08566159999999999,
          0.104514,
          0.0324463,
          0.019983400000000002,
          0.06250710000000001,
          0.044309,
          0.035598199999999997,
          0.29210859999999994,
          0.0407757,
          0.033583,
          0.0914615,
          0.06271970000000002,
          0.0355708,
          0.0412917,
          0.025152599999999997,
          0.031066999999999994,
          0.05091140000000001,
          0.025736,
          0.051636900000000006,
          0.048907799999999994,
          0.0643002,
          0.0371734,
          0.031239100000000002,
          0.0918829,
          0.040324299999999993,
          0.08483169999999998,
          0.11239860000000002
         ]
        },
        {
         "marker": {
          "color": "#cccccc"
         },
         "mode": "markers",
         "name": "Infeasible Trial",
         "showlegend": false,
         "type": "scatter",
         "x": [
          0,
          2,
          3,
          6,
          16
         ],
         "y": [
          0.0022889000000000004,
          0.0017852,
          0.0005732000000000001,
          0.0013180000000000002,
          0.0023514999999999994
         ]
        }
       ],
       "layout": {
        "template": {
         "data": {
          "bar": [
           {
            "error_x": {
             "color": "#2a3f5f"
            },
            "error_y": {
             "color": "#2a3f5f"
            },
            "marker": {
             "line": {
              "color": "#E5ECF6",
              "width": 0.5
             },
             "pattern": {
              "fillmode": "overlay",
              "size": 10,
              "solidity": 0.2
             }
            },
            "type": "bar"
           }
          ],
          "barpolar": [
           {
            "marker": {
             "line": {
              "color": "#E5ECF6",
              "width": 0.5
             },
             "pattern": {
              "fillmode": "overlay",
              "size": 10,
              "solidity": 0.2
             }
            },
            "type": "barpolar"
           }
          ],
          "carpet": [
           {
            "aaxis": {
             "endlinecolor": "#2a3f5f",
             "gridcolor": "white",
             "linecolor": "white",
             "minorgridcolor": "white",
             "startlinecolor": "#2a3f5f"
            },
            "baxis": {
             "endlinecolor": "#2a3f5f",
             "gridcolor": "white",
             "linecolor": "white",
             "minorgridcolor": "white",
             "startlinecolor": "#2a3f5f"
            },
            "type": "carpet"
           }
          ],
          "choropleth": [
           {
            "colorbar": {
             "outlinewidth": 0,
             "ticks": ""
            },
            "type": "choropleth"
           }
          ],
          "contour": [
           {
            "colorbar": {
             "outlinewidth": 0,
             "ticks": ""
            },
            "colorscale": [
             [
              0,
              "#0d0887"
             ],
             [
              0.1111111111111111,
              "#46039f"
             ],
             [
              0.2222222222222222,
              "#7201a8"
             ],
             [
              0.3333333333333333,
              "#9c179e"
             ],
             [
              0.4444444444444444,
              "#bd3786"
             ],
             [
              0.5555555555555556,
              "#d8576b"
             ],
             [
              0.6666666666666666,
              "#ed7953"
             ],
             [
              0.7777777777777778,
              "#fb9f3a"
             ],
             [
              0.8888888888888888,
              "#fdca26"
             ],
             [
              1,
              "#f0f921"
             ]
            ],
            "type": "contour"
           }
          ],
          "contourcarpet": [
           {
            "colorbar": {
             "outlinewidth": 0,
             "ticks": ""
            },
            "type": "contourcarpet"
           }
          ],
          "heatmap": [
           {
            "colorbar": {
             "outlinewidth": 0,
             "ticks": ""
            },
            "colorscale": [
             [
              0,
              "#0d0887"
             ],
             [
              0.1111111111111111,
              "#46039f"
             ],
             [
              0.2222222222222222,
              "#7201a8"
             ],
             [
              0.3333333333333333,
              "#9c179e"
             ],
             [
              0.4444444444444444,
              "#bd3786"
             ],
             [
              0.5555555555555556,
              "#d8576b"
             ],
             [
              0.6666666666666666,
              "#ed7953"
             ],
             [
              0.7777777777777778,
              "#fb9f3a"
             ],
             [
              0.8888888888888888,
              "#fdca26"
             ],
             [
              1,
              "#f0f921"
             ]
            ],
            "type": "heatmap"
           }
          ],
          "heatmapgl": [
           {
            "colorbar": {
             "outlinewidth": 0,
             "ticks": ""
            },
            "colorscale": [
             [
              0,
              "#0d0887"
             ],
             [
              0.1111111111111111,
              "#46039f"
             ],
             [
              0.2222222222222222,
              "#7201a8"
             ],
             [
              0.3333333333333333,
              "#9c179e"
             ],
             [
              0.4444444444444444,
              "#bd3786"
             ],
             [
              0.5555555555555556,
              "#d8576b"
             ],
             [
              0.6666666666666666,
              "#ed7953"
             ],
             [
              0.7777777777777778,
              "#fb9f3a"
             ],
             [
              0.8888888888888888,
              "#fdca26"
             ],
             [
              1,
              "#f0f921"
             ]
            ],
            "type": "heatmapgl"
           }
          ],
          "histogram": [
           {
            "marker": {
             "pattern": {
              "fillmode": "overlay",
              "size": 10,
              "solidity": 0.2
             }
            },
            "type": "histogram"
           }
          ],
          "histogram2d": [
           {
            "colorbar": {
             "outlinewidth": 0,
             "ticks": ""
            },
            "colorscale": [
             [
              0,
              "#0d0887"
             ],
             [
              0.1111111111111111,
              "#46039f"
             ],
             [
              0.2222222222222222,
              "#7201a8"
             ],
             [
              0.3333333333333333,
              "#9c179e"
             ],
             [
              0.4444444444444444,
              "#bd3786"
             ],
             [
              0.5555555555555556,
              "#d8576b"
             ],
             [
              0.6666666666666666,
              "#ed7953"
             ],
             [
              0.7777777777777778,
              "#fb9f3a"
             ],
             [
              0.8888888888888888,
              "#fdca26"
             ],
             [
              1,
              "#f0f921"
             ]
            ],
            "type": "histogram2d"
           }
          ],
          "histogram2dcontour": [
           {
            "colorbar": {
             "outlinewidth": 0,
             "ticks": ""
            },
            "colorscale": [
             [
              0,
              "#0d0887"
             ],
             [
              0.1111111111111111,
              "#46039f"
             ],
             [
              0.2222222222222222,
              "#7201a8"
             ],
             [
              0.3333333333333333,
              "#9c179e"
             ],
             [
              0.4444444444444444,
              "#bd3786"
             ],
             [
              0.5555555555555556,
              "#d8576b"
             ],
             [
              0.6666666666666666,
              "#ed7953"
             ],
             [
              0.7777777777777778,
              "#fb9f3a"
             ],
             [
              0.8888888888888888,
              "#fdca26"
             ],
             [
              1,
              "#f0f921"
             ]
            ],
            "type": "histogram2dcontour"
           }
          ],
          "mesh3d": [
           {
            "colorbar": {
             "outlinewidth": 0,
             "ticks": ""
            },
            "type": "mesh3d"
           }
          ],
          "parcoords": [
           {
            "line": {
             "colorbar": {
              "outlinewidth": 0,
              "ticks": ""
             }
            },
            "type": "parcoords"
           }
          ],
          "pie": [
           {
            "automargin": true,
            "type": "pie"
           }
          ],
          "scatter": [
           {
            "fillpattern": {
             "fillmode": "overlay",
             "size": 10,
             "solidity": 0.2
            },
            "type": "scatter"
           }
          ],
          "scatter3d": [
           {
            "line": {
             "colorbar": {
              "outlinewidth": 0,
              "ticks": ""
             }
            },
            "marker": {
             "colorbar": {
              "outlinewidth": 0,
              "ticks": ""
             }
            },
            "type": "scatter3d"
           }
          ],
          "scattercarpet": [
           {
            "marker": {
             "colorbar": {
              "outlinewidth": 0,
              "ticks": ""
             }
            },
            "type": "scattercarpet"
           }
          ],
          "scattergeo": [
           {
            "marker": {
             "colorbar": {
              "outlinewidth": 0,
              "ticks": ""
             }
            },
            "type": "scattergeo"
           }
          ],
          "scattergl": [
           {
            "marker": {
             "colorbar": {
              "outlinewidth": 0,
              "ticks": ""
             }
            },
            "type": "scattergl"
           }
          ],
          "scattermapbox": [
           {
            "marker": {
             "colorbar": {
              "outlinewidth": 0,
              "ticks": ""
             }
            },
            "type": "scattermapbox"
           }
          ],
          "scatterpolar": [
           {
            "marker": {
             "colorbar": {
              "outlinewidth": 0,
              "ticks": ""
             }
            },
            "type": "scatterpolar"
           }
          ],
          "scatterpolargl": [
           {
            "marker": {
             "colorbar": {
              "outlinewidth": 0,
              "ticks": ""
             }
            },
            "type": "scatterpolargl"
           }
          ],
          "scatterternary": [
           {
            "marker": {
             "colorbar": {
              "outlinewidth": 0,
              "ticks": ""
             }
            },
            "type": "scatterternary"
           }
          ],
          "surface": [
           {
            "colorbar": {
             "outlinewidth": 0,
             "ticks": ""
            },
            "colorscale": [
             [
              0,
              "#0d0887"
             ],
             [
              0.1111111111111111,
              "#46039f"
             ],
             [
              0.2222222222222222,
              "#7201a8"
             ],
             [
              0.3333333333333333,
              "#9c179e"
             ],
             [
              0.4444444444444444,
              "#bd3786"
             ],
             [
              0.5555555555555556,
              "#d8576b"
             ],
             [
              0.6666666666666666,
              "#ed7953"
             ],
             [
              0.7777777777777778,
              "#fb9f3a"
             ],
             [
              0.8888888888888888,
              "#fdca26"
             ],
             [
              1,
              "#f0f921"
             ]
            ],
            "type": "surface"
           }
          ],
          "table": [
           {
            "cells": {
             "fill": {
              "color": "#EBF0F8"
             },
             "line": {
              "color": "white"
             }
            },
            "header": {
             "fill": {
              "color": "#C8D4E3"
             },
             "line": {
              "color": "white"
             }
            },
            "type": "table"
           }
          ]
         },
         "layout": {
          "annotationdefaults": {
           "arrowcolor": "#2a3f5f",
           "arrowhead": 0,
           "arrowwidth": 1
          },
          "autotypenumbers": "strict",
          "coloraxis": {
           "colorbar": {
            "outlinewidth": 0,
            "ticks": ""
           }
          },
          "colorscale": {
           "diverging": [
            [
             0,
             "#8e0152"
            ],
            [
             0.1,
             "#c51b7d"
            ],
            [
             0.2,
             "#de77ae"
            ],
            [
             0.3,
             "#f1b6da"
            ],
            [
             0.4,
             "#fde0ef"
            ],
            [
             0.5,
             "#f7f7f7"
            ],
            [
             0.6,
             "#e6f5d0"
            ],
            [
             0.7,
             "#b8e186"
            ],
            [
             0.8,
             "#7fbc41"
            ],
            [
             0.9,
             "#4d9221"
            ],
            [
             1,
             "#276419"
            ]
           ],
           "sequential": [
            [
             0,
             "#0d0887"
            ],
            [
             0.1111111111111111,
             "#46039f"
            ],
            [
             0.2222222222222222,
             "#7201a8"
            ],
            [
             0.3333333333333333,
             "#9c179e"
            ],
            [
             0.4444444444444444,
             "#bd3786"
            ],
            [
             0.5555555555555556,
             "#d8576b"
            ],
            [
             0.6666666666666666,
             "#ed7953"
            ],
            [
             0.7777777777777778,
             "#fb9f3a"
            ],
            [
             0.8888888888888888,
             "#fdca26"
            ],
            [
             1,
             "#f0f921"
            ]
           ],
           "sequentialminus": [
            [
             0,
             "#0d0887"
            ],
            [
             0.1111111111111111,
             "#46039f"
            ],
            [
             0.2222222222222222,
             "#7201a8"
            ],
            [
             0.3333333333333333,
             "#9c179e"
            ],
            [
             0.4444444444444444,
             "#bd3786"
            ],
            [
             0.5555555555555556,
             "#d8576b"
            ],
            [
             0.6666666666666666,
             "#ed7953"
            ],
            [
             0.7777777777777778,
             "#fb9f3a"
            ],
            [
             0.8888888888888888,
             "#fdca26"
            ],
            [
             1,
             "#f0f921"
            ]
           ]
          },
          "colorway": [
           "#636efa",
           "#EF553B",
           "#00cc96",
           "#ab63fa",
           "#FFA15A",
           "#19d3f3",
           "#FF6692",
           "#B6E880",
           "#FF97FF",
           "#FECB52"
          ],
          "font": {
           "color": "#2a3f5f"
          },
          "geo": {
           "bgcolor": "white",
           "lakecolor": "white",
           "landcolor": "#E5ECF6",
           "showlakes": true,
           "showland": true,
           "subunitcolor": "white"
          },
          "hoverlabel": {
           "align": "left"
          },
          "hovermode": "closest",
          "mapbox": {
           "style": "light"
          },
          "paper_bgcolor": "white",
          "plot_bgcolor": "#E5ECF6",
          "polar": {
           "angularaxis": {
            "gridcolor": "white",
            "linecolor": "white",
            "ticks": ""
           },
           "bgcolor": "#E5ECF6",
           "radialaxis": {
            "gridcolor": "white",
            "linecolor": "white",
            "ticks": ""
           }
          },
          "scene": {
           "xaxis": {
            "backgroundcolor": "#E5ECF6",
            "gridcolor": "white",
            "gridwidth": 2,
            "linecolor": "white",
            "showbackground": true,
            "ticks": "",
            "zerolinecolor": "white"
           },
           "yaxis": {
            "backgroundcolor": "#E5ECF6",
            "gridcolor": "white",
            "gridwidth": 2,
            "linecolor": "white",
            "showbackground": true,
            "ticks": "",
            "zerolinecolor": "white"
           },
           "zaxis": {
            "backgroundcolor": "#E5ECF6",
            "gridcolor": "white",
            "gridwidth": 2,
            "linecolor": "white",
            "showbackground": true,
            "ticks": "",
            "zerolinecolor": "white"
           }
          },
          "shapedefaults": {
           "line": {
            "color": "#2a3f5f"
           }
          },
          "ternary": {
           "aaxis": {
            "gridcolor": "white",
            "linecolor": "white",
            "ticks": ""
           },
           "baxis": {
            "gridcolor": "white",
            "linecolor": "white",
            "ticks": ""
           },
           "bgcolor": "#E5ECF6",
           "caxis": {
            "gridcolor": "white",
            "linecolor": "white",
            "ticks": ""
           }
          },
          "title": {
           "x": 0.05
          },
          "xaxis": {
           "automargin": true,
           "gridcolor": "white",
           "linecolor": "white",
           "ticks": "",
           "title": {
            "standoff": 15
           },
           "zerolinecolor": "white",
           "zerolinewidth": 2
          },
          "yaxis": {
           "automargin": true,
           "gridcolor": "white",
           "linecolor": "white",
           "ticks": "",
           "title": {
            "standoff": 15
           },
           "zerolinecolor": "white",
           "zerolinewidth": 2
          }
         }
        },
        "title": {
         "text": "Optimization History Plot"
        },
        "xaxis": {
         "title": {
          "text": "Trial"
         }
        },
        "yaxis": {
         "title": {
          "text": "average_time"
         }
        }
       }
      }
     },
     "metadata": {},
     "output_type": "display_data"
    }
   ],
   "source": [
    "plot_optimization_history(lsh_study, target = lambda t: t.values[1], target_name = 'average_time')"
   ]
  },
  {
   "cell_type": "code",
   "execution_count": 16,
   "metadata": {},
   "outputs": [
    {
     "data": {
      "application/vnd.plotly.v1+json": {
       "config": {
        "plotlyServerURL": "https://plot.ly"
       },
       "data": [
        {
         "marker": {
          "color": [
           1,
           4,
           5,
           7,
           8,
           9,
           10,
           11,
           12,
           13,
           14,
           15,
           17,
           18,
           19,
           20,
           21,
           22,
           23,
           24,
           25,
           26,
           27,
           28,
           29,
           30,
           31,
           32,
           33,
           34,
           35,
           36,
           37,
           38,
           39,
           40,
           41,
           42,
           43,
           44,
           45,
           46,
           47,
           48,
           49
          ],
          "colorbar": {
           "title": {
            "text": "Trial"
           },
           "x": 1,
           "xpad": 40
          },
          "colorscale": [
           [
            0,
            "rgb(247,251,255)"
           ],
           [
            0.125,
            "rgb(222,235,247)"
           ],
           [
            0.25,
            "rgb(198,219,239)"
           ],
           [
            0.375,
            "rgb(158,202,225)"
           ],
           [
            0.5,
            "rgb(107,174,214)"
           ],
           [
            0.625,
            "rgb(66,146,198)"
           ],
           [
            0.75,
            "rgb(33,113,181)"
           ],
           [
            0.875,
            "rgb(8,81,156)"
           ],
           [
            1,
            "rgb(8,48,107)"
           ]
          ],
          "line": {
           "color": "Grey",
           "width": 0.5
          },
          "showscale": true
         },
         "mode": "markers",
         "name": "Feasible Trial",
         "showlegend": false,
         "type": "scatter",
         "x": [
          4,
          10,
          3,
          5,
          9,
          10,
          6,
          6,
          5,
          7,
          5,
          3,
          7,
          3,
          7,
          5,
          6,
          6,
          6,
          7,
          6,
          6,
          8,
          8,
          7,
          4,
          7,
          7,
          4,
          8,
          6,
          7,
          7,
          8,
          8,
          8,
          7,
          7,
          8,
          7,
          5,
          8,
          5,
          8,
          8
         ],
         "xaxis": "x",
         "y": [
          1.0323896418551815,
          0.8612792049187826,
          1.0537973456315135,
          0.9089349207288518,
          1,
          0.9078231289864939,
          0.9716113798142378,
          1.0127508175968094,
          1.0419217967921204,
          1.0879964690732533,
          1.004813609368143,
          1.0677614985514365,
          1,
          1.0578582149524811,
          1,
          1.0613361064156164,
          1.0360367975311127,
          1.1057644437514855,
          0.9709495420790043,
          1.0001554991361883,
          1.0356523434986677,
          1.0124678074909996,
          0.9895012144816999,
          1,
          1,
          0.9051289104677074,
          1.0116103751992551,
          1.0021869427020387,
          1,
          0.9777148272779262,
          1,
          1.053125112087831,
          1.0276999562716072,
          1,
          0.9739520308506253,
          1.0561276292155861,
          0.9861754171211075,
          1.0021869427020387,
          1,
          1,
          1.0021869427020387,
          0.9492472634245511,
          1.0127508175968094,
          1.0213835094142336,
          1.0021869427020387
         ],
         "yaxis": "y"
        },
        {
         "marker": {
          "color": "#cccccc"
         },
         "mode": "markers",
         "name": "Infeasible Trial",
         "showlegend": false,
         "type": "scatter",
         "x": [
          8,
          5,
          3,
          9,
          2
         ],
         "xaxis": "x",
         "y": [
          1.1772753554968618,
          1.3015398135892386,
          1.6441154261537358,
          2.215816764148133,
          1.3564779718539302
         ],
         "yaxis": "y"
        },
        {
         "marker": {
          "color": [
           1,
           4,
           5,
           7,
           8,
           9,
           10,
           11,
           12,
           13,
           14,
           15,
           17,
           18,
           19,
           20,
           21,
           22,
           23,
           24,
           25,
           26,
           27,
           28,
           29,
           30,
           31,
           32,
           33,
           34,
           35,
           36,
           37,
           38,
           39,
           40,
           41,
           42,
           43,
           44,
           45,
           46,
           47,
           48,
           49
          ],
          "colorbar": {
           "title": {
            "text": "Trial"
           },
           "x": 1,
           "xpad": 40
          },
          "colorscale": [
           [
            0,
            "rgb(247,251,255)"
           ],
           [
            0.125,
            "rgb(222,235,247)"
           ],
           [
            0.25,
            "rgb(198,219,239)"
           ],
           [
            0.375,
            "rgb(158,202,225)"
           ],
           [
            0.5,
            "rgb(107,174,214)"
           ],
           [
            0.625,
            "rgb(66,146,198)"
           ],
           [
            0.75,
            "rgb(33,113,181)"
           ],
           [
            0.875,
            "rgb(8,81,156)"
           ],
           [
            1,
            "rgb(8,48,107)"
           ]
          ],
          "line": {
           "color": "Grey",
           "width": 0.5
          },
          "showscale": false
         },
         "mode": "markers",
         "name": "Feasible Trial",
         "showlegend": false,
         "type": "scatter",
         "x": [
          6,
          2,
          7,
          2,
          4,
          4,
          7,
          5,
          8,
          8,
          7,
          10,
          9,
          9,
          7,
          9,
          9,
          7,
          9,
          8,
          9,
          10,
          9,
          10,
          10,
          2,
          10,
          10,
          7,
          10,
          10,
          10,
          10,
          10,
          10,
          10,
          10,
          10,
          10,
          10,
          7,
          9,
          7,
          10,
          10
         ],
         "xaxis": "x2",
         "y": [
          1.0323896418551815,
          0.8612792049187826,
          1.0537973456315135,
          0.9089349207288518,
          1,
          0.9078231289864939,
          0.9716113798142378,
          1.0127508175968094,
          1.0419217967921204,
          1.0879964690732533,
          1.004813609368143,
          1.0677614985514365,
          1,
          1.0578582149524811,
          1,
          1.0613361064156164,
          1.0360367975311127,
          1.1057644437514855,
          0.9709495420790043,
          1.0001554991361883,
          1.0356523434986677,
          1.0124678074909996,
          0.9895012144816999,
          1,
          1,
          0.9051289104677074,
          1.0116103751992551,
          1.0021869427020387,
          1,
          0.9777148272779262,
          1,
          1.053125112087831,
          1.0276999562716072,
          1,
          0.9739520308506253,
          1.0561276292155861,
          0.9861754171211075,
          1.0021869427020387,
          1,
          1,
          1.0021869427020387,
          0.9492472634245511,
          1.0127508175968094,
          1.0213835094142336,
          1.0021869427020387
         ],
         "yaxis": "y2"
        },
        {
         "marker": {
          "color": "#cccccc"
         },
         "mode": "markers",
         "name": "Infeasible Trial",
         "showlegend": false,
         "type": "scatter",
         "x": [
          10,
          8,
          7,
          9,
          8
         ],
         "xaxis": "x2",
         "y": [
          1.1772753554968618,
          1.3015398135892386,
          1.6441154261537358,
          2.215816764148133,
          1.3564779718539302
         ],
         "yaxis": "y2"
        },
        {
         "marker": {
          "color": [
           1,
           4,
           5,
           7,
           8,
           9,
           10,
           11,
           12,
           13,
           14,
           15,
           17,
           18,
           19,
           20,
           21,
           22,
           23,
           24,
           25,
           26,
           27,
           28,
           29,
           30,
           31,
           32,
           33,
           34,
           35,
           36,
           37,
           38,
           39,
           40,
           41,
           42,
           43,
           44,
           45,
           46,
           47,
           48,
           49
          ],
          "colorbar": {
           "title": {
            "text": "Trial"
           },
           "x": 1,
           "xpad": 40
          },
          "colorscale": [
           [
            0,
            "rgb(247,251,255)"
           ],
           [
            0.125,
            "rgb(222,235,247)"
           ],
           [
            0.25,
            "rgb(198,219,239)"
           ],
           [
            0.375,
            "rgb(158,202,225)"
           ],
           [
            0.5,
            "rgb(107,174,214)"
           ],
           [
            0.625,
            "rgb(66,146,198)"
           ],
           [
            0.75,
            "rgb(33,113,181)"
           ],
           [
            0.875,
            "rgb(8,81,156)"
           ],
           [
            1,
            "rgb(8,48,107)"
           ]
          ],
          "line": {
           "color": "Grey",
           "width": 0.5
          },
          "showscale": false
         },
         "mode": "markers",
         "name": "Feasible Trial",
         "showlegend": false,
         "type": "scatter",
         "x": [
          3750,
          15000,
          15000,
          7500,
          3750,
          3750,
          3750,
          3750,
          3750,
          3750,
          3750,
          15000,
          15000,
          15000,
          15000,
          15000,
          15000,
          3750,
          15000,
          15000,
          15000,
          15000,
          15000,
          15000,
          15000,
          7500,
          15000,
          15000,
          3750,
          15000,
          15000,
          15000,
          15000,
          15000,
          15000,
          15000,
          15000,
          15000,
          15000,
          15000,
          3750,
          15000,
          3750,
          15000,
          15000
         ],
         "xaxis": "x3",
         "y": [
          1.0323896418551815,
          0.8612792049187826,
          1.0537973456315135,
          0.9089349207288518,
          1,
          0.9078231289864939,
          0.9716113798142378,
          1.0127508175968094,
          1.0419217967921204,
          1.0879964690732533,
          1.004813609368143,
          1.0677614985514365,
          1,
          1.0578582149524811,
          1,
          1.0613361064156164,
          1.0360367975311127,
          1.1057644437514855,
          0.9709495420790043,
          1.0001554991361883,
          1.0356523434986677,
          1.0124678074909996,
          0.9895012144816999,
          1,
          1,
          0.9051289104677074,
          1.0116103751992551,
          1.0021869427020387,
          1,
          0.9777148272779262,
          1,
          1.053125112087831,
          1.0276999562716072,
          1,
          0.9739520308506253,
          1.0561276292155861,
          0.9861754171211075,
          1.0021869427020387,
          1,
          1,
          1.0021869427020387,
          0.9492472634245511,
          1.0127508175968094,
          1.0213835094142336,
          1.0021869427020387
         ],
         "yaxis": "y3"
        },
        {
         "marker": {
          "color": "#cccccc"
         },
         "mode": "markers",
         "name": "Infeasible Trial",
         "showlegend": false,
         "type": "scatter",
         "x": [
          15000,
          3750,
          3750,
          7500,
          15000
         ],
         "xaxis": "x3",
         "y": [
          1.1772753554968618,
          1.3015398135892386,
          1.6441154261537358,
          2.215816764148133,
          1.3564779718539302
         ],
         "yaxis": "y3"
        },
        {
         "marker": {
          "color": [
           1,
           4,
           5,
           7,
           8,
           9,
           10,
           11,
           12,
           13,
           14,
           15,
           17,
           18,
           19,
           20,
           21,
           22,
           23,
           24,
           25,
           26,
           27,
           28,
           29,
           30,
           31,
           32,
           33,
           34,
           35,
           36,
           37,
           38,
           39,
           40,
           41,
           42,
           43,
           44,
           45,
           46,
           47,
           48,
           49
          ],
          "colorbar": {
           "title": {
            "text": "Trial"
           },
           "x": 1,
           "xpad": 40
          },
          "colorscale": [
           [
            0,
            "rgb(247,251,255)"
           ],
           [
            0.125,
            "rgb(222,235,247)"
           ],
           [
            0.25,
            "rgb(198,219,239)"
           ],
           [
            0.375,
            "rgb(158,202,225)"
           ],
           [
            0.5,
            "rgb(107,174,214)"
           ],
           [
            0.625,
            "rgb(66,146,198)"
           ],
           [
            0.75,
            "rgb(33,113,181)"
           ],
           [
            0.875,
            "rgb(8,81,156)"
           ],
           [
            1,
            "rgb(8,48,107)"
           ]
          ],
          "line": {
           "color": "Grey",
           "width": 0.5
          },
          "showscale": false
         },
         "mode": "markers",
         "name": "Feasible Trial",
         "showlegend": false,
         "type": "scatter",
         "x": [
          2844,
          4782,
          3326,
          2870,
          2200,
          3355,
          3200,
          3249,
          3303,
          2742,
          3061,
          3260,
          4243,
          3974,
          3848,
          3253,
          3612,
          3128,
          4050,
          4195,
          4075,
          3752,
          4076,
          3636,
          3534,
          3841,
          3640,
          3660,
          4037,
          3884,
          3440,
          3766,
          3412,
          3687,
          3713,
          3606,
          3604,
          3441,
          3985,
          3513,
          3551,
          4217,
          3252,
          3738,
          4244
         ],
         "xaxis": "x4",
         "y": [
          1.0323896418551815,
          0.8612792049187826,
          1.0537973456315135,
          0.9089349207288518,
          1,
          0.9078231289864939,
          0.9716113798142378,
          1.0127508175968094,
          1.0419217967921204,
          1.0879964690732533,
          1.004813609368143,
          1.0677614985514365,
          1,
          1.0578582149524811,
          1,
          1.0613361064156164,
          1.0360367975311127,
          1.1057644437514855,
          0.9709495420790043,
          1.0001554991361883,
          1.0356523434986677,
          1.0124678074909996,
          0.9895012144816999,
          1,
          1,
          0.9051289104677074,
          1.0116103751992551,
          1.0021869427020387,
          1,
          0.9777148272779262,
          1,
          1.053125112087831,
          1.0276999562716072,
          1,
          0.9739520308506253,
          1.0561276292155861,
          0.9861754171211075,
          1.0021869427020387,
          1,
          1,
          1.0021869427020387,
          0.9492472634245511,
          1.0127508175968094,
          1.0213835094142336,
          1.0021869427020387
         ],
         "yaxis": "y4"
        },
        {
         "marker": {
          "color": "#cccccc"
         },
         "mode": "markers",
         "name": "Infeasible Trial",
         "showlegend": false,
         "type": "scatter",
         "x": [
          2003,
          1773,
          1354,
          1082,
          2082
         ],
         "xaxis": "x4",
         "y": [
          1.1772753554968618,
          1.3015398135892386,
          1.6441154261537358,
          2.215816764148133,
          1.3564779718539302
         ],
         "yaxis": "y4"
        }
       ],
       "layout": {
        "template": {
         "data": {
          "bar": [
           {
            "error_x": {
             "color": "#2a3f5f"
            },
            "error_y": {
             "color": "#2a3f5f"
            },
            "marker": {
             "line": {
              "color": "#E5ECF6",
              "width": 0.5
             },
             "pattern": {
              "fillmode": "overlay",
              "size": 10,
              "solidity": 0.2
             }
            },
            "type": "bar"
           }
          ],
          "barpolar": [
           {
            "marker": {
             "line": {
              "color": "#E5ECF6",
              "width": 0.5
             },
             "pattern": {
              "fillmode": "overlay",
              "size": 10,
              "solidity": 0.2
             }
            },
            "type": "barpolar"
           }
          ],
          "carpet": [
           {
            "aaxis": {
             "endlinecolor": "#2a3f5f",
             "gridcolor": "white",
             "linecolor": "white",
             "minorgridcolor": "white",
             "startlinecolor": "#2a3f5f"
            },
            "baxis": {
             "endlinecolor": "#2a3f5f",
             "gridcolor": "white",
             "linecolor": "white",
             "minorgridcolor": "white",
             "startlinecolor": "#2a3f5f"
            },
            "type": "carpet"
           }
          ],
          "choropleth": [
           {
            "colorbar": {
             "outlinewidth": 0,
             "ticks": ""
            },
            "type": "choropleth"
           }
          ],
          "contour": [
           {
            "colorbar": {
             "outlinewidth": 0,
             "ticks": ""
            },
            "colorscale": [
             [
              0,
              "#0d0887"
             ],
             [
              0.1111111111111111,
              "#46039f"
             ],
             [
              0.2222222222222222,
              "#7201a8"
             ],
             [
              0.3333333333333333,
              "#9c179e"
             ],
             [
              0.4444444444444444,
              "#bd3786"
             ],
             [
              0.5555555555555556,
              "#d8576b"
             ],
             [
              0.6666666666666666,
              "#ed7953"
             ],
             [
              0.7777777777777778,
              "#fb9f3a"
             ],
             [
              0.8888888888888888,
              "#fdca26"
             ],
             [
              1,
              "#f0f921"
             ]
            ],
            "type": "contour"
           }
          ],
          "contourcarpet": [
           {
            "colorbar": {
             "outlinewidth": 0,
             "ticks": ""
            },
            "type": "contourcarpet"
           }
          ],
          "heatmap": [
           {
            "colorbar": {
             "outlinewidth": 0,
             "ticks": ""
            },
            "colorscale": [
             [
              0,
              "#0d0887"
             ],
             [
              0.1111111111111111,
              "#46039f"
             ],
             [
              0.2222222222222222,
              "#7201a8"
             ],
             [
              0.3333333333333333,
              "#9c179e"
             ],
             [
              0.4444444444444444,
              "#bd3786"
             ],
             [
              0.5555555555555556,
              "#d8576b"
             ],
             [
              0.6666666666666666,
              "#ed7953"
             ],
             [
              0.7777777777777778,
              "#fb9f3a"
             ],
             [
              0.8888888888888888,
              "#fdca26"
             ],
             [
              1,
              "#f0f921"
             ]
            ],
            "type": "heatmap"
           }
          ],
          "heatmapgl": [
           {
            "colorbar": {
             "outlinewidth": 0,
             "ticks": ""
            },
            "colorscale": [
             [
              0,
              "#0d0887"
             ],
             [
              0.1111111111111111,
              "#46039f"
             ],
             [
              0.2222222222222222,
              "#7201a8"
             ],
             [
              0.3333333333333333,
              "#9c179e"
             ],
             [
              0.4444444444444444,
              "#bd3786"
             ],
             [
              0.5555555555555556,
              "#d8576b"
             ],
             [
              0.6666666666666666,
              "#ed7953"
             ],
             [
              0.7777777777777778,
              "#fb9f3a"
             ],
             [
              0.8888888888888888,
              "#fdca26"
             ],
             [
              1,
              "#f0f921"
             ]
            ],
            "type": "heatmapgl"
           }
          ],
          "histogram": [
           {
            "marker": {
             "pattern": {
              "fillmode": "overlay",
              "size": 10,
              "solidity": 0.2
             }
            },
            "type": "histogram"
           }
          ],
          "histogram2d": [
           {
            "colorbar": {
             "outlinewidth": 0,
             "ticks": ""
            },
            "colorscale": [
             [
              0,
              "#0d0887"
             ],
             [
              0.1111111111111111,
              "#46039f"
             ],
             [
              0.2222222222222222,
              "#7201a8"
             ],
             [
              0.3333333333333333,
              "#9c179e"
             ],
             [
              0.4444444444444444,
              "#bd3786"
             ],
             [
              0.5555555555555556,
              "#d8576b"
             ],
             [
              0.6666666666666666,
              "#ed7953"
             ],
             [
              0.7777777777777778,
              "#fb9f3a"
             ],
             [
              0.8888888888888888,
              "#fdca26"
             ],
             [
              1,
              "#f0f921"
             ]
            ],
            "type": "histogram2d"
           }
          ],
          "histogram2dcontour": [
           {
            "colorbar": {
             "outlinewidth": 0,
             "ticks": ""
            },
            "colorscale": [
             [
              0,
              "#0d0887"
             ],
             [
              0.1111111111111111,
              "#46039f"
             ],
             [
              0.2222222222222222,
              "#7201a8"
             ],
             [
              0.3333333333333333,
              "#9c179e"
             ],
             [
              0.4444444444444444,
              "#bd3786"
             ],
             [
              0.5555555555555556,
              "#d8576b"
             ],
             [
              0.6666666666666666,
              "#ed7953"
             ],
             [
              0.7777777777777778,
              "#fb9f3a"
             ],
             [
              0.8888888888888888,
              "#fdca26"
             ],
             [
              1,
              "#f0f921"
             ]
            ],
            "type": "histogram2dcontour"
           }
          ],
          "mesh3d": [
           {
            "colorbar": {
             "outlinewidth": 0,
             "ticks": ""
            },
            "type": "mesh3d"
           }
          ],
          "parcoords": [
           {
            "line": {
             "colorbar": {
              "outlinewidth": 0,
              "ticks": ""
             }
            },
            "type": "parcoords"
           }
          ],
          "pie": [
           {
            "automargin": true,
            "type": "pie"
           }
          ],
          "scatter": [
           {
            "fillpattern": {
             "fillmode": "overlay",
             "size": 10,
             "solidity": 0.2
            },
            "type": "scatter"
           }
          ],
          "scatter3d": [
           {
            "line": {
             "colorbar": {
              "outlinewidth": 0,
              "ticks": ""
             }
            },
            "marker": {
             "colorbar": {
              "outlinewidth": 0,
              "ticks": ""
             }
            },
            "type": "scatter3d"
           }
          ],
          "scattercarpet": [
           {
            "marker": {
             "colorbar": {
              "outlinewidth": 0,
              "ticks": ""
             }
            },
            "type": "scattercarpet"
           }
          ],
          "scattergeo": [
           {
            "marker": {
             "colorbar": {
              "outlinewidth": 0,
              "ticks": ""
             }
            },
            "type": "scattergeo"
           }
          ],
          "scattergl": [
           {
            "marker": {
             "colorbar": {
              "outlinewidth": 0,
              "ticks": ""
             }
            },
            "type": "scattergl"
           }
          ],
          "scattermapbox": [
           {
            "marker": {
             "colorbar": {
              "outlinewidth": 0,
              "ticks": ""
             }
            },
            "type": "scattermapbox"
           }
          ],
          "scatterpolar": [
           {
            "marker": {
             "colorbar": {
              "outlinewidth": 0,
              "ticks": ""
             }
            },
            "type": "scatterpolar"
           }
          ],
          "scatterpolargl": [
           {
            "marker": {
             "colorbar": {
              "outlinewidth": 0,
              "ticks": ""
             }
            },
            "type": "scatterpolargl"
           }
          ],
          "scatterternary": [
           {
            "marker": {
             "colorbar": {
              "outlinewidth": 0,
              "ticks": ""
             }
            },
            "type": "scatterternary"
           }
          ],
          "surface": [
           {
            "colorbar": {
             "outlinewidth": 0,
             "ticks": ""
            },
            "colorscale": [
             [
              0,
              "#0d0887"
             ],
             [
              0.1111111111111111,
              "#46039f"
             ],
             [
              0.2222222222222222,
              "#7201a8"
             ],
             [
              0.3333333333333333,
              "#9c179e"
             ],
             [
              0.4444444444444444,
              "#bd3786"
             ],
             [
              0.5555555555555556,
              "#d8576b"
             ],
             [
              0.6666666666666666,
              "#ed7953"
             ],
             [
              0.7777777777777778,
              "#fb9f3a"
             ],
             [
              0.8888888888888888,
              "#fdca26"
             ],
             [
              1,
              "#f0f921"
             ]
            ],
            "type": "surface"
           }
          ],
          "table": [
           {
            "cells": {
             "fill": {
              "color": "#EBF0F8"
             },
             "line": {
              "color": "white"
             }
            },
            "header": {
             "fill": {
              "color": "#C8D4E3"
             },
             "line": {
              "color": "white"
             }
            },
            "type": "table"
           }
          ]
         },
         "layout": {
          "annotationdefaults": {
           "arrowcolor": "#2a3f5f",
           "arrowhead": 0,
           "arrowwidth": 1
          },
          "autotypenumbers": "strict",
          "coloraxis": {
           "colorbar": {
            "outlinewidth": 0,
            "ticks": ""
           }
          },
          "colorscale": {
           "diverging": [
            [
             0,
             "#8e0152"
            ],
            [
             0.1,
             "#c51b7d"
            ],
            [
             0.2,
             "#de77ae"
            ],
            [
             0.3,
             "#f1b6da"
            ],
            [
             0.4,
             "#fde0ef"
            ],
            [
             0.5,
             "#f7f7f7"
            ],
            [
             0.6,
             "#e6f5d0"
            ],
            [
             0.7,
             "#b8e186"
            ],
            [
             0.8,
             "#7fbc41"
            ],
            [
             0.9,
             "#4d9221"
            ],
            [
             1,
             "#276419"
            ]
           ],
           "sequential": [
            [
             0,
             "#0d0887"
            ],
            [
             0.1111111111111111,
             "#46039f"
            ],
            [
             0.2222222222222222,
             "#7201a8"
            ],
            [
             0.3333333333333333,
             "#9c179e"
            ],
            [
             0.4444444444444444,
             "#bd3786"
            ],
            [
             0.5555555555555556,
             "#d8576b"
            ],
            [
             0.6666666666666666,
             "#ed7953"
            ],
            [
             0.7777777777777778,
             "#fb9f3a"
            ],
            [
             0.8888888888888888,
             "#fdca26"
            ],
            [
             1,
             "#f0f921"
            ]
           ],
           "sequentialminus": [
            [
             0,
             "#0d0887"
            ],
            [
             0.1111111111111111,
             "#46039f"
            ],
            [
             0.2222222222222222,
             "#7201a8"
            ],
            [
             0.3333333333333333,
             "#9c179e"
            ],
            [
             0.4444444444444444,
             "#bd3786"
            ],
            [
             0.5555555555555556,
             "#d8576b"
            ],
            [
             0.6666666666666666,
             "#ed7953"
            ],
            [
             0.7777777777777778,
             "#fb9f3a"
            ],
            [
             0.8888888888888888,
             "#fdca26"
            ],
            [
             1,
             "#f0f921"
            ]
           ]
          },
          "colorway": [
           "#636efa",
           "#EF553B",
           "#00cc96",
           "#ab63fa",
           "#FFA15A",
           "#19d3f3",
           "#FF6692",
           "#B6E880",
           "#FF97FF",
           "#FECB52"
          ],
          "font": {
           "color": "#2a3f5f"
          },
          "geo": {
           "bgcolor": "white",
           "lakecolor": "white",
           "landcolor": "#E5ECF6",
           "showlakes": true,
           "showland": true,
           "subunitcolor": "white"
          },
          "hoverlabel": {
           "align": "left"
          },
          "hovermode": "closest",
          "mapbox": {
           "style": "light"
          },
          "paper_bgcolor": "white",
          "plot_bgcolor": "#E5ECF6",
          "polar": {
           "angularaxis": {
            "gridcolor": "white",
            "linecolor": "white",
            "ticks": ""
           },
           "bgcolor": "#E5ECF6",
           "radialaxis": {
            "gridcolor": "white",
            "linecolor": "white",
            "ticks": ""
           }
          },
          "scene": {
           "xaxis": {
            "backgroundcolor": "#E5ECF6",
            "gridcolor": "white",
            "gridwidth": 2,
            "linecolor": "white",
            "showbackground": true,
            "ticks": "",
            "zerolinecolor": "white"
           },
           "yaxis": {
            "backgroundcolor": "#E5ECF6",
            "gridcolor": "white",
            "gridwidth": 2,
            "linecolor": "white",
            "showbackground": true,
            "ticks": "",
            "zerolinecolor": "white"
           },
           "zaxis": {
            "backgroundcolor": "#E5ECF6",
            "gridcolor": "white",
            "gridwidth": 2,
            "linecolor": "white",
            "showbackground": true,
            "ticks": "",
            "zerolinecolor": "white"
           }
          },
          "shapedefaults": {
           "line": {
            "color": "#2a3f5f"
           }
          },
          "ternary": {
           "aaxis": {
            "gridcolor": "white",
            "linecolor": "white",
            "ticks": ""
           },
           "baxis": {
            "gridcolor": "white",
            "linecolor": "white",
            "ticks": ""
           },
           "bgcolor": "#E5ECF6",
           "caxis": {
            "gridcolor": "white",
            "linecolor": "white",
            "ticks": ""
           }
          },
          "title": {
           "x": 0.05
          },
          "xaxis": {
           "automargin": true,
           "gridcolor": "white",
           "linecolor": "white",
           "ticks": "",
           "title": {
            "standoff": 15
           },
           "zerolinecolor": "white",
           "zerolinewidth": 2
          },
          "yaxis": {
           "automargin": true,
           "gridcolor": "white",
           "linecolor": "white",
           "ticks": "",
           "title": {
            "standoff": 15
           },
           "zerolinecolor": "white",
           "zerolinewidth": 2
          }
         }
        },
        "title": {
         "text": "Slice Plot"
        },
        "width": 1200,
        "xaxis": {
         "anchor": "y",
         "domain": [
          0,
          0.2125
         ],
         "title": {
          "text": "L"
         }
        },
        "xaxis2": {
         "anchor": "y2",
         "domain": [
          0.2625,
          0.475
         ],
         "title": {
          "text": "k"
         }
        },
        "xaxis3": {
         "anchor": "y3",
         "categoryarray": [
          3750,
          7500,
          15000
         ],
         "categoryorder": "array",
         "domain": [
          0.525,
          0.7375
         ],
         "title": {
          "text": "table_size"
         },
         "type": "category"
        },
        "xaxis4": {
         "anchor": "y4",
         "domain": [
          0.7875,
          1
         ],
         "title": {
          "text": "window_size"
         }
        },
        "yaxis": {
         "anchor": "x",
         "domain": [
          0,
          1
         ],
         "title": {
          "text": "maf"
         }
        },
        "yaxis2": {
         "anchor": "x2",
         "domain": [
          0,
          1
         ],
         "matches": "y",
         "showticklabels": false
        },
        "yaxis3": {
         "anchor": "x3",
         "domain": [
          0,
          1
         ],
         "matches": "y",
         "showticklabels": false
        },
        "yaxis4": {
         "anchor": "x4",
         "domain": [
          0,
          1
         ],
         "matches": "y",
         "showticklabels": false
        }
       }
      }
     },
     "metadata": {},
     "output_type": "display_data"
    }
   ],
   "source": [
    "plot_slice(lsh_study, target = lambda t: t.values[0], target_name = 'maf')"
   ]
  },
  {
   "cell_type": "code",
   "execution_count": 17,
   "metadata": {},
   "outputs": [
    {
     "data": {
      "application/vnd.plotly.v1+json": {
       "config": {
        "plotlyServerURL": "https://plot.ly"
       },
       "data": [
        {
         "marker": {
          "color": [
           1,
           4,
           5,
           7,
           8,
           9,
           10,
           11,
           12,
           13,
           14,
           15,
           17,
           18,
           19,
           20,
           21,
           22,
           23,
           24,
           25,
           26,
           27,
           28,
           29,
           30,
           31,
           32,
           33,
           34,
           35,
           36,
           37,
           38,
           39,
           40,
           41,
           42,
           43,
           44,
           45,
           46,
           47,
           48,
           49
          ],
          "colorbar": {
           "title": {
            "text": "Trial"
           },
           "x": 1,
           "xpad": 40
          },
          "colorscale": [
           [
            0,
            "rgb(247,251,255)"
           ],
           [
            0.125,
            "rgb(222,235,247)"
           ],
           [
            0.25,
            "rgb(198,219,239)"
           ],
           [
            0.375,
            "rgb(158,202,225)"
           ],
           [
            0.5,
            "rgb(107,174,214)"
           ],
           [
            0.625,
            "rgb(66,146,198)"
           ],
           [
            0.75,
            "rgb(33,113,181)"
           ],
           [
            0.875,
            "rgb(8,81,156)"
           ],
           [
            1,
            "rgb(8,48,107)"
           ]
          ],
          "line": {
           "color": "Grey",
           "width": 0.5
          },
          "showscale": true
         },
         "mode": "markers",
         "name": "Feasible Trial",
         "showlegend": false,
         "type": "scatter",
         "x": [
          4,
          10,
          3,
          5,
          9,
          10,
          6,
          6,
          5,
          7,
          5,
          3,
          7,
          3,
          7,
          5,
          6,
          6,
          6,
          7,
          6,
          6,
          8,
          8,
          7,
          4,
          7,
          7,
          4,
          8,
          6,
          7,
          7,
          8,
          8,
          8,
          7,
          7,
          8,
          7,
          5,
          8,
          5,
          8,
          8
         ],
         "xaxis": "x",
         "y": [
          0.0247823,
          0.6233115,
          0.015467299999999998,
          0.2493493,
          0.10556829999999999,
          0.24525959999999997,
          0.043435699999999994,
          0.1036674,
          0.025681400000000004,
          0.0232022,
          0.0365574,
          0.0169359,
          0.0822667,
          0.0300072,
          0.0947414,
          0.0135708,
          0.0333736,
          0.0205578,
          0.08566159999999999,
          0.104514,
          0.0324463,
          0.019983400000000002,
          0.06250710000000001,
          0.044309,
          0.035598199999999997,
          0.29210859999999994,
          0.0407757,
          0.033583,
          0.0914615,
          0.06271970000000002,
          0.0355708,
          0.0412917,
          0.025152599999999997,
          0.031066999999999994,
          0.05091140000000001,
          0.025736,
          0.051636900000000006,
          0.048907799999999994,
          0.0643002,
          0.0371734,
          0.031239100000000002,
          0.0918829,
          0.040324299999999993,
          0.08483169999999998,
          0.11239860000000002
         ],
         "yaxis": "y"
        },
        {
         "marker": {
          "color": "#cccccc"
         },
         "mode": "markers",
         "name": "Infeasible Trial",
         "showlegend": false,
         "type": "scatter",
         "x": [
          8,
          5,
          3,
          9,
          2
         ],
         "xaxis": "x",
         "y": [
          0.0022889000000000004,
          0.0017852,
          0.0005732000000000001,
          0.0013180000000000002,
          0.0023514999999999994
         ],
         "yaxis": "y"
        },
        {
         "marker": {
          "color": [
           1,
           4,
           5,
           7,
           8,
           9,
           10,
           11,
           12,
           13,
           14,
           15,
           17,
           18,
           19,
           20,
           21,
           22,
           23,
           24,
           25,
           26,
           27,
           28,
           29,
           30,
           31,
           32,
           33,
           34,
           35,
           36,
           37,
           38,
           39,
           40,
           41,
           42,
           43,
           44,
           45,
           46,
           47,
           48,
           49
          ],
          "colorbar": {
           "title": {
            "text": "Trial"
           },
           "x": 1,
           "xpad": 40
          },
          "colorscale": [
           [
            0,
            "rgb(247,251,255)"
           ],
           [
            0.125,
            "rgb(222,235,247)"
           ],
           [
            0.25,
            "rgb(198,219,239)"
           ],
           [
            0.375,
            "rgb(158,202,225)"
           ],
           [
            0.5,
            "rgb(107,174,214)"
           ],
           [
            0.625,
            "rgb(66,146,198)"
           ],
           [
            0.75,
            "rgb(33,113,181)"
           ],
           [
            0.875,
            "rgb(8,81,156)"
           ],
           [
            1,
            "rgb(8,48,107)"
           ]
          ],
          "line": {
           "color": "Grey",
           "width": 0.5
          },
          "showscale": false
         },
         "mode": "markers",
         "name": "Feasible Trial",
         "showlegend": false,
         "type": "scatter",
         "x": [
          6,
          2,
          7,
          2,
          4,
          4,
          7,
          5,
          8,
          8,
          7,
          10,
          9,
          9,
          7,
          9,
          9,
          7,
          9,
          8,
          9,
          10,
          9,
          10,
          10,
          2,
          10,
          10,
          7,
          10,
          10,
          10,
          10,
          10,
          10,
          10,
          10,
          10,
          10,
          10,
          7,
          9,
          7,
          10,
          10
         ],
         "xaxis": "x2",
         "y": [
          0.0247823,
          0.6233115,
          0.015467299999999998,
          0.2493493,
          0.10556829999999999,
          0.24525959999999997,
          0.043435699999999994,
          0.1036674,
          0.025681400000000004,
          0.0232022,
          0.0365574,
          0.0169359,
          0.0822667,
          0.0300072,
          0.0947414,
          0.0135708,
          0.0333736,
          0.0205578,
          0.08566159999999999,
          0.104514,
          0.0324463,
          0.019983400000000002,
          0.06250710000000001,
          0.044309,
          0.035598199999999997,
          0.29210859999999994,
          0.0407757,
          0.033583,
          0.0914615,
          0.06271970000000002,
          0.0355708,
          0.0412917,
          0.025152599999999997,
          0.031066999999999994,
          0.05091140000000001,
          0.025736,
          0.051636900000000006,
          0.048907799999999994,
          0.0643002,
          0.0371734,
          0.031239100000000002,
          0.0918829,
          0.040324299999999993,
          0.08483169999999998,
          0.11239860000000002
         ],
         "yaxis": "y2"
        },
        {
         "marker": {
          "color": "#cccccc"
         },
         "mode": "markers",
         "name": "Infeasible Trial",
         "showlegend": false,
         "type": "scatter",
         "x": [
          10,
          8,
          7,
          9,
          8
         ],
         "xaxis": "x2",
         "y": [
          0.0022889000000000004,
          0.0017852,
          0.0005732000000000001,
          0.0013180000000000002,
          0.0023514999999999994
         ],
         "yaxis": "y2"
        },
        {
         "marker": {
          "color": [
           1,
           4,
           5,
           7,
           8,
           9,
           10,
           11,
           12,
           13,
           14,
           15,
           17,
           18,
           19,
           20,
           21,
           22,
           23,
           24,
           25,
           26,
           27,
           28,
           29,
           30,
           31,
           32,
           33,
           34,
           35,
           36,
           37,
           38,
           39,
           40,
           41,
           42,
           43,
           44,
           45,
           46,
           47,
           48,
           49
          ],
          "colorbar": {
           "title": {
            "text": "Trial"
           },
           "x": 1,
           "xpad": 40
          },
          "colorscale": [
           [
            0,
            "rgb(247,251,255)"
           ],
           [
            0.125,
            "rgb(222,235,247)"
           ],
           [
            0.25,
            "rgb(198,219,239)"
           ],
           [
            0.375,
            "rgb(158,202,225)"
           ],
           [
            0.5,
            "rgb(107,174,214)"
           ],
           [
            0.625,
            "rgb(66,146,198)"
           ],
           [
            0.75,
            "rgb(33,113,181)"
           ],
           [
            0.875,
            "rgb(8,81,156)"
           ],
           [
            1,
            "rgb(8,48,107)"
           ]
          ],
          "line": {
           "color": "Grey",
           "width": 0.5
          },
          "showscale": false
         },
         "mode": "markers",
         "name": "Feasible Trial",
         "showlegend": false,
         "type": "scatter",
         "x": [
          3750,
          15000,
          15000,
          7500,
          3750,
          3750,
          3750,
          3750,
          3750,
          3750,
          3750,
          15000,
          15000,
          15000,
          15000,
          15000,
          15000,
          3750,
          15000,
          15000,
          15000,
          15000,
          15000,
          15000,
          15000,
          7500,
          15000,
          15000,
          3750,
          15000,
          15000,
          15000,
          15000,
          15000,
          15000,
          15000,
          15000,
          15000,
          15000,
          15000,
          3750,
          15000,
          3750,
          15000,
          15000
         ],
         "xaxis": "x3",
         "y": [
          0.0247823,
          0.6233115,
          0.015467299999999998,
          0.2493493,
          0.10556829999999999,
          0.24525959999999997,
          0.043435699999999994,
          0.1036674,
          0.025681400000000004,
          0.0232022,
          0.0365574,
          0.0169359,
          0.0822667,
          0.0300072,
          0.0947414,
          0.0135708,
          0.0333736,
          0.0205578,
          0.08566159999999999,
          0.104514,
          0.0324463,
          0.019983400000000002,
          0.06250710000000001,
          0.044309,
          0.035598199999999997,
          0.29210859999999994,
          0.0407757,
          0.033583,
          0.0914615,
          0.06271970000000002,
          0.0355708,
          0.0412917,
          0.025152599999999997,
          0.031066999999999994,
          0.05091140000000001,
          0.025736,
          0.051636900000000006,
          0.048907799999999994,
          0.0643002,
          0.0371734,
          0.031239100000000002,
          0.0918829,
          0.040324299999999993,
          0.08483169999999998,
          0.11239860000000002
         ],
         "yaxis": "y3"
        },
        {
         "marker": {
          "color": "#cccccc"
         },
         "mode": "markers",
         "name": "Infeasible Trial",
         "showlegend": false,
         "type": "scatter",
         "x": [
          15000,
          3750,
          3750,
          7500,
          15000
         ],
         "xaxis": "x3",
         "y": [
          0.0022889000000000004,
          0.0017852,
          0.0005732000000000001,
          0.0013180000000000002,
          0.0023514999999999994
         ],
         "yaxis": "y3"
        },
        {
         "marker": {
          "color": [
           1,
           4,
           5,
           7,
           8,
           9,
           10,
           11,
           12,
           13,
           14,
           15,
           17,
           18,
           19,
           20,
           21,
           22,
           23,
           24,
           25,
           26,
           27,
           28,
           29,
           30,
           31,
           32,
           33,
           34,
           35,
           36,
           37,
           38,
           39,
           40,
           41,
           42,
           43,
           44,
           45,
           46,
           47,
           48,
           49
          ],
          "colorbar": {
           "title": {
            "text": "Trial"
           },
           "x": 1,
           "xpad": 40
          },
          "colorscale": [
           [
            0,
            "rgb(247,251,255)"
           ],
           [
            0.125,
            "rgb(222,235,247)"
           ],
           [
            0.25,
            "rgb(198,219,239)"
           ],
           [
            0.375,
            "rgb(158,202,225)"
           ],
           [
            0.5,
            "rgb(107,174,214)"
           ],
           [
            0.625,
            "rgb(66,146,198)"
           ],
           [
            0.75,
            "rgb(33,113,181)"
           ],
           [
            0.875,
            "rgb(8,81,156)"
           ],
           [
            1,
            "rgb(8,48,107)"
           ]
          ],
          "line": {
           "color": "Grey",
           "width": 0.5
          },
          "showscale": false
         },
         "mode": "markers",
         "name": "Feasible Trial",
         "showlegend": false,
         "type": "scatter",
         "x": [
          2844,
          4782,
          3326,
          2870,
          2200,
          3355,
          3200,
          3249,
          3303,
          2742,
          3061,
          3260,
          4243,
          3974,
          3848,
          3253,
          3612,
          3128,
          4050,
          4195,
          4075,
          3752,
          4076,
          3636,
          3534,
          3841,
          3640,
          3660,
          4037,
          3884,
          3440,
          3766,
          3412,
          3687,
          3713,
          3606,
          3604,
          3441,
          3985,
          3513,
          3551,
          4217,
          3252,
          3738,
          4244
         ],
         "xaxis": "x4",
         "y": [
          0.0247823,
          0.6233115,
          0.015467299999999998,
          0.2493493,
          0.10556829999999999,
          0.24525959999999997,
          0.043435699999999994,
          0.1036674,
          0.025681400000000004,
          0.0232022,
          0.0365574,
          0.0169359,
          0.0822667,
          0.0300072,
          0.0947414,
          0.0135708,
          0.0333736,
          0.0205578,
          0.08566159999999999,
          0.104514,
          0.0324463,
          0.019983400000000002,
          0.06250710000000001,
          0.044309,
          0.035598199999999997,
          0.29210859999999994,
          0.0407757,
          0.033583,
          0.0914615,
          0.06271970000000002,
          0.0355708,
          0.0412917,
          0.025152599999999997,
          0.031066999999999994,
          0.05091140000000001,
          0.025736,
          0.051636900000000006,
          0.048907799999999994,
          0.0643002,
          0.0371734,
          0.031239100000000002,
          0.0918829,
          0.040324299999999993,
          0.08483169999999998,
          0.11239860000000002
         ],
         "yaxis": "y4"
        },
        {
         "marker": {
          "color": "#cccccc"
         },
         "mode": "markers",
         "name": "Infeasible Trial",
         "showlegend": false,
         "type": "scatter",
         "x": [
          2003,
          1773,
          1354,
          1082,
          2082
         ],
         "xaxis": "x4",
         "y": [
          0.0022889000000000004,
          0.0017852,
          0.0005732000000000001,
          0.0013180000000000002,
          0.0023514999999999994
         ],
         "yaxis": "y4"
        }
       ],
       "layout": {
        "template": {
         "data": {
          "bar": [
           {
            "error_x": {
             "color": "#2a3f5f"
            },
            "error_y": {
             "color": "#2a3f5f"
            },
            "marker": {
             "line": {
              "color": "#E5ECF6",
              "width": 0.5
             },
             "pattern": {
              "fillmode": "overlay",
              "size": 10,
              "solidity": 0.2
             }
            },
            "type": "bar"
           }
          ],
          "barpolar": [
           {
            "marker": {
             "line": {
              "color": "#E5ECF6",
              "width": 0.5
             },
             "pattern": {
              "fillmode": "overlay",
              "size": 10,
              "solidity": 0.2
             }
            },
            "type": "barpolar"
           }
          ],
          "carpet": [
           {
            "aaxis": {
             "endlinecolor": "#2a3f5f",
             "gridcolor": "white",
             "linecolor": "white",
             "minorgridcolor": "white",
             "startlinecolor": "#2a3f5f"
            },
            "baxis": {
             "endlinecolor": "#2a3f5f",
             "gridcolor": "white",
             "linecolor": "white",
             "minorgridcolor": "white",
             "startlinecolor": "#2a3f5f"
            },
            "type": "carpet"
           }
          ],
          "choropleth": [
           {
            "colorbar": {
             "outlinewidth": 0,
             "ticks": ""
            },
            "type": "choropleth"
           }
          ],
          "contour": [
           {
            "colorbar": {
             "outlinewidth": 0,
             "ticks": ""
            },
            "colorscale": [
             [
              0,
              "#0d0887"
             ],
             [
              0.1111111111111111,
              "#46039f"
             ],
             [
              0.2222222222222222,
              "#7201a8"
             ],
             [
              0.3333333333333333,
              "#9c179e"
             ],
             [
              0.4444444444444444,
              "#bd3786"
             ],
             [
              0.5555555555555556,
              "#d8576b"
             ],
             [
              0.6666666666666666,
              "#ed7953"
             ],
             [
              0.7777777777777778,
              "#fb9f3a"
             ],
             [
              0.8888888888888888,
              "#fdca26"
             ],
             [
              1,
              "#f0f921"
             ]
            ],
            "type": "contour"
           }
          ],
          "contourcarpet": [
           {
            "colorbar": {
             "outlinewidth": 0,
             "ticks": ""
            },
            "type": "contourcarpet"
           }
          ],
          "heatmap": [
           {
            "colorbar": {
             "outlinewidth": 0,
             "ticks": ""
            },
            "colorscale": [
             [
              0,
              "#0d0887"
             ],
             [
              0.1111111111111111,
              "#46039f"
             ],
             [
              0.2222222222222222,
              "#7201a8"
             ],
             [
              0.3333333333333333,
              "#9c179e"
             ],
             [
              0.4444444444444444,
              "#bd3786"
             ],
             [
              0.5555555555555556,
              "#d8576b"
             ],
             [
              0.6666666666666666,
              "#ed7953"
             ],
             [
              0.7777777777777778,
              "#fb9f3a"
             ],
             [
              0.8888888888888888,
              "#fdca26"
             ],
             [
              1,
              "#f0f921"
             ]
            ],
            "type": "heatmap"
           }
          ],
          "heatmapgl": [
           {
            "colorbar": {
             "outlinewidth": 0,
             "ticks": ""
            },
            "colorscale": [
             [
              0,
              "#0d0887"
             ],
             [
              0.1111111111111111,
              "#46039f"
             ],
             [
              0.2222222222222222,
              "#7201a8"
             ],
             [
              0.3333333333333333,
              "#9c179e"
             ],
             [
              0.4444444444444444,
              "#bd3786"
             ],
             [
              0.5555555555555556,
              "#d8576b"
             ],
             [
              0.6666666666666666,
              "#ed7953"
             ],
             [
              0.7777777777777778,
              "#fb9f3a"
             ],
             [
              0.8888888888888888,
              "#fdca26"
             ],
             [
              1,
              "#f0f921"
             ]
            ],
            "type": "heatmapgl"
           }
          ],
          "histogram": [
           {
            "marker": {
             "pattern": {
              "fillmode": "overlay",
              "size": 10,
              "solidity": 0.2
             }
            },
            "type": "histogram"
           }
          ],
          "histogram2d": [
           {
            "colorbar": {
             "outlinewidth": 0,
             "ticks": ""
            },
            "colorscale": [
             [
              0,
              "#0d0887"
             ],
             [
              0.1111111111111111,
              "#46039f"
             ],
             [
              0.2222222222222222,
              "#7201a8"
             ],
             [
              0.3333333333333333,
              "#9c179e"
             ],
             [
              0.4444444444444444,
              "#bd3786"
             ],
             [
              0.5555555555555556,
              "#d8576b"
             ],
             [
              0.6666666666666666,
              "#ed7953"
             ],
             [
              0.7777777777777778,
              "#fb9f3a"
             ],
             [
              0.8888888888888888,
              "#fdca26"
             ],
             [
              1,
              "#f0f921"
             ]
            ],
            "type": "histogram2d"
           }
          ],
          "histogram2dcontour": [
           {
            "colorbar": {
             "outlinewidth": 0,
             "ticks": ""
            },
            "colorscale": [
             [
              0,
              "#0d0887"
             ],
             [
              0.1111111111111111,
              "#46039f"
             ],
             [
              0.2222222222222222,
              "#7201a8"
             ],
             [
              0.3333333333333333,
              "#9c179e"
             ],
             [
              0.4444444444444444,
              "#bd3786"
             ],
             [
              0.5555555555555556,
              "#d8576b"
             ],
             [
              0.6666666666666666,
              "#ed7953"
             ],
             [
              0.7777777777777778,
              "#fb9f3a"
             ],
             [
              0.8888888888888888,
              "#fdca26"
             ],
             [
              1,
              "#f0f921"
             ]
            ],
            "type": "histogram2dcontour"
           }
          ],
          "mesh3d": [
           {
            "colorbar": {
             "outlinewidth": 0,
             "ticks": ""
            },
            "type": "mesh3d"
           }
          ],
          "parcoords": [
           {
            "line": {
             "colorbar": {
              "outlinewidth": 0,
              "ticks": ""
             }
            },
            "type": "parcoords"
           }
          ],
          "pie": [
           {
            "automargin": true,
            "type": "pie"
           }
          ],
          "scatter": [
           {
            "fillpattern": {
             "fillmode": "overlay",
             "size": 10,
             "solidity": 0.2
            },
            "type": "scatter"
           }
          ],
          "scatter3d": [
           {
            "line": {
             "colorbar": {
              "outlinewidth": 0,
              "ticks": ""
             }
            },
            "marker": {
             "colorbar": {
              "outlinewidth": 0,
              "ticks": ""
             }
            },
            "type": "scatter3d"
           }
          ],
          "scattercarpet": [
           {
            "marker": {
             "colorbar": {
              "outlinewidth": 0,
              "ticks": ""
             }
            },
            "type": "scattercarpet"
           }
          ],
          "scattergeo": [
           {
            "marker": {
             "colorbar": {
              "outlinewidth": 0,
              "ticks": ""
             }
            },
            "type": "scattergeo"
           }
          ],
          "scattergl": [
           {
            "marker": {
             "colorbar": {
              "outlinewidth": 0,
              "ticks": ""
             }
            },
            "type": "scattergl"
           }
          ],
          "scattermapbox": [
           {
            "marker": {
             "colorbar": {
              "outlinewidth": 0,
              "ticks": ""
             }
            },
            "type": "scattermapbox"
           }
          ],
          "scatterpolar": [
           {
            "marker": {
             "colorbar": {
              "outlinewidth": 0,
              "ticks": ""
             }
            },
            "type": "scatterpolar"
           }
          ],
          "scatterpolargl": [
           {
            "marker": {
             "colorbar": {
              "outlinewidth": 0,
              "ticks": ""
             }
            },
            "type": "scatterpolargl"
           }
          ],
          "scatterternary": [
           {
            "marker": {
             "colorbar": {
              "outlinewidth": 0,
              "ticks": ""
             }
            },
            "type": "scatterternary"
           }
          ],
          "surface": [
           {
            "colorbar": {
             "outlinewidth": 0,
             "ticks": ""
            },
            "colorscale": [
             [
              0,
              "#0d0887"
             ],
             [
              0.1111111111111111,
              "#46039f"
             ],
             [
              0.2222222222222222,
              "#7201a8"
             ],
             [
              0.3333333333333333,
              "#9c179e"
             ],
             [
              0.4444444444444444,
              "#bd3786"
             ],
             [
              0.5555555555555556,
              "#d8576b"
             ],
             [
              0.6666666666666666,
              "#ed7953"
             ],
             [
              0.7777777777777778,
              "#fb9f3a"
             ],
             [
              0.8888888888888888,
              "#fdca26"
             ],
             [
              1,
              "#f0f921"
             ]
            ],
            "type": "surface"
           }
          ],
          "table": [
           {
            "cells": {
             "fill": {
              "color": "#EBF0F8"
             },
             "line": {
              "color": "white"
             }
            },
            "header": {
             "fill": {
              "color": "#C8D4E3"
             },
             "line": {
              "color": "white"
             }
            },
            "type": "table"
           }
          ]
         },
         "layout": {
          "annotationdefaults": {
           "arrowcolor": "#2a3f5f",
           "arrowhead": 0,
           "arrowwidth": 1
          },
          "autotypenumbers": "strict",
          "coloraxis": {
           "colorbar": {
            "outlinewidth": 0,
            "ticks": ""
           }
          },
          "colorscale": {
           "diverging": [
            [
             0,
             "#8e0152"
            ],
            [
             0.1,
             "#c51b7d"
            ],
            [
             0.2,
             "#de77ae"
            ],
            [
             0.3,
             "#f1b6da"
            ],
            [
             0.4,
             "#fde0ef"
            ],
            [
             0.5,
             "#f7f7f7"
            ],
            [
             0.6,
             "#e6f5d0"
            ],
            [
             0.7,
             "#b8e186"
            ],
            [
             0.8,
             "#7fbc41"
            ],
            [
             0.9,
             "#4d9221"
            ],
            [
             1,
             "#276419"
            ]
           ],
           "sequential": [
            [
             0,
             "#0d0887"
            ],
            [
             0.1111111111111111,
             "#46039f"
            ],
            [
             0.2222222222222222,
             "#7201a8"
            ],
            [
             0.3333333333333333,
             "#9c179e"
            ],
            [
             0.4444444444444444,
             "#bd3786"
            ],
            [
             0.5555555555555556,
             "#d8576b"
            ],
            [
             0.6666666666666666,
             "#ed7953"
            ],
            [
             0.7777777777777778,
             "#fb9f3a"
            ],
            [
             0.8888888888888888,
             "#fdca26"
            ],
            [
             1,
             "#f0f921"
            ]
           ],
           "sequentialminus": [
            [
             0,
             "#0d0887"
            ],
            [
             0.1111111111111111,
             "#46039f"
            ],
            [
             0.2222222222222222,
             "#7201a8"
            ],
            [
             0.3333333333333333,
             "#9c179e"
            ],
            [
             0.4444444444444444,
             "#bd3786"
            ],
            [
             0.5555555555555556,
             "#d8576b"
            ],
            [
             0.6666666666666666,
             "#ed7953"
            ],
            [
             0.7777777777777778,
             "#fb9f3a"
            ],
            [
             0.8888888888888888,
             "#fdca26"
            ],
            [
             1,
             "#f0f921"
            ]
           ]
          },
          "colorway": [
           "#636efa",
           "#EF553B",
           "#00cc96",
           "#ab63fa",
           "#FFA15A",
           "#19d3f3",
           "#FF6692",
           "#B6E880",
           "#FF97FF",
           "#FECB52"
          ],
          "font": {
           "color": "#2a3f5f"
          },
          "geo": {
           "bgcolor": "white",
           "lakecolor": "white",
           "landcolor": "#E5ECF6",
           "showlakes": true,
           "showland": true,
           "subunitcolor": "white"
          },
          "hoverlabel": {
           "align": "left"
          },
          "hovermode": "closest",
          "mapbox": {
           "style": "light"
          },
          "paper_bgcolor": "white",
          "plot_bgcolor": "#E5ECF6",
          "polar": {
           "angularaxis": {
            "gridcolor": "white",
            "linecolor": "white",
            "ticks": ""
           },
           "bgcolor": "#E5ECF6",
           "radialaxis": {
            "gridcolor": "white",
            "linecolor": "white",
            "ticks": ""
           }
          },
          "scene": {
           "xaxis": {
            "backgroundcolor": "#E5ECF6",
            "gridcolor": "white",
            "gridwidth": 2,
            "linecolor": "white",
            "showbackground": true,
            "ticks": "",
            "zerolinecolor": "white"
           },
           "yaxis": {
            "backgroundcolor": "#E5ECF6",
            "gridcolor": "white",
            "gridwidth": 2,
            "linecolor": "white",
            "showbackground": true,
            "ticks": "",
            "zerolinecolor": "white"
           },
           "zaxis": {
            "backgroundcolor": "#E5ECF6",
            "gridcolor": "white",
            "gridwidth": 2,
            "linecolor": "white",
            "showbackground": true,
            "ticks": "",
            "zerolinecolor": "white"
           }
          },
          "shapedefaults": {
           "line": {
            "color": "#2a3f5f"
           }
          },
          "ternary": {
           "aaxis": {
            "gridcolor": "white",
            "linecolor": "white",
            "ticks": ""
           },
           "baxis": {
            "gridcolor": "white",
            "linecolor": "white",
            "ticks": ""
           },
           "bgcolor": "#E5ECF6",
           "caxis": {
            "gridcolor": "white",
            "linecolor": "white",
            "ticks": ""
           }
          },
          "title": {
           "x": 0.05
          },
          "xaxis": {
           "automargin": true,
           "gridcolor": "white",
           "linecolor": "white",
           "ticks": "",
           "title": {
            "standoff": 15
           },
           "zerolinecolor": "white",
           "zerolinewidth": 2
          },
          "yaxis": {
           "automargin": true,
           "gridcolor": "white",
           "linecolor": "white",
           "ticks": "",
           "title": {
            "standoff": 15
           },
           "zerolinecolor": "white",
           "zerolinewidth": 2
          }
         }
        },
        "title": {
         "text": "Slice Plot"
        },
        "width": 1200,
        "xaxis": {
         "anchor": "y",
         "domain": [
          0,
          0.2125
         ],
         "title": {
          "text": "L"
         }
        },
        "xaxis2": {
         "anchor": "y2",
         "domain": [
          0.2625,
          0.475
         ],
         "title": {
          "text": "k"
         }
        },
        "xaxis3": {
         "anchor": "y3",
         "categoryarray": [
          3750,
          7500,
          15000
         ],
         "categoryorder": "array",
         "domain": [
          0.525,
          0.7375
         ],
         "title": {
          "text": "table_size"
         },
         "type": "category"
        },
        "xaxis4": {
         "anchor": "y4",
         "domain": [
          0.7875,
          1
         ],
         "title": {
          "text": "window_size"
         }
        },
        "yaxis": {
         "anchor": "x",
         "domain": [
          0,
          1
         ],
         "title": {
          "text": "average_time"
         }
        },
        "yaxis2": {
         "anchor": "x2",
         "domain": [
          0,
          1
         ],
         "matches": "y",
         "showticklabels": false
        },
        "yaxis3": {
         "anchor": "x3",
         "domain": [
          0,
          1
         ],
         "matches": "y",
         "showticklabels": false
        },
        "yaxis4": {
         "anchor": "x4",
         "domain": [
          0,
          1
         ],
         "matches": "y",
         "showticklabels": false
        }
       }
      }
     },
     "metadata": {},
     "output_type": "display_data"
    }
   ],
   "source": [
    "plot_slice(lsh_study, target = lambda t: t.values[1], target_name = 'average_time')"
   ]
  },
  {
   "attachments": {},
   "cell_type": "markdown",
   "metadata": {},
   "source": [
    "# 2. Optimize Hypercube\n",
    "\n",
    "To skip logs, click [here](#visualize-hypercube-study-results)."
   ]
  },
  {
   "cell_type": "code",
   "execution_count": 5,
   "metadata": {},
   "outputs": [],
   "source": [
    "def objective_hypercube(trial):\n",
    "    param_dict = {'k': trial.suggest_int('k', 2, 30),\n",
    "                  'M': trial.suggest_int('M', 10, 5000),\n",
    "                  'probes': trial.suggest_int('probes', 1, 1000)\n",
    "                 }\n",
    "    \n",
    "    average_time, true_time, maf = hypercube_test(input_path, query_path, queries_num=10, **param_dict, N=1)\n",
    "\n",
    "    # penalize model if slower than brute force\n",
    "    if average_time.value > 0.01:\n",
    "        return 1000, 1000\n",
    "\n",
    "    return maf.value, average_time.value"
   ]
  },
  {
   "cell_type": "code",
   "execution_count": 6,
   "metadata": {},
   "outputs": [
    {
     "name": "stderr",
     "output_type": "stream",
     "text": [
      "[I 2023-11-24 20:25:42,322] A new study created in memory with name: hypercube\n"
     ]
    },
    {
     "name": "stdout",
     "output_type": "stream",
     "text": [
      "Read MNIST data\n",
      "Preprocessing...\n",
      "Preprocessing time: 2.91206\n",
      "Done\n",
      "Algorithm: Cube\n",
      "Query: 0\n",
      "Query: 1\n",
      "Query: 2\n",
      "Query: 3\n",
      "Query: 4\n",
      "Query: 5\n",
      "Query: 6\n",
      "Query: 7\n",
      "Query: 8\n",
      "Query: 9\n"
     ]
    },
    {
     "name": "stderr",
     "output_type": "stream",
     "text": [
      "[I 2023-11-24 20:25:48,062] Trial 0 finished with values: [1.9820858777568677, 0.0054666] and parameters: {'k': 15, 'M': 3181, 'probes': 31}. \n"
     ]
    },
    {
     "name": "stdout",
     "output_type": "stream",
     "text": [
      "Read MNIST data\n",
      "Preprocessing...\n",
      "Preprocessing time: 5.40988\n",
      "Done\n",
      "Algorithm: Cube\n",
      "Query: 0\n",
      "Query: 1\n",
      "Query: 2\n",
      "Query: 3\n",
      "Query: 4\n",
      "Query: 5\n",
      "Query: 6\n",
      "Query: 7\n",
      "Query: 8\n",
      "Query: 9\n"
     ]
    },
    {
     "name": "stderr",
     "output_type": "stream",
     "text": [
      "[I 2023-11-24 20:25:57,011] Trial 1 finished with values: [1.7737250814991719, 0.0702306] and parameters: {'k': 28, 'M': 1684, 'probes': 200}. \n"
     ]
    },
    {
     "name": "stdout",
     "output_type": "stream",
     "text": [
      "Read MNIST data\n",
      "Preprocessing...\n",
      "Preprocessing time: 0.583786\n",
      "Done\n",
      "Algorithm: Cube\n",
      "Query: 0\n",
      "Query: 1\n",
      "Query: 2\n",
      "Query: 3\n",
      "Query: 4\n",
      "Query: 5\n",
      "Query: 6\n",
      "Query: 7\n",
      "Query: 8\n"
     ]
    },
    {
     "name": "stderr",
     "output_type": "stream",
     "text": [
      "[I 2023-11-24 20:26:00,322] Trial 2 finished with values: [2.5395984074472704, 0.0011132000000000002] and parameters: {'k': 3, 'M': 4056, 'probes': 665}. \n"
     ]
    },
    {
     "name": "stdout",
     "output_type": "stream",
     "text": [
      "Query: 9\n",
      "Read MNIST data\n",
      "Preprocessing...\n",
      "Preprocessing time: 0.777138\n",
      "Done\n",
      "Algorithm: Cube\n",
      "Query: 0\n",
      "Query: 1\n",
      "Query: 2\n",
      "Query: 3\n",
      "Query: 4\n",
      "Query: 5\n",
      "Query: 6\n",
      "Query: 7\n",
      "Query: 8\n",
      "Query: 9\n"
     ]
    },
    {
     "name": "stderr",
     "output_type": "stream",
     "text": [
      "[I 2023-11-24 20:26:03,810] Trial 3 finished with values: [1.8083326113265408, 0.0014605999999999998] and parameters: {'k': 4, 'M': 3130, 'probes': 921}. \n"
     ]
    },
    {
     "name": "stdout",
     "output_type": "stream",
     "text": [
      "Read MNIST data\n",
      "Preprocessing...\n",
      "Preprocessing time: 3.07365\n",
      "Done\n",
      "Algorithm: Cube\n",
      "Query: 0\n",
      "Query: 1\n",
      "Query: 2\n",
      "Query: 3\n",
      "Query: 4\n",
      "Query: 5\n",
      "Query: 6\n",
      "Query: 7\n",
      "Query: 8\n",
      "Query: 9\n"
     ]
    },
    {
     "name": "stderr",
     "output_type": "stream",
     "text": [
      "[I 2023-11-24 20:26:09,658] Trial 4 finished with values: [1.752688660258667, 0.0072838] and parameters: {'k': 16, 'M': 25, 'probes': 750}. \n"
     ]
    },
    {
     "name": "stdout",
     "output_type": "stream",
     "text": [
      "Read MNIST data\n",
      "Preprocessing...\n",
      "Preprocessing time: 2.89404\n",
      "Done\n",
      "Algorithm: Cube\n",
      "Query: 0\n",
      "Query: 1\n",
      "Query: 2\n",
      "Query: 3\n",
      "Query: 4\n",
      "Query: 5\n",
      "Query: 6\n",
      "Query: 7\n",
      "Query: 8\n",
      "Query: 9\n"
     ]
    },
    {
     "name": "stderr",
     "output_type": "stream",
     "text": [
      "[I 2023-11-24 20:26:15,374] Trial 5 finished with values: [1.7985897656818197, 0.008184499999999999] and parameters: {'k': 15, 'M': 852, 'probes': 802}. \n"
     ]
    },
    {
     "name": "stdout",
     "output_type": "stream",
     "text": [
      "Read MNIST data\n",
      "Preprocessing...\n",
      "Preprocessing time: 3.48759\n",
      "Done\n",
      "Algorithm: Cube\n",
      "Query: 0\n",
      "Query: 1\n",
      "Query: 2\n",
      "Query: 3\n",
      "Query: 4\n",
      "Query: 5\n",
      "Query: 6\n",
      "Query: 7\n",
      "Query: 8\n",
      "Query: 9\n"
     ]
    },
    {
     "name": "stderr",
     "output_type": "stream",
     "text": [
      "[I 2023-11-24 20:26:21,881] Trial 6 finished with values: [1.4322010253695117, 0.0210656] and parameters: {'k': 18, 'M': 1551, 'probes': 836}. \n"
     ]
    },
    {
     "name": "stdout",
     "output_type": "stream",
     "text": [
      "Read MNIST data\n",
      "Preprocessing...\n",
      "Preprocessing time: 0.969531\n",
      "Done\n",
      "Algorithm: Cube\n",
      "Query: 0\n",
      "Query: 1\n",
      "Query: 2\n",
      "Query: 3\n",
      "Query: 4\n",
      "Query: 5\n",
      "Query: 6\n",
      "Query: 7\n",
      "Query: 8\n",
      "Query: 9\n"
     ]
    },
    {
     "name": "stderr",
     "output_type": "stream",
     "text": [
      "[I 2023-11-24 20:26:25,576] Trial 7 finished with values: [1.7916286942867166, 0.0013756] and parameters: {'k': 5, 'M': 264, 'probes': 853}. \n"
     ]
    },
    {
     "name": "stdout",
     "output_type": "stream",
     "text": [
      "Read MNIST data\n",
      "Preprocessing...\n",
      "Preprocessing time: 1.53618\n",
      "Done\n",
      "Algorithm: Cube\n",
      "Query: 0\n",
      "Query: 1\n",
      "Query: 2\n",
      "Query: 3\n",
      "Query: 4\n",
      "Query: 5\n",
      "Query: 6\n",
      "Query: 7\n",
      "Query: 8\n",
      "Query: 9\n"
     ]
    },
    {
     "name": "stderr",
     "output_type": "stream",
     "text": [
      "[I 2023-11-24 20:26:29,814] Trial 8 finished with values: [1.8403353729480714, 0.0007258000000000001] and parameters: {'k': 8, 'M': 636, 'probes': 307}. \n"
     ]
    },
    {
     "name": "stdout",
     "output_type": "stream",
     "text": [
      "Read MNIST data\n",
      "Preprocessing...\n",
      "Preprocessing time: 0.770586\n",
      "Done\n",
      "Algorithm: Cube\n",
      "Query: 0\n",
      "Query: 1\n",
      "Query: 2\n",
      "Query: 3\n",
      "Query: 4\n",
      "Query: 5\n",
      "Query: 6\n",
      "Query: 7\n",
      "Query: 8\n",
      "Query: 9\n"
     ]
    },
    {
     "name": "stderr",
     "output_type": "stream",
     "text": [
      "[I 2023-11-24 20:26:33,254] Trial 9 finished with values: [1.9332440185941568, 0.0005749] and parameters: {'k': 4, 'M': 66, 'probes': 305}. \n"
     ]
    },
    {
     "name": "stdout",
     "output_type": "stream",
     "text": [
      "Read MNIST data\n",
      "Preprocessing...\n",
      "Preprocessing time: 1.52961\n",
      "Done\n",
      "Algorithm: Cube\n",
      "Query: 0\n",
      "Query: 1\n",
      "Query: 2\n",
      "Query: 3\n",
      "Query: 4\n",
      "Query: 5\n",
      "Query: 6\n",
      "Query: 7\n",
      "Query: 8\n",
      "Query: 9\n"
     ]
    },
    {
     "name": "stderr",
     "output_type": "stream",
     "text": [
      "[I 2023-11-24 20:26:37,458] Trial 10 finished with values: [2.381787456413473, 0.00044039999999999997] and parameters: {'k': 8, 'M': 2748, 'probes': 124}. \n"
     ]
    },
    {
     "name": "stdout",
     "output_type": "stream",
     "text": [
      "Read MNIST data\n",
      "Preprocessing...\n",
      "Preprocessing time: 5.40586\n",
      "Done\n",
      "Algorithm: Cube\n",
      "Query: 0\n",
      "Query: 1\n",
      "Query: 2\n",
      "Query: 3\n",
      "Query: 4\n",
      "Query: 5\n",
      "Query: 6\n",
      "Query: 7\n",
      "Query: 8\n",
      "Query: 9\n"
     ]
    },
    {
     "name": "stderr",
     "output_type": "stream",
     "text": [
      "[I 2023-11-24 20:26:46,561] Trial 11 finished with values: [1.4931837310582181, 0.08372530000000002] and parameters: {'k': 28, 'M': 2772, 'probes': 533}. \n"
     ]
    },
    {
     "name": "stdout",
     "output_type": "stream",
     "text": [
      "Read MNIST data\n",
      "Preprocessing...\n",
      "Preprocessing time: 4.63345\n",
      "Done\n",
      "Algorithm: Cube\n",
      "Query: 0\n",
      "Query: 1\n",
      "Query: 2\n",
      "Query: 3\n",
      "Query: 4\n",
      "Query: 5\n",
      "Query: 6\n",
      "Query: 7\n",
      "Query: 8\n",
      "Query: 9\n"
     ]
    },
    {
     "name": "stderr",
     "output_type": "stream",
     "text": [
      "[I 2023-11-24 20:26:54,647] Trial 12 finished with values: [1.7515089323386144, 0.06502309999999999] and parameters: {'k': 24, 'M': 4983, 'probes': 362}. \n"
     ]
    },
    {
     "name": "stdout",
     "output_type": "stream",
     "text": [
      "Read MNIST data\n",
      "Preprocessing...\n",
      "Preprocessing time: 2.11402\n",
      "Done\n",
      "Algorithm: Cube\n",
      "Query: 0\n",
      "Query: 1\n",
      "Query: 2\n",
      "Query: 3\n",
      "Query: 4\n",
      "Query: 5\n",
      "Query: 6\n",
      "Query: 7\n",
      "Query: 8\n",
      "Query: 9\n"
     ]
    },
    {
     "name": "stderr",
     "output_type": "stream",
     "text": [
      "[I 2023-11-24 20:26:59,495] Trial 13 finished with values: [1.8480215745938111, 0.0007619] and parameters: {'k': 11, 'M': 3458, 'probes': 80}. \n"
     ]
    },
    {
     "name": "stdout",
     "output_type": "stream",
     "text": [
      "Read MNIST data\n",
      "Preprocessing...\n",
      "Preprocessing time: 0.769737\n",
      "Done\n",
      "Algorithm: Cube\n",
      "Query: 0\n",
      "Query: 1\n",
      "Query: 2\n",
      "Query: 3\n",
      "Query: 4\n",
      "Query: 5\n",
      "Query: 6\n",
      "Query: 7\n",
      "Query: 8\n",
      "Query: 9\n"
     ]
    },
    {
     "name": "stderr",
     "output_type": "stream",
     "text": [
      "[I 2023-11-24 20:27:02,958] Trial 14 finished with values: [1.780159117933763, 0.0009214] and parameters: {'k': 4, 'M': 1966, 'probes': 570}. \n"
     ]
    },
    {
     "name": "stdout",
     "output_type": "stream",
     "text": [
      "Read MNIST data\n",
      "Preprocessing...\n",
      "Preprocessing time: 0.770275\n",
      "Done\n",
      "Algorithm: Cube\n",
      "Query: 0\n",
      "Query: 1\n",
      "Query: 2\n",
      "Query: 3\n",
      "Query: 4\n",
      "Query: 5\n",
      "Query: 6\n",
      "Query: 7\n",
      "Query: 8\n",
      "Query: 9\n"
     ]
    },
    {
     "name": "stderr",
     "output_type": "stream",
     "text": [
      "[I 2023-11-24 20:27:06,409] Trial 15 finished with values: [1.9185473220696934, 0.0010255000000000002] and parameters: {'k': 4, 'M': 460, 'probes': 683}. \n"
     ]
    },
    {
     "name": "stdout",
     "output_type": "stream",
     "text": [
      "Read MNIST data\n",
      "Preprocessing...\n",
      "Preprocessing time: 4.42126\n",
      "Done\n",
      "Algorithm: Cube\n",
      "Query: 0\n",
      "Query: 1\n",
      "Query: 2\n",
      "Query: 3\n",
      "Query: 4\n",
      "Query: 5\n",
      "Query: 6\n",
      "Query: 7\n",
      "Query: 8\n",
      "Query: 9\n"
     ]
    },
    {
     "name": "stderr",
     "output_type": "stream",
     "text": [
      "[I 2023-11-24 20:27:13,827] Trial 16 finished with values: [1.8983355548347576, 0.0248911] and parameters: {'k': 23, 'M': 1407, 'probes': 103}. \n"
     ]
    },
    {
     "name": "stdout",
     "output_type": "stream",
     "text": [
      "Read MNIST data\n",
      "Preprocessing...\n",
      "Preprocessing time: 5.00878\n",
      "Done\n",
      "Algorithm: Cube\n",
      "Query: 0\n",
      "Query: 1\n",
      "Query: 2\n",
      "Query: 3\n",
      "Query: 4\n",
      "Query: 5\n",
      "Query: 6\n",
      "Query: 7\n",
      "Query: 8\n",
      "Query: 9\n"
     ]
    },
    {
     "name": "stderr",
     "output_type": "stream",
     "text": [
      "[I 2023-11-24 20:27:22,561] Trial 17 finished with values: [1.2138728669424221, 0.09235270000000001] and parameters: {'k': 26, 'M': 4453, 'probes': 980}. \n"
     ]
    },
    {
     "name": "stdout",
     "output_type": "stream",
     "text": [
      "Read MNIST data\n",
      "Preprocessing...\n",
      "Preprocessing time: 5.59104\n",
      "Done\n",
      "Algorithm: Cube\n",
      "Query: 0\n",
      "Query: 1\n",
      "Query: 2\n",
      "Query: 3\n",
      "Query: 4\n",
      "Query: 5\n",
      "Query: 6\n",
      "Query: 7\n",
      "Query: 8\n",
      "Query: 9\n"
     ]
    },
    {
     "name": "stderr",
     "output_type": "stream",
     "text": [
      "[I 2023-11-24 20:27:31,771] Trial 18 finished with values: [1.432066949046283, 0.08266860000000001] and parameters: {'k': 29, 'M': 3073, 'probes': 598}. \n"
     ]
    },
    {
     "name": "stdout",
     "output_type": "stream",
     "text": [
      "Read MNIST data\n",
      "Preprocessing...\n",
      "Preprocessing time: 0.388757\n",
      "Done\n",
      "Algorithm: Cube\n",
      "Query: 0\n",
      "Query: 1\n",
      "Query: 2\n",
      "Query: 3\n",
      "Query: 4\n",
      "Query: 5\n",
      "Query: 6\n",
      "Query: 7\n",
      "Query: 8\n",
      "Query: 9\n"
     ]
    },
    {
     "name": "stderr",
     "output_type": "stream",
     "text": [
      "[I 2023-11-24 20:27:34,817] Trial 19 finished with values: [1.7008422594541597, 0.0011613] and parameters: {'k': 2, 'M': 24, 'probes': 804}. \n"
     ]
    },
    {
     "name": "stdout",
     "output_type": "stream",
     "text": [
      "Read MNIST data\n",
      "Preprocessing...\n",
      "Preprocessing time: 4.23222\n",
      "Done\n",
      "Algorithm: Cube\n",
      "Query: 0\n",
      "Query: 1\n",
      "Query: 2\n",
      "Query: 3\n",
      "Query: 4\n",
      "Query: 5\n",
      "Query: 6\n",
      "Query: 7\n",
      "Query: 8\n",
      "Query: 9\n"
     ]
    },
    {
     "name": "stderr",
     "output_type": "stream",
     "text": [
      "[I 2023-11-24 20:27:42,026] Trial 20 finished with values: [1.433949666368659, 0.0256446] and parameters: {'k': 22, 'M': 1540, 'probes': 678}. \n"
     ]
    },
    {
     "name": "stdout",
     "output_type": "stream",
     "text": [
      "Read MNIST data\n",
      "Preprocessing...\n",
      "Preprocessing time: 2.30328\n",
      "Done\n",
      "Algorithm: Cube\n",
      "Query: 0\n",
      "Query: 1\n",
      "Query: 2\n",
      "Query: 3\n",
      "Query: 4\n",
      "Query: 5\n",
      "Query: 6\n",
      "Query: 7\n",
      "Query: 8\n",
      "Query: 9\n"
     ]
    },
    {
     "name": "stderr",
     "output_type": "stream",
     "text": [
      "[I 2023-11-24 20:27:47,097] Trial 21 finished with values: [1.7479305902294213, 0.0018781] and parameters: {'k': 12, 'M': 3947, 'probes': 203}. \n"
     ]
    },
    {
     "name": "stdout",
     "output_type": "stream",
     "text": [
      "Read MNIST data\n",
      "Preprocessing...\n",
      "Preprocessing time: 0.772561\n",
      "Done\n",
      "Algorithm: Cube\n",
      "Query: 0\n",
      "Query: 1\n",
      "Query: 2\n",
      "Query: 3\n",
      "Query: 4\n",
      "Query: 5\n",
      "Query: 6\n",
      "Query: 7\n",
      "Query: 8\n",
      "Query: 9\n"
     ]
    },
    {
     "name": "stderr",
     "output_type": "stream",
     "text": [
      "[I 2023-11-24 20:27:50,602] Trial 22 finished with values: [1.8083326113265408, 0.0006953] and parameters: {'k': 4, 'M': 3099, 'probes': 359}. \n"
     ]
    },
    {
     "name": "stdout",
     "output_type": "stream",
     "text": [
      "Read MNIST data\n",
      "Preprocessing...\n",
      "Preprocessing time: 2.3022\n",
      "Done\n",
      "Algorithm: Cube\n",
      "Query: 0\n",
      "Query: 1\n",
      "Query: 2\n",
      "Query: 3\n",
      "Query: 4\n",
      "Query: 5\n",
      "Query: 6\n",
      "Query: 7\n",
      "Query: 8\n",
      "Query: 9\n"
     ]
    },
    {
     "name": "stderr",
     "output_type": "stream",
     "text": [
      "[I 2023-11-24 20:27:55,651] Trial 23 finished with values: [1.65249975838885, 0.0017244000000000003] and parameters: {'k': 12, 'M': 1414, 'probes': 509}. \n"
     ]
    },
    {
     "name": "stdout",
     "output_type": "stream",
     "text": [
      "Read MNIST data\n",
      "Preprocessing...\n",
      "Preprocessing time: 1.72393\n",
      "Done\n",
      "Algorithm: Cube\n",
      "Query: 0\n",
      "Query: 1\n",
      "Query: 2\n",
      "Query: 3\n",
      "Query: 4\n",
      "Query: 5\n",
      "Query: 6\n",
      "Query: 7\n",
      "Query: 8\n",
      "Query: 9\n"
     ]
    },
    {
     "name": "stderr",
     "output_type": "stream",
     "text": [
      "[I 2023-11-24 20:28:00,140] Trial 24 finished with values: [1.3877293557617412, 0.001493] and parameters: {'k': 9, 'M': 2943, 'probes': 740}. \n"
     ]
    },
    {
     "name": "stdout",
     "output_type": "stream",
     "text": [
      "Read MNIST data\n",
      "Preprocessing...\n",
      "Preprocessing time: 0.389401\n",
      "Done\n",
      "Algorithm: Cube\n",
      "Query: 0\n",
      "Query: 1\n",
      "Query: 2\n",
      "Query: 3\n",
      "Query: 4\n",
      "Query: 5\n",
      "Query: 6\n",
      "Query: 7\n",
      "Query: 8\n",
      "Query: 9\n"
     ]
    },
    {
     "name": "stderr",
     "output_type": "stream",
     "text": [
      "[I 2023-11-24 20:28:03,290] Trial 25 finished with values: [2.5395984074472704, 0.0009441] and parameters: {'k': 2, 'M': 127, 'probes': 560}. \n"
     ]
    },
    {
     "name": "stdout",
     "output_type": "stream",
     "text": [
      "Read MNIST data\n",
      "Preprocessing...\n",
      "Preprocessing time: 3.64506\n",
      "Done\n",
      "Algorithm: Cube\n",
      "Query: 0\n",
      "Query: 1\n",
      "Query: 2\n",
      "Query: 3\n",
      "Query: 4\n",
      "Query: 5\n",
      "Query: 6\n",
      "Query: 7\n",
      "Query: 8\n",
      "Query: 9\n"
     ]
    },
    {
     "name": "stderr",
     "output_type": "stream",
     "text": [
      "[I 2023-11-24 20:28:09,753] Trial 26 finished with values: [1.5324523419170595, 0.009423999999999998] and parameters: {'k': 19, 'M': 2362, 'probes': 424}. \n"
     ]
    },
    {
     "name": "stdout",
     "output_type": "stream",
     "text": [
      "Read MNIST data\n",
      "Preprocessing...\n",
      "Preprocessing time: 1.14948\n",
      "Done\n",
      "Algorithm: Cube\n",
      "Query: 0\n",
      "Query: 1\n",
      "Query: 2\n",
      "Query: 3\n",
      "Query: 4\n",
      "Query: 5\n",
      "Query: 6\n",
      "Query: 7\n",
      "Query: 8\n",
      "Query: 9\n"
     ]
    },
    {
     "name": "stderr",
     "output_type": "stream",
     "text": [
      "[I 2023-11-24 20:28:13,660] Trial 27 finished with values: [2.6798375748725642, 0.0012371] and parameters: {'k': 6, 'M': 4412, 'probes': 750}. \n"
     ]
    },
    {
     "name": "stdout",
     "output_type": "stream",
     "text": [
      "Read MNIST data\n",
      "Preprocessing...\n",
      "Preprocessing time: 1.53001\n",
      "Done\n",
      "Algorithm: Cube\n",
      "Query: 0\n",
      "Query: 1\n",
      "Query: 2\n",
      "Query: 3\n",
      "Query: 4\n",
      "Query: 5\n",
      "Query: 6\n",
      "Query: 7\n",
      "Query: 8\n",
      "Query: 9\n"
     ]
    },
    {
     "name": "stderr",
     "output_type": "stream",
     "text": [
      "[I 2023-11-24 20:28:17,937] Trial 28 finished with values: [1.6600460654074185, 0.0017255] and parameters: {'k': 8, 'M': 942, 'probes': 954}. \n"
     ]
    },
    {
     "name": "stdout",
     "output_type": "stream",
     "text": [
      "Read MNIST data\n",
      "Preprocessing...\n",
      "Preprocessing time: 5.77742\n",
      "Done\n",
      "Algorithm: Cube\n",
      "Query: 0\n",
      "Query: 1\n",
      "Query: 2\n",
      "Query: 3\n",
      "Query: 4\n",
      "Query: 5\n",
      "Query: 6\n",
      "Query: 7\n",
      "Query: 8\n",
      "Query: 9\n"
     ]
    },
    {
     "name": "stderr",
     "output_type": "stream",
     "text": [
      "[I 2023-11-24 20:28:27,349] Trial 29 finished with values: [1.5784707563781106, 0.08478260000000001] and parameters: {'k': 30, 'M': 733, 'probes': 305}. \n"
     ]
    },
    {
     "name": "stdout",
     "output_type": "stream",
     "text": [
      "Read MNIST data\n",
      "Preprocessing...\n",
      "Preprocessing time: 2.30344\n",
      "Done\n",
      "Algorithm: Cube\n",
      "Query: 0\n",
      "Query: 1\n",
      "Query: 2\n",
      "Query: 3\n",
      "Query: 4\n",
      "Query: 5\n",
      "Query: 6\n",
      "Query: 7\n",
      "Query: 8\n",
      "Query: 9\n"
     ]
    },
    {
     "name": "stderr",
     "output_type": "stream",
     "text": [
      "[I 2023-11-24 20:28:32,376] Trial 30 finished with values: [1.815838589777603, 0.0010017000000000001] and parameters: {'k': 12, 'M': 3132, 'probes': 223}. \n"
     ]
    },
    {
     "name": "stdout",
     "output_type": "stream",
     "text": [
      "Read MNIST data\n",
      "Preprocessing...\n",
      "Preprocessing time: 4.43659\n",
      "Done\n",
      "Algorithm: Cube\n",
      "Query: 0\n",
      "Query: 1\n",
      "Query: 2\n",
      "Query: 3\n",
      "Query: 4\n",
      "Query: 5\n",
      "Query: 6\n",
      "Query: 7\n",
      "Query: 8\n",
      "Query: 9\n"
     ]
    },
    {
     "name": "stderr",
     "output_type": "stream",
     "text": [
      "[I 2023-11-24 20:28:40,299] Trial 31 finished with values: [1.4037587023157931, 0.0709628] and parameters: {'k': 23, 'M': 3958, 'probes': 464}. \n"
     ]
    },
    {
     "name": "stdout",
     "output_type": "stream",
     "text": [
      "Read MNIST data\n",
      "Preprocessing...\n",
      "Preprocessing time: 3.27208\n",
      "Done\n",
      "Algorithm: Cube\n",
      "Query: 0\n",
      "Query: 1\n",
      "Query: 2\n",
      "Query: 3\n",
      "Query: 4\n",
      "Query: 5\n",
      "Query: 6\n",
      "Query: 7\n",
      "Query: 8\n",
      "Query: 9\n"
     ]
    },
    {
     "name": "stderr",
     "output_type": "stream",
     "text": [
      "[I 2023-11-24 20:28:46,350] Trial 32 finished with values: [1.6430260793612481, 0.007685900000000001] and parameters: {'k': 17, 'M': 1672, 'probes': 307}. \n"
     ]
    },
    {
     "name": "stdout",
     "output_type": "stream",
     "text": [
      "Read MNIST data\n",
      "Preprocessing...\n",
      "Preprocessing time: 3.26968\n",
      "Done\n",
      "Algorithm: Cube\n",
      "Query: 0\n",
      "Query: 1\n",
      "Query: 2\n",
      "Query: 3\n",
      "Query: 4\n",
      "Query: 5\n",
      "Query: 6\n",
      "Query: 7\n",
      "Query: 8\n",
      "Query: 9\n"
     ]
    },
    {
     "name": "stderr",
     "output_type": "stream",
     "text": [
      "[I 2023-11-24 20:28:52,365] Trial 33 finished with values: [1.8829153239193481, 0.006983100000000001] and parameters: {'k': 17, 'M': 4968, 'probes': 156}. \n"
     ]
    },
    {
     "name": "stdout",
     "output_type": "stream",
     "text": [
      "Read MNIST data\n",
      "Preprocessing...\n",
      "Preprocessing time: 3.46469\n",
      "Done\n",
      "Algorithm: Cube\n",
      "Query: 0\n",
      "Query: 1\n",
      "Query: 2\n",
      "Query: 3\n",
      "Query: 4\n",
      "Query: 5\n",
      "Query: 6\n",
      "Query: 7\n",
      "Query: 8\n",
      "Query: 9\n"
     ]
    },
    {
     "name": "stderr",
     "output_type": "stream",
     "text": [
      "[I 2023-11-24 20:28:58,765] Trial 34 finished with values: [1.712759557150828, 0.0207769] and parameters: {'k': 18, 'M': 4624, 'probes': 366}. \n"
     ]
    },
    {
     "name": "stdout",
     "output_type": "stream",
     "text": [
      "Read MNIST data\n",
      "Preprocessing...\n",
      "Preprocessing time: 2.69906\n",
      "Done\n",
      "Algorithm: Cube\n",
      "Query: 0\n",
      "Query: 1\n",
      "Query: 2\n",
      "Query: 3\n",
      "Query: 4\n",
      "Query: 5\n",
      "Query: 6\n",
      "Query: 7\n",
      "Query: 8\n",
      "Query: 9\n"
     ]
    },
    {
     "name": "stderr",
     "output_type": "stream",
     "text": [
      "[I 2023-11-24 20:29:04,209] Trial 35 finished with values: [1.482006611552869, 0.0030407000000000003] and parameters: {'k': 14, 'M': 2216, 'probes': 196}. \n"
     ]
    },
    {
     "name": "stdout",
     "output_type": "stream",
     "text": [
      "Read MNIST data\n",
      "Preprocessing...\n",
      "Preprocessing time: 2.11399\n",
      "Done\n",
      "Algorithm: Cube\n",
      "Query: 0\n",
      "Query: 1\n",
      "Query: 2\n",
      "Query: 3\n",
      "Query: 4\n",
      "Query: 5\n",
      "Query: 6\n",
      "Query: 7\n",
      "Query: 8\n",
      "Query: 9\n"
     ]
    },
    {
     "name": "stderr",
     "output_type": "stream",
     "text": [
      "[I 2023-11-24 20:29:09,074] Trial 36 finished with values: [1.5056455023888717, 0.002436] and parameters: {'k': 11, 'M': 2095, 'probes': 840}. \n"
     ]
    },
    {
     "name": "stdout",
     "output_type": "stream",
     "text": [
      "Read MNIST data\n",
      "Preprocessing...\n",
      "Preprocessing time: 4.02341\n",
      "Done\n",
      "Algorithm: Cube\n",
      "Query: 0\n",
      "Query: 1\n",
      "Query: 2\n",
      "Query: 3\n",
      "Query: 4\n",
      "Query: 5\n",
      "Query: 6\n",
      "Query: 7\n",
      "Query: 8\n",
      "Query: 9\n"
     ]
    },
    {
     "name": "stderr",
     "output_type": "stream",
     "text": [
      "[I 2023-11-24 20:29:15,995] Trial 37 finished with values: [1.7980922283138767, 0.0160522] and parameters: {'k': 21, 'M': 1689, 'probes': 191}. \n"
     ]
    },
    {
     "name": "stdout",
     "output_type": "stream",
     "text": [
      "Read MNIST data\n",
      "Preprocessing...\n",
      "Preprocessing time: 5.3785\n",
      "Done\n",
      "Algorithm: Cube\n",
      "Query: 0\n",
      "Query: 1\n",
      "Query: 2\n",
      "Query: 3\n",
      "Query: 4\n",
      "Query: 5\n",
      "Query: 6\n",
      "Query: 7\n",
      "Query: 8\n",
      "Query: 9\n"
     ]
    },
    {
     "name": "stderr",
     "output_type": "stream",
     "text": [
      "[I 2023-11-24 20:29:25,215] Trial 38 finished with values: [1.4938208735559628, 0.1031069] and parameters: {'k': 28, 'M': 4500, 'probes': 758}. \n"
     ]
    },
    {
     "name": "stdout",
     "output_type": "stream",
     "text": [
      "Read MNIST data\n",
      "Preprocessing...\n",
      "Preprocessing time: 2.86948\n",
      "Done\n",
      "Algorithm: Cube\n",
      "Query: 0\n",
      "Query: 1\n",
      "Query: 2\n",
      "Query: 3\n",
      "Query: 4\n",
      "Query: 5\n",
      "Query: 6\n",
      "Query: 7\n",
      "Query: 8\n",
      "Query: 9\n"
     ]
    },
    {
     "name": "stderr",
     "output_type": "stream",
     "text": [
      "[I 2023-11-24 20:29:30,811] Trial 39 finished with values: [1.411292625588669, 0.0038618] and parameters: {'k': 15, 'M': 2924, 'probes': 653}. \n"
     ]
    },
    {
     "name": "stdout",
     "output_type": "stream",
     "text": [
      "Read MNIST data\n",
      "Preprocessing...\n",
      "Preprocessing time: 0.390158\n",
      "Done\n",
      "Algorithm: Cube\n",
      "Query: 0\n",
      "Query: 1\n",
      "Query: 2\n",
      "Query: 3\n",
      "Query: 4\n",
      "Query: 5\n",
      "Query: 6\n",
      "Query: 7\n",
      "Query: 8\n",
      "Query: 9\n"
     ]
    },
    {
     "name": "stderr",
     "output_type": "stream",
     "text": [
      "[I 2023-11-24 20:29:33,977] Trial 40 finished with values: [2.6813315150306347, 0.0004785000000000001] and parameters: {'k': 2, 'M': 2575, 'probes': 200}. \n"
     ]
    },
    {
     "name": "stdout",
     "output_type": "stream",
     "text": [
      "Read MNIST data\n",
      "Preprocessing...\n",
      "Preprocessing time: 0.769845\n",
      "Done\n",
      "Algorithm: Cube\n",
      "Query: 0\n",
      "Query: 1\n",
      "Query: 2\n",
      "Query: 3\n",
      "Query: 4\n",
      "Query: 5\n",
      "Query: 6\n",
      "Query: 7\n",
      "Query: 8\n",
      "Query: 9\n"
     ]
    },
    {
     "name": "stderr",
     "output_type": "stream",
     "text": [
      "[I 2023-11-24 20:29:37,528] Trial 41 finished with values: [2.402988384368219, 0.0009278] and parameters: {'k': 4, 'M': 24, 'probes': 519}. \n"
     ]
    },
    {
     "name": "stdout",
     "output_type": "stream",
     "text": [
      "Read MNIST data\n",
      "Preprocessing...\n",
      "Preprocessing time: 0.959886\n",
      "Done\n",
      "Algorithm: Cube\n",
      "Query: 0\n",
      "Query: 1\n",
      "Query: 2\n",
      "Query: 3\n",
      "Query: 4\n",
      "Query: 5\n",
      "Query: 6\n",
      "Query: 7\n",
      "Query: 8\n",
      "Query: 9\n"
     ]
    },
    {
     "name": "stderr",
     "output_type": "stream",
     "text": [
      "[I 2023-11-24 20:29:41,278] Trial 42 finished with values: [2.633067072700275, 0.0004029] and parameters: {'k': 5, 'M': 4957, 'probes': 140}. \n"
     ]
    },
    {
     "name": "stdout",
     "output_type": "stream",
     "text": [
      "Read MNIST data\n",
      "Preprocessing...\n",
      "Preprocessing time: 4.43228\n",
      "Done\n",
      "Algorithm: Cube\n",
      "Query: 0\n",
      "Query: 1\n",
      "Query: 2\n",
      "Query: 3\n",
      "Query: 4\n",
      "Query: 5\n",
      "Query: 6\n",
      "Query: 7\n",
      "Query: 8\n",
      "Query: 9\n"
     ]
    },
    {
     "name": "stderr",
     "output_type": "stream",
     "text": [
      "[I 2023-11-24 20:29:49,002] Trial 43 finished with values: [1.4815507560538244, 0.04768289999999999] and parameters: {'k': 23, 'M': 732, 'probes': 947}. \n"
     ]
    },
    {
     "name": "stdout",
     "output_type": "stream",
     "text": [
      "Read MNIST data\n",
      "Preprocessing...\n",
      "Preprocessing time: 1.52656\n",
      "Done\n",
      "Algorithm: Cube\n",
      "Query: 0\n",
      "Query: 1\n",
      "Query: 2\n",
      "Query: 3\n",
      "Query: 4\n",
      "Query: 5\n",
      "Query: 6\n",
      "Query: 7\n",
      "Query: 8\n",
      "Query: 9\n"
     ]
    },
    {
     "name": "stderr",
     "output_type": "stream",
     "text": [
      "[I 2023-11-24 20:29:53,219] Trial 44 finished with values: [1.621818005658229, 0.0011896] and parameters: {'k': 8, 'M': 4351, 'probes': 679}. \n"
     ]
    },
    {
     "name": "stdout",
     "output_type": "stream",
     "text": [
      "Read MNIST data\n",
      "Preprocessing...\n",
      "Preprocessing time: 5.59106\n",
      "Done\n",
      "Algorithm: Cube\n",
      "Query: 0\n",
      "Query: 1\n",
      "Query: 2\n",
      "Query: 3\n",
      "Query: 4\n",
      "Query: 5\n",
      "Query: 6\n",
      "Query: 7\n",
      "Query: 8\n",
      "Query: 9\n"
     ]
    },
    {
     "name": "stderr",
     "output_type": "stream",
     "text": [
      "[I 2023-11-24 20:30:02,625] Trial 45 finished with values: [1.4259423703847074, 0.099945] and parameters: {'k': 29, 'M': 3494, 'probes': 682}. \n"
     ]
    },
    {
     "name": "stdout",
     "output_type": "stream",
     "text": [
      "Read MNIST data\n",
      "Preprocessing...\n",
      "Preprocessing time: 1.53155\n",
      "Done\n",
      "Algorithm: Cube\n",
      "Query: 0\n",
      "Query: 1\n",
      "Query: 2\n",
      "Query: 3\n",
      "Query: 4\n",
      "Query: 5\n",
      "Query: 6\n",
      "Query: 7\n",
      "Query: 8\n",
      "Query: 9\n"
     ]
    },
    {
     "name": "stderr",
     "output_type": "stream",
     "text": [
      "[I 2023-11-24 20:30:06,841] Trial 46 finished with values: [1.6878746444665818, 0.0014487000000000002] and parameters: {'k': 8, 'M': 1530, 'probes': 815}. \n"
     ]
    },
    {
     "name": "stdout",
     "output_type": "stream",
     "text": [
      "Read MNIST data\n",
      "Preprocessing...\n",
      "Preprocessing time: 2.29854\n",
      "Done\n",
      "Algorithm: Cube\n",
      "Query: 0\n",
      "Query: 1\n",
      "Query: 2\n",
      "Query: 3\n",
      "Query: 4\n",
      "Query: 5\n",
      "Query: 6\n",
      "Query: 7\n",
      "Query: 8\n",
      "Query: 9\n"
     ]
    },
    {
     "name": "stderr",
     "output_type": "stream",
     "text": [
      "[I 2023-11-24 20:30:11,849] Trial 47 finished with values: [1.6058316314503709, 0.0022613] and parameters: {'k': 12, 'M': 3260, 'probes': 914}. \n"
     ]
    },
    {
     "name": "stdout",
     "output_type": "stream",
     "text": [
      "Read MNIST data\n",
      "Preprocessing...\n",
      "Preprocessing time: 2.87867\n",
      "Done\n",
      "Algorithm: Cube\n",
      "Query: 0\n",
      "Query: 1\n",
      "Query: 2\n",
      "Query: 3\n",
      "Query: 4\n",
      "Query: 5\n",
      "Query: 6\n",
      "Query: 7\n",
      "Query: 8\n",
      "Query: 9\n"
     ]
    },
    {
     "name": "stderr",
     "output_type": "stream",
     "text": [
      "[I 2023-11-24 20:30:17,488] Trial 48 finished with values: [1.5266650041139054, 0.004064] and parameters: {'k': 15, 'M': 2756, 'probes': 230}. \n"
     ]
    },
    {
     "name": "stdout",
     "output_type": "stream",
     "text": [
      "Read MNIST data\n",
      "Preprocessing...\n",
      "Preprocessing time: 3.07504\n",
      "Done\n",
      "Algorithm: Cube\n",
      "Query: 0\n",
      "Query: 1\n",
      "Query: 2\n",
      "Query: 3\n",
      "Query: 4\n",
      "Query: 5\n",
      "Query: 6\n",
      "Query: 7\n",
      "Query: 8\n",
      "Query: 9\n"
     ]
    },
    {
     "name": "stderr",
     "output_type": "stream",
     "text": [
      "[I 2023-11-24 20:30:23,393] Trial 49 finished with values: [1.4115338545030527, 0.010862] and parameters: {'k': 16, 'M': 1699, 'probes': 847}. \n"
     ]
    },
    {
     "name": "stdout",
     "output_type": "stream",
     "text": [
      "-----------------------------------------------------\n",
      "Trial no. 17\n",
      " Values = [1.2138728669424221, 0.09235270000000001]\n",
      " Params = {'k': 26, 'M': 4453, 'probes': 980}\n",
      "Trial no. 24\n",
      " Values = [1.3877293557617412, 0.001493]\n",
      " Params = {'k': 9, 'M': 2943, 'probes': 740}\n",
      "Trial no. 44\n",
      " Values = [1.621818005658229, 0.0011896]\n",
      " Params = {'k': 8, 'M': 4351, 'probes': 679}\n",
      "Trial no. 19\n",
      " Values = [1.7008422594541597, 0.0011613]\n",
      " Params = {'k': 2, 'M': 24, 'probes': 804}\n",
      "Trial no. 14\n",
      " Values = [1.780159117933763, 0.0009214]\n",
      " Params = {'k': 4, 'M': 1966, 'probes': 570}\n",
      "Trial no. 22\n",
      " Values = [1.8083326113265408, 0.0006953]\n",
      " Params = {'k': 4, 'M': 3099, 'probes': 359}\n",
      "Trial no. 9\n",
      " Values = [1.9332440185941568, 0.0005749]\n",
      " Params = {'k': 4, 'M': 66, 'probes': 305}\n",
      "Trial no. 10\n",
      " Values = [2.381787456413473, 0.00044039999999999997]\n",
      " Params = {'k': 8, 'M': 2748, 'probes': 124}\n",
      "Trial no. 42\n",
      " Values = [2.633067072700275, 0.0004029]\n",
      " Params = {'k': 5, 'M': 4957, 'probes': 140}\n",
      "CPU times: user 3min 55s, sys: 45.9 s, total: 4min 41s\n",
      "Wall time: 4min 41s\n"
     ]
    }
   ],
   "source": [
    "%%time\n",
    "hypercube_study = optuna.create_study(study_name='hypercube', directions=['minimize', 'minimize'])\n",
    "hypercube_study.optimize(objective_hypercube, n_trials=50)\n",
    "print(\"-----------------------------------------------------\")\n",
    "\n",
    "trials = sorted(hypercube_study.best_trials, key=lambda x: x.values)\n",
    "for trial in trials:\n",
    "    print(\"Trial no. {}\".format(trial.number))\n",
    "    print(\" Values = {}\".format(trial.values))\n",
    "    print(\" Params = {}\".format(trial.params))"
   ]
  },
  {
   "attachments": {},
   "cell_type": "markdown",
   "metadata": {},
   "source": [
    "## Visualize Hypercube study results"
   ]
  },
  {
   "cell_type": "code",
   "execution_count": 7,
   "metadata": {},
   "outputs": [
    {
     "data": {
      "application/vnd.plotly.v1+json": {
       "config": {
        "plotlyServerURL": "https://plot.ly"
       },
       "data": [
        {
         "hovertemplate": "%{text}<extra>Trial</extra>",
         "marker": {
          "color": [
           0,
           1,
           2,
           3,
           4,
           5,
           6,
           7,
           8,
           11,
           12,
           13,
           15,
           16,
           18,
           20,
           21,
           23,
           25,
           26,
           27,
           28,
           29,
           30,
           31,
           32,
           33,
           34,
           35,
           36,
           37,
           38,
           39,
           40,
           41,
           43,
           45,
           46,
           47,
           48,
           49
          ],
          "colorbar": {
           "title": {
            "text": "Trial"
           }
          },
          "colorscale": [
           [
            0,
            "rgb(247,251,255)"
           ],
           [
            0.125,
            "rgb(222,235,247)"
           ],
           [
            0.25,
            "rgb(198,219,239)"
           ],
           [
            0.375,
            "rgb(158,202,225)"
           ],
           [
            0.5,
            "rgb(107,174,214)"
           ],
           [
            0.625,
            "rgb(66,146,198)"
           ],
           [
            0.75,
            "rgb(33,113,181)"
           ],
           [
            0.875,
            "rgb(8,81,156)"
           ],
           [
            1,
            "rgb(8,48,107)"
           ]
          ],
          "line": {
           "color": "Grey",
           "width": 0.5
          }
         },
         "mode": "markers",
         "showlegend": false,
         "text": [
          "{<br>  \"number\": 0,<br>  \"values\": [<br>    1.9820858777568677,<br>    0.0054666<br>  ],<br>  \"params\": {<br>    \"k\": 15,<br>    \"M\": 3181,<br>    \"probes\": 31<br>  }<br>}",
          "{<br>  \"number\": 1,<br>  \"values\": [<br>    1.7737250814991719,<br>    0.0702306<br>  ],<br>  \"params\": {<br>    \"k\": 28,<br>    \"M\": 1684,<br>    \"probes\": 200<br>  }<br>}",
          "{<br>  \"number\": 2,<br>  \"values\": [<br>    2.5395984074472704,<br>    0.0011132000000000002<br>  ],<br>  \"params\": {<br>    \"k\": 3,<br>    \"M\": 4056,<br>    \"probes\": 665<br>  }<br>}",
          "{<br>  \"number\": 3,<br>  \"values\": [<br>    1.8083326113265408,<br>    0.0014605999999999998<br>  ],<br>  \"params\": {<br>    \"k\": 4,<br>    \"M\": 3130,<br>    \"probes\": 921<br>  }<br>}",
          "{<br>  \"number\": 4,<br>  \"values\": [<br>    1.752688660258667,<br>    0.0072838<br>  ],<br>  \"params\": {<br>    \"k\": 16,<br>    \"M\": 25,<br>    \"probes\": 750<br>  }<br>}",
          "{<br>  \"number\": 5,<br>  \"values\": [<br>    1.7985897656818197,<br>    0.008184499999999999<br>  ],<br>  \"params\": {<br>    \"k\": 15,<br>    \"M\": 852,<br>    \"probes\": 802<br>  }<br>}",
          "{<br>  \"number\": 6,<br>  \"values\": [<br>    1.4322010253695117,<br>    0.0210656<br>  ],<br>  \"params\": {<br>    \"k\": 18,<br>    \"M\": 1551,<br>    \"probes\": 836<br>  }<br>}",
          "{<br>  \"number\": 7,<br>  \"values\": [<br>    1.7916286942867166,<br>    0.0013756<br>  ],<br>  \"params\": {<br>    \"k\": 5,<br>    \"M\": 264,<br>    \"probes\": 853<br>  }<br>}",
          "{<br>  \"number\": 8,<br>  \"values\": [<br>    1.8403353729480714,<br>    0.0007258000000000001<br>  ],<br>  \"params\": {<br>    \"k\": 8,<br>    \"M\": 636,<br>    \"probes\": 307<br>  }<br>}",
          "{<br>  \"number\": 11,<br>  \"values\": [<br>    1.4931837310582181,<br>    0.08372530000000002<br>  ],<br>  \"params\": {<br>    \"k\": 28,<br>    \"M\": 2772,<br>    \"probes\": 533<br>  }<br>}",
          "{<br>  \"number\": 12,<br>  \"values\": [<br>    1.7515089323386144,<br>    0.06502309999999999<br>  ],<br>  \"params\": {<br>    \"k\": 24,<br>    \"M\": 4983,<br>    \"probes\": 362<br>  }<br>}",
          "{<br>  \"number\": 13,<br>  \"values\": [<br>    1.8480215745938111,<br>    0.0007619<br>  ],<br>  \"params\": {<br>    \"k\": 11,<br>    \"M\": 3458,<br>    \"probes\": 80<br>  }<br>}",
          "{<br>  \"number\": 15,<br>  \"values\": [<br>    1.9185473220696934,<br>    0.0010255000000000002<br>  ],<br>  \"params\": {<br>    \"k\": 4,<br>    \"M\": 460,<br>    \"probes\": 683<br>  }<br>}",
          "{<br>  \"number\": 16,<br>  \"values\": [<br>    1.8983355548347576,<br>    0.0248911<br>  ],<br>  \"params\": {<br>    \"k\": 23,<br>    \"M\": 1407,<br>    \"probes\": 103<br>  }<br>}",
          "{<br>  \"number\": 18,<br>  \"values\": [<br>    1.432066949046283,<br>    0.08266860000000001<br>  ],<br>  \"params\": {<br>    \"k\": 29,<br>    \"M\": 3073,<br>    \"probes\": 598<br>  }<br>}",
          "{<br>  \"number\": 20,<br>  \"values\": [<br>    1.433949666368659,<br>    0.0256446<br>  ],<br>  \"params\": {<br>    \"k\": 22,<br>    \"M\": 1540,<br>    \"probes\": 678<br>  }<br>}",
          "{<br>  \"number\": 21,<br>  \"values\": [<br>    1.7479305902294213,<br>    0.0018781<br>  ],<br>  \"params\": {<br>    \"k\": 12,<br>    \"M\": 3947,<br>    \"probes\": 203<br>  }<br>}",
          "{<br>  \"number\": 23,<br>  \"values\": [<br>    1.65249975838885,<br>    0.0017244000000000003<br>  ],<br>  \"params\": {<br>    \"k\": 12,<br>    \"M\": 1414,<br>    \"probes\": 509<br>  }<br>}",
          "{<br>  \"number\": 25,<br>  \"values\": [<br>    2.5395984074472704,<br>    0.0009441<br>  ],<br>  \"params\": {<br>    \"k\": 2,<br>    \"M\": 127,<br>    \"probes\": 560<br>  }<br>}",
          "{<br>  \"number\": 26,<br>  \"values\": [<br>    1.5324523419170595,<br>    0.009423999999999998<br>  ],<br>  \"params\": {<br>    \"k\": 19,<br>    \"M\": 2362,<br>    \"probes\": 424<br>  }<br>}",
          "{<br>  \"number\": 27,<br>  \"values\": [<br>    2.6798375748725642,<br>    0.0012371<br>  ],<br>  \"params\": {<br>    \"k\": 6,<br>    \"M\": 4412,<br>    \"probes\": 750<br>  }<br>}",
          "{<br>  \"number\": 28,<br>  \"values\": [<br>    1.6600460654074185,<br>    0.0017255<br>  ],<br>  \"params\": {<br>    \"k\": 8,<br>    \"M\": 942,<br>    \"probes\": 954<br>  }<br>}",
          "{<br>  \"number\": 29,<br>  \"values\": [<br>    1.5784707563781106,<br>    0.08478260000000001<br>  ],<br>  \"params\": {<br>    \"k\": 30,<br>    \"M\": 733,<br>    \"probes\": 305<br>  }<br>}",
          "{<br>  \"number\": 30,<br>  \"values\": [<br>    1.815838589777603,<br>    0.0010017000000000001<br>  ],<br>  \"params\": {<br>    \"k\": 12,<br>    \"M\": 3132,<br>    \"probes\": 223<br>  }<br>}",
          "{<br>  \"number\": 31,<br>  \"values\": [<br>    1.4037587023157931,<br>    0.0709628<br>  ],<br>  \"params\": {<br>    \"k\": 23,<br>    \"M\": 3958,<br>    \"probes\": 464<br>  }<br>}",
          "{<br>  \"number\": 32,<br>  \"values\": [<br>    1.6430260793612481,<br>    0.007685900000000001<br>  ],<br>  \"params\": {<br>    \"k\": 17,<br>    \"M\": 1672,<br>    \"probes\": 307<br>  }<br>}",
          "{<br>  \"number\": 33,<br>  \"values\": [<br>    1.8829153239193481,<br>    0.006983100000000001<br>  ],<br>  \"params\": {<br>    \"k\": 17,<br>    \"M\": 4968,<br>    \"probes\": 156<br>  }<br>}",
          "{<br>  \"number\": 34,<br>  \"values\": [<br>    1.712759557150828,<br>    0.0207769<br>  ],<br>  \"params\": {<br>    \"k\": 18,<br>    \"M\": 4624,<br>    \"probes\": 366<br>  }<br>}",
          "{<br>  \"number\": 35,<br>  \"values\": [<br>    1.482006611552869,<br>    0.0030407000000000003<br>  ],<br>  \"params\": {<br>    \"k\": 14,<br>    \"M\": 2216,<br>    \"probes\": 196<br>  }<br>}",
          "{<br>  \"number\": 36,<br>  \"values\": [<br>    1.5056455023888717,<br>    0.002436<br>  ],<br>  \"params\": {<br>    \"k\": 11,<br>    \"M\": 2095,<br>    \"probes\": 840<br>  }<br>}",
          "{<br>  \"number\": 37,<br>  \"values\": [<br>    1.7980922283138767,<br>    0.0160522<br>  ],<br>  \"params\": {<br>    \"k\": 21,<br>    \"M\": 1689,<br>    \"probes\": 191<br>  }<br>}",
          "{<br>  \"number\": 38,<br>  \"values\": [<br>    1.4938208735559628,<br>    0.1031069<br>  ],<br>  \"params\": {<br>    \"k\": 28,<br>    \"M\": 4500,<br>    \"probes\": 758<br>  }<br>}",
          "{<br>  \"number\": 39,<br>  \"values\": [<br>    1.411292625588669,<br>    0.0038618<br>  ],<br>  \"params\": {<br>    \"k\": 15,<br>    \"M\": 2924,<br>    \"probes\": 653<br>  }<br>}",
          "{<br>  \"number\": 40,<br>  \"values\": [<br>    2.6813315150306347,<br>    0.0004785000000000001<br>  ],<br>  \"params\": {<br>    \"k\": 2,<br>    \"M\": 2575,<br>    \"probes\": 200<br>  }<br>}",
          "{<br>  \"number\": 41,<br>  \"values\": [<br>    2.402988384368219,<br>    0.0009278<br>  ],<br>  \"params\": {<br>    \"k\": 4,<br>    \"M\": 24,<br>    \"probes\": 519<br>  }<br>}",
          "{<br>  \"number\": 43,<br>  \"values\": [<br>    1.4815507560538244,<br>    0.04768289999999999<br>  ],<br>  \"params\": {<br>    \"k\": 23,<br>    \"M\": 732,<br>    \"probes\": 947<br>  }<br>}",
          "{<br>  \"number\": 45,<br>  \"values\": [<br>    1.4259423703847074,<br>    0.099945<br>  ],<br>  \"params\": {<br>    \"k\": 29,<br>    \"M\": 3494,<br>    \"probes\": 682<br>  }<br>}",
          "{<br>  \"number\": 46,<br>  \"values\": [<br>    1.6878746444665818,<br>    0.0014487000000000002<br>  ],<br>  \"params\": {<br>    \"k\": 8,<br>    \"M\": 1530,<br>    \"probes\": 815<br>  }<br>}",
          "{<br>  \"number\": 47,<br>  \"values\": [<br>    1.6058316314503709,<br>    0.0022613<br>  ],<br>  \"params\": {<br>    \"k\": 12,<br>    \"M\": 3260,<br>    \"probes\": 914<br>  }<br>}",
          "{<br>  \"number\": 48,<br>  \"values\": [<br>    1.5266650041139054,<br>    0.004064<br>  ],<br>  \"params\": {<br>    \"k\": 15,<br>    \"M\": 2756,<br>    \"probes\": 230<br>  }<br>}",
          "{<br>  \"number\": 49,<br>  \"values\": [<br>    1.4115338545030527,<br>    0.010862<br>  ],<br>  \"params\": {<br>    \"k\": 16,<br>    \"M\": 1699,<br>    \"probes\": 847<br>  }<br>}"
         ],
         "type": "scatter",
         "x": [
          1.9820858777568677,
          1.7737250814991719,
          2.5395984074472704,
          1.8083326113265408,
          1.752688660258667,
          1.7985897656818197,
          1.4322010253695117,
          1.7916286942867166,
          1.8403353729480714,
          1.4931837310582181,
          1.7515089323386144,
          1.8480215745938111,
          1.9185473220696934,
          1.8983355548347576,
          1.432066949046283,
          1.433949666368659,
          1.7479305902294213,
          1.65249975838885,
          2.5395984074472704,
          1.5324523419170595,
          2.6798375748725642,
          1.6600460654074185,
          1.5784707563781106,
          1.815838589777603,
          1.4037587023157931,
          1.6430260793612481,
          1.8829153239193481,
          1.712759557150828,
          1.482006611552869,
          1.5056455023888717,
          1.7980922283138767,
          1.4938208735559628,
          1.411292625588669,
          2.6813315150306347,
          2.402988384368219,
          1.4815507560538244,
          1.4259423703847074,
          1.6878746444665818,
          1.6058316314503709,
          1.5266650041139054,
          1.4115338545030527
         ],
         "y": [
          0.0054666,
          0.0702306,
          0.0011132000000000002,
          0.0014605999999999998,
          0.0072838,
          0.008184499999999999,
          0.0210656,
          0.0013756,
          0.0007258000000000001,
          0.08372530000000002,
          0.06502309999999999,
          0.0007619,
          0.0010255000000000002,
          0.0248911,
          0.08266860000000001,
          0.0256446,
          0.0018781,
          0.0017244000000000003,
          0.0009441,
          0.009423999999999998,
          0.0012371,
          0.0017255,
          0.08478260000000001,
          0.0010017000000000001,
          0.0709628,
          0.007685900000000001,
          0.006983100000000001,
          0.0207769,
          0.0030407000000000003,
          0.002436,
          0.0160522,
          0.1031069,
          0.0038618,
          0.0004785000000000001,
          0.0009278,
          0.04768289999999999,
          0.099945,
          0.0014487000000000002,
          0.0022613,
          0.004064,
          0.010862
         ]
        },
        {
         "hovertemplate": "%{text}<extra>Best Trial</extra>",
         "marker": {
          "color": [
           9,
           10,
           14,
           17,
           19,
           22,
           24,
           42,
           44
          ],
          "colorbar": {
           "title": {
            "text": "Best Trial"
           },
           "x": 1.1,
           "xpad": 40
          },
          "colorscale": [
           [
            0,
            "rgb(255,245,240)"
           ],
           [
            0.125,
            "rgb(254,224,210)"
           ],
           [
            0.25,
            "rgb(252,187,161)"
           ],
           [
            0.375,
            "rgb(252,146,114)"
           ],
           [
            0.5,
            "rgb(251,106,74)"
           ],
           [
            0.625,
            "rgb(239,59,44)"
           ],
           [
            0.75,
            "rgb(203,24,29)"
           ],
           [
            0.875,
            "rgb(165,15,21)"
           ],
           [
            1,
            "rgb(103,0,13)"
           ]
          ],
          "line": {
           "color": "Grey",
           "width": 0.5
          }
         },
         "mode": "markers",
         "showlegend": false,
         "text": [
          "{<br>  \"number\": 9,<br>  \"values\": [<br>    1.9332440185941568,<br>    0.0005749<br>  ],<br>  \"params\": {<br>    \"k\": 4,<br>    \"M\": 66,<br>    \"probes\": 305<br>  }<br>}",
          "{<br>  \"number\": 10,<br>  \"values\": [<br>    2.381787456413473,<br>    0.00044039999999999997<br>  ],<br>  \"params\": {<br>    \"k\": 8,<br>    \"M\": 2748,<br>    \"probes\": 124<br>  }<br>}",
          "{<br>  \"number\": 14,<br>  \"values\": [<br>    1.780159117933763,<br>    0.0009214<br>  ],<br>  \"params\": {<br>    \"k\": 4,<br>    \"M\": 1966,<br>    \"probes\": 570<br>  }<br>}",
          "{<br>  \"number\": 17,<br>  \"values\": [<br>    1.2138728669424221,<br>    0.09235270000000001<br>  ],<br>  \"params\": {<br>    \"k\": 26,<br>    \"M\": 4453,<br>    \"probes\": 980<br>  }<br>}",
          "{<br>  \"number\": 19,<br>  \"values\": [<br>    1.7008422594541597,<br>    0.0011613<br>  ],<br>  \"params\": {<br>    \"k\": 2,<br>    \"M\": 24,<br>    \"probes\": 804<br>  }<br>}",
          "{<br>  \"number\": 22,<br>  \"values\": [<br>    1.8083326113265408,<br>    0.0006953<br>  ],<br>  \"params\": {<br>    \"k\": 4,<br>    \"M\": 3099,<br>    \"probes\": 359<br>  }<br>}",
          "{<br>  \"number\": 24,<br>  \"values\": [<br>    1.3877293557617412,<br>    0.001493<br>  ],<br>  \"params\": {<br>    \"k\": 9,<br>    \"M\": 2943,<br>    \"probes\": 740<br>  }<br>}",
          "{<br>  \"number\": 42,<br>  \"values\": [<br>    2.633067072700275,<br>    0.0004029<br>  ],<br>  \"params\": {<br>    \"k\": 5,<br>    \"M\": 4957,<br>    \"probes\": 140<br>  }<br>}",
          "{<br>  \"number\": 44,<br>  \"values\": [<br>    1.621818005658229,<br>    0.0011896<br>  ],<br>  \"params\": {<br>    \"k\": 8,<br>    \"M\": 4351,<br>    \"probes\": 679<br>  }<br>}"
         ],
         "type": "scatter",
         "x": [
          1.9332440185941568,
          2.381787456413473,
          1.780159117933763,
          1.2138728669424221,
          1.7008422594541597,
          1.8083326113265408,
          1.3877293557617412,
          2.633067072700275,
          1.621818005658229
         ],
         "y": [
          0.0005749,
          0.00044039999999999997,
          0.0009214,
          0.09235270000000001,
          0.0011613,
          0.0006953,
          0.001493,
          0.0004029,
          0.0011896
         ]
        }
       ],
       "layout": {
        "template": {
         "data": {
          "bar": [
           {
            "error_x": {
             "color": "#2a3f5f"
            },
            "error_y": {
             "color": "#2a3f5f"
            },
            "marker": {
             "line": {
              "color": "#E5ECF6",
              "width": 0.5
             },
             "pattern": {
              "fillmode": "overlay",
              "size": 10,
              "solidity": 0.2
             }
            },
            "type": "bar"
           }
          ],
          "barpolar": [
           {
            "marker": {
             "line": {
              "color": "#E5ECF6",
              "width": 0.5
             },
             "pattern": {
              "fillmode": "overlay",
              "size": 10,
              "solidity": 0.2
             }
            },
            "type": "barpolar"
           }
          ],
          "carpet": [
           {
            "aaxis": {
             "endlinecolor": "#2a3f5f",
             "gridcolor": "white",
             "linecolor": "white",
             "minorgridcolor": "white",
             "startlinecolor": "#2a3f5f"
            },
            "baxis": {
             "endlinecolor": "#2a3f5f",
             "gridcolor": "white",
             "linecolor": "white",
             "minorgridcolor": "white",
             "startlinecolor": "#2a3f5f"
            },
            "type": "carpet"
           }
          ],
          "choropleth": [
           {
            "colorbar": {
             "outlinewidth": 0,
             "ticks": ""
            },
            "type": "choropleth"
           }
          ],
          "contour": [
           {
            "colorbar": {
             "outlinewidth": 0,
             "ticks": ""
            },
            "colorscale": [
             [
              0,
              "#0d0887"
             ],
             [
              0.1111111111111111,
              "#46039f"
             ],
             [
              0.2222222222222222,
              "#7201a8"
             ],
             [
              0.3333333333333333,
              "#9c179e"
             ],
             [
              0.4444444444444444,
              "#bd3786"
             ],
             [
              0.5555555555555556,
              "#d8576b"
             ],
             [
              0.6666666666666666,
              "#ed7953"
             ],
             [
              0.7777777777777778,
              "#fb9f3a"
             ],
             [
              0.8888888888888888,
              "#fdca26"
             ],
             [
              1,
              "#f0f921"
             ]
            ],
            "type": "contour"
           }
          ],
          "contourcarpet": [
           {
            "colorbar": {
             "outlinewidth": 0,
             "ticks": ""
            },
            "type": "contourcarpet"
           }
          ],
          "heatmap": [
           {
            "colorbar": {
             "outlinewidth": 0,
             "ticks": ""
            },
            "colorscale": [
             [
              0,
              "#0d0887"
             ],
             [
              0.1111111111111111,
              "#46039f"
             ],
             [
              0.2222222222222222,
              "#7201a8"
             ],
             [
              0.3333333333333333,
              "#9c179e"
             ],
             [
              0.4444444444444444,
              "#bd3786"
             ],
             [
              0.5555555555555556,
              "#d8576b"
             ],
             [
              0.6666666666666666,
              "#ed7953"
             ],
             [
              0.7777777777777778,
              "#fb9f3a"
             ],
             [
              0.8888888888888888,
              "#fdca26"
             ],
             [
              1,
              "#f0f921"
             ]
            ],
            "type": "heatmap"
           }
          ],
          "heatmapgl": [
           {
            "colorbar": {
             "outlinewidth": 0,
             "ticks": ""
            },
            "colorscale": [
             [
              0,
              "#0d0887"
             ],
             [
              0.1111111111111111,
              "#46039f"
             ],
             [
              0.2222222222222222,
              "#7201a8"
             ],
             [
              0.3333333333333333,
              "#9c179e"
             ],
             [
              0.4444444444444444,
              "#bd3786"
             ],
             [
              0.5555555555555556,
              "#d8576b"
             ],
             [
              0.6666666666666666,
              "#ed7953"
             ],
             [
              0.7777777777777778,
              "#fb9f3a"
             ],
             [
              0.8888888888888888,
              "#fdca26"
             ],
             [
              1,
              "#f0f921"
             ]
            ],
            "type": "heatmapgl"
           }
          ],
          "histogram": [
           {
            "marker": {
             "pattern": {
              "fillmode": "overlay",
              "size": 10,
              "solidity": 0.2
             }
            },
            "type": "histogram"
           }
          ],
          "histogram2d": [
           {
            "colorbar": {
             "outlinewidth": 0,
             "ticks": ""
            },
            "colorscale": [
             [
              0,
              "#0d0887"
             ],
             [
              0.1111111111111111,
              "#46039f"
             ],
             [
              0.2222222222222222,
              "#7201a8"
             ],
             [
              0.3333333333333333,
              "#9c179e"
             ],
             [
              0.4444444444444444,
              "#bd3786"
             ],
             [
              0.5555555555555556,
              "#d8576b"
             ],
             [
              0.6666666666666666,
              "#ed7953"
             ],
             [
              0.7777777777777778,
              "#fb9f3a"
             ],
             [
              0.8888888888888888,
              "#fdca26"
             ],
             [
              1,
              "#f0f921"
             ]
            ],
            "type": "histogram2d"
           }
          ],
          "histogram2dcontour": [
           {
            "colorbar": {
             "outlinewidth": 0,
             "ticks": ""
            },
            "colorscale": [
             [
              0,
              "#0d0887"
             ],
             [
              0.1111111111111111,
              "#46039f"
             ],
             [
              0.2222222222222222,
              "#7201a8"
             ],
             [
              0.3333333333333333,
              "#9c179e"
             ],
             [
              0.4444444444444444,
              "#bd3786"
             ],
             [
              0.5555555555555556,
              "#d8576b"
             ],
             [
              0.6666666666666666,
              "#ed7953"
             ],
             [
              0.7777777777777778,
              "#fb9f3a"
             ],
             [
              0.8888888888888888,
              "#fdca26"
             ],
             [
              1,
              "#f0f921"
             ]
            ],
            "type": "histogram2dcontour"
           }
          ],
          "mesh3d": [
           {
            "colorbar": {
             "outlinewidth": 0,
             "ticks": ""
            },
            "type": "mesh3d"
           }
          ],
          "parcoords": [
           {
            "line": {
             "colorbar": {
              "outlinewidth": 0,
              "ticks": ""
             }
            },
            "type": "parcoords"
           }
          ],
          "pie": [
           {
            "automargin": true,
            "type": "pie"
           }
          ],
          "scatter": [
           {
            "fillpattern": {
             "fillmode": "overlay",
             "size": 10,
             "solidity": 0.2
            },
            "type": "scatter"
           }
          ],
          "scatter3d": [
           {
            "line": {
             "colorbar": {
              "outlinewidth": 0,
              "ticks": ""
             }
            },
            "marker": {
             "colorbar": {
              "outlinewidth": 0,
              "ticks": ""
             }
            },
            "type": "scatter3d"
           }
          ],
          "scattercarpet": [
           {
            "marker": {
             "colorbar": {
              "outlinewidth": 0,
              "ticks": ""
             }
            },
            "type": "scattercarpet"
           }
          ],
          "scattergeo": [
           {
            "marker": {
             "colorbar": {
              "outlinewidth": 0,
              "ticks": ""
             }
            },
            "type": "scattergeo"
           }
          ],
          "scattergl": [
           {
            "marker": {
             "colorbar": {
              "outlinewidth": 0,
              "ticks": ""
             }
            },
            "type": "scattergl"
           }
          ],
          "scattermapbox": [
           {
            "marker": {
             "colorbar": {
              "outlinewidth": 0,
              "ticks": ""
             }
            },
            "type": "scattermapbox"
           }
          ],
          "scatterpolar": [
           {
            "marker": {
             "colorbar": {
              "outlinewidth": 0,
              "ticks": ""
             }
            },
            "type": "scatterpolar"
           }
          ],
          "scatterpolargl": [
           {
            "marker": {
             "colorbar": {
              "outlinewidth": 0,
              "ticks": ""
             }
            },
            "type": "scatterpolargl"
           }
          ],
          "scatterternary": [
           {
            "marker": {
             "colorbar": {
              "outlinewidth": 0,
              "ticks": ""
             }
            },
            "type": "scatterternary"
           }
          ],
          "surface": [
           {
            "colorbar": {
             "outlinewidth": 0,
             "ticks": ""
            },
            "colorscale": [
             [
              0,
              "#0d0887"
             ],
             [
              0.1111111111111111,
              "#46039f"
             ],
             [
              0.2222222222222222,
              "#7201a8"
             ],
             [
              0.3333333333333333,
              "#9c179e"
             ],
             [
              0.4444444444444444,
              "#bd3786"
             ],
             [
              0.5555555555555556,
              "#d8576b"
             ],
             [
              0.6666666666666666,
              "#ed7953"
             ],
             [
              0.7777777777777778,
              "#fb9f3a"
             ],
             [
              0.8888888888888888,
              "#fdca26"
             ],
             [
              1,
              "#f0f921"
             ]
            ],
            "type": "surface"
           }
          ],
          "table": [
           {
            "cells": {
             "fill": {
              "color": "#EBF0F8"
             },
             "line": {
              "color": "white"
             }
            },
            "header": {
             "fill": {
              "color": "#C8D4E3"
             },
             "line": {
              "color": "white"
             }
            },
            "type": "table"
           }
          ]
         },
         "layout": {
          "annotationdefaults": {
           "arrowcolor": "#2a3f5f",
           "arrowhead": 0,
           "arrowwidth": 1
          },
          "autotypenumbers": "strict",
          "coloraxis": {
           "colorbar": {
            "outlinewidth": 0,
            "ticks": ""
           }
          },
          "colorscale": {
           "diverging": [
            [
             0,
             "#8e0152"
            ],
            [
             0.1,
             "#c51b7d"
            ],
            [
             0.2,
             "#de77ae"
            ],
            [
             0.3,
             "#f1b6da"
            ],
            [
             0.4,
             "#fde0ef"
            ],
            [
             0.5,
             "#f7f7f7"
            ],
            [
             0.6,
             "#e6f5d0"
            ],
            [
             0.7,
             "#b8e186"
            ],
            [
             0.8,
             "#7fbc41"
            ],
            [
             0.9,
             "#4d9221"
            ],
            [
             1,
             "#276419"
            ]
           ],
           "sequential": [
            [
             0,
             "#0d0887"
            ],
            [
             0.1111111111111111,
             "#46039f"
            ],
            [
             0.2222222222222222,
             "#7201a8"
            ],
            [
             0.3333333333333333,
             "#9c179e"
            ],
            [
             0.4444444444444444,
             "#bd3786"
            ],
            [
             0.5555555555555556,
             "#d8576b"
            ],
            [
             0.6666666666666666,
             "#ed7953"
            ],
            [
             0.7777777777777778,
             "#fb9f3a"
            ],
            [
             0.8888888888888888,
             "#fdca26"
            ],
            [
             1,
             "#f0f921"
            ]
           ],
           "sequentialminus": [
            [
             0,
             "#0d0887"
            ],
            [
             0.1111111111111111,
             "#46039f"
            ],
            [
             0.2222222222222222,
             "#7201a8"
            ],
            [
             0.3333333333333333,
             "#9c179e"
            ],
            [
             0.4444444444444444,
             "#bd3786"
            ],
            [
             0.5555555555555556,
             "#d8576b"
            ],
            [
             0.6666666666666666,
             "#ed7953"
            ],
            [
             0.7777777777777778,
             "#fb9f3a"
            ],
            [
             0.8888888888888888,
             "#fdca26"
            ],
            [
             1,
             "#f0f921"
            ]
           ]
          },
          "colorway": [
           "#636efa",
           "#EF553B",
           "#00cc96",
           "#ab63fa",
           "#FFA15A",
           "#19d3f3",
           "#FF6692",
           "#B6E880",
           "#FF97FF",
           "#FECB52"
          ],
          "font": {
           "color": "#2a3f5f"
          },
          "geo": {
           "bgcolor": "white",
           "lakecolor": "white",
           "landcolor": "#E5ECF6",
           "showlakes": true,
           "showland": true,
           "subunitcolor": "white"
          },
          "hoverlabel": {
           "align": "left"
          },
          "hovermode": "closest",
          "mapbox": {
           "style": "light"
          },
          "paper_bgcolor": "white",
          "plot_bgcolor": "#E5ECF6",
          "polar": {
           "angularaxis": {
            "gridcolor": "white",
            "linecolor": "white",
            "ticks": ""
           },
           "bgcolor": "#E5ECF6",
           "radialaxis": {
            "gridcolor": "white",
            "linecolor": "white",
            "ticks": ""
           }
          },
          "scene": {
           "xaxis": {
            "backgroundcolor": "#E5ECF6",
            "gridcolor": "white",
            "gridwidth": 2,
            "linecolor": "white",
            "showbackground": true,
            "ticks": "",
            "zerolinecolor": "white"
           },
           "yaxis": {
            "backgroundcolor": "#E5ECF6",
            "gridcolor": "white",
            "gridwidth": 2,
            "linecolor": "white",
            "showbackground": true,
            "ticks": "",
            "zerolinecolor": "white"
           },
           "zaxis": {
            "backgroundcolor": "#E5ECF6",
            "gridcolor": "white",
            "gridwidth": 2,
            "linecolor": "white",
            "showbackground": true,
            "ticks": "",
            "zerolinecolor": "white"
           }
          },
          "shapedefaults": {
           "line": {
            "color": "#2a3f5f"
           }
          },
          "ternary": {
           "aaxis": {
            "gridcolor": "white",
            "linecolor": "white",
            "ticks": ""
           },
           "baxis": {
            "gridcolor": "white",
            "linecolor": "white",
            "ticks": ""
           },
           "bgcolor": "#E5ECF6",
           "caxis": {
            "gridcolor": "white",
            "linecolor": "white",
            "ticks": ""
           }
          },
          "title": {
           "x": 0.05
          },
          "xaxis": {
           "automargin": true,
           "gridcolor": "white",
           "linecolor": "white",
           "ticks": "",
           "title": {
            "standoff": 15
           },
           "zerolinecolor": "white",
           "zerolinewidth": 2
          },
          "yaxis": {
           "automargin": true,
           "gridcolor": "white",
           "linecolor": "white",
           "ticks": "",
           "title": {
            "standoff": 15
           },
           "zerolinecolor": "white",
           "zerolinewidth": 2
          }
         }
        },
        "title": {
         "text": "Pareto-front Plot"
        },
        "xaxis": {
         "title": {
          "text": "maf"
         }
        },
        "yaxis": {
         "title": {
          "text": "average_time"
         }
        }
       }
      }
     },
     "metadata": {},
     "output_type": "display_data"
    }
   ],
   "source": [
    "plot_pareto_front(hypercube_study, target_names=['maf', 'average_time'])"
   ]
  },
  {
   "cell_type": "code",
   "execution_count": 8,
   "metadata": {},
   "outputs": [
    {
     "data": {
      "application/vnd.plotly.v1+json": {
       "config": {
        "plotlyServerURL": "https://plot.ly"
       },
       "data": [
        {
         "mode": "markers",
         "name": "maf",
         "type": "scatter",
         "x": [
          0,
          1,
          2,
          3,
          4,
          5,
          6,
          7,
          8,
          9,
          10,
          11,
          12,
          13,
          14,
          15,
          16,
          17,
          18,
          19,
          20,
          21,
          22,
          23,
          24,
          25,
          26,
          27,
          28,
          29,
          30,
          31,
          32,
          33,
          34,
          35,
          36,
          37,
          38,
          39,
          40,
          41,
          42,
          43,
          44,
          45,
          46,
          47,
          48,
          49
         ],
         "y": [
          1.9820858777568677,
          1.7737250814991719,
          2.5395984074472704,
          1.8083326113265408,
          1.752688660258667,
          1.7985897656818197,
          1.4322010253695117,
          1.7916286942867166,
          1.8403353729480714,
          1.9332440185941568,
          2.381787456413473,
          1.4931837310582181,
          1.7515089323386144,
          1.8480215745938111,
          1.780159117933763,
          1.9185473220696934,
          1.8983355548347576,
          1.2138728669424221,
          1.432066949046283,
          1.7008422594541597,
          1.433949666368659,
          1.7479305902294213,
          1.8083326113265408,
          1.65249975838885,
          1.3877293557617412,
          2.5395984074472704,
          1.5324523419170595,
          2.6798375748725642,
          1.6600460654074185,
          1.5784707563781106,
          1.815838589777603,
          1.4037587023157931,
          1.6430260793612481,
          1.8829153239193481,
          1.712759557150828,
          1.482006611552869,
          1.5056455023888717,
          1.7980922283138767,
          1.4938208735559628,
          1.411292625588669,
          2.6813315150306347,
          2.402988384368219,
          2.633067072700275,
          1.4815507560538244,
          1.621818005658229,
          1.4259423703847074,
          1.6878746444665818,
          1.6058316314503709,
          1.5266650041139054,
          1.4115338545030527
         ]
        },
        {
         "marker": {
          "color": "#cccccc"
         },
         "mode": "markers",
         "name": "Infeasible Trial",
         "showlegend": false,
         "type": "scatter",
         "x": [],
         "y": []
        }
       ],
       "layout": {
        "template": {
         "data": {
          "bar": [
           {
            "error_x": {
             "color": "#2a3f5f"
            },
            "error_y": {
             "color": "#2a3f5f"
            },
            "marker": {
             "line": {
              "color": "#E5ECF6",
              "width": 0.5
             },
             "pattern": {
              "fillmode": "overlay",
              "size": 10,
              "solidity": 0.2
             }
            },
            "type": "bar"
           }
          ],
          "barpolar": [
           {
            "marker": {
             "line": {
              "color": "#E5ECF6",
              "width": 0.5
             },
             "pattern": {
              "fillmode": "overlay",
              "size": 10,
              "solidity": 0.2
             }
            },
            "type": "barpolar"
           }
          ],
          "carpet": [
           {
            "aaxis": {
             "endlinecolor": "#2a3f5f",
             "gridcolor": "white",
             "linecolor": "white",
             "minorgridcolor": "white",
             "startlinecolor": "#2a3f5f"
            },
            "baxis": {
             "endlinecolor": "#2a3f5f",
             "gridcolor": "white",
             "linecolor": "white",
             "minorgridcolor": "white",
             "startlinecolor": "#2a3f5f"
            },
            "type": "carpet"
           }
          ],
          "choropleth": [
           {
            "colorbar": {
             "outlinewidth": 0,
             "ticks": ""
            },
            "type": "choropleth"
           }
          ],
          "contour": [
           {
            "colorbar": {
             "outlinewidth": 0,
             "ticks": ""
            },
            "colorscale": [
             [
              0,
              "#0d0887"
             ],
             [
              0.1111111111111111,
              "#46039f"
             ],
             [
              0.2222222222222222,
              "#7201a8"
             ],
             [
              0.3333333333333333,
              "#9c179e"
             ],
             [
              0.4444444444444444,
              "#bd3786"
             ],
             [
              0.5555555555555556,
              "#d8576b"
             ],
             [
              0.6666666666666666,
              "#ed7953"
             ],
             [
              0.7777777777777778,
              "#fb9f3a"
             ],
             [
              0.8888888888888888,
              "#fdca26"
             ],
             [
              1,
              "#f0f921"
             ]
            ],
            "type": "contour"
           }
          ],
          "contourcarpet": [
           {
            "colorbar": {
             "outlinewidth": 0,
             "ticks": ""
            },
            "type": "contourcarpet"
           }
          ],
          "heatmap": [
           {
            "colorbar": {
             "outlinewidth": 0,
             "ticks": ""
            },
            "colorscale": [
             [
              0,
              "#0d0887"
             ],
             [
              0.1111111111111111,
              "#46039f"
             ],
             [
              0.2222222222222222,
              "#7201a8"
             ],
             [
              0.3333333333333333,
              "#9c179e"
             ],
             [
              0.4444444444444444,
              "#bd3786"
             ],
             [
              0.5555555555555556,
              "#d8576b"
             ],
             [
              0.6666666666666666,
              "#ed7953"
             ],
             [
              0.7777777777777778,
              "#fb9f3a"
             ],
             [
              0.8888888888888888,
              "#fdca26"
             ],
             [
              1,
              "#f0f921"
             ]
            ],
            "type": "heatmap"
           }
          ],
          "heatmapgl": [
           {
            "colorbar": {
             "outlinewidth": 0,
             "ticks": ""
            },
            "colorscale": [
             [
              0,
              "#0d0887"
             ],
             [
              0.1111111111111111,
              "#46039f"
             ],
             [
              0.2222222222222222,
              "#7201a8"
             ],
             [
              0.3333333333333333,
              "#9c179e"
             ],
             [
              0.4444444444444444,
              "#bd3786"
             ],
             [
              0.5555555555555556,
              "#d8576b"
             ],
             [
              0.6666666666666666,
              "#ed7953"
             ],
             [
              0.7777777777777778,
              "#fb9f3a"
             ],
             [
              0.8888888888888888,
              "#fdca26"
             ],
             [
              1,
              "#f0f921"
             ]
            ],
            "type": "heatmapgl"
           }
          ],
          "histogram": [
           {
            "marker": {
             "pattern": {
              "fillmode": "overlay",
              "size": 10,
              "solidity": 0.2
             }
            },
            "type": "histogram"
           }
          ],
          "histogram2d": [
           {
            "colorbar": {
             "outlinewidth": 0,
             "ticks": ""
            },
            "colorscale": [
             [
              0,
              "#0d0887"
             ],
             [
              0.1111111111111111,
              "#46039f"
             ],
             [
              0.2222222222222222,
              "#7201a8"
             ],
             [
              0.3333333333333333,
              "#9c179e"
             ],
             [
              0.4444444444444444,
              "#bd3786"
             ],
             [
              0.5555555555555556,
              "#d8576b"
             ],
             [
              0.6666666666666666,
              "#ed7953"
             ],
             [
              0.7777777777777778,
              "#fb9f3a"
             ],
             [
              0.8888888888888888,
              "#fdca26"
             ],
             [
              1,
              "#f0f921"
             ]
            ],
            "type": "histogram2d"
           }
          ],
          "histogram2dcontour": [
           {
            "colorbar": {
             "outlinewidth": 0,
             "ticks": ""
            },
            "colorscale": [
             [
              0,
              "#0d0887"
             ],
             [
              0.1111111111111111,
              "#46039f"
             ],
             [
              0.2222222222222222,
              "#7201a8"
             ],
             [
              0.3333333333333333,
              "#9c179e"
             ],
             [
              0.4444444444444444,
              "#bd3786"
             ],
             [
              0.5555555555555556,
              "#d8576b"
             ],
             [
              0.6666666666666666,
              "#ed7953"
             ],
             [
              0.7777777777777778,
              "#fb9f3a"
             ],
             [
              0.8888888888888888,
              "#fdca26"
             ],
             [
              1,
              "#f0f921"
             ]
            ],
            "type": "histogram2dcontour"
           }
          ],
          "mesh3d": [
           {
            "colorbar": {
             "outlinewidth": 0,
             "ticks": ""
            },
            "type": "mesh3d"
           }
          ],
          "parcoords": [
           {
            "line": {
             "colorbar": {
              "outlinewidth": 0,
              "ticks": ""
             }
            },
            "type": "parcoords"
           }
          ],
          "pie": [
           {
            "automargin": true,
            "type": "pie"
           }
          ],
          "scatter": [
           {
            "fillpattern": {
             "fillmode": "overlay",
             "size": 10,
             "solidity": 0.2
            },
            "type": "scatter"
           }
          ],
          "scatter3d": [
           {
            "line": {
             "colorbar": {
              "outlinewidth": 0,
              "ticks": ""
             }
            },
            "marker": {
             "colorbar": {
              "outlinewidth": 0,
              "ticks": ""
             }
            },
            "type": "scatter3d"
           }
          ],
          "scattercarpet": [
           {
            "marker": {
             "colorbar": {
              "outlinewidth": 0,
              "ticks": ""
             }
            },
            "type": "scattercarpet"
           }
          ],
          "scattergeo": [
           {
            "marker": {
             "colorbar": {
              "outlinewidth": 0,
              "ticks": ""
             }
            },
            "type": "scattergeo"
           }
          ],
          "scattergl": [
           {
            "marker": {
             "colorbar": {
              "outlinewidth": 0,
              "ticks": ""
             }
            },
            "type": "scattergl"
           }
          ],
          "scattermapbox": [
           {
            "marker": {
             "colorbar": {
              "outlinewidth": 0,
              "ticks": ""
             }
            },
            "type": "scattermapbox"
           }
          ],
          "scatterpolar": [
           {
            "marker": {
             "colorbar": {
              "outlinewidth": 0,
              "ticks": ""
             }
            },
            "type": "scatterpolar"
           }
          ],
          "scatterpolargl": [
           {
            "marker": {
             "colorbar": {
              "outlinewidth": 0,
              "ticks": ""
             }
            },
            "type": "scatterpolargl"
           }
          ],
          "scatterternary": [
           {
            "marker": {
             "colorbar": {
              "outlinewidth": 0,
              "ticks": ""
             }
            },
            "type": "scatterternary"
           }
          ],
          "surface": [
           {
            "colorbar": {
             "outlinewidth": 0,
             "ticks": ""
            },
            "colorscale": [
             [
              0,
              "#0d0887"
             ],
             [
              0.1111111111111111,
              "#46039f"
             ],
             [
              0.2222222222222222,
              "#7201a8"
             ],
             [
              0.3333333333333333,
              "#9c179e"
             ],
             [
              0.4444444444444444,
              "#bd3786"
             ],
             [
              0.5555555555555556,
              "#d8576b"
             ],
             [
              0.6666666666666666,
              "#ed7953"
             ],
             [
              0.7777777777777778,
              "#fb9f3a"
             ],
             [
              0.8888888888888888,
              "#fdca26"
             ],
             [
              1,
              "#f0f921"
             ]
            ],
            "type": "surface"
           }
          ],
          "table": [
           {
            "cells": {
             "fill": {
              "color": "#EBF0F8"
             },
             "line": {
              "color": "white"
             }
            },
            "header": {
             "fill": {
              "color": "#C8D4E3"
             },
             "line": {
              "color": "white"
             }
            },
            "type": "table"
           }
          ]
         },
         "layout": {
          "annotationdefaults": {
           "arrowcolor": "#2a3f5f",
           "arrowhead": 0,
           "arrowwidth": 1
          },
          "autotypenumbers": "strict",
          "coloraxis": {
           "colorbar": {
            "outlinewidth": 0,
            "ticks": ""
           }
          },
          "colorscale": {
           "diverging": [
            [
             0,
             "#8e0152"
            ],
            [
             0.1,
             "#c51b7d"
            ],
            [
             0.2,
             "#de77ae"
            ],
            [
             0.3,
             "#f1b6da"
            ],
            [
             0.4,
             "#fde0ef"
            ],
            [
             0.5,
             "#f7f7f7"
            ],
            [
             0.6,
             "#e6f5d0"
            ],
            [
             0.7,
             "#b8e186"
            ],
            [
             0.8,
             "#7fbc41"
            ],
            [
             0.9,
             "#4d9221"
            ],
            [
             1,
             "#276419"
            ]
           ],
           "sequential": [
            [
             0,
             "#0d0887"
            ],
            [
             0.1111111111111111,
             "#46039f"
            ],
            [
             0.2222222222222222,
             "#7201a8"
            ],
            [
             0.3333333333333333,
             "#9c179e"
            ],
            [
             0.4444444444444444,
             "#bd3786"
            ],
            [
             0.5555555555555556,
             "#d8576b"
            ],
            [
             0.6666666666666666,
             "#ed7953"
            ],
            [
             0.7777777777777778,
             "#fb9f3a"
            ],
            [
             0.8888888888888888,
             "#fdca26"
            ],
            [
             1,
             "#f0f921"
            ]
           ],
           "sequentialminus": [
            [
             0,
             "#0d0887"
            ],
            [
             0.1111111111111111,
             "#46039f"
            ],
            [
             0.2222222222222222,
             "#7201a8"
            ],
            [
             0.3333333333333333,
             "#9c179e"
            ],
            [
             0.4444444444444444,
             "#bd3786"
            ],
            [
             0.5555555555555556,
             "#d8576b"
            ],
            [
             0.6666666666666666,
             "#ed7953"
            ],
            [
             0.7777777777777778,
             "#fb9f3a"
            ],
            [
             0.8888888888888888,
             "#fdca26"
            ],
            [
             1,
             "#f0f921"
            ]
           ]
          },
          "colorway": [
           "#636efa",
           "#EF553B",
           "#00cc96",
           "#ab63fa",
           "#FFA15A",
           "#19d3f3",
           "#FF6692",
           "#B6E880",
           "#FF97FF",
           "#FECB52"
          ],
          "font": {
           "color": "#2a3f5f"
          },
          "geo": {
           "bgcolor": "white",
           "lakecolor": "white",
           "landcolor": "#E5ECF6",
           "showlakes": true,
           "showland": true,
           "subunitcolor": "white"
          },
          "hoverlabel": {
           "align": "left"
          },
          "hovermode": "closest",
          "mapbox": {
           "style": "light"
          },
          "paper_bgcolor": "white",
          "plot_bgcolor": "#E5ECF6",
          "polar": {
           "angularaxis": {
            "gridcolor": "white",
            "linecolor": "white",
            "ticks": ""
           },
           "bgcolor": "#E5ECF6",
           "radialaxis": {
            "gridcolor": "white",
            "linecolor": "white",
            "ticks": ""
           }
          },
          "scene": {
           "xaxis": {
            "backgroundcolor": "#E5ECF6",
            "gridcolor": "white",
            "gridwidth": 2,
            "linecolor": "white",
            "showbackground": true,
            "ticks": "",
            "zerolinecolor": "white"
           },
           "yaxis": {
            "backgroundcolor": "#E5ECF6",
            "gridcolor": "white",
            "gridwidth": 2,
            "linecolor": "white",
            "showbackground": true,
            "ticks": "",
            "zerolinecolor": "white"
           },
           "zaxis": {
            "backgroundcolor": "#E5ECF6",
            "gridcolor": "white",
            "gridwidth": 2,
            "linecolor": "white",
            "showbackground": true,
            "ticks": "",
            "zerolinecolor": "white"
           }
          },
          "shapedefaults": {
           "line": {
            "color": "#2a3f5f"
           }
          },
          "ternary": {
           "aaxis": {
            "gridcolor": "white",
            "linecolor": "white",
            "ticks": ""
           },
           "baxis": {
            "gridcolor": "white",
            "linecolor": "white",
            "ticks": ""
           },
           "bgcolor": "#E5ECF6",
           "caxis": {
            "gridcolor": "white",
            "linecolor": "white",
            "ticks": ""
           }
          },
          "title": {
           "x": 0.05
          },
          "xaxis": {
           "automargin": true,
           "gridcolor": "white",
           "linecolor": "white",
           "ticks": "",
           "title": {
            "standoff": 15
           },
           "zerolinecolor": "white",
           "zerolinewidth": 2
          },
          "yaxis": {
           "automargin": true,
           "gridcolor": "white",
           "linecolor": "white",
           "ticks": "",
           "title": {
            "standoff": 15
           },
           "zerolinecolor": "white",
           "zerolinewidth": 2
          }
         }
        },
        "title": {
         "text": "Optimization History Plot"
        },
        "xaxis": {
         "title": {
          "text": "Trial"
         }
        },
        "yaxis": {
         "title": {
          "text": "maf"
         }
        }
       }
      }
     },
     "metadata": {},
     "output_type": "display_data"
    }
   ],
   "source": [
    "plot_optimization_history(hypercube_study, target = lambda t: t.values[0], target_name = 'maf')"
   ]
  },
  {
   "cell_type": "code",
   "execution_count": 9,
   "metadata": {},
   "outputs": [
    {
     "data": {
      "application/vnd.plotly.v1+json": {
       "config": {
        "plotlyServerURL": "https://plot.ly"
       },
       "data": [
        {
         "mode": "markers",
         "name": "average_time",
         "type": "scatter",
         "x": [
          0,
          1,
          2,
          3,
          4,
          5,
          6,
          7,
          8,
          9,
          10,
          11,
          12,
          13,
          14,
          15,
          16,
          17,
          18,
          19,
          20,
          21,
          22,
          23,
          24,
          25,
          26,
          27,
          28,
          29,
          30,
          31,
          32,
          33,
          34,
          35,
          36,
          37,
          38,
          39,
          40,
          41,
          42,
          43,
          44,
          45,
          46,
          47,
          48,
          49
         ],
         "y": [
          0.0054666,
          0.0702306,
          0.0011132000000000002,
          0.0014605999999999998,
          0.0072838,
          0.008184499999999999,
          0.0210656,
          0.0013756,
          0.0007258000000000001,
          0.0005749,
          0.00044039999999999997,
          0.08372530000000002,
          0.06502309999999999,
          0.0007619,
          0.0009214,
          0.0010255000000000002,
          0.0248911,
          0.09235270000000001,
          0.08266860000000001,
          0.0011613,
          0.0256446,
          0.0018781,
          0.0006953,
          0.0017244000000000003,
          0.001493,
          0.0009441,
          0.009423999999999998,
          0.0012371,
          0.0017255,
          0.08478260000000001,
          0.0010017000000000001,
          0.0709628,
          0.007685900000000001,
          0.006983100000000001,
          0.0207769,
          0.0030407000000000003,
          0.002436,
          0.0160522,
          0.1031069,
          0.0038618,
          0.0004785000000000001,
          0.0009278,
          0.0004029,
          0.04768289999999999,
          0.0011896,
          0.099945,
          0.0014487000000000002,
          0.0022613,
          0.004064,
          0.010862
         ]
        },
        {
         "marker": {
          "color": "#cccccc"
         },
         "mode": "markers",
         "name": "Infeasible Trial",
         "showlegend": false,
         "type": "scatter",
         "x": [],
         "y": []
        }
       ],
       "layout": {
        "template": {
         "data": {
          "bar": [
           {
            "error_x": {
             "color": "#2a3f5f"
            },
            "error_y": {
             "color": "#2a3f5f"
            },
            "marker": {
             "line": {
              "color": "#E5ECF6",
              "width": 0.5
             },
             "pattern": {
              "fillmode": "overlay",
              "size": 10,
              "solidity": 0.2
             }
            },
            "type": "bar"
           }
          ],
          "barpolar": [
           {
            "marker": {
             "line": {
              "color": "#E5ECF6",
              "width": 0.5
             },
             "pattern": {
              "fillmode": "overlay",
              "size": 10,
              "solidity": 0.2
             }
            },
            "type": "barpolar"
           }
          ],
          "carpet": [
           {
            "aaxis": {
             "endlinecolor": "#2a3f5f",
             "gridcolor": "white",
             "linecolor": "white",
             "minorgridcolor": "white",
             "startlinecolor": "#2a3f5f"
            },
            "baxis": {
             "endlinecolor": "#2a3f5f",
             "gridcolor": "white",
             "linecolor": "white",
             "minorgridcolor": "white",
             "startlinecolor": "#2a3f5f"
            },
            "type": "carpet"
           }
          ],
          "choropleth": [
           {
            "colorbar": {
             "outlinewidth": 0,
             "ticks": ""
            },
            "type": "choropleth"
           }
          ],
          "contour": [
           {
            "colorbar": {
             "outlinewidth": 0,
             "ticks": ""
            },
            "colorscale": [
             [
              0,
              "#0d0887"
             ],
             [
              0.1111111111111111,
              "#46039f"
             ],
             [
              0.2222222222222222,
              "#7201a8"
             ],
             [
              0.3333333333333333,
              "#9c179e"
             ],
             [
              0.4444444444444444,
              "#bd3786"
             ],
             [
              0.5555555555555556,
              "#d8576b"
             ],
             [
              0.6666666666666666,
              "#ed7953"
             ],
             [
              0.7777777777777778,
              "#fb9f3a"
             ],
             [
              0.8888888888888888,
              "#fdca26"
             ],
             [
              1,
              "#f0f921"
             ]
            ],
            "type": "contour"
           }
          ],
          "contourcarpet": [
           {
            "colorbar": {
             "outlinewidth": 0,
             "ticks": ""
            },
            "type": "contourcarpet"
           }
          ],
          "heatmap": [
           {
            "colorbar": {
             "outlinewidth": 0,
             "ticks": ""
            },
            "colorscale": [
             [
              0,
              "#0d0887"
             ],
             [
              0.1111111111111111,
              "#46039f"
             ],
             [
              0.2222222222222222,
              "#7201a8"
             ],
             [
              0.3333333333333333,
              "#9c179e"
             ],
             [
              0.4444444444444444,
              "#bd3786"
             ],
             [
              0.5555555555555556,
              "#d8576b"
             ],
             [
              0.6666666666666666,
              "#ed7953"
             ],
             [
              0.7777777777777778,
              "#fb9f3a"
             ],
             [
              0.8888888888888888,
              "#fdca26"
             ],
             [
              1,
              "#f0f921"
             ]
            ],
            "type": "heatmap"
           }
          ],
          "heatmapgl": [
           {
            "colorbar": {
             "outlinewidth": 0,
             "ticks": ""
            },
            "colorscale": [
             [
              0,
              "#0d0887"
             ],
             [
              0.1111111111111111,
              "#46039f"
             ],
             [
              0.2222222222222222,
              "#7201a8"
             ],
             [
              0.3333333333333333,
              "#9c179e"
             ],
             [
              0.4444444444444444,
              "#bd3786"
             ],
             [
              0.5555555555555556,
              "#d8576b"
             ],
             [
              0.6666666666666666,
              "#ed7953"
             ],
             [
              0.7777777777777778,
              "#fb9f3a"
             ],
             [
              0.8888888888888888,
              "#fdca26"
             ],
             [
              1,
              "#f0f921"
             ]
            ],
            "type": "heatmapgl"
           }
          ],
          "histogram": [
           {
            "marker": {
             "pattern": {
              "fillmode": "overlay",
              "size": 10,
              "solidity": 0.2
             }
            },
            "type": "histogram"
           }
          ],
          "histogram2d": [
           {
            "colorbar": {
             "outlinewidth": 0,
             "ticks": ""
            },
            "colorscale": [
             [
              0,
              "#0d0887"
             ],
             [
              0.1111111111111111,
              "#46039f"
             ],
             [
              0.2222222222222222,
              "#7201a8"
             ],
             [
              0.3333333333333333,
              "#9c179e"
             ],
             [
              0.4444444444444444,
              "#bd3786"
             ],
             [
              0.5555555555555556,
              "#d8576b"
             ],
             [
              0.6666666666666666,
              "#ed7953"
             ],
             [
              0.7777777777777778,
              "#fb9f3a"
             ],
             [
              0.8888888888888888,
              "#fdca26"
             ],
             [
              1,
              "#f0f921"
             ]
            ],
            "type": "histogram2d"
           }
          ],
          "histogram2dcontour": [
           {
            "colorbar": {
             "outlinewidth": 0,
             "ticks": ""
            },
            "colorscale": [
             [
              0,
              "#0d0887"
             ],
             [
              0.1111111111111111,
              "#46039f"
             ],
             [
              0.2222222222222222,
              "#7201a8"
             ],
             [
              0.3333333333333333,
              "#9c179e"
             ],
             [
              0.4444444444444444,
              "#bd3786"
             ],
             [
              0.5555555555555556,
              "#d8576b"
             ],
             [
              0.6666666666666666,
              "#ed7953"
             ],
             [
              0.7777777777777778,
              "#fb9f3a"
             ],
             [
              0.8888888888888888,
              "#fdca26"
             ],
             [
              1,
              "#f0f921"
             ]
            ],
            "type": "histogram2dcontour"
           }
          ],
          "mesh3d": [
           {
            "colorbar": {
             "outlinewidth": 0,
             "ticks": ""
            },
            "type": "mesh3d"
           }
          ],
          "parcoords": [
           {
            "line": {
             "colorbar": {
              "outlinewidth": 0,
              "ticks": ""
             }
            },
            "type": "parcoords"
           }
          ],
          "pie": [
           {
            "automargin": true,
            "type": "pie"
           }
          ],
          "scatter": [
           {
            "fillpattern": {
             "fillmode": "overlay",
             "size": 10,
             "solidity": 0.2
            },
            "type": "scatter"
           }
          ],
          "scatter3d": [
           {
            "line": {
             "colorbar": {
              "outlinewidth": 0,
              "ticks": ""
             }
            },
            "marker": {
             "colorbar": {
              "outlinewidth": 0,
              "ticks": ""
             }
            },
            "type": "scatter3d"
           }
          ],
          "scattercarpet": [
           {
            "marker": {
             "colorbar": {
              "outlinewidth": 0,
              "ticks": ""
             }
            },
            "type": "scattercarpet"
           }
          ],
          "scattergeo": [
           {
            "marker": {
             "colorbar": {
              "outlinewidth": 0,
              "ticks": ""
             }
            },
            "type": "scattergeo"
           }
          ],
          "scattergl": [
           {
            "marker": {
             "colorbar": {
              "outlinewidth": 0,
              "ticks": ""
             }
            },
            "type": "scattergl"
           }
          ],
          "scattermapbox": [
           {
            "marker": {
             "colorbar": {
              "outlinewidth": 0,
              "ticks": ""
             }
            },
            "type": "scattermapbox"
           }
          ],
          "scatterpolar": [
           {
            "marker": {
             "colorbar": {
              "outlinewidth": 0,
              "ticks": ""
             }
            },
            "type": "scatterpolar"
           }
          ],
          "scatterpolargl": [
           {
            "marker": {
             "colorbar": {
              "outlinewidth": 0,
              "ticks": ""
             }
            },
            "type": "scatterpolargl"
           }
          ],
          "scatterternary": [
           {
            "marker": {
             "colorbar": {
              "outlinewidth": 0,
              "ticks": ""
             }
            },
            "type": "scatterternary"
           }
          ],
          "surface": [
           {
            "colorbar": {
             "outlinewidth": 0,
             "ticks": ""
            },
            "colorscale": [
             [
              0,
              "#0d0887"
             ],
             [
              0.1111111111111111,
              "#46039f"
             ],
             [
              0.2222222222222222,
              "#7201a8"
             ],
             [
              0.3333333333333333,
              "#9c179e"
             ],
             [
              0.4444444444444444,
              "#bd3786"
             ],
             [
              0.5555555555555556,
              "#d8576b"
             ],
             [
              0.6666666666666666,
              "#ed7953"
             ],
             [
              0.7777777777777778,
              "#fb9f3a"
             ],
             [
              0.8888888888888888,
              "#fdca26"
             ],
             [
              1,
              "#f0f921"
             ]
            ],
            "type": "surface"
           }
          ],
          "table": [
           {
            "cells": {
             "fill": {
              "color": "#EBF0F8"
             },
             "line": {
              "color": "white"
             }
            },
            "header": {
             "fill": {
              "color": "#C8D4E3"
             },
             "line": {
              "color": "white"
             }
            },
            "type": "table"
           }
          ]
         },
         "layout": {
          "annotationdefaults": {
           "arrowcolor": "#2a3f5f",
           "arrowhead": 0,
           "arrowwidth": 1
          },
          "autotypenumbers": "strict",
          "coloraxis": {
           "colorbar": {
            "outlinewidth": 0,
            "ticks": ""
           }
          },
          "colorscale": {
           "diverging": [
            [
             0,
             "#8e0152"
            ],
            [
             0.1,
             "#c51b7d"
            ],
            [
             0.2,
             "#de77ae"
            ],
            [
             0.3,
             "#f1b6da"
            ],
            [
             0.4,
             "#fde0ef"
            ],
            [
             0.5,
             "#f7f7f7"
            ],
            [
             0.6,
             "#e6f5d0"
            ],
            [
             0.7,
             "#b8e186"
            ],
            [
             0.8,
             "#7fbc41"
            ],
            [
             0.9,
             "#4d9221"
            ],
            [
             1,
             "#276419"
            ]
           ],
           "sequential": [
            [
             0,
             "#0d0887"
            ],
            [
             0.1111111111111111,
             "#46039f"
            ],
            [
             0.2222222222222222,
             "#7201a8"
            ],
            [
             0.3333333333333333,
             "#9c179e"
            ],
            [
             0.4444444444444444,
             "#bd3786"
            ],
            [
             0.5555555555555556,
             "#d8576b"
            ],
            [
             0.6666666666666666,
             "#ed7953"
            ],
            [
             0.7777777777777778,
             "#fb9f3a"
            ],
            [
             0.8888888888888888,
             "#fdca26"
            ],
            [
             1,
             "#f0f921"
            ]
           ],
           "sequentialminus": [
            [
             0,
             "#0d0887"
            ],
            [
             0.1111111111111111,
             "#46039f"
            ],
            [
             0.2222222222222222,
             "#7201a8"
            ],
            [
             0.3333333333333333,
             "#9c179e"
            ],
            [
             0.4444444444444444,
             "#bd3786"
            ],
            [
             0.5555555555555556,
             "#d8576b"
            ],
            [
             0.6666666666666666,
             "#ed7953"
            ],
            [
             0.7777777777777778,
             "#fb9f3a"
            ],
            [
             0.8888888888888888,
             "#fdca26"
            ],
            [
             1,
             "#f0f921"
            ]
           ]
          },
          "colorway": [
           "#636efa",
           "#EF553B",
           "#00cc96",
           "#ab63fa",
           "#FFA15A",
           "#19d3f3",
           "#FF6692",
           "#B6E880",
           "#FF97FF",
           "#FECB52"
          ],
          "font": {
           "color": "#2a3f5f"
          },
          "geo": {
           "bgcolor": "white",
           "lakecolor": "white",
           "landcolor": "#E5ECF6",
           "showlakes": true,
           "showland": true,
           "subunitcolor": "white"
          },
          "hoverlabel": {
           "align": "left"
          },
          "hovermode": "closest",
          "mapbox": {
           "style": "light"
          },
          "paper_bgcolor": "white",
          "plot_bgcolor": "#E5ECF6",
          "polar": {
           "angularaxis": {
            "gridcolor": "white",
            "linecolor": "white",
            "ticks": ""
           },
           "bgcolor": "#E5ECF6",
           "radialaxis": {
            "gridcolor": "white",
            "linecolor": "white",
            "ticks": ""
           }
          },
          "scene": {
           "xaxis": {
            "backgroundcolor": "#E5ECF6",
            "gridcolor": "white",
            "gridwidth": 2,
            "linecolor": "white",
            "showbackground": true,
            "ticks": "",
            "zerolinecolor": "white"
           },
           "yaxis": {
            "backgroundcolor": "#E5ECF6",
            "gridcolor": "white",
            "gridwidth": 2,
            "linecolor": "white",
            "showbackground": true,
            "ticks": "",
            "zerolinecolor": "white"
           },
           "zaxis": {
            "backgroundcolor": "#E5ECF6",
            "gridcolor": "white",
            "gridwidth": 2,
            "linecolor": "white",
            "showbackground": true,
            "ticks": "",
            "zerolinecolor": "white"
           }
          },
          "shapedefaults": {
           "line": {
            "color": "#2a3f5f"
           }
          },
          "ternary": {
           "aaxis": {
            "gridcolor": "white",
            "linecolor": "white",
            "ticks": ""
           },
           "baxis": {
            "gridcolor": "white",
            "linecolor": "white",
            "ticks": ""
           },
           "bgcolor": "#E5ECF6",
           "caxis": {
            "gridcolor": "white",
            "linecolor": "white",
            "ticks": ""
           }
          },
          "title": {
           "x": 0.05
          },
          "xaxis": {
           "automargin": true,
           "gridcolor": "white",
           "linecolor": "white",
           "ticks": "",
           "title": {
            "standoff": 15
           },
           "zerolinecolor": "white",
           "zerolinewidth": 2
          },
          "yaxis": {
           "automargin": true,
           "gridcolor": "white",
           "linecolor": "white",
           "ticks": "",
           "title": {
            "standoff": 15
           },
           "zerolinecolor": "white",
           "zerolinewidth": 2
          }
         }
        },
        "title": {
         "text": "Optimization History Plot"
        },
        "xaxis": {
         "title": {
          "text": "Trial"
         }
        },
        "yaxis": {
         "title": {
          "text": "average_time"
         }
        }
       }
      }
     },
     "metadata": {},
     "output_type": "display_data"
    }
   ],
   "source": [
    "plot_optimization_history(hypercube_study, target = lambda t: t.values[1], target_name = 'average_time')"
   ]
  },
  {
   "cell_type": "code",
   "execution_count": 10,
   "metadata": {},
   "outputs": [
    {
     "data": {
      "application/vnd.plotly.v1+json": {
       "config": {
        "plotlyServerURL": "https://plot.ly"
       },
       "data": [
        {
         "marker": {
          "color": [
           0,
           1,
           2,
           3,
           4,
           5,
           6,
           7,
           8,
           9,
           10,
           11,
           12,
           13,
           14,
           15,
           16,
           17,
           18,
           19,
           20,
           21,
           22,
           23,
           24,
           25,
           26,
           27,
           28,
           29,
           30,
           31,
           32,
           33,
           34,
           35,
           36,
           37,
           38,
           39,
           40,
           41,
           42,
           43,
           44,
           45,
           46,
           47,
           48,
           49
          ],
          "colorbar": {
           "title": {
            "text": "Trial"
           },
           "x": 1,
           "xpad": 40
          },
          "colorscale": [
           [
            0,
            "rgb(247,251,255)"
           ],
           [
            0.125,
            "rgb(222,235,247)"
           ],
           [
            0.25,
            "rgb(198,219,239)"
           ],
           [
            0.375,
            "rgb(158,202,225)"
           ],
           [
            0.5,
            "rgb(107,174,214)"
           ],
           [
            0.625,
            "rgb(66,146,198)"
           ],
           [
            0.75,
            "rgb(33,113,181)"
           ],
           [
            0.875,
            "rgb(8,81,156)"
           ],
           [
            1,
            "rgb(8,48,107)"
           ]
          ],
          "line": {
           "color": "Grey",
           "width": 0.5
          },
          "showscale": true
         },
         "mode": "markers",
         "name": "Feasible Trial",
         "showlegend": false,
         "type": "scatter",
         "x": [
          3181,
          1684,
          4056,
          3130,
          25,
          852,
          1551,
          264,
          636,
          66,
          2748,
          2772,
          4983,
          3458,
          1966,
          460,
          1407,
          4453,
          3073,
          24,
          1540,
          3947,
          3099,
          1414,
          2943,
          127,
          2362,
          4412,
          942,
          733,
          3132,
          3958,
          1672,
          4968,
          4624,
          2216,
          2095,
          1689,
          4500,
          2924,
          2575,
          24,
          4957,
          732,
          4351,
          3494,
          1530,
          3260,
          2756,
          1699
         ],
         "xaxis": "x",
         "y": [
          1.9820858777568677,
          1.7737250814991719,
          2.5395984074472704,
          1.8083326113265408,
          1.752688660258667,
          1.7985897656818197,
          1.4322010253695117,
          1.7916286942867166,
          1.8403353729480714,
          1.9332440185941568,
          2.381787456413473,
          1.4931837310582181,
          1.7515089323386144,
          1.8480215745938111,
          1.780159117933763,
          1.9185473220696934,
          1.8983355548347576,
          1.2138728669424221,
          1.432066949046283,
          1.7008422594541597,
          1.433949666368659,
          1.7479305902294213,
          1.8083326113265408,
          1.65249975838885,
          1.3877293557617412,
          2.5395984074472704,
          1.5324523419170595,
          2.6798375748725642,
          1.6600460654074185,
          1.5784707563781106,
          1.815838589777603,
          1.4037587023157931,
          1.6430260793612481,
          1.8829153239193481,
          1.712759557150828,
          1.482006611552869,
          1.5056455023888717,
          1.7980922283138767,
          1.4938208735559628,
          1.411292625588669,
          2.6813315150306347,
          2.402988384368219,
          2.633067072700275,
          1.4815507560538244,
          1.621818005658229,
          1.4259423703847074,
          1.6878746444665818,
          1.6058316314503709,
          1.5266650041139054,
          1.4115338545030527
         ],
         "yaxis": "y"
        },
        {
         "marker": {
          "color": [
           0,
           1,
           2,
           3,
           4,
           5,
           6,
           7,
           8,
           9,
           10,
           11,
           12,
           13,
           14,
           15,
           16,
           17,
           18,
           19,
           20,
           21,
           22,
           23,
           24,
           25,
           26,
           27,
           28,
           29,
           30,
           31,
           32,
           33,
           34,
           35,
           36,
           37,
           38,
           39,
           40,
           41,
           42,
           43,
           44,
           45,
           46,
           47,
           48,
           49
          ],
          "colorbar": {
           "title": {
            "text": "Trial"
           },
           "x": 1,
           "xpad": 40
          },
          "colorscale": [
           [
            0,
            "rgb(247,251,255)"
           ],
           [
            0.125,
            "rgb(222,235,247)"
           ],
           [
            0.25,
            "rgb(198,219,239)"
           ],
           [
            0.375,
            "rgb(158,202,225)"
           ],
           [
            0.5,
            "rgb(107,174,214)"
           ],
           [
            0.625,
            "rgb(66,146,198)"
           ],
           [
            0.75,
            "rgb(33,113,181)"
           ],
           [
            0.875,
            "rgb(8,81,156)"
           ],
           [
            1,
            "rgb(8,48,107)"
           ]
          ],
          "line": {
           "color": "Grey",
           "width": 0.5
          },
          "showscale": false
         },
         "mode": "markers",
         "name": "Feasible Trial",
         "showlegend": false,
         "type": "scatter",
         "x": [
          15,
          28,
          3,
          4,
          16,
          15,
          18,
          5,
          8,
          4,
          8,
          28,
          24,
          11,
          4,
          4,
          23,
          26,
          29,
          2,
          22,
          12,
          4,
          12,
          9,
          2,
          19,
          6,
          8,
          30,
          12,
          23,
          17,
          17,
          18,
          14,
          11,
          21,
          28,
          15,
          2,
          4,
          5,
          23,
          8,
          29,
          8,
          12,
          15,
          16
         ],
         "xaxis": "x2",
         "y": [
          1.9820858777568677,
          1.7737250814991719,
          2.5395984074472704,
          1.8083326113265408,
          1.752688660258667,
          1.7985897656818197,
          1.4322010253695117,
          1.7916286942867166,
          1.8403353729480714,
          1.9332440185941568,
          2.381787456413473,
          1.4931837310582181,
          1.7515089323386144,
          1.8480215745938111,
          1.780159117933763,
          1.9185473220696934,
          1.8983355548347576,
          1.2138728669424221,
          1.432066949046283,
          1.7008422594541597,
          1.433949666368659,
          1.7479305902294213,
          1.8083326113265408,
          1.65249975838885,
          1.3877293557617412,
          2.5395984074472704,
          1.5324523419170595,
          2.6798375748725642,
          1.6600460654074185,
          1.5784707563781106,
          1.815838589777603,
          1.4037587023157931,
          1.6430260793612481,
          1.8829153239193481,
          1.712759557150828,
          1.482006611552869,
          1.5056455023888717,
          1.7980922283138767,
          1.4938208735559628,
          1.411292625588669,
          2.6813315150306347,
          2.402988384368219,
          2.633067072700275,
          1.4815507560538244,
          1.621818005658229,
          1.4259423703847074,
          1.6878746444665818,
          1.6058316314503709,
          1.5266650041139054,
          1.4115338545030527
         ],
         "yaxis": "y2"
        },
        {
         "marker": {
          "color": [
           0,
           1,
           2,
           3,
           4,
           5,
           6,
           7,
           8,
           9,
           10,
           11,
           12,
           13,
           14,
           15,
           16,
           17,
           18,
           19,
           20,
           21,
           22,
           23,
           24,
           25,
           26,
           27,
           28,
           29,
           30,
           31,
           32,
           33,
           34,
           35,
           36,
           37,
           38,
           39,
           40,
           41,
           42,
           43,
           44,
           45,
           46,
           47,
           48,
           49
          ],
          "colorbar": {
           "title": {
            "text": "Trial"
           },
           "x": 1,
           "xpad": 40
          },
          "colorscale": [
           [
            0,
            "rgb(247,251,255)"
           ],
           [
            0.125,
            "rgb(222,235,247)"
           ],
           [
            0.25,
            "rgb(198,219,239)"
           ],
           [
            0.375,
            "rgb(158,202,225)"
           ],
           [
            0.5,
            "rgb(107,174,214)"
           ],
           [
            0.625,
            "rgb(66,146,198)"
           ],
           [
            0.75,
            "rgb(33,113,181)"
           ],
           [
            0.875,
            "rgb(8,81,156)"
           ],
           [
            1,
            "rgb(8,48,107)"
           ]
          ],
          "line": {
           "color": "Grey",
           "width": 0.5
          },
          "showscale": false
         },
         "mode": "markers",
         "name": "Feasible Trial",
         "showlegend": false,
         "type": "scatter",
         "x": [
          31,
          200,
          665,
          921,
          750,
          802,
          836,
          853,
          307,
          305,
          124,
          533,
          362,
          80,
          570,
          683,
          103,
          980,
          598,
          804,
          678,
          203,
          359,
          509,
          740,
          560,
          424,
          750,
          954,
          305,
          223,
          464,
          307,
          156,
          366,
          196,
          840,
          191,
          758,
          653,
          200,
          519,
          140,
          947,
          679,
          682,
          815,
          914,
          230,
          847
         ],
         "xaxis": "x3",
         "y": [
          1.9820858777568677,
          1.7737250814991719,
          2.5395984074472704,
          1.8083326113265408,
          1.752688660258667,
          1.7985897656818197,
          1.4322010253695117,
          1.7916286942867166,
          1.8403353729480714,
          1.9332440185941568,
          2.381787456413473,
          1.4931837310582181,
          1.7515089323386144,
          1.8480215745938111,
          1.780159117933763,
          1.9185473220696934,
          1.8983355548347576,
          1.2138728669424221,
          1.432066949046283,
          1.7008422594541597,
          1.433949666368659,
          1.7479305902294213,
          1.8083326113265408,
          1.65249975838885,
          1.3877293557617412,
          2.5395984074472704,
          1.5324523419170595,
          2.6798375748725642,
          1.6600460654074185,
          1.5784707563781106,
          1.815838589777603,
          1.4037587023157931,
          1.6430260793612481,
          1.8829153239193481,
          1.712759557150828,
          1.482006611552869,
          1.5056455023888717,
          1.7980922283138767,
          1.4938208735559628,
          1.411292625588669,
          2.6813315150306347,
          2.402988384368219,
          2.633067072700275,
          1.4815507560538244,
          1.621818005658229,
          1.4259423703847074,
          1.6878746444665818,
          1.6058316314503709,
          1.5266650041139054,
          1.4115338545030527
         ],
         "yaxis": "y3"
        }
       ],
       "layout": {
        "template": {
         "data": {
          "bar": [
           {
            "error_x": {
             "color": "#2a3f5f"
            },
            "error_y": {
             "color": "#2a3f5f"
            },
            "marker": {
             "line": {
              "color": "#E5ECF6",
              "width": 0.5
             },
             "pattern": {
              "fillmode": "overlay",
              "size": 10,
              "solidity": 0.2
             }
            },
            "type": "bar"
           }
          ],
          "barpolar": [
           {
            "marker": {
             "line": {
              "color": "#E5ECF6",
              "width": 0.5
             },
             "pattern": {
              "fillmode": "overlay",
              "size": 10,
              "solidity": 0.2
             }
            },
            "type": "barpolar"
           }
          ],
          "carpet": [
           {
            "aaxis": {
             "endlinecolor": "#2a3f5f",
             "gridcolor": "white",
             "linecolor": "white",
             "minorgridcolor": "white",
             "startlinecolor": "#2a3f5f"
            },
            "baxis": {
             "endlinecolor": "#2a3f5f",
             "gridcolor": "white",
             "linecolor": "white",
             "minorgridcolor": "white",
             "startlinecolor": "#2a3f5f"
            },
            "type": "carpet"
           }
          ],
          "choropleth": [
           {
            "colorbar": {
             "outlinewidth": 0,
             "ticks": ""
            },
            "type": "choropleth"
           }
          ],
          "contour": [
           {
            "colorbar": {
             "outlinewidth": 0,
             "ticks": ""
            },
            "colorscale": [
             [
              0,
              "#0d0887"
             ],
             [
              0.1111111111111111,
              "#46039f"
             ],
             [
              0.2222222222222222,
              "#7201a8"
             ],
             [
              0.3333333333333333,
              "#9c179e"
             ],
             [
              0.4444444444444444,
              "#bd3786"
             ],
             [
              0.5555555555555556,
              "#d8576b"
             ],
             [
              0.6666666666666666,
              "#ed7953"
             ],
             [
              0.7777777777777778,
              "#fb9f3a"
             ],
             [
              0.8888888888888888,
              "#fdca26"
             ],
             [
              1,
              "#f0f921"
             ]
            ],
            "type": "contour"
           }
          ],
          "contourcarpet": [
           {
            "colorbar": {
             "outlinewidth": 0,
             "ticks": ""
            },
            "type": "contourcarpet"
           }
          ],
          "heatmap": [
           {
            "colorbar": {
             "outlinewidth": 0,
             "ticks": ""
            },
            "colorscale": [
             [
              0,
              "#0d0887"
             ],
             [
              0.1111111111111111,
              "#46039f"
             ],
             [
              0.2222222222222222,
              "#7201a8"
             ],
             [
              0.3333333333333333,
              "#9c179e"
             ],
             [
              0.4444444444444444,
              "#bd3786"
             ],
             [
              0.5555555555555556,
              "#d8576b"
             ],
             [
              0.6666666666666666,
              "#ed7953"
             ],
             [
              0.7777777777777778,
              "#fb9f3a"
             ],
             [
              0.8888888888888888,
              "#fdca26"
             ],
             [
              1,
              "#f0f921"
             ]
            ],
            "type": "heatmap"
           }
          ],
          "heatmapgl": [
           {
            "colorbar": {
             "outlinewidth": 0,
             "ticks": ""
            },
            "colorscale": [
             [
              0,
              "#0d0887"
             ],
             [
              0.1111111111111111,
              "#46039f"
             ],
             [
              0.2222222222222222,
              "#7201a8"
             ],
             [
              0.3333333333333333,
              "#9c179e"
             ],
             [
              0.4444444444444444,
              "#bd3786"
             ],
             [
              0.5555555555555556,
              "#d8576b"
             ],
             [
              0.6666666666666666,
              "#ed7953"
             ],
             [
              0.7777777777777778,
              "#fb9f3a"
             ],
             [
              0.8888888888888888,
              "#fdca26"
             ],
             [
              1,
              "#f0f921"
             ]
            ],
            "type": "heatmapgl"
           }
          ],
          "histogram": [
           {
            "marker": {
             "pattern": {
              "fillmode": "overlay",
              "size": 10,
              "solidity": 0.2
             }
            },
            "type": "histogram"
           }
          ],
          "histogram2d": [
           {
            "colorbar": {
             "outlinewidth": 0,
             "ticks": ""
            },
            "colorscale": [
             [
              0,
              "#0d0887"
             ],
             [
              0.1111111111111111,
              "#46039f"
             ],
             [
              0.2222222222222222,
              "#7201a8"
             ],
             [
              0.3333333333333333,
              "#9c179e"
             ],
             [
              0.4444444444444444,
              "#bd3786"
             ],
             [
              0.5555555555555556,
              "#d8576b"
             ],
             [
              0.6666666666666666,
              "#ed7953"
             ],
             [
              0.7777777777777778,
              "#fb9f3a"
             ],
             [
              0.8888888888888888,
              "#fdca26"
             ],
             [
              1,
              "#f0f921"
             ]
            ],
            "type": "histogram2d"
           }
          ],
          "histogram2dcontour": [
           {
            "colorbar": {
             "outlinewidth": 0,
             "ticks": ""
            },
            "colorscale": [
             [
              0,
              "#0d0887"
             ],
             [
              0.1111111111111111,
              "#46039f"
             ],
             [
              0.2222222222222222,
              "#7201a8"
             ],
             [
              0.3333333333333333,
              "#9c179e"
             ],
             [
              0.4444444444444444,
              "#bd3786"
             ],
             [
              0.5555555555555556,
              "#d8576b"
             ],
             [
              0.6666666666666666,
              "#ed7953"
             ],
             [
              0.7777777777777778,
              "#fb9f3a"
             ],
             [
              0.8888888888888888,
              "#fdca26"
             ],
             [
              1,
              "#f0f921"
             ]
            ],
            "type": "histogram2dcontour"
           }
          ],
          "mesh3d": [
           {
            "colorbar": {
             "outlinewidth": 0,
             "ticks": ""
            },
            "type": "mesh3d"
           }
          ],
          "parcoords": [
           {
            "line": {
             "colorbar": {
              "outlinewidth": 0,
              "ticks": ""
             }
            },
            "type": "parcoords"
           }
          ],
          "pie": [
           {
            "automargin": true,
            "type": "pie"
           }
          ],
          "scatter": [
           {
            "fillpattern": {
             "fillmode": "overlay",
             "size": 10,
             "solidity": 0.2
            },
            "type": "scatter"
           }
          ],
          "scatter3d": [
           {
            "line": {
             "colorbar": {
              "outlinewidth": 0,
              "ticks": ""
             }
            },
            "marker": {
             "colorbar": {
              "outlinewidth": 0,
              "ticks": ""
             }
            },
            "type": "scatter3d"
           }
          ],
          "scattercarpet": [
           {
            "marker": {
             "colorbar": {
              "outlinewidth": 0,
              "ticks": ""
             }
            },
            "type": "scattercarpet"
           }
          ],
          "scattergeo": [
           {
            "marker": {
             "colorbar": {
              "outlinewidth": 0,
              "ticks": ""
             }
            },
            "type": "scattergeo"
           }
          ],
          "scattergl": [
           {
            "marker": {
             "colorbar": {
              "outlinewidth": 0,
              "ticks": ""
             }
            },
            "type": "scattergl"
           }
          ],
          "scattermapbox": [
           {
            "marker": {
             "colorbar": {
              "outlinewidth": 0,
              "ticks": ""
             }
            },
            "type": "scattermapbox"
           }
          ],
          "scatterpolar": [
           {
            "marker": {
             "colorbar": {
              "outlinewidth": 0,
              "ticks": ""
             }
            },
            "type": "scatterpolar"
           }
          ],
          "scatterpolargl": [
           {
            "marker": {
             "colorbar": {
              "outlinewidth": 0,
              "ticks": ""
             }
            },
            "type": "scatterpolargl"
           }
          ],
          "scatterternary": [
           {
            "marker": {
             "colorbar": {
              "outlinewidth": 0,
              "ticks": ""
             }
            },
            "type": "scatterternary"
           }
          ],
          "surface": [
           {
            "colorbar": {
             "outlinewidth": 0,
             "ticks": ""
            },
            "colorscale": [
             [
              0,
              "#0d0887"
             ],
             [
              0.1111111111111111,
              "#46039f"
             ],
             [
              0.2222222222222222,
              "#7201a8"
             ],
             [
              0.3333333333333333,
              "#9c179e"
             ],
             [
              0.4444444444444444,
              "#bd3786"
             ],
             [
              0.5555555555555556,
              "#d8576b"
             ],
             [
              0.6666666666666666,
              "#ed7953"
             ],
             [
              0.7777777777777778,
              "#fb9f3a"
             ],
             [
              0.8888888888888888,
              "#fdca26"
             ],
             [
              1,
              "#f0f921"
             ]
            ],
            "type": "surface"
           }
          ],
          "table": [
           {
            "cells": {
             "fill": {
              "color": "#EBF0F8"
             },
             "line": {
              "color": "white"
             }
            },
            "header": {
             "fill": {
              "color": "#C8D4E3"
             },
             "line": {
              "color": "white"
             }
            },
            "type": "table"
           }
          ]
         },
         "layout": {
          "annotationdefaults": {
           "arrowcolor": "#2a3f5f",
           "arrowhead": 0,
           "arrowwidth": 1
          },
          "autotypenumbers": "strict",
          "coloraxis": {
           "colorbar": {
            "outlinewidth": 0,
            "ticks": ""
           }
          },
          "colorscale": {
           "diverging": [
            [
             0,
             "#8e0152"
            ],
            [
             0.1,
             "#c51b7d"
            ],
            [
             0.2,
             "#de77ae"
            ],
            [
             0.3,
             "#f1b6da"
            ],
            [
             0.4,
             "#fde0ef"
            ],
            [
             0.5,
             "#f7f7f7"
            ],
            [
             0.6,
             "#e6f5d0"
            ],
            [
             0.7,
             "#b8e186"
            ],
            [
             0.8,
             "#7fbc41"
            ],
            [
             0.9,
             "#4d9221"
            ],
            [
             1,
             "#276419"
            ]
           ],
           "sequential": [
            [
             0,
             "#0d0887"
            ],
            [
             0.1111111111111111,
             "#46039f"
            ],
            [
             0.2222222222222222,
             "#7201a8"
            ],
            [
             0.3333333333333333,
             "#9c179e"
            ],
            [
             0.4444444444444444,
             "#bd3786"
            ],
            [
             0.5555555555555556,
             "#d8576b"
            ],
            [
             0.6666666666666666,
             "#ed7953"
            ],
            [
             0.7777777777777778,
             "#fb9f3a"
            ],
            [
             0.8888888888888888,
             "#fdca26"
            ],
            [
             1,
             "#f0f921"
            ]
           ],
           "sequentialminus": [
            [
             0,
             "#0d0887"
            ],
            [
             0.1111111111111111,
             "#46039f"
            ],
            [
             0.2222222222222222,
             "#7201a8"
            ],
            [
             0.3333333333333333,
             "#9c179e"
            ],
            [
             0.4444444444444444,
             "#bd3786"
            ],
            [
             0.5555555555555556,
             "#d8576b"
            ],
            [
             0.6666666666666666,
             "#ed7953"
            ],
            [
             0.7777777777777778,
             "#fb9f3a"
            ],
            [
             0.8888888888888888,
             "#fdca26"
            ],
            [
             1,
             "#f0f921"
            ]
           ]
          },
          "colorway": [
           "#636efa",
           "#EF553B",
           "#00cc96",
           "#ab63fa",
           "#FFA15A",
           "#19d3f3",
           "#FF6692",
           "#B6E880",
           "#FF97FF",
           "#FECB52"
          ],
          "font": {
           "color": "#2a3f5f"
          },
          "geo": {
           "bgcolor": "white",
           "lakecolor": "white",
           "landcolor": "#E5ECF6",
           "showlakes": true,
           "showland": true,
           "subunitcolor": "white"
          },
          "hoverlabel": {
           "align": "left"
          },
          "hovermode": "closest",
          "mapbox": {
           "style": "light"
          },
          "paper_bgcolor": "white",
          "plot_bgcolor": "#E5ECF6",
          "polar": {
           "angularaxis": {
            "gridcolor": "white",
            "linecolor": "white",
            "ticks": ""
           },
           "bgcolor": "#E5ECF6",
           "radialaxis": {
            "gridcolor": "white",
            "linecolor": "white",
            "ticks": ""
           }
          },
          "scene": {
           "xaxis": {
            "backgroundcolor": "#E5ECF6",
            "gridcolor": "white",
            "gridwidth": 2,
            "linecolor": "white",
            "showbackground": true,
            "ticks": "",
            "zerolinecolor": "white"
           },
           "yaxis": {
            "backgroundcolor": "#E5ECF6",
            "gridcolor": "white",
            "gridwidth": 2,
            "linecolor": "white",
            "showbackground": true,
            "ticks": "",
            "zerolinecolor": "white"
           },
           "zaxis": {
            "backgroundcolor": "#E5ECF6",
            "gridcolor": "white",
            "gridwidth": 2,
            "linecolor": "white",
            "showbackground": true,
            "ticks": "",
            "zerolinecolor": "white"
           }
          },
          "shapedefaults": {
           "line": {
            "color": "#2a3f5f"
           }
          },
          "ternary": {
           "aaxis": {
            "gridcolor": "white",
            "linecolor": "white",
            "ticks": ""
           },
           "baxis": {
            "gridcolor": "white",
            "linecolor": "white",
            "ticks": ""
           },
           "bgcolor": "#E5ECF6",
           "caxis": {
            "gridcolor": "white",
            "linecolor": "white",
            "ticks": ""
           }
          },
          "title": {
           "x": 0.05
          },
          "xaxis": {
           "automargin": true,
           "gridcolor": "white",
           "linecolor": "white",
           "ticks": "",
           "title": {
            "standoff": 15
           },
           "zerolinecolor": "white",
           "zerolinewidth": 2
          },
          "yaxis": {
           "automargin": true,
           "gridcolor": "white",
           "linecolor": "white",
           "ticks": "",
           "title": {
            "standoff": 15
           },
           "zerolinecolor": "white",
           "zerolinewidth": 2
          }
         }
        },
        "title": {
         "text": "Slice Plot"
        },
        "xaxis": {
         "anchor": "y",
         "domain": [
          0,
          0.2888888888888889
         ],
         "title": {
          "text": "M"
         }
        },
        "xaxis2": {
         "anchor": "y2",
         "domain": [
          0.35555555555555557,
          0.6444444444444445
         ],
         "title": {
          "text": "k"
         }
        },
        "xaxis3": {
         "anchor": "y3",
         "domain": [
          0.7111111111111111,
          1
         ],
         "title": {
          "text": "probes"
         }
        },
        "yaxis": {
         "anchor": "x",
         "domain": [
          0,
          1
         ],
         "title": {
          "text": "maf"
         }
        },
        "yaxis2": {
         "anchor": "x2",
         "domain": [
          0,
          1
         ],
         "matches": "y",
         "showticklabels": false
        },
        "yaxis3": {
         "anchor": "x3",
         "domain": [
          0,
          1
         ],
         "matches": "y",
         "showticklabels": false
        }
       }
      }
     },
     "metadata": {},
     "output_type": "display_data"
    }
   ],
   "source": [
    "plot_slice(hypercube_study, target = lambda t: t.values[0], target_name = 'maf')"
   ]
  },
  {
   "cell_type": "code",
   "execution_count": 11,
   "metadata": {},
   "outputs": [
    {
     "data": {
      "application/vnd.plotly.v1+json": {
       "config": {
        "plotlyServerURL": "https://plot.ly"
       },
       "data": [
        {
         "marker": {
          "color": [
           0,
           1,
           2,
           3,
           4,
           5,
           6,
           7,
           8,
           9,
           10,
           11,
           12,
           13,
           14,
           15,
           16,
           17,
           18,
           19,
           20,
           21,
           22,
           23,
           24,
           25,
           26,
           27,
           28,
           29,
           30,
           31,
           32,
           33,
           34,
           35,
           36,
           37,
           38,
           39,
           40,
           41,
           42,
           43,
           44,
           45,
           46,
           47,
           48,
           49
          ],
          "colorbar": {
           "title": {
            "text": "Trial"
           },
           "x": 1,
           "xpad": 40
          },
          "colorscale": [
           [
            0,
            "rgb(247,251,255)"
           ],
           [
            0.125,
            "rgb(222,235,247)"
           ],
           [
            0.25,
            "rgb(198,219,239)"
           ],
           [
            0.375,
            "rgb(158,202,225)"
           ],
           [
            0.5,
            "rgb(107,174,214)"
           ],
           [
            0.625,
            "rgb(66,146,198)"
           ],
           [
            0.75,
            "rgb(33,113,181)"
           ],
           [
            0.875,
            "rgb(8,81,156)"
           ],
           [
            1,
            "rgb(8,48,107)"
           ]
          ],
          "line": {
           "color": "Grey",
           "width": 0.5
          },
          "showscale": true
         },
         "mode": "markers",
         "name": "Feasible Trial",
         "showlegend": false,
         "type": "scatter",
         "x": [
          3181,
          1684,
          4056,
          3130,
          25,
          852,
          1551,
          264,
          636,
          66,
          2748,
          2772,
          4983,
          3458,
          1966,
          460,
          1407,
          4453,
          3073,
          24,
          1540,
          3947,
          3099,
          1414,
          2943,
          127,
          2362,
          4412,
          942,
          733,
          3132,
          3958,
          1672,
          4968,
          4624,
          2216,
          2095,
          1689,
          4500,
          2924,
          2575,
          24,
          4957,
          732,
          4351,
          3494,
          1530,
          3260,
          2756,
          1699
         ],
         "xaxis": "x",
         "y": [
          0.0054666,
          0.0702306,
          0.0011132000000000002,
          0.0014605999999999998,
          0.0072838,
          0.008184499999999999,
          0.0210656,
          0.0013756,
          0.0007258000000000001,
          0.0005749,
          0.00044039999999999997,
          0.08372530000000002,
          0.06502309999999999,
          0.0007619,
          0.0009214,
          0.0010255000000000002,
          0.0248911,
          0.09235270000000001,
          0.08266860000000001,
          0.0011613,
          0.0256446,
          0.0018781,
          0.0006953,
          0.0017244000000000003,
          0.001493,
          0.0009441,
          0.009423999999999998,
          0.0012371,
          0.0017255,
          0.08478260000000001,
          0.0010017000000000001,
          0.0709628,
          0.007685900000000001,
          0.006983100000000001,
          0.0207769,
          0.0030407000000000003,
          0.002436,
          0.0160522,
          0.1031069,
          0.0038618,
          0.0004785000000000001,
          0.0009278,
          0.0004029,
          0.04768289999999999,
          0.0011896,
          0.099945,
          0.0014487000000000002,
          0.0022613,
          0.004064,
          0.010862
         ],
         "yaxis": "y"
        },
        {
         "marker": {
          "color": [
           0,
           1,
           2,
           3,
           4,
           5,
           6,
           7,
           8,
           9,
           10,
           11,
           12,
           13,
           14,
           15,
           16,
           17,
           18,
           19,
           20,
           21,
           22,
           23,
           24,
           25,
           26,
           27,
           28,
           29,
           30,
           31,
           32,
           33,
           34,
           35,
           36,
           37,
           38,
           39,
           40,
           41,
           42,
           43,
           44,
           45,
           46,
           47,
           48,
           49
          ],
          "colorbar": {
           "title": {
            "text": "Trial"
           },
           "x": 1,
           "xpad": 40
          },
          "colorscale": [
           [
            0,
            "rgb(247,251,255)"
           ],
           [
            0.125,
            "rgb(222,235,247)"
           ],
           [
            0.25,
            "rgb(198,219,239)"
           ],
           [
            0.375,
            "rgb(158,202,225)"
           ],
           [
            0.5,
            "rgb(107,174,214)"
           ],
           [
            0.625,
            "rgb(66,146,198)"
           ],
           [
            0.75,
            "rgb(33,113,181)"
           ],
           [
            0.875,
            "rgb(8,81,156)"
           ],
           [
            1,
            "rgb(8,48,107)"
           ]
          ],
          "line": {
           "color": "Grey",
           "width": 0.5
          },
          "showscale": false
         },
         "mode": "markers",
         "name": "Feasible Trial",
         "showlegend": false,
         "type": "scatter",
         "x": [
          15,
          28,
          3,
          4,
          16,
          15,
          18,
          5,
          8,
          4,
          8,
          28,
          24,
          11,
          4,
          4,
          23,
          26,
          29,
          2,
          22,
          12,
          4,
          12,
          9,
          2,
          19,
          6,
          8,
          30,
          12,
          23,
          17,
          17,
          18,
          14,
          11,
          21,
          28,
          15,
          2,
          4,
          5,
          23,
          8,
          29,
          8,
          12,
          15,
          16
         ],
         "xaxis": "x2",
         "y": [
          0.0054666,
          0.0702306,
          0.0011132000000000002,
          0.0014605999999999998,
          0.0072838,
          0.008184499999999999,
          0.0210656,
          0.0013756,
          0.0007258000000000001,
          0.0005749,
          0.00044039999999999997,
          0.08372530000000002,
          0.06502309999999999,
          0.0007619,
          0.0009214,
          0.0010255000000000002,
          0.0248911,
          0.09235270000000001,
          0.08266860000000001,
          0.0011613,
          0.0256446,
          0.0018781,
          0.0006953,
          0.0017244000000000003,
          0.001493,
          0.0009441,
          0.009423999999999998,
          0.0012371,
          0.0017255,
          0.08478260000000001,
          0.0010017000000000001,
          0.0709628,
          0.007685900000000001,
          0.006983100000000001,
          0.0207769,
          0.0030407000000000003,
          0.002436,
          0.0160522,
          0.1031069,
          0.0038618,
          0.0004785000000000001,
          0.0009278,
          0.0004029,
          0.04768289999999999,
          0.0011896,
          0.099945,
          0.0014487000000000002,
          0.0022613,
          0.004064,
          0.010862
         ],
         "yaxis": "y2"
        },
        {
         "marker": {
          "color": [
           0,
           1,
           2,
           3,
           4,
           5,
           6,
           7,
           8,
           9,
           10,
           11,
           12,
           13,
           14,
           15,
           16,
           17,
           18,
           19,
           20,
           21,
           22,
           23,
           24,
           25,
           26,
           27,
           28,
           29,
           30,
           31,
           32,
           33,
           34,
           35,
           36,
           37,
           38,
           39,
           40,
           41,
           42,
           43,
           44,
           45,
           46,
           47,
           48,
           49
          ],
          "colorbar": {
           "title": {
            "text": "Trial"
           },
           "x": 1,
           "xpad": 40
          },
          "colorscale": [
           [
            0,
            "rgb(247,251,255)"
           ],
           [
            0.125,
            "rgb(222,235,247)"
           ],
           [
            0.25,
            "rgb(198,219,239)"
           ],
           [
            0.375,
            "rgb(158,202,225)"
           ],
           [
            0.5,
            "rgb(107,174,214)"
           ],
           [
            0.625,
            "rgb(66,146,198)"
           ],
           [
            0.75,
            "rgb(33,113,181)"
           ],
           [
            0.875,
            "rgb(8,81,156)"
           ],
           [
            1,
            "rgb(8,48,107)"
           ]
          ],
          "line": {
           "color": "Grey",
           "width": 0.5
          },
          "showscale": false
         },
         "mode": "markers",
         "name": "Feasible Trial",
         "showlegend": false,
         "type": "scatter",
         "x": [
          31,
          200,
          665,
          921,
          750,
          802,
          836,
          853,
          307,
          305,
          124,
          533,
          362,
          80,
          570,
          683,
          103,
          980,
          598,
          804,
          678,
          203,
          359,
          509,
          740,
          560,
          424,
          750,
          954,
          305,
          223,
          464,
          307,
          156,
          366,
          196,
          840,
          191,
          758,
          653,
          200,
          519,
          140,
          947,
          679,
          682,
          815,
          914,
          230,
          847
         ],
         "xaxis": "x3",
         "y": [
          0.0054666,
          0.0702306,
          0.0011132000000000002,
          0.0014605999999999998,
          0.0072838,
          0.008184499999999999,
          0.0210656,
          0.0013756,
          0.0007258000000000001,
          0.0005749,
          0.00044039999999999997,
          0.08372530000000002,
          0.06502309999999999,
          0.0007619,
          0.0009214,
          0.0010255000000000002,
          0.0248911,
          0.09235270000000001,
          0.08266860000000001,
          0.0011613,
          0.0256446,
          0.0018781,
          0.0006953,
          0.0017244000000000003,
          0.001493,
          0.0009441,
          0.009423999999999998,
          0.0012371,
          0.0017255,
          0.08478260000000001,
          0.0010017000000000001,
          0.0709628,
          0.007685900000000001,
          0.006983100000000001,
          0.0207769,
          0.0030407000000000003,
          0.002436,
          0.0160522,
          0.1031069,
          0.0038618,
          0.0004785000000000001,
          0.0009278,
          0.0004029,
          0.04768289999999999,
          0.0011896,
          0.099945,
          0.0014487000000000002,
          0.0022613,
          0.004064,
          0.010862
         ],
         "yaxis": "y3"
        }
       ],
       "layout": {
        "template": {
         "data": {
          "bar": [
           {
            "error_x": {
             "color": "#2a3f5f"
            },
            "error_y": {
             "color": "#2a3f5f"
            },
            "marker": {
             "line": {
              "color": "#E5ECF6",
              "width": 0.5
             },
             "pattern": {
              "fillmode": "overlay",
              "size": 10,
              "solidity": 0.2
             }
            },
            "type": "bar"
           }
          ],
          "barpolar": [
           {
            "marker": {
             "line": {
              "color": "#E5ECF6",
              "width": 0.5
             },
             "pattern": {
              "fillmode": "overlay",
              "size": 10,
              "solidity": 0.2
             }
            },
            "type": "barpolar"
           }
          ],
          "carpet": [
           {
            "aaxis": {
             "endlinecolor": "#2a3f5f",
             "gridcolor": "white",
             "linecolor": "white",
             "minorgridcolor": "white",
             "startlinecolor": "#2a3f5f"
            },
            "baxis": {
             "endlinecolor": "#2a3f5f",
             "gridcolor": "white",
             "linecolor": "white",
             "minorgridcolor": "white",
             "startlinecolor": "#2a3f5f"
            },
            "type": "carpet"
           }
          ],
          "choropleth": [
           {
            "colorbar": {
             "outlinewidth": 0,
             "ticks": ""
            },
            "type": "choropleth"
           }
          ],
          "contour": [
           {
            "colorbar": {
             "outlinewidth": 0,
             "ticks": ""
            },
            "colorscale": [
             [
              0,
              "#0d0887"
             ],
             [
              0.1111111111111111,
              "#46039f"
             ],
             [
              0.2222222222222222,
              "#7201a8"
             ],
             [
              0.3333333333333333,
              "#9c179e"
             ],
             [
              0.4444444444444444,
              "#bd3786"
             ],
             [
              0.5555555555555556,
              "#d8576b"
             ],
             [
              0.6666666666666666,
              "#ed7953"
             ],
             [
              0.7777777777777778,
              "#fb9f3a"
             ],
             [
              0.8888888888888888,
              "#fdca26"
             ],
             [
              1,
              "#f0f921"
             ]
            ],
            "type": "contour"
           }
          ],
          "contourcarpet": [
           {
            "colorbar": {
             "outlinewidth": 0,
             "ticks": ""
            },
            "type": "contourcarpet"
           }
          ],
          "heatmap": [
           {
            "colorbar": {
             "outlinewidth": 0,
             "ticks": ""
            },
            "colorscale": [
             [
              0,
              "#0d0887"
             ],
             [
              0.1111111111111111,
              "#46039f"
             ],
             [
              0.2222222222222222,
              "#7201a8"
             ],
             [
              0.3333333333333333,
              "#9c179e"
             ],
             [
              0.4444444444444444,
              "#bd3786"
             ],
             [
              0.5555555555555556,
              "#d8576b"
             ],
             [
              0.6666666666666666,
              "#ed7953"
             ],
             [
              0.7777777777777778,
              "#fb9f3a"
             ],
             [
              0.8888888888888888,
              "#fdca26"
             ],
             [
              1,
              "#f0f921"
             ]
            ],
            "type": "heatmap"
           }
          ],
          "heatmapgl": [
           {
            "colorbar": {
             "outlinewidth": 0,
             "ticks": ""
            },
            "colorscale": [
             [
              0,
              "#0d0887"
             ],
             [
              0.1111111111111111,
              "#46039f"
             ],
             [
              0.2222222222222222,
              "#7201a8"
             ],
             [
              0.3333333333333333,
              "#9c179e"
             ],
             [
              0.4444444444444444,
              "#bd3786"
             ],
             [
              0.5555555555555556,
              "#d8576b"
             ],
             [
              0.6666666666666666,
              "#ed7953"
             ],
             [
              0.7777777777777778,
              "#fb9f3a"
             ],
             [
              0.8888888888888888,
              "#fdca26"
             ],
             [
              1,
              "#f0f921"
             ]
            ],
            "type": "heatmapgl"
           }
          ],
          "histogram": [
           {
            "marker": {
             "pattern": {
              "fillmode": "overlay",
              "size": 10,
              "solidity": 0.2
             }
            },
            "type": "histogram"
           }
          ],
          "histogram2d": [
           {
            "colorbar": {
             "outlinewidth": 0,
             "ticks": ""
            },
            "colorscale": [
             [
              0,
              "#0d0887"
             ],
             [
              0.1111111111111111,
              "#46039f"
             ],
             [
              0.2222222222222222,
              "#7201a8"
             ],
             [
              0.3333333333333333,
              "#9c179e"
             ],
             [
              0.4444444444444444,
              "#bd3786"
             ],
             [
              0.5555555555555556,
              "#d8576b"
             ],
             [
              0.6666666666666666,
              "#ed7953"
             ],
             [
              0.7777777777777778,
              "#fb9f3a"
             ],
             [
              0.8888888888888888,
              "#fdca26"
             ],
             [
              1,
              "#f0f921"
             ]
            ],
            "type": "histogram2d"
           }
          ],
          "histogram2dcontour": [
           {
            "colorbar": {
             "outlinewidth": 0,
             "ticks": ""
            },
            "colorscale": [
             [
              0,
              "#0d0887"
             ],
             [
              0.1111111111111111,
              "#46039f"
             ],
             [
              0.2222222222222222,
              "#7201a8"
             ],
             [
              0.3333333333333333,
              "#9c179e"
             ],
             [
              0.4444444444444444,
              "#bd3786"
             ],
             [
              0.5555555555555556,
              "#d8576b"
             ],
             [
              0.6666666666666666,
              "#ed7953"
             ],
             [
              0.7777777777777778,
              "#fb9f3a"
             ],
             [
              0.8888888888888888,
              "#fdca26"
             ],
             [
              1,
              "#f0f921"
             ]
            ],
            "type": "histogram2dcontour"
           }
          ],
          "mesh3d": [
           {
            "colorbar": {
             "outlinewidth": 0,
             "ticks": ""
            },
            "type": "mesh3d"
           }
          ],
          "parcoords": [
           {
            "line": {
             "colorbar": {
              "outlinewidth": 0,
              "ticks": ""
             }
            },
            "type": "parcoords"
           }
          ],
          "pie": [
           {
            "automargin": true,
            "type": "pie"
           }
          ],
          "scatter": [
           {
            "fillpattern": {
             "fillmode": "overlay",
             "size": 10,
             "solidity": 0.2
            },
            "type": "scatter"
           }
          ],
          "scatter3d": [
           {
            "line": {
             "colorbar": {
              "outlinewidth": 0,
              "ticks": ""
             }
            },
            "marker": {
             "colorbar": {
              "outlinewidth": 0,
              "ticks": ""
             }
            },
            "type": "scatter3d"
           }
          ],
          "scattercarpet": [
           {
            "marker": {
             "colorbar": {
              "outlinewidth": 0,
              "ticks": ""
             }
            },
            "type": "scattercarpet"
           }
          ],
          "scattergeo": [
           {
            "marker": {
             "colorbar": {
              "outlinewidth": 0,
              "ticks": ""
             }
            },
            "type": "scattergeo"
           }
          ],
          "scattergl": [
           {
            "marker": {
             "colorbar": {
              "outlinewidth": 0,
              "ticks": ""
             }
            },
            "type": "scattergl"
           }
          ],
          "scattermapbox": [
           {
            "marker": {
             "colorbar": {
              "outlinewidth": 0,
              "ticks": ""
             }
            },
            "type": "scattermapbox"
           }
          ],
          "scatterpolar": [
           {
            "marker": {
             "colorbar": {
              "outlinewidth": 0,
              "ticks": ""
             }
            },
            "type": "scatterpolar"
           }
          ],
          "scatterpolargl": [
           {
            "marker": {
             "colorbar": {
              "outlinewidth": 0,
              "ticks": ""
             }
            },
            "type": "scatterpolargl"
           }
          ],
          "scatterternary": [
           {
            "marker": {
             "colorbar": {
              "outlinewidth": 0,
              "ticks": ""
             }
            },
            "type": "scatterternary"
           }
          ],
          "surface": [
           {
            "colorbar": {
             "outlinewidth": 0,
             "ticks": ""
            },
            "colorscale": [
             [
              0,
              "#0d0887"
             ],
             [
              0.1111111111111111,
              "#46039f"
             ],
             [
              0.2222222222222222,
              "#7201a8"
             ],
             [
              0.3333333333333333,
              "#9c179e"
             ],
             [
              0.4444444444444444,
              "#bd3786"
             ],
             [
              0.5555555555555556,
              "#d8576b"
             ],
             [
              0.6666666666666666,
              "#ed7953"
             ],
             [
              0.7777777777777778,
              "#fb9f3a"
             ],
             [
              0.8888888888888888,
              "#fdca26"
             ],
             [
              1,
              "#f0f921"
             ]
            ],
            "type": "surface"
           }
          ],
          "table": [
           {
            "cells": {
             "fill": {
              "color": "#EBF0F8"
             },
             "line": {
              "color": "white"
             }
            },
            "header": {
             "fill": {
              "color": "#C8D4E3"
             },
             "line": {
              "color": "white"
             }
            },
            "type": "table"
           }
          ]
         },
         "layout": {
          "annotationdefaults": {
           "arrowcolor": "#2a3f5f",
           "arrowhead": 0,
           "arrowwidth": 1
          },
          "autotypenumbers": "strict",
          "coloraxis": {
           "colorbar": {
            "outlinewidth": 0,
            "ticks": ""
           }
          },
          "colorscale": {
           "diverging": [
            [
             0,
             "#8e0152"
            ],
            [
             0.1,
             "#c51b7d"
            ],
            [
             0.2,
             "#de77ae"
            ],
            [
             0.3,
             "#f1b6da"
            ],
            [
             0.4,
             "#fde0ef"
            ],
            [
             0.5,
             "#f7f7f7"
            ],
            [
             0.6,
             "#e6f5d0"
            ],
            [
             0.7,
             "#b8e186"
            ],
            [
             0.8,
             "#7fbc41"
            ],
            [
             0.9,
             "#4d9221"
            ],
            [
             1,
             "#276419"
            ]
           ],
           "sequential": [
            [
             0,
             "#0d0887"
            ],
            [
             0.1111111111111111,
             "#46039f"
            ],
            [
             0.2222222222222222,
             "#7201a8"
            ],
            [
             0.3333333333333333,
             "#9c179e"
            ],
            [
             0.4444444444444444,
             "#bd3786"
            ],
            [
             0.5555555555555556,
             "#d8576b"
            ],
            [
             0.6666666666666666,
             "#ed7953"
            ],
            [
             0.7777777777777778,
             "#fb9f3a"
            ],
            [
             0.8888888888888888,
             "#fdca26"
            ],
            [
             1,
             "#f0f921"
            ]
           ],
           "sequentialminus": [
            [
             0,
             "#0d0887"
            ],
            [
             0.1111111111111111,
             "#46039f"
            ],
            [
             0.2222222222222222,
             "#7201a8"
            ],
            [
             0.3333333333333333,
             "#9c179e"
            ],
            [
             0.4444444444444444,
             "#bd3786"
            ],
            [
             0.5555555555555556,
             "#d8576b"
            ],
            [
             0.6666666666666666,
             "#ed7953"
            ],
            [
             0.7777777777777778,
             "#fb9f3a"
            ],
            [
             0.8888888888888888,
             "#fdca26"
            ],
            [
             1,
             "#f0f921"
            ]
           ]
          },
          "colorway": [
           "#636efa",
           "#EF553B",
           "#00cc96",
           "#ab63fa",
           "#FFA15A",
           "#19d3f3",
           "#FF6692",
           "#B6E880",
           "#FF97FF",
           "#FECB52"
          ],
          "font": {
           "color": "#2a3f5f"
          },
          "geo": {
           "bgcolor": "white",
           "lakecolor": "white",
           "landcolor": "#E5ECF6",
           "showlakes": true,
           "showland": true,
           "subunitcolor": "white"
          },
          "hoverlabel": {
           "align": "left"
          },
          "hovermode": "closest",
          "mapbox": {
           "style": "light"
          },
          "paper_bgcolor": "white",
          "plot_bgcolor": "#E5ECF6",
          "polar": {
           "angularaxis": {
            "gridcolor": "white",
            "linecolor": "white",
            "ticks": ""
           },
           "bgcolor": "#E5ECF6",
           "radialaxis": {
            "gridcolor": "white",
            "linecolor": "white",
            "ticks": ""
           }
          },
          "scene": {
           "xaxis": {
            "backgroundcolor": "#E5ECF6",
            "gridcolor": "white",
            "gridwidth": 2,
            "linecolor": "white",
            "showbackground": true,
            "ticks": "",
            "zerolinecolor": "white"
           },
           "yaxis": {
            "backgroundcolor": "#E5ECF6",
            "gridcolor": "white",
            "gridwidth": 2,
            "linecolor": "white",
            "showbackground": true,
            "ticks": "",
            "zerolinecolor": "white"
           },
           "zaxis": {
            "backgroundcolor": "#E5ECF6",
            "gridcolor": "white",
            "gridwidth": 2,
            "linecolor": "white",
            "showbackground": true,
            "ticks": "",
            "zerolinecolor": "white"
           }
          },
          "shapedefaults": {
           "line": {
            "color": "#2a3f5f"
           }
          },
          "ternary": {
           "aaxis": {
            "gridcolor": "white",
            "linecolor": "white",
            "ticks": ""
           },
           "baxis": {
            "gridcolor": "white",
            "linecolor": "white",
            "ticks": ""
           },
           "bgcolor": "#E5ECF6",
           "caxis": {
            "gridcolor": "white",
            "linecolor": "white",
            "ticks": ""
           }
          },
          "title": {
           "x": 0.05
          },
          "xaxis": {
           "automargin": true,
           "gridcolor": "white",
           "linecolor": "white",
           "ticks": "",
           "title": {
            "standoff": 15
           },
           "zerolinecolor": "white",
           "zerolinewidth": 2
          },
          "yaxis": {
           "automargin": true,
           "gridcolor": "white",
           "linecolor": "white",
           "ticks": "",
           "title": {
            "standoff": 15
           },
           "zerolinecolor": "white",
           "zerolinewidth": 2
          }
         }
        },
        "title": {
         "text": "Slice Plot"
        },
        "xaxis": {
         "anchor": "y",
         "domain": [
          0,
          0.2888888888888889
         ],
         "title": {
          "text": "M"
         }
        },
        "xaxis2": {
         "anchor": "y2",
         "domain": [
          0.35555555555555557,
          0.6444444444444445
         ],
         "title": {
          "text": "k"
         }
        },
        "xaxis3": {
         "anchor": "y3",
         "domain": [
          0.7111111111111111,
          1
         ],
         "title": {
          "text": "probes"
         }
        },
        "yaxis": {
         "anchor": "x",
         "domain": [
          0,
          1
         ],
         "title": {
          "text": "average_time"
         }
        },
        "yaxis2": {
         "anchor": "x2",
         "domain": [
          0,
          1
         ],
         "matches": "y",
         "showticklabels": false
        },
        "yaxis3": {
         "anchor": "x3",
         "domain": [
          0,
          1
         ],
         "matches": "y",
         "showticklabels": false
        }
       }
      }
     },
     "metadata": {},
     "output_type": "display_data"
    }
   ],
   "source": [
    "plot_slice(hypercube_study, target = lambda t: t.values[1], target_name = 'average_time')"
   ]
  },
  {
   "attachments": {},
   "cell_type": "markdown",
   "metadata": {},
   "source": [
    "# 3. Optimize GNNS\n",
    "\n",
    "To skip logs, click [here](#visualize-gnns-study-results)."
   ]
  },
  {
   "cell_type": "code",
   "execution_count": 15,
   "metadata": {},
   "outputs": [
    {
     "ename": "NameError",
     "evalue": "name 'param_dict' is not defined",
     "output_type": "error",
     "traceback": [
      "\u001b[0;31m---------------------------------------------------------------------------\u001b[0m",
      "\u001b[0;31mNameError\u001b[0m                                 Traceback (most recent call last)",
      "Cell \u001b[0;32mIn[15], line 12\u001b[0m\n\u001b[1;32m      7\u001b[0m     average_time, true_time, maf, min_neighbors \u001b[39m=\u001b[39m gnn_test(input_path, query_path, queries_num\u001b[39m=\u001b[39m\u001b[39m10\u001b[39m, \u001b[39m*\u001b[39m\u001b[39m*\u001b[39mparam_dict, N\u001b[39m=\u001b[39m\u001b[39m1\u001b[39m)\n\u001b[1;32m      9\u001b[0m     \u001b[39mreturn\u001b[39;00m maf\u001b[39m.\u001b[39mvalue, average_time\u001b[39m.\u001b[39mvalue\n\u001b[1;32m     11\u001b[0m param_dict \u001b[39m=\u001b[39m {\u001b[39m'\u001b[39m\u001b[39mk\u001b[39m\u001b[39m'\u001b[39m: trial\u001b[39m.\u001b[39msuggest_int(\u001b[39m'\u001b[39m\u001b[39mk\u001b[39m\u001b[39m'\u001b[39m, \u001b[39m10\u001b[39m, \u001b[39m100\u001b[39m),\n\u001b[0;32m---> 12\u001b[0m                   \u001b[39m'\u001b[39m\u001b[39mE\u001b[39m\u001b[39m'\u001b[39m: trial\u001b[39m.\u001b[39msuggest_int(\u001b[39m'\u001b[39m\u001b[39mL\u001b[39m\u001b[39m'\u001b[39m, \u001b[39m9\u001b[39m, param_dict[\u001b[39m'\u001b[39m\u001b[39mk\u001b[39m\u001b[39m'\u001b[39m]),\n\u001b[1;32m     13\u001b[0m                   \u001b[39m'\u001b[39m\u001b[39mR\u001b[39m\u001b[39m'\u001b[39m: trial\u001b[39m.\u001b[39msuggest_int(\u001b[39m'\u001b[39m\u001b[39mL\u001b[39m\u001b[39m'\u001b[39m, \u001b[39m1\u001b[39m, \u001b[39m5\u001b[39m)\n\u001b[1;32m     14\u001b[0m                  }\n\u001b[1;32m     16\u001b[0m \u001b[39mprint\u001b[39m(param_dict)\n",
      "\u001b[0;31mNameError\u001b[0m: name 'param_dict' is not defined"
     ]
    }
   ],
   "source": [
    "def objective_gnns(trial):\n",
    "    param_dict = {'k': trial.suggest_int('k', 10, 100),\n",
    "                  'E': trial.suggest_int('E', 10, 100),\n",
    "                  'R': trial.suggest_int('R', 1, 10)\n",
    "                 }\n",
    "    \n",
    "    # penalize bad parameter choice\n",
    "    if param_dict['E'] > param_dict['k']:\n",
    "        return 1000, 1000\n",
    "\n",
    "    average_time, true_time, maf, min_neighbors = gnn_test(input_path, query_path, queries_num=10, **param_dict, N=1)\n",
    "\n",
    "    return maf.value, average_time.value"
   ]
  },
  {
   "attachments": {},
   "cell_type": "markdown",
   "metadata": {},
   "source": [
    "## Visualize GNNS study results"
   ]
  },
  {
   "cell_type": "code",
   "execution_count": null,
   "metadata": {},
   "outputs": [],
   "source": [
    "plot_pareto_front(gnns_study, target_names=['maf', 'average_time'])"
   ]
  },
  {
   "cell_type": "code",
   "execution_count": null,
   "metadata": {},
   "outputs": [],
   "source": [
    "plot_optimization_history(gnns_study, target = lambda t: t.values[0], target_name = 'maf')"
   ]
  },
  {
   "cell_type": "code",
   "execution_count": null,
   "metadata": {},
   "outputs": [],
   "source": [
    "plot_optimization_history(gnns_study, target = lambda t: t.values[1], target_name = 'average_time')"
   ]
  },
  {
   "cell_type": "code",
   "execution_count": null,
   "metadata": {},
   "outputs": [],
   "source": [
    "plot_slice(gnns_study, target = lambda t: t.values[0], target_name = 'maf')"
   ]
  },
  {
   "cell_type": "code",
   "execution_count": null,
   "metadata": {},
   "outputs": [],
   "source": [
    "plot_slice(gnns_study, target = lambda t: t.values[1], target_name = 'average_time')"
   ]
  }
 ],
 "metadata": {
  "kernelspec": {
   "display_name": "Python 3",
   "language": "python",
   "name": "python3"
  },
  "language_info": {
   "codemirror_mode": {
    "name": "ipython",
    "version": 3
   },
   "file_extension": ".py",
   "mimetype": "text/x-python",
   "name": "python",
   "nbconvert_exporter": "python",
   "pygments_lexer": "ipython3",
   "version": "3.10.12"
  },
  "orig_nbformat": 4
 },
 "nbformat": 4,
 "nbformat_minor": 2
}
