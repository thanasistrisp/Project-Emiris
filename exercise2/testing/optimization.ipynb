{
 "cells": [
  {
   "attachments": {},
   "cell_type": "markdown",
   "metadata": {},
   "source": [
    "# Import libraries"
   ]
  },
  {
   "cell_type": "code",
   "execution_count": 1,
   "metadata": {},
   "outputs": [],
   "source": [
    "import optuna\n",
    "from optuna.visualization import plot_pareto_front, plot_optimization_history, plot_slice\n",
    "\n",
    "import pandas\n",
    "\n",
    "from params import lsh_test, hypercube_test, gnn_test, mrng_test"
   ]
  },
  {
   "cell_type": "code",
   "execution_count": 2,
   "metadata": {},
   "outputs": [],
   "source": [
    "input_path = b'../MNIST/input.dat'\n",
    "query_path = b'../MNIST/query.dat'\n",
    "\n",
    "n = 60000"
   ]
  },
  {
   "attachments": {},
   "cell_type": "markdown",
   "metadata": {},
   "source": [
    "# 1. Optimize LSH\n",
    "\n",
    "To skip logs, click [here](#visualize-lsh-study-results)."
   ]
  },
  {
   "cell_type": "code",
   "execution_count": 3,
   "metadata": {},
   "outputs": [],
   "source": [
    "def objective_lsh(trial):\n",
    "    param_dict = {'k': trial.suggest_int('k', 2, 10),\n",
    "                  'L': trial.suggest_int('L', 2, 10),\n",
    "                  'table_size': trial.suggest_categorical('table_size', [int(n/16), int(n/8), int(n/4)]),\n",
    "                  'window_size': trial.suggest_int('window_size', 1000, 5000)\n",
    "                 }\n",
    "    \n",
    "    average_time, true_time, maf, min_neighbors = lsh_test(input_path, query_path, queries_num=10, **param_dict, query_trick=True, N=1)\n",
    "\n",
    "    return maf.value, average_time.value"
   ]
  },
  {
   "cell_type": "code",
   "execution_count": 4,
   "metadata": {},
   "outputs": [
    {
     "name": "stderr",
     "output_type": "stream",
     "text": [
      "[I 2023-11-24 19:42:55,042] A new study created in memory with name: lsh\n"
     ]
    },
    {
     "name": "stdout",
     "output_type": "stream",
     "text": [
      "Read MNIST data\n",
      "Done\n",
      "Algorithm: LSH\n",
      "Query: 0\n",
      "Query: 1\n",
      "Query: 2\n",
      "Query: 3\n",
      "Query: 4\n",
      "Query: 5\n",
      "Query: 6\n",
      "Query: 7\n",
      "Query: 8\n",
      "Query: 9\n"
     ]
    },
    {
     "name": "stderr",
     "output_type": "stream",
     "text": [
      "[I 2023-11-24 19:43:11,605] Trial 0 finished with values: [1.1564258406886092, 0.015325] and parameters: {'k': 6, 'L': 6, 'table_size': 3750, 'window_size': 2404}. \n"
     ]
    },
    {
     "name": "stdout",
     "output_type": "stream",
     "text": [
      "Read MNIST data\n",
      "Done\n",
      "Algorithm: LSH\n",
      "Query: 0\n",
      "Query: 1\n",
      "Query: 2\n",
      "Query: 3\n",
      "Query: 4\n",
      "Query: 5\n",
      "Query: 6\n",
      "Query: 7\n",
      "Query: 8\n",
      "Query: 9\n"
     ]
    },
    {
     "name": "stderr",
     "output_type": "stream",
     "text": [
      "[I 2023-11-24 19:43:17,439] Trial 1 finished with values: [1.0, 0.0796542] and parameters: {'k': 3, 'L': 2, 'table_size': 3750, 'window_size': 3411}. \n"
     ]
    },
    {
     "name": "stdout",
     "output_type": "stream",
     "text": [
      "Read MNIST data\n",
      "Done\n",
      "Algorithm: LSH\n",
      "Query: 0\n",
      "Query: 1\n",
      "Query: 2\n",
      "Query: 3\n",
      "Query: 4\n",
      "Query: 5\n",
      "Query: 6\n",
      "Query: 7\n",
      "Query: 8\n",
      "Query: 9\n"
     ]
    },
    {
     "name": "stderr",
     "output_type": "stream",
     "text": [
      "[I 2023-11-24 19:43:37,228] Trial 2 finished with values: [2.096701335671093, 0.0009851999999999999] and parameters: {'k': 9, 'L': 5, 'table_size': 15000, 'window_size': 1724}. \n"
     ]
    },
    {
     "name": "stdout",
     "output_type": "stream",
     "text": [
      "Read MNIST data\n",
      "Done\n",
      "Algorithm: LSH\n",
      "Query: 0\n",
      "Query: 1\n",
      "Query: 2\n",
      "Query: 3\n",
      "Query: 4\n",
      "Query: 5\n",
      "Query: 6\n",
      "Query: 7\n",
      "Query: 8\n",
      "Query: 9\n"
     ]
    },
    {
     "name": "stderr",
     "output_type": "stream",
     "text": [
      "[I 2023-11-24 19:43:50,490] Trial 3 finished with values: [1.0469523739817346, 0.0459947] and parameters: {'k': 9, 'L': 3, 'table_size': 15000, 'window_size': 4970}. \n"
     ]
    },
    {
     "name": "stdout",
     "output_type": "stream",
     "text": [
      "Read MNIST data\n",
      "Done\n",
      "Algorithm: LSH\n",
      "Query: 0\n",
      "Query: 1\n",
      "Query: 2\n",
      "Query: 3\n",
      "Query: 4\n",
      "Query: 5\n",
      "Query: 6\n",
      "Query: 7\n",
      "Query: 8\n",
      "Query: 9\n"
     ]
    },
    {
     "name": "stderr",
     "output_type": "stream",
     "text": [
      "[I 2023-11-24 19:44:00,752] Trial 4 finished with values: [1.7976931348623157e+308, 0.0003581] and parameters: {'k': 10, 'L': 2, 'table_size': 3750, 'window_size': 1405}. \n"
     ]
    },
    {
     "name": "stdout",
     "output_type": "stream",
     "text": [
      "Read MNIST data\n",
      "Done\n",
      "Algorithm: LSH\n",
      "Query: 0\n",
      "Query: 1\n",
      "Query: 2\n",
      "Query: 3\n",
      "Query: 4\n",
      "Query: 5\n",
      "Query: 6\n",
      "Query: 7\n",
      "Query: 8\n",
      "Query: 9\n"
     ]
    },
    {
     "name": "stderr",
     "output_type": "stream",
     "text": [
      "[I 2023-11-24 19:44:20,463] Trial 5 finished with values: [1.7976931348623157e+308, 0.0006930999999999999] and parameters: {'k': 9, 'L': 5, 'table_size': 7500, 'window_size': 1359}. \n"
     ]
    },
    {
     "name": "stdout",
     "output_type": "stream",
     "text": [
      "Read MNIST data\n",
      "Done\n",
      "Algorithm: LSH\n",
      "Query: 0\n",
      "Query: 1\n",
      "Query: 2\n",
      "Query: 3\n",
      "Query: 4\n",
      "Query: 5\n",
      "Query: 6\n",
      "Query: 7\n",
      "Query: 8\n",
      "Query: 9\n"
     ]
    },
    {
     "name": "stderr",
     "output_type": "stream",
     "text": [
      "[I 2023-11-24 19:44:25,713] Trial 6 finished with values: [1.1308915778266788, 0.0152777] and parameters: {'k': 2, 'L': 3, 'table_size': 7500, 'window_size': 1120}. \n"
     ]
    },
    {
     "name": "stdout",
     "output_type": "stream",
     "text": [
      "Read MNIST data\n",
      "Done\n",
      "Algorithm: LSH\n",
      "Query: 0\n",
      "Query: 1\n",
      "Query: 2\n",
      "Query: 3\n",
      "Query: 4\n",
      "Query: 5\n",
      "Query: 6\n",
      "Query: 7\n",
      "Query: 8\n",
      "Query: 9\n"
     ]
    },
    {
     "name": "stderr",
     "output_type": "stream",
     "text": [
      "[I 2023-11-24 19:44:32,226] Trial 7 finished with values: [1.1564258406886092, 0.03314349999999999] and parameters: {'k': 3, 'L': 3, 'table_size': 15000, 'window_size': 1910}. \n"
     ]
    },
    {
     "name": "stdout",
     "output_type": "stream",
     "text": [
      "Read MNIST data\n",
      "Done\n",
      "Algorithm: LSH\n",
      "Query: 0\n",
      "Query: 1\n",
      "Query: 2\n",
      "Query: 3\n",
      "Query: 4\n",
      "Query: 5\n",
      "Query: 6\n",
      "Query: 7\n",
      "Query: 8\n",
      "Query: 9\n"
     ]
    },
    {
     "name": "stderr",
     "output_type": "stream",
     "text": [
      "[I 2023-11-24 19:44:59,131] Trial 8 finished with values: [1.0, 0.06351409999999999] and parameters: {'k': 9, 'L': 7, 'table_size': 7500, 'window_size': 4474}. \n"
     ]
    },
    {
     "name": "stdout",
     "output_type": "stream",
     "text": [
      "Read MNIST data\n",
      "Done\n",
      "Algorithm: LSH\n",
      "Query: 0\n",
      "Query: 1\n",
      "Query: 2\n",
      "Query: 3\n",
      "Query: 4\n",
      "Query: 5\n",
      "Query: 6\n",
      "Query: 7\n",
      "Query: 8\n",
      "Query: 9\n"
     ]
    },
    {
     "name": "stderr",
     "output_type": "stream",
     "text": [
      "[I 2023-11-24 19:45:12,195] Trial 9 finished with values: [1.0356523434986677, 0.08880060000000001] and parameters: {'k': 5, 'L': 5, 'table_size': 3750, 'window_size': 3583}. \n"
     ]
    },
    {
     "name": "stdout",
     "output_type": "stream",
     "text": [
      "Read MNIST data\n",
      "Done\n",
      "Algorithm: LSH\n",
      "Query: 0\n",
      "Query: 1\n",
      "Query: 2\n",
      "Query: 3\n",
      "Query: 4\n",
      "Query: 5\n",
      "Query: 6\n",
      "Query: 7\n",
      "Query: 8\n",
      "Query: 9\n"
     ]
    },
    {
     "name": "stderr",
     "output_type": "stream",
     "text": [
      "[I 2023-11-24 19:45:29,977] Trial 10 finished with values: [1.685662653483007, 0.0016545999999999998] and parameters: {'k': 8, 'L': 5, 'table_size': 15000, 'window_size': 1902}. \n"
     ]
    },
    {
     "name": "stdout",
     "output_type": "stream",
     "text": [
      "Read MNIST data\n",
      "Done\n",
      "Algorithm: LSH\n",
      "Query: 0\n",
      "Query: 1\n",
      "Query: 2\n",
      "Query: 3\n",
      "Query: 4\n",
      "Query: 5\n",
      "Query: 6\n",
      "Query: 7\n",
      "Query: 8\n",
      "Query: 9\n"
     ]
    },
    {
     "name": "stderr",
     "output_type": "stream",
     "text": [
      "[I 2023-11-24 19:45:44,045] Trial 11 finished with values: [1.4151888797371197, 0.0023997999999999997] and parameters: {'k': 6, 'L': 5, 'table_size': 3750, 'window_size': 1514}. \n"
     ]
    },
    {
     "name": "stdout",
     "output_type": "stream",
     "text": [
      "Read MNIST data\n",
      "Done\n",
      "Algorithm: LSH\n",
      "Query: 0\n",
      "Query: 1\n",
      "Query: 2\n",
      "Query: 3\n",
      "Query: 4\n",
      "Query: 5\n",
      "Query: 6\n",
      "Query: 7\n",
      "Query: 8\n",
      "Query: 9\n"
     ]
    },
    {
     "name": "stderr",
     "output_type": "stream",
     "text": [
      "[I 2023-11-24 19:46:17,318] Trial 12 finished with values: [1.1788716310993363, 0.0064695] and parameters: {'k': 9, 'L': 9, 'table_size': 15000, 'window_size': 2358}. \n"
     ]
    },
    {
     "name": "stdout",
     "output_type": "stream",
     "text": [
      "Read MNIST data\n",
      "Done\n",
      "Algorithm: LSH\n",
      "Query: 0\n",
      "Query: 1\n",
      "Query: 2\n",
      "Query: 3\n",
      "Query: 4\n",
      "Query: 5\n",
      "Query: 6\n",
      "Query: 7\n",
      "Query: 8\n",
      "Query: 9\n"
     ]
    },
    {
     "name": "stderr",
     "output_type": "stream",
     "text": [
      "[I 2023-11-24 19:46:33,706] Trial 13 finished with values: [1.2138728669424221, 0.0059727] and parameters: {'k': 9, 'L': 4, 'table_size': 15000, 'window_size': 2821}. \n"
     ]
    },
    {
     "name": "stdout",
     "output_type": "stream",
     "text": [
      "Read MNIST data\n",
      "Done\n",
      "Algorithm: LSH\n",
      "Query: 0\n",
      "Query: 1\n",
      "Query: 2\n",
      "Query: 3\n",
      "Query: 4\n",
      "Query: 5\n",
      "Query: 6\n",
      "Query: 7\n",
      "Query: 8\n",
      "Query: 9\n"
     ]
    },
    {
     "name": "stderr",
     "output_type": "stream",
     "text": [
      "[I 2023-11-24 19:47:00,873] Trial 14 finished with values: [1.082425218156335, 0.0356664] and parameters: {'k': 8, 'L': 8, 'table_size': 3750, 'window_size': 3110}. \n"
     ]
    },
    {
     "name": "stdout",
     "output_type": "stream",
     "text": [
      "Read MNIST data\n",
      "Done\n",
      "Algorithm: LSH\n",
      "Query: 0\n",
      "Query: 1\n",
      "Query: 2\n",
      "Query: 3\n",
      "Query: 4\n",
      "Query: 5\n",
      "Query: 6\n",
      "Query: 7\n",
      "Query: 8\n",
      "Query: 9\n"
     ]
    },
    {
     "name": "stderr",
     "output_type": "stream",
     "text": [
      "[I 2023-11-24 19:47:27,773] Trial 15 finished with values: [1.0054433345508196, 0.0311914] and parameters: {'k': 7, 'L': 9, 'table_size': 3750, 'window_size': 2760}. \n"
     ]
    },
    {
     "name": "stdout",
     "output_type": "stream",
     "text": [
      "Read MNIST data\n",
      "Done\n",
      "Algorithm: LSH\n",
      "Query: 0\n",
      "Query: 1\n",
      "Query: 2\n",
      "Query: 3\n",
      "Query: 4\n",
      "Query: 5\n",
      "Query: 6\n",
      "Query: 7\n",
      "Query: 8\n",
      "Query: 9\n"
     ]
    },
    {
     "name": "stderr",
     "output_type": "stream",
     "text": [
      "[I 2023-11-24 19:47:36,063] Trial 16 finished with values: [1.0356523434986677, 0.0242489] and parameters: {'k': 7, 'L': 2, 'table_size': 7500, 'window_size': 4900}. \n"
     ]
    },
    {
     "name": "stdout",
     "output_type": "stream",
     "text": [
      "Read MNIST data\n",
      "Done\n",
      "Algorithm: LSH\n",
      "Query: 0\n",
      "Query: 1\n",
      "Query: 2\n",
      "Query: 3\n",
      "Query: 4\n",
      "Query: 5\n",
      "Query: 6\n",
      "Query: 7\n",
      "Query: 8\n",
      "Query: 9\n"
     ]
    },
    {
     "name": "stderr",
     "output_type": "stream",
     "text": [
      "[I 2023-11-24 19:47:44,982] Trial 17 finished with values: [1.1564258406886092, 0.015778900000000002] and parameters: {'k': 8, 'L': 2, 'table_size': 7500, 'window_size': 3849}. \n"
     ]
    },
    {
     "name": "stdout",
     "output_type": "stream",
     "text": [
      "Read MNIST data\n",
      "Done\n",
      "Algorithm: LSH\n",
      "Query: 0\n",
      "Query: 1\n",
      "Query: 2\n",
      "Query: 3\n",
      "Query: 4\n",
      "Query: 5\n",
      "Query: 6\n",
      "Query: 7\n",
      "Query: 8\n",
      "Query: 9\n"
     ]
    },
    {
     "name": "stderr",
     "output_type": "stream",
     "text": [
      "[I 2023-11-24 19:47:57,348] Trial 18 finished with values: [1.112224861852963, 0.0408282] and parameters: {'k': 4, 'L': 6, 'table_size': 15000, 'window_size': 1926}. \n"
     ]
    },
    {
     "name": "stdout",
     "output_type": "stream",
     "text": [
      "Read MNIST data\n",
      "Done\n",
      "Algorithm: LSH\n",
      "Query: 0\n",
      "Query: 1\n",
      "Query: 2\n",
      "Query: 3\n",
      "Query: 4\n",
      "Query: 5\n",
      "Query: 6\n",
      "Query: 7\n",
      "Query: 8\n",
      "Query: 9\n"
     ]
    },
    {
     "name": "stderr",
     "output_type": "stream",
     "text": [
      "[I 2023-11-24 19:48:13,059] Trial 19 finished with values: [1.0021869427020387, 0.06659249999999999] and parameters: {'k': 4, 'L': 8, 'table_size': 15000, 'window_size': 2147}. \n"
     ]
    },
    {
     "name": "stdout",
     "output_type": "stream",
     "text": [
      "Read MNIST data\n",
      "Done\n",
      "Algorithm: LSH\n",
      "Query: 0\n",
      "Query: 1\n",
      "Query: 2\n",
      "Query: 3\n",
      "Query: 4\n",
      "Query: 5\n",
      "Query: 6\n",
      "Query: 7\n",
      "Query: 8\n",
      "Query: 9\n"
     ]
    },
    {
     "name": "stderr",
     "output_type": "stream",
     "text": [
      "[I 2023-11-24 19:48:25,756] Trial 20 finished with values: [1.0, 0.30134910000000004] and parameters: {'k': 3, 'L': 6, 'table_size': 7500, 'window_size': 4944}. \n"
     ]
    },
    {
     "name": "stdout",
     "output_type": "stream",
     "text": [
      "Read MNIST data\n",
      "Done\n",
      "Algorithm: LSH\n",
      "Query: 0\n",
      "Query: 1\n",
      "Query: 2\n",
      "Query: 3\n",
      "Query: 4\n",
      "Query: 5\n",
      "Query: 6\n",
      "Query: 7\n",
      "Query: 8\n",
      "Query: 9\n"
     ]
    },
    {
     "name": "stderr",
     "output_type": "stream",
     "text": [
      "[I 2023-11-24 19:48:34,111] Trial 21 finished with values: [1.0, 0.16197560000000003] and parameters: {'k': 2, 'L': 5, 'table_size': 15000, 'window_size': 2200}. \n"
     ]
    },
    {
     "name": "stdout",
     "output_type": "stream",
     "text": [
      "Read MNIST data\n",
      "Done\n",
      "Algorithm: LSH\n",
      "Query: 0\n",
      "Query: 1\n",
      "Query: 2\n",
      "Query: 3\n",
      "Query: 4\n",
      "Query: 5\n",
      "Query: 6\n",
      "Query: 7\n",
      "Query: 8\n",
      "Query: 9\n"
     ]
    },
    {
     "name": "stderr",
     "output_type": "stream",
     "text": [
      "[I 2023-11-24 19:48:44,786] Trial 22 finished with values: [1.1715051676140873, 0.0323208] and parameters: {'k': 5, 'L': 4, 'table_size': 15000, 'window_size': 2588}. \n"
     ]
    },
    {
     "name": "stdout",
     "output_type": "stream",
     "text": [
      "Read MNIST data\n",
      "Done\n",
      "Algorithm: LSH\n",
      "Query: 0\n",
      "Query: 1\n",
      "Query: 2\n",
      "Query: 3\n",
      "Query: 4\n",
      "Query: 5\n",
      "Query: 6\n",
      "Query: 7\n",
      "Query: 8\n",
      "Query: 9\n"
     ]
    },
    {
     "name": "stderr",
     "output_type": "stream",
     "text": [
      "[I 2023-11-24 19:48:53,747] Trial 23 finished with values: [1.2433827200130751, 0.004987] and parameters: {'k': 4, 'L': 4, 'table_size': 3750, 'window_size': 1301}. \n"
     ]
    },
    {
     "name": "stdout",
     "output_type": "stream",
     "text": [
      "Read MNIST data\n",
      "Done\n",
      "Algorithm: LSH\n",
      "Query: 0\n",
      "Query: 1\n",
      "Query: 2\n",
      "Query: 3\n",
      "Query: 4\n",
      "Query: 5\n",
      "Query: 6\n",
      "Query: 7\n",
      "Query: 8\n",
      "Query: 9\n"
     ]
    },
    {
     "name": "stderr",
     "output_type": "stream",
     "text": [
      "[I 2023-11-24 19:49:08,155] Trial 24 finished with values: [1.582784104669386, 0.0030792] and parameters: {'k': 5, 'L': 6, 'table_size': 7500, 'window_size': 1201}. \n"
     ]
    },
    {
     "name": "stdout",
     "output_type": "stream",
     "text": [
      "Read MNIST data\n",
      "Done\n",
      "Algorithm: LSH\n",
      "Query: 0\n",
      "Query: 1\n",
      "Query: 2\n",
      "Query: 3\n",
      "Query: 4\n",
      "Query: 5\n",
      "Query: 6\n",
      "Query: 7\n",
      "Query: 8\n",
      "Query: 9\n"
     ]
    },
    {
     "name": "stderr",
     "output_type": "stream",
     "text": [
      "[I 2023-11-24 19:49:30,251] Trial 25 finished with values: [2.1632952522415163, 0.0016367000000000003] and parameters: {'k': 10, 'L': 5, 'table_size': 15000, 'window_size': 1968}. \n"
     ]
    },
    {
     "name": "stdout",
     "output_type": "stream",
     "text": [
      "Read MNIST data\n",
      "Done\n",
      "Algorithm: LSH\n",
      "Query: 0\n",
      "Query: 1\n",
      "Query: 2\n",
      "Query: 3\n",
      "Query: 4\n",
      "Query: 5\n",
      "Query: 6\n",
      "Query: 7\n",
      "Query: 8\n",
      "Query: 9\n"
     ]
    },
    {
     "name": "stderr",
     "output_type": "stream",
     "text": [
      "[I 2023-11-24 19:49:40,475] Trial 26 finished with values: [1.0, 0.0194746] and parameters: {'k': 6, 'L': 3, 'table_size': 3750, 'window_size': 3146}. \n"
     ]
    },
    {
     "name": "stdout",
     "output_type": "stream",
     "text": [
      "Read MNIST data\n",
      "Done\n",
      "Algorithm: LSH\n",
      "Query: 0\n",
      "Query: 1\n",
      "Query: 2\n",
      "Query: 3\n",
      "Query: 4\n",
      "Query: 5\n",
      "Query: 6\n",
      "Query: 7\n",
      "Query: 8\n",
      "Query: 9\n"
     ]
    },
    {
     "name": "stderr",
     "output_type": "stream",
     "text": [
      "[I 2023-11-24 19:50:18,977] Trial 27 finished with values: [1.0, 0.059251599999999995] and parameters: {'k': 10, 'L': 9, 'table_size': 7500, 'window_size': 4428}. \n"
     ]
    },
    {
     "name": "stdout",
     "output_type": "stream",
     "text": [
      "Read MNIST data\n",
      "Done\n",
      "Algorithm: LSH\n",
      "Query: 0\n",
      "Query: 1\n",
      "Query: 2\n",
      "Query: 3\n",
      "Query: 4\n",
      "Query: 5\n",
      "Query: 6\n",
      "Query: 7\n",
      "Query: 8\n",
      "Query: 9\n"
     ]
    },
    {
     "name": "stderr",
     "output_type": "stream",
     "text": [
      "[I 2023-11-24 19:50:40,009] Trial 28 finished with values: [1.2080460304822447, 0.0090235] and parameters: {'k': 5, 'L': 9, 'table_size': 3750, 'window_size': 1375}. \n"
     ]
    },
    {
     "name": "stdout",
     "output_type": "stream",
     "text": [
      "Read MNIST data\n",
      "Done\n",
      "Algorithm: LSH\n",
      "Query: 0\n",
      "Query: 1\n",
      "Query: 2\n",
      "Query: 3\n",
      "Query: 4\n",
      "Query: 5\n",
      "Query: 6\n",
      "Query: 7\n",
      "Query: 8\n",
      "Query: 9\n"
     ]
    },
    {
     "name": "stderr",
     "output_type": "stream",
     "text": [
      "[I 2023-11-24 19:50:50,945] Trial 29 finished with values: [1.0032135839258385, 0.13027249999999996] and parameters: {'k': 2, 'L': 8, 'table_size': 7500, 'window_size': 1351}. \n"
     ]
    },
    {
     "name": "stdout",
     "output_type": "stream",
     "text": [
      "Read MNIST data\n",
      "Done\n",
      "Algorithm: LSH\n",
      "Query: 0\n",
      "Query: 1\n",
      "Query: 2\n",
      "Query: 3\n",
      "Query: 4\n",
      "Query: 5\n",
      "Query: 6\n",
      "Query: 7\n",
      "Query: 8\n",
      "Query: 9\n"
     ]
    },
    {
     "name": "stderr",
     "output_type": "stream",
     "text": [
      "[I 2023-11-24 19:51:12,747] Trial 30 finished with values: [2.530989232069844, 0.0010091000000000002] and parameters: {'k': 8, 'L': 6, 'table_size': 15000, 'window_size': 1235}. \n"
     ]
    },
    {
     "name": "stdout",
     "output_type": "stream",
     "text": [
      "Read MNIST data\n",
      "Done\n",
      "Algorithm: LSH\n",
      "Query: 0\n",
      "Query: 1\n",
      "Query: 2\n",
      "Query: 3\n",
      "Query: 4\n",
      "Query: 5\n",
      "Query: 6\n",
      "Query: 7\n",
      "Query: 8\n",
      "Query: 9\n"
     ]
    },
    {
     "name": "stderr",
     "output_type": "stream",
     "text": [
      "[I 2023-11-24 19:51:45,139] Trial 31 finished with values: [1.0021869427020387, 0.1268195] and parameters: {'k': 8, 'L': 9, 'table_size': 3750, 'window_size': 4988}. \n"
     ]
    },
    {
     "name": "stdout",
     "output_type": "stream",
     "text": [
      "Read MNIST data\n",
      "Done\n",
      "Algorithm: LSH\n",
      "Query: 0\n",
      "Query: 1\n",
      "Query: 2\n",
      "Query: 3\n",
      "Query: 4\n",
      "Query: 5\n",
      "Query: 6\n",
      "Query: 7\n",
      "Query: 8\n",
      "Query: 9\n"
     ]
    },
    {
     "name": "stderr",
     "output_type": "stream",
     "text": [
      "[I 2023-11-24 19:52:05,138] Trial 32 finished with values: [1.0, 0.4336101] and parameters: {'k': 4, 'L': 8, 'table_size': 15000, 'window_size': 4665}. \n"
     ]
    },
    {
     "name": "stdout",
     "output_type": "stream",
     "text": [
      "Read MNIST data\n",
      "Done\n",
      "Algorithm: LSH\n",
      "Query: 0\n",
      "Query: 1\n",
      "Query: 2\n",
      "Query: 3\n",
      "Query: 4\n",
      "Query: 5\n",
      "Query: 6\n",
      "Query: 7\n",
      "Query: 8\n",
      "Query: 9\n"
     ]
    },
    {
     "name": "stderr",
     "output_type": "stream",
     "text": [
      "[I 2023-11-24 19:52:12,671] Trial 33 finished with values: [1.0, 0.060044] and parameters: {'k': 5, 'L': 2, 'table_size': 7500, 'window_size': 4665}. \n"
     ]
    },
    {
     "name": "stdout",
     "output_type": "stream",
     "text": [
      "Read MNIST data\n",
      "Done\n",
      "Algorithm: LSH\n",
      "Query: 0\n",
      "Query: 1\n",
      "Query: 2\n",
      "Query: 3\n",
      "Query: 4\n",
      "Query: 5\n",
      "Query: 6\n",
      "Query: 7\n",
      "Query: 8\n",
      "Query: 9\n"
     ]
    },
    {
     "name": "stderr",
     "output_type": "stream",
     "text": [
      "[I 2023-11-24 19:52:35,560] Trial 34 finished with values: [1.0, 0.2202912] and parameters: {'k': 5, 'L': 9, 'table_size': 7500, 'window_size': 4966}. \n"
     ]
    },
    {
     "name": "stdout",
     "output_type": "stream",
     "text": [
      "Read MNIST data\n",
      "Done\n",
      "Algorithm: LSH\n",
      "Query: 0\n",
      "Query: 1\n",
      "Query: 2\n",
      "Query: 3\n",
      "Query: 4\n",
      "Query: 5\n",
      "Query: 6\n",
      "Query: 7\n",
      "Query: 8\n",
      "Query: 9\n"
     ]
    },
    {
     "name": "stderr",
     "output_type": "stream",
     "text": [
      "[I 2023-11-24 19:52:51,477] Trial 35 finished with values: [1.0, 0.17962799999999998] and parameters: {'k': 4, 'L': 7, 'table_size': 7500, 'window_size': 3458}. \n"
     ]
    },
    {
     "name": "stdout",
     "output_type": "stream",
     "text": [
      "Read MNIST data\n",
      "Done\n",
      "Algorithm: LSH\n",
      "Query: 0\n",
      "Query: 1\n",
      "Query: 2\n",
      "Query: 3\n",
      "Query: 4\n",
      "Query: 5\n",
      "Query: 6\n",
      "Query: 7\n",
      "Query: 8\n",
      "Query: 9\n"
     ]
    },
    {
     "name": "stderr",
     "output_type": "stream",
     "text": [
      "[I 2023-11-24 19:53:18,652] Trial 36 finished with values: [1.0, 0.0823453] and parameters: {'k': 6, 'L': 10, 'table_size': 3750, 'window_size': 2934}. \n"
     ]
    },
    {
     "name": "stdout",
     "output_type": "stream",
     "text": [
      "Read MNIST data\n",
      "Done\n",
      "Algorithm: LSH\n",
      "Query: 0\n",
      "Query: 1\n",
      "Query: 2\n",
      "Query: 3\n",
      "Query: 4\n",
      "Query: 5\n",
      "Query: 6\n",
      "Query: 7\n",
      "Query: 8\n",
      "Query: 9\n"
     ]
    },
    {
     "name": "stderr",
     "output_type": "stream",
     "text": [
      "[I 2023-11-24 19:53:50,341] Trial 37 finished with values: [1.0, 0.1304873] and parameters: {'k': 7, 'L': 10, 'table_size': 7500, 'window_size': 4085}. \n"
     ]
    },
    {
     "name": "stdout",
     "output_type": "stream",
     "text": [
      "Read MNIST data\n",
      "Done\n",
      "Algorithm: LSH\n",
      "Query: 0\n",
      "Query: 1\n",
      "Query: 2\n",
      "Query: 3\n",
      "Query: 4\n",
      "Query: 5\n",
      "Query: 6\n",
      "Query: 7\n",
      "Query: 8\n",
      "Query: 9\n"
     ]
    },
    {
     "name": "stderr",
     "output_type": "stream",
     "text": [
      "[I 2023-11-24 19:54:07,583] Trial 38 finished with values: [1.1609128232011328, 0.004841799999999999] and parameters: {'k': 6, 'L': 6, 'table_size': 15000, 'window_size': 1667}. \n"
     ]
    },
    {
     "name": "stdout",
     "output_type": "stream",
     "text": [
      "Read MNIST data\n",
      "Done\n",
      "Algorithm: LSH\n",
      "Query: 0\n",
      "Query: 1\n",
      "Query: 2\n",
      "Query: 3\n",
      "Query: 4\n",
      "Query: 5\n",
      "Query: 6\n",
      "Query: 7\n",
      "Query: 8\n",
      "Query: 9\n"
     ]
    },
    {
     "name": "stderr",
     "output_type": "stream",
     "text": [
      "[I 2023-11-24 19:54:20,573] Trial 39 finished with values: [1.222397377444046, 0.012278999999999998] and parameters: {'k': 5, 'L': 5, 'table_size': 3750, 'window_size': 1702}. \n"
     ]
    },
    {
     "name": "stdout",
     "output_type": "stream",
     "text": [
      "Read MNIST data\n",
      "Done\n",
      "Algorithm: LSH\n",
      "Query: 0\n",
      "Query: 1\n",
      "Query: 2\n",
      "Query: 3\n",
      "Query: 4\n",
      "Query: 5\n",
      "Query: 6\n",
      "Query: 7\n",
      "Query: 8\n",
      "Query: 9\n"
     ]
    },
    {
     "name": "stderr",
     "output_type": "stream",
     "text": [
      "[I 2023-11-24 19:55:02,775] Trial 40 finished with values: [1.9656307013892271, 0.0012372999999999998] and parameters: {'k': 10, 'L': 10, 'table_size': 7500, 'window_size': 1230}. \n"
     ]
    },
    {
     "name": "stdout",
     "output_type": "stream",
     "text": [
      "Read MNIST data\n",
      "Done\n",
      "Algorithm: LSH\n",
      "Query: 0\n",
      "Query: 1\n",
      "Query: 2\n",
      "Query: 3\n",
      "Query: 4\n",
      "Query: 5\n",
      "Query: 6\n",
      "Query: 7\n",
      "Query: 8\n",
      "Query: 9\n"
     ]
    },
    {
     "name": "stderr",
     "output_type": "stream",
     "text": [
      "[I 2023-11-24 19:55:20,174] Trial 41 finished with values: [1.1282416764283798, 0.0464026] and parameters: {'k': 9, 'L': 4, 'table_size': 7500, 'window_size': 4172}. \n"
     ]
    },
    {
     "name": "stdout",
     "output_type": "stream",
     "text": [
      "Read MNIST data\n",
      "Done\n",
      "Algorithm: LSH\n",
      "Query: 0\n",
      "Query: 1\n",
      "Query: 2\n",
      "Query: 3\n",
      "Query: 4\n",
      "Query: 5\n",
      "Query: 6\n",
      "Query: 7\n",
      "Query: 8\n",
      "Query: 9\n"
     ]
    },
    {
     "name": "stderr",
     "output_type": "stream",
     "text": [
      "[I 2023-11-24 19:55:29,528] Trial 42 finished with values: [1.082425218156335, 0.034891] and parameters: {'k': 3, 'L': 5, 'table_size': 7500, 'window_size': 1421}. \n"
     ]
    },
    {
     "name": "stdout",
     "output_type": "stream",
     "text": [
      "Read MNIST data\n",
      "Done\n",
      "Algorithm: LSH\n",
      "Query: 0\n",
      "Query: 1\n",
      "Query: 2\n",
      "Query: 3\n",
      "Query: 4\n",
      "Query: 5\n",
      "Query: 6\n",
      "Query: 7\n",
      "Query: 8\n",
      "Query: 9\n"
     ]
    },
    {
     "name": "stderr",
     "output_type": "stream",
     "text": [
      "[I 2023-11-24 19:55:37,353] Trial 43 finished with values: [1.4385305820029064, 0.0059379] and parameters: {'k': 4, 'L': 3, 'table_size': 7500, 'window_size': 1444}. \n"
     ]
    },
    {
     "name": "stdout",
     "output_type": "stream",
     "text": [
      "Read MNIST data\n",
      "Done\n",
      "Algorithm: LSH\n",
      "Query: 0\n",
      "Query: 1\n",
      "Query: 2\n",
      "Query: 3\n",
      "Query: 4\n",
      "Query: 5\n",
      "Query: 6\n",
      "Query: 7\n",
      "Query: 8\n",
      "Query: 9\n"
     ]
    },
    {
     "name": "stderr",
     "output_type": "stream",
     "text": [
      "[I 2023-11-24 19:55:55,968] Trial 44 finished with values: [1.7976931348623157e+308, 0.0006727] and parameters: {'k': 10, 'L': 4, 'table_size': 7500, 'window_size': 1257}. \n"
     ]
    },
    {
     "name": "stdout",
     "output_type": "stream",
     "text": [
      "Read MNIST data\n",
      "Done\n",
      "Algorithm: LSH\n",
      "Query: 0\n",
      "Query: 1\n",
      "Query: 2\n",
      "Query: 3\n",
      "Query: 4\n",
      "Query: 5\n",
      "Query: 6\n",
      "Query: 7\n",
      "Query: 8\n",
      "Query: 9\n"
     ]
    },
    {
     "name": "stderr",
     "output_type": "stream",
     "text": [
      "[I 2023-11-24 19:56:08,103] Trial 45 finished with values: [1.0054433345508196, 0.0964148] and parameters: {'k': 7, 'L': 3, 'table_size': 3750, 'window_size': 4686}. \n"
     ]
    },
    {
     "name": "stdout",
     "output_type": "stream",
     "text": [
      "Read MNIST data\n",
      "Done\n",
      "Algorithm: LSH\n",
      "Query: 0\n",
      "Query: 1\n",
      "Query: 2\n",
      "Query: 3\n",
      "Query: 4\n",
      "Query: 5\n",
      "Query: 6\n",
      "Query: 7\n",
      "Query: 8\n",
      "Query: 9\n"
     ]
    },
    {
     "name": "stderr",
     "output_type": "stream",
     "text": [
      "[I 2023-11-24 19:56:18,999] Trial 46 finished with values: [1.0, 0.29899000000000003] and parameters: {'k': 2, 'L': 6, 'table_size': 3750, 'window_size': 3559}. \n"
     ]
    },
    {
     "name": "stdout",
     "output_type": "stream",
     "text": [
      "Read MNIST data\n",
      "Done\n",
      "Algorithm: LSH\n",
      "Query: 0\n",
      "Query: 1\n",
      "Query: 2\n",
      "Query: 3\n",
      "Query: 4\n",
      "Query: 5\n",
      "Query: 6\n",
      "Query: 7\n",
      "Query: 8\n",
      "Query: 9\n"
     ]
    },
    {
     "name": "stderr",
     "output_type": "stream",
     "text": [
      "[I 2023-11-24 19:56:33,592] Trial 47 finished with values: [1.0, 0.4211066999999999] and parameters: {'k': 2, 'L': 9, 'table_size': 15000, 'window_size': 2748}. \n"
     ]
    },
    {
     "name": "stdout",
     "output_type": "stream",
     "text": [
      "Read MNIST data\n",
      "Done\n",
      "Algorithm: LSH\n",
      "Query: 0\n",
      "Query: 1\n",
      "Query: 2\n",
      "Query: 3\n",
      "Query: 4\n",
      "Query: 5\n",
      "Query: 6\n",
      "Query: 7\n",
      "Query: 8\n",
      "Query: 9\n"
     ]
    },
    {
     "name": "stderr",
     "output_type": "stream",
     "text": [
      "[I 2023-11-24 19:56:44,916] Trial 48 finished with values: [1.4385305820029064, 0.0068092] and parameters: {'k': 7, 'L': 3, 'table_size': 15000, 'window_size': 2250}. \n"
     ]
    },
    {
     "name": "stdout",
     "output_type": "stream",
     "text": [
      "Read MNIST data\n",
      "Done\n",
      "Algorithm: LSH\n",
      "Query: 0\n",
      "Query: 1\n",
      "Query: 2\n",
      "Query: 3\n",
      "Query: 4\n",
      "Query: 5\n",
      "Query: 6\n",
      "Query: 7\n",
      "Query: 8\n",
      "Query: 9\n"
     ]
    },
    {
     "name": "stderr",
     "output_type": "stream",
     "text": [
      "[I 2023-11-24 19:57:00,923] Trial 49 finished with values: [1.0, 0.5556825] and parameters: {'k': 2, 'L': 9, 'table_size': 15000, 'window_size': 4259}. \n"
     ]
    },
    {
     "name": "stdout",
     "output_type": "stream",
     "text": [
      "-----------------------------------------------------\n",
      "Trial no. 26\n",
      " Values = [1.0, 0.0194746]\n",
      " Params = {'k': 6, 'L': 3, 'table_size': 3750, 'window_size': 3146}\n",
      "Trial no. 6\n",
      " Values = [1.1308915778266788, 0.0152777]\n",
      " Params = {'k': 2, 'L': 3, 'table_size': 7500, 'window_size': 1120}\n",
      "Trial no. 38\n",
      " Values = [1.1609128232011328, 0.004841799999999999]\n",
      " Params = {'k': 6, 'L': 6, 'table_size': 15000, 'window_size': 1667}\n",
      "Trial no. 11\n",
      " Values = [1.4151888797371197, 0.0023997999999999997]\n",
      " Params = {'k': 6, 'L': 5, 'table_size': 3750, 'window_size': 1514}\n",
      "Trial no. 10\n",
      " Values = [1.685662653483007, 0.0016545999999999998]\n",
      " Params = {'k': 8, 'L': 5, 'table_size': 15000, 'window_size': 1902}\n",
      "Trial no. 40\n",
      " Values = [1.9656307013892271, 0.0012372999999999998]\n",
      " Params = {'k': 10, 'L': 10, 'table_size': 7500, 'window_size': 1230}\n",
      "Trial no. 2\n",
      " Values = [2.096701335671093, 0.0009851999999999999]\n",
      " Params = {'k': 9, 'L': 5, 'table_size': 15000, 'window_size': 1724}\n",
      "Trial no. 4\n",
      " Values = [1.7976931348623157e+308, 0.0003581]\n",
      " Params = {'k': 10, 'L': 2, 'table_size': 3750, 'window_size': 1405}\n",
      "CPU times: user 13min 15s, sys: 50.2 s, total: 14min 5s\n",
      "Wall time: 14min 5s\n"
     ]
    }
   ],
   "source": [
    "%%time\n",
    "lsh_study = optuna.create_study(study_name='lsh', directions=['minimize', 'minimize'])\n",
    "lsh_study.optimize(objective_lsh, n_trials=50)\n",
    "print(\"-----------------------------------------------------\")\n",
    "\n",
    "trials = sorted(lsh_study.best_trials, key=lambda x: x.values)\n",
    "for trial in trials:\n",
    "    print(\"Trial no. {}\".format(trial.number))\n",
    "    print(\" Values = {}\".format(trial.values))\n",
    "    print(\" Params = {}\".format(trial.params))"
   ]
  },
  {
   "attachments": {},
   "cell_type": "markdown",
   "metadata": {},
   "source": [
    "## Visualize LSH study results"
   ]
  },
  {
   "cell_type": "code",
   "execution_count": 5,
   "metadata": {},
   "outputs": [
    {
     "data": {
      "application/vnd.plotly.v1+json": {
       "config": {
        "plotlyServerURL": "https://plot.ly"
       },
       "data": [
        {
         "hovertemplate": "%{text}<extra>Trial</extra>",
         "marker": {
          "color": [
           0,
           1,
           3,
           5,
           7,
           8,
           9,
           12,
           13,
           14,
           15,
           16,
           17,
           18,
           19,
           20,
           21,
           22,
           23,
           24,
           25,
           27,
           28,
           29,
           30,
           31,
           32,
           33,
           34,
           35,
           36,
           37,
           39,
           41,
           42,
           43,
           44,
           45,
           46,
           47,
           48,
           49
          ],
          "colorbar": {
           "title": {
            "text": "Trial"
           }
          },
          "colorscale": [
           [
            0,
            "rgb(247,251,255)"
           ],
           [
            0.125,
            "rgb(222,235,247)"
           ],
           [
            0.25,
            "rgb(198,219,239)"
           ],
           [
            0.375,
            "rgb(158,202,225)"
           ],
           [
            0.5,
            "rgb(107,174,214)"
           ],
           [
            0.625,
            "rgb(66,146,198)"
           ],
           [
            0.75,
            "rgb(33,113,181)"
           ],
           [
            0.875,
            "rgb(8,81,156)"
           ],
           [
            1,
            "rgb(8,48,107)"
           ]
          ],
          "line": {
           "color": "Grey",
           "width": 0.5
          }
         },
         "mode": "markers",
         "showlegend": false,
         "text": [
          "{<br>  \"number\": 0,<br>  \"values\": [<br>    1.1564258406886092,<br>    0.015325<br>  ],<br>  \"params\": {<br>    \"k\": 6,<br>    \"L\": 6,<br>    \"table_size\": 3750,<br>    \"window_size\": 2404<br>  }<br>}",
          "{<br>  \"number\": 1,<br>  \"values\": [<br>    1.0,<br>    0.0796542<br>  ],<br>  \"params\": {<br>    \"k\": 3,<br>    \"L\": 2,<br>    \"table_size\": 3750,<br>    \"window_size\": 3411<br>  }<br>}",
          "{<br>  \"number\": 3,<br>  \"values\": [<br>    1.0469523739817346,<br>    0.0459947<br>  ],<br>  \"params\": {<br>    \"k\": 9,<br>    \"L\": 3,<br>    \"table_size\": 15000,<br>    \"window_size\": 4970<br>  }<br>}",
          "{<br>  \"number\": 5,<br>  \"values\": [<br>    1.7976931348623157e+308,<br>    0.0006930999999999999<br>  ],<br>  \"params\": {<br>    \"k\": 9,<br>    \"L\": 5,<br>    \"table_size\": 7500,<br>    \"window_size\": 1359<br>  }<br>}",
          "{<br>  \"number\": 7,<br>  \"values\": [<br>    1.1564258406886092,<br>    0.03314349999999999<br>  ],<br>  \"params\": {<br>    \"k\": 3,<br>    \"L\": 3,<br>    \"table_size\": 15000,<br>    \"window_size\": 1910<br>  }<br>}",
          "{<br>  \"number\": 8,<br>  \"values\": [<br>    1.0,<br>    0.06351409999999999<br>  ],<br>  \"params\": {<br>    \"k\": 9,<br>    \"L\": 7,<br>    \"table_size\": 7500,<br>    \"window_size\": 4474<br>  }<br>}",
          "{<br>  \"number\": 9,<br>  \"values\": [<br>    1.0356523434986677,<br>    0.08880060000000001<br>  ],<br>  \"params\": {<br>    \"k\": 5,<br>    \"L\": 5,<br>    \"table_size\": 3750,<br>    \"window_size\": 3583<br>  }<br>}",
          "{<br>  \"number\": 12,<br>  \"values\": [<br>    1.1788716310993363,<br>    0.0064695<br>  ],<br>  \"params\": {<br>    \"k\": 9,<br>    \"L\": 9,<br>    \"table_size\": 15000,<br>    \"window_size\": 2358<br>  }<br>}",
          "{<br>  \"number\": 13,<br>  \"values\": [<br>    1.2138728669424221,<br>    0.0059727<br>  ],<br>  \"params\": {<br>    \"k\": 9,<br>    \"L\": 4,<br>    \"table_size\": 15000,<br>    \"window_size\": 2821<br>  }<br>}",
          "{<br>  \"number\": 14,<br>  \"values\": [<br>    1.082425218156335,<br>    0.0356664<br>  ],<br>  \"params\": {<br>    \"k\": 8,<br>    \"L\": 8,<br>    \"table_size\": 3750,<br>    \"window_size\": 3110<br>  }<br>}",
          "{<br>  \"number\": 15,<br>  \"values\": [<br>    1.0054433345508196,<br>    0.0311914<br>  ],<br>  \"params\": {<br>    \"k\": 7,<br>    \"L\": 9,<br>    \"table_size\": 3750,<br>    \"window_size\": 2760<br>  }<br>}",
          "{<br>  \"number\": 16,<br>  \"values\": [<br>    1.0356523434986677,<br>    0.0242489<br>  ],<br>  \"params\": {<br>    \"k\": 7,<br>    \"L\": 2,<br>    \"table_size\": 7500,<br>    \"window_size\": 4900<br>  }<br>}",
          "{<br>  \"number\": 17,<br>  \"values\": [<br>    1.1564258406886092,<br>    0.015778900000000002<br>  ],<br>  \"params\": {<br>    \"k\": 8,<br>    \"L\": 2,<br>    \"table_size\": 7500,<br>    \"window_size\": 3849<br>  }<br>}",
          "{<br>  \"number\": 18,<br>  \"values\": [<br>    1.112224861852963,<br>    0.0408282<br>  ],<br>  \"params\": {<br>    \"k\": 4,<br>    \"L\": 6,<br>    \"table_size\": 15000,<br>    \"window_size\": 1926<br>  }<br>}",
          "{<br>  \"number\": 19,<br>  \"values\": [<br>    1.0021869427020387,<br>    0.06659249999999999<br>  ],<br>  \"params\": {<br>    \"k\": 4,<br>    \"L\": 8,<br>    \"table_size\": 15000,<br>    \"window_size\": 2147<br>  }<br>}",
          "{<br>  \"number\": 20,<br>  \"values\": [<br>    1.0,<br>    0.30134910000000004<br>  ],<br>  \"params\": {<br>    \"k\": 3,<br>    \"L\": 6,<br>    \"table_size\": 7500,<br>    \"window_size\": 4944<br>  }<br>}",
          "{<br>  \"number\": 21,<br>  \"values\": [<br>    1.0,<br>    0.16197560000000003<br>  ],<br>  \"params\": {<br>    \"k\": 2,<br>    \"L\": 5,<br>    \"table_size\": 15000,<br>    \"window_size\": 2200<br>  }<br>}",
          "{<br>  \"number\": 22,<br>  \"values\": [<br>    1.1715051676140873,<br>    0.0323208<br>  ],<br>  \"params\": {<br>    \"k\": 5,<br>    \"L\": 4,<br>    \"table_size\": 15000,<br>    \"window_size\": 2588<br>  }<br>}",
          "{<br>  \"number\": 23,<br>  \"values\": [<br>    1.2433827200130751,<br>    0.004987<br>  ],<br>  \"params\": {<br>    \"k\": 4,<br>    \"L\": 4,<br>    \"table_size\": 3750,<br>    \"window_size\": 1301<br>  }<br>}",
          "{<br>  \"number\": 24,<br>  \"values\": [<br>    1.582784104669386,<br>    0.0030792<br>  ],<br>  \"params\": {<br>    \"k\": 5,<br>    \"L\": 6,<br>    \"table_size\": 7500,<br>    \"window_size\": 1201<br>  }<br>}",
          "{<br>  \"number\": 25,<br>  \"values\": [<br>    2.1632952522415163,<br>    0.0016367000000000003<br>  ],<br>  \"params\": {<br>    \"k\": 10,<br>    \"L\": 5,<br>    \"table_size\": 15000,<br>    \"window_size\": 1968<br>  }<br>}",
          "{<br>  \"number\": 27,<br>  \"values\": [<br>    1.0,<br>    0.059251599999999995<br>  ],<br>  \"params\": {<br>    \"k\": 10,<br>    \"L\": 9,<br>    \"table_size\": 7500,<br>    \"window_size\": 4428<br>  }<br>}",
          "{<br>  \"number\": 28,<br>  \"values\": [<br>    1.2080460304822447,<br>    0.0090235<br>  ],<br>  \"params\": {<br>    \"k\": 5,<br>    \"L\": 9,<br>    \"table_size\": 3750,<br>    \"window_size\": 1375<br>  }<br>}",
          "{<br>  \"number\": 29,<br>  \"values\": [<br>    1.0032135839258385,<br>    0.13027249999999996<br>  ],<br>  \"params\": {<br>    \"k\": 2,<br>    \"L\": 8,<br>    \"table_size\": 7500,<br>    \"window_size\": 1351<br>  }<br>}",
          "{<br>  \"number\": 30,<br>  \"values\": [<br>    2.530989232069844,<br>    0.0010091000000000002<br>  ],<br>  \"params\": {<br>    \"k\": 8,<br>    \"L\": 6,<br>    \"table_size\": 15000,<br>    \"window_size\": 1235<br>  }<br>}",
          "{<br>  \"number\": 31,<br>  \"values\": [<br>    1.0021869427020387,<br>    0.1268195<br>  ],<br>  \"params\": {<br>    \"k\": 8,<br>    \"L\": 9,<br>    \"table_size\": 3750,<br>    \"window_size\": 4988<br>  }<br>}",
          "{<br>  \"number\": 32,<br>  \"values\": [<br>    1.0,<br>    0.4336101<br>  ],<br>  \"params\": {<br>    \"k\": 4,<br>    \"L\": 8,<br>    \"table_size\": 15000,<br>    \"window_size\": 4665<br>  }<br>}",
          "{<br>  \"number\": 33,<br>  \"values\": [<br>    1.0,<br>    0.060044<br>  ],<br>  \"params\": {<br>    \"k\": 5,<br>    \"L\": 2,<br>    \"table_size\": 7500,<br>    \"window_size\": 4665<br>  }<br>}",
          "{<br>  \"number\": 34,<br>  \"values\": [<br>    1.0,<br>    0.2202912<br>  ],<br>  \"params\": {<br>    \"k\": 5,<br>    \"L\": 9,<br>    \"table_size\": 7500,<br>    \"window_size\": 4966<br>  }<br>}",
          "{<br>  \"number\": 35,<br>  \"values\": [<br>    1.0,<br>    0.17962799999999998<br>  ],<br>  \"params\": {<br>    \"k\": 4,<br>    \"L\": 7,<br>    \"table_size\": 7500,<br>    \"window_size\": 3458<br>  }<br>}",
          "{<br>  \"number\": 36,<br>  \"values\": [<br>    1.0,<br>    0.0823453<br>  ],<br>  \"params\": {<br>    \"k\": 6,<br>    \"L\": 10,<br>    \"table_size\": 3750,<br>    \"window_size\": 2934<br>  }<br>}",
          "{<br>  \"number\": 37,<br>  \"values\": [<br>    1.0,<br>    0.1304873<br>  ],<br>  \"params\": {<br>    \"k\": 7,<br>    \"L\": 10,<br>    \"table_size\": 7500,<br>    \"window_size\": 4085<br>  }<br>}",
          "{<br>  \"number\": 39,<br>  \"values\": [<br>    1.222397377444046,<br>    0.012278999999999998<br>  ],<br>  \"params\": {<br>    \"k\": 5,<br>    \"L\": 5,<br>    \"table_size\": 3750,<br>    \"window_size\": 1702<br>  }<br>}",
          "{<br>  \"number\": 41,<br>  \"values\": [<br>    1.1282416764283798,<br>    0.0464026<br>  ],<br>  \"params\": {<br>    \"k\": 9,<br>    \"L\": 4,<br>    \"table_size\": 7500,<br>    \"window_size\": 4172<br>  }<br>}",
          "{<br>  \"number\": 42,<br>  \"values\": [<br>    1.082425218156335,<br>    0.034891<br>  ],<br>  \"params\": {<br>    \"k\": 3,<br>    \"L\": 5,<br>    \"table_size\": 7500,<br>    \"window_size\": 1421<br>  }<br>}",
          "{<br>  \"number\": 43,<br>  \"values\": [<br>    1.4385305820029064,<br>    0.0059379<br>  ],<br>  \"params\": {<br>    \"k\": 4,<br>    \"L\": 3,<br>    \"table_size\": 7500,<br>    \"window_size\": 1444<br>  }<br>}",
          "{<br>  \"number\": 44,<br>  \"values\": [<br>    1.7976931348623157e+308,<br>    0.0006727<br>  ],<br>  \"params\": {<br>    \"k\": 10,<br>    \"L\": 4,<br>    \"table_size\": 7500,<br>    \"window_size\": 1257<br>  }<br>}",
          "{<br>  \"number\": 45,<br>  \"values\": [<br>    1.0054433345508196,<br>    0.0964148<br>  ],<br>  \"params\": {<br>    \"k\": 7,<br>    \"L\": 3,<br>    \"table_size\": 3750,<br>    \"window_size\": 4686<br>  }<br>}",
          "{<br>  \"number\": 46,<br>  \"values\": [<br>    1.0,<br>    0.29899000000000003<br>  ],<br>  \"params\": {<br>    \"k\": 2,<br>    \"L\": 6,<br>    \"table_size\": 3750,<br>    \"window_size\": 3559<br>  }<br>}",
          "{<br>  \"number\": 47,<br>  \"values\": [<br>    1.0,<br>    0.4211066999999999<br>  ],<br>  \"params\": {<br>    \"k\": 2,<br>    \"L\": 9,<br>    \"table_size\": 15000,<br>    \"window_size\": 2748<br>  }<br>}",
          "{<br>  \"number\": 48,<br>  \"values\": [<br>    1.4385305820029064,<br>    0.0068092<br>  ],<br>  \"params\": {<br>    \"k\": 7,<br>    \"L\": 3,<br>    \"table_size\": 15000,<br>    \"window_size\": 2250<br>  }<br>}",
          "{<br>  \"number\": 49,<br>  \"values\": [<br>    1.0,<br>    0.5556825<br>  ],<br>  \"params\": {<br>    \"k\": 2,<br>    \"L\": 9,<br>    \"table_size\": 15000,<br>    \"window_size\": 4259<br>  }<br>}"
         ],
         "type": "scatter",
         "x": [
          1.1564258406886092,
          1,
          1.0469523739817346,
          1.7976931348623157e+308,
          1.1564258406886092,
          1,
          1.0356523434986677,
          1.1788716310993363,
          1.2138728669424221,
          1.082425218156335,
          1.0054433345508196,
          1.0356523434986677,
          1.1564258406886092,
          1.112224861852963,
          1.0021869427020387,
          1,
          1,
          1.1715051676140873,
          1.2433827200130751,
          1.582784104669386,
          2.1632952522415163,
          1,
          1.2080460304822447,
          1.0032135839258385,
          2.530989232069844,
          1.0021869427020387,
          1,
          1,
          1,
          1,
          1,
          1,
          1.222397377444046,
          1.1282416764283798,
          1.082425218156335,
          1.4385305820029064,
          1.7976931348623157e+308,
          1.0054433345508196,
          1,
          1,
          1.4385305820029064,
          1
         ],
         "y": [
          0.015325,
          0.0796542,
          0.0459947,
          0.0006930999999999999,
          0.03314349999999999,
          0.06351409999999999,
          0.08880060000000001,
          0.0064695,
          0.0059727,
          0.0356664,
          0.0311914,
          0.0242489,
          0.015778900000000002,
          0.0408282,
          0.06659249999999999,
          0.30134910000000004,
          0.16197560000000003,
          0.0323208,
          0.004987,
          0.0030792,
          0.0016367000000000003,
          0.059251599999999995,
          0.0090235,
          0.13027249999999996,
          0.0010091000000000002,
          0.1268195,
          0.4336101,
          0.060044,
          0.2202912,
          0.17962799999999998,
          0.0823453,
          0.1304873,
          0.012278999999999998,
          0.0464026,
          0.034891,
          0.0059379,
          0.0006727,
          0.0964148,
          0.29899000000000003,
          0.4211066999999999,
          0.0068092,
          0.5556825
         ]
        },
        {
         "hovertemplate": "%{text}<extra>Best Trial</extra>",
         "marker": {
          "color": [
           2,
           4,
           6,
           10,
           11,
           26,
           38,
           40
          ],
          "colorbar": {
           "title": {
            "text": "Best Trial"
           },
           "x": 1.1,
           "xpad": 40
          },
          "colorscale": [
           [
            0,
            "rgb(255,245,240)"
           ],
           [
            0.125,
            "rgb(254,224,210)"
           ],
           [
            0.25,
            "rgb(252,187,161)"
           ],
           [
            0.375,
            "rgb(252,146,114)"
           ],
           [
            0.5,
            "rgb(251,106,74)"
           ],
           [
            0.625,
            "rgb(239,59,44)"
           ],
           [
            0.75,
            "rgb(203,24,29)"
           ],
           [
            0.875,
            "rgb(165,15,21)"
           ],
           [
            1,
            "rgb(103,0,13)"
           ]
          ],
          "line": {
           "color": "Grey",
           "width": 0.5
          }
         },
         "mode": "markers",
         "showlegend": false,
         "text": [
          "{<br>  \"number\": 2,<br>  \"values\": [<br>    2.096701335671093,<br>    0.0009851999999999999<br>  ],<br>  \"params\": {<br>    \"k\": 9,<br>    \"L\": 5,<br>    \"table_size\": 15000,<br>    \"window_size\": 1724<br>  }<br>}",
          "{<br>  \"number\": 4,<br>  \"values\": [<br>    1.7976931348623157e+308,<br>    0.0003581<br>  ],<br>  \"params\": {<br>    \"k\": 10,<br>    \"L\": 2,<br>    \"table_size\": 3750,<br>    \"window_size\": 1405<br>  }<br>}",
          "{<br>  \"number\": 6,<br>  \"values\": [<br>    1.1308915778266788,<br>    0.0152777<br>  ],<br>  \"params\": {<br>    \"k\": 2,<br>    \"L\": 3,<br>    \"table_size\": 7500,<br>    \"window_size\": 1120<br>  }<br>}",
          "{<br>  \"number\": 10,<br>  \"values\": [<br>    1.685662653483007,<br>    0.0016545999999999998<br>  ],<br>  \"params\": {<br>    \"k\": 8,<br>    \"L\": 5,<br>    \"table_size\": 15000,<br>    \"window_size\": 1902<br>  }<br>}",
          "{<br>  \"number\": 11,<br>  \"values\": [<br>    1.4151888797371197,<br>    0.0023997999999999997<br>  ],<br>  \"params\": {<br>    \"k\": 6,<br>    \"L\": 5,<br>    \"table_size\": 3750,<br>    \"window_size\": 1514<br>  }<br>}",
          "{<br>  \"number\": 26,<br>  \"values\": [<br>    1.0,<br>    0.0194746<br>  ],<br>  \"params\": {<br>    \"k\": 6,<br>    \"L\": 3,<br>    \"table_size\": 3750,<br>    \"window_size\": 3146<br>  }<br>}",
          "{<br>  \"number\": 38,<br>  \"values\": [<br>    1.1609128232011328,<br>    0.004841799999999999<br>  ],<br>  \"params\": {<br>    \"k\": 6,<br>    \"L\": 6,<br>    \"table_size\": 15000,<br>    \"window_size\": 1667<br>  }<br>}",
          "{<br>  \"number\": 40,<br>  \"values\": [<br>    1.9656307013892271,<br>    0.0012372999999999998<br>  ],<br>  \"params\": {<br>    \"k\": 10,<br>    \"L\": 10,<br>    \"table_size\": 7500,<br>    \"window_size\": 1230<br>  }<br>}"
         ],
         "type": "scatter",
         "x": [
          2.096701335671093,
          1.7976931348623157e+308,
          1.1308915778266788,
          1.685662653483007,
          1.4151888797371197,
          1,
          1.1609128232011328,
          1.9656307013892271
         ],
         "y": [
          0.0009851999999999999,
          0.0003581,
          0.0152777,
          0.0016545999999999998,
          0.0023997999999999997,
          0.0194746,
          0.004841799999999999,
          0.0012372999999999998
         ]
        }
       ],
       "layout": {
        "template": {
         "data": {
          "bar": [
           {
            "error_x": {
             "color": "#2a3f5f"
            },
            "error_y": {
             "color": "#2a3f5f"
            },
            "marker": {
             "line": {
              "color": "#E5ECF6",
              "width": 0.5
             },
             "pattern": {
              "fillmode": "overlay",
              "size": 10,
              "solidity": 0.2
             }
            },
            "type": "bar"
           }
          ],
          "barpolar": [
           {
            "marker": {
             "line": {
              "color": "#E5ECF6",
              "width": 0.5
             },
             "pattern": {
              "fillmode": "overlay",
              "size": 10,
              "solidity": 0.2
             }
            },
            "type": "barpolar"
           }
          ],
          "carpet": [
           {
            "aaxis": {
             "endlinecolor": "#2a3f5f",
             "gridcolor": "white",
             "linecolor": "white",
             "minorgridcolor": "white",
             "startlinecolor": "#2a3f5f"
            },
            "baxis": {
             "endlinecolor": "#2a3f5f",
             "gridcolor": "white",
             "linecolor": "white",
             "minorgridcolor": "white",
             "startlinecolor": "#2a3f5f"
            },
            "type": "carpet"
           }
          ],
          "choropleth": [
           {
            "colorbar": {
             "outlinewidth": 0,
             "ticks": ""
            },
            "type": "choropleth"
           }
          ],
          "contour": [
           {
            "colorbar": {
             "outlinewidth": 0,
             "ticks": ""
            },
            "colorscale": [
             [
              0,
              "#0d0887"
             ],
             [
              0.1111111111111111,
              "#46039f"
             ],
             [
              0.2222222222222222,
              "#7201a8"
             ],
             [
              0.3333333333333333,
              "#9c179e"
             ],
             [
              0.4444444444444444,
              "#bd3786"
             ],
             [
              0.5555555555555556,
              "#d8576b"
             ],
             [
              0.6666666666666666,
              "#ed7953"
             ],
             [
              0.7777777777777778,
              "#fb9f3a"
             ],
             [
              0.8888888888888888,
              "#fdca26"
             ],
             [
              1,
              "#f0f921"
             ]
            ],
            "type": "contour"
           }
          ],
          "contourcarpet": [
           {
            "colorbar": {
             "outlinewidth": 0,
             "ticks": ""
            },
            "type": "contourcarpet"
           }
          ],
          "heatmap": [
           {
            "colorbar": {
             "outlinewidth": 0,
             "ticks": ""
            },
            "colorscale": [
             [
              0,
              "#0d0887"
             ],
             [
              0.1111111111111111,
              "#46039f"
             ],
             [
              0.2222222222222222,
              "#7201a8"
             ],
             [
              0.3333333333333333,
              "#9c179e"
             ],
             [
              0.4444444444444444,
              "#bd3786"
             ],
             [
              0.5555555555555556,
              "#d8576b"
             ],
             [
              0.6666666666666666,
              "#ed7953"
             ],
             [
              0.7777777777777778,
              "#fb9f3a"
             ],
             [
              0.8888888888888888,
              "#fdca26"
             ],
             [
              1,
              "#f0f921"
             ]
            ],
            "type": "heatmap"
           }
          ],
          "heatmapgl": [
           {
            "colorbar": {
             "outlinewidth": 0,
             "ticks": ""
            },
            "colorscale": [
             [
              0,
              "#0d0887"
             ],
             [
              0.1111111111111111,
              "#46039f"
             ],
             [
              0.2222222222222222,
              "#7201a8"
             ],
             [
              0.3333333333333333,
              "#9c179e"
             ],
             [
              0.4444444444444444,
              "#bd3786"
             ],
             [
              0.5555555555555556,
              "#d8576b"
             ],
             [
              0.6666666666666666,
              "#ed7953"
             ],
             [
              0.7777777777777778,
              "#fb9f3a"
             ],
             [
              0.8888888888888888,
              "#fdca26"
             ],
             [
              1,
              "#f0f921"
             ]
            ],
            "type": "heatmapgl"
           }
          ],
          "histogram": [
           {
            "marker": {
             "pattern": {
              "fillmode": "overlay",
              "size": 10,
              "solidity": 0.2
             }
            },
            "type": "histogram"
           }
          ],
          "histogram2d": [
           {
            "colorbar": {
             "outlinewidth": 0,
             "ticks": ""
            },
            "colorscale": [
             [
              0,
              "#0d0887"
             ],
             [
              0.1111111111111111,
              "#46039f"
             ],
             [
              0.2222222222222222,
              "#7201a8"
             ],
             [
              0.3333333333333333,
              "#9c179e"
             ],
             [
              0.4444444444444444,
              "#bd3786"
             ],
             [
              0.5555555555555556,
              "#d8576b"
             ],
             [
              0.6666666666666666,
              "#ed7953"
             ],
             [
              0.7777777777777778,
              "#fb9f3a"
             ],
             [
              0.8888888888888888,
              "#fdca26"
             ],
             [
              1,
              "#f0f921"
             ]
            ],
            "type": "histogram2d"
           }
          ],
          "histogram2dcontour": [
           {
            "colorbar": {
             "outlinewidth": 0,
             "ticks": ""
            },
            "colorscale": [
             [
              0,
              "#0d0887"
             ],
             [
              0.1111111111111111,
              "#46039f"
             ],
             [
              0.2222222222222222,
              "#7201a8"
             ],
             [
              0.3333333333333333,
              "#9c179e"
             ],
             [
              0.4444444444444444,
              "#bd3786"
             ],
             [
              0.5555555555555556,
              "#d8576b"
             ],
             [
              0.6666666666666666,
              "#ed7953"
             ],
             [
              0.7777777777777778,
              "#fb9f3a"
             ],
             [
              0.8888888888888888,
              "#fdca26"
             ],
             [
              1,
              "#f0f921"
             ]
            ],
            "type": "histogram2dcontour"
           }
          ],
          "mesh3d": [
           {
            "colorbar": {
             "outlinewidth": 0,
             "ticks": ""
            },
            "type": "mesh3d"
           }
          ],
          "parcoords": [
           {
            "line": {
             "colorbar": {
              "outlinewidth": 0,
              "ticks": ""
             }
            },
            "type": "parcoords"
           }
          ],
          "pie": [
           {
            "automargin": true,
            "type": "pie"
           }
          ],
          "scatter": [
           {
            "fillpattern": {
             "fillmode": "overlay",
             "size": 10,
             "solidity": 0.2
            },
            "type": "scatter"
           }
          ],
          "scatter3d": [
           {
            "line": {
             "colorbar": {
              "outlinewidth": 0,
              "ticks": ""
             }
            },
            "marker": {
             "colorbar": {
              "outlinewidth": 0,
              "ticks": ""
             }
            },
            "type": "scatter3d"
           }
          ],
          "scattercarpet": [
           {
            "marker": {
             "colorbar": {
              "outlinewidth": 0,
              "ticks": ""
             }
            },
            "type": "scattercarpet"
           }
          ],
          "scattergeo": [
           {
            "marker": {
             "colorbar": {
              "outlinewidth": 0,
              "ticks": ""
             }
            },
            "type": "scattergeo"
           }
          ],
          "scattergl": [
           {
            "marker": {
             "colorbar": {
              "outlinewidth": 0,
              "ticks": ""
             }
            },
            "type": "scattergl"
           }
          ],
          "scattermapbox": [
           {
            "marker": {
             "colorbar": {
              "outlinewidth": 0,
              "ticks": ""
             }
            },
            "type": "scattermapbox"
           }
          ],
          "scatterpolar": [
           {
            "marker": {
             "colorbar": {
              "outlinewidth": 0,
              "ticks": ""
             }
            },
            "type": "scatterpolar"
           }
          ],
          "scatterpolargl": [
           {
            "marker": {
             "colorbar": {
              "outlinewidth": 0,
              "ticks": ""
             }
            },
            "type": "scatterpolargl"
           }
          ],
          "scatterternary": [
           {
            "marker": {
             "colorbar": {
              "outlinewidth": 0,
              "ticks": ""
             }
            },
            "type": "scatterternary"
           }
          ],
          "surface": [
           {
            "colorbar": {
             "outlinewidth": 0,
             "ticks": ""
            },
            "colorscale": [
             [
              0,
              "#0d0887"
             ],
             [
              0.1111111111111111,
              "#46039f"
             ],
             [
              0.2222222222222222,
              "#7201a8"
             ],
             [
              0.3333333333333333,
              "#9c179e"
             ],
             [
              0.4444444444444444,
              "#bd3786"
             ],
             [
              0.5555555555555556,
              "#d8576b"
             ],
             [
              0.6666666666666666,
              "#ed7953"
             ],
             [
              0.7777777777777778,
              "#fb9f3a"
             ],
             [
              0.8888888888888888,
              "#fdca26"
             ],
             [
              1,
              "#f0f921"
             ]
            ],
            "type": "surface"
           }
          ],
          "table": [
           {
            "cells": {
             "fill": {
              "color": "#EBF0F8"
             },
             "line": {
              "color": "white"
             }
            },
            "header": {
             "fill": {
              "color": "#C8D4E3"
             },
             "line": {
              "color": "white"
             }
            },
            "type": "table"
           }
          ]
         },
         "layout": {
          "annotationdefaults": {
           "arrowcolor": "#2a3f5f",
           "arrowhead": 0,
           "arrowwidth": 1
          },
          "autotypenumbers": "strict",
          "coloraxis": {
           "colorbar": {
            "outlinewidth": 0,
            "ticks": ""
           }
          },
          "colorscale": {
           "diverging": [
            [
             0,
             "#8e0152"
            ],
            [
             0.1,
             "#c51b7d"
            ],
            [
             0.2,
             "#de77ae"
            ],
            [
             0.3,
             "#f1b6da"
            ],
            [
             0.4,
             "#fde0ef"
            ],
            [
             0.5,
             "#f7f7f7"
            ],
            [
             0.6,
             "#e6f5d0"
            ],
            [
             0.7,
             "#b8e186"
            ],
            [
             0.8,
             "#7fbc41"
            ],
            [
             0.9,
             "#4d9221"
            ],
            [
             1,
             "#276419"
            ]
           ],
           "sequential": [
            [
             0,
             "#0d0887"
            ],
            [
             0.1111111111111111,
             "#46039f"
            ],
            [
             0.2222222222222222,
             "#7201a8"
            ],
            [
             0.3333333333333333,
             "#9c179e"
            ],
            [
             0.4444444444444444,
             "#bd3786"
            ],
            [
             0.5555555555555556,
             "#d8576b"
            ],
            [
             0.6666666666666666,
             "#ed7953"
            ],
            [
             0.7777777777777778,
             "#fb9f3a"
            ],
            [
             0.8888888888888888,
             "#fdca26"
            ],
            [
             1,
             "#f0f921"
            ]
           ],
           "sequentialminus": [
            [
             0,
             "#0d0887"
            ],
            [
             0.1111111111111111,
             "#46039f"
            ],
            [
             0.2222222222222222,
             "#7201a8"
            ],
            [
             0.3333333333333333,
             "#9c179e"
            ],
            [
             0.4444444444444444,
             "#bd3786"
            ],
            [
             0.5555555555555556,
             "#d8576b"
            ],
            [
             0.6666666666666666,
             "#ed7953"
            ],
            [
             0.7777777777777778,
             "#fb9f3a"
            ],
            [
             0.8888888888888888,
             "#fdca26"
            ],
            [
             1,
             "#f0f921"
            ]
           ]
          },
          "colorway": [
           "#636efa",
           "#EF553B",
           "#00cc96",
           "#ab63fa",
           "#FFA15A",
           "#19d3f3",
           "#FF6692",
           "#B6E880",
           "#FF97FF",
           "#FECB52"
          ],
          "font": {
           "color": "#2a3f5f"
          },
          "geo": {
           "bgcolor": "white",
           "lakecolor": "white",
           "landcolor": "#E5ECF6",
           "showlakes": true,
           "showland": true,
           "subunitcolor": "white"
          },
          "hoverlabel": {
           "align": "left"
          },
          "hovermode": "closest",
          "mapbox": {
           "style": "light"
          },
          "paper_bgcolor": "white",
          "plot_bgcolor": "#E5ECF6",
          "polar": {
           "angularaxis": {
            "gridcolor": "white",
            "linecolor": "white",
            "ticks": ""
           },
           "bgcolor": "#E5ECF6",
           "radialaxis": {
            "gridcolor": "white",
            "linecolor": "white",
            "ticks": ""
           }
          },
          "scene": {
           "xaxis": {
            "backgroundcolor": "#E5ECF6",
            "gridcolor": "white",
            "gridwidth": 2,
            "linecolor": "white",
            "showbackground": true,
            "ticks": "",
            "zerolinecolor": "white"
           },
           "yaxis": {
            "backgroundcolor": "#E5ECF6",
            "gridcolor": "white",
            "gridwidth": 2,
            "linecolor": "white",
            "showbackground": true,
            "ticks": "",
            "zerolinecolor": "white"
           },
           "zaxis": {
            "backgroundcolor": "#E5ECF6",
            "gridcolor": "white",
            "gridwidth": 2,
            "linecolor": "white",
            "showbackground": true,
            "ticks": "",
            "zerolinecolor": "white"
           }
          },
          "shapedefaults": {
           "line": {
            "color": "#2a3f5f"
           }
          },
          "ternary": {
           "aaxis": {
            "gridcolor": "white",
            "linecolor": "white",
            "ticks": ""
           },
           "baxis": {
            "gridcolor": "white",
            "linecolor": "white",
            "ticks": ""
           },
           "bgcolor": "#E5ECF6",
           "caxis": {
            "gridcolor": "white",
            "linecolor": "white",
            "ticks": ""
           }
          },
          "title": {
           "x": 0.05
          },
          "xaxis": {
           "automargin": true,
           "gridcolor": "white",
           "linecolor": "white",
           "ticks": "",
           "title": {
            "standoff": 15
           },
           "zerolinecolor": "white",
           "zerolinewidth": 2
          },
          "yaxis": {
           "automargin": true,
           "gridcolor": "white",
           "linecolor": "white",
           "ticks": "",
           "title": {
            "standoff": 15
           },
           "zerolinecolor": "white",
           "zerolinewidth": 2
          }
         }
        },
        "title": {
         "text": "Pareto-front Plot"
        },
        "xaxis": {
         "title": {
          "text": "maf"
         }
        },
        "yaxis": {
         "title": {
          "text": "average_time"
         }
        }
       }
      }
     },
     "metadata": {},
     "output_type": "display_data"
    }
   ],
   "source": [
    "plot_pareto_front(lsh_study, target_names=['maf', 'average_time'])"
   ]
  },
  {
   "cell_type": "code",
   "execution_count": 6,
   "metadata": {},
   "outputs": [
    {
     "data": {
      "application/vnd.plotly.v1+json": {
       "config": {
        "plotlyServerURL": "https://plot.ly"
       },
       "data": [
        {
         "mode": "markers",
         "name": "maf",
         "type": "scatter",
         "x": [
          0,
          1,
          2,
          3,
          4,
          5,
          6,
          7,
          8,
          9,
          10,
          11,
          12,
          13,
          14,
          15,
          16,
          17,
          18,
          19,
          20,
          21,
          22,
          23,
          24,
          25,
          26,
          27,
          28,
          29,
          30,
          31,
          32,
          33,
          34,
          35,
          36,
          37,
          38,
          39,
          40,
          41,
          42,
          43,
          44,
          45,
          46,
          47,
          48,
          49
         ],
         "y": [
          1.1564258406886092,
          1,
          2.096701335671093,
          1.0469523739817346,
          1.7976931348623157e+308,
          1.7976931348623157e+308,
          1.1308915778266788,
          1.1564258406886092,
          1,
          1.0356523434986677,
          1.685662653483007,
          1.4151888797371197,
          1.1788716310993363,
          1.2138728669424221,
          1.082425218156335,
          1.0054433345508196,
          1.0356523434986677,
          1.1564258406886092,
          1.112224861852963,
          1.0021869427020387,
          1,
          1,
          1.1715051676140873,
          1.2433827200130751,
          1.582784104669386,
          2.1632952522415163,
          1,
          1,
          1.2080460304822447,
          1.0032135839258385,
          2.530989232069844,
          1.0021869427020387,
          1,
          1,
          1,
          1,
          1,
          1,
          1.1609128232011328,
          1.222397377444046,
          1.9656307013892271,
          1.1282416764283798,
          1.082425218156335,
          1.4385305820029064,
          1.7976931348623157e+308,
          1.0054433345508196,
          1,
          1,
          1.4385305820029064,
          1
         ]
        },
        {
         "marker": {
          "color": "#cccccc"
         },
         "mode": "markers",
         "name": "Infeasible Trial",
         "showlegend": false,
         "type": "scatter",
         "x": [],
         "y": []
        }
       ],
       "layout": {
        "template": {
         "data": {
          "bar": [
           {
            "error_x": {
             "color": "#2a3f5f"
            },
            "error_y": {
             "color": "#2a3f5f"
            },
            "marker": {
             "line": {
              "color": "#E5ECF6",
              "width": 0.5
             },
             "pattern": {
              "fillmode": "overlay",
              "size": 10,
              "solidity": 0.2
             }
            },
            "type": "bar"
           }
          ],
          "barpolar": [
           {
            "marker": {
             "line": {
              "color": "#E5ECF6",
              "width": 0.5
             },
             "pattern": {
              "fillmode": "overlay",
              "size": 10,
              "solidity": 0.2
             }
            },
            "type": "barpolar"
           }
          ],
          "carpet": [
           {
            "aaxis": {
             "endlinecolor": "#2a3f5f",
             "gridcolor": "white",
             "linecolor": "white",
             "minorgridcolor": "white",
             "startlinecolor": "#2a3f5f"
            },
            "baxis": {
             "endlinecolor": "#2a3f5f",
             "gridcolor": "white",
             "linecolor": "white",
             "minorgridcolor": "white",
             "startlinecolor": "#2a3f5f"
            },
            "type": "carpet"
           }
          ],
          "choropleth": [
           {
            "colorbar": {
             "outlinewidth": 0,
             "ticks": ""
            },
            "type": "choropleth"
           }
          ],
          "contour": [
           {
            "colorbar": {
             "outlinewidth": 0,
             "ticks": ""
            },
            "colorscale": [
             [
              0,
              "#0d0887"
             ],
             [
              0.1111111111111111,
              "#46039f"
             ],
             [
              0.2222222222222222,
              "#7201a8"
             ],
             [
              0.3333333333333333,
              "#9c179e"
             ],
             [
              0.4444444444444444,
              "#bd3786"
             ],
             [
              0.5555555555555556,
              "#d8576b"
             ],
             [
              0.6666666666666666,
              "#ed7953"
             ],
             [
              0.7777777777777778,
              "#fb9f3a"
             ],
             [
              0.8888888888888888,
              "#fdca26"
             ],
             [
              1,
              "#f0f921"
             ]
            ],
            "type": "contour"
           }
          ],
          "contourcarpet": [
           {
            "colorbar": {
             "outlinewidth": 0,
             "ticks": ""
            },
            "type": "contourcarpet"
           }
          ],
          "heatmap": [
           {
            "colorbar": {
             "outlinewidth": 0,
             "ticks": ""
            },
            "colorscale": [
             [
              0,
              "#0d0887"
             ],
             [
              0.1111111111111111,
              "#46039f"
             ],
             [
              0.2222222222222222,
              "#7201a8"
             ],
             [
              0.3333333333333333,
              "#9c179e"
             ],
             [
              0.4444444444444444,
              "#bd3786"
             ],
             [
              0.5555555555555556,
              "#d8576b"
             ],
             [
              0.6666666666666666,
              "#ed7953"
             ],
             [
              0.7777777777777778,
              "#fb9f3a"
             ],
             [
              0.8888888888888888,
              "#fdca26"
             ],
             [
              1,
              "#f0f921"
             ]
            ],
            "type": "heatmap"
           }
          ],
          "heatmapgl": [
           {
            "colorbar": {
             "outlinewidth": 0,
             "ticks": ""
            },
            "colorscale": [
             [
              0,
              "#0d0887"
             ],
             [
              0.1111111111111111,
              "#46039f"
             ],
             [
              0.2222222222222222,
              "#7201a8"
             ],
             [
              0.3333333333333333,
              "#9c179e"
             ],
             [
              0.4444444444444444,
              "#bd3786"
             ],
             [
              0.5555555555555556,
              "#d8576b"
             ],
             [
              0.6666666666666666,
              "#ed7953"
             ],
             [
              0.7777777777777778,
              "#fb9f3a"
             ],
             [
              0.8888888888888888,
              "#fdca26"
             ],
             [
              1,
              "#f0f921"
             ]
            ],
            "type": "heatmapgl"
           }
          ],
          "histogram": [
           {
            "marker": {
             "pattern": {
              "fillmode": "overlay",
              "size": 10,
              "solidity": 0.2
             }
            },
            "type": "histogram"
           }
          ],
          "histogram2d": [
           {
            "colorbar": {
             "outlinewidth": 0,
             "ticks": ""
            },
            "colorscale": [
             [
              0,
              "#0d0887"
             ],
             [
              0.1111111111111111,
              "#46039f"
             ],
             [
              0.2222222222222222,
              "#7201a8"
             ],
             [
              0.3333333333333333,
              "#9c179e"
             ],
             [
              0.4444444444444444,
              "#bd3786"
             ],
             [
              0.5555555555555556,
              "#d8576b"
             ],
             [
              0.6666666666666666,
              "#ed7953"
             ],
             [
              0.7777777777777778,
              "#fb9f3a"
             ],
             [
              0.8888888888888888,
              "#fdca26"
             ],
             [
              1,
              "#f0f921"
             ]
            ],
            "type": "histogram2d"
           }
          ],
          "histogram2dcontour": [
           {
            "colorbar": {
             "outlinewidth": 0,
             "ticks": ""
            },
            "colorscale": [
             [
              0,
              "#0d0887"
             ],
             [
              0.1111111111111111,
              "#46039f"
             ],
             [
              0.2222222222222222,
              "#7201a8"
             ],
             [
              0.3333333333333333,
              "#9c179e"
             ],
             [
              0.4444444444444444,
              "#bd3786"
             ],
             [
              0.5555555555555556,
              "#d8576b"
             ],
             [
              0.6666666666666666,
              "#ed7953"
             ],
             [
              0.7777777777777778,
              "#fb9f3a"
             ],
             [
              0.8888888888888888,
              "#fdca26"
             ],
             [
              1,
              "#f0f921"
             ]
            ],
            "type": "histogram2dcontour"
           }
          ],
          "mesh3d": [
           {
            "colorbar": {
             "outlinewidth": 0,
             "ticks": ""
            },
            "type": "mesh3d"
           }
          ],
          "parcoords": [
           {
            "line": {
             "colorbar": {
              "outlinewidth": 0,
              "ticks": ""
             }
            },
            "type": "parcoords"
           }
          ],
          "pie": [
           {
            "automargin": true,
            "type": "pie"
           }
          ],
          "scatter": [
           {
            "fillpattern": {
             "fillmode": "overlay",
             "size": 10,
             "solidity": 0.2
            },
            "type": "scatter"
           }
          ],
          "scatter3d": [
           {
            "line": {
             "colorbar": {
              "outlinewidth": 0,
              "ticks": ""
             }
            },
            "marker": {
             "colorbar": {
              "outlinewidth": 0,
              "ticks": ""
             }
            },
            "type": "scatter3d"
           }
          ],
          "scattercarpet": [
           {
            "marker": {
             "colorbar": {
              "outlinewidth": 0,
              "ticks": ""
             }
            },
            "type": "scattercarpet"
           }
          ],
          "scattergeo": [
           {
            "marker": {
             "colorbar": {
              "outlinewidth": 0,
              "ticks": ""
             }
            },
            "type": "scattergeo"
           }
          ],
          "scattergl": [
           {
            "marker": {
             "colorbar": {
              "outlinewidth": 0,
              "ticks": ""
             }
            },
            "type": "scattergl"
           }
          ],
          "scattermapbox": [
           {
            "marker": {
             "colorbar": {
              "outlinewidth": 0,
              "ticks": ""
             }
            },
            "type": "scattermapbox"
           }
          ],
          "scatterpolar": [
           {
            "marker": {
             "colorbar": {
              "outlinewidth": 0,
              "ticks": ""
             }
            },
            "type": "scatterpolar"
           }
          ],
          "scatterpolargl": [
           {
            "marker": {
             "colorbar": {
              "outlinewidth": 0,
              "ticks": ""
             }
            },
            "type": "scatterpolargl"
           }
          ],
          "scatterternary": [
           {
            "marker": {
             "colorbar": {
              "outlinewidth": 0,
              "ticks": ""
             }
            },
            "type": "scatterternary"
           }
          ],
          "surface": [
           {
            "colorbar": {
             "outlinewidth": 0,
             "ticks": ""
            },
            "colorscale": [
             [
              0,
              "#0d0887"
             ],
             [
              0.1111111111111111,
              "#46039f"
             ],
             [
              0.2222222222222222,
              "#7201a8"
             ],
             [
              0.3333333333333333,
              "#9c179e"
             ],
             [
              0.4444444444444444,
              "#bd3786"
             ],
             [
              0.5555555555555556,
              "#d8576b"
             ],
             [
              0.6666666666666666,
              "#ed7953"
             ],
             [
              0.7777777777777778,
              "#fb9f3a"
             ],
             [
              0.8888888888888888,
              "#fdca26"
             ],
             [
              1,
              "#f0f921"
             ]
            ],
            "type": "surface"
           }
          ],
          "table": [
           {
            "cells": {
             "fill": {
              "color": "#EBF0F8"
             },
             "line": {
              "color": "white"
             }
            },
            "header": {
             "fill": {
              "color": "#C8D4E3"
             },
             "line": {
              "color": "white"
             }
            },
            "type": "table"
           }
          ]
         },
         "layout": {
          "annotationdefaults": {
           "arrowcolor": "#2a3f5f",
           "arrowhead": 0,
           "arrowwidth": 1
          },
          "autotypenumbers": "strict",
          "coloraxis": {
           "colorbar": {
            "outlinewidth": 0,
            "ticks": ""
           }
          },
          "colorscale": {
           "diverging": [
            [
             0,
             "#8e0152"
            ],
            [
             0.1,
             "#c51b7d"
            ],
            [
             0.2,
             "#de77ae"
            ],
            [
             0.3,
             "#f1b6da"
            ],
            [
             0.4,
             "#fde0ef"
            ],
            [
             0.5,
             "#f7f7f7"
            ],
            [
             0.6,
             "#e6f5d0"
            ],
            [
             0.7,
             "#b8e186"
            ],
            [
             0.8,
             "#7fbc41"
            ],
            [
             0.9,
             "#4d9221"
            ],
            [
             1,
             "#276419"
            ]
           ],
           "sequential": [
            [
             0,
             "#0d0887"
            ],
            [
             0.1111111111111111,
             "#46039f"
            ],
            [
             0.2222222222222222,
             "#7201a8"
            ],
            [
             0.3333333333333333,
             "#9c179e"
            ],
            [
             0.4444444444444444,
             "#bd3786"
            ],
            [
             0.5555555555555556,
             "#d8576b"
            ],
            [
             0.6666666666666666,
             "#ed7953"
            ],
            [
             0.7777777777777778,
             "#fb9f3a"
            ],
            [
             0.8888888888888888,
             "#fdca26"
            ],
            [
             1,
             "#f0f921"
            ]
           ],
           "sequentialminus": [
            [
             0,
             "#0d0887"
            ],
            [
             0.1111111111111111,
             "#46039f"
            ],
            [
             0.2222222222222222,
             "#7201a8"
            ],
            [
             0.3333333333333333,
             "#9c179e"
            ],
            [
             0.4444444444444444,
             "#bd3786"
            ],
            [
             0.5555555555555556,
             "#d8576b"
            ],
            [
             0.6666666666666666,
             "#ed7953"
            ],
            [
             0.7777777777777778,
             "#fb9f3a"
            ],
            [
             0.8888888888888888,
             "#fdca26"
            ],
            [
             1,
             "#f0f921"
            ]
           ]
          },
          "colorway": [
           "#636efa",
           "#EF553B",
           "#00cc96",
           "#ab63fa",
           "#FFA15A",
           "#19d3f3",
           "#FF6692",
           "#B6E880",
           "#FF97FF",
           "#FECB52"
          ],
          "font": {
           "color": "#2a3f5f"
          },
          "geo": {
           "bgcolor": "white",
           "lakecolor": "white",
           "landcolor": "#E5ECF6",
           "showlakes": true,
           "showland": true,
           "subunitcolor": "white"
          },
          "hoverlabel": {
           "align": "left"
          },
          "hovermode": "closest",
          "mapbox": {
           "style": "light"
          },
          "paper_bgcolor": "white",
          "plot_bgcolor": "#E5ECF6",
          "polar": {
           "angularaxis": {
            "gridcolor": "white",
            "linecolor": "white",
            "ticks": ""
           },
           "bgcolor": "#E5ECF6",
           "radialaxis": {
            "gridcolor": "white",
            "linecolor": "white",
            "ticks": ""
           }
          },
          "scene": {
           "xaxis": {
            "backgroundcolor": "#E5ECF6",
            "gridcolor": "white",
            "gridwidth": 2,
            "linecolor": "white",
            "showbackground": true,
            "ticks": "",
            "zerolinecolor": "white"
           },
           "yaxis": {
            "backgroundcolor": "#E5ECF6",
            "gridcolor": "white",
            "gridwidth": 2,
            "linecolor": "white",
            "showbackground": true,
            "ticks": "",
            "zerolinecolor": "white"
           },
           "zaxis": {
            "backgroundcolor": "#E5ECF6",
            "gridcolor": "white",
            "gridwidth": 2,
            "linecolor": "white",
            "showbackground": true,
            "ticks": "",
            "zerolinecolor": "white"
           }
          },
          "shapedefaults": {
           "line": {
            "color": "#2a3f5f"
           }
          },
          "ternary": {
           "aaxis": {
            "gridcolor": "white",
            "linecolor": "white",
            "ticks": ""
           },
           "baxis": {
            "gridcolor": "white",
            "linecolor": "white",
            "ticks": ""
           },
           "bgcolor": "#E5ECF6",
           "caxis": {
            "gridcolor": "white",
            "linecolor": "white",
            "ticks": ""
           }
          },
          "title": {
           "x": 0.05
          },
          "xaxis": {
           "automargin": true,
           "gridcolor": "white",
           "linecolor": "white",
           "ticks": "",
           "title": {
            "standoff": 15
           },
           "zerolinecolor": "white",
           "zerolinewidth": 2
          },
          "yaxis": {
           "automargin": true,
           "gridcolor": "white",
           "linecolor": "white",
           "ticks": "",
           "title": {
            "standoff": 15
           },
           "zerolinecolor": "white",
           "zerolinewidth": 2
          }
         }
        },
        "title": {
         "text": "Optimization History Plot"
        },
        "xaxis": {
         "title": {
          "text": "Trial"
         }
        },
        "yaxis": {
         "title": {
          "text": "maf"
         }
        }
       }
      }
     },
     "metadata": {},
     "output_type": "display_data"
    }
   ],
   "source": [
    "plot_optimization_history(lsh_study, target = lambda t: t.values[0], target_name = 'maf')"
   ]
  },
  {
   "cell_type": "code",
   "execution_count": 7,
   "metadata": {},
   "outputs": [
    {
     "data": {
      "application/vnd.plotly.v1+json": {
       "config": {
        "plotlyServerURL": "https://plot.ly"
       },
       "data": [
        {
         "mode": "markers",
         "name": "average_time",
         "type": "scatter",
         "x": [
          0,
          1,
          2,
          3,
          4,
          5,
          6,
          7,
          8,
          9,
          10,
          11,
          12,
          13,
          14,
          15,
          16,
          17,
          18,
          19,
          20,
          21,
          22,
          23,
          24,
          25,
          26,
          27,
          28,
          29,
          30,
          31,
          32,
          33,
          34,
          35,
          36,
          37,
          38,
          39,
          40,
          41,
          42,
          43,
          44,
          45,
          46,
          47,
          48,
          49
         ],
         "y": [
          0.015325,
          0.0796542,
          0.0009851999999999999,
          0.0459947,
          0.0003581,
          0.0006930999999999999,
          0.0152777,
          0.03314349999999999,
          0.06351409999999999,
          0.08880060000000001,
          0.0016545999999999998,
          0.0023997999999999997,
          0.0064695,
          0.0059727,
          0.0356664,
          0.0311914,
          0.0242489,
          0.015778900000000002,
          0.0408282,
          0.06659249999999999,
          0.30134910000000004,
          0.16197560000000003,
          0.0323208,
          0.004987,
          0.0030792,
          0.0016367000000000003,
          0.0194746,
          0.059251599999999995,
          0.0090235,
          0.13027249999999996,
          0.0010091000000000002,
          0.1268195,
          0.4336101,
          0.060044,
          0.2202912,
          0.17962799999999998,
          0.0823453,
          0.1304873,
          0.004841799999999999,
          0.012278999999999998,
          0.0012372999999999998,
          0.0464026,
          0.034891,
          0.0059379,
          0.0006727,
          0.0964148,
          0.29899000000000003,
          0.4211066999999999,
          0.0068092,
          0.5556825
         ]
        },
        {
         "marker": {
          "color": "#cccccc"
         },
         "mode": "markers",
         "name": "Infeasible Trial",
         "showlegend": false,
         "type": "scatter",
         "x": [],
         "y": []
        }
       ],
       "layout": {
        "template": {
         "data": {
          "bar": [
           {
            "error_x": {
             "color": "#2a3f5f"
            },
            "error_y": {
             "color": "#2a3f5f"
            },
            "marker": {
             "line": {
              "color": "#E5ECF6",
              "width": 0.5
             },
             "pattern": {
              "fillmode": "overlay",
              "size": 10,
              "solidity": 0.2
             }
            },
            "type": "bar"
           }
          ],
          "barpolar": [
           {
            "marker": {
             "line": {
              "color": "#E5ECF6",
              "width": 0.5
             },
             "pattern": {
              "fillmode": "overlay",
              "size": 10,
              "solidity": 0.2
             }
            },
            "type": "barpolar"
           }
          ],
          "carpet": [
           {
            "aaxis": {
             "endlinecolor": "#2a3f5f",
             "gridcolor": "white",
             "linecolor": "white",
             "minorgridcolor": "white",
             "startlinecolor": "#2a3f5f"
            },
            "baxis": {
             "endlinecolor": "#2a3f5f",
             "gridcolor": "white",
             "linecolor": "white",
             "minorgridcolor": "white",
             "startlinecolor": "#2a3f5f"
            },
            "type": "carpet"
           }
          ],
          "choropleth": [
           {
            "colorbar": {
             "outlinewidth": 0,
             "ticks": ""
            },
            "type": "choropleth"
           }
          ],
          "contour": [
           {
            "colorbar": {
             "outlinewidth": 0,
             "ticks": ""
            },
            "colorscale": [
             [
              0,
              "#0d0887"
             ],
             [
              0.1111111111111111,
              "#46039f"
             ],
             [
              0.2222222222222222,
              "#7201a8"
             ],
             [
              0.3333333333333333,
              "#9c179e"
             ],
             [
              0.4444444444444444,
              "#bd3786"
             ],
             [
              0.5555555555555556,
              "#d8576b"
             ],
             [
              0.6666666666666666,
              "#ed7953"
             ],
             [
              0.7777777777777778,
              "#fb9f3a"
             ],
             [
              0.8888888888888888,
              "#fdca26"
             ],
             [
              1,
              "#f0f921"
             ]
            ],
            "type": "contour"
           }
          ],
          "contourcarpet": [
           {
            "colorbar": {
             "outlinewidth": 0,
             "ticks": ""
            },
            "type": "contourcarpet"
           }
          ],
          "heatmap": [
           {
            "colorbar": {
             "outlinewidth": 0,
             "ticks": ""
            },
            "colorscale": [
             [
              0,
              "#0d0887"
             ],
             [
              0.1111111111111111,
              "#46039f"
             ],
             [
              0.2222222222222222,
              "#7201a8"
             ],
             [
              0.3333333333333333,
              "#9c179e"
             ],
             [
              0.4444444444444444,
              "#bd3786"
             ],
             [
              0.5555555555555556,
              "#d8576b"
             ],
             [
              0.6666666666666666,
              "#ed7953"
             ],
             [
              0.7777777777777778,
              "#fb9f3a"
             ],
             [
              0.8888888888888888,
              "#fdca26"
             ],
             [
              1,
              "#f0f921"
             ]
            ],
            "type": "heatmap"
           }
          ],
          "heatmapgl": [
           {
            "colorbar": {
             "outlinewidth": 0,
             "ticks": ""
            },
            "colorscale": [
             [
              0,
              "#0d0887"
             ],
             [
              0.1111111111111111,
              "#46039f"
             ],
             [
              0.2222222222222222,
              "#7201a8"
             ],
             [
              0.3333333333333333,
              "#9c179e"
             ],
             [
              0.4444444444444444,
              "#bd3786"
             ],
             [
              0.5555555555555556,
              "#d8576b"
             ],
             [
              0.6666666666666666,
              "#ed7953"
             ],
             [
              0.7777777777777778,
              "#fb9f3a"
             ],
             [
              0.8888888888888888,
              "#fdca26"
             ],
             [
              1,
              "#f0f921"
             ]
            ],
            "type": "heatmapgl"
           }
          ],
          "histogram": [
           {
            "marker": {
             "pattern": {
              "fillmode": "overlay",
              "size": 10,
              "solidity": 0.2
             }
            },
            "type": "histogram"
           }
          ],
          "histogram2d": [
           {
            "colorbar": {
             "outlinewidth": 0,
             "ticks": ""
            },
            "colorscale": [
             [
              0,
              "#0d0887"
             ],
             [
              0.1111111111111111,
              "#46039f"
             ],
             [
              0.2222222222222222,
              "#7201a8"
             ],
             [
              0.3333333333333333,
              "#9c179e"
             ],
             [
              0.4444444444444444,
              "#bd3786"
             ],
             [
              0.5555555555555556,
              "#d8576b"
             ],
             [
              0.6666666666666666,
              "#ed7953"
             ],
             [
              0.7777777777777778,
              "#fb9f3a"
             ],
             [
              0.8888888888888888,
              "#fdca26"
             ],
             [
              1,
              "#f0f921"
             ]
            ],
            "type": "histogram2d"
           }
          ],
          "histogram2dcontour": [
           {
            "colorbar": {
             "outlinewidth": 0,
             "ticks": ""
            },
            "colorscale": [
             [
              0,
              "#0d0887"
             ],
             [
              0.1111111111111111,
              "#46039f"
             ],
             [
              0.2222222222222222,
              "#7201a8"
             ],
             [
              0.3333333333333333,
              "#9c179e"
             ],
             [
              0.4444444444444444,
              "#bd3786"
             ],
             [
              0.5555555555555556,
              "#d8576b"
             ],
             [
              0.6666666666666666,
              "#ed7953"
             ],
             [
              0.7777777777777778,
              "#fb9f3a"
             ],
             [
              0.8888888888888888,
              "#fdca26"
             ],
             [
              1,
              "#f0f921"
             ]
            ],
            "type": "histogram2dcontour"
           }
          ],
          "mesh3d": [
           {
            "colorbar": {
             "outlinewidth": 0,
             "ticks": ""
            },
            "type": "mesh3d"
           }
          ],
          "parcoords": [
           {
            "line": {
             "colorbar": {
              "outlinewidth": 0,
              "ticks": ""
             }
            },
            "type": "parcoords"
           }
          ],
          "pie": [
           {
            "automargin": true,
            "type": "pie"
           }
          ],
          "scatter": [
           {
            "fillpattern": {
             "fillmode": "overlay",
             "size": 10,
             "solidity": 0.2
            },
            "type": "scatter"
           }
          ],
          "scatter3d": [
           {
            "line": {
             "colorbar": {
              "outlinewidth": 0,
              "ticks": ""
             }
            },
            "marker": {
             "colorbar": {
              "outlinewidth": 0,
              "ticks": ""
             }
            },
            "type": "scatter3d"
           }
          ],
          "scattercarpet": [
           {
            "marker": {
             "colorbar": {
              "outlinewidth": 0,
              "ticks": ""
             }
            },
            "type": "scattercarpet"
           }
          ],
          "scattergeo": [
           {
            "marker": {
             "colorbar": {
              "outlinewidth": 0,
              "ticks": ""
             }
            },
            "type": "scattergeo"
           }
          ],
          "scattergl": [
           {
            "marker": {
             "colorbar": {
              "outlinewidth": 0,
              "ticks": ""
             }
            },
            "type": "scattergl"
           }
          ],
          "scattermapbox": [
           {
            "marker": {
             "colorbar": {
              "outlinewidth": 0,
              "ticks": ""
             }
            },
            "type": "scattermapbox"
           }
          ],
          "scatterpolar": [
           {
            "marker": {
             "colorbar": {
              "outlinewidth": 0,
              "ticks": ""
             }
            },
            "type": "scatterpolar"
           }
          ],
          "scatterpolargl": [
           {
            "marker": {
             "colorbar": {
              "outlinewidth": 0,
              "ticks": ""
             }
            },
            "type": "scatterpolargl"
           }
          ],
          "scatterternary": [
           {
            "marker": {
             "colorbar": {
              "outlinewidth": 0,
              "ticks": ""
             }
            },
            "type": "scatterternary"
           }
          ],
          "surface": [
           {
            "colorbar": {
             "outlinewidth": 0,
             "ticks": ""
            },
            "colorscale": [
             [
              0,
              "#0d0887"
             ],
             [
              0.1111111111111111,
              "#46039f"
             ],
             [
              0.2222222222222222,
              "#7201a8"
             ],
             [
              0.3333333333333333,
              "#9c179e"
             ],
             [
              0.4444444444444444,
              "#bd3786"
             ],
             [
              0.5555555555555556,
              "#d8576b"
             ],
             [
              0.6666666666666666,
              "#ed7953"
             ],
             [
              0.7777777777777778,
              "#fb9f3a"
             ],
             [
              0.8888888888888888,
              "#fdca26"
             ],
             [
              1,
              "#f0f921"
             ]
            ],
            "type": "surface"
           }
          ],
          "table": [
           {
            "cells": {
             "fill": {
              "color": "#EBF0F8"
             },
             "line": {
              "color": "white"
             }
            },
            "header": {
             "fill": {
              "color": "#C8D4E3"
             },
             "line": {
              "color": "white"
             }
            },
            "type": "table"
           }
          ]
         },
         "layout": {
          "annotationdefaults": {
           "arrowcolor": "#2a3f5f",
           "arrowhead": 0,
           "arrowwidth": 1
          },
          "autotypenumbers": "strict",
          "coloraxis": {
           "colorbar": {
            "outlinewidth": 0,
            "ticks": ""
           }
          },
          "colorscale": {
           "diverging": [
            [
             0,
             "#8e0152"
            ],
            [
             0.1,
             "#c51b7d"
            ],
            [
             0.2,
             "#de77ae"
            ],
            [
             0.3,
             "#f1b6da"
            ],
            [
             0.4,
             "#fde0ef"
            ],
            [
             0.5,
             "#f7f7f7"
            ],
            [
             0.6,
             "#e6f5d0"
            ],
            [
             0.7,
             "#b8e186"
            ],
            [
             0.8,
             "#7fbc41"
            ],
            [
             0.9,
             "#4d9221"
            ],
            [
             1,
             "#276419"
            ]
           ],
           "sequential": [
            [
             0,
             "#0d0887"
            ],
            [
             0.1111111111111111,
             "#46039f"
            ],
            [
             0.2222222222222222,
             "#7201a8"
            ],
            [
             0.3333333333333333,
             "#9c179e"
            ],
            [
             0.4444444444444444,
             "#bd3786"
            ],
            [
             0.5555555555555556,
             "#d8576b"
            ],
            [
             0.6666666666666666,
             "#ed7953"
            ],
            [
             0.7777777777777778,
             "#fb9f3a"
            ],
            [
             0.8888888888888888,
             "#fdca26"
            ],
            [
             1,
             "#f0f921"
            ]
           ],
           "sequentialminus": [
            [
             0,
             "#0d0887"
            ],
            [
             0.1111111111111111,
             "#46039f"
            ],
            [
             0.2222222222222222,
             "#7201a8"
            ],
            [
             0.3333333333333333,
             "#9c179e"
            ],
            [
             0.4444444444444444,
             "#bd3786"
            ],
            [
             0.5555555555555556,
             "#d8576b"
            ],
            [
             0.6666666666666666,
             "#ed7953"
            ],
            [
             0.7777777777777778,
             "#fb9f3a"
            ],
            [
             0.8888888888888888,
             "#fdca26"
            ],
            [
             1,
             "#f0f921"
            ]
           ]
          },
          "colorway": [
           "#636efa",
           "#EF553B",
           "#00cc96",
           "#ab63fa",
           "#FFA15A",
           "#19d3f3",
           "#FF6692",
           "#B6E880",
           "#FF97FF",
           "#FECB52"
          ],
          "font": {
           "color": "#2a3f5f"
          },
          "geo": {
           "bgcolor": "white",
           "lakecolor": "white",
           "landcolor": "#E5ECF6",
           "showlakes": true,
           "showland": true,
           "subunitcolor": "white"
          },
          "hoverlabel": {
           "align": "left"
          },
          "hovermode": "closest",
          "mapbox": {
           "style": "light"
          },
          "paper_bgcolor": "white",
          "plot_bgcolor": "#E5ECF6",
          "polar": {
           "angularaxis": {
            "gridcolor": "white",
            "linecolor": "white",
            "ticks": ""
           },
           "bgcolor": "#E5ECF6",
           "radialaxis": {
            "gridcolor": "white",
            "linecolor": "white",
            "ticks": ""
           }
          },
          "scene": {
           "xaxis": {
            "backgroundcolor": "#E5ECF6",
            "gridcolor": "white",
            "gridwidth": 2,
            "linecolor": "white",
            "showbackground": true,
            "ticks": "",
            "zerolinecolor": "white"
           },
           "yaxis": {
            "backgroundcolor": "#E5ECF6",
            "gridcolor": "white",
            "gridwidth": 2,
            "linecolor": "white",
            "showbackground": true,
            "ticks": "",
            "zerolinecolor": "white"
           },
           "zaxis": {
            "backgroundcolor": "#E5ECF6",
            "gridcolor": "white",
            "gridwidth": 2,
            "linecolor": "white",
            "showbackground": true,
            "ticks": "",
            "zerolinecolor": "white"
           }
          },
          "shapedefaults": {
           "line": {
            "color": "#2a3f5f"
           }
          },
          "ternary": {
           "aaxis": {
            "gridcolor": "white",
            "linecolor": "white",
            "ticks": ""
           },
           "baxis": {
            "gridcolor": "white",
            "linecolor": "white",
            "ticks": ""
           },
           "bgcolor": "#E5ECF6",
           "caxis": {
            "gridcolor": "white",
            "linecolor": "white",
            "ticks": ""
           }
          },
          "title": {
           "x": 0.05
          },
          "xaxis": {
           "automargin": true,
           "gridcolor": "white",
           "linecolor": "white",
           "ticks": "",
           "title": {
            "standoff": 15
           },
           "zerolinecolor": "white",
           "zerolinewidth": 2
          },
          "yaxis": {
           "automargin": true,
           "gridcolor": "white",
           "linecolor": "white",
           "ticks": "",
           "title": {
            "standoff": 15
           },
           "zerolinecolor": "white",
           "zerolinewidth": 2
          }
         }
        },
        "title": {
         "text": "Optimization History Plot"
        },
        "xaxis": {
         "title": {
          "text": "Trial"
         }
        },
        "yaxis": {
         "title": {
          "text": "average_time"
         }
        }
       }
      }
     },
     "metadata": {},
     "output_type": "display_data"
    }
   ],
   "source": [
    "plot_optimization_history(lsh_study, target = lambda t: t.values[1], target_name = 'average_time')"
   ]
  },
  {
   "cell_type": "code",
   "execution_count": 8,
   "metadata": {},
   "outputs": [
    {
     "data": {
      "application/vnd.plotly.v1+json": {
       "config": {
        "plotlyServerURL": "https://plot.ly"
       },
       "data": [
        {
         "marker": {
          "color": [
           0,
           1,
           2,
           3,
           4,
           5,
           6,
           7,
           8,
           9,
           10,
           11,
           12,
           13,
           14,
           15,
           16,
           17,
           18,
           19,
           20,
           21,
           22,
           23,
           24,
           25,
           26,
           27,
           28,
           29,
           30,
           31,
           32,
           33,
           34,
           35,
           36,
           37,
           38,
           39,
           40,
           41,
           42,
           43,
           44,
           45,
           46,
           47,
           48,
           49
          ],
          "colorbar": {
           "title": {
            "text": "Trial"
           },
           "x": 1,
           "xpad": 40
          },
          "colorscale": [
           [
            0,
            "rgb(247,251,255)"
           ],
           [
            0.125,
            "rgb(222,235,247)"
           ],
           [
            0.25,
            "rgb(198,219,239)"
           ],
           [
            0.375,
            "rgb(158,202,225)"
           ],
           [
            0.5,
            "rgb(107,174,214)"
           ],
           [
            0.625,
            "rgb(66,146,198)"
           ],
           [
            0.75,
            "rgb(33,113,181)"
           ],
           [
            0.875,
            "rgb(8,81,156)"
           ],
           [
            1,
            "rgb(8,48,107)"
           ]
          ],
          "line": {
           "color": "Grey",
           "width": 0.5
          },
          "showscale": true
         },
         "mode": "markers",
         "name": "Feasible Trial",
         "showlegend": false,
         "type": "scatter",
         "x": [
          6,
          2,
          5,
          3,
          2,
          5,
          3,
          3,
          7,
          5,
          5,
          5,
          9,
          4,
          8,
          9,
          2,
          2,
          6,
          8,
          6,
          5,
          4,
          4,
          6,
          5,
          3,
          9,
          9,
          8,
          6,
          9,
          8,
          2,
          9,
          7,
          10,
          10,
          6,
          5,
          10,
          4,
          5,
          3,
          4,
          3,
          6,
          9,
          3,
          9
         ],
         "xaxis": "x",
         "y": [
          1.1564258406886092,
          1,
          2.096701335671093,
          1.0469523739817346,
          1.7976931348623157e+308,
          1.7976931348623157e+308,
          1.1308915778266788,
          1.1564258406886092,
          1,
          1.0356523434986677,
          1.685662653483007,
          1.4151888797371197,
          1.1788716310993363,
          1.2138728669424221,
          1.082425218156335,
          1.0054433345508196,
          1.0356523434986677,
          1.1564258406886092,
          1.112224861852963,
          1.0021869427020387,
          1,
          1,
          1.1715051676140873,
          1.2433827200130751,
          1.582784104669386,
          2.1632952522415163,
          1,
          1,
          1.2080460304822447,
          1.0032135839258385,
          2.530989232069844,
          1.0021869427020387,
          1,
          1,
          1,
          1,
          1,
          1,
          1.1609128232011328,
          1.222397377444046,
          1.9656307013892271,
          1.1282416764283798,
          1.082425218156335,
          1.4385305820029064,
          1.7976931348623157e+308,
          1.0054433345508196,
          1,
          1,
          1.4385305820029064,
          1
         ],
         "yaxis": "y"
        },
        {
         "marker": {
          "color": [
           0,
           1,
           2,
           3,
           4,
           5,
           6,
           7,
           8,
           9,
           10,
           11,
           12,
           13,
           14,
           15,
           16,
           17,
           18,
           19,
           20,
           21,
           22,
           23,
           24,
           25,
           26,
           27,
           28,
           29,
           30,
           31,
           32,
           33,
           34,
           35,
           36,
           37,
           38,
           39,
           40,
           41,
           42,
           43,
           44,
           45,
           46,
           47,
           48,
           49
          ],
          "colorbar": {
           "title": {
            "text": "Trial"
           },
           "x": 1,
           "xpad": 40
          },
          "colorscale": [
           [
            0,
            "rgb(247,251,255)"
           ],
           [
            0.125,
            "rgb(222,235,247)"
           ],
           [
            0.25,
            "rgb(198,219,239)"
           ],
           [
            0.375,
            "rgb(158,202,225)"
           ],
           [
            0.5,
            "rgb(107,174,214)"
           ],
           [
            0.625,
            "rgb(66,146,198)"
           ],
           [
            0.75,
            "rgb(33,113,181)"
           ],
           [
            0.875,
            "rgb(8,81,156)"
           ],
           [
            1,
            "rgb(8,48,107)"
           ]
          ],
          "line": {
           "color": "Grey",
           "width": 0.5
          },
          "showscale": false
         },
         "mode": "markers",
         "name": "Feasible Trial",
         "showlegend": false,
         "type": "scatter",
         "x": [
          6,
          3,
          9,
          9,
          10,
          9,
          2,
          3,
          9,
          5,
          8,
          6,
          9,
          9,
          8,
          7,
          7,
          8,
          4,
          4,
          3,
          2,
          5,
          4,
          5,
          10,
          6,
          10,
          5,
          2,
          8,
          8,
          4,
          5,
          5,
          4,
          6,
          7,
          6,
          5,
          10,
          9,
          3,
          4,
          10,
          7,
          2,
          2,
          7,
          2
         ],
         "xaxis": "x2",
         "y": [
          1.1564258406886092,
          1,
          2.096701335671093,
          1.0469523739817346,
          1.7976931348623157e+308,
          1.7976931348623157e+308,
          1.1308915778266788,
          1.1564258406886092,
          1,
          1.0356523434986677,
          1.685662653483007,
          1.4151888797371197,
          1.1788716310993363,
          1.2138728669424221,
          1.082425218156335,
          1.0054433345508196,
          1.0356523434986677,
          1.1564258406886092,
          1.112224861852963,
          1.0021869427020387,
          1,
          1,
          1.1715051676140873,
          1.2433827200130751,
          1.582784104669386,
          2.1632952522415163,
          1,
          1,
          1.2080460304822447,
          1.0032135839258385,
          2.530989232069844,
          1.0021869427020387,
          1,
          1,
          1,
          1,
          1,
          1,
          1.1609128232011328,
          1.222397377444046,
          1.9656307013892271,
          1.1282416764283798,
          1.082425218156335,
          1.4385305820029064,
          1.7976931348623157e+308,
          1.0054433345508196,
          1,
          1,
          1.4385305820029064,
          1
         ],
         "yaxis": "y2"
        },
        {
         "marker": {
          "color": [
           0,
           1,
           2,
           3,
           4,
           5,
           6,
           7,
           8,
           9,
           10,
           11,
           12,
           13,
           14,
           15,
           16,
           17,
           18,
           19,
           20,
           21,
           22,
           23,
           24,
           25,
           26,
           27,
           28,
           29,
           30,
           31,
           32,
           33,
           34,
           35,
           36,
           37,
           38,
           39,
           40,
           41,
           42,
           43,
           44,
           45,
           46,
           47,
           48,
           49
          ],
          "colorbar": {
           "title": {
            "text": "Trial"
           },
           "x": 1,
           "xpad": 40
          },
          "colorscale": [
           [
            0,
            "rgb(247,251,255)"
           ],
           [
            0.125,
            "rgb(222,235,247)"
           ],
           [
            0.25,
            "rgb(198,219,239)"
           ],
           [
            0.375,
            "rgb(158,202,225)"
           ],
           [
            0.5,
            "rgb(107,174,214)"
           ],
           [
            0.625,
            "rgb(66,146,198)"
           ],
           [
            0.75,
            "rgb(33,113,181)"
           ],
           [
            0.875,
            "rgb(8,81,156)"
           ],
           [
            1,
            "rgb(8,48,107)"
           ]
          ],
          "line": {
           "color": "Grey",
           "width": 0.5
          },
          "showscale": false
         },
         "mode": "markers",
         "name": "Feasible Trial",
         "showlegend": false,
         "type": "scatter",
         "x": [
          3750,
          3750,
          15000,
          15000,
          3750,
          7500,
          7500,
          15000,
          7500,
          3750,
          15000,
          3750,
          15000,
          15000,
          3750,
          3750,
          7500,
          7500,
          15000,
          15000,
          7500,
          15000,
          15000,
          3750,
          7500,
          15000,
          3750,
          7500,
          3750,
          7500,
          15000,
          3750,
          15000,
          7500,
          7500,
          7500,
          3750,
          7500,
          15000,
          3750,
          7500,
          7500,
          7500,
          7500,
          7500,
          3750,
          3750,
          15000,
          15000,
          15000
         ],
         "xaxis": "x3",
         "y": [
          1.1564258406886092,
          1,
          2.096701335671093,
          1.0469523739817346,
          1.7976931348623157e+308,
          1.7976931348623157e+308,
          1.1308915778266788,
          1.1564258406886092,
          1,
          1.0356523434986677,
          1.685662653483007,
          1.4151888797371197,
          1.1788716310993363,
          1.2138728669424221,
          1.082425218156335,
          1.0054433345508196,
          1.0356523434986677,
          1.1564258406886092,
          1.112224861852963,
          1.0021869427020387,
          1,
          1,
          1.1715051676140873,
          1.2433827200130751,
          1.582784104669386,
          2.1632952522415163,
          1,
          1,
          1.2080460304822447,
          1.0032135839258385,
          2.530989232069844,
          1.0021869427020387,
          1,
          1,
          1,
          1,
          1,
          1,
          1.1609128232011328,
          1.222397377444046,
          1.9656307013892271,
          1.1282416764283798,
          1.082425218156335,
          1.4385305820029064,
          1.7976931348623157e+308,
          1.0054433345508196,
          1,
          1,
          1.4385305820029064,
          1
         ],
         "yaxis": "y3"
        },
        {
         "marker": {
          "color": [
           0,
           1,
           2,
           3,
           4,
           5,
           6,
           7,
           8,
           9,
           10,
           11,
           12,
           13,
           14,
           15,
           16,
           17,
           18,
           19,
           20,
           21,
           22,
           23,
           24,
           25,
           26,
           27,
           28,
           29,
           30,
           31,
           32,
           33,
           34,
           35,
           36,
           37,
           38,
           39,
           40,
           41,
           42,
           43,
           44,
           45,
           46,
           47,
           48,
           49
          ],
          "colorbar": {
           "title": {
            "text": "Trial"
           },
           "x": 1,
           "xpad": 40
          },
          "colorscale": [
           [
            0,
            "rgb(247,251,255)"
           ],
           [
            0.125,
            "rgb(222,235,247)"
           ],
           [
            0.25,
            "rgb(198,219,239)"
           ],
           [
            0.375,
            "rgb(158,202,225)"
           ],
           [
            0.5,
            "rgb(107,174,214)"
           ],
           [
            0.625,
            "rgb(66,146,198)"
           ],
           [
            0.75,
            "rgb(33,113,181)"
           ],
           [
            0.875,
            "rgb(8,81,156)"
           ],
           [
            1,
            "rgb(8,48,107)"
           ]
          ],
          "line": {
           "color": "Grey",
           "width": 0.5
          },
          "showscale": false
         },
         "mode": "markers",
         "name": "Feasible Trial",
         "showlegend": false,
         "type": "scatter",
         "x": [
          2404,
          3411,
          1724,
          4970,
          1405,
          1359,
          1120,
          1910,
          4474,
          3583,
          1902,
          1514,
          2358,
          2821,
          3110,
          2760,
          4900,
          3849,
          1926,
          2147,
          4944,
          2200,
          2588,
          1301,
          1201,
          1968,
          3146,
          4428,
          1375,
          1351,
          1235,
          4988,
          4665,
          4665,
          4966,
          3458,
          2934,
          4085,
          1667,
          1702,
          1230,
          4172,
          1421,
          1444,
          1257,
          4686,
          3559,
          2748,
          2250,
          4259
         ],
         "xaxis": "x4",
         "y": [
          1.1564258406886092,
          1,
          2.096701335671093,
          1.0469523739817346,
          1.7976931348623157e+308,
          1.7976931348623157e+308,
          1.1308915778266788,
          1.1564258406886092,
          1,
          1.0356523434986677,
          1.685662653483007,
          1.4151888797371197,
          1.1788716310993363,
          1.2138728669424221,
          1.082425218156335,
          1.0054433345508196,
          1.0356523434986677,
          1.1564258406886092,
          1.112224861852963,
          1.0021869427020387,
          1,
          1,
          1.1715051676140873,
          1.2433827200130751,
          1.582784104669386,
          2.1632952522415163,
          1,
          1,
          1.2080460304822447,
          1.0032135839258385,
          2.530989232069844,
          1.0021869427020387,
          1,
          1,
          1,
          1,
          1,
          1,
          1.1609128232011328,
          1.222397377444046,
          1.9656307013892271,
          1.1282416764283798,
          1.082425218156335,
          1.4385305820029064,
          1.7976931348623157e+308,
          1.0054433345508196,
          1,
          1,
          1.4385305820029064,
          1
         ],
         "yaxis": "y4"
        }
       ],
       "layout": {
        "template": {
         "data": {
          "bar": [
           {
            "error_x": {
             "color": "#2a3f5f"
            },
            "error_y": {
             "color": "#2a3f5f"
            },
            "marker": {
             "line": {
              "color": "#E5ECF6",
              "width": 0.5
             },
             "pattern": {
              "fillmode": "overlay",
              "size": 10,
              "solidity": 0.2
             }
            },
            "type": "bar"
           }
          ],
          "barpolar": [
           {
            "marker": {
             "line": {
              "color": "#E5ECF6",
              "width": 0.5
             },
             "pattern": {
              "fillmode": "overlay",
              "size": 10,
              "solidity": 0.2
             }
            },
            "type": "barpolar"
           }
          ],
          "carpet": [
           {
            "aaxis": {
             "endlinecolor": "#2a3f5f",
             "gridcolor": "white",
             "linecolor": "white",
             "minorgridcolor": "white",
             "startlinecolor": "#2a3f5f"
            },
            "baxis": {
             "endlinecolor": "#2a3f5f",
             "gridcolor": "white",
             "linecolor": "white",
             "minorgridcolor": "white",
             "startlinecolor": "#2a3f5f"
            },
            "type": "carpet"
           }
          ],
          "choropleth": [
           {
            "colorbar": {
             "outlinewidth": 0,
             "ticks": ""
            },
            "type": "choropleth"
           }
          ],
          "contour": [
           {
            "colorbar": {
             "outlinewidth": 0,
             "ticks": ""
            },
            "colorscale": [
             [
              0,
              "#0d0887"
             ],
             [
              0.1111111111111111,
              "#46039f"
             ],
             [
              0.2222222222222222,
              "#7201a8"
             ],
             [
              0.3333333333333333,
              "#9c179e"
             ],
             [
              0.4444444444444444,
              "#bd3786"
             ],
             [
              0.5555555555555556,
              "#d8576b"
             ],
             [
              0.6666666666666666,
              "#ed7953"
             ],
             [
              0.7777777777777778,
              "#fb9f3a"
             ],
             [
              0.8888888888888888,
              "#fdca26"
             ],
             [
              1,
              "#f0f921"
             ]
            ],
            "type": "contour"
           }
          ],
          "contourcarpet": [
           {
            "colorbar": {
             "outlinewidth": 0,
             "ticks": ""
            },
            "type": "contourcarpet"
           }
          ],
          "heatmap": [
           {
            "colorbar": {
             "outlinewidth": 0,
             "ticks": ""
            },
            "colorscale": [
             [
              0,
              "#0d0887"
             ],
             [
              0.1111111111111111,
              "#46039f"
             ],
             [
              0.2222222222222222,
              "#7201a8"
             ],
             [
              0.3333333333333333,
              "#9c179e"
             ],
             [
              0.4444444444444444,
              "#bd3786"
             ],
             [
              0.5555555555555556,
              "#d8576b"
             ],
             [
              0.6666666666666666,
              "#ed7953"
             ],
             [
              0.7777777777777778,
              "#fb9f3a"
             ],
             [
              0.8888888888888888,
              "#fdca26"
             ],
             [
              1,
              "#f0f921"
             ]
            ],
            "type": "heatmap"
           }
          ],
          "heatmapgl": [
           {
            "colorbar": {
             "outlinewidth": 0,
             "ticks": ""
            },
            "colorscale": [
             [
              0,
              "#0d0887"
             ],
             [
              0.1111111111111111,
              "#46039f"
             ],
             [
              0.2222222222222222,
              "#7201a8"
             ],
             [
              0.3333333333333333,
              "#9c179e"
             ],
             [
              0.4444444444444444,
              "#bd3786"
             ],
             [
              0.5555555555555556,
              "#d8576b"
             ],
             [
              0.6666666666666666,
              "#ed7953"
             ],
             [
              0.7777777777777778,
              "#fb9f3a"
             ],
             [
              0.8888888888888888,
              "#fdca26"
             ],
             [
              1,
              "#f0f921"
             ]
            ],
            "type": "heatmapgl"
           }
          ],
          "histogram": [
           {
            "marker": {
             "pattern": {
              "fillmode": "overlay",
              "size": 10,
              "solidity": 0.2
             }
            },
            "type": "histogram"
           }
          ],
          "histogram2d": [
           {
            "colorbar": {
             "outlinewidth": 0,
             "ticks": ""
            },
            "colorscale": [
             [
              0,
              "#0d0887"
             ],
             [
              0.1111111111111111,
              "#46039f"
             ],
             [
              0.2222222222222222,
              "#7201a8"
             ],
             [
              0.3333333333333333,
              "#9c179e"
             ],
             [
              0.4444444444444444,
              "#bd3786"
             ],
             [
              0.5555555555555556,
              "#d8576b"
             ],
             [
              0.6666666666666666,
              "#ed7953"
             ],
             [
              0.7777777777777778,
              "#fb9f3a"
             ],
             [
              0.8888888888888888,
              "#fdca26"
             ],
             [
              1,
              "#f0f921"
             ]
            ],
            "type": "histogram2d"
           }
          ],
          "histogram2dcontour": [
           {
            "colorbar": {
             "outlinewidth": 0,
             "ticks": ""
            },
            "colorscale": [
             [
              0,
              "#0d0887"
             ],
             [
              0.1111111111111111,
              "#46039f"
             ],
             [
              0.2222222222222222,
              "#7201a8"
             ],
             [
              0.3333333333333333,
              "#9c179e"
             ],
             [
              0.4444444444444444,
              "#bd3786"
             ],
             [
              0.5555555555555556,
              "#d8576b"
             ],
             [
              0.6666666666666666,
              "#ed7953"
             ],
             [
              0.7777777777777778,
              "#fb9f3a"
             ],
             [
              0.8888888888888888,
              "#fdca26"
             ],
             [
              1,
              "#f0f921"
             ]
            ],
            "type": "histogram2dcontour"
           }
          ],
          "mesh3d": [
           {
            "colorbar": {
             "outlinewidth": 0,
             "ticks": ""
            },
            "type": "mesh3d"
           }
          ],
          "parcoords": [
           {
            "line": {
             "colorbar": {
              "outlinewidth": 0,
              "ticks": ""
             }
            },
            "type": "parcoords"
           }
          ],
          "pie": [
           {
            "automargin": true,
            "type": "pie"
           }
          ],
          "scatter": [
           {
            "fillpattern": {
             "fillmode": "overlay",
             "size": 10,
             "solidity": 0.2
            },
            "type": "scatter"
           }
          ],
          "scatter3d": [
           {
            "line": {
             "colorbar": {
              "outlinewidth": 0,
              "ticks": ""
             }
            },
            "marker": {
             "colorbar": {
              "outlinewidth": 0,
              "ticks": ""
             }
            },
            "type": "scatter3d"
           }
          ],
          "scattercarpet": [
           {
            "marker": {
             "colorbar": {
              "outlinewidth": 0,
              "ticks": ""
             }
            },
            "type": "scattercarpet"
           }
          ],
          "scattergeo": [
           {
            "marker": {
             "colorbar": {
              "outlinewidth": 0,
              "ticks": ""
             }
            },
            "type": "scattergeo"
           }
          ],
          "scattergl": [
           {
            "marker": {
             "colorbar": {
              "outlinewidth": 0,
              "ticks": ""
             }
            },
            "type": "scattergl"
           }
          ],
          "scattermapbox": [
           {
            "marker": {
             "colorbar": {
              "outlinewidth": 0,
              "ticks": ""
             }
            },
            "type": "scattermapbox"
           }
          ],
          "scatterpolar": [
           {
            "marker": {
             "colorbar": {
              "outlinewidth": 0,
              "ticks": ""
             }
            },
            "type": "scatterpolar"
           }
          ],
          "scatterpolargl": [
           {
            "marker": {
             "colorbar": {
              "outlinewidth": 0,
              "ticks": ""
             }
            },
            "type": "scatterpolargl"
           }
          ],
          "scatterternary": [
           {
            "marker": {
             "colorbar": {
              "outlinewidth": 0,
              "ticks": ""
             }
            },
            "type": "scatterternary"
           }
          ],
          "surface": [
           {
            "colorbar": {
             "outlinewidth": 0,
             "ticks": ""
            },
            "colorscale": [
             [
              0,
              "#0d0887"
             ],
             [
              0.1111111111111111,
              "#46039f"
             ],
             [
              0.2222222222222222,
              "#7201a8"
             ],
             [
              0.3333333333333333,
              "#9c179e"
             ],
             [
              0.4444444444444444,
              "#bd3786"
             ],
             [
              0.5555555555555556,
              "#d8576b"
             ],
             [
              0.6666666666666666,
              "#ed7953"
             ],
             [
              0.7777777777777778,
              "#fb9f3a"
             ],
             [
              0.8888888888888888,
              "#fdca26"
             ],
             [
              1,
              "#f0f921"
             ]
            ],
            "type": "surface"
           }
          ],
          "table": [
           {
            "cells": {
             "fill": {
              "color": "#EBF0F8"
             },
             "line": {
              "color": "white"
             }
            },
            "header": {
             "fill": {
              "color": "#C8D4E3"
             },
             "line": {
              "color": "white"
             }
            },
            "type": "table"
           }
          ]
         },
         "layout": {
          "annotationdefaults": {
           "arrowcolor": "#2a3f5f",
           "arrowhead": 0,
           "arrowwidth": 1
          },
          "autotypenumbers": "strict",
          "coloraxis": {
           "colorbar": {
            "outlinewidth": 0,
            "ticks": ""
           }
          },
          "colorscale": {
           "diverging": [
            [
             0,
             "#8e0152"
            ],
            [
             0.1,
             "#c51b7d"
            ],
            [
             0.2,
             "#de77ae"
            ],
            [
             0.3,
             "#f1b6da"
            ],
            [
             0.4,
             "#fde0ef"
            ],
            [
             0.5,
             "#f7f7f7"
            ],
            [
             0.6,
             "#e6f5d0"
            ],
            [
             0.7,
             "#b8e186"
            ],
            [
             0.8,
             "#7fbc41"
            ],
            [
             0.9,
             "#4d9221"
            ],
            [
             1,
             "#276419"
            ]
           ],
           "sequential": [
            [
             0,
             "#0d0887"
            ],
            [
             0.1111111111111111,
             "#46039f"
            ],
            [
             0.2222222222222222,
             "#7201a8"
            ],
            [
             0.3333333333333333,
             "#9c179e"
            ],
            [
             0.4444444444444444,
             "#bd3786"
            ],
            [
             0.5555555555555556,
             "#d8576b"
            ],
            [
             0.6666666666666666,
             "#ed7953"
            ],
            [
             0.7777777777777778,
             "#fb9f3a"
            ],
            [
             0.8888888888888888,
             "#fdca26"
            ],
            [
             1,
             "#f0f921"
            ]
           ],
           "sequentialminus": [
            [
             0,
             "#0d0887"
            ],
            [
             0.1111111111111111,
             "#46039f"
            ],
            [
             0.2222222222222222,
             "#7201a8"
            ],
            [
             0.3333333333333333,
             "#9c179e"
            ],
            [
             0.4444444444444444,
             "#bd3786"
            ],
            [
             0.5555555555555556,
             "#d8576b"
            ],
            [
             0.6666666666666666,
             "#ed7953"
            ],
            [
             0.7777777777777778,
             "#fb9f3a"
            ],
            [
             0.8888888888888888,
             "#fdca26"
            ],
            [
             1,
             "#f0f921"
            ]
           ]
          },
          "colorway": [
           "#636efa",
           "#EF553B",
           "#00cc96",
           "#ab63fa",
           "#FFA15A",
           "#19d3f3",
           "#FF6692",
           "#B6E880",
           "#FF97FF",
           "#FECB52"
          ],
          "font": {
           "color": "#2a3f5f"
          },
          "geo": {
           "bgcolor": "white",
           "lakecolor": "white",
           "landcolor": "#E5ECF6",
           "showlakes": true,
           "showland": true,
           "subunitcolor": "white"
          },
          "hoverlabel": {
           "align": "left"
          },
          "hovermode": "closest",
          "mapbox": {
           "style": "light"
          },
          "paper_bgcolor": "white",
          "plot_bgcolor": "#E5ECF6",
          "polar": {
           "angularaxis": {
            "gridcolor": "white",
            "linecolor": "white",
            "ticks": ""
           },
           "bgcolor": "#E5ECF6",
           "radialaxis": {
            "gridcolor": "white",
            "linecolor": "white",
            "ticks": ""
           }
          },
          "scene": {
           "xaxis": {
            "backgroundcolor": "#E5ECF6",
            "gridcolor": "white",
            "gridwidth": 2,
            "linecolor": "white",
            "showbackground": true,
            "ticks": "",
            "zerolinecolor": "white"
           },
           "yaxis": {
            "backgroundcolor": "#E5ECF6",
            "gridcolor": "white",
            "gridwidth": 2,
            "linecolor": "white",
            "showbackground": true,
            "ticks": "",
            "zerolinecolor": "white"
           },
           "zaxis": {
            "backgroundcolor": "#E5ECF6",
            "gridcolor": "white",
            "gridwidth": 2,
            "linecolor": "white",
            "showbackground": true,
            "ticks": "",
            "zerolinecolor": "white"
           }
          },
          "shapedefaults": {
           "line": {
            "color": "#2a3f5f"
           }
          },
          "ternary": {
           "aaxis": {
            "gridcolor": "white",
            "linecolor": "white",
            "ticks": ""
           },
           "baxis": {
            "gridcolor": "white",
            "linecolor": "white",
            "ticks": ""
           },
           "bgcolor": "#E5ECF6",
           "caxis": {
            "gridcolor": "white",
            "linecolor": "white",
            "ticks": ""
           }
          },
          "title": {
           "x": 0.05
          },
          "xaxis": {
           "automargin": true,
           "gridcolor": "white",
           "linecolor": "white",
           "ticks": "",
           "title": {
            "standoff": 15
           },
           "zerolinecolor": "white",
           "zerolinewidth": 2
          },
          "yaxis": {
           "automargin": true,
           "gridcolor": "white",
           "linecolor": "white",
           "ticks": "",
           "title": {
            "standoff": 15
           },
           "zerolinecolor": "white",
           "zerolinewidth": 2
          }
         }
        },
        "title": {
         "text": "Slice Plot"
        },
        "width": 1200,
        "xaxis": {
         "anchor": "y",
         "domain": [
          0,
          0.2125
         ],
         "title": {
          "text": "L"
         }
        },
        "xaxis2": {
         "anchor": "y2",
         "domain": [
          0.2625,
          0.475
         ],
         "title": {
          "text": "k"
         }
        },
        "xaxis3": {
         "anchor": "y3",
         "categoryarray": [
          3750,
          7500,
          15000
         ],
         "categoryorder": "array",
         "domain": [
          0.525,
          0.7375
         ],
         "title": {
          "text": "table_size"
         },
         "type": "category"
        },
        "xaxis4": {
         "anchor": "y4",
         "domain": [
          0.7875,
          1
         ],
         "title": {
          "text": "window_size"
         }
        },
        "yaxis": {
         "anchor": "x",
         "domain": [
          0,
          1
         ],
         "title": {
          "text": "maf"
         }
        },
        "yaxis2": {
         "anchor": "x2",
         "domain": [
          0,
          1
         ],
         "matches": "y",
         "showticklabels": false
        },
        "yaxis3": {
         "anchor": "x3",
         "domain": [
          0,
          1
         ],
         "matches": "y",
         "showticklabels": false
        },
        "yaxis4": {
         "anchor": "x4",
         "domain": [
          0,
          1
         ],
         "matches": "y",
         "showticklabels": false
        }
       }
      }
     },
     "metadata": {},
     "output_type": "display_data"
    }
   ],
   "source": [
    "plot_slice(lsh_study, target = lambda t: t.values[0], target_name = 'maf')"
   ]
  },
  {
   "cell_type": "code",
   "execution_count": 9,
   "metadata": {},
   "outputs": [
    {
     "data": {
      "application/vnd.plotly.v1+json": {
       "config": {
        "plotlyServerURL": "https://plot.ly"
       },
       "data": [
        {
         "marker": {
          "color": [
           0,
           1,
           2,
           3,
           4,
           5,
           6,
           7,
           8,
           9,
           10,
           11,
           12,
           13,
           14,
           15,
           16,
           17,
           18,
           19,
           20,
           21,
           22,
           23,
           24,
           25,
           26,
           27,
           28,
           29,
           30,
           31,
           32,
           33,
           34,
           35,
           36,
           37,
           38,
           39,
           40,
           41,
           42,
           43,
           44,
           45,
           46,
           47,
           48,
           49
          ],
          "colorbar": {
           "title": {
            "text": "Trial"
           },
           "x": 1,
           "xpad": 40
          },
          "colorscale": [
           [
            0,
            "rgb(247,251,255)"
           ],
           [
            0.125,
            "rgb(222,235,247)"
           ],
           [
            0.25,
            "rgb(198,219,239)"
           ],
           [
            0.375,
            "rgb(158,202,225)"
           ],
           [
            0.5,
            "rgb(107,174,214)"
           ],
           [
            0.625,
            "rgb(66,146,198)"
           ],
           [
            0.75,
            "rgb(33,113,181)"
           ],
           [
            0.875,
            "rgb(8,81,156)"
           ],
           [
            1,
            "rgb(8,48,107)"
           ]
          ],
          "line": {
           "color": "Grey",
           "width": 0.5
          },
          "showscale": true
         },
         "mode": "markers",
         "name": "Feasible Trial",
         "showlegend": false,
         "type": "scatter",
         "x": [
          6,
          2,
          5,
          3,
          2,
          5,
          3,
          3,
          7,
          5,
          5,
          5,
          9,
          4,
          8,
          9,
          2,
          2,
          6,
          8,
          6,
          5,
          4,
          4,
          6,
          5,
          3,
          9,
          9,
          8,
          6,
          9,
          8,
          2,
          9,
          7,
          10,
          10,
          6,
          5,
          10,
          4,
          5,
          3,
          4,
          3,
          6,
          9,
          3,
          9
         ],
         "xaxis": "x",
         "y": [
          0.015325,
          0.0796542,
          0.0009851999999999999,
          0.0459947,
          0.0003581,
          0.0006930999999999999,
          0.0152777,
          0.03314349999999999,
          0.06351409999999999,
          0.08880060000000001,
          0.0016545999999999998,
          0.0023997999999999997,
          0.0064695,
          0.0059727,
          0.0356664,
          0.0311914,
          0.0242489,
          0.015778900000000002,
          0.0408282,
          0.06659249999999999,
          0.30134910000000004,
          0.16197560000000003,
          0.0323208,
          0.004987,
          0.0030792,
          0.0016367000000000003,
          0.0194746,
          0.059251599999999995,
          0.0090235,
          0.13027249999999996,
          0.0010091000000000002,
          0.1268195,
          0.4336101,
          0.060044,
          0.2202912,
          0.17962799999999998,
          0.0823453,
          0.1304873,
          0.004841799999999999,
          0.012278999999999998,
          0.0012372999999999998,
          0.0464026,
          0.034891,
          0.0059379,
          0.0006727,
          0.0964148,
          0.29899000000000003,
          0.4211066999999999,
          0.0068092,
          0.5556825
         ],
         "yaxis": "y"
        },
        {
         "marker": {
          "color": [
           0,
           1,
           2,
           3,
           4,
           5,
           6,
           7,
           8,
           9,
           10,
           11,
           12,
           13,
           14,
           15,
           16,
           17,
           18,
           19,
           20,
           21,
           22,
           23,
           24,
           25,
           26,
           27,
           28,
           29,
           30,
           31,
           32,
           33,
           34,
           35,
           36,
           37,
           38,
           39,
           40,
           41,
           42,
           43,
           44,
           45,
           46,
           47,
           48,
           49
          ],
          "colorbar": {
           "title": {
            "text": "Trial"
           },
           "x": 1,
           "xpad": 40
          },
          "colorscale": [
           [
            0,
            "rgb(247,251,255)"
           ],
           [
            0.125,
            "rgb(222,235,247)"
           ],
           [
            0.25,
            "rgb(198,219,239)"
           ],
           [
            0.375,
            "rgb(158,202,225)"
           ],
           [
            0.5,
            "rgb(107,174,214)"
           ],
           [
            0.625,
            "rgb(66,146,198)"
           ],
           [
            0.75,
            "rgb(33,113,181)"
           ],
           [
            0.875,
            "rgb(8,81,156)"
           ],
           [
            1,
            "rgb(8,48,107)"
           ]
          ],
          "line": {
           "color": "Grey",
           "width": 0.5
          },
          "showscale": false
         },
         "mode": "markers",
         "name": "Feasible Trial",
         "showlegend": false,
         "type": "scatter",
         "x": [
          6,
          3,
          9,
          9,
          10,
          9,
          2,
          3,
          9,
          5,
          8,
          6,
          9,
          9,
          8,
          7,
          7,
          8,
          4,
          4,
          3,
          2,
          5,
          4,
          5,
          10,
          6,
          10,
          5,
          2,
          8,
          8,
          4,
          5,
          5,
          4,
          6,
          7,
          6,
          5,
          10,
          9,
          3,
          4,
          10,
          7,
          2,
          2,
          7,
          2
         ],
         "xaxis": "x2",
         "y": [
          0.015325,
          0.0796542,
          0.0009851999999999999,
          0.0459947,
          0.0003581,
          0.0006930999999999999,
          0.0152777,
          0.03314349999999999,
          0.06351409999999999,
          0.08880060000000001,
          0.0016545999999999998,
          0.0023997999999999997,
          0.0064695,
          0.0059727,
          0.0356664,
          0.0311914,
          0.0242489,
          0.015778900000000002,
          0.0408282,
          0.06659249999999999,
          0.30134910000000004,
          0.16197560000000003,
          0.0323208,
          0.004987,
          0.0030792,
          0.0016367000000000003,
          0.0194746,
          0.059251599999999995,
          0.0090235,
          0.13027249999999996,
          0.0010091000000000002,
          0.1268195,
          0.4336101,
          0.060044,
          0.2202912,
          0.17962799999999998,
          0.0823453,
          0.1304873,
          0.004841799999999999,
          0.012278999999999998,
          0.0012372999999999998,
          0.0464026,
          0.034891,
          0.0059379,
          0.0006727,
          0.0964148,
          0.29899000000000003,
          0.4211066999999999,
          0.0068092,
          0.5556825
         ],
         "yaxis": "y2"
        },
        {
         "marker": {
          "color": [
           0,
           1,
           2,
           3,
           4,
           5,
           6,
           7,
           8,
           9,
           10,
           11,
           12,
           13,
           14,
           15,
           16,
           17,
           18,
           19,
           20,
           21,
           22,
           23,
           24,
           25,
           26,
           27,
           28,
           29,
           30,
           31,
           32,
           33,
           34,
           35,
           36,
           37,
           38,
           39,
           40,
           41,
           42,
           43,
           44,
           45,
           46,
           47,
           48,
           49
          ],
          "colorbar": {
           "title": {
            "text": "Trial"
           },
           "x": 1,
           "xpad": 40
          },
          "colorscale": [
           [
            0,
            "rgb(247,251,255)"
           ],
           [
            0.125,
            "rgb(222,235,247)"
           ],
           [
            0.25,
            "rgb(198,219,239)"
           ],
           [
            0.375,
            "rgb(158,202,225)"
           ],
           [
            0.5,
            "rgb(107,174,214)"
           ],
           [
            0.625,
            "rgb(66,146,198)"
           ],
           [
            0.75,
            "rgb(33,113,181)"
           ],
           [
            0.875,
            "rgb(8,81,156)"
           ],
           [
            1,
            "rgb(8,48,107)"
           ]
          ],
          "line": {
           "color": "Grey",
           "width": 0.5
          },
          "showscale": false
         },
         "mode": "markers",
         "name": "Feasible Trial",
         "showlegend": false,
         "type": "scatter",
         "x": [
          3750,
          3750,
          15000,
          15000,
          3750,
          7500,
          7500,
          15000,
          7500,
          3750,
          15000,
          3750,
          15000,
          15000,
          3750,
          3750,
          7500,
          7500,
          15000,
          15000,
          7500,
          15000,
          15000,
          3750,
          7500,
          15000,
          3750,
          7500,
          3750,
          7500,
          15000,
          3750,
          15000,
          7500,
          7500,
          7500,
          3750,
          7500,
          15000,
          3750,
          7500,
          7500,
          7500,
          7500,
          7500,
          3750,
          3750,
          15000,
          15000,
          15000
         ],
         "xaxis": "x3",
         "y": [
          0.015325,
          0.0796542,
          0.0009851999999999999,
          0.0459947,
          0.0003581,
          0.0006930999999999999,
          0.0152777,
          0.03314349999999999,
          0.06351409999999999,
          0.08880060000000001,
          0.0016545999999999998,
          0.0023997999999999997,
          0.0064695,
          0.0059727,
          0.0356664,
          0.0311914,
          0.0242489,
          0.015778900000000002,
          0.0408282,
          0.06659249999999999,
          0.30134910000000004,
          0.16197560000000003,
          0.0323208,
          0.004987,
          0.0030792,
          0.0016367000000000003,
          0.0194746,
          0.059251599999999995,
          0.0090235,
          0.13027249999999996,
          0.0010091000000000002,
          0.1268195,
          0.4336101,
          0.060044,
          0.2202912,
          0.17962799999999998,
          0.0823453,
          0.1304873,
          0.004841799999999999,
          0.012278999999999998,
          0.0012372999999999998,
          0.0464026,
          0.034891,
          0.0059379,
          0.0006727,
          0.0964148,
          0.29899000000000003,
          0.4211066999999999,
          0.0068092,
          0.5556825
         ],
         "yaxis": "y3"
        },
        {
         "marker": {
          "color": [
           0,
           1,
           2,
           3,
           4,
           5,
           6,
           7,
           8,
           9,
           10,
           11,
           12,
           13,
           14,
           15,
           16,
           17,
           18,
           19,
           20,
           21,
           22,
           23,
           24,
           25,
           26,
           27,
           28,
           29,
           30,
           31,
           32,
           33,
           34,
           35,
           36,
           37,
           38,
           39,
           40,
           41,
           42,
           43,
           44,
           45,
           46,
           47,
           48,
           49
          ],
          "colorbar": {
           "title": {
            "text": "Trial"
           },
           "x": 1,
           "xpad": 40
          },
          "colorscale": [
           [
            0,
            "rgb(247,251,255)"
           ],
           [
            0.125,
            "rgb(222,235,247)"
           ],
           [
            0.25,
            "rgb(198,219,239)"
           ],
           [
            0.375,
            "rgb(158,202,225)"
           ],
           [
            0.5,
            "rgb(107,174,214)"
           ],
           [
            0.625,
            "rgb(66,146,198)"
           ],
           [
            0.75,
            "rgb(33,113,181)"
           ],
           [
            0.875,
            "rgb(8,81,156)"
           ],
           [
            1,
            "rgb(8,48,107)"
           ]
          ],
          "line": {
           "color": "Grey",
           "width": 0.5
          },
          "showscale": false
         },
         "mode": "markers",
         "name": "Feasible Trial",
         "showlegend": false,
         "type": "scatter",
         "x": [
          2404,
          3411,
          1724,
          4970,
          1405,
          1359,
          1120,
          1910,
          4474,
          3583,
          1902,
          1514,
          2358,
          2821,
          3110,
          2760,
          4900,
          3849,
          1926,
          2147,
          4944,
          2200,
          2588,
          1301,
          1201,
          1968,
          3146,
          4428,
          1375,
          1351,
          1235,
          4988,
          4665,
          4665,
          4966,
          3458,
          2934,
          4085,
          1667,
          1702,
          1230,
          4172,
          1421,
          1444,
          1257,
          4686,
          3559,
          2748,
          2250,
          4259
         ],
         "xaxis": "x4",
         "y": [
          0.015325,
          0.0796542,
          0.0009851999999999999,
          0.0459947,
          0.0003581,
          0.0006930999999999999,
          0.0152777,
          0.03314349999999999,
          0.06351409999999999,
          0.08880060000000001,
          0.0016545999999999998,
          0.0023997999999999997,
          0.0064695,
          0.0059727,
          0.0356664,
          0.0311914,
          0.0242489,
          0.015778900000000002,
          0.0408282,
          0.06659249999999999,
          0.30134910000000004,
          0.16197560000000003,
          0.0323208,
          0.004987,
          0.0030792,
          0.0016367000000000003,
          0.0194746,
          0.059251599999999995,
          0.0090235,
          0.13027249999999996,
          0.0010091000000000002,
          0.1268195,
          0.4336101,
          0.060044,
          0.2202912,
          0.17962799999999998,
          0.0823453,
          0.1304873,
          0.004841799999999999,
          0.012278999999999998,
          0.0012372999999999998,
          0.0464026,
          0.034891,
          0.0059379,
          0.0006727,
          0.0964148,
          0.29899000000000003,
          0.4211066999999999,
          0.0068092,
          0.5556825
         ],
         "yaxis": "y4"
        }
       ],
       "layout": {
        "template": {
         "data": {
          "bar": [
           {
            "error_x": {
             "color": "#2a3f5f"
            },
            "error_y": {
             "color": "#2a3f5f"
            },
            "marker": {
             "line": {
              "color": "#E5ECF6",
              "width": 0.5
             },
             "pattern": {
              "fillmode": "overlay",
              "size": 10,
              "solidity": 0.2
             }
            },
            "type": "bar"
           }
          ],
          "barpolar": [
           {
            "marker": {
             "line": {
              "color": "#E5ECF6",
              "width": 0.5
             },
             "pattern": {
              "fillmode": "overlay",
              "size": 10,
              "solidity": 0.2
             }
            },
            "type": "barpolar"
           }
          ],
          "carpet": [
           {
            "aaxis": {
             "endlinecolor": "#2a3f5f",
             "gridcolor": "white",
             "linecolor": "white",
             "minorgridcolor": "white",
             "startlinecolor": "#2a3f5f"
            },
            "baxis": {
             "endlinecolor": "#2a3f5f",
             "gridcolor": "white",
             "linecolor": "white",
             "minorgridcolor": "white",
             "startlinecolor": "#2a3f5f"
            },
            "type": "carpet"
           }
          ],
          "choropleth": [
           {
            "colorbar": {
             "outlinewidth": 0,
             "ticks": ""
            },
            "type": "choropleth"
           }
          ],
          "contour": [
           {
            "colorbar": {
             "outlinewidth": 0,
             "ticks": ""
            },
            "colorscale": [
             [
              0,
              "#0d0887"
             ],
             [
              0.1111111111111111,
              "#46039f"
             ],
             [
              0.2222222222222222,
              "#7201a8"
             ],
             [
              0.3333333333333333,
              "#9c179e"
             ],
             [
              0.4444444444444444,
              "#bd3786"
             ],
             [
              0.5555555555555556,
              "#d8576b"
             ],
             [
              0.6666666666666666,
              "#ed7953"
             ],
             [
              0.7777777777777778,
              "#fb9f3a"
             ],
             [
              0.8888888888888888,
              "#fdca26"
             ],
             [
              1,
              "#f0f921"
             ]
            ],
            "type": "contour"
           }
          ],
          "contourcarpet": [
           {
            "colorbar": {
             "outlinewidth": 0,
             "ticks": ""
            },
            "type": "contourcarpet"
           }
          ],
          "heatmap": [
           {
            "colorbar": {
             "outlinewidth": 0,
             "ticks": ""
            },
            "colorscale": [
             [
              0,
              "#0d0887"
             ],
             [
              0.1111111111111111,
              "#46039f"
             ],
             [
              0.2222222222222222,
              "#7201a8"
             ],
             [
              0.3333333333333333,
              "#9c179e"
             ],
             [
              0.4444444444444444,
              "#bd3786"
             ],
             [
              0.5555555555555556,
              "#d8576b"
             ],
             [
              0.6666666666666666,
              "#ed7953"
             ],
             [
              0.7777777777777778,
              "#fb9f3a"
             ],
             [
              0.8888888888888888,
              "#fdca26"
             ],
             [
              1,
              "#f0f921"
             ]
            ],
            "type": "heatmap"
           }
          ],
          "heatmapgl": [
           {
            "colorbar": {
             "outlinewidth": 0,
             "ticks": ""
            },
            "colorscale": [
             [
              0,
              "#0d0887"
             ],
             [
              0.1111111111111111,
              "#46039f"
             ],
             [
              0.2222222222222222,
              "#7201a8"
             ],
             [
              0.3333333333333333,
              "#9c179e"
             ],
             [
              0.4444444444444444,
              "#bd3786"
             ],
             [
              0.5555555555555556,
              "#d8576b"
             ],
             [
              0.6666666666666666,
              "#ed7953"
             ],
             [
              0.7777777777777778,
              "#fb9f3a"
             ],
             [
              0.8888888888888888,
              "#fdca26"
             ],
             [
              1,
              "#f0f921"
             ]
            ],
            "type": "heatmapgl"
           }
          ],
          "histogram": [
           {
            "marker": {
             "pattern": {
              "fillmode": "overlay",
              "size": 10,
              "solidity": 0.2
             }
            },
            "type": "histogram"
           }
          ],
          "histogram2d": [
           {
            "colorbar": {
             "outlinewidth": 0,
             "ticks": ""
            },
            "colorscale": [
             [
              0,
              "#0d0887"
             ],
             [
              0.1111111111111111,
              "#46039f"
             ],
             [
              0.2222222222222222,
              "#7201a8"
             ],
             [
              0.3333333333333333,
              "#9c179e"
             ],
             [
              0.4444444444444444,
              "#bd3786"
             ],
             [
              0.5555555555555556,
              "#d8576b"
             ],
             [
              0.6666666666666666,
              "#ed7953"
             ],
             [
              0.7777777777777778,
              "#fb9f3a"
             ],
             [
              0.8888888888888888,
              "#fdca26"
             ],
             [
              1,
              "#f0f921"
             ]
            ],
            "type": "histogram2d"
           }
          ],
          "histogram2dcontour": [
           {
            "colorbar": {
             "outlinewidth": 0,
             "ticks": ""
            },
            "colorscale": [
             [
              0,
              "#0d0887"
             ],
             [
              0.1111111111111111,
              "#46039f"
             ],
             [
              0.2222222222222222,
              "#7201a8"
             ],
             [
              0.3333333333333333,
              "#9c179e"
             ],
             [
              0.4444444444444444,
              "#bd3786"
             ],
             [
              0.5555555555555556,
              "#d8576b"
             ],
             [
              0.6666666666666666,
              "#ed7953"
             ],
             [
              0.7777777777777778,
              "#fb9f3a"
             ],
             [
              0.8888888888888888,
              "#fdca26"
             ],
             [
              1,
              "#f0f921"
             ]
            ],
            "type": "histogram2dcontour"
           }
          ],
          "mesh3d": [
           {
            "colorbar": {
             "outlinewidth": 0,
             "ticks": ""
            },
            "type": "mesh3d"
           }
          ],
          "parcoords": [
           {
            "line": {
             "colorbar": {
              "outlinewidth": 0,
              "ticks": ""
             }
            },
            "type": "parcoords"
           }
          ],
          "pie": [
           {
            "automargin": true,
            "type": "pie"
           }
          ],
          "scatter": [
           {
            "fillpattern": {
             "fillmode": "overlay",
             "size": 10,
             "solidity": 0.2
            },
            "type": "scatter"
           }
          ],
          "scatter3d": [
           {
            "line": {
             "colorbar": {
              "outlinewidth": 0,
              "ticks": ""
             }
            },
            "marker": {
             "colorbar": {
              "outlinewidth": 0,
              "ticks": ""
             }
            },
            "type": "scatter3d"
           }
          ],
          "scattercarpet": [
           {
            "marker": {
             "colorbar": {
              "outlinewidth": 0,
              "ticks": ""
             }
            },
            "type": "scattercarpet"
           }
          ],
          "scattergeo": [
           {
            "marker": {
             "colorbar": {
              "outlinewidth": 0,
              "ticks": ""
             }
            },
            "type": "scattergeo"
           }
          ],
          "scattergl": [
           {
            "marker": {
             "colorbar": {
              "outlinewidth": 0,
              "ticks": ""
             }
            },
            "type": "scattergl"
           }
          ],
          "scattermapbox": [
           {
            "marker": {
             "colorbar": {
              "outlinewidth": 0,
              "ticks": ""
             }
            },
            "type": "scattermapbox"
           }
          ],
          "scatterpolar": [
           {
            "marker": {
             "colorbar": {
              "outlinewidth": 0,
              "ticks": ""
             }
            },
            "type": "scatterpolar"
           }
          ],
          "scatterpolargl": [
           {
            "marker": {
             "colorbar": {
              "outlinewidth": 0,
              "ticks": ""
             }
            },
            "type": "scatterpolargl"
           }
          ],
          "scatterternary": [
           {
            "marker": {
             "colorbar": {
              "outlinewidth": 0,
              "ticks": ""
             }
            },
            "type": "scatterternary"
           }
          ],
          "surface": [
           {
            "colorbar": {
             "outlinewidth": 0,
             "ticks": ""
            },
            "colorscale": [
             [
              0,
              "#0d0887"
             ],
             [
              0.1111111111111111,
              "#46039f"
             ],
             [
              0.2222222222222222,
              "#7201a8"
             ],
             [
              0.3333333333333333,
              "#9c179e"
             ],
             [
              0.4444444444444444,
              "#bd3786"
             ],
             [
              0.5555555555555556,
              "#d8576b"
             ],
             [
              0.6666666666666666,
              "#ed7953"
             ],
             [
              0.7777777777777778,
              "#fb9f3a"
             ],
             [
              0.8888888888888888,
              "#fdca26"
             ],
             [
              1,
              "#f0f921"
             ]
            ],
            "type": "surface"
           }
          ],
          "table": [
           {
            "cells": {
             "fill": {
              "color": "#EBF0F8"
             },
             "line": {
              "color": "white"
             }
            },
            "header": {
             "fill": {
              "color": "#C8D4E3"
             },
             "line": {
              "color": "white"
             }
            },
            "type": "table"
           }
          ]
         },
         "layout": {
          "annotationdefaults": {
           "arrowcolor": "#2a3f5f",
           "arrowhead": 0,
           "arrowwidth": 1
          },
          "autotypenumbers": "strict",
          "coloraxis": {
           "colorbar": {
            "outlinewidth": 0,
            "ticks": ""
           }
          },
          "colorscale": {
           "diverging": [
            [
             0,
             "#8e0152"
            ],
            [
             0.1,
             "#c51b7d"
            ],
            [
             0.2,
             "#de77ae"
            ],
            [
             0.3,
             "#f1b6da"
            ],
            [
             0.4,
             "#fde0ef"
            ],
            [
             0.5,
             "#f7f7f7"
            ],
            [
             0.6,
             "#e6f5d0"
            ],
            [
             0.7,
             "#b8e186"
            ],
            [
             0.8,
             "#7fbc41"
            ],
            [
             0.9,
             "#4d9221"
            ],
            [
             1,
             "#276419"
            ]
           ],
           "sequential": [
            [
             0,
             "#0d0887"
            ],
            [
             0.1111111111111111,
             "#46039f"
            ],
            [
             0.2222222222222222,
             "#7201a8"
            ],
            [
             0.3333333333333333,
             "#9c179e"
            ],
            [
             0.4444444444444444,
             "#bd3786"
            ],
            [
             0.5555555555555556,
             "#d8576b"
            ],
            [
             0.6666666666666666,
             "#ed7953"
            ],
            [
             0.7777777777777778,
             "#fb9f3a"
            ],
            [
             0.8888888888888888,
             "#fdca26"
            ],
            [
             1,
             "#f0f921"
            ]
           ],
           "sequentialminus": [
            [
             0,
             "#0d0887"
            ],
            [
             0.1111111111111111,
             "#46039f"
            ],
            [
             0.2222222222222222,
             "#7201a8"
            ],
            [
             0.3333333333333333,
             "#9c179e"
            ],
            [
             0.4444444444444444,
             "#bd3786"
            ],
            [
             0.5555555555555556,
             "#d8576b"
            ],
            [
             0.6666666666666666,
             "#ed7953"
            ],
            [
             0.7777777777777778,
             "#fb9f3a"
            ],
            [
             0.8888888888888888,
             "#fdca26"
            ],
            [
             1,
             "#f0f921"
            ]
           ]
          },
          "colorway": [
           "#636efa",
           "#EF553B",
           "#00cc96",
           "#ab63fa",
           "#FFA15A",
           "#19d3f3",
           "#FF6692",
           "#B6E880",
           "#FF97FF",
           "#FECB52"
          ],
          "font": {
           "color": "#2a3f5f"
          },
          "geo": {
           "bgcolor": "white",
           "lakecolor": "white",
           "landcolor": "#E5ECF6",
           "showlakes": true,
           "showland": true,
           "subunitcolor": "white"
          },
          "hoverlabel": {
           "align": "left"
          },
          "hovermode": "closest",
          "mapbox": {
           "style": "light"
          },
          "paper_bgcolor": "white",
          "plot_bgcolor": "#E5ECF6",
          "polar": {
           "angularaxis": {
            "gridcolor": "white",
            "linecolor": "white",
            "ticks": ""
           },
           "bgcolor": "#E5ECF6",
           "radialaxis": {
            "gridcolor": "white",
            "linecolor": "white",
            "ticks": ""
           }
          },
          "scene": {
           "xaxis": {
            "backgroundcolor": "#E5ECF6",
            "gridcolor": "white",
            "gridwidth": 2,
            "linecolor": "white",
            "showbackground": true,
            "ticks": "",
            "zerolinecolor": "white"
           },
           "yaxis": {
            "backgroundcolor": "#E5ECF6",
            "gridcolor": "white",
            "gridwidth": 2,
            "linecolor": "white",
            "showbackground": true,
            "ticks": "",
            "zerolinecolor": "white"
           },
           "zaxis": {
            "backgroundcolor": "#E5ECF6",
            "gridcolor": "white",
            "gridwidth": 2,
            "linecolor": "white",
            "showbackground": true,
            "ticks": "",
            "zerolinecolor": "white"
           }
          },
          "shapedefaults": {
           "line": {
            "color": "#2a3f5f"
           }
          },
          "ternary": {
           "aaxis": {
            "gridcolor": "white",
            "linecolor": "white",
            "ticks": ""
           },
           "baxis": {
            "gridcolor": "white",
            "linecolor": "white",
            "ticks": ""
           },
           "bgcolor": "#E5ECF6",
           "caxis": {
            "gridcolor": "white",
            "linecolor": "white",
            "ticks": ""
           }
          },
          "title": {
           "x": 0.05
          },
          "xaxis": {
           "automargin": true,
           "gridcolor": "white",
           "linecolor": "white",
           "ticks": "",
           "title": {
            "standoff": 15
           },
           "zerolinecolor": "white",
           "zerolinewidth": 2
          },
          "yaxis": {
           "automargin": true,
           "gridcolor": "white",
           "linecolor": "white",
           "ticks": "",
           "title": {
            "standoff": 15
           },
           "zerolinecolor": "white",
           "zerolinewidth": 2
          }
         }
        },
        "title": {
         "text": "Slice Plot"
        },
        "width": 1200,
        "xaxis": {
         "anchor": "y",
         "domain": [
          0,
          0.2125
         ],
         "title": {
          "text": "L"
         }
        },
        "xaxis2": {
         "anchor": "y2",
         "domain": [
          0.2625,
          0.475
         ],
         "title": {
          "text": "k"
         }
        },
        "xaxis3": {
         "anchor": "y3",
         "categoryarray": [
          3750,
          7500,
          15000
         ],
         "categoryorder": "array",
         "domain": [
          0.525,
          0.7375
         ],
         "title": {
          "text": "table_size"
         },
         "type": "category"
        },
        "xaxis4": {
         "anchor": "y4",
         "domain": [
          0.7875,
          1
         ],
         "title": {
          "text": "window_size"
         }
        },
        "yaxis": {
         "anchor": "x",
         "domain": [
          0,
          1
         ],
         "title": {
          "text": "average_time"
         }
        },
        "yaxis2": {
         "anchor": "x2",
         "domain": [
          0,
          1
         ],
         "matches": "y",
         "showticklabels": false
        },
        "yaxis3": {
         "anchor": "x3",
         "domain": [
          0,
          1
         ],
         "matches": "y",
         "showticklabels": false
        },
        "yaxis4": {
         "anchor": "x4",
         "domain": [
          0,
          1
         ],
         "matches": "y",
         "showticklabels": false
        }
       }
      }
     },
     "metadata": {},
     "output_type": "display_data"
    }
   ],
   "source": [
    "plot_slice(lsh_study, target = lambda t: t.values[1], target_name = 'average_time')"
   ]
  }
 ],
 "metadata": {
  "kernelspec": {
   "display_name": "Python 3",
   "language": "python",
   "name": "python3"
  },
  "language_info": {
   "codemirror_mode": {
    "name": "ipython",
    "version": 3
   },
   "file_extension": ".py",
   "mimetype": "text/x-python",
   "name": "python",
   "nbconvert_exporter": "python",
   "pygments_lexer": "ipython3",
   "version": "3.12.0"
  },
  "orig_nbformat": 4
 },
 "nbformat": 4,
 "nbformat_minor": 2
}
