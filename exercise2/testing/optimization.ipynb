{
 "cells": [
  {
   "attachments": {},
   "cell_type": "markdown",
   "metadata": {},
   "source": [
    "# Optimization - fine tuning\n",
    "\n",
    "[1. Optimize LSH](#1-optimize-lsh)\n",
    "\n",
    "[2. Optimize Hypercube](#2-optimize-hypercube)\n",
    "\n",
    "[3. Optimize GNNS](#3-optimize-gnns)\n",
    "\n",
    "[4. Optimize MRNG]()"
   ]
  },
  {
   "attachments": {},
   "cell_type": "markdown",
   "metadata": {},
   "source": [
    "# Import libraries"
   ]
  },
  {
   "cell_type": "code",
   "execution_count": 1,
   "metadata": {},
   "outputs": [],
   "source": [
    "import optuna\n",
    "from optuna.visualization import plot_pareto_front, plot_optimization_history, plot_slice\n",
    "\n",
    "import pandas\n",
    "\n",
    "from params import lsh_test, hypercube_test, gnn_test, mrng_test"
   ]
  },
  {
   "cell_type": "code",
   "execution_count": 2,
   "metadata": {},
   "outputs": [],
   "source": [
    "input_path = b'../MNIST/input.dat'\n",
    "query_path = b'../MNIST/query.dat'\n",
    "\n",
    "n = 60000"
   ]
  },
  {
   "attachments": {},
   "cell_type": "markdown",
   "metadata": {},
   "source": [
    "# 1. Optimize LSH\n",
    "\n",
    "To skip logs, click [here](#visualize-lsh-study-results)."
   ]
  },
  {
   "cell_type": "code",
   "execution_count": 3,
   "metadata": {},
   "outputs": [],
   "source": [
    "def objective_lsh(trial):\n",
    "    param_dict = {'k': trial.suggest_int('k', 2, 10),\n",
    "                  'L': trial.suggest_int('L', 2, 10),\n",
    "                  'table_size': trial.suggest_categorical('table_size', [int(n/16), int(n/8), int(n/4)]),\n",
    "                  'window_size': trial.suggest_int('window_size', 1000, 5000)\n",
    "                 }\n",
    "    \n",
    "    print(\"Trial parameters:\", param_dict)\n",
    "\n",
    "    average_time, maf, min_neighbors = lsh_test(input_path, query_path, queries_num=100, **param_dict, query_trick=True, N=60)\n",
    "\n",
    "    # trial should return at least 60 neighbors to be used in GNNS\n",
    "    # penalize model if slower than brute force\n",
    "    c0 = - min_neighbors.value + 60\n",
    "    c1 = average_time.value - 0.01\n",
    "    trial.set_user_attr('constraint', (c0, c1))\n",
    "\n",
    "    return maf.value, average_time.value\n",
    "\n",
    "def constraints(trial):\n",
    "    return trial.user_attrs['constraint']"
   ]
  },
  {
   "cell_type": "code",
   "execution_count": 4,
   "metadata": {},
   "outputs": [
    {
     "name": "stderr",
     "output_type": "stream",
     "text": [
      "<timed exec>:3: ExperimentalWarning: BoTorchSampler is experimental (supported from v2.4.0). The interface can change in the future.\n",
      "[I 2023-11-25 20:15:56,883] A new study created in memory with name: lsh\n"
     ]
    },
    {
     "name": "stdout",
     "output_type": "stream",
     "text": [
      "Trial parameters: {'k': 3, 'L': 7, 'table_size': 3750, 'window_size': 1279}\n",
      "Read MNIST data\n",
      "Done\n",
      "Algorithm: LSH\n",
      "Query: 0\n",
      "Query: 1\n",
      "Query: 2\n",
      "Query: 3\n",
      "Query: 4\n",
      "Query: 5\n",
      "Query: 6\n",
      "Query: 7\n",
      "Query: 8\n",
      "Query: 9\n",
      "Query: 10\n",
      "Query: 11\n",
      "Query: 12\n",
      "Query: 13\n",
      "Query: 14\n",
      "Query: 15\n",
      "Query: 16\n",
      "Query: 17\n",
      "Query: 18\n",
      "Query: 19\n",
      "Query: 20\n",
      "Query: 21\n",
      "Query: 22\n",
      "Query: 23\n",
      "Query: 24\n",
      "Query: 25\n",
      "Query: 26\n",
      "Query: 27\n",
      "Query: 28\n",
      "Query: 29\n",
      "Query: 30\n",
      "Query: 31\n",
      "Query: 32\n",
      "Query: 33\n",
      "Query: 34\n",
      "Query: 35\n",
      "Query: 36\n",
      "Query: 37\n",
      "Query: 38\n",
      "Query: 39\n",
      "Query: 40\n",
      "Query: 41\n",
      "Query: 42\n",
      "Query: 43\n",
      "Query: 44\n",
      "Query: 45\n",
      "Query: 46\n",
      "Query: 47\n",
      "Query: 48\n",
      "Query: 49\n",
      "Query: 50\n",
      "Query: 51\n",
      "Query: 52\n",
      "Query: 53\n",
      "Query: 54\n",
      "Query: 55\n",
      "Query: 56\n",
      "Query: 57\n",
      "Query: 58\n",
      "Query: 59\n",
      "Query: 60\n",
      "Query: 61\n",
      "Query: 62\n",
      "Query: 63\n",
      "Query: 64\n",
      "Query: 65\n",
      "Query: 66\n",
      "Query: 67\n",
      "Query: 68\n",
      "Query: 69\n",
      "Query: 70\n",
      "Query: 71\n",
      "Query: 72\n",
      "Query: 73\n",
      "Query: 74\n",
      "Query: 75\n",
      "Query: 76\n",
      "Query: 77\n",
      "Query: 78\n",
      "Query: 79\n",
      "Query: 80\n",
      "Query: 81\n",
      "Query: 82\n",
      "Query: 83\n",
      "Query: 84\n",
      "Query: 85\n",
      "Query: 86\n",
      "Query: 87\n",
      "Query: 88\n",
      "Query: 89\n",
      "Query: 90\n",
      "Query: 91\n",
      "Query: 92\n",
      "Query: 93\n",
      "Query: 94\n",
      "Query: 95\n",
      "Query: 96\n",
      "Query: 97\n",
      "Query: 98\n",
      "Query: 99\n"
     ]
    },
    {
     "name": "stderr",
     "output_type": "stream",
     "text": [
      "[I 2023-11-25 20:16:33,221] Trial 0 finished with values: [1.0642537044165548, 0.037323739999999994] and parameters: {'k': 3, 'L': 7, 'table_size': 3750, 'window_size': 1279}. \n"
     ]
    },
    {
     "name": "stdout",
     "output_type": "stream",
     "text": [
      "Trial parameters: {'k': 9, 'L': 8, 'table_size': 7500, 'window_size': 2654}\n",
      "Read MNIST data\n",
      "Done\n",
      "Algorithm: LSH\n",
      "Query: 0\n",
      "Query: 1\n",
      "Query: 2\n",
      "Query: 3\n",
      "Query: 4\n",
      "Query: 5\n",
      "Query: 6\n",
      "Query: 7\n",
      "Query: 8\n",
      "Query: 9\n",
      "Query: 10\n",
      "Query: 11\n",
      "Query: 12\n",
      "Query: 13\n",
      "Query: 14\n",
      "Query: 15\n",
      "Query: 16\n",
      "Query: 17\n",
      "Query: 18\n",
      "Query: 19\n",
      "Query: 20\n",
      "Query: 21\n",
      "Query: 22\n",
      "Query: 23\n",
      "Query: 24\n",
      "Query: 25\n",
      "Query: 26\n",
      "Query: 27\n",
      "Query: 28\n",
      "Query: 29\n",
      "Query: 30\n",
      "Query: 31\n",
      "Query: 32\n",
      "Query: 33\n",
      "Query: 34\n",
      "Query: 35\n",
      "Query: 36\n",
      "Query: 37\n",
      "Query: 38\n",
      "Query: 39\n",
      "Query: 40\n",
      "Query: 41\n",
      "Query: 42\n",
      "Query: 43\n",
      "Query: 44\n",
      "Query: 45\n",
      "Query: 46\n",
      "Query: 47\n",
      "Query: 48\n",
      "Query: 49\n",
      "Query: 50\n",
      "Query: 51\n",
      "Query: 52\n",
      "Query: 53\n",
      "Query: 54\n",
      "Query: 55\n",
      "Query: 56\n",
      "Query: 57\n",
      "Query: 58\n",
      "Query: 59\n",
      "Query: 60\n",
      "Query: 61\n",
      "Query: 62\n",
      "Query: 63\n",
      "Query: 64\n",
      "Query: 65\n",
      "Query: 66\n",
      "Query: 67\n",
      "Query: 68\n",
      "Query: 69\n",
      "Query: 70\n",
      "Query: 71\n",
      "Query: 72\n",
      "Query: 73\n",
      "Query: 74\n",
      "Query: 75\n",
      "Query: 76\n",
      "Query: 77\n",
      "Query: 78\n",
      "Query: 79\n",
      "Query: 80\n",
      "Query: 81\n",
      "Query: 82\n",
      "Query: 83\n",
      "Query: 84\n",
      "Query: 85\n",
      "Query: 86\n",
      "Query: 87\n",
      "Query: 88\n",
      "Query: 89\n",
      "Query: 90\n",
      "Query: 91\n",
      "Query: 92\n",
      "Query: 93\n",
      "Query: 94\n",
      "Query: 95\n",
      "Query: 96\n",
      "Query: 97\n",
      "Query: 98\n",
      "Query: 99\n"
     ]
    },
    {
     "name": "stderr",
     "output_type": "stream",
     "text": [
      "[I 2023-11-25 20:17:25,537] Trial 1 finished with values: [1.1186095229294295, 0.011725160000000002] and parameters: {'k': 9, 'L': 8, 'table_size': 7500, 'window_size': 2654}. \n"
     ]
    },
    {
     "name": "stdout",
     "output_type": "stream",
     "text": [
      "Trial parameters: {'k': 2, 'L': 3, 'table_size': 7500, 'window_size': 3764}\n",
      "Read MNIST data\n",
      "Done\n",
      "Algorithm: LSH\n",
      "Query: 0\n",
      "Query: 1\n",
      "Query: 2\n",
      "Query: 3\n",
      "Query: 4\n",
      "Query: 5\n",
      "Query: 6\n",
      "Query: 7\n",
      "Query: 8\n",
      "Query: 9\n",
      "Query: 10\n",
      "Query: 11\n",
      "Query: 12\n",
      "Query: 13\n",
      "Query: 14\n",
      "Query: 15\n",
      "Query: 16\n",
      "Query: 17\n",
      "Query: 18\n",
      "Query: 19\n",
      "Query: 20\n",
      "Query: 21\n",
      "Query: 22\n",
      "Query: 23\n",
      "Query: 24\n",
      "Query: 25\n",
      "Query: 26\n",
      "Query: 27\n",
      "Query: 28\n",
      "Query: 29\n",
      "Query: 30\n",
      "Query: 31\n",
      "Query: 32\n",
      "Query: 33\n",
      "Query: 34\n",
      "Query: 35\n",
      "Query: 36\n",
      "Query: 37\n",
      "Query: 38\n",
      "Query: 39\n",
      "Query: 40\n",
      "Query: 41\n",
      "Query: 42\n",
      "Query: 43\n",
      "Query: 44\n",
      "Query: 45\n",
      "Query: 46\n",
      "Query: 47\n",
      "Query: 48\n",
      "Query: 49\n",
      "Query: 50\n",
      "Query: 51\n",
      "Query: 52\n",
      "Query: 53\n",
      "Query: 54\n",
      "Query: 55\n",
      "Query: 56\n",
      "Query: 57\n",
      "Query: 58\n",
      "Query: 59\n",
      "Query: 60\n",
      "Query: 61\n",
      "Query: 62\n",
      "Query: 63\n",
      "Query: 64\n",
      "Query: 65\n",
      "Query: 66\n",
      "Query: 67\n",
      "Query: 68\n",
      "Query: 69\n",
      "Query: 70\n",
      "Query: 71\n",
      "Query: 72\n",
      "Query: 73\n",
      "Query: 74\n",
      "Query: 75\n",
      "Query: 76\n",
      "Query: 77\n",
      "Query: 78\n",
      "Query: 79\n",
      "Query: 80\n",
      "Query: 81\n",
      "Query: 82\n",
      "Query: 83\n",
      "Query: 84\n",
      "Query: 85\n",
      "Query: 86\n",
      "Query: 87\n",
      "Query: 88\n",
      "Query: 89\n",
      "Query: 90\n",
      "Query: 91\n",
      "Query: 92\n",
      "Query: 93\n",
      "Query: 94\n",
      "Query: 95\n",
      "Query: 96\n",
      "Query: 97\n",
      "Query: 98\n",
      "Query: 99\n"
     ]
    },
    {
     "name": "stderr",
     "output_type": "stream",
     "text": [
      "[I 2023-11-25 20:18:05,059] Trial 2 finished with values: [1.000987201654645, 0.14071584000000004] and parameters: {'k': 2, 'L': 3, 'table_size': 7500, 'window_size': 3764}. \n"
     ]
    },
    {
     "name": "stdout",
     "output_type": "stream",
     "text": [
      "Trial parameters: {'k': 9, 'L': 10, 'table_size': 3750, 'window_size': 3584}\n",
      "Read MNIST data\n",
      "Done\n",
      "Algorithm: LSH\n",
      "Query: 0\n",
      "Query: 1\n",
      "Query: 2\n",
      "Query: 3\n",
      "Query: 4\n",
      "Query: 5\n",
      "Query: 6\n",
      "Query: 7\n",
      "Query: 8\n",
      "Query: 9\n",
      "Query: 10\n",
      "Query: 11\n",
      "Query: 12\n",
      "Query: 13\n",
      "Query: 14\n",
      "Query: 15\n",
      "Query: 16\n",
      "Query: 17\n",
      "Query: 18\n",
      "Query: 19\n",
      "Query: 20\n",
      "Query: 21\n",
      "Query: 22\n",
      "Query: 23\n",
      "Query: 24\n",
      "Query: 25\n",
      "Query: 26\n",
      "Query: 27\n",
      "Query: 28\n",
      "Query: 29\n",
      "Query: 30\n",
      "Query: 31\n",
      "Query: 32\n",
      "Query: 33\n",
      "Query: 34\n",
      "Query: 35\n",
      "Query: 36\n",
      "Query: 37\n",
      "Query: 38\n",
      "Query: 39\n",
      "Query: 40\n",
      "Query: 41\n",
      "Query: 42\n",
      "Query: 43\n",
      "Query: 44\n",
      "Query: 45\n",
      "Query: 46\n",
      "Query: 47\n",
      "Query: 48\n",
      "Query: 49\n",
      "Query: 50\n",
      "Query: 51\n",
      "Query: 52\n",
      "Query: 53\n",
      "Query: 54\n",
      "Query: 55\n",
      "Query: 56\n",
      "Query: 57\n",
      "Query: 58\n",
      "Query: 59\n",
      "Query: 60\n",
      "Query: 61\n",
      "Query: 62\n",
      "Query: 63\n",
      "Query: 64\n",
      "Query: 65\n",
      "Query: 66\n",
      "Query: 67\n",
      "Query: 68\n",
      "Query: 69\n",
      "Query: 70\n",
      "Query: 71\n",
      "Query: 72\n",
      "Query: 73\n",
      "Query: 74\n",
      "Query: 75\n",
      "Query: 76\n",
      "Query: 77\n",
      "Query: 78\n",
      "Query: 79\n",
      "Query: 80\n",
      "Query: 81\n",
      "Query: 82\n",
      "Query: 83\n",
      "Query: 84\n",
      "Query: 85\n",
      "Query: 86\n",
      "Query: 87\n",
      "Query: 88\n",
      "Query: 89\n",
      "Query: 90\n",
      "Query: 91\n",
      "Query: 92\n",
      "Query: 93\n",
      "Query: 94\n",
      "Query: 95\n",
      "Query: 96\n",
      "Query: 97\n",
      "Query: 98\n",
      "Query: 99\n"
     ]
    },
    {
     "name": "stderr",
     "output_type": "stream",
     "text": [
      "[I 2023-11-25 20:19:09,665] Trial 3 finished with values: [1.0152969538345065, 0.04761427] and parameters: {'k': 9, 'L': 10, 'table_size': 3750, 'window_size': 3584}. \n"
     ]
    },
    {
     "name": "stdout",
     "output_type": "stream",
     "text": [
      "Trial parameters: {'k': 4, 'L': 8, 'table_size': 7500, 'window_size': 2184}\n",
      "Read MNIST data\n",
      "Done\n",
      "Algorithm: LSH\n",
      "Query: 0\n",
      "Query: 1\n",
      "Query: 2\n",
      "Query: 3\n",
      "Query: 4\n",
      "Query: 5\n",
      "Query: 6\n",
      "Query: 7\n",
      "Query: 8\n",
      "Query: 9\n",
      "Query: 10\n",
      "Query: 11\n",
      "Query: 12\n",
      "Query: 13\n",
      "Query: 14\n",
      "Query: 15\n",
      "Query: 16\n",
      "Query: 17\n",
      "Query: 18\n",
      "Query: 19\n",
      "Query: 20\n",
      "Query: 21\n",
      "Query: 22\n",
      "Query: 23\n",
      "Query: 24\n",
      "Query: 25\n",
      "Query: 26\n",
      "Query: 27\n",
      "Query: 28\n",
      "Query: 29\n",
      "Query: 30\n",
      "Query: 31\n",
      "Query: 32\n",
      "Query: 33\n",
      "Query: 34\n",
      "Query: 35\n",
      "Query: 36\n",
      "Query: 37\n",
      "Query: 38\n",
      "Query: 39\n",
      "Query: 40\n",
      "Query: 41\n",
      "Query: 42\n",
      "Query: 43\n",
      "Query: 44\n",
      "Query: 45\n",
      "Query: 46\n",
      "Query: 47\n",
      "Query: 48\n",
      "Query: 49\n",
      "Query: 50\n",
      "Query: 51\n",
      "Query: 52\n",
      "Query: 53\n",
      "Query: 54\n",
      "Query: 55\n",
      "Query: 56\n",
      "Query: 57\n",
      "Query: 58\n",
      "Query: 59\n",
      "Query: 60\n",
      "Query: 61\n",
      "Query: 62\n",
      "Query: 63\n",
      "Query: 64\n",
      "Query: 65\n",
      "Query: 66\n",
      "Query: 67\n",
      "Query: 68\n",
      "Query: 69\n",
      "Query: 70\n",
      "Query: 71\n",
      "Query: 72\n",
      "Query: 73\n",
      "Query: 74\n",
      "Query: 75\n",
      "Query: 76\n",
      "Query: 77\n",
      "Query: 78\n",
      "Query: 79\n",
      "Query: 80\n",
      "Query: 81\n",
      "Query: 82\n",
      "Query: 83\n",
      "Query: 84\n",
      "Query: 85\n",
      "Query: 86\n",
      "Query: 87\n",
      "Query: 88\n",
      "Query: 89\n",
      "Query: 90\n",
      "Query: 91\n",
      "Query: 92\n",
      "Query: 93\n",
      "Query: 94\n",
      "Query: 95\n",
      "Query: 96\n",
      "Query: 97\n",
      "Query: 98\n",
      "Query: 99\n"
     ]
    },
    {
     "name": "stderr",
     "output_type": "stream",
     "text": [
      "[I 2023-11-25 20:19:57,962] Trial 4 finished with values: [1.0214539086749015, 0.08425911999999998] and parameters: {'k': 4, 'L': 8, 'table_size': 7500, 'window_size': 2184}. \n"
     ]
    },
    {
     "name": "stdout",
     "output_type": "stream",
     "text": [
      "Trial parameters: {'k': 9, 'L': 9, 'table_size': 15000, 'window_size': 2273}\n",
      "Read MNIST data\n",
      "Done\n",
      "Algorithm: LSH\n",
      "Query: 0\n",
      "Query: 1\n",
      "Query: 2\n",
      "Query: 3\n",
      "Query: 4\n",
      "Query: 5\n",
      "Query: 6\n",
      "Query: 7\n",
      "Query: 8\n",
      "Query: 9\n",
      "Query: 10\n",
      "Query: 11\n",
      "Query: 12\n",
      "Query: 13\n",
      "Query: 14\n",
      "Query: 15\n",
      "Query: 16\n",
      "Query: 17\n",
      "Query: 18\n",
      "Query: 19\n",
      "Query: 20\n",
      "Query: 21\n",
      "Query: 22\n",
      "Query: 23\n",
      "Query: 24\n",
      "Query: 25\n",
      "Query: 26\n",
      "Query: 27\n",
      "Query: 28\n",
      "Query: 29\n",
      "Query: 30\n",
      "Query: 31\n",
      "Query: 32\n",
      "Query: 33\n",
      "Query: 34\n",
      "Query: 35\n",
      "Query: 36\n",
      "Query: 37\n",
      "Query: 38\n",
      "Query: 39\n",
      "Query: 40\n",
      "Query: 41\n",
      "Query: 42\n",
      "Query: 43\n",
      "Query: 44\n",
      "Query: 45\n",
      "Query: 46\n",
      "Query: 47\n",
      "Query: 48\n",
      "Query: 49\n",
      "Query: 50\n",
      "Query: 51\n",
      "Query: 52\n",
      "Query: 53\n",
      "Query: 54\n",
      "Query: 55\n",
      "Query: 56\n",
      "Query: 57\n",
      "Query: 58\n",
      "Query: 59\n",
      "Query: 60\n",
      "Query: 61\n",
      "Query: 62\n",
      "Query: 63\n",
      "Query: 64\n",
      "Query: 65\n",
      "Query: 66\n",
      "Query: 67\n",
      "Query: 68\n",
      "Query: 69\n",
      "Query: 70\n",
      "Query: 71\n",
      "Query: 72\n",
      "Query: 73\n",
      "Query: 74\n",
      "Query: 75\n",
      "Query: 76\n",
      "Query: 77\n",
      "Query: 78\n",
      "Query: 79\n",
      "Query: 80\n",
      "Query: 81\n",
      "Query: 82\n",
      "Query: 83\n",
      "Query: 84\n",
      "Query: 85\n",
      "Query: 86\n",
      "Query: 87\n",
      "Query: 88\n",
      "Query: 89\n",
      "Query: 90\n",
      "Query: 91\n",
      "Query: 92\n",
      "Query: 93\n",
      "Query: 94\n",
      "Query: 95\n",
      "Query: 96\n",
      "Query: 97\n",
      "Query: 98\n",
      "Query: 99\n"
     ]
    },
    {
     "name": "stderr",
     "output_type": "stream",
     "text": [
      "[I 2023-11-25 20:20:53,006] Trial 5 finished with values: [1.185542409988207, 0.005218359999999998] and parameters: {'k': 9, 'L': 9, 'table_size': 15000, 'window_size': 2273}. \n"
     ]
    },
    {
     "name": "stdout",
     "output_type": "stream",
     "text": [
      "Trial parameters: {'k': 10, 'L': 3, 'table_size': 7500, 'window_size': 2388}\n",
      "Read MNIST data\n",
      "Done\n",
      "Algorithm: LSH\n",
      "Query: 0\n",
      "Query: 1\n",
      "Query: 2\n",
      "Query: 3\n",
      "Query: 4\n",
      "Query: 5\n",
      "Query: 6\n",
      "Query: 7\n",
      "Query: 8\n",
      "Query: 9\n",
      "Query: 10\n",
      "Query: 11\n",
      "Query: 12\n",
      "Query: 13\n",
      "Query: 14\n",
      "Query: 15\n",
      "Query: 16\n",
      "Query: 17\n",
      "Query: 18\n",
      "Query: 19\n",
      "Query: 20\n",
      "Query: 21\n",
      "Query: 22\n",
      "Query: 23\n",
      "Query: 24\n",
      "Query: 25\n",
      "Query: 26\n",
      "Query: 27\n",
      "Query: 28\n",
      "Query: 29\n",
      "Query: 30\n",
      "Query: 31\n",
      "Query: 32\n",
      "Query: 33\n",
      "Query: 34\n",
      "Query: 35\n",
      "Query: 36\n",
      "Query: 37\n",
      "Query: 38\n",
      "Query: 39\n",
      "Query: 40\n",
      "Query: 41\n",
      "Query: 42\n",
      "Query: 43\n",
      "Query: 44\n",
      "Query: 45\n",
      "Query: 46\n",
      "Query: 47\n",
      "Query: 48\n",
      "Query: 49\n",
      "Query: 50\n",
      "Query: 51\n",
      "Query: 52\n",
      "Query: 53\n",
      "Query: 54\n",
      "Query: 55\n",
      "Query: 56\n",
      "Query: 57\n",
      "Query: 58\n",
      "Query: 59\n",
      "Query: 60\n",
      "Query: 61\n",
      "Query: 62\n",
      "Query: 63\n",
      "Query: 64\n",
      "Query: 65\n",
      "Query: 66\n",
      "Query: 67\n",
      "Query: 68\n",
      "Query: 69\n",
      "Query: 70\n",
      "Query: 71\n",
      "Query: 72\n",
      "Query: 73\n",
      "Query: 74\n",
      "Query: 75\n",
      "Query: 76\n",
      "Query: 77\n",
      "Query: 78\n",
      "Query: 79\n",
      "Query: 80\n",
      "Query: 81\n",
      "Query: 82\n",
      "Query: 83\n",
      "Query: 84\n",
      "Query: 85\n",
      "Query: 86\n",
      "Query: 87\n",
      "Query: 88\n",
      "Query: 89\n",
      "Query: 90\n",
      "Query: 91\n",
      "Query: 92\n",
      "Query: 93\n",
      "Query: 94\n",
      "Query: 95\n",
      "Query: 96\n",
      "Query: 97\n",
      "Query: 98\n",
      "Query: 99\n"
     ]
    },
    {
     "name": "stderr",
     "output_type": "stream",
     "text": [
      "[I 2023-11-25 20:21:27,708] Trial 6 finished with values: [1.7976931348623157e+308, 0.0019483300000000003] and parameters: {'k': 10, 'L': 3, 'table_size': 7500, 'window_size': 2388}. \n"
     ]
    },
    {
     "name": "stdout",
     "output_type": "stream",
     "text": [
      "Trial parameters: {'k': 7, 'L': 7, 'table_size': 15000, 'window_size': 3282}\n",
      "Read MNIST data\n",
      "Done\n",
      "Algorithm: LSH\n",
      "Query: 0\n",
      "Query: 1\n",
      "Query: 2\n",
      "Query: 3\n",
      "Query: 4\n",
      "Query: 5\n",
      "Query: 6\n",
      "Query: 7\n",
      "Query: 8\n",
      "Query: 9\n",
      "Query: 10\n",
      "Query: 11\n",
      "Query: 12\n",
      "Query: 13\n",
      "Query: 14\n",
      "Query: 15\n",
      "Query: 16\n",
      "Query: 17\n",
      "Query: 18\n",
      "Query: 19\n",
      "Query: 20\n",
      "Query: 21\n",
      "Query: 22\n",
      "Query: 23\n",
      "Query: 24\n",
      "Query: 25\n",
      "Query: 26\n",
      "Query: 27\n",
      "Query: 28\n",
      "Query: 29\n",
      "Query: 30\n",
      "Query: 31\n",
      "Query: 32\n",
      "Query: 33\n",
      "Query: 34\n",
      "Query: 35\n",
      "Query: 36\n",
      "Query: 37\n",
      "Query: 38\n",
      "Query: 39\n",
      "Query: 40\n",
      "Query: 41\n",
      "Query: 42\n",
      "Query: 43\n",
      "Query: 44\n",
      "Query: 45\n",
      "Query: 46\n",
      "Query: 47\n",
      "Query: 48\n",
      "Query: 49\n",
      "Query: 50\n",
      "Query: 51\n",
      "Query: 52\n",
      "Query: 53\n",
      "Query: 54\n",
      "Query: 55\n",
      "Query: 56\n",
      "Query: 57\n",
      "Query: 58\n",
      "Query: 59\n",
      "Query: 60\n",
      "Query: 61\n",
      "Query: 62\n",
      "Query: 63\n",
      "Query: 64\n",
      "Query: 65\n",
      "Query: 66\n",
      "Query: 67\n",
      "Query: 68\n",
      "Query: 69\n",
      "Query: 70\n",
      "Query: 71\n",
      "Query: 72\n",
      "Query: 73\n",
      "Query: 74\n",
      "Query: 75\n",
      "Query: 76\n",
      "Query: 77\n",
      "Query: 78\n",
      "Query: 79\n",
      "Query: 80\n",
      "Query: 81\n",
      "Query: 82\n",
      "Query: 83\n",
      "Query: 84\n",
      "Query: 85\n",
      "Query: 86\n",
      "Query: 87\n",
      "Query: 88\n",
      "Query: 89\n",
      "Query: 90\n",
      "Query: 91\n",
      "Query: 92\n",
      "Query: 93\n",
      "Query: 94\n",
      "Query: 95\n",
      "Query: 96\n",
      "Query: 97\n",
      "Query: 98\n",
      "Query: 99\n"
     ]
    },
    {
     "name": "stderr",
     "output_type": "stream",
     "text": [
      "[I 2023-11-25 20:22:13,809] Trial 7 finished with values: [1.0331616944777897, 0.04520980999999999] and parameters: {'k': 7, 'L': 7, 'table_size': 15000, 'window_size': 3282}. \n"
     ]
    },
    {
     "name": "stdout",
     "output_type": "stream",
     "text": [
      "Trial parameters: {'k': 6, 'L': 2, 'table_size': 7500, 'window_size': 1194}\n",
      "Read MNIST data\n",
      "Done\n",
      "Algorithm: LSH\n",
      "Query: 0\n",
      "Query: 1\n",
      "Query: 2\n",
      "Query: 3\n",
      "Query: 4\n",
      "Query: 5\n",
      "Query: 6\n",
      "Query: 7\n",
      "Query: 8\n",
      "Query: 9\n",
      "Query: 10\n",
      "Query: 11\n",
      "Query: 12\n",
      "Query: 13\n",
      "Query: 14\n",
      "Query: 15\n",
      "Query: 16\n",
      "Query: 17\n",
      "Query: 18\n",
      "Query: 19\n",
      "Query: 20\n",
      "Query: 21\n",
      "Query: 22\n",
      "Query: 23\n",
      "Query: 24\n",
      "Query: 25\n",
      "Query: 26\n",
      "Query: 27\n",
      "Query: 28\n",
      "Query: 29\n",
      "Query: 30\n",
      "Query: 31\n",
      "Query: 32\n",
      "Query: 33\n",
      "Query: 34\n",
      "Query: 35\n",
      "Query: 36\n",
      "Query: 37\n",
      "Query: 38\n",
      "Query: 39\n",
      "Query: 40\n",
      "Query: 41\n",
      "Query: 42\n",
      "Query: 43\n",
      "Query: 44\n",
      "Query: 45\n",
      "Query: 46\n",
      "Query: 47\n",
      "Query: 48\n",
      "Query: 49\n",
      "Query: 50\n",
      "Query: 51\n",
      "Query: 52\n",
      "Query: 53\n",
      "Query: 54\n",
      "Query: 55\n",
      "Query: 56\n",
      "Query: 57\n",
      "Query: 58\n",
      "Query: 59\n",
      "Query: 60\n",
      "Query: 61\n",
      "Query: 62\n",
      "Query: 63\n",
      "Query: 64\n",
      "Query: 65\n",
      "Query: 66\n",
      "Query: 67\n",
      "Query: 68\n",
      "Query: 69\n",
      "Query: 70\n",
      "Query: 71\n",
      "Query: 72\n",
      "Query: 73\n",
      "Query: 74\n",
      "Query: 75\n",
      "Query: 76\n",
      "Query: 77\n",
      "Query: 78\n",
      "Query: 79\n",
      "Query: 80\n",
      "Query: 81\n",
      "Query: 82\n",
      "Query: 83\n",
      "Query: 84\n",
      "Query: 85\n",
      "Query: 86\n",
      "Query: 87\n",
      "Query: 88\n",
      "Query: 89\n",
      "Query: 90\n",
      "Query: 91\n",
      "Query: 92\n",
      "Query: 93\n",
      "Query: 94\n",
      "Query: 95\n",
      "Query: 96\n",
      "Query: 97\n",
      "Query: 98\n",
      "Query: 99\n"
     ]
    },
    {
     "name": "stderr",
     "output_type": "stream",
     "text": [
      "[I 2023-11-25 20:22:41,419] Trial 8 finished with values: [1.7976931348623157e+308, 0.00054589] and parameters: {'k': 6, 'L': 2, 'table_size': 7500, 'window_size': 1194}. \n"
     ]
    },
    {
     "name": "stdout",
     "output_type": "stream",
     "text": [
      "Trial parameters: {'k': 2, 'L': 5, 'table_size': 7500, 'window_size': 1159}\n",
      "Read MNIST data\n",
      "Done\n",
      "Algorithm: LSH\n",
      "Query: 0\n",
      "Query: 1\n",
      "Query: 2\n",
      "Query: 3\n",
      "Query: 4\n",
      "Query: 5\n",
      "Query: 6\n",
      "Query: 7\n",
      "Query: 8\n",
      "Query: 9\n",
      "Query: 10\n",
      "Query: 11\n",
      "Query: 12\n",
      "Query: 13\n",
      "Query: 14\n",
      "Query: 15\n",
      "Query: 16\n",
      "Query: 17\n",
      "Query: 18\n",
      "Query: 19\n",
      "Query: 20\n",
      "Query: 21\n",
      "Query: 22\n",
      "Query: 23\n",
      "Query: 24\n",
      "Query: 25\n",
      "Query: 26\n",
      "Query: 27\n",
      "Query: 28\n",
      "Query: 29\n",
      "Query: 30\n",
      "Query: 31\n",
      "Query: 32\n",
      "Query: 33\n",
      "Query: 34\n",
      "Query: 35\n",
      "Query: 36\n",
      "Query: 37\n",
      "Query: 38\n",
      "Query: 39\n",
      "Query: 40\n",
      "Query: 41\n",
      "Query: 42\n",
      "Query: 43\n",
      "Query: 44\n",
      "Query: 45\n",
      "Query: 46\n",
      "Query: 47\n",
      "Query: 48\n",
      "Query: 49\n",
      "Query: 50\n",
      "Query: 51\n",
      "Query: 52\n",
      "Query: 53\n",
      "Query: 54\n",
      "Query: 55\n",
      "Query: 56\n",
      "Query: 57\n",
      "Query: 58\n",
      "Query: 59\n",
      "Query: 60\n",
      "Query: 61\n",
      "Query: 62\n",
      "Query: 63\n",
      "Query: 64\n",
      "Query: 65\n",
      "Query: 66\n",
      "Query: 67\n",
      "Query: 68\n",
      "Query: 69\n",
      "Query: 70\n",
      "Query: 71\n",
      "Query: 72\n",
      "Query: 73\n",
      "Query: 74\n",
      "Query: 75\n",
      "Query: 76\n",
      "Query: 77\n",
      "Query: 78\n",
      "Query: 79\n",
      "Query: 80\n",
      "Query: 81\n",
      "Query: 82\n",
      "Query: 83\n",
      "Query: 84\n",
      "Query: 85\n",
      "Query: 86\n",
      "Query: 87\n",
      "Query: 88\n",
      "Query: 89\n",
      "Query: 90\n",
      "Query: 91\n",
      "Query: 92\n",
      "Query: 93\n",
      "Query: 94\n",
      "Query: 95\n",
      "Query: 96\n",
      "Query: 97\n",
      "Query: 98\n",
      "Query: 99\n"
     ]
    },
    {
     "name": "stderr",
     "output_type": "stream",
     "text": [
      "[I 2023-11-25 20:23:16,823] Trial 9 finished with values: [1.1156238845744786, 0.04969318] and parameters: {'k': 2, 'L': 5, 'table_size': 7500, 'window_size': 1159}. \n",
      "/home/elvrach/.local/lib/python3.10/site-packages/optuna/integration/botorch.py:843: ExperimentalWarning: qehvi_candidates_func is experimental (supported from v2.4.0). The interface can change in the future.\n",
      "  candidates = self._candidates_func(\n",
      "[W 2023-11-25 20:23:16,827] Trial 10 failed with parameters: {} because of the following error: InputDataError('Input data contains NaN values.').\n",
      "Traceback (most recent call last):\n",
      "  File \"/home/elvrach/.local/lib/python3.10/site-packages/optuna/study/_optimize.py\", line 200, in _run_trial\n",
      "    value_or_values = func(trial)\n",
      "  File \"/tmp/ipykernel_19036/2429922310.py\", line 2, in objective_lsh\n",
      "    param_dict = {'k': trial.suggest_int('k', 2, 10),\n",
      "  File \"/home/elvrach/.local/lib/python3.10/site-packages/optuna/trial/_trial.py\", line 321, in suggest_int\n",
      "    suggested_value = int(self._suggest(name, distribution))\n",
      "  File \"/home/elvrach/.local/lib/python3.10/site-packages/optuna/trial/_trial.py\", line 626, in _suggest\n",
      "    elif self._is_relative_param(name, distribution):\n",
      "  File \"/home/elvrach/.local/lib/python3.10/site-packages/optuna/trial/_trial.py\", line 658, in _is_relative_param\n",
      "    if name not in self.relative_params:\n",
      "  File \"/home/elvrach/.local/lib/python3.10/site-packages/optuna/trial/_trial.py\", line 71, in relative_params\n",
      "    self._relative_params = self.study.sampler.sample_relative(\n",
      "  File \"/home/elvrach/.local/lib/python3.10/site-packages/optuna/integration/botorch.py\", line 843, in sample_relative\n",
      "    candidates = self._candidates_func(\n",
      "  File \"/home/elvrach/.local/lib/python3.10/site-packages/optuna/_experimental.py\", line 74, in wrapper\n",
      "    return func(*args, **kwargs)\n",
      "  File \"/home/elvrach/.local/lib/python3.10/site-packages/optuna/integration/botorch.py\", line 381, in qehvi_candidates_func\n",
      "    model = SingleTaskGP(train_x, train_y, outcome_transform=Standardize(m=train_y.shape[-1]))\n",
      "  File \"/home/elvrach/.local/lib/python3.10/site-packages/botorch/models/gp_regression.py\", line 163, in __init__\n",
      "    validate_input_scaling(\n",
      "  File \"/home/elvrach/.local/lib/python3.10/site-packages/botorch/models/utils/assorted.py\", line 238, in validate_input_scaling\n",
      "    check_no_nans(train_Y)\n",
      "  File \"/home/elvrach/.local/lib/python3.10/site-packages/botorch/models/utils/assorted.py\", line 131, in check_no_nans\n",
      "    raise InputDataError(\"Input data contains NaN values.\")\n",
      "botorch.exceptions.errors.InputDataError: Input data contains NaN values.\n",
      "[W 2023-11-25 20:23:16,829] Trial 10 failed with value None.\n",
      "[I 2023-11-25 20:23:16,829] A new study created in memory with name: lsh\n"
     ]
    },
    {
     "name": "stdout",
     "output_type": "stream",
     "text": [
      "Trial failed, trying again...\n",
      "Trial parameters: {'k': 6, 'L': 3, 'table_size': 15000, 'window_size': 3551}\n",
      "Read MNIST data\n",
      "Done\n",
      "Algorithm: LSH\n",
      "Query: 0\n",
      "Query: 1\n",
      "Query: 2\n",
      "Query: 3\n",
      "Query: 4\n",
      "Query: 5\n",
      "Query: 6\n",
      "Query: 7\n",
      "Query: 8\n",
      "Query: 9\n",
      "Query: 10\n",
      "Query: 11\n",
      "Query: 12\n",
      "Query: 13\n",
      "Query: 14\n",
      "Query: 15\n",
      "Query: 16\n",
      "Query: 17\n",
      "Query: 18\n",
      "Query: 19\n",
      "Query: 20\n",
      "Query: 21\n",
      "Query: 22\n",
      "Query: 23\n",
      "Query: 24\n",
      "Query: 25\n",
      "Query: 26\n",
      "Query: 27\n",
      "Query: 28\n",
      "Query: 29\n",
      "Query: 30\n",
      "Query: 31\n",
      "Query: 32\n",
      "Query: 33\n",
      "Query: 34\n",
      "Query: 35\n",
      "Query: 36\n",
      "Query: 37\n",
      "Query: 38\n",
      "Query: 39\n",
      "Query: 40\n",
      "Query: 41\n",
      "Query: 42\n",
      "Query: 43\n",
      "Query: 44\n",
      "Query: 45\n",
      "Query: 46\n",
      "Query: 47\n",
      "Query: 48\n",
      "Query: 49\n",
      "Query: 50\n",
      "Query: 51\n",
      "Query: 52\n",
      "Query: 53\n",
      "Query: 54\n",
      "Query: 55\n",
      "Query: 56\n",
      "Query: 57\n",
      "Query: 58\n",
      "Query: 59\n",
      "Query: 60\n",
      "Query: 61\n",
      "Query: 62\n",
      "Query: 63\n",
      "Query: 64\n",
      "Query: 65\n",
      "Query: 66\n",
      "Query: 67\n",
      "Query: 68\n",
      "Query: 69\n",
      "Query: 70\n",
      "Query: 71\n",
      "Query: 72\n",
      "Query: 73\n",
      "Query: 74\n",
      "Query: 75\n",
      "Query: 76\n",
      "Query: 77\n",
      "Query: 78\n",
      "Query: 79\n",
      "Query: 80\n",
      "Query: 81\n",
      "Query: 82\n",
      "Query: 83\n",
      "Query: 84\n",
      "Query: 85\n",
      "Query: 86\n",
      "Query: 87\n",
      "Query: 88\n",
      "Query: 89\n",
      "Query: 90\n",
      "Query: 91\n",
      "Query: 92\n",
      "Query: 93\n",
      "Query: 94\n",
      "Query: 95\n",
      "Query: 96\n",
      "Query: 97\n",
      "Query: 98\n",
      "Query: 99\n"
     ]
    },
    {
     "name": "stderr",
     "output_type": "stream",
     "text": [
      "[I 2023-11-25 20:23:51,897] Trial 0 finished with values: [1.0865741195823153, 0.04011150999999999] and parameters: {'k': 6, 'L': 3, 'table_size': 15000, 'window_size': 3551}. \n"
     ]
    },
    {
     "name": "stdout",
     "output_type": "stream",
     "text": [
      "Trial parameters: {'k': 7, 'L': 3, 'table_size': 15000, 'window_size': 4716}\n",
      "Read MNIST data\n",
      "Done\n",
      "Algorithm: LSH\n",
      "Query: 0\n",
      "Query: 1\n",
      "Query: 2\n",
      "Query: 3\n",
      "Query: 4\n",
      "Query: 5\n",
      "Query: 6\n",
      "Query: 7\n",
      "Query: 8\n",
      "Query: 9\n",
      "Query: 10\n",
      "Query: 11\n",
      "Query: 12\n",
      "Query: 13\n",
      "Query: 14\n",
      "Query: 15\n",
      "Query: 16\n",
      "Query: 17\n",
      "Query: 18\n",
      "Query: 19\n",
      "Query: 20\n",
      "Query: 21\n",
      "Query: 22\n",
      "Query: 23\n",
      "Query: 24\n",
      "Query: 25\n",
      "Query: 26\n",
      "Query: 27\n",
      "Query: 28\n",
      "Query: 29\n",
      "Query: 30\n",
      "Query: 31\n",
      "Query: 32\n",
      "Query: 33\n",
      "Query: 34\n",
      "Query: 35\n",
      "Query: 36\n",
      "Query: 37\n",
      "Query: 38\n",
      "Query: 39\n",
      "Query: 40\n",
      "Query: 41\n",
      "Query: 42\n",
      "Query: 43\n",
      "Query: 44\n",
      "Query: 45\n",
      "Query: 46\n",
      "Query: 47\n",
      "Query: 48\n",
      "Query: 49\n",
      "Query: 50\n",
      "Query: 51\n",
      "Query: 52\n",
      "Query: 53\n",
      "Query: 54\n",
      "Query: 55\n",
      "Query: 56\n",
      "Query: 57\n",
      "Query: 58\n",
      "Query: 59\n",
      "Query: 60\n",
      "Query: 61\n",
      "Query: 62\n",
      "Query: 63\n",
      "Query: 64\n",
      "Query: 65\n",
      "Query: 66\n",
      "Query: 67\n",
      "Query: 68\n",
      "Query: 69\n",
      "Query: 70\n",
      "Query: 71\n",
      "Query: 72\n",
      "Query: 73\n",
      "Query: 74\n",
      "Query: 75\n",
      "Query: 76\n",
      "Query: 77\n",
      "Query: 78\n",
      "Query: 79\n",
      "Query: 80\n",
      "Query: 81\n",
      "Query: 82\n",
      "Query: 83\n",
      "Query: 84\n",
      "Query: 85\n",
      "Query: 86\n",
      "Query: 87\n",
      "Query: 88\n",
      "Query: 89\n",
      "Query: 90\n",
      "Query: 91\n",
      "Query: 92\n",
      "Query: 93\n",
      "Query: 94\n",
      "Query: 95\n",
      "Query: 96\n",
      "Query: 97\n",
      "Query: 98\n",
      "Query: 99\n"
     ]
    },
    {
     "name": "stderr",
     "output_type": "stream",
     "text": [
      "[I 2023-11-25 20:24:27,770] Trial 1 finished with values: [1.1204453370083578, 0.03937145] and parameters: {'k': 7, 'L': 3, 'table_size': 15000, 'window_size': 4716}. \n"
     ]
    },
    {
     "name": "stdout",
     "output_type": "stream",
     "text": [
      "Trial parameters: {'k': 7, 'L': 9, 'table_size': 3750, 'window_size': 1995}\n",
      "Read MNIST data\n",
      "Done\n",
      "Algorithm: LSH\n",
      "Query: 0\n",
      "Query: 1\n",
      "Query: 2\n",
      "Query: 3\n",
      "Query: 4\n",
      "Query: 5\n",
      "Query: 6\n",
      "Query: 7\n",
      "Query: 8\n",
      "Query: 9\n",
      "Query: 10\n",
      "Query: 11\n",
      "Query: 12\n",
      "Query: 13\n",
      "Query: 14\n",
      "Query: 15\n",
      "Query: 16\n",
      "Query: 17\n",
      "Query: 18\n",
      "Query: 19\n",
      "Query: 20\n",
      "Query: 21\n",
      "Query: 22\n",
      "Query: 23\n",
      "Query: 24\n",
      "Query: 25\n",
      "Query: 26\n",
      "Query: 27\n",
      "Query: 28\n",
      "Query: 29\n",
      "Query: 30\n",
      "Query: 31\n",
      "Query: 32\n",
      "Query: 33\n",
      "Query: 34\n",
      "Query: 35\n",
      "Query: 36\n",
      "Query: 37\n",
      "Query: 38\n",
      "Query: 39\n",
      "Query: 40\n",
      "Query: 41\n",
      "Query: 42\n",
      "Query: 43\n",
      "Query: 44\n",
      "Query: 45\n",
      "Query: 46\n",
      "Query: 47\n",
      "Query: 48\n",
      "Query: 49\n",
      "Query: 50\n",
      "Query: 51\n",
      "Query: 52\n",
      "Query: 53\n",
      "Query: 54\n",
      "Query: 55\n",
      "Query: 56\n",
      "Query: 57\n",
      "Query: 58\n",
      "Query: 59\n",
      "Query: 60\n",
      "Query: 61\n",
      "Query: 62\n",
      "Query: 63\n",
      "Query: 64\n",
      "Query: 65\n",
      "Query: 66\n",
      "Query: 67\n",
      "Query: 68\n",
      "Query: 69\n",
      "Query: 70\n",
      "Query: 71\n",
      "Query: 72\n",
      "Query: 73\n",
      "Query: 74\n",
      "Query: 75\n",
      "Query: 76\n",
      "Query: 77\n",
      "Query: 78\n",
      "Query: 79\n",
      "Query: 80\n",
      "Query: 81\n",
      "Query: 82\n",
      "Query: 83\n",
      "Query: 84\n",
      "Query: 85\n",
      "Query: 86\n",
      "Query: 87\n",
      "Query: 88\n",
      "Query: 89\n",
      "Query: 90\n",
      "Query: 91\n",
      "Query: 92\n",
      "Query: 93\n",
      "Query: 94\n",
      "Query: 95\n",
      "Query: 96\n",
      "Query: 97\n",
      "Query: 98\n",
      "Query: 99\n"
     ]
    },
    {
     "name": "stderr",
     "output_type": "stream",
     "text": [
      "[I 2023-11-25 20:25:16,644] Trial 2 finished with values: [1.2695876955903471, 0.0069593400000000005] and parameters: {'k': 7, 'L': 9, 'table_size': 3750, 'window_size': 1995}. \n"
     ]
    },
    {
     "name": "stdout",
     "output_type": "stream",
     "text": [
      "Trial parameters: {'k': 5, 'L': 3, 'table_size': 3750, 'window_size': 4464}\n",
      "Read MNIST data\n",
      "Done\n",
      "Algorithm: LSH\n",
      "Query: 0\n",
      "Query: 1\n",
      "Query: 2\n",
      "Query: 3\n",
      "Query: 4\n",
      "Query: 5\n",
      "Query: 6\n",
      "Query: 7\n",
      "Query: 8\n",
      "Query: 9\n",
      "Query: 10\n",
      "Query: 11\n",
      "Query: 12\n",
      "Query: 13\n",
      "Query: 14\n",
      "Query: 15\n",
      "Query: 16\n",
      "Query: 17\n",
      "Query: 18\n",
      "Query: 19\n",
      "Query: 20\n",
      "Query: 21\n",
      "Query: 22\n",
      "Query: 23\n",
      "Query: 24\n",
      "Query: 25\n",
      "Query: 26\n",
      "Query: 27\n",
      "Query: 28\n",
      "Query: 29\n",
      "Query: 30\n",
      "Query: 31\n",
      "Query: 32\n",
      "Query: 33\n",
      "Query: 34\n",
      "Query: 35\n",
      "Query: 36\n",
      "Query: 37\n",
      "Query: 38\n",
      "Query: 39\n",
      "Query: 40\n",
      "Query: 41\n",
      "Query: 42\n",
      "Query: 43\n",
      "Query: 44\n",
      "Query: 45\n",
      "Query: 46\n",
      "Query: 47\n",
      "Query: 48\n",
      "Query: 49\n",
      "Query: 50\n",
      "Query: 51\n",
      "Query: 52\n",
      "Query: 53\n",
      "Query: 54\n",
      "Query: 55\n",
      "Query: 56\n",
      "Query: 57\n",
      "Query: 58\n",
      "Query: 59\n",
      "Query: 60\n",
      "Query: 61\n",
      "Query: 62\n",
      "Query: 63\n",
      "Query: 64\n",
      "Query: 65\n",
      "Query: 66\n",
      "Query: 67\n",
      "Query: 68\n",
      "Query: 69\n",
      "Query: 70\n",
      "Query: 71\n",
      "Query: 72\n",
      "Query: 73\n",
      "Query: 74\n",
      "Query: 75\n",
      "Query: 76\n",
      "Query: 77\n",
      "Query: 78\n",
      "Query: 79\n",
      "Query: 80\n",
      "Query: 81\n",
      "Query: 82\n",
      "Query: 83\n",
      "Query: 84\n",
      "Query: 85\n",
      "Query: 86\n",
      "Query: 87\n",
      "Query: 88\n",
      "Query: 89\n",
      "Query: 90\n",
      "Query: 91\n",
      "Query: 92\n",
      "Query: 93\n",
      "Query: 94\n",
      "Query: 95\n",
      "Query: 96\n",
      "Query: 97\n",
      "Query: 98\n",
      "Query: 99\n"
     ]
    },
    {
     "name": "stderr",
     "output_type": "stream",
     "text": [
      "[I 2023-11-25 20:26:05,146] Trial 3 finished with values: [1.0523863020783075, 0.09275171999999998] and parameters: {'k': 5, 'L': 3, 'table_size': 3750, 'window_size': 4464}. \n"
     ]
    },
    {
     "name": "stdout",
     "output_type": "stream",
     "text": [
      "Trial parameters: {'k': 4, 'L': 7, 'table_size': 7500, 'window_size': 4463}\n",
      "Read MNIST data\n",
      "Done\n",
      "Algorithm: LSH\n",
      "Query: 0\n",
      "Query: 1\n",
      "Query: 2\n",
      "Query: 3\n",
      "Query: 4\n",
      "Query: 5\n",
      "Query: 6\n",
      "Query: 7\n",
      "Query: 8\n",
      "Query: 9\n",
      "Query: 10\n",
      "Query: 11\n",
      "Query: 12\n",
      "Query: 13\n",
      "Query: 14\n",
      "Query: 15\n",
      "Query: 16\n",
      "Query: 17\n",
      "Query: 18\n",
      "Query: 19\n",
      "Query: 20\n",
      "Query: 21\n",
      "Query: 22\n",
      "Query: 23\n",
      "Query: 24\n",
      "Query: 25\n",
      "Query: 26\n",
      "Query: 27\n",
      "Query: 28\n",
      "Query: 29\n",
      "Query: 30\n",
      "Query: 31\n",
      "Query: 32\n",
      "Query: 33\n",
      "Query: 34\n",
      "Query: 35\n",
      "Query: 36\n",
      "Query: 37\n",
      "Query: 38\n",
      "Query: 39\n",
      "Query: 40\n",
      "Query: 41\n",
      "Query: 42\n",
      "Query: 43\n",
      "Query: 44\n",
      "Query: 45\n",
      "Query: 46\n",
      "Query: 47\n",
      "Query: 48\n",
      "Query: 49\n",
      "Query: 50\n",
      "Query: 51\n",
      "Query: 52\n",
      "Query: 53\n",
      "Query: 54\n",
      "Query: 55\n",
      "Query: 56\n",
      "Query: 57\n",
      "Query: 58\n",
      "Query: 59\n",
      "Query: 60\n",
      "Query: 61\n",
      "Query: 62\n",
      "Query: 63\n",
      "Query: 64\n",
      "Query: 65\n",
      "Query: 66\n",
      "Query: 67\n",
      "Query: 68\n",
      "Query: 69\n",
      "Query: 70\n",
      "Query: 71\n",
      "Query: 72\n",
      "Query: 73\n",
      "Query: 74\n",
      "Query: 75\n",
      "Query: 76\n",
      "Query: 77\n",
      "Query: 78\n",
      "Query: 79\n",
      "Query: 80\n",
      "Query: 81\n",
      "Query: 82\n",
      "Query: 83\n",
      "Query: 84\n",
      "Query: 85\n",
      "Query: 86\n",
      "Query: 87\n",
      "Query: 88\n",
      "Query: 89\n",
      "Query: 90\n",
      "Query: 91\n",
      "Query: 92\n",
      "Query: 93\n",
      "Query: 94\n",
      "Query: 95\n",
      "Query: 96\n",
      "Query: 97\n",
      "Query: 98\n",
      "Query: 99\n"
     ]
    },
    {
     "name": "stderr",
     "output_type": "stream",
     "text": [
      "[I 2023-11-25 20:27:28,610] Trial 4 finished with values: [1.0, 0.41871571999999996] and parameters: {'k': 4, 'L': 7, 'table_size': 7500, 'window_size': 4463}. \n"
     ]
    },
    {
     "name": "stdout",
     "output_type": "stream",
     "text": [
      "Trial parameters: {'k': 9, 'L': 8, 'table_size': 7500, 'window_size': 3419}\n",
      "Read MNIST data\n",
      "Done\n",
      "Algorithm: LSH\n",
      "Query: 0\n",
      "Query: 1\n",
      "Query: 2\n",
      "Query: 3\n",
      "Query: 4\n",
      "Query: 5\n",
      "Query: 6\n",
      "Query: 7\n",
      "Query: 8\n",
      "Query: 9\n",
      "Query: 10\n",
      "Query: 11\n",
      "Query: 12\n",
      "Query: 13\n",
      "Query: 14\n",
      "Query: 15\n",
      "Query: 16\n",
      "Query: 17\n",
      "Query: 18\n",
      "Query: 19\n",
      "Query: 20\n",
      "Query: 21\n",
      "Query: 22\n",
      "Query: 23\n",
      "Query: 24\n",
      "Query: 25\n",
      "Query: 26\n",
      "Query: 27\n",
      "Query: 28\n",
      "Query: 29\n",
      "Query: 30\n",
      "Query: 31\n",
      "Query: 32\n",
      "Query: 33\n",
      "Query: 34\n",
      "Query: 35\n",
      "Query: 36\n",
      "Query: 37\n",
      "Query: 38\n",
      "Query: 39\n",
      "Query: 40\n",
      "Query: 41\n",
      "Query: 42\n",
      "Query: 43\n",
      "Query: 44\n",
      "Query: 45\n",
      "Query: 46\n",
      "Query: 47\n",
      "Query: 48\n",
      "Query: 49\n",
      "Query: 50\n",
      "Query: 51\n",
      "Query: 52\n",
      "Query: 53\n",
      "Query: 54\n",
      "Query: 55\n",
      "Query: 56\n",
      "Query: 57\n",
      "Query: 58\n",
      "Query: 59\n",
      "Query: 60\n",
      "Query: 61\n",
      "Query: 62\n",
      "Query: 63\n",
      "Query: 64\n",
      "Query: 65\n",
      "Query: 66\n",
      "Query: 67\n",
      "Query: 68\n",
      "Query: 69\n",
      "Query: 70\n",
      "Query: 71\n",
      "Query: 72\n",
      "Query: 73\n",
      "Query: 74\n",
      "Query: 75\n",
      "Query: 76\n",
      "Query: 77\n",
      "Query: 78\n",
      "Query: 79\n",
      "Query: 80\n",
      "Query: 81\n",
      "Query: 82\n",
      "Query: 83\n",
      "Query: 84\n",
      "Query: 85\n",
      "Query: 86\n",
      "Query: 87\n",
      "Query: 88\n",
      "Query: 89\n",
      "Query: 90\n",
      "Query: 91\n",
      "Query: 92\n",
      "Query: 93\n",
      "Query: 94\n",
      "Query: 95\n",
      "Query: 96\n",
      "Query: 97\n",
      "Query: 98\n",
      "Query: 99\n"
     ]
    },
    {
     "name": "stderr",
     "output_type": "stream",
     "text": [
      "[I 2023-11-25 20:28:29,624] Trial 5 finished with values: [1.0215811931320486, 0.04470843] and parameters: {'k': 9, 'L': 8, 'table_size': 7500, 'window_size': 3419}. \n"
     ]
    },
    {
     "name": "stdout",
     "output_type": "stream",
     "text": [
      "Trial parameters: {'k': 6, 'L': 3, 'table_size': 3750, 'window_size': 1628}\n",
      "Read MNIST data\n",
      "Done\n",
      "Algorithm: LSH\n",
      "Query: 0\n",
      "Query: 1\n",
      "Query: 2\n",
      "Query: 3\n",
      "Query: 4\n",
      "Query: 5\n",
      "Query: 6\n",
      "Query: 7\n",
      "Query: 8\n",
      "Query: 9\n",
      "Query: 10\n",
      "Query: 11\n",
      "Query: 12\n",
      "Query: 13\n",
      "Query: 14\n",
      "Query: 15\n",
      "Query: 16\n",
      "Query: 17\n",
      "Query: 18\n",
      "Query: 19\n",
      "Query: 20\n",
      "Query: 21\n",
      "Query: 22\n",
      "Query: 23\n",
      "Query: 24\n",
      "Query: 25\n",
      "Query: 26\n",
      "Query: 27\n",
      "Query: 28\n",
      "Query: 29\n",
      "Query: 30\n",
      "Query: 31\n",
      "Query: 32\n",
      "Query: 33\n",
      "Query: 34\n",
      "Query: 35\n",
      "Query: 36\n",
      "Query: 37\n",
      "Query: 38\n",
      "Query: 39\n",
      "Query: 40\n",
      "Query: 41\n",
      "Query: 42\n",
      "Query: 43\n",
      "Query: 44\n",
      "Query: 45\n",
      "Query: 46\n",
      "Query: 47\n",
      "Query: 48\n",
      "Query: 49\n",
      "Query: 50\n",
      "Query: 51\n",
      "Query: 52\n",
      "Query: 53\n",
      "Query: 54\n",
      "Query: 55\n",
      "Query: 56\n",
      "Query: 57\n",
      "Query: 58\n",
      "Query: 59\n",
      "Query: 60\n",
      "Query: 61\n",
      "Query: 62\n",
      "Query: 63\n",
      "Query: 64\n",
      "Query: 65\n",
      "Query: 66\n",
      "Query: 67\n",
      "Query: 68\n",
      "Query: 69\n",
      "Query: 70\n",
      "Query: 71\n",
      "Query: 72\n",
      "Query: 73\n",
      "Query: 74\n",
      "Query: 75\n",
      "Query: 76\n",
      "Query: 77\n",
      "Query: 78\n",
      "Query: 79\n",
      "Query: 80\n",
      "Query: 81\n",
      "Query: 82\n",
      "Query: 83\n",
      "Query: 84\n",
      "Query: 85\n",
      "Query: 86\n",
      "Query: 87\n",
      "Query: 88\n",
      "Query: 89\n"
     ]
    }
   ],
   "source": [
    "%%time\n",
    "for i in range(10):\n",
    "    try:\n",
    "        sampler = optuna.integration.BoTorchSampler(constraints_func=constraints, n_startup_trials=10)\n",
    "        lsh_study = optuna.create_study(study_name='lsh', directions=['minimize', 'minimize'], sampler=sampler)\n",
    "        lsh_study.optimize(objective_lsh, n_trials=50)\n",
    "        print(\"-------------------- Best trials --------------------\")\n",
    "        trials = sorted(lsh_study.best_trials, key=lambda x: x.values)\n",
    "        # print feasible trials only\n",
    "        for trial in trials:\n",
    "            print(\"Trial no. {}\".format(trial.number))\n",
    "            print(\" Values = {}, Constraints = {}\".format(trial.values, trial.user_attrs[\"constraint\"]))\n",
    "            print(\" Params = {}\".format(trial.params))\n",
    "        break\n",
    "    except:\n",
    "        print(\"Trial failed, trying again...\")\n",
    "        continue"
   ]
  },
  {
   "attachments": {},
   "cell_type": "markdown",
   "metadata": {},
   "source": [
    "## Visualize LSH study results"
   ]
  },
  {
   "cell_type": "code",
   "execution_count": 5,
   "metadata": {},
   "outputs": [
    {
     "data": {
      "application/vnd.plotly.v1+json": {
       "config": {
        "plotlyServerURL": "https://plot.ly"
       },
       "data": [
        {
         "hovertemplate": "%{text}<extra>Trial</extra>",
         "marker": {
          "color": [
           0,
           1,
           3,
           4,
           5,
           6,
           7,
           8,
           9,
           10,
           11,
           12,
           13,
           14,
           15,
           17,
           18,
           19,
           20,
           21,
           22,
           23,
           24,
           25,
           26,
           27,
           28,
           31,
           33,
           34,
           35,
           36,
           37,
           38,
           39,
           40,
           41,
           42,
           43,
           44,
           45,
           47,
           48,
           49
          ],
          "colorbar": {
           "title": {
            "text": "Trial"
           }
          },
          "colorscale": [
           [
            0,
            "rgb(247,251,255)"
           ],
           [
            0.125,
            "rgb(222,235,247)"
           ],
           [
            0.25,
            "rgb(198,219,239)"
           ],
           [
            0.375,
            "rgb(158,202,225)"
           ],
           [
            0.5,
            "rgb(107,174,214)"
           ],
           [
            0.625,
            "rgb(66,146,198)"
           ],
           [
            0.75,
            "rgb(33,113,181)"
           ],
           [
            0.875,
            "rgb(8,81,156)"
           ],
           [
            1,
            "rgb(8,48,107)"
           ]
          ],
          "line": {
           "color": "Grey",
           "width": 0.5
          }
         },
         "mode": "markers",
         "showlegend": false,
         "text": [
          "{<br>  \"number\": 0,<br>  \"values\": [<br>    1.080364582352079,<br>    0.0243802<br>  ],<br>  \"params\": {<br>    \"k\": 6,<br>    \"L\": 8,<br>    \"table_size\": 15000,<br>    \"window_size\": 2171<br>  },<br>  \"user_attrs\": {<br>    \"constraint\": [<br>      0,<br>      -0.014380200000000001<br>    ]<br>  }<br>}",
          "{<br>  \"number\": 1,<br>  \"values\": [<br>    1.0021869427020387,<br>    0.12122220000000002<br>  ],<br>  \"params\": {<br>    \"k\": 5,<br>    \"L\": 4,<br>    \"table_size\": 7500,<br>    \"window_size\": 4599<br>  },<br>  \"user_attrs\": {<br>    \"constraint\": [<br>      1,<br>      -0.11122220000000002<br>    ]<br>  }<br>}",
          "{<br>  \"number\": 3,<br>  \"values\": [<br>    1.0,<br>    0.07976079999999999<br>  ],<br>  \"params\": {<br>    \"k\": 2,<br>    \"L\": 2,<br>    \"table_size\": 15000,<br>    \"window_size\": 2673<br>  },<br>  \"user_attrs\": {<br>    \"constraint\": [<br>      0,<br>      -0.0697608<br>    ]<br>  }<br>}",
          "{<br>  \"number\": 4,<br>  \"values\": [<br>    1.2516558813821272,<br>    0.003961299999999999<br>  ],<br>  \"params\": {<br>    \"k\": 6,<br>    \"L\": 6,<br>    \"table_size\": 15000,<br>    \"window_size\": 1492<br>  },<br>  \"user_attrs\": {<br>    \"constraint\": [<br>      0,<br>      0.006038700000000001<br>    ]<br>  }<br>}",
          "{<br>  \"number\": 5,<br>  \"values\": [<br>    1.152720110142579,<br>    0.005600100000000001<br>  ],<br>  \"params\": {<br>    \"k\": 6,<br>    \"L\": 10,<br>    \"table_size\": 15000,<br>    \"window_size\": 1487<br>  },<br>  \"user_attrs\": {<br>    \"constraint\": [<br>      1,<br>      0.004399899999999999<br>    ]<br>  }<br>}",
          "{<br>  \"number\": 6,<br>  \"values\": [<br>    1.0994925878918311,<br>    0.0089004<br>  ],<br>  \"params\": {<br>    \"k\": 9,<br>    \"L\": 8,<br>    \"table_size\": 15000,<br>    \"window_size\": 2478<br>  },<br>  \"user_attrs\": {<br>    \"constraint\": [<br>      0,<br>      0.001099600000000001<br>    ]<br>  }<br>}",
          "{<br>  \"number\": 7,<br>  \"values\": [<br>    1.4481826767241175,<br>    0.0030543999999999997<br>  ],<br>  \"params\": {<br>    \"k\": 6,<br>    \"L\": 2,<br>    \"table_size\": 15000,<br>    \"window_size\": 1494<br>  },<br>  \"user_attrs\": {<br>    \"constraint\": [<br>      0,<br>      0.0069456000000000006<br>    ]<br>  }<br>}",
          "{<br>  \"number\": 8,<br>  \"values\": [<br>    1.0420599285261567,<br>    0.0270655<br>  ],<br>  \"params\": {<br>    \"k\": 7,<br>    \"L\": 7,<br>    \"table_size\": 15000,<br>    \"window_size\": 2417<br>  },<br>  \"user_attrs\": {<br>    \"constraint\": [<br>      0,<br>      -0.017065499999999997<br>    ]<br>  }<br>}",
          "{<br>  \"number\": 9,<br>  \"values\": [<br>    1.2110632961772163,<br>    0.012320499999999998<br>  ],<br>  \"params\": {<br>    \"k\": 8,<br>    \"L\": 8,<br>    \"table_size\": 15000,<br>    \"window_size\": 2138<br>  },<br>  \"user_attrs\": {<br>    \"constraint\": [<br>      0,<br>      -0.002320499999999998<br>    ]<br>  }<br>}",
          "{<br>  \"number\": 10,<br>  \"values\": [<br>    1.002165328536009,<br>    0.0329381<br>  ],<br>  \"params\": {<br>    \"k\": 9,<br>    \"L\": 8,<br>    \"table_size\": 15000,<br>    \"window_size\": 3328<br>  },<br>  \"user_attrs\": {<br>    \"constraint\": [<br>      0,<br>      -0.022938099999999996<br>    ]<br>  }<br>}",
          "{<br>  \"number\": 11,<br>  \"values\": [<br>    1.0,<br>    0.0395954<br>  ],<br>  \"params\": {<br>    \"k\": 7,<br>    \"L\": 8,<br>    \"table_size\": 15000,<br>    \"window_size\": 3222<br>  },<br>  \"user_attrs\": {<br>    \"constraint\": [<br>      0,<br>      -0.0295954<br>    ]<br>  }<br>}",
          "{<br>  \"number\": 12,<br>  \"values\": [<br>    1.0067442093997296,<br>    0.09021780000000001<br>  ],<br>  \"params\": {<br>    \"k\": 8,<br>    \"L\": 8,<br>    \"table_size\": 15000,<br>    \"window_size\": 3785<br>  },<br>  \"user_attrs\": {<br>    \"constraint\": [<br>      1,<br>      -0.08021780000000002<br>    ]<br>  }<br>}",
          "{<br>  \"number\": 13,<br>  \"values\": [<br>    1.0321793208286714,<br>    0.015997599999999997<br>  ],<br>  \"params\": {<br>    \"k\": 10,<br>    \"L\": 8,<br>    \"table_size\": 15000,<br>    \"window_size\": 3103<br>  },<br>  \"user_attrs\": {<br>    \"constraint\": [<br>      0,<br>      -0.005997599999999997<br>    ]<br>  }<br>}",
          "{<br>  \"number\": 14,<br>  \"values\": [<br>    1.0465455186971557,<br>    0.04341189999999999<br>  ],<br>  \"params\": {<br>    \"k\": 8,<br>    \"L\": 8,<br>    \"table_size\": 15000,<br>    \"window_size\": 2997<br>  },<br>  \"user_attrs\": {<br>    \"constraint\": [<br>      0,<br>      -0.03341189999999999<br>    ]<br>  }<br>}",
          "{<br>  \"number\": 15,<br>  \"values\": [<br>    1.1057644437514855,<br>    0.014918999999999997<br>  ],<br>  \"params\": {<br>    \"k\": 10,<br>    \"L\": 7,<br>    \"table_size\": 15000,<br>    \"window_size\": 2965<br>  },<br>  \"user_attrs\": {<br>    \"constraint\": [<br>      0,<br>      -0.004918999999999996<br>    ]<br>  }<br>}",
          "{<br>  \"number\": 17,<br>  \"values\": [<br>    1.0082405284173985,<br>    0.0198315<br>  ],<br>  \"params\": {<br>    \"k\": 10,<br>    \"L\": 10,<br>    \"table_size\": 15000,<br>    \"window_size\": 3153<br>  },<br>  \"user_attrs\": {<br>    \"constraint\": [<br>      0,<br>      -0.009831499999999998<br>    ]<br>  }<br>}",
          "{<br>  \"number\": 18,<br>  \"values\": [<br>    1.0021869427020387,<br>    0.1119394<br>  ],<br>  \"params\": {<br>    \"k\": 2,<br>    \"L\": 4,<br>    \"table_size\": 15000,<br>    \"window_size\": 1634<br>  },<br>  \"user_attrs\": {<br>    \"constraint\": [<br>      0,<br>      -0.1019394<br>    ]<br>  }<br>}",
          "{<br>  \"number\": 19,<br>  \"values\": [<br>    1.0420599285261567,<br>    0.025811700000000003<br>  ],<br>  \"params\": {<br>    \"k\": 9,<br>    \"L\": 9,<br>    \"table_size\": 15000,<br>    \"window_size\": 3168<br>  },<br>  \"user_attrs\": {<br>    \"constraint\": [<br>      0,<br>      -0.015811700000000005<br>    ]<br>  }<br>}",
          "{<br>  \"number\": 20,<br>  \"values\": [<br>    1.0082405284173985,<br>    0.020381700000000003<br>  ],<br>  \"params\": {<br>    \"k\": 10,<br>    \"L\": 10,<br>    \"table_size\": 15000,<br>    \"window_size\": 2987<br>  },<br>  \"user_attrs\": {<br>    \"constraint\": [<br>      0,<br>      -0.010381700000000002<br>    ]<br>  }<br>}",
          "{<br>  \"number\": 21,<br>  \"values\": [<br>    1.0133823946374938,<br>    0.0297184<br>  ],<br>  \"params\": {<br>    \"k\": 10,<br>    \"L\": 9,<br>    \"table_size\": 15000,<br>    \"window_size\": 3017<br>  },<br>  \"user_attrs\": {<br>    \"constraint\": [<br>      0,<br>      -0.019718399999999997<br>    ]<br>  }<br>}",
          "{<br>  \"number\": 22,<br>  \"values\": [<br>    1.0731426240992046,<br>    0.015087800000000002<br>  ],<br>  \"params\": {<br>    \"k\": 10,<br>    \"L\": 10,<br>    \"table_size\": 15000,<br>    \"window_size\": 2912<br>  },<br>  \"user_attrs\": {<br>    \"constraint\": [<br>      0,<br>      -0.005087800000000002<br>    ]<br>  }<br>}",
          "{<br>  \"number\": 23,<br>  \"values\": [<br>    1.0591163234817103,<br>    0.0151112<br>  ],<br>  \"params\": {<br>    \"k\": 10,<br>    \"L\": 9,<br>    \"table_size\": 15000,<br>    \"window_size\": 3057<br>  },<br>  \"user_attrs\": {<br>    \"constraint\": [<br>      1,<br>      -0.0051112<br>    ]<br>  }<br>}",
          "{<br>  \"number\": 24,<br>  \"values\": [<br>    1.127284887816208,<br>    0.007914899999999999<br>  ],<br>  \"params\": {<br>    \"k\": 10,<br>    \"L\": 8,<br>    \"table_size\": 15000,<br>    \"window_size\": 2613<br>  },<br>  \"user_attrs\": {<br>    \"constraint\": [<br>      0,<br>      0.002085100000000001<br>    ]<br>  }<br>}",
          "{<br>  \"number\": 25,<br>  \"values\": [<br>    1.0157882471647894,<br>    0.0269927<br>  ],<br>  \"params\": {<br>    \"k\": 7,<br>    \"L\": 8,<br>    \"table_size\": 15000,<br>    \"window_size\": 2573<br>  },<br>  \"user_attrs\": {<br>    \"constraint\": [<br>      0,<br>      -0.0169927<br>    ]<br>  }<br>}",
          "{<br>  \"number\": 26,<br>  \"values\": [<br>    1.0067442093997296,<br>    0.03317370000000001<br>  ],<br>  \"params\": {<br>    \"k\": 7,<br>    \"L\": 9,<br>    \"table_size\": 15000,<br>    \"window_size\": 2668<br>  },<br>  \"user_attrs\": {<br>    \"constraint\": [<br>      0,<br>      -0.023173700000000005<br>    ]<br>  }<br>}",
          "{<br>  \"number\": 27,<br>  \"values\": [<br>    1.0137168184960912,<br>    0.042106899999999996<br>  ],<br>  \"params\": {<br>    \"k\": 7,<br>    \"L\": 8,<br>    \"table_size\": 15000,<br>    \"window_size\": 2725<br>  },<br>  \"user_attrs\": {<br>    \"constraint\": [<br>      0,<br>      -0.032106899999999994<br>    ]<br>  }<br>}",
          "{<br>  \"number\": 28,<br>  \"values\": [<br>    1.004813609368143,<br>    0.0306925<br>  ],<br>  \"params\": {<br>    \"k\": 7,<br>    \"L\": 9,<br>    \"table_size\": 15000,<br>    \"window_size\": 2686<br>  },<br>  \"user_attrs\": {<br>    \"constraint\": [<br>      1,<br>      -0.020692500000000003<br>    ]<br>  }<br>}",
          "{<br>  \"number\": 31,<br>  \"values\": [<br>    1.105800450222981,<br>    0.0114906<br>  ],<br>  \"params\": {<br>    \"k\": 9,<br>    \"L\": 7,<br>    \"table_size\": 15000,<br>    \"window_size\": 2643<br>  },<br>  \"user_attrs\": {<br>    \"constraint\": [<br>      0,<br>      -0.0014906<br>    ]<br>  }<br>}",
          "{<br>  \"number\": 33,<br>  \"values\": [<br>    1.0680324904540728,<br>    0.026253499999999996<br>  ],<br>  \"params\": {<br>    \"k\": 9,<br>    \"L\": 7,<br>    \"table_size\": 15000,<br>    \"window_size\": 2705<br>  },<br>  \"user_attrs\": {<br>    \"constraint\": [<br>      0,<br>      -0.016253499999999997<br>    ]<br>  }<br>}",
          "{<br>  \"number\": 34,<br>  \"values\": [<br>    1.2820877231533065,<br>    0.0060769000000000005<br>  ],<br>  \"params\": {<br>    \"k\": 9,<br>    \"L\": 7,<br>    \"table_size\": 15000,<br>    \"window_size\": 2262<br>  },<br>  \"user_attrs\": {<br>    \"constraint\": [<br>      1,<br>      0.0039231<br>    ]<br>  }<br>}",
          "{<br>  \"number\": 35,<br>  \"values\": [<br>    1.0289915385376895,<br>    0.0591836<br>  ],<br>  \"params\": {<br>    \"k\": 5,<br>    \"L\": 5,<br>    \"table_size\": 15000,<br>    \"window_size\": 2785<br>  },<br>  \"user_attrs\": {<br>    \"constraint\": [<br>      0,<br>      -0.0491836<br>    ]<br>  }<br>}",
          "{<br>  \"number\": 36,<br>  \"values\": [<br>    1.0021869427020387,<br>    0.0297146<br>  ],<br>  \"params\": {<br>    \"k\": 6,<br>    \"L\": 6,<br>    \"table_size\": 15000,<br>    \"window_size\": 2604<br>  },<br>  \"user_attrs\": {<br>    \"constraint\": [<br>      1,<br>      -0.0197146<br>    ]<br>  }<br>}",
          "{<br>  \"number\": 37,<br>  \"values\": [<br>    1.0459532492564916,<br>    0.0230468<br>  ],<br>  \"params\": {<br>    \"k\": 10,<br>    \"L\": 9,<br>    \"table_size\": 15000,<br>    \"window_size\": 2962<br>  },<br>  \"user_attrs\": {<br>    \"constraint\": [<br>      0,<br>      -0.013046799999999999<br>    ]<br>  }<br>}",
          "{<br>  \"number\": 38,<br>  \"values\": [<br>    1.0336982910148735,<br>    0.018898199999999997<br>  ],<br>  \"params\": {<br>    \"k\": 10,<br>    \"L\": 9,<br>    \"table_size\": 15000,<br>    \"window_size\": 3022<br>  },<br>  \"user_attrs\": {<br>    \"constraint\": [<br>      0,<br>      -0.008898199999999997<br>    ]<br>  }<br>}",
          "{<br>  \"number\": 39,<br>  \"values\": [<br>    1.009275668827158,<br>    0.03360300000000001<br>  ],<br>  \"params\": {<br>    \"k\": 10,<br>    \"L\": 9,<br>    \"table_size\": 15000,<br>    \"window_size\": 3376<br>  },<br>  \"user_attrs\": {<br>    \"constraint\": [<br>      1,<br>      -0.023603000000000006<br>    ]<br>  }<br>}",
          "{<br>  \"number\": 40,<br>  \"values\": [<br>    1.0356523434986677,<br>    0.016585199999999998<br>  ],<br>  \"params\": {<br>    \"k\": 9,<br>    \"L\": 9,<br>    \"table_size\": 15000,<br>    \"window_size\": 2822<br>  },<br>  \"user_attrs\": {<br>    \"constraint\": [<br>      1,<br>      -0.006585199999999998<br>    ]<br>  }<br>}",
          "{<br>  \"number\": 41,<br>  \"values\": [<br>    1.071403940843027,<br>    0.014567600000000003<br>  ],<br>  \"params\": {<br>    \"k\": 9,<br>    \"L\": 7,<br>    \"table_size\": 15000,<br>    \"window_size\": 2671<br>  },<br>  \"user_attrs\": {<br>    \"constraint\": [<br>      1,<br>      -0.004567600000000003<br>    ]<br>  }<br>}",
          "{<br>  \"number\": 42,<br>  \"values\": [<br>    1.056525828982375,<br>    0.018993799999999998<br>  ],<br>  \"params\": {<br>    \"k\": 6,<br>    \"L\": 3,<br>    \"table_size\": 15000,<br>    \"window_size\": 2520<br>  },<br>  \"user_attrs\": {<br>    \"constraint\": [<br>      0,<br>      -0.008993799999999998<br>    ]<br>  }<br>}",
          "{<br>  \"number\": 43,<br>  \"values\": [<br>    1.0662411358705246,<br>    0.037898600000000005<br>  ],<br>  \"params\": {<br>    \"k\": 6,<br>    \"L\": 7,<br>    \"table_size\": 15000,<br>    \"window_size\": 2597<br>  },<br>  \"user_attrs\": {<br>    \"constraint\": [<br>      0,<br>      -0.027898600000000003<br>    ]<br>  }<br>}",
          "{<br>  \"number\": 44,<br>  \"values\": [<br>    1.1475147381541393,<br>    0.0117746<br>  ],<br>  \"params\": {<br>    \"k\": 7,<br>    \"L\": 4,<br>    \"table_size\": 15000,<br>    \"window_size\": 2638<br>  },<br>  \"user_attrs\": {<br>    \"constraint\": [<br>      0,<br>      -0.0017745999999999994<br>    ]<br>  }<br>}",
          "{<br>  \"number\": 45,<br>  \"values\": [<br>    1.0,<br>    0.05462789999999999<br>  ],<br>  \"params\": {<br>    \"k\": 6,<br>    \"L\": 6,<br>    \"table_size\": 15000,<br>    \"window_size\": 2583<br>  },<br>  \"user_attrs\": {<br>    \"constraint\": [<br>      0,<br>      -0.04462789999999999<br>    ]<br>  }<br>}",
          "{<br>  \"number\": 47,<br>  \"values\": [<br>    1.5629395108546382,<br>    0.0056829<br>  ],<br>  \"params\": {<br>    \"k\": 7,<br>    \"L\": 3,<br>    \"table_size\": 15000,<br>    \"window_size\": 2356<br>  },<br>  \"user_attrs\": {<br>    \"constraint\": [<br>      0,<br>      0.0043171<br>    ]<br>  }<br>}",
          "{<br>  \"number\": 48,<br>  \"values\": [<br>    1.0231951143066242,<br>    0.026476500000000004<br>  ],<br>  \"params\": {<br>    \"k\": 6,<br>    \"L\": 3,<br>    \"table_size\": 15000,<br>    \"window_size\": 2910<br>  },<br>  \"user_attrs\": {<br>    \"constraint\": [<br>      0,<br>      -0.016476500000000005<br>    ]<br>  }<br>}",
          "{<br>  \"number\": 49,<br>  \"values\": [<br>    1.0691484011761487,<br>    0.0307455<br>  ],<br>  \"params\": {<br>    \"k\": 5,<br>    \"L\": 3,<br>    \"table_size\": 15000,<br>    \"window_size\": 2627<br>  },<br>  \"user_attrs\": {<br>    \"constraint\": [<br>      0,<br>      -0.0207455<br>    ]<br>  }<br>}"
         ],
         "type": "scatter",
         "x": [
          1.080364582352079,
          1.0021869427020387,
          1,
          1.2516558813821272,
          1.152720110142579,
          1.0994925878918311,
          1.4481826767241175,
          1.0420599285261567,
          1.2110632961772163,
          1.002165328536009,
          1,
          1.0067442093997296,
          1.0321793208286714,
          1.0465455186971557,
          1.1057644437514855,
          1.0082405284173985,
          1.0021869427020387,
          1.0420599285261567,
          1.0082405284173985,
          1.0133823946374938,
          1.0731426240992046,
          1.0591163234817103,
          1.127284887816208,
          1.0157882471647894,
          1.0067442093997296,
          1.0137168184960912,
          1.004813609368143,
          1.105800450222981,
          1.0680324904540728,
          1.2820877231533065,
          1.0289915385376895,
          1.0021869427020387,
          1.0459532492564916,
          1.0336982910148735,
          1.009275668827158,
          1.0356523434986677,
          1.071403940843027,
          1.056525828982375,
          1.0662411358705246,
          1.1475147381541393,
          1,
          1.5629395108546382,
          1.0231951143066242,
          1.0691484011761487
         ],
         "y": [
          0.0243802,
          0.12122220000000002,
          0.07976079999999999,
          0.003961299999999999,
          0.005600100000000001,
          0.0089004,
          0.0030543999999999997,
          0.0270655,
          0.012320499999999998,
          0.0329381,
          0.0395954,
          0.09021780000000001,
          0.015997599999999997,
          0.04341189999999999,
          0.014918999999999997,
          0.0198315,
          0.1119394,
          0.025811700000000003,
          0.020381700000000003,
          0.0297184,
          0.015087800000000002,
          0.0151112,
          0.007914899999999999,
          0.0269927,
          0.03317370000000001,
          0.042106899999999996,
          0.0306925,
          0.0114906,
          0.026253499999999996,
          0.0060769000000000005,
          0.0591836,
          0.0297146,
          0.0230468,
          0.018898199999999997,
          0.03360300000000001,
          0.016585199999999998,
          0.014567600000000003,
          0.018993799999999998,
          0.037898600000000005,
          0.0117746,
          0.05462789999999999,
          0.0056829,
          0.026476500000000004,
          0.0307455
         ]
        },
        {
         "hovertemplate": "%{text}<extra>Best Trial</extra>",
         "marker": {
          "color": [
           2,
           16,
           29,
           30,
           32,
           46
          ],
          "colorbar": {
           "title": {
            "text": "Best Trial"
           },
           "x": 1.1,
           "xpad": 40
          },
          "colorscale": [
           [
            0,
            "rgb(255,245,240)"
           ],
           [
            0.125,
            "rgb(254,224,210)"
           ],
           [
            0.25,
            "rgb(252,187,161)"
           ],
           [
            0.375,
            "rgb(252,146,114)"
           ],
           [
            0.5,
            "rgb(251,106,74)"
           ],
           [
            0.625,
            "rgb(239,59,44)"
           ],
           [
            0.75,
            "rgb(203,24,29)"
           ],
           [
            0.875,
            "rgb(165,15,21)"
           ],
           [
            1,
            "rgb(103,0,13)"
           ]
          ],
          "line": {
           "color": "Grey",
           "width": 0.5
          }
         },
         "mode": "markers",
         "showlegend": false,
         "text": [
          "{<br>  \"number\": 2,<br>  \"values\": [<br>    1.0853808565478453,<br>    0.007027899999999999<br>  ],<br>  \"params\": {<br>    \"k\": 7,<br>    \"L\": 8,<br>    \"table_size\": 15000,<br>    \"window_size\": 1878<br>  },<br>  \"user_attrs\": {<br>    \"constraint\": [<br>      0,<br>      0.002972100000000001<br>    ]<br>  }<br>}",
          "{<br>  \"number\": 16,<br>  \"values\": [<br>    1.0,<br>    0.016337499999999998<br>  ],<br>  \"params\": {<br>    \"k\": 10,<br>    \"L\": 9,<br>    \"table_size\": 15000,<br>    \"window_size\": 2908<br>  },<br>  \"user_attrs\": {<br>    \"constraint\": [<br>      0,<br>      -0.006337499999999998<br>    ]<br>  }<br>}",
          "{<br>  \"number\": 29,<br>  \"values\": [<br>    1.0587482766730139,<br>    0.010258199999999999<br>  ],<br>  \"params\": {<br>    \"k\": 9,<br>    \"L\": 7,<br>    \"table_size\": 15000,<br>    \"window_size\": 2594<br>  },<br>  \"user_attrs\": {<br>    \"constraint\": [<br>      0,<br>      -0.00025819999999999836<br>    ]<br>  }<br>}",
          "{<br>  \"number\": 30,<br>  \"values\": [<br>    1.1304640990738282,<br>    0.0049898<br>  ],<br>  \"params\": {<br>    \"k\": 9,<br>    \"L\": 6,<br>    \"table_size\": 15000,<br>    \"window_size\": 2399<br>  },<br>  \"user_attrs\": {<br>    \"constraint\": [<br>      0,<br>      0.0050102<br>    ]<br>  }<br>}",
          "{<br>  \"number\": 32,<br>  \"values\": [<br>    1.0216960906741979,<br>    0.013018400000000003<br>  ],<br>  \"params\": {<br>    \"k\": 9,<br>    \"L\": 8,<br>    \"table_size\": 15000,<br>    \"window_size\": 2644<br>  },<br>  \"user_attrs\": {<br>    \"constraint\": [<br>      0,<br>      -0.0030184000000000027<br>    ]<br>  }<br>}",
          "{<br>  \"number\": 46,<br>  \"values\": [<br>    1.2254991789587089,<br>    0.0022863<br>  ],<br>  \"params\": {<br>    \"k\": 8,<br>    \"L\": 2,<br>    \"table_size\": 15000,<br>    \"window_size\": 2389<br>  },<br>  \"user_attrs\": {<br>    \"constraint\": [<br>      0,<br>      0.0077137<br>    ]<br>  }<br>}"
         ],
         "type": "scatter",
         "x": [
          1.0853808565478453,
          1,
          1.0587482766730139,
          1.1304640990738282,
          1.0216960906741979,
          1.2254991789587089
         ],
         "y": [
          0.007027899999999999,
          0.016337499999999998,
          0.010258199999999999,
          0.0049898,
          0.013018400000000003,
          0.0022863
         ]
        }
       ],
       "layout": {
        "template": {
         "data": {
          "bar": [
           {
            "error_x": {
             "color": "#2a3f5f"
            },
            "error_y": {
             "color": "#2a3f5f"
            },
            "marker": {
             "line": {
              "color": "#E5ECF6",
              "width": 0.5
             },
             "pattern": {
              "fillmode": "overlay",
              "size": 10,
              "solidity": 0.2
             }
            },
            "type": "bar"
           }
          ],
          "barpolar": [
           {
            "marker": {
             "line": {
              "color": "#E5ECF6",
              "width": 0.5
             },
             "pattern": {
              "fillmode": "overlay",
              "size": 10,
              "solidity": 0.2
             }
            },
            "type": "barpolar"
           }
          ],
          "carpet": [
           {
            "aaxis": {
             "endlinecolor": "#2a3f5f",
             "gridcolor": "white",
             "linecolor": "white",
             "minorgridcolor": "white",
             "startlinecolor": "#2a3f5f"
            },
            "baxis": {
             "endlinecolor": "#2a3f5f",
             "gridcolor": "white",
             "linecolor": "white",
             "minorgridcolor": "white",
             "startlinecolor": "#2a3f5f"
            },
            "type": "carpet"
           }
          ],
          "choropleth": [
           {
            "colorbar": {
             "outlinewidth": 0,
             "ticks": ""
            },
            "type": "choropleth"
           }
          ],
          "contour": [
           {
            "colorbar": {
             "outlinewidth": 0,
             "ticks": ""
            },
            "colorscale": [
             [
              0,
              "#0d0887"
             ],
             [
              0.1111111111111111,
              "#46039f"
             ],
             [
              0.2222222222222222,
              "#7201a8"
             ],
             [
              0.3333333333333333,
              "#9c179e"
             ],
             [
              0.4444444444444444,
              "#bd3786"
             ],
             [
              0.5555555555555556,
              "#d8576b"
             ],
             [
              0.6666666666666666,
              "#ed7953"
             ],
             [
              0.7777777777777778,
              "#fb9f3a"
             ],
             [
              0.8888888888888888,
              "#fdca26"
             ],
             [
              1,
              "#f0f921"
             ]
            ],
            "type": "contour"
           }
          ],
          "contourcarpet": [
           {
            "colorbar": {
             "outlinewidth": 0,
             "ticks": ""
            },
            "type": "contourcarpet"
           }
          ],
          "heatmap": [
           {
            "colorbar": {
             "outlinewidth": 0,
             "ticks": ""
            },
            "colorscale": [
             [
              0,
              "#0d0887"
             ],
             [
              0.1111111111111111,
              "#46039f"
             ],
             [
              0.2222222222222222,
              "#7201a8"
             ],
             [
              0.3333333333333333,
              "#9c179e"
             ],
             [
              0.4444444444444444,
              "#bd3786"
             ],
             [
              0.5555555555555556,
              "#d8576b"
             ],
             [
              0.6666666666666666,
              "#ed7953"
             ],
             [
              0.7777777777777778,
              "#fb9f3a"
             ],
             [
              0.8888888888888888,
              "#fdca26"
             ],
             [
              1,
              "#f0f921"
             ]
            ],
            "type": "heatmap"
           }
          ],
          "heatmapgl": [
           {
            "colorbar": {
             "outlinewidth": 0,
             "ticks": ""
            },
            "colorscale": [
             [
              0,
              "#0d0887"
             ],
             [
              0.1111111111111111,
              "#46039f"
             ],
             [
              0.2222222222222222,
              "#7201a8"
             ],
             [
              0.3333333333333333,
              "#9c179e"
             ],
             [
              0.4444444444444444,
              "#bd3786"
             ],
             [
              0.5555555555555556,
              "#d8576b"
             ],
             [
              0.6666666666666666,
              "#ed7953"
             ],
             [
              0.7777777777777778,
              "#fb9f3a"
             ],
             [
              0.8888888888888888,
              "#fdca26"
             ],
             [
              1,
              "#f0f921"
             ]
            ],
            "type": "heatmapgl"
           }
          ],
          "histogram": [
           {
            "marker": {
             "pattern": {
              "fillmode": "overlay",
              "size": 10,
              "solidity": 0.2
             }
            },
            "type": "histogram"
           }
          ],
          "histogram2d": [
           {
            "colorbar": {
             "outlinewidth": 0,
             "ticks": ""
            },
            "colorscale": [
             [
              0,
              "#0d0887"
             ],
             [
              0.1111111111111111,
              "#46039f"
             ],
             [
              0.2222222222222222,
              "#7201a8"
             ],
             [
              0.3333333333333333,
              "#9c179e"
             ],
             [
              0.4444444444444444,
              "#bd3786"
             ],
             [
              0.5555555555555556,
              "#d8576b"
             ],
             [
              0.6666666666666666,
              "#ed7953"
             ],
             [
              0.7777777777777778,
              "#fb9f3a"
             ],
             [
              0.8888888888888888,
              "#fdca26"
             ],
             [
              1,
              "#f0f921"
             ]
            ],
            "type": "histogram2d"
           }
          ],
          "histogram2dcontour": [
           {
            "colorbar": {
             "outlinewidth": 0,
             "ticks": ""
            },
            "colorscale": [
             [
              0,
              "#0d0887"
             ],
             [
              0.1111111111111111,
              "#46039f"
             ],
             [
              0.2222222222222222,
              "#7201a8"
             ],
             [
              0.3333333333333333,
              "#9c179e"
             ],
             [
              0.4444444444444444,
              "#bd3786"
             ],
             [
              0.5555555555555556,
              "#d8576b"
             ],
             [
              0.6666666666666666,
              "#ed7953"
             ],
             [
              0.7777777777777778,
              "#fb9f3a"
             ],
             [
              0.8888888888888888,
              "#fdca26"
             ],
             [
              1,
              "#f0f921"
             ]
            ],
            "type": "histogram2dcontour"
           }
          ],
          "mesh3d": [
           {
            "colorbar": {
             "outlinewidth": 0,
             "ticks": ""
            },
            "type": "mesh3d"
           }
          ],
          "parcoords": [
           {
            "line": {
             "colorbar": {
              "outlinewidth": 0,
              "ticks": ""
             }
            },
            "type": "parcoords"
           }
          ],
          "pie": [
           {
            "automargin": true,
            "type": "pie"
           }
          ],
          "scatter": [
           {
            "fillpattern": {
             "fillmode": "overlay",
             "size": 10,
             "solidity": 0.2
            },
            "type": "scatter"
           }
          ],
          "scatter3d": [
           {
            "line": {
             "colorbar": {
              "outlinewidth": 0,
              "ticks": ""
             }
            },
            "marker": {
             "colorbar": {
              "outlinewidth": 0,
              "ticks": ""
             }
            },
            "type": "scatter3d"
           }
          ],
          "scattercarpet": [
           {
            "marker": {
             "colorbar": {
              "outlinewidth": 0,
              "ticks": ""
             }
            },
            "type": "scattercarpet"
           }
          ],
          "scattergeo": [
           {
            "marker": {
             "colorbar": {
              "outlinewidth": 0,
              "ticks": ""
             }
            },
            "type": "scattergeo"
           }
          ],
          "scattergl": [
           {
            "marker": {
             "colorbar": {
              "outlinewidth": 0,
              "ticks": ""
             }
            },
            "type": "scattergl"
           }
          ],
          "scattermapbox": [
           {
            "marker": {
             "colorbar": {
              "outlinewidth": 0,
              "ticks": ""
             }
            },
            "type": "scattermapbox"
           }
          ],
          "scatterpolar": [
           {
            "marker": {
             "colorbar": {
              "outlinewidth": 0,
              "ticks": ""
             }
            },
            "type": "scatterpolar"
           }
          ],
          "scatterpolargl": [
           {
            "marker": {
             "colorbar": {
              "outlinewidth": 0,
              "ticks": ""
             }
            },
            "type": "scatterpolargl"
           }
          ],
          "scatterternary": [
           {
            "marker": {
             "colorbar": {
              "outlinewidth": 0,
              "ticks": ""
             }
            },
            "type": "scatterternary"
           }
          ],
          "surface": [
           {
            "colorbar": {
             "outlinewidth": 0,
             "ticks": ""
            },
            "colorscale": [
             [
              0,
              "#0d0887"
             ],
             [
              0.1111111111111111,
              "#46039f"
             ],
             [
              0.2222222222222222,
              "#7201a8"
             ],
             [
              0.3333333333333333,
              "#9c179e"
             ],
             [
              0.4444444444444444,
              "#bd3786"
             ],
             [
              0.5555555555555556,
              "#d8576b"
             ],
             [
              0.6666666666666666,
              "#ed7953"
             ],
             [
              0.7777777777777778,
              "#fb9f3a"
             ],
             [
              0.8888888888888888,
              "#fdca26"
             ],
             [
              1,
              "#f0f921"
             ]
            ],
            "type": "surface"
           }
          ],
          "table": [
           {
            "cells": {
             "fill": {
              "color": "#EBF0F8"
             },
             "line": {
              "color": "white"
             }
            },
            "header": {
             "fill": {
              "color": "#C8D4E3"
             },
             "line": {
              "color": "white"
             }
            },
            "type": "table"
           }
          ]
         },
         "layout": {
          "annotationdefaults": {
           "arrowcolor": "#2a3f5f",
           "arrowhead": 0,
           "arrowwidth": 1
          },
          "autotypenumbers": "strict",
          "coloraxis": {
           "colorbar": {
            "outlinewidth": 0,
            "ticks": ""
           }
          },
          "colorscale": {
           "diverging": [
            [
             0,
             "#8e0152"
            ],
            [
             0.1,
             "#c51b7d"
            ],
            [
             0.2,
             "#de77ae"
            ],
            [
             0.3,
             "#f1b6da"
            ],
            [
             0.4,
             "#fde0ef"
            ],
            [
             0.5,
             "#f7f7f7"
            ],
            [
             0.6,
             "#e6f5d0"
            ],
            [
             0.7,
             "#b8e186"
            ],
            [
             0.8,
             "#7fbc41"
            ],
            [
             0.9,
             "#4d9221"
            ],
            [
             1,
             "#276419"
            ]
           ],
           "sequential": [
            [
             0,
             "#0d0887"
            ],
            [
             0.1111111111111111,
             "#46039f"
            ],
            [
             0.2222222222222222,
             "#7201a8"
            ],
            [
             0.3333333333333333,
             "#9c179e"
            ],
            [
             0.4444444444444444,
             "#bd3786"
            ],
            [
             0.5555555555555556,
             "#d8576b"
            ],
            [
             0.6666666666666666,
             "#ed7953"
            ],
            [
             0.7777777777777778,
             "#fb9f3a"
            ],
            [
             0.8888888888888888,
             "#fdca26"
            ],
            [
             1,
             "#f0f921"
            ]
           ],
           "sequentialminus": [
            [
             0,
             "#0d0887"
            ],
            [
             0.1111111111111111,
             "#46039f"
            ],
            [
             0.2222222222222222,
             "#7201a8"
            ],
            [
             0.3333333333333333,
             "#9c179e"
            ],
            [
             0.4444444444444444,
             "#bd3786"
            ],
            [
             0.5555555555555556,
             "#d8576b"
            ],
            [
             0.6666666666666666,
             "#ed7953"
            ],
            [
             0.7777777777777778,
             "#fb9f3a"
            ],
            [
             0.8888888888888888,
             "#fdca26"
            ],
            [
             1,
             "#f0f921"
            ]
           ]
          },
          "colorway": [
           "#636efa",
           "#EF553B",
           "#00cc96",
           "#ab63fa",
           "#FFA15A",
           "#19d3f3",
           "#FF6692",
           "#B6E880",
           "#FF97FF",
           "#FECB52"
          ],
          "font": {
           "color": "#2a3f5f"
          },
          "geo": {
           "bgcolor": "white",
           "lakecolor": "white",
           "landcolor": "#E5ECF6",
           "showlakes": true,
           "showland": true,
           "subunitcolor": "white"
          },
          "hoverlabel": {
           "align": "left"
          },
          "hovermode": "closest",
          "mapbox": {
           "style": "light"
          },
          "paper_bgcolor": "white",
          "plot_bgcolor": "#E5ECF6",
          "polar": {
           "angularaxis": {
            "gridcolor": "white",
            "linecolor": "white",
            "ticks": ""
           },
           "bgcolor": "#E5ECF6",
           "radialaxis": {
            "gridcolor": "white",
            "linecolor": "white",
            "ticks": ""
           }
          },
          "scene": {
           "xaxis": {
            "backgroundcolor": "#E5ECF6",
            "gridcolor": "white",
            "gridwidth": 2,
            "linecolor": "white",
            "showbackground": true,
            "ticks": "",
            "zerolinecolor": "white"
           },
           "yaxis": {
            "backgroundcolor": "#E5ECF6",
            "gridcolor": "white",
            "gridwidth": 2,
            "linecolor": "white",
            "showbackground": true,
            "ticks": "",
            "zerolinecolor": "white"
           },
           "zaxis": {
            "backgroundcolor": "#E5ECF6",
            "gridcolor": "white",
            "gridwidth": 2,
            "linecolor": "white",
            "showbackground": true,
            "ticks": "",
            "zerolinecolor": "white"
           }
          },
          "shapedefaults": {
           "line": {
            "color": "#2a3f5f"
           }
          },
          "ternary": {
           "aaxis": {
            "gridcolor": "white",
            "linecolor": "white",
            "ticks": ""
           },
           "baxis": {
            "gridcolor": "white",
            "linecolor": "white",
            "ticks": ""
           },
           "bgcolor": "#E5ECF6",
           "caxis": {
            "gridcolor": "white",
            "linecolor": "white",
            "ticks": ""
           }
          },
          "title": {
           "x": 0.05
          },
          "xaxis": {
           "automargin": true,
           "gridcolor": "white",
           "linecolor": "white",
           "ticks": "",
           "title": {
            "standoff": 15
           },
           "zerolinecolor": "white",
           "zerolinewidth": 2
          },
          "yaxis": {
           "automargin": true,
           "gridcolor": "white",
           "linecolor": "white",
           "ticks": "",
           "title": {
            "standoff": 15
           },
           "zerolinecolor": "white",
           "zerolinewidth": 2
          }
         }
        },
        "title": {
         "text": "Pareto-front Plot"
        },
        "xaxis": {
         "title": {
          "text": "maf"
         }
        },
        "yaxis": {
         "title": {
          "text": "average_time"
         }
        }
       }
      }
     },
     "metadata": {},
     "output_type": "display_data"
    }
   ],
   "source": [
    "plot_pareto_front(lsh_study, target_names=['maf', 'average_time'])"
   ]
  },
  {
   "cell_type": "code",
   "execution_count": 6,
   "metadata": {},
   "outputs": [
    {
     "data": {
      "application/vnd.plotly.v1+json": {
       "config": {
        "plotlyServerURL": "https://plot.ly"
       },
       "data": [
        {
         "mode": "markers",
         "name": "maf",
         "type": "scatter",
         "x": [
          0,
          3,
          8,
          9,
          10,
          11,
          13,
          14,
          15,
          16,
          17,
          18,
          19,
          20,
          21,
          22,
          25,
          26,
          27,
          29,
          31,
          32,
          33,
          35,
          37,
          38,
          42,
          43,
          44,
          45,
          48,
          49
         ],
         "y": [
          1.080364582352079,
          1,
          1.0420599285261567,
          1.2110632961772163,
          1.002165328536009,
          1,
          1.0321793208286714,
          1.0465455186971557,
          1.1057644437514855,
          1,
          1.0082405284173985,
          1.0021869427020387,
          1.0420599285261567,
          1.0082405284173985,
          1.0133823946374938,
          1.0731426240992046,
          1.0157882471647894,
          1.0067442093997296,
          1.0137168184960912,
          1.0587482766730139,
          1.105800450222981,
          1.0216960906741979,
          1.0680324904540728,
          1.0289915385376895,
          1.0459532492564916,
          1.0336982910148735,
          1.056525828982375,
          1.0662411358705246,
          1.1475147381541393,
          1,
          1.0231951143066242,
          1.0691484011761487
         ]
        },
        {
         "marker": {
          "color": "#cccccc"
         },
         "mode": "markers",
         "name": "Infeasible Trial",
         "showlegend": false,
         "type": "scatter",
         "x": [
          1,
          2,
          4,
          5,
          6,
          7,
          12,
          23,
          24,
          28,
          30,
          34,
          36,
          39,
          40,
          41,
          46,
          47
         ],
         "y": [
          1.0021869427020387,
          1.0853808565478453,
          1.2516558813821272,
          1.152720110142579,
          1.0994925878918311,
          1.4481826767241175,
          1.0067442093997296,
          1.0591163234817103,
          1.127284887816208,
          1.004813609368143,
          1.1304640990738282,
          1.2820877231533065,
          1.0021869427020387,
          1.009275668827158,
          1.0356523434986677,
          1.071403940843027,
          1.2254991789587089,
          1.5629395108546382
         ]
        }
       ],
       "layout": {
        "template": {
         "data": {
          "bar": [
           {
            "error_x": {
             "color": "#2a3f5f"
            },
            "error_y": {
             "color": "#2a3f5f"
            },
            "marker": {
             "line": {
              "color": "#E5ECF6",
              "width": 0.5
             },
             "pattern": {
              "fillmode": "overlay",
              "size": 10,
              "solidity": 0.2
             }
            },
            "type": "bar"
           }
          ],
          "barpolar": [
           {
            "marker": {
             "line": {
              "color": "#E5ECF6",
              "width": 0.5
             },
             "pattern": {
              "fillmode": "overlay",
              "size": 10,
              "solidity": 0.2
             }
            },
            "type": "barpolar"
           }
          ],
          "carpet": [
           {
            "aaxis": {
             "endlinecolor": "#2a3f5f",
             "gridcolor": "white",
             "linecolor": "white",
             "minorgridcolor": "white",
             "startlinecolor": "#2a3f5f"
            },
            "baxis": {
             "endlinecolor": "#2a3f5f",
             "gridcolor": "white",
             "linecolor": "white",
             "minorgridcolor": "white",
             "startlinecolor": "#2a3f5f"
            },
            "type": "carpet"
           }
          ],
          "choropleth": [
           {
            "colorbar": {
             "outlinewidth": 0,
             "ticks": ""
            },
            "type": "choropleth"
           }
          ],
          "contour": [
           {
            "colorbar": {
             "outlinewidth": 0,
             "ticks": ""
            },
            "colorscale": [
             [
              0,
              "#0d0887"
             ],
             [
              0.1111111111111111,
              "#46039f"
             ],
             [
              0.2222222222222222,
              "#7201a8"
             ],
             [
              0.3333333333333333,
              "#9c179e"
             ],
             [
              0.4444444444444444,
              "#bd3786"
             ],
             [
              0.5555555555555556,
              "#d8576b"
             ],
             [
              0.6666666666666666,
              "#ed7953"
             ],
             [
              0.7777777777777778,
              "#fb9f3a"
             ],
             [
              0.8888888888888888,
              "#fdca26"
             ],
             [
              1,
              "#f0f921"
             ]
            ],
            "type": "contour"
           }
          ],
          "contourcarpet": [
           {
            "colorbar": {
             "outlinewidth": 0,
             "ticks": ""
            },
            "type": "contourcarpet"
           }
          ],
          "heatmap": [
           {
            "colorbar": {
             "outlinewidth": 0,
             "ticks": ""
            },
            "colorscale": [
             [
              0,
              "#0d0887"
             ],
             [
              0.1111111111111111,
              "#46039f"
             ],
             [
              0.2222222222222222,
              "#7201a8"
             ],
             [
              0.3333333333333333,
              "#9c179e"
             ],
             [
              0.4444444444444444,
              "#bd3786"
             ],
             [
              0.5555555555555556,
              "#d8576b"
             ],
             [
              0.6666666666666666,
              "#ed7953"
             ],
             [
              0.7777777777777778,
              "#fb9f3a"
             ],
             [
              0.8888888888888888,
              "#fdca26"
             ],
             [
              1,
              "#f0f921"
             ]
            ],
            "type": "heatmap"
           }
          ],
          "heatmapgl": [
           {
            "colorbar": {
             "outlinewidth": 0,
             "ticks": ""
            },
            "colorscale": [
             [
              0,
              "#0d0887"
             ],
             [
              0.1111111111111111,
              "#46039f"
             ],
             [
              0.2222222222222222,
              "#7201a8"
             ],
             [
              0.3333333333333333,
              "#9c179e"
             ],
             [
              0.4444444444444444,
              "#bd3786"
             ],
             [
              0.5555555555555556,
              "#d8576b"
             ],
             [
              0.6666666666666666,
              "#ed7953"
             ],
             [
              0.7777777777777778,
              "#fb9f3a"
             ],
             [
              0.8888888888888888,
              "#fdca26"
             ],
             [
              1,
              "#f0f921"
             ]
            ],
            "type": "heatmapgl"
           }
          ],
          "histogram": [
           {
            "marker": {
             "pattern": {
              "fillmode": "overlay",
              "size": 10,
              "solidity": 0.2
             }
            },
            "type": "histogram"
           }
          ],
          "histogram2d": [
           {
            "colorbar": {
             "outlinewidth": 0,
             "ticks": ""
            },
            "colorscale": [
             [
              0,
              "#0d0887"
             ],
             [
              0.1111111111111111,
              "#46039f"
             ],
             [
              0.2222222222222222,
              "#7201a8"
             ],
             [
              0.3333333333333333,
              "#9c179e"
             ],
             [
              0.4444444444444444,
              "#bd3786"
             ],
             [
              0.5555555555555556,
              "#d8576b"
             ],
             [
              0.6666666666666666,
              "#ed7953"
             ],
             [
              0.7777777777777778,
              "#fb9f3a"
             ],
             [
              0.8888888888888888,
              "#fdca26"
             ],
             [
              1,
              "#f0f921"
             ]
            ],
            "type": "histogram2d"
           }
          ],
          "histogram2dcontour": [
           {
            "colorbar": {
             "outlinewidth": 0,
             "ticks": ""
            },
            "colorscale": [
             [
              0,
              "#0d0887"
             ],
             [
              0.1111111111111111,
              "#46039f"
             ],
             [
              0.2222222222222222,
              "#7201a8"
             ],
             [
              0.3333333333333333,
              "#9c179e"
             ],
             [
              0.4444444444444444,
              "#bd3786"
             ],
             [
              0.5555555555555556,
              "#d8576b"
             ],
             [
              0.6666666666666666,
              "#ed7953"
             ],
             [
              0.7777777777777778,
              "#fb9f3a"
             ],
             [
              0.8888888888888888,
              "#fdca26"
             ],
             [
              1,
              "#f0f921"
             ]
            ],
            "type": "histogram2dcontour"
           }
          ],
          "mesh3d": [
           {
            "colorbar": {
             "outlinewidth": 0,
             "ticks": ""
            },
            "type": "mesh3d"
           }
          ],
          "parcoords": [
           {
            "line": {
             "colorbar": {
              "outlinewidth": 0,
              "ticks": ""
             }
            },
            "type": "parcoords"
           }
          ],
          "pie": [
           {
            "automargin": true,
            "type": "pie"
           }
          ],
          "scatter": [
           {
            "fillpattern": {
             "fillmode": "overlay",
             "size": 10,
             "solidity": 0.2
            },
            "type": "scatter"
           }
          ],
          "scatter3d": [
           {
            "line": {
             "colorbar": {
              "outlinewidth": 0,
              "ticks": ""
             }
            },
            "marker": {
             "colorbar": {
              "outlinewidth": 0,
              "ticks": ""
             }
            },
            "type": "scatter3d"
           }
          ],
          "scattercarpet": [
           {
            "marker": {
             "colorbar": {
              "outlinewidth": 0,
              "ticks": ""
             }
            },
            "type": "scattercarpet"
           }
          ],
          "scattergeo": [
           {
            "marker": {
             "colorbar": {
              "outlinewidth": 0,
              "ticks": ""
             }
            },
            "type": "scattergeo"
           }
          ],
          "scattergl": [
           {
            "marker": {
             "colorbar": {
              "outlinewidth": 0,
              "ticks": ""
             }
            },
            "type": "scattergl"
           }
          ],
          "scattermapbox": [
           {
            "marker": {
             "colorbar": {
              "outlinewidth": 0,
              "ticks": ""
             }
            },
            "type": "scattermapbox"
           }
          ],
          "scatterpolar": [
           {
            "marker": {
             "colorbar": {
              "outlinewidth": 0,
              "ticks": ""
             }
            },
            "type": "scatterpolar"
           }
          ],
          "scatterpolargl": [
           {
            "marker": {
             "colorbar": {
              "outlinewidth": 0,
              "ticks": ""
             }
            },
            "type": "scatterpolargl"
           }
          ],
          "scatterternary": [
           {
            "marker": {
             "colorbar": {
              "outlinewidth": 0,
              "ticks": ""
             }
            },
            "type": "scatterternary"
           }
          ],
          "surface": [
           {
            "colorbar": {
             "outlinewidth": 0,
             "ticks": ""
            },
            "colorscale": [
             [
              0,
              "#0d0887"
             ],
             [
              0.1111111111111111,
              "#46039f"
             ],
             [
              0.2222222222222222,
              "#7201a8"
             ],
             [
              0.3333333333333333,
              "#9c179e"
             ],
             [
              0.4444444444444444,
              "#bd3786"
             ],
             [
              0.5555555555555556,
              "#d8576b"
             ],
             [
              0.6666666666666666,
              "#ed7953"
             ],
             [
              0.7777777777777778,
              "#fb9f3a"
             ],
             [
              0.8888888888888888,
              "#fdca26"
             ],
             [
              1,
              "#f0f921"
             ]
            ],
            "type": "surface"
           }
          ],
          "table": [
           {
            "cells": {
             "fill": {
              "color": "#EBF0F8"
             },
             "line": {
              "color": "white"
             }
            },
            "header": {
             "fill": {
              "color": "#C8D4E3"
             },
             "line": {
              "color": "white"
             }
            },
            "type": "table"
           }
          ]
         },
         "layout": {
          "annotationdefaults": {
           "arrowcolor": "#2a3f5f",
           "arrowhead": 0,
           "arrowwidth": 1
          },
          "autotypenumbers": "strict",
          "coloraxis": {
           "colorbar": {
            "outlinewidth": 0,
            "ticks": ""
           }
          },
          "colorscale": {
           "diverging": [
            [
             0,
             "#8e0152"
            ],
            [
             0.1,
             "#c51b7d"
            ],
            [
             0.2,
             "#de77ae"
            ],
            [
             0.3,
             "#f1b6da"
            ],
            [
             0.4,
             "#fde0ef"
            ],
            [
             0.5,
             "#f7f7f7"
            ],
            [
             0.6,
             "#e6f5d0"
            ],
            [
             0.7,
             "#b8e186"
            ],
            [
             0.8,
             "#7fbc41"
            ],
            [
             0.9,
             "#4d9221"
            ],
            [
             1,
             "#276419"
            ]
           ],
           "sequential": [
            [
             0,
             "#0d0887"
            ],
            [
             0.1111111111111111,
             "#46039f"
            ],
            [
             0.2222222222222222,
             "#7201a8"
            ],
            [
             0.3333333333333333,
             "#9c179e"
            ],
            [
             0.4444444444444444,
             "#bd3786"
            ],
            [
             0.5555555555555556,
             "#d8576b"
            ],
            [
             0.6666666666666666,
             "#ed7953"
            ],
            [
             0.7777777777777778,
             "#fb9f3a"
            ],
            [
             0.8888888888888888,
             "#fdca26"
            ],
            [
             1,
             "#f0f921"
            ]
           ],
           "sequentialminus": [
            [
             0,
             "#0d0887"
            ],
            [
             0.1111111111111111,
             "#46039f"
            ],
            [
             0.2222222222222222,
             "#7201a8"
            ],
            [
             0.3333333333333333,
             "#9c179e"
            ],
            [
             0.4444444444444444,
             "#bd3786"
            ],
            [
             0.5555555555555556,
             "#d8576b"
            ],
            [
             0.6666666666666666,
             "#ed7953"
            ],
            [
             0.7777777777777778,
             "#fb9f3a"
            ],
            [
             0.8888888888888888,
             "#fdca26"
            ],
            [
             1,
             "#f0f921"
            ]
           ]
          },
          "colorway": [
           "#636efa",
           "#EF553B",
           "#00cc96",
           "#ab63fa",
           "#FFA15A",
           "#19d3f3",
           "#FF6692",
           "#B6E880",
           "#FF97FF",
           "#FECB52"
          ],
          "font": {
           "color": "#2a3f5f"
          },
          "geo": {
           "bgcolor": "white",
           "lakecolor": "white",
           "landcolor": "#E5ECF6",
           "showlakes": true,
           "showland": true,
           "subunitcolor": "white"
          },
          "hoverlabel": {
           "align": "left"
          },
          "hovermode": "closest",
          "mapbox": {
           "style": "light"
          },
          "paper_bgcolor": "white",
          "plot_bgcolor": "#E5ECF6",
          "polar": {
           "angularaxis": {
            "gridcolor": "white",
            "linecolor": "white",
            "ticks": ""
           },
           "bgcolor": "#E5ECF6",
           "radialaxis": {
            "gridcolor": "white",
            "linecolor": "white",
            "ticks": ""
           }
          },
          "scene": {
           "xaxis": {
            "backgroundcolor": "#E5ECF6",
            "gridcolor": "white",
            "gridwidth": 2,
            "linecolor": "white",
            "showbackground": true,
            "ticks": "",
            "zerolinecolor": "white"
           },
           "yaxis": {
            "backgroundcolor": "#E5ECF6",
            "gridcolor": "white",
            "gridwidth": 2,
            "linecolor": "white",
            "showbackground": true,
            "ticks": "",
            "zerolinecolor": "white"
           },
           "zaxis": {
            "backgroundcolor": "#E5ECF6",
            "gridcolor": "white",
            "gridwidth": 2,
            "linecolor": "white",
            "showbackground": true,
            "ticks": "",
            "zerolinecolor": "white"
           }
          },
          "shapedefaults": {
           "line": {
            "color": "#2a3f5f"
           }
          },
          "ternary": {
           "aaxis": {
            "gridcolor": "white",
            "linecolor": "white",
            "ticks": ""
           },
           "baxis": {
            "gridcolor": "white",
            "linecolor": "white",
            "ticks": ""
           },
           "bgcolor": "#E5ECF6",
           "caxis": {
            "gridcolor": "white",
            "linecolor": "white",
            "ticks": ""
           }
          },
          "title": {
           "x": 0.05
          },
          "xaxis": {
           "automargin": true,
           "gridcolor": "white",
           "linecolor": "white",
           "ticks": "",
           "title": {
            "standoff": 15
           },
           "zerolinecolor": "white",
           "zerolinewidth": 2
          },
          "yaxis": {
           "automargin": true,
           "gridcolor": "white",
           "linecolor": "white",
           "ticks": "",
           "title": {
            "standoff": 15
           },
           "zerolinecolor": "white",
           "zerolinewidth": 2
          }
         }
        },
        "title": {
         "text": "Optimization History Plot"
        },
        "xaxis": {
         "title": {
          "text": "Trial"
         }
        },
        "yaxis": {
         "title": {
          "text": "maf"
         }
        }
       }
      }
     },
     "metadata": {},
     "output_type": "display_data"
    }
   ],
   "source": [
    "plot_optimization_history(lsh_study, target = lambda t: t.values[0], target_name = 'maf')"
   ]
  },
  {
   "cell_type": "code",
   "execution_count": 7,
   "metadata": {},
   "outputs": [
    {
     "data": {
      "application/vnd.plotly.v1+json": {
       "config": {
        "plotlyServerURL": "https://plot.ly"
       },
       "data": [
        {
         "mode": "markers",
         "name": "average_time",
         "type": "scatter",
         "x": [
          0,
          3,
          8,
          9,
          10,
          11,
          13,
          14,
          15,
          16,
          17,
          18,
          19,
          20,
          21,
          22,
          25,
          26,
          27,
          29,
          31,
          32,
          33,
          35,
          37,
          38,
          42,
          43,
          44,
          45,
          48,
          49
         ],
         "y": [
          0.0243802,
          0.07976079999999999,
          0.0270655,
          0.012320499999999998,
          0.0329381,
          0.0395954,
          0.015997599999999997,
          0.04341189999999999,
          0.014918999999999997,
          0.016337499999999998,
          0.0198315,
          0.1119394,
          0.025811700000000003,
          0.020381700000000003,
          0.0297184,
          0.015087800000000002,
          0.0269927,
          0.03317370000000001,
          0.042106899999999996,
          0.010258199999999999,
          0.0114906,
          0.013018400000000003,
          0.026253499999999996,
          0.0591836,
          0.0230468,
          0.018898199999999997,
          0.018993799999999998,
          0.037898600000000005,
          0.0117746,
          0.05462789999999999,
          0.026476500000000004,
          0.0307455
         ]
        },
        {
         "marker": {
          "color": "#cccccc"
         },
         "mode": "markers",
         "name": "Infeasible Trial",
         "showlegend": false,
         "type": "scatter",
         "x": [
          1,
          2,
          4,
          5,
          6,
          7,
          12,
          23,
          24,
          28,
          30,
          34,
          36,
          39,
          40,
          41,
          46,
          47
         ],
         "y": [
          0.12122220000000002,
          0.007027899999999999,
          0.003961299999999999,
          0.005600100000000001,
          0.0089004,
          0.0030543999999999997,
          0.09021780000000001,
          0.0151112,
          0.007914899999999999,
          0.0306925,
          0.0049898,
          0.0060769000000000005,
          0.0297146,
          0.03360300000000001,
          0.016585199999999998,
          0.014567600000000003,
          0.0022863,
          0.0056829
         ]
        }
       ],
       "layout": {
        "template": {
         "data": {
          "bar": [
           {
            "error_x": {
             "color": "#2a3f5f"
            },
            "error_y": {
             "color": "#2a3f5f"
            },
            "marker": {
             "line": {
              "color": "#E5ECF6",
              "width": 0.5
             },
             "pattern": {
              "fillmode": "overlay",
              "size": 10,
              "solidity": 0.2
             }
            },
            "type": "bar"
           }
          ],
          "barpolar": [
           {
            "marker": {
             "line": {
              "color": "#E5ECF6",
              "width": 0.5
             },
             "pattern": {
              "fillmode": "overlay",
              "size": 10,
              "solidity": 0.2
             }
            },
            "type": "barpolar"
           }
          ],
          "carpet": [
           {
            "aaxis": {
             "endlinecolor": "#2a3f5f",
             "gridcolor": "white",
             "linecolor": "white",
             "minorgridcolor": "white",
             "startlinecolor": "#2a3f5f"
            },
            "baxis": {
             "endlinecolor": "#2a3f5f",
             "gridcolor": "white",
             "linecolor": "white",
             "minorgridcolor": "white",
             "startlinecolor": "#2a3f5f"
            },
            "type": "carpet"
           }
          ],
          "choropleth": [
           {
            "colorbar": {
             "outlinewidth": 0,
             "ticks": ""
            },
            "type": "choropleth"
           }
          ],
          "contour": [
           {
            "colorbar": {
             "outlinewidth": 0,
             "ticks": ""
            },
            "colorscale": [
             [
              0,
              "#0d0887"
             ],
             [
              0.1111111111111111,
              "#46039f"
             ],
             [
              0.2222222222222222,
              "#7201a8"
             ],
             [
              0.3333333333333333,
              "#9c179e"
             ],
             [
              0.4444444444444444,
              "#bd3786"
             ],
             [
              0.5555555555555556,
              "#d8576b"
             ],
             [
              0.6666666666666666,
              "#ed7953"
             ],
             [
              0.7777777777777778,
              "#fb9f3a"
             ],
             [
              0.8888888888888888,
              "#fdca26"
             ],
             [
              1,
              "#f0f921"
             ]
            ],
            "type": "contour"
           }
          ],
          "contourcarpet": [
           {
            "colorbar": {
             "outlinewidth": 0,
             "ticks": ""
            },
            "type": "contourcarpet"
           }
          ],
          "heatmap": [
           {
            "colorbar": {
             "outlinewidth": 0,
             "ticks": ""
            },
            "colorscale": [
             [
              0,
              "#0d0887"
             ],
             [
              0.1111111111111111,
              "#46039f"
             ],
             [
              0.2222222222222222,
              "#7201a8"
             ],
             [
              0.3333333333333333,
              "#9c179e"
             ],
             [
              0.4444444444444444,
              "#bd3786"
             ],
             [
              0.5555555555555556,
              "#d8576b"
             ],
             [
              0.6666666666666666,
              "#ed7953"
             ],
             [
              0.7777777777777778,
              "#fb9f3a"
             ],
             [
              0.8888888888888888,
              "#fdca26"
             ],
             [
              1,
              "#f0f921"
             ]
            ],
            "type": "heatmap"
           }
          ],
          "heatmapgl": [
           {
            "colorbar": {
             "outlinewidth": 0,
             "ticks": ""
            },
            "colorscale": [
             [
              0,
              "#0d0887"
             ],
             [
              0.1111111111111111,
              "#46039f"
             ],
             [
              0.2222222222222222,
              "#7201a8"
             ],
             [
              0.3333333333333333,
              "#9c179e"
             ],
             [
              0.4444444444444444,
              "#bd3786"
             ],
             [
              0.5555555555555556,
              "#d8576b"
             ],
             [
              0.6666666666666666,
              "#ed7953"
             ],
             [
              0.7777777777777778,
              "#fb9f3a"
             ],
             [
              0.8888888888888888,
              "#fdca26"
             ],
             [
              1,
              "#f0f921"
             ]
            ],
            "type": "heatmapgl"
           }
          ],
          "histogram": [
           {
            "marker": {
             "pattern": {
              "fillmode": "overlay",
              "size": 10,
              "solidity": 0.2
             }
            },
            "type": "histogram"
           }
          ],
          "histogram2d": [
           {
            "colorbar": {
             "outlinewidth": 0,
             "ticks": ""
            },
            "colorscale": [
             [
              0,
              "#0d0887"
             ],
             [
              0.1111111111111111,
              "#46039f"
             ],
             [
              0.2222222222222222,
              "#7201a8"
             ],
             [
              0.3333333333333333,
              "#9c179e"
             ],
             [
              0.4444444444444444,
              "#bd3786"
             ],
             [
              0.5555555555555556,
              "#d8576b"
             ],
             [
              0.6666666666666666,
              "#ed7953"
             ],
             [
              0.7777777777777778,
              "#fb9f3a"
             ],
             [
              0.8888888888888888,
              "#fdca26"
             ],
             [
              1,
              "#f0f921"
             ]
            ],
            "type": "histogram2d"
           }
          ],
          "histogram2dcontour": [
           {
            "colorbar": {
             "outlinewidth": 0,
             "ticks": ""
            },
            "colorscale": [
             [
              0,
              "#0d0887"
             ],
             [
              0.1111111111111111,
              "#46039f"
             ],
             [
              0.2222222222222222,
              "#7201a8"
             ],
             [
              0.3333333333333333,
              "#9c179e"
             ],
             [
              0.4444444444444444,
              "#bd3786"
             ],
             [
              0.5555555555555556,
              "#d8576b"
             ],
             [
              0.6666666666666666,
              "#ed7953"
             ],
             [
              0.7777777777777778,
              "#fb9f3a"
             ],
             [
              0.8888888888888888,
              "#fdca26"
             ],
             [
              1,
              "#f0f921"
             ]
            ],
            "type": "histogram2dcontour"
           }
          ],
          "mesh3d": [
           {
            "colorbar": {
             "outlinewidth": 0,
             "ticks": ""
            },
            "type": "mesh3d"
           }
          ],
          "parcoords": [
           {
            "line": {
             "colorbar": {
              "outlinewidth": 0,
              "ticks": ""
             }
            },
            "type": "parcoords"
           }
          ],
          "pie": [
           {
            "automargin": true,
            "type": "pie"
           }
          ],
          "scatter": [
           {
            "fillpattern": {
             "fillmode": "overlay",
             "size": 10,
             "solidity": 0.2
            },
            "type": "scatter"
           }
          ],
          "scatter3d": [
           {
            "line": {
             "colorbar": {
              "outlinewidth": 0,
              "ticks": ""
             }
            },
            "marker": {
             "colorbar": {
              "outlinewidth": 0,
              "ticks": ""
             }
            },
            "type": "scatter3d"
           }
          ],
          "scattercarpet": [
           {
            "marker": {
             "colorbar": {
              "outlinewidth": 0,
              "ticks": ""
             }
            },
            "type": "scattercarpet"
           }
          ],
          "scattergeo": [
           {
            "marker": {
             "colorbar": {
              "outlinewidth": 0,
              "ticks": ""
             }
            },
            "type": "scattergeo"
           }
          ],
          "scattergl": [
           {
            "marker": {
             "colorbar": {
              "outlinewidth": 0,
              "ticks": ""
             }
            },
            "type": "scattergl"
           }
          ],
          "scattermapbox": [
           {
            "marker": {
             "colorbar": {
              "outlinewidth": 0,
              "ticks": ""
             }
            },
            "type": "scattermapbox"
           }
          ],
          "scatterpolar": [
           {
            "marker": {
             "colorbar": {
              "outlinewidth": 0,
              "ticks": ""
             }
            },
            "type": "scatterpolar"
           }
          ],
          "scatterpolargl": [
           {
            "marker": {
             "colorbar": {
              "outlinewidth": 0,
              "ticks": ""
             }
            },
            "type": "scatterpolargl"
           }
          ],
          "scatterternary": [
           {
            "marker": {
             "colorbar": {
              "outlinewidth": 0,
              "ticks": ""
             }
            },
            "type": "scatterternary"
           }
          ],
          "surface": [
           {
            "colorbar": {
             "outlinewidth": 0,
             "ticks": ""
            },
            "colorscale": [
             [
              0,
              "#0d0887"
             ],
             [
              0.1111111111111111,
              "#46039f"
             ],
             [
              0.2222222222222222,
              "#7201a8"
             ],
             [
              0.3333333333333333,
              "#9c179e"
             ],
             [
              0.4444444444444444,
              "#bd3786"
             ],
             [
              0.5555555555555556,
              "#d8576b"
             ],
             [
              0.6666666666666666,
              "#ed7953"
             ],
             [
              0.7777777777777778,
              "#fb9f3a"
             ],
             [
              0.8888888888888888,
              "#fdca26"
             ],
             [
              1,
              "#f0f921"
             ]
            ],
            "type": "surface"
           }
          ],
          "table": [
           {
            "cells": {
             "fill": {
              "color": "#EBF0F8"
             },
             "line": {
              "color": "white"
             }
            },
            "header": {
             "fill": {
              "color": "#C8D4E3"
             },
             "line": {
              "color": "white"
             }
            },
            "type": "table"
           }
          ]
         },
         "layout": {
          "annotationdefaults": {
           "arrowcolor": "#2a3f5f",
           "arrowhead": 0,
           "arrowwidth": 1
          },
          "autotypenumbers": "strict",
          "coloraxis": {
           "colorbar": {
            "outlinewidth": 0,
            "ticks": ""
           }
          },
          "colorscale": {
           "diverging": [
            [
             0,
             "#8e0152"
            ],
            [
             0.1,
             "#c51b7d"
            ],
            [
             0.2,
             "#de77ae"
            ],
            [
             0.3,
             "#f1b6da"
            ],
            [
             0.4,
             "#fde0ef"
            ],
            [
             0.5,
             "#f7f7f7"
            ],
            [
             0.6,
             "#e6f5d0"
            ],
            [
             0.7,
             "#b8e186"
            ],
            [
             0.8,
             "#7fbc41"
            ],
            [
             0.9,
             "#4d9221"
            ],
            [
             1,
             "#276419"
            ]
           ],
           "sequential": [
            [
             0,
             "#0d0887"
            ],
            [
             0.1111111111111111,
             "#46039f"
            ],
            [
             0.2222222222222222,
             "#7201a8"
            ],
            [
             0.3333333333333333,
             "#9c179e"
            ],
            [
             0.4444444444444444,
             "#bd3786"
            ],
            [
             0.5555555555555556,
             "#d8576b"
            ],
            [
             0.6666666666666666,
             "#ed7953"
            ],
            [
             0.7777777777777778,
             "#fb9f3a"
            ],
            [
             0.8888888888888888,
             "#fdca26"
            ],
            [
             1,
             "#f0f921"
            ]
           ],
           "sequentialminus": [
            [
             0,
             "#0d0887"
            ],
            [
             0.1111111111111111,
             "#46039f"
            ],
            [
             0.2222222222222222,
             "#7201a8"
            ],
            [
             0.3333333333333333,
             "#9c179e"
            ],
            [
             0.4444444444444444,
             "#bd3786"
            ],
            [
             0.5555555555555556,
             "#d8576b"
            ],
            [
             0.6666666666666666,
             "#ed7953"
            ],
            [
             0.7777777777777778,
             "#fb9f3a"
            ],
            [
             0.8888888888888888,
             "#fdca26"
            ],
            [
             1,
             "#f0f921"
            ]
           ]
          },
          "colorway": [
           "#636efa",
           "#EF553B",
           "#00cc96",
           "#ab63fa",
           "#FFA15A",
           "#19d3f3",
           "#FF6692",
           "#B6E880",
           "#FF97FF",
           "#FECB52"
          ],
          "font": {
           "color": "#2a3f5f"
          },
          "geo": {
           "bgcolor": "white",
           "lakecolor": "white",
           "landcolor": "#E5ECF6",
           "showlakes": true,
           "showland": true,
           "subunitcolor": "white"
          },
          "hoverlabel": {
           "align": "left"
          },
          "hovermode": "closest",
          "mapbox": {
           "style": "light"
          },
          "paper_bgcolor": "white",
          "plot_bgcolor": "#E5ECF6",
          "polar": {
           "angularaxis": {
            "gridcolor": "white",
            "linecolor": "white",
            "ticks": ""
           },
           "bgcolor": "#E5ECF6",
           "radialaxis": {
            "gridcolor": "white",
            "linecolor": "white",
            "ticks": ""
           }
          },
          "scene": {
           "xaxis": {
            "backgroundcolor": "#E5ECF6",
            "gridcolor": "white",
            "gridwidth": 2,
            "linecolor": "white",
            "showbackground": true,
            "ticks": "",
            "zerolinecolor": "white"
           },
           "yaxis": {
            "backgroundcolor": "#E5ECF6",
            "gridcolor": "white",
            "gridwidth": 2,
            "linecolor": "white",
            "showbackground": true,
            "ticks": "",
            "zerolinecolor": "white"
           },
           "zaxis": {
            "backgroundcolor": "#E5ECF6",
            "gridcolor": "white",
            "gridwidth": 2,
            "linecolor": "white",
            "showbackground": true,
            "ticks": "",
            "zerolinecolor": "white"
           }
          },
          "shapedefaults": {
           "line": {
            "color": "#2a3f5f"
           }
          },
          "ternary": {
           "aaxis": {
            "gridcolor": "white",
            "linecolor": "white",
            "ticks": ""
           },
           "baxis": {
            "gridcolor": "white",
            "linecolor": "white",
            "ticks": ""
           },
           "bgcolor": "#E5ECF6",
           "caxis": {
            "gridcolor": "white",
            "linecolor": "white",
            "ticks": ""
           }
          },
          "title": {
           "x": 0.05
          },
          "xaxis": {
           "automargin": true,
           "gridcolor": "white",
           "linecolor": "white",
           "ticks": "",
           "title": {
            "standoff": 15
           },
           "zerolinecolor": "white",
           "zerolinewidth": 2
          },
          "yaxis": {
           "automargin": true,
           "gridcolor": "white",
           "linecolor": "white",
           "ticks": "",
           "title": {
            "standoff": 15
           },
           "zerolinecolor": "white",
           "zerolinewidth": 2
          }
         }
        },
        "title": {
         "text": "Optimization History Plot"
        },
        "xaxis": {
         "title": {
          "text": "Trial"
         }
        },
        "yaxis": {
         "title": {
          "text": "average_time"
         }
        }
       }
      }
     },
     "metadata": {},
     "output_type": "display_data"
    }
   ],
   "source": [
    "plot_optimization_history(lsh_study, target = lambda t: t.values[1], target_name = 'average_time')"
   ]
  },
  {
   "cell_type": "code",
   "execution_count": 8,
   "metadata": {},
   "outputs": [
    {
     "data": {
      "application/vnd.plotly.v1+json": {
       "config": {
        "plotlyServerURL": "https://plot.ly"
       },
       "data": [
        {
         "marker": {
          "color": [
           0,
           3,
           8,
           9,
           10,
           11,
           13,
           14,
           15,
           16,
           17,
           18,
           19,
           20,
           21,
           22,
           25,
           26,
           27,
           29,
           31,
           32,
           33,
           35,
           37,
           38,
           42,
           43,
           44,
           45,
           48,
           49
          ],
          "colorbar": {
           "title": {
            "text": "Trial"
           },
           "x": 1,
           "xpad": 40
          },
          "colorscale": [
           [
            0,
            "rgb(247,251,255)"
           ],
           [
            0.125,
            "rgb(222,235,247)"
           ],
           [
            0.25,
            "rgb(198,219,239)"
           ],
           [
            0.375,
            "rgb(158,202,225)"
           ],
           [
            0.5,
            "rgb(107,174,214)"
           ],
           [
            0.625,
            "rgb(66,146,198)"
           ],
           [
            0.75,
            "rgb(33,113,181)"
           ],
           [
            0.875,
            "rgb(8,81,156)"
           ],
           [
            1,
            "rgb(8,48,107)"
           ]
          ],
          "line": {
           "color": "Grey",
           "width": 0.5
          },
          "showscale": true
         },
         "mode": "markers",
         "name": "Feasible Trial",
         "showlegend": false,
         "type": "scatter",
         "x": [
          8,
          2,
          7,
          8,
          8,
          8,
          8,
          8,
          7,
          9,
          10,
          4,
          9,
          10,
          9,
          10,
          8,
          9,
          8,
          7,
          7,
          8,
          7,
          5,
          9,
          9,
          3,
          7,
          4,
          6,
          3,
          3
         ],
         "xaxis": "x",
         "y": [
          1.080364582352079,
          1,
          1.0420599285261567,
          1.2110632961772163,
          1.002165328536009,
          1,
          1.0321793208286714,
          1.0465455186971557,
          1.1057644437514855,
          1,
          1.0082405284173985,
          1.0021869427020387,
          1.0420599285261567,
          1.0082405284173985,
          1.0133823946374938,
          1.0731426240992046,
          1.0157882471647894,
          1.0067442093997296,
          1.0137168184960912,
          1.0587482766730139,
          1.105800450222981,
          1.0216960906741979,
          1.0680324904540728,
          1.0289915385376895,
          1.0459532492564916,
          1.0336982910148735,
          1.056525828982375,
          1.0662411358705246,
          1.1475147381541393,
          1,
          1.0231951143066242,
          1.0691484011761487
         ],
         "yaxis": "y"
        },
        {
         "marker": {
          "color": "#cccccc"
         },
         "mode": "markers",
         "name": "Infeasible Trial",
         "showlegend": false,
         "type": "scatter",
         "x": [
          4,
          8,
          6,
          10,
          8,
          2,
          8,
          9,
          8,
          9,
          6,
          7,
          6,
          9,
          9,
          7,
          2,
          3
         ],
         "xaxis": "x",
         "y": [
          1.0021869427020387,
          1.0853808565478453,
          1.2516558813821272,
          1.152720110142579,
          1.0994925878918311,
          1.4481826767241175,
          1.0067442093997296,
          1.0591163234817103,
          1.127284887816208,
          1.004813609368143,
          1.1304640990738282,
          1.2820877231533065,
          1.0021869427020387,
          1.009275668827158,
          1.0356523434986677,
          1.071403940843027,
          1.2254991789587089,
          1.5629395108546382
         ],
         "yaxis": "y"
        },
        {
         "marker": {
          "color": [
           0,
           3,
           8,
           9,
           10,
           11,
           13,
           14,
           15,
           16,
           17,
           18,
           19,
           20,
           21,
           22,
           25,
           26,
           27,
           29,
           31,
           32,
           33,
           35,
           37,
           38,
           42,
           43,
           44,
           45,
           48,
           49
          ],
          "colorbar": {
           "title": {
            "text": "Trial"
           },
           "x": 1,
           "xpad": 40
          },
          "colorscale": [
           [
            0,
            "rgb(247,251,255)"
           ],
           [
            0.125,
            "rgb(222,235,247)"
           ],
           [
            0.25,
            "rgb(198,219,239)"
           ],
           [
            0.375,
            "rgb(158,202,225)"
           ],
           [
            0.5,
            "rgb(107,174,214)"
           ],
           [
            0.625,
            "rgb(66,146,198)"
           ],
           [
            0.75,
            "rgb(33,113,181)"
           ],
           [
            0.875,
            "rgb(8,81,156)"
           ],
           [
            1,
            "rgb(8,48,107)"
           ]
          ],
          "line": {
           "color": "Grey",
           "width": 0.5
          },
          "showscale": false
         },
         "mode": "markers",
         "name": "Feasible Trial",
         "showlegend": false,
         "type": "scatter",
         "x": [
          6,
          2,
          7,
          8,
          9,
          7,
          10,
          8,
          10,
          10,
          10,
          2,
          9,
          10,
          10,
          10,
          7,
          7,
          7,
          9,
          9,
          9,
          9,
          5,
          10,
          10,
          6,
          6,
          7,
          6,
          6,
          5
         ],
         "xaxis": "x2",
         "y": [
          1.080364582352079,
          1,
          1.0420599285261567,
          1.2110632961772163,
          1.002165328536009,
          1,
          1.0321793208286714,
          1.0465455186971557,
          1.1057644437514855,
          1,
          1.0082405284173985,
          1.0021869427020387,
          1.0420599285261567,
          1.0082405284173985,
          1.0133823946374938,
          1.0731426240992046,
          1.0157882471647894,
          1.0067442093997296,
          1.0137168184960912,
          1.0587482766730139,
          1.105800450222981,
          1.0216960906741979,
          1.0680324904540728,
          1.0289915385376895,
          1.0459532492564916,
          1.0336982910148735,
          1.056525828982375,
          1.0662411358705246,
          1.1475147381541393,
          1,
          1.0231951143066242,
          1.0691484011761487
         ],
         "yaxis": "y2"
        },
        {
         "marker": {
          "color": "#cccccc"
         },
         "mode": "markers",
         "name": "Infeasible Trial",
         "showlegend": false,
         "type": "scatter",
         "x": [
          5,
          7,
          6,
          6,
          9,
          6,
          8,
          10,
          10,
          7,
          9,
          9,
          6,
          10,
          9,
          9,
          8,
          7
         ],
         "xaxis": "x2",
         "y": [
          1.0021869427020387,
          1.0853808565478453,
          1.2516558813821272,
          1.152720110142579,
          1.0994925878918311,
          1.4481826767241175,
          1.0067442093997296,
          1.0591163234817103,
          1.127284887816208,
          1.004813609368143,
          1.1304640990738282,
          1.2820877231533065,
          1.0021869427020387,
          1.009275668827158,
          1.0356523434986677,
          1.071403940843027,
          1.2254991789587089,
          1.5629395108546382
         ],
         "yaxis": "y2"
        },
        {
         "marker": {
          "color": [
           0,
           3,
           8,
           9,
           10,
           11,
           13,
           14,
           15,
           16,
           17,
           18,
           19,
           20,
           21,
           22,
           25,
           26,
           27,
           29,
           31,
           32,
           33,
           35,
           37,
           38,
           42,
           43,
           44,
           45,
           48,
           49
          ],
          "colorbar": {
           "title": {
            "text": "Trial"
           },
           "x": 1,
           "xpad": 40
          },
          "colorscale": [
           [
            0,
            "rgb(247,251,255)"
           ],
           [
            0.125,
            "rgb(222,235,247)"
           ],
           [
            0.25,
            "rgb(198,219,239)"
           ],
           [
            0.375,
            "rgb(158,202,225)"
           ],
           [
            0.5,
            "rgb(107,174,214)"
           ],
           [
            0.625,
            "rgb(66,146,198)"
           ],
           [
            0.75,
            "rgb(33,113,181)"
           ],
           [
            0.875,
            "rgb(8,81,156)"
           ],
           [
            1,
            "rgb(8,48,107)"
           ]
          ],
          "line": {
           "color": "Grey",
           "width": 0.5
          },
          "showscale": false
         },
         "mode": "markers",
         "name": "Feasible Trial",
         "showlegend": false,
         "type": "scatter",
         "x": [
          15000,
          15000,
          15000,
          15000,
          15000,
          15000,
          15000,
          15000,
          15000,
          15000,
          15000,
          15000,
          15000,
          15000,
          15000,
          15000,
          15000,
          15000,
          15000,
          15000,
          15000,
          15000,
          15000,
          15000,
          15000,
          15000,
          15000,
          15000,
          15000,
          15000,
          15000,
          15000
         ],
         "xaxis": "x3",
         "y": [
          1.080364582352079,
          1,
          1.0420599285261567,
          1.2110632961772163,
          1.002165328536009,
          1,
          1.0321793208286714,
          1.0465455186971557,
          1.1057644437514855,
          1,
          1.0082405284173985,
          1.0021869427020387,
          1.0420599285261567,
          1.0082405284173985,
          1.0133823946374938,
          1.0731426240992046,
          1.0157882471647894,
          1.0067442093997296,
          1.0137168184960912,
          1.0587482766730139,
          1.105800450222981,
          1.0216960906741979,
          1.0680324904540728,
          1.0289915385376895,
          1.0459532492564916,
          1.0336982910148735,
          1.056525828982375,
          1.0662411358705246,
          1.1475147381541393,
          1,
          1.0231951143066242,
          1.0691484011761487
         ],
         "yaxis": "y3"
        },
        {
         "marker": {
          "color": "#cccccc"
         },
         "mode": "markers",
         "name": "Infeasible Trial",
         "showlegend": false,
         "type": "scatter",
         "x": [
          7500,
          15000,
          15000,
          15000,
          15000,
          15000,
          15000,
          15000,
          15000,
          15000,
          15000,
          15000,
          15000,
          15000,
          15000,
          15000,
          15000,
          15000
         ],
         "xaxis": "x3",
         "y": [
          1.0021869427020387,
          1.0853808565478453,
          1.2516558813821272,
          1.152720110142579,
          1.0994925878918311,
          1.4481826767241175,
          1.0067442093997296,
          1.0591163234817103,
          1.127284887816208,
          1.004813609368143,
          1.1304640990738282,
          1.2820877231533065,
          1.0021869427020387,
          1.009275668827158,
          1.0356523434986677,
          1.071403940843027,
          1.2254991789587089,
          1.5629395108546382
         ],
         "yaxis": "y3"
        },
        {
         "marker": {
          "color": [
           0,
           3,
           8,
           9,
           10,
           11,
           13,
           14,
           15,
           16,
           17,
           18,
           19,
           20,
           21,
           22,
           25,
           26,
           27,
           29,
           31,
           32,
           33,
           35,
           37,
           38,
           42,
           43,
           44,
           45,
           48,
           49
          ],
          "colorbar": {
           "title": {
            "text": "Trial"
           },
           "x": 1,
           "xpad": 40
          },
          "colorscale": [
           [
            0,
            "rgb(247,251,255)"
           ],
           [
            0.125,
            "rgb(222,235,247)"
           ],
           [
            0.25,
            "rgb(198,219,239)"
           ],
           [
            0.375,
            "rgb(158,202,225)"
           ],
           [
            0.5,
            "rgb(107,174,214)"
           ],
           [
            0.625,
            "rgb(66,146,198)"
           ],
           [
            0.75,
            "rgb(33,113,181)"
           ],
           [
            0.875,
            "rgb(8,81,156)"
           ],
           [
            1,
            "rgb(8,48,107)"
           ]
          ],
          "line": {
           "color": "Grey",
           "width": 0.5
          },
          "showscale": false
         },
         "mode": "markers",
         "name": "Feasible Trial",
         "showlegend": false,
         "type": "scatter",
         "x": [
          2171,
          2673,
          2417,
          2138,
          3328,
          3222,
          3103,
          2997,
          2965,
          2908,
          3153,
          1634,
          3168,
          2987,
          3017,
          2912,
          2573,
          2668,
          2725,
          2594,
          2643,
          2644,
          2705,
          2785,
          2962,
          3022,
          2520,
          2597,
          2638,
          2583,
          2910,
          2627
         ],
         "xaxis": "x4",
         "y": [
          1.080364582352079,
          1,
          1.0420599285261567,
          1.2110632961772163,
          1.002165328536009,
          1,
          1.0321793208286714,
          1.0465455186971557,
          1.1057644437514855,
          1,
          1.0082405284173985,
          1.0021869427020387,
          1.0420599285261567,
          1.0082405284173985,
          1.0133823946374938,
          1.0731426240992046,
          1.0157882471647894,
          1.0067442093997296,
          1.0137168184960912,
          1.0587482766730139,
          1.105800450222981,
          1.0216960906741979,
          1.0680324904540728,
          1.0289915385376895,
          1.0459532492564916,
          1.0336982910148735,
          1.056525828982375,
          1.0662411358705246,
          1.1475147381541393,
          1,
          1.0231951143066242,
          1.0691484011761487
         ],
         "yaxis": "y4"
        },
        {
         "marker": {
          "color": "#cccccc"
         },
         "mode": "markers",
         "name": "Infeasible Trial",
         "showlegend": false,
         "type": "scatter",
         "x": [
          4599,
          1878,
          1492,
          1487,
          2478,
          1494,
          3785,
          3057,
          2613,
          2686,
          2399,
          2262,
          2604,
          3376,
          2822,
          2671,
          2389,
          2356
         ],
         "xaxis": "x4",
         "y": [
          1.0021869427020387,
          1.0853808565478453,
          1.2516558813821272,
          1.152720110142579,
          1.0994925878918311,
          1.4481826767241175,
          1.0067442093997296,
          1.0591163234817103,
          1.127284887816208,
          1.004813609368143,
          1.1304640990738282,
          1.2820877231533065,
          1.0021869427020387,
          1.009275668827158,
          1.0356523434986677,
          1.071403940843027,
          1.2254991789587089,
          1.5629395108546382
         ],
         "yaxis": "y4"
        }
       ],
       "layout": {
        "template": {
         "data": {
          "bar": [
           {
            "error_x": {
             "color": "#2a3f5f"
            },
            "error_y": {
             "color": "#2a3f5f"
            },
            "marker": {
             "line": {
              "color": "#E5ECF6",
              "width": 0.5
             },
             "pattern": {
              "fillmode": "overlay",
              "size": 10,
              "solidity": 0.2
             }
            },
            "type": "bar"
           }
          ],
          "barpolar": [
           {
            "marker": {
             "line": {
              "color": "#E5ECF6",
              "width": 0.5
             },
             "pattern": {
              "fillmode": "overlay",
              "size": 10,
              "solidity": 0.2
             }
            },
            "type": "barpolar"
           }
          ],
          "carpet": [
           {
            "aaxis": {
             "endlinecolor": "#2a3f5f",
             "gridcolor": "white",
             "linecolor": "white",
             "minorgridcolor": "white",
             "startlinecolor": "#2a3f5f"
            },
            "baxis": {
             "endlinecolor": "#2a3f5f",
             "gridcolor": "white",
             "linecolor": "white",
             "minorgridcolor": "white",
             "startlinecolor": "#2a3f5f"
            },
            "type": "carpet"
           }
          ],
          "choropleth": [
           {
            "colorbar": {
             "outlinewidth": 0,
             "ticks": ""
            },
            "type": "choropleth"
           }
          ],
          "contour": [
           {
            "colorbar": {
             "outlinewidth": 0,
             "ticks": ""
            },
            "colorscale": [
             [
              0,
              "#0d0887"
             ],
             [
              0.1111111111111111,
              "#46039f"
             ],
             [
              0.2222222222222222,
              "#7201a8"
             ],
             [
              0.3333333333333333,
              "#9c179e"
             ],
             [
              0.4444444444444444,
              "#bd3786"
             ],
             [
              0.5555555555555556,
              "#d8576b"
             ],
             [
              0.6666666666666666,
              "#ed7953"
             ],
             [
              0.7777777777777778,
              "#fb9f3a"
             ],
             [
              0.8888888888888888,
              "#fdca26"
             ],
             [
              1,
              "#f0f921"
             ]
            ],
            "type": "contour"
           }
          ],
          "contourcarpet": [
           {
            "colorbar": {
             "outlinewidth": 0,
             "ticks": ""
            },
            "type": "contourcarpet"
           }
          ],
          "heatmap": [
           {
            "colorbar": {
             "outlinewidth": 0,
             "ticks": ""
            },
            "colorscale": [
             [
              0,
              "#0d0887"
             ],
             [
              0.1111111111111111,
              "#46039f"
             ],
             [
              0.2222222222222222,
              "#7201a8"
             ],
             [
              0.3333333333333333,
              "#9c179e"
             ],
             [
              0.4444444444444444,
              "#bd3786"
             ],
             [
              0.5555555555555556,
              "#d8576b"
             ],
             [
              0.6666666666666666,
              "#ed7953"
             ],
             [
              0.7777777777777778,
              "#fb9f3a"
             ],
             [
              0.8888888888888888,
              "#fdca26"
             ],
             [
              1,
              "#f0f921"
             ]
            ],
            "type": "heatmap"
           }
          ],
          "heatmapgl": [
           {
            "colorbar": {
             "outlinewidth": 0,
             "ticks": ""
            },
            "colorscale": [
             [
              0,
              "#0d0887"
             ],
             [
              0.1111111111111111,
              "#46039f"
             ],
             [
              0.2222222222222222,
              "#7201a8"
             ],
             [
              0.3333333333333333,
              "#9c179e"
             ],
             [
              0.4444444444444444,
              "#bd3786"
             ],
             [
              0.5555555555555556,
              "#d8576b"
             ],
             [
              0.6666666666666666,
              "#ed7953"
             ],
             [
              0.7777777777777778,
              "#fb9f3a"
             ],
             [
              0.8888888888888888,
              "#fdca26"
             ],
             [
              1,
              "#f0f921"
             ]
            ],
            "type": "heatmapgl"
           }
          ],
          "histogram": [
           {
            "marker": {
             "pattern": {
              "fillmode": "overlay",
              "size": 10,
              "solidity": 0.2
             }
            },
            "type": "histogram"
           }
          ],
          "histogram2d": [
           {
            "colorbar": {
             "outlinewidth": 0,
             "ticks": ""
            },
            "colorscale": [
             [
              0,
              "#0d0887"
             ],
             [
              0.1111111111111111,
              "#46039f"
             ],
             [
              0.2222222222222222,
              "#7201a8"
             ],
             [
              0.3333333333333333,
              "#9c179e"
             ],
             [
              0.4444444444444444,
              "#bd3786"
             ],
             [
              0.5555555555555556,
              "#d8576b"
             ],
             [
              0.6666666666666666,
              "#ed7953"
             ],
             [
              0.7777777777777778,
              "#fb9f3a"
             ],
             [
              0.8888888888888888,
              "#fdca26"
             ],
             [
              1,
              "#f0f921"
             ]
            ],
            "type": "histogram2d"
           }
          ],
          "histogram2dcontour": [
           {
            "colorbar": {
             "outlinewidth": 0,
             "ticks": ""
            },
            "colorscale": [
             [
              0,
              "#0d0887"
             ],
             [
              0.1111111111111111,
              "#46039f"
             ],
             [
              0.2222222222222222,
              "#7201a8"
             ],
             [
              0.3333333333333333,
              "#9c179e"
             ],
             [
              0.4444444444444444,
              "#bd3786"
             ],
             [
              0.5555555555555556,
              "#d8576b"
             ],
             [
              0.6666666666666666,
              "#ed7953"
             ],
             [
              0.7777777777777778,
              "#fb9f3a"
             ],
             [
              0.8888888888888888,
              "#fdca26"
             ],
             [
              1,
              "#f0f921"
             ]
            ],
            "type": "histogram2dcontour"
           }
          ],
          "mesh3d": [
           {
            "colorbar": {
             "outlinewidth": 0,
             "ticks": ""
            },
            "type": "mesh3d"
           }
          ],
          "parcoords": [
           {
            "line": {
             "colorbar": {
              "outlinewidth": 0,
              "ticks": ""
             }
            },
            "type": "parcoords"
           }
          ],
          "pie": [
           {
            "automargin": true,
            "type": "pie"
           }
          ],
          "scatter": [
           {
            "fillpattern": {
             "fillmode": "overlay",
             "size": 10,
             "solidity": 0.2
            },
            "type": "scatter"
           }
          ],
          "scatter3d": [
           {
            "line": {
             "colorbar": {
              "outlinewidth": 0,
              "ticks": ""
             }
            },
            "marker": {
             "colorbar": {
              "outlinewidth": 0,
              "ticks": ""
             }
            },
            "type": "scatter3d"
           }
          ],
          "scattercarpet": [
           {
            "marker": {
             "colorbar": {
              "outlinewidth": 0,
              "ticks": ""
             }
            },
            "type": "scattercarpet"
           }
          ],
          "scattergeo": [
           {
            "marker": {
             "colorbar": {
              "outlinewidth": 0,
              "ticks": ""
             }
            },
            "type": "scattergeo"
           }
          ],
          "scattergl": [
           {
            "marker": {
             "colorbar": {
              "outlinewidth": 0,
              "ticks": ""
             }
            },
            "type": "scattergl"
           }
          ],
          "scattermapbox": [
           {
            "marker": {
             "colorbar": {
              "outlinewidth": 0,
              "ticks": ""
             }
            },
            "type": "scattermapbox"
           }
          ],
          "scatterpolar": [
           {
            "marker": {
             "colorbar": {
              "outlinewidth": 0,
              "ticks": ""
             }
            },
            "type": "scatterpolar"
           }
          ],
          "scatterpolargl": [
           {
            "marker": {
             "colorbar": {
              "outlinewidth": 0,
              "ticks": ""
             }
            },
            "type": "scatterpolargl"
           }
          ],
          "scatterternary": [
           {
            "marker": {
             "colorbar": {
              "outlinewidth": 0,
              "ticks": ""
             }
            },
            "type": "scatterternary"
           }
          ],
          "surface": [
           {
            "colorbar": {
             "outlinewidth": 0,
             "ticks": ""
            },
            "colorscale": [
             [
              0,
              "#0d0887"
             ],
             [
              0.1111111111111111,
              "#46039f"
             ],
             [
              0.2222222222222222,
              "#7201a8"
             ],
             [
              0.3333333333333333,
              "#9c179e"
             ],
             [
              0.4444444444444444,
              "#bd3786"
             ],
             [
              0.5555555555555556,
              "#d8576b"
             ],
             [
              0.6666666666666666,
              "#ed7953"
             ],
             [
              0.7777777777777778,
              "#fb9f3a"
             ],
             [
              0.8888888888888888,
              "#fdca26"
             ],
             [
              1,
              "#f0f921"
             ]
            ],
            "type": "surface"
           }
          ],
          "table": [
           {
            "cells": {
             "fill": {
              "color": "#EBF0F8"
             },
             "line": {
              "color": "white"
             }
            },
            "header": {
             "fill": {
              "color": "#C8D4E3"
             },
             "line": {
              "color": "white"
             }
            },
            "type": "table"
           }
          ]
         },
         "layout": {
          "annotationdefaults": {
           "arrowcolor": "#2a3f5f",
           "arrowhead": 0,
           "arrowwidth": 1
          },
          "autotypenumbers": "strict",
          "coloraxis": {
           "colorbar": {
            "outlinewidth": 0,
            "ticks": ""
           }
          },
          "colorscale": {
           "diverging": [
            [
             0,
             "#8e0152"
            ],
            [
             0.1,
             "#c51b7d"
            ],
            [
             0.2,
             "#de77ae"
            ],
            [
             0.3,
             "#f1b6da"
            ],
            [
             0.4,
             "#fde0ef"
            ],
            [
             0.5,
             "#f7f7f7"
            ],
            [
             0.6,
             "#e6f5d0"
            ],
            [
             0.7,
             "#b8e186"
            ],
            [
             0.8,
             "#7fbc41"
            ],
            [
             0.9,
             "#4d9221"
            ],
            [
             1,
             "#276419"
            ]
           ],
           "sequential": [
            [
             0,
             "#0d0887"
            ],
            [
             0.1111111111111111,
             "#46039f"
            ],
            [
             0.2222222222222222,
             "#7201a8"
            ],
            [
             0.3333333333333333,
             "#9c179e"
            ],
            [
             0.4444444444444444,
             "#bd3786"
            ],
            [
             0.5555555555555556,
             "#d8576b"
            ],
            [
             0.6666666666666666,
             "#ed7953"
            ],
            [
             0.7777777777777778,
             "#fb9f3a"
            ],
            [
             0.8888888888888888,
             "#fdca26"
            ],
            [
             1,
             "#f0f921"
            ]
           ],
           "sequentialminus": [
            [
             0,
             "#0d0887"
            ],
            [
             0.1111111111111111,
             "#46039f"
            ],
            [
             0.2222222222222222,
             "#7201a8"
            ],
            [
             0.3333333333333333,
             "#9c179e"
            ],
            [
             0.4444444444444444,
             "#bd3786"
            ],
            [
             0.5555555555555556,
             "#d8576b"
            ],
            [
             0.6666666666666666,
             "#ed7953"
            ],
            [
             0.7777777777777778,
             "#fb9f3a"
            ],
            [
             0.8888888888888888,
             "#fdca26"
            ],
            [
             1,
             "#f0f921"
            ]
           ]
          },
          "colorway": [
           "#636efa",
           "#EF553B",
           "#00cc96",
           "#ab63fa",
           "#FFA15A",
           "#19d3f3",
           "#FF6692",
           "#B6E880",
           "#FF97FF",
           "#FECB52"
          ],
          "font": {
           "color": "#2a3f5f"
          },
          "geo": {
           "bgcolor": "white",
           "lakecolor": "white",
           "landcolor": "#E5ECF6",
           "showlakes": true,
           "showland": true,
           "subunitcolor": "white"
          },
          "hoverlabel": {
           "align": "left"
          },
          "hovermode": "closest",
          "mapbox": {
           "style": "light"
          },
          "paper_bgcolor": "white",
          "plot_bgcolor": "#E5ECF6",
          "polar": {
           "angularaxis": {
            "gridcolor": "white",
            "linecolor": "white",
            "ticks": ""
           },
           "bgcolor": "#E5ECF6",
           "radialaxis": {
            "gridcolor": "white",
            "linecolor": "white",
            "ticks": ""
           }
          },
          "scene": {
           "xaxis": {
            "backgroundcolor": "#E5ECF6",
            "gridcolor": "white",
            "gridwidth": 2,
            "linecolor": "white",
            "showbackground": true,
            "ticks": "",
            "zerolinecolor": "white"
           },
           "yaxis": {
            "backgroundcolor": "#E5ECF6",
            "gridcolor": "white",
            "gridwidth": 2,
            "linecolor": "white",
            "showbackground": true,
            "ticks": "",
            "zerolinecolor": "white"
           },
           "zaxis": {
            "backgroundcolor": "#E5ECF6",
            "gridcolor": "white",
            "gridwidth": 2,
            "linecolor": "white",
            "showbackground": true,
            "ticks": "",
            "zerolinecolor": "white"
           }
          },
          "shapedefaults": {
           "line": {
            "color": "#2a3f5f"
           }
          },
          "ternary": {
           "aaxis": {
            "gridcolor": "white",
            "linecolor": "white",
            "ticks": ""
           },
           "baxis": {
            "gridcolor": "white",
            "linecolor": "white",
            "ticks": ""
           },
           "bgcolor": "#E5ECF6",
           "caxis": {
            "gridcolor": "white",
            "linecolor": "white",
            "ticks": ""
           }
          },
          "title": {
           "x": 0.05
          },
          "xaxis": {
           "automargin": true,
           "gridcolor": "white",
           "linecolor": "white",
           "ticks": "",
           "title": {
            "standoff": 15
           },
           "zerolinecolor": "white",
           "zerolinewidth": 2
          },
          "yaxis": {
           "automargin": true,
           "gridcolor": "white",
           "linecolor": "white",
           "ticks": "",
           "title": {
            "standoff": 15
           },
           "zerolinecolor": "white",
           "zerolinewidth": 2
          }
         }
        },
        "title": {
         "text": "Slice Plot"
        },
        "width": 1200,
        "xaxis": {
         "anchor": "y",
         "domain": [
          0,
          0.2125
         ],
         "title": {
          "text": "L"
         }
        },
        "xaxis2": {
         "anchor": "y2",
         "domain": [
          0.2625,
          0.475
         ],
         "title": {
          "text": "k"
         }
        },
        "xaxis3": {
         "anchor": "y3",
         "categoryarray": [
          3750,
          7500,
          15000
         ],
         "categoryorder": "array",
         "domain": [
          0.525,
          0.7375
         ],
         "title": {
          "text": "table_size"
         },
         "type": "category"
        },
        "xaxis4": {
         "anchor": "y4",
         "domain": [
          0.7875,
          1
         ],
         "title": {
          "text": "window_size"
         }
        },
        "yaxis": {
         "anchor": "x",
         "domain": [
          0,
          1
         ],
         "title": {
          "text": "maf"
         }
        },
        "yaxis2": {
         "anchor": "x2",
         "domain": [
          0,
          1
         ],
         "matches": "y",
         "showticklabels": false
        },
        "yaxis3": {
         "anchor": "x3",
         "domain": [
          0,
          1
         ],
         "matches": "y",
         "showticklabels": false
        },
        "yaxis4": {
         "anchor": "x4",
         "domain": [
          0,
          1
         ],
         "matches": "y",
         "showticklabels": false
        }
       }
      }
     },
     "metadata": {},
     "output_type": "display_data"
    }
   ],
   "source": [
    "plot_slice(lsh_study, target = lambda t: t.values[0], target_name = 'maf')"
   ]
  },
  {
   "cell_type": "code",
   "execution_count": 9,
   "metadata": {},
   "outputs": [
    {
     "data": {
      "application/vnd.plotly.v1+json": {
       "config": {
        "plotlyServerURL": "https://plot.ly"
       },
       "data": [
        {
         "marker": {
          "color": [
           0,
           3,
           8,
           9,
           10,
           11,
           13,
           14,
           15,
           16,
           17,
           18,
           19,
           20,
           21,
           22,
           25,
           26,
           27,
           29,
           31,
           32,
           33,
           35,
           37,
           38,
           42,
           43,
           44,
           45,
           48,
           49
          ],
          "colorbar": {
           "title": {
            "text": "Trial"
           },
           "x": 1,
           "xpad": 40
          },
          "colorscale": [
           [
            0,
            "rgb(247,251,255)"
           ],
           [
            0.125,
            "rgb(222,235,247)"
           ],
           [
            0.25,
            "rgb(198,219,239)"
           ],
           [
            0.375,
            "rgb(158,202,225)"
           ],
           [
            0.5,
            "rgb(107,174,214)"
           ],
           [
            0.625,
            "rgb(66,146,198)"
           ],
           [
            0.75,
            "rgb(33,113,181)"
           ],
           [
            0.875,
            "rgb(8,81,156)"
           ],
           [
            1,
            "rgb(8,48,107)"
           ]
          ],
          "line": {
           "color": "Grey",
           "width": 0.5
          },
          "showscale": true
         },
         "mode": "markers",
         "name": "Feasible Trial",
         "showlegend": false,
         "type": "scatter",
         "x": [
          8,
          2,
          7,
          8,
          8,
          8,
          8,
          8,
          7,
          9,
          10,
          4,
          9,
          10,
          9,
          10,
          8,
          9,
          8,
          7,
          7,
          8,
          7,
          5,
          9,
          9,
          3,
          7,
          4,
          6,
          3,
          3
         ],
         "xaxis": "x",
         "y": [
          0.0243802,
          0.07976079999999999,
          0.0270655,
          0.012320499999999998,
          0.0329381,
          0.0395954,
          0.015997599999999997,
          0.04341189999999999,
          0.014918999999999997,
          0.016337499999999998,
          0.0198315,
          0.1119394,
          0.025811700000000003,
          0.020381700000000003,
          0.0297184,
          0.015087800000000002,
          0.0269927,
          0.03317370000000001,
          0.042106899999999996,
          0.010258199999999999,
          0.0114906,
          0.013018400000000003,
          0.026253499999999996,
          0.0591836,
          0.0230468,
          0.018898199999999997,
          0.018993799999999998,
          0.037898600000000005,
          0.0117746,
          0.05462789999999999,
          0.026476500000000004,
          0.0307455
         ],
         "yaxis": "y"
        },
        {
         "marker": {
          "color": "#cccccc"
         },
         "mode": "markers",
         "name": "Infeasible Trial",
         "showlegend": false,
         "type": "scatter",
         "x": [
          4,
          8,
          6,
          10,
          8,
          2,
          8,
          9,
          8,
          9,
          6,
          7,
          6,
          9,
          9,
          7,
          2,
          3
         ],
         "xaxis": "x",
         "y": [
          0.12122220000000002,
          0.007027899999999999,
          0.003961299999999999,
          0.005600100000000001,
          0.0089004,
          0.0030543999999999997,
          0.09021780000000001,
          0.0151112,
          0.007914899999999999,
          0.0306925,
          0.0049898,
          0.0060769000000000005,
          0.0297146,
          0.03360300000000001,
          0.016585199999999998,
          0.014567600000000003,
          0.0022863,
          0.0056829
         ],
         "yaxis": "y"
        },
        {
         "marker": {
          "color": [
           0,
           3,
           8,
           9,
           10,
           11,
           13,
           14,
           15,
           16,
           17,
           18,
           19,
           20,
           21,
           22,
           25,
           26,
           27,
           29,
           31,
           32,
           33,
           35,
           37,
           38,
           42,
           43,
           44,
           45,
           48,
           49
          ],
          "colorbar": {
           "title": {
            "text": "Trial"
           },
           "x": 1,
           "xpad": 40
          },
          "colorscale": [
           [
            0,
            "rgb(247,251,255)"
           ],
           [
            0.125,
            "rgb(222,235,247)"
           ],
           [
            0.25,
            "rgb(198,219,239)"
           ],
           [
            0.375,
            "rgb(158,202,225)"
           ],
           [
            0.5,
            "rgb(107,174,214)"
           ],
           [
            0.625,
            "rgb(66,146,198)"
           ],
           [
            0.75,
            "rgb(33,113,181)"
           ],
           [
            0.875,
            "rgb(8,81,156)"
           ],
           [
            1,
            "rgb(8,48,107)"
           ]
          ],
          "line": {
           "color": "Grey",
           "width": 0.5
          },
          "showscale": false
         },
         "mode": "markers",
         "name": "Feasible Trial",
         "showlegend": false,
         "type": "scatter",
         "x": [
          6,
          2,
          7,
          8,
          9,
          7,
          10,
          8,
          10,
          10,
          10,
          2,
          9,
          10,
          10,
          10,
          7,
          7,
          7,
          9,
          9,
          9,
          9,
          5,
          10,
          10,
          6,
          6,
          7,
          6,
          6,
          5
         ],
         "xaxis": "x2",
         "y": [
          0.0243802,
          0.07976079999999999,
          0.0270655,
          0.012320499999999998,
          0.0329381,
          0.0395954,
          0.015997599999999997,
          0.04341189999999999,
          0.014918999999999997,
          0.016337499999999998,
          0.0198315,
          0.1119394,
          0.025811700000000003,
          0.020381700000000003,
          0.0297184,
          0.015087800000000002,
          0.0269927,
          0.03317370000000001,
          0.042106899999999996,
          0.010258199999999999,
          0.0114906,
          0.013018400000000003,
          0.026253499999999996,
          0.0591836,
          0.0230468,
          0.018898199999999997,
          0.018993799999999998,
          0.037898600000000005,
          0.0117746,
          0.05462789999999999,
          0.026476500000000004,
          0.0307455
         ],
         "yaxis": "y2"
        },
        {
         "marker": {
          "color": "#cccccc"
         },
         "mode": "markers",
         "name": "Infeasible Trial",
         "showlegend": false,
         "type": "scatter",
         "x": [
          5,
          7,
          6,
          6,
          9,
          6,
          8,
          10,
          10,
          7,
          9,
          9,
          6,
          10,
          9,
          9,
          8,
          7
         ],
         "xaxis": "x2",
         "y": [
          0.12122220000000002,
          0.007027899999999999,
          0.003961299999999999,
          0.005600100000000001,
          0.0089004,
          0.0030543999999999997,
          0.09021780000000001,
          0.0151112,
          0.007914899999999999,
          0.0306925,
          0.0049898,
          0.0060769000000000005,
          0.0297146,
          0.03360300000000001,
          0.016585199999999998,
          0.014567600000000003,
          0.0022863,
          0.0056829
         ],
         "yaxis": "y2"
        },
        {
         "marker": {
          "color": [
           0,
           3,
           8,
           9,
           10,
           11,
           13,
           14,
           15,
           16,
           17,
           18,
           19,
           20,
           21,
           22,
           25,
           26,
           27,
           29,
           31,
           32,
           33,
           35,
           37,
           38,
           42,
           43,
           44,
           45,
           48,
           49
          ],
          "colorbar": {
           "title": {
            "text": "Trial"
           },
           "x": 1,
           "xpad": 40
          },
          "colorscale": [
           [
            0,
            "rgb(247,251,255)"
           ],
           [
            0.125,
            "rgb(222,235,247)"
           ],
           [
            0.25,
            "rgb(198,219,239)"
           ],
           [
            0.375,
            "rgb(158,202,225)"
           ],
           [
            0.5,
            "rgb(107,174,214)"
           ],
           [
            0.625,
            "rgb(66,146,198)"
           ],
           [
            0.75,
            "rgb(33,113,181)"
           ],
           [
            0.875,
            "rgb(8,81,156)"
           ],
           [
            1,
            "rgb(8,48,107)"
           ]
          ],
          "line": {
           "color": "Grey",
           "width": 0.5
          },
          "showscale": false
         },
         "mode": "markers",
         "name": "Feasible Trial",
         "showlegend": false,
         "type": "scatter",
         "x": [
          15000,
          15000,
          15000,
          15000,
          15000,
          15000,
          15000,
          15000,
          15000,
          15000,
          15000,
          15000,
          15000,
          15000,
          15000,
          15000,
          15000,
          15000,
          15000,
          15000,
          15000,
          15000,
          15000,
          15000,
          15000,
          15000,
          15000,
          15000,
          15000,
          15000,
          15000,
          15000
         ],
         "xaxis": "x3",
         "y": [
          0.0243802,
          0.07976079999999999,
          0.0270655,
          0.012320499999999998,
          0.0329381,
          0.0395954,
          0.015997599999999997,
          0.04341189999999999,
          0.014918999999999997,
          0.016337499999999998,
          0.0198315,
          0.1119394,
          0.025811700000000003,
          0.020381700000000003,
          0.0297184,
          0.015087800000000002,
          0.0269927,
          0.03317370000000001,
          0.042106899999999996,
          0.010258199999999999,
          0.0114906,
          0.013018400000000003,
          0.026253499999999996,
          0.0591836,
          0.0230468,
          0.018898199999999997,
          0.018993799999999998,
          0.037898600000000005,
          0.0117746,
          0.05462789999999999,
          0.026476500000000004,
          0.0307455
         ],
         "yaxis": "y3"
        },
        {
         "marker": {
          "color": "#cccccc"
         },
         "mode": "markers",
         "name": "Infeasible Trial",
         "showlegend": false,
         "type": "scatter",
         "x": [
          7500,
          15000,
          15000,
          15000,
          15000,
          15000,
          15000,
          15000,
          15000,
          15000,
          15000,
          15000,
          15000,
          15000,
          15000,
          15000,
          15000,
          15000
         ],
         "xaxis": "x3",
         "y": [
          0.12122220000000002,
          0.007027899999999999,
          0.003961299999999999,
          0.005600100000000001,
          0.0089004,
          0.0030543999999999997,
          0.09021780000000001,
          0.0151112,
          0.007914899999999999,
          0.0306925,
          0.0049898,
          0.0060769000000000005,
          0.0297146,
          0.03360300000000001,
          0.016585199999999998,
          0.014567600000000003,
          0.0022863,
          0.0056829
         ],
         "yaxis": "y3"
        },
        {
         "marker": {
          "color": [
           0,
           3,
           8,
           9,
           10,
           11,
           13,
           14,
           15,
           16,
           17,
           18,
           19,
           20,
           21,
           22,
           25,
           26,
           27,
           29,
           31,
           32,
           33,
           35,
           37,
           38,
           42,
           43,
           44,
           45,
           48,
           49
          ],
          "colorbar": {
           "title": {
            "text": "Trial"
           },
           "x": 1,
           "xpad": 40
          },
          "colorscale": [
           [
            0,
            "rgb(247,251,255)"
           ],
           [
            0.125,
            "rgb(222,235,247)"
           ],
           [
            0.25,
            "rgb(198,219,239)"
           ],
           [
            0.375,
            "rgb(158,202,225)"
           ],
           [
            0.5,
            "rgb(107,174,214)"
           ],
           [
            0.625,
            "rgb(66,146,198)"
           ],
           [
            0.75,
            "rgb(33,113,181)"
           ],
           [
            0.875,
            "rgb(8,81,156)"
           ],
           [
            1,
            "rgb(8,48,107)"
           ]
          ],
          "line": {
           "color": "Grey",
           "width": 0.5
          },
          "showscale": false
         },
         "mode": "markers",
         "name": "Feasible Trial",
         "showlegend": false,
         "type": "scatter",
         "x": [
          2171,
          2673,
          2417,
          2138,
          3328,
          3222,
          3103,
          2997,
          2965,
          2908,
          3153,
          1634,
          3168,
          2987,
          3017,
          2912,
          2573,
          2668,
          2725,
          2594,
          2643,
          2644,
          2705,
          2785,
          2962,
          3022,
          2520,
          2597,
          2638,
          2583,
          2910,
          2627
         ],
         "xaxis": "x4",
         "y": [
          0.0243802,
          0.07976079999999999,
          0.0270655,
          0.012320499999999998,
          0.0329381,
          0.0395954,
          0.015997599999999997,
          0.04341189999999999,
          0.014918999999999997,
          0.016337499999999998,
          0.0198315,
          0.1119394,
          0.025811700000000003,
          0.020381700000000003,
          0.0297184,
          0.015087800000000002,
          0.0269927,
          0.03317370000000001,
          0.042106899999999996,
          0.010258199999999999,
          0.0114906,
          0.013018400000000003,
          0.026253499999999996,
          0.0591836,
          0.0230468,
          0.018898199999999997,
          0.018993799999999998,
          0.037898600000000005,
          0.0117746,
          0.05462789999999999,
          0.026476500000000004,
          0.0307455
         ],
         "yaxis": "y4"
        },
        {
         "marker": {
          "color": "#cccccc"
         },
         "mode": "markers",
         "name": "Infeasible Trial",
         "showlegend": false,
         "type": "scatter",
         "x": [
          4599,
          1878,
          1492,
          1487,
          2478,
          1494,
          3785,
          3057,
          2613,
          2686,
          2399,
          2262,
          2604,
          3376,
          2822,
          2671,
          2389,
          2356
         ],
         "xaxis": "x4",
         "y": [
          0.12122220000000002,
          0.007027899999999999,
          0.003961299999999999,
          0.005600100000000001,
          0.0089004,
          0.0030543999999999997,
          0.09021780000000001,
          0.0151112,
          0.007914899999999999,
          0.0306925,
          0.0049898,
          0.0060769000000000005,
          0.0297146,
          0.03360300000000001,
          0.016585199999999998,
          0.014567600000000003,
          0.0022863,
          0.0056829
         ],
         "yaxis": "y4"
        }
       ],
       "layout": {
        "template": {
         "data": {
          "bar": [
           {
            "error_x": {
             "color": "#2a3f5f"
            },
            "error_y": {
             "color": "#2a3f5f"
            },
            "marker": {
             "line": {
              "color": "#E5ECF6",
              "width": 0.5
             },
             "pattern": {
              "fillmode": "overlay",
              "size": 10,
              "solidity": 0.2
             }
            },
            "type": "bar"
           }
          ],
          "barpolar": [
           {
            "marker": {
             "line": {
              "color": "#E5ECF6",
              "width": 0.5
             },
             "pattern": {
              "fillmode": "overlay",
              "size": 10,
              "solidity": 0.2
             }
            },
            "type": "barpolar"
           }
          ],
          "carpet": [
           {
            "aaxis": {
             "endlinecolor": "#2a3f5f",
             "gridcolor": "white",
             "linecolor": "white",
             "minorgridcolor": "white",
             "startlinecolor": "#2a3f5f"
            },
            "baxis": {
             "endlinecolor": "#2a3f5f",
             "gridcolor": "white",
             "linecolor": "white",
             "minorgridcolor": "white",
             "startlinecolor": "#2a3f5f"
            },
            "type": "carpet"
           }
          ],
          "choropleth": [
           {
            "colorbar": {
             "outlinewidth": 0,
             "ticks": ""
            },
            "type": "choropleth"
           }
          ],
          "contour": [
           {
            "colorbar": {
             "outlinewidth": 0,
             "ticks": ""
            },
            "colorscale": [
             [
              0,
              "#0d0887"
             ],
             [
              0.1111111111111111,
              "#46039f"
             ],
             [
              0.2222222222222222,
              "#7201a8"
             ],
             [
              0.3333333333333333,
              "#9c179e"
             ],
             [
              0.4444444444444444,
              "#bd3786"
             ],
             [
              0.5555555555555556,
              "#d8576b"
             ],
             [
              0.6666666666666666,
              "#ed7953"
             ],
             [
              0.7777777777777778,
              "#fb9f3a"
             ],
             [
              0.8888888888888888,
              "#fdca26"
             ],
             [
              1,
              "#f0f921"
             ]
            ],
            "type": "contour"
           }
          ],
          "contourcarpet": [
           {
            "colorbar": {
             "outlinewidth": 0,
             "ticks": ""
            },
            "type": "contourcarpet"
           }
          ],
          "heatmap": [
           {
            "colorbar": {
             "outlinewidth": 0,
             "ticks": ""
            },
            "colorscale": [
             [
              0,
              "#0d0887"
             ],
             [
              0.1111111111111111,
              "#46039f"
             ],
             [
              0.2222222222222222,
              "#7201a8"
             ],
             [
              0.3333333333333333,
              "#9c179e"
             ],
             [
              0.4444444444444444,
              "#bd3786"
             ],
             [
              0.5555555555555556,
              "#d8576b"
             ],
             [
              0.6666666666666666,
              "#ed7953"
             ],
             [
              0.7777777777777778,
              "#fb9f3a"
             ],
             [
              0.8888888888888888,
              "#fdca26"
             ],
             [
              1,
              "#f0f921"
             ]
            ],
            "type": "heatmap"
           }
          ],
          "heatmapgl": [
           {
            "colorbar": {
             "outlinewidth": 0,
             "ticks": ""
            },
            "colorscale": [
             [
              0,
              "#0d0887"
             ],
             [
              0.1111111111111111,
              "#46039f"
             ],
             [
              0.2222222222222222,
              "#7201a8"
             ],
             [
              0.3333333333333333,
              "#9c179e"
             ],
             [
              0.4444444444444444,
              "#bd3786"
             ],
             [
              0.5555555555555556,
              "#d8576b"
             ],
             [
              0.6666666666666666,
              "#ed7953"
             ],
             [
              0.7777777777777778,
              "#fb9f3a"
             ],
             [
              0.8888888888888888,
              "#fdca26"
             ],
             [
              1,
              "#f0f921"
             ]
            ],
            "type": "heatmapgl"
           }
          ],
          "histogram": [
           {
            "marker": {
             "pattern": {
              "fillmode": "overlay",
              "size": 10,
              "solidity": 0.2
             }
            },
            "type": "histogram"
           }
          ],
          "histogram2d": [
           {
            "colorbar": {
             "outlinewidth": 0,
             "ticks": ""
            },
            "colorscale": [
             [
              0,
              "#0d0887"
             ],
             [
              0.1111111111111111,
              "#46039f"
             ],
             [
              0.2222222222222222,
              "#7201a8"
             ],
             [
              0.3333333333333333,
              "#9c179e"
             ],
             [
              0.4444444444444444,
              "#bd3786"
             ],
             [
              0.5555555555555556,
              "#d8576b"
             ],
             [
              0.6666666666666666,
              "#ed7953"
             ],
             [
              0.7777777777777778,
              "#fb9f3a"
             ],
             [
              0.8888888888888888,
              "#fdca26"
             ],
             [
              1,
              "#f0f921"
             ]
            ],
            "type": "histogram2d"
           }
          ],
          "histogram2dcontour": [
           {
            "colorbar": {
             "outlinewidth": 0,
             "ticks": ""
            },
            "colorscale": [
             [
              0,
              "#0d0887"
             ],
             [
              0.1111111111111111,
              "#46039f"
             ],
             [
              0.2222222222222222,
              "#7201a8"
             ],
             [
              0.3333333333333333,
              "#9c179e"
             ],
             [
              0.4444444444444444,
              "#bd3786"
             ],
             [
              0.5555555555555556,
              "#d8576b"
             ],
             [
              0.6666666666666666,
              "#ed7953"
             ],
             [
              0.7777777777777778,
              "#fb9f3a"
             ],
             [
              0.8888888888888888,
              "#fdca26"
             ],
             [
              1,
              "#f0f921"
             ]
            ],
            "type": "histogram2dcontour"
           }
          ],
          "mesh3d": [
           {
            "colorbar": {
             "outlinewidth": 0,
             "ticks": ""
            },
            "type": "mesh3d"
           }
          ],
          "parcoords": [
           {
            "line": {
             "colorbar": {
              "outlinewidth": 0,
              "ticks": ""
             }
            },
            "type": "parcoords"
           }
          ],
          "pie": [
           {
            "automargin": true,
            "type": "pie"
           }
          ],
          "scatter": [
           {
            "fillpattern": {
             "fillmode": "overlay",
             "size": 10,
             "solidity": 0.2
            },
            "type": "scatter"
           }
          ],
          "scatter3d": [
           {
            "line": {
             "colorbar": {
              "outlinewidth": 0,
              "ticks": ""
             }
            },
            "marker": {
             "colorbar": {
              "outlinewidth": 0,
              "ticks": ""
             }
            },
            "type": "scatter3d"
           }
          ],
          "scattercarpet": [
           {
            "marker": {
             "colorbar": {
              "outlinewidth": 0,
              "ticks": ""
             }
            },
            "type": "scattercarpet"
           }
          ],
          "scattergeo": [
           {
            "marker": {
             "colorbar": {
              "outlinewidth": 0,
              "ticks": ""
             }
            },
            "type": "scattergeo"
           }
          ],
          "scattergl": [
           {
            "marker": {
             "colorbar": {
              "outlinewidth": 0,
              "ticks": ""
             }
            },
            "type": "scattergl"
           }
          ],
          "scattermapbox": [
           {
            "marker": {
             "colorbar": {
              "outlinewidth": 0,
              "ticks": ""
             }
            },
            "type": "scattermapbox"
           }
          ],
          "scatterpolar": [
           {
            "marker": {
             "colorbar": {
              "outlinewidth": 0,
              "ticks": ""
             }
            },
            "type": "scatterpolar"
           }
          ],
          "scatterpolargl": [
           {
            "marker": {
             "colorbar": {
              "outlinewidth": 0,
              "ticks": ""
             }
            },
            "type": "scatterpolargl"
           }
          ],
          "scatterternary": [
           {
            "marker": {
             "colorbar": {
              "outlinewidth": 0,
              "ticks": ""
             }
            },
            "type": "scatterternary"
           }
          ],
          "surface": [
           {
            "colorbar": {
             "outlinewidth": 0,
             "ticks": ""
            },
            "colorscale": [
             [
              0,
              "#0d0887"
             ],
             [
              0.1111111111111111,
              "#46039f"
             ],
             [
              0.2222222222222222,
              "#7201a8"
             ],
             [
              0.3333333333333333,
              "#9c179e"
             ],
             [
              0.4444444444444444,
              "#bd3786"
             ],
             [
              0.5555555555555556,
              "#d8576b"
             ],
             [
              0.6666666666666666,
              "#ed7953"
             ],
             [
              0.7777777777777778,
              "#fb9f3a"
             ],
             [
              0.8888888888888888,
              "#fdca26"
             ],
             [
              1,
              "#f0f921"
             ]
            ],
            "type": "surface"
           }
          ],
          "table": [
           {
            "cells": {
             "fill": {
              "color": "#EBF0F8"
             },
             "line": {
              "color": "white"
             }
            },
            "header": {
             "fill": {
              "color": "#C8D4E3"
             },
             "line": {
              "color": "white"
             }
            },
            "type": "table"
           }
          ]
         },
         "layout": {
          "annotationdefaults": {
           "arrowcolor": "#2a3f5f",
           "arrowhead": 0,
           "arrowwidth": 1
          },
          "autotypenumbers": "strict",
          "coloraxis": {
           "colorbar": {
            "outlinewidth": 0,
            "ticks": ""
           }
          },
          "colorscale": {
           "diverging": [
            [
             0,
             "#8e0152"
            ],
            [
             0.1,
             "#c51b7d"
            ],
            [
             0.2,
             "#de77ae"
            ],
            [
             0.3,
             "#f1b6da"
            ],
            [
             0.4,
             "#fde0ef"
            ],
            [
             0.5,
             "#f7f7f7"
            ],
            [
             0.6,
             "#e6f5d0"
            ],
            [
             0.7,
             "#b8e186"
            ],
            [
             0.8,
             "#7fbc41"
            ],
            [
             0.9,
             "#4d9221"
            ],
            [
             1,
             "#276419"
            ]
           ],
           "sequential": [
            [
             0,
             "#0d0887"
            ],
            [
             0.1111111111111111,
             "#46039f"
            ],
            [
             0.2222222222222222,
             "#7201a8"
            ],
            [
             0.3333333333333333,
             "#9c179e"
            ],
            [
             0.4444444444444444,
             "#bd3786"
            ],
            [
             0.5555555555555556,
             "#d8576b"
            ],
            [
             0.6666666666666666,
             "#ed7953"
            ],
            [
             0.7777777777777778,
             "#fb9f3a"
            ],
            [
             0.8888888888888888,
             "#fdca26"
            ],
            [
             1,
             "#f0f921"
            ]
           ],
           "sequentialminus": [
            [
             0,
             "#0d0887"
            ],
            [
             0.1111111111111111,
             "#46039f"
            ],
            [
             0.2222222222222222,
             "#7201a8"
            ],
            [
             0.3333333333333333,
             "#9c179e"
            ],
            [
             0.4444444444444444,
             "#bd3786"
            ],
            [
             0.5555555555555556,
             "#d8576b"
            ],
            [
             0.6666666666666666,
             "#ed7953"
            ],
            [
             0.7777777777777778,
             "#fb9f3a"
            ],
            [
             0.8888888888888888,
             "#fdca26"
            ],
            [
             1,
             "#f0f921"
            ]
           ]
          },
          "colorway": [
           "#636efa",
           "#EF553B",
           "#00cc96",
           "#ab63fa",
           "#FFA15A",
           "#19d3f3",
           "#FF6692",
           "#B6E880",
           "#FF97FF",
           "#FECB52"
          ],
          "font": {
           "color": "#2a3f5f"
          },
          "geo": {
           "bgcolor": "white",
           "lakecolor": "white",
           "landcolor": "#E5ECF6",
           "showlakes": true,
           "showland": true,
           "subunitcolor": "white"
          },
          "hoverlabel": {
           "align": "left"
          },
          "hovermode": "closest",
          "mapbox": {
           "style": "light"
          },
          "paper_bgcolor": "white",
          "plot_bgcolor": "#E5ECF6",
          "polar": {
           "angularaxis": {
            "gridcolor": "white",
            "linecolor": "white",
            "ticks": ""
           },
           "bgcolor": "#E5ECF6",
           "radialaxis": {
            "gridcolor": "white",
            "linecolor": "white",
            "ticks": ""
           }
          },
          "scene": {
           "xaxis": {
            "backgroundcolor": "#E5ECF6",
            "gridcolor": "white",
            "gridwidth": 2,
            "linecolor": "white",
            "showbackground": true,
            "ticks": "",
            "zerolinecolor": "white"
           },
           "yaxis": {
            "backgroundcolor": "#E5ECF6",
            "gridcolor": "white",
            "gridwidth": 2,
            "linecolor": "white",
            "showbackground": true,
            "ticks": "",
            "zerolinecolor": "white"
           },
           "zaxis": {
            "backgroundcolor": "#E5ECF6",
            "gridcolor": "white",
            "gridwidth": 2,
            "linecolor": "white",
            "showbackground": true,
            "ticks": "",
            "zerolinecolor": "white"
           }
          },
          "shapedefaults": {
           "line": {
            "color": "#2a3f5f"
           }
          },
          "ternary": {
           "aaxis": {
            "gridcolor": "white",
            "linecolor": "white",
            "ticks": ""
           },
           "baxis": {
            "gridcolor": "white",
            "linecolor": "white",
            "ticks": ""
           },
           "bgcolor": "#E5ECF6",
           "caxis": {
            "gridcolor": "white",
            "linecolor": "white",
            "ticks": ""
           }
          },
          "title": {
           "x": 0.05
          },
          "xaxis": {
           "automargin": true,
           "gridcolor": "white",
           "linecolor": "white",
           "ticks": "",
           "title": {
            "standoff": 15
           },
           "zerolinecolor": "white",
           "zerolinewidth": 2
          },
          "yaxis": {
           "automargin": true,
           "gridcolor": "white",
           "linecolor": "white",
           "ticks": "",
           "title": {
            "standoff": 15
           },
           "zerolinecolor": "white",
           "zerolinewidth": 2
          }
         }
        },
        "title": {
         "text": "Slice Plot"
        },
        "width": 1200,
        "xaxis": {
         "anchor": "y",
         "domain": [
          0,
          0.2125
         ],
         "title": {
          "text": "L"
         }
        },
        "xaxis2": {
         "anchor": "y2",
         "domain": [
          0.2625,
          0.475
         ],
         "title": {
          "text": "k"
         }
        },
        "xaxis3": {
         "anchor": "y3",
         "categoryarray": [
          3750,
          7500,
          15000
         ],
         "categoryorder": "array",
         "domain": [
          0.525,
          0.7375
         ],
         "title": {
          "text": "table_size"
         },
         "type": "category"
        },
        "xaxis4": {
         "anchor": "y4",
         "domain": [
          0.7875,
          1
         ],
         "title": {
          "text": "window_size"
         }
        },
        "yaxis": {
         "anchor": "x",
         "domain": [
          0,
          1
         ],
         "title": {
          "text": "average_time"
         }
        },
        "yaxis2": {
         "anchor": "x2",
         "domain": [
          0,
          1
         ],
         "matches": "y",
         "showticklabels": false
        },
        "yaxis3": {
         "anchor": "x3",
         "domain": [
          0,
          1
         ],
         "matches": "y",
         "showticklabels": false
        },
        "yaxis4": {
         "anchor": "x4",
         "domain": [
          0,
          1
         ],
         "matches": "y",
         "showticklabels": false
        }
       }
      }
     },
     "metadata": {},
     "output_type": "display_data"
    }
   ],
   "source": [
    "plot_slice(lsh_study, target = lambda t: t.values[1], target_name = 'average_time')"
   ]
  },
  {
   "attachments": {},
   "cell_type": "markdown",
   "metadata": {},
   "source": [
    "# 2. Optimize Hypercube\n",
    "\n",
    "To skip logs, click [here](#visualize-hypercube-study-results)."
   ]
  },
  {
   "cell_type": "code",
   "execution_count": 5,
   "metadata": {},
   "outputs": [],
   "source": [
    "def objective_hypercube(trial):\n",
    "    param_dict = {'k': trial.suggest_int('k', 2, 30),\n",
    "                  'M': trial.suggest_int('M', 10, 5000),\n",
    "                  'probes': trial.suggest_int('probes', 1, 1000)\n",
    "                 }\n",
    "    \n",
    "    average_time, maf = hypercube_test(input_path, query_path, queries_num=10, **param_dict, N=1)\n",
    "\n",
    "    # penalize model if slower than brute force\n",
    "    if average_time.value > 0.01:\n",
    "        return 1000, 1000\n",
    "\n",
    "    return maf.value, average_time.value"
   ]
  },
  {
   "cell_type": "code",
   "execution_count": 6,
   "metadata": {},
   "outputs": [
    {
     "name": "stderr",
     "output_type": "stream",
     "text": [
      "[I 2023-11-24 20:25:42,322] A new study created in memory with name: hypercube\n"
     ]
    },
    {
     "name": "stdout",
     "output_type": "stream",
     "text": [
      "Read MNIST data\n",
      "Preprocessing...\n",
      "Preprocessing time: 2.91206\n",
      "Done\n",
      "Algorithm: Cube\n",
      "Query: 0\n",
      "Query: 1\n",
      "Query: 2\n",
      "Query: 3\n",
      "Query: 4\n",
      "Query: 5\n",
      "Query: 6\n",
      "Query: 7\n",
      "Query: 8\n",
      "Query: 9\n"
     ]
    },
    {
     "name": "stderr",
     "output_type": "stream",
     "text": [
      "[I 2023-11-24 20:25:48,062] Trial 0 finished with values: [1.9820858777568677, 0.0054666] and parameters: {'k': 15, 'M': 3181, 'probes': 31}. \n"
     ]
    },
    {
     "name": "stdout",
     "output_type": "stream",
     "text": [
      "Read MNIST data\n",
      "Preprocessing...\n",
      "Preprocessing time: 5.40988\n",
      "Done\n",
      "Algorithm: Cube\n",
      "Query: 0\n",
      "Query: 1\n",
      "Query: 2\n",
      "Query: 3\n",
      "Query: 4\n",
      "Query: 5\n",
      "Query: 6\n",
      "Query: 7\n",
      "Query: 8\n",
      "Query: 9\n"
     ]
    },
    {
     "name": "stderr",
     "output_type": "stream",
     "text": [
      "[I 2023-11-24 20:25:57,011] Trial 1 finished with values: [1.7737250814991719, 0.0702306] and parameters: {'k': 28, 'M': 1684, 'probes': 200}. \n"
     ]
    },
    {
     "name": "stdout",
     "output_type": "stream",
     "text": [
      "Read MNIST data\n",
      "Preprocessing...\n",
      "Preprocessing time: 0.583786\n",
      "Done\n",
      "Algorithm: Cube\n",
      "Query: 0\n",
      "Query: 1\n",
      "Query: 2\n",
      "Query: 3\n",
      "Query: 4\n",
      "Query: 5\n",
      "Query: 6\n",
      "Query: 7\n",
      "Query: 8\n"
     ]
    },
    {
     "name": "stderr",
     "output_type": "stream",
     "text": [
      "[I 2023-11-24 20:26:00,322] Trial 2 finished with values: [2.5395984074472704, 0.0011132000000000002] and parameters: {'k': 3, 'M': 4056, 'probes': 665}. \n"
     ]
    },
    {
     "name": "stdout",
     "output_type": "stream",
     "text": [
      "Query: 9\n",
      "Read MNIST data\n",
      "Preprocessing...\n",
      "Preprocessing time: 0.777138\n",
      "Done\n",
      "Algorithm: Cube\n",
      "Query: 0\n",
      "Query: 1\n",
      "Query: 2\n",
      "Query: 3\n",
      "Query: 4\n",
      "Query: 5\n",
      "Query: 6\n",
      "Query: 7\n",
      "Query: 8\n",
      "Query: 9\n"
     ]
    },
    {
     "name": "stderr",
     "output_type": "stream",
     "text": [
      "[I 2023-11-24 20:26:03,810] Trial 3 finished with values: [1.8083326113265408, 0.0014605999999999998] and parameters: {'k': 4, 'M': 3130, 'probes': 921}. \n"
     ]
    },
    {
     "name": "stdout",
     "output_type": "stream",
     "text": [
      "Read MNIST data\n",
      "Preprocessing...\n",
      "Preprocessing time: 3.07365\n",
      "Done\n",
      "Algorithm: Cube\n",
      "Query: 0\n",
      "Query: 1\n",
      "Query: 2\n",
      "Query: 3\n",
      "Query: 4\n",
      "Query: 5\n",
      "Query: 6\n",
      "Query: 7\n",
      "Query: 8\n",
      "Query: 9\n"
     ]
    },
    {
     "name": "stderr",
     "output_type": "stream",
     "text": [
      "[I 2023-11-24 20:26:09,658] Trial 4 finished with values: [1.752688660258667, 0.0072838] and parameters: {'k': 16, 'M': 25, 'probes': 750}. \n"
     ]
    },
    {
     "name": "stdout",
     "output_type": "stream",
     "text": [
      "Read MNIST data\n",
      "Preprocessing...\n",
      "Preprocessing time: 2.89404\n",
      "Done\n",
      "Algorithm: Cube\n",
      "Query: 0\n",
      "Query: 1\n",
      "Query: 2\n",
      "Query: 3\n",
      "Query: 4\n",
      "Query: 5\n",
      "Query: 6\n",
      "Query: 7\n",
      "Query: 8\n",
      "Query: 9\n"
     ]
    },
    {
     "name": "stderr",
     "output_type": "stream",
     "text": [
      "[I 2023-11-24 20:26:15,374] Trial 5 finished with values: [1.7985897656818197, 0.008184499999999999] and parameters: {'k': 15, 'M': 852, 'probes': 802}. \n"
     ]
    },
    {
     "name": "stdout",
     "output_type": "stream",
     "text": [
      "Read MNIST data\n",
      "Preprocessing...\n",
      "Preprocessing time: 3.48759\n",
      "Done\n",
      "Algorithm: Cube\n",
      "Query: 0\n",
      "Query: 1\n",
      "Query: 2\n",
      "Query: 3\n",
      "Query: 4\n",
      "Query: 5\n",
      "Query: 6\n",
      "Query: 7\n",
      "Query: 8\n",
      "Query: 9\n"
     ]
    },
    {
     "name": "stderr",
     "output_type": "stream",
     "text": [
      "[I 2023-11-24 20:26:21,881] Trial 6 finished with values: [1.4322010253695117, 0.0210656] and parameters: {'k': 18, 'M': 1551, 'probes': 836}. \n"
     ]
    },
    {
     "name": "stdout",
     "output_type": "stream",
     "text": [
      "Read MNIST data\n",
      "Preprocessing...\n",
      "Preprocessing time: 0.969531\n",
      "Done\n",
      "Algorithm: Cube\n",
      "Query: 0\n",
      "Query: 1\n",
      "Query: 2\n",
      "Query: 3\n",
      "Query: 4\n",
      "Query: 5\n",
      "Query: 6\n",
      "Query: 7\n",
      "Query: 8\n",
      "Query: 9\n"
     ]
    },
    {
     "name": "stderr",
     "output_type": "stream",
     "text": [
      "[I 2023-11-24 20:26:25,576] Trial 7 finished with values: [1.7916286942867166, 0.0013756] and parameters: {'k': 5, 'M': 264, 'probes': 853}. \n"
     ]
    },
    {
     "name": "stdout",
     "output_type": "stream",
     "text": [
      "Read MNIST data\n",
      "Preprocessing...\n",
      "Preprocessing time: 1.53618\n",
      "Done\n",
      "Algorithm: Cube\n",
      "Query: 0\n",
      "Query: 1\n",
      "Query: 2\n",
      "Query: 3\n",
      "Query: 4\n",
      "Query: 5\n",
      "Query: 6\n",
      "Query: 7\n",
      "Query: 8\n",
      "Query: 9\n"
     ]
    },
    {
     "name": "stderr",
     "output_type": "stream",
     "text": [
      "[I 2023-11-24 20:26:29,814] Trial 8 finished with values: [1.8403353729480714, 0.0007258000000000001] and parameters: {'k': 8, 'M': 636, 'probes': 307}. \n"
     ]
    },
    {
     "name": "stdout",
     "output_type": "stream",
     "text": [
      "Read MNIST data\n",
      "Preprocessing...\n",
      "Preprocessing time: 0.770586\n",
      "Done\n",
      "Algorithm: Cube\n",
      "Query: 0\n",
      "Query: 1\n",
      "Query: 2\n",
      "Query: 3\n",
      "Query: 4\n",
      "Query: 5\n",
      "Query: 6\n",
      "Query: 7\n",
      "Query: 8\n",
      "Query: 9\n"
     ]
    },
    {
     "name": "stderr",
     "output_type": "stream",
     "text": [
      "[I 2023-11-24 20:26:33,254] Trial 9 finished with values: [1.9332440185941568, 0.0005749] and parameters: {'k': 4, 'M': 66, 'probes': 305}. \n"
     ]
    },
    {
     "name": "stdout",
     "output_type": "stream",
     "text": [
      "Read MNIST data\n",
      "Preprocessing...\n",
      "Preprocessing time: 1.52961\n",
      "Done\n",
      "Algorithm: Cube\n",
      "Query: 0\n",
      "Query: 1\n",
      "Query: 2\n",
      "Query: 3\n",
      "Query: 4\n",
      "Query: 5\n",
      "Query: 6\n",
      "Query: 7\n",
      "Query: 8\n",
      "Query: 9\n"
     ]
    },
    {
     "name": "stderr",
     "output_type": "stream",
     "text": [
      "[I 2023-11-24 20:26:37,458] Trial 10 finished with values: [2.381787456413473, 0.00044039999999999997] and parameters: {'k': 8, 'M': 2748, 'probes': 124}. \n"
     ]
    },
    {
     "name": "stdout",
     "output_type": "stream",
     "text": [
      "Read MNIST data\n",
      "Preprocessing...\n",
      "Preprocessing time: 5.40586\n",
      "Done\n",
      "Algorithm: Cube\n",
      "Query: 0\n",
      "Query: 1\n",
      "Query: 2\n",
      "Query: 3\n",
      "Query: 4\n",
      "Query: 5\n",
      "Query: 6\n",
      "Query: 7\n",
      "Query: 8\n",
      "Query: 9\n"
     ]
    },
    {
     "name": "stderr",
     "output_type": "stream",
     "text": [
      "[I 2023-11-24 20:26:46,561] Trial 11 finished with values: [1.4931837310582181, 0.08372530000000002] and parameters: {'k': 28, 'M': 2772, 'probes': 533}. \n"
     ]
    },
    {
     "name": "stdout",
     "output_type": "stream",
     "text": [
      "Read MNIST data\n",
      "Preprocessing...\n",
      "Preprocessing time: 4.63345\n",
      "Done\n",
      "Algorithm: Cube\n",
      "Query: 0\n",
      "Query: 1\n",
      "Query: 2\n",
      "Query: 3\n",
      "Query: 4\n",
      "Query: 5\n",
      "Query: 6\n",
      "Query: 7\n",
      "Query: 8\n",
      "Query: 9\n"
     ]
    },
    {
     "name": "stderr",
     "output_type": "stream",
     "text": [
      "[I 2023-11-24 20:26:54,647] Trial 12 finished with values: [1.7515089323386144, 0.06502309999999999] and parameters: {'k': 24, 'M': 4983, 'probes': 362}. \n"
     ]
    },
    {
     "name": "stdout",
     "output_type": "stream",
     "text": [
      "Read MNIST data\n",
      "Preprocessing...\n",
      "Preprocessing time: 2.11402\n",
      "Done\n",
      "Algorithm: Cube\n",
      "Query: 0\n",
      "Query: 1\n",
      "Query: 2\n",
      "Query: 3\n",
      "Query: 4\n",
      "Query: 5\n",
      "Query: 6\n",
      "Query: 7\n",
      "Query: 8\n",
      "Query: 9\n"
     ]
    },
    {
     "name": "stderr",
     "output_type": "stream",
     "text": [
      "[I 2023-11-24 20:26:59,495] Trial 13 finished with values: [1.8480215745938111, 0.0007619] and parameters: {'k': 11, 'M': 3458, 'probes': 80}. \n"
     ]
    },
    {
     "name": "stdout",
     "output_type": "stream",
     "text": [
      "Read MNIST data\n",
      "Preprocessing...\n",
      "Preprocessing time: 0.769737\n",
      "Done\n",
      "Algorithm: Cube\n",
      "Query: 0\n",
      "Query: 1\n",
      "Query: 2\n",
      "Query: 3\n",
      "Query: 4\n",
      "Query: 5\n",
      "Query: 6\n",
      "Query: 7\n",
      "Query: 8\n",
      "Query: 9\n"
     ]
    },
    {
     "name": "stderr",
     "output_type": "stream",
     "text": [
      "[I 2023-11-24 20:27:02,958] Trial 14 finished with values: [1.780159117933763, 0.0009214] and parameters: {'k': 4, 'M': 1966, 'probes': 570}. \n"
     ]
    },
    {
     "name": "stdout",
     "output_type": "stream",
     "text": [
      "Read MNIST data\n",
      "Preprocessing...\n",
      "Preprocessing time: 0.770275\n",
      "Done\n",
      "Algorithm: Cube\n",
      "Query: 0\n",
      "Query: 1\n",
      "Query: 2\n",
      "Query: 3\n",
      "Query: 4\n",
      "Query: 5\n",
      "Query: 6\n",
      "Query: 7\n",
      "Query: 8\n",
      "Query: 9\n"
     ]
    },
    {
     "name": "stderr",
     "output_type": "stream",
     "text": [
      "[I 2023-11-24 20:27:06,409] Trial 15 finished with values: [1.9185473220696934, 0.0010255000000000002] and parameters: {'k': 4, 'M': 460, 'probes': 683}. \n"
     ]
    },
    {
     "name": "stdout",
     "output_type": "stream",
     "text": [
      "Read MNIST data\n",
      "Preprocessing...\n",
      "Preprocessing time: 4.42126\n",
      "Done\n",
      "Algorithm: Cube\n",
      "Query: 0\n",
      "Query: 1\n",
      "Query: 2\n",
      "Query: 3\n",
      "Query: 4\n",
      "Query: 5\n",
      "Query: 6\n",
      "Query: 7\n",
      "Query: 8\n",
      "Query: 9\n"
     ]
    },
    {
     "name": "stderr",
     "output_type": "stream",
     "text": [
      "[I 2023-11-24 20:27:13,827] Trial 16 finished with values: [1.8983355548347576, 0.0248911] and parameters: {'k': 23, 'M': 1407, 'probes': 103}. \n"
     ]
    },
    {
     "name": "stdout",
     "output_type": "stream",
     "text": [
      "Read MNIST data\n",
      "Preprocessing...\n",
      "Preprocessing time: 5.00878\n",
      "Done\n",
      "Algorithm: Cube\n",
      "Query: 0\n",
      "Query: 1\n",
      "Query: 2\n",
      "Query: 3\n",
      "Query: 4\n",
      "Query: 5\n",
      "Query: 6\n",
      "Query: 7\n",
      "Query: 8\n",
      "Query: 9\n"
     ]
    },
    {
     "name": "stderr",
     "output_type": "stream",
     "text": [
      "[I 2023-11-24 20:27:22,561] Trial 17 finished with values: [1.2138728669424221, 0.09235270000000001] and parameters: {'k': 26, 'M': 4453, 'probes': 980}. \n"
     ]
    },
    {
     "name": "stdout",
     "output_type": "stream",
     "text": [
      "Read MNIST data\n",
      "Preprocessing...\n",
      "Preprocessing time: 5.59104\n",
      "Done\n",
      "Algorithm: Cube\n",
      "Query: 0\n",
      "Query: 1\n",
      "Query: 2\n",
      "Query: 3\n",
      "Query: 4\n",
      "Query: 5\n",
      "Query: 6\n",
      "Query: 7\n",
      "Query: 8\n",
      "Query: 9\n"
     ]
    },
    {
     "name": "stderr",
     "output_type": "stream",
     "text": [
      "[I 2023-11-24 20:27:31,771] Trial 18 finished with values: [1.432066949046283, 0.08266860000000001] and parameters: {'k': 29, 'M': 3073, 'probes': 598}. \n"
     ]
    },
    {
     "name": "stdout",
     "output_type": "stream",
     "text": [
      "Read MNIST data\n",
      "Preprocessing...\n",
      "Preprocessing time: 0.388757\n",
      "Done\n",
      "Algorithm: Cube\n",
      "Query: 0\n",
      "Query: 1\n",
      "Query: 2\n",
      "Query: 3\n",
      "Query: 4\n",
      "Query: 5\n",
      "Query: 6\n",
      "Query: 7\n",
      "Query: 8\n",
      "Query: 9\n"
     ]
    },
    {
     "name": "stderr",
     "output_type": "stream",
     "text": [
      "[I 2023-11-24 20:27:34,817] Trial 19 finished with values: [1.7008422594541597, 0.0011613] and parameters: {'k': 2, 'M': 24, 'probes': 804}. \n"
     ]
    },
    {
     "name": "stdout",
     "output_type": "stream",
     "text": [
      "Read MNIST data\n",
      "Preprocessing...\n",
      "Preprocessing time: 4.23222\n",
      "Done\n",
      "Algorithm: Cube\n",
      "Query: 0\n",
      "Query: 1\n",
      "Query: 2\n",
      "Query: 3\n",
      "Query: 4\n",
      "Query: 5\n",
      "Query: 6\n",
      "Query: 7\n",
      "Query: 8\n",
      "Query: 9\n"
     ]
    },
    {
     "name": "stderr",
     "output_type": "stream",
     "text": [
      "[I 2023-11-24 20:27:42,026] Trial 20 finished with values: [1.433949666368659, 0.0256446] and parameters: {'k': 22, 'M': 1540, 'probes': 678}. \n"
     ]
    },
    {
     "name": "stdout",
     "output_type": "stream",
     "text": [
      "Read MNIST data\n",
      "Preprocessing...\n",
      "Preprocessing time: 2.30328\n",
      "Done\n",
      "Algorithm: Cube\n",
      "Query: 0\n",
      "Query: 1\n",
      "Query: 2\n",
      "Query: 3\n",
      "Query: 4\n",
      "Query: 5\n",
      "Query: 6\n",
      "Query: 7\n",
      "Query: 8\n",
      "Query: 9\n"
     ]
    },
    {
     "name": "stderr",
     "output_type": "stream",
     "text": [
      "[I 2023-11-24 20:27:47,097] Trial 21 finished with values: [1.7479305902294213, 0.0018781] and parameters: {'k': 12, 'M': 3947, 'probes': 203}. \n"
     ]
    },
    {
     "name": "stdout",
     "output_type": "stream",
     "text": [
      "Read MNIST data\n",
      "Preprocessing...\n",
      "Preprocessing time: 0.772561\n",
      "Done\n",
      "Algorithm: Cube\n",
      "Query: 0\n",
      "Query: 1\n",
      "Query: 2\n",
      "Query: 3\n",
      "Query: 4\n",
      "Query: 5\n",
      "Query: 6\n",
      "Query: 7\n",
      "Query: 8\n",
      "Query: 9\n"
     ]
    },
    {
     "name": "stderr",
     "output_type": "stream",
     "text": [
      "[I 2023-11-24 20:27:50,602] Trial 22 finished with values: [1.8083326113265408, 0.0006953] and parameters: {'k': 4, 'M': 3099, 'probes': 359}. \n"
     ]
    },
    {
     "name": "stdout",
     "output_type": "stream",
     "text": [
      "Read MNIST data\n",
      "Preprocessing...\n",
      "Preprocessing time: 2.3022\n",
      "Done\n",
      "Algorithm: Cube\n",
      "Query: 0\n",
      "Query: 1\n",
      "Query: 2\n",
      "Query: 3\n",
      "Query: 4\n",
      "Query: 5\n",
      "Query: 6\n",
      "Query: 7\n",
      "Query: 8\n",
      "Query: 9\n"
     ]
    },
    {
     "name": "stderr",
     "output_type": "stream",
     "text": [
      "[I 2023-11-24 20:27:55,651] Trial 23 finished with values: [1.65249975838885, 0.0017244000000000003] and parameters: {'k': 12, 'M': 1414, 'probes': 509}. \n"
     ]
    },
    {
     "name": "stdout",
     "output_type": "stream",
     "text": [
      "Read MNIST data\n",
      "Preprocessing...\n",
      "Preprocessing time: 1.72393\n",
      "Done\n",
      "Algorithm: Cube\n",
      "Query: 0\n",
      "Query: 1\n",
      "Query: 2\n",
      "Query: 3\n",
      "Query: 4\n",
      "Query: 5\n",
      "Query: 6\n",
      "Query: 7\n",
      "Query: 8\n",
      "Query: 9\n"
     ]
    },
    {
     "name": "stderr",
     "output_type": "stream",
     "text": [
      "[I 2023-11-24 20:28:00,140] Trial 24 finished with values: [1.3877293557617412, 0.001493] and parameters: {'k': 9, 'M': 2943, 'probes': 740}. \n"
     ]
    },
    {
     "name": "stdout",
     "output_type": "stream",
     "text": [
      "Read MNIST data\n",
      "Preprocessing...\n",
      "Preprocessing time: 0.389401\n",
      "Done\n",
      "Algorithm: Cube\n",
      "Query: 0\n",
      "Query: 1\n",
      "Query: 2\n",
      "Query: 3\n",
      "Query: 4\n",
      "Query: 5\n",
      "Query: 6\n",
      "Query: 7\n",
      "Query: 8\n",
      "Query: 9\n"
     ]
    },
    {
     "name": "stderr",
     "output_type": "stream",
     "text": [
      "[I 2023-11-24 20:28:03,290] Trial 25 finished with values: [2.5395984074472704, 0.0009441] and parameters: {'k': 2, 'M': 127, 'probes': 560}. \n"
     ]
    },
    {
     "name": "stdout",
     "output_type": "stream",
     "text": [
      "Read MNIST data\n",
      "Preprocessing...\n",
      "Preprocessing time: 3.64506\n",
      "Done\n",
      "Algorithm: Cube\n",
      "Query: 0\n",
      "Query: 1\n",
      "Query: 2\n",
      "Query: 3\n",
      "Query: 4\n",
      "Query: 5\n",
      "Query: 6\n",
      "Query: 7\n",
      "Query: 8\n",
      "Query: 9\n"
     ]
    },
    {
     "name": "stderr",
     "output_type": "stream",
     "text": [
      "[I 2023-11-24 20:28:09,753] Trial 26 finished with values: [1.5324523419170595, 0.009423999999999998] and parameters: {'k': 19, 'M': 2362, 'probes': 424}. \n"
     ]
    },
    {
     "name": "stdout",
     "output_type": "stream",
     "text": [
      "Read MNIST data\n",
      "Preprocessing...\n",
      "Preprocessing time: 1.14948\n",
      "Done\n",
      "Algorithm: Cube\n",
      "Query: 0\n",
      "Query: 1\n",
      "Query: 2\n",
      "Query: 3\n",
      "Query: 4\n",
      "Query: 5\n",
      "Query: 6\n",
      "Query: 7\n",
      "Query: 8\n",
      "Query: 9\n"
     ]
    },
    {
     "name": "stderr",
     "output_type": "stream",
     "text": [
      "[I 2023-11-24 20:28:13,660] Trial 27 finished with values: [2.6798375748725642, 0.0012371] and parameters: {'k': 6, 'M': 4412, 'probes': 750}. \n"
     ]
    },
    {
     "name": "stdout",
     "output_type": "stream",
     "text": [
      "Read MNIST data\n",
      "Preprocessing...\n",
      "Preprocessing time: 1.53001\n",
      "Done\n",
      "Algorithm: Cube\n",
      "Query: 0\n",
      "Query: 1\n",
      "Query: 2\n",
      "Query: 3\n",
      "Query: 4\n",
      "Query: 5\n",
      "Query: 6\n",
      "Query: 7\n",
      "Query: 8\n",
      "Query: 9\n"
     ]
    },
    {
     "name": "stderr",
     "output_type": "stream",
     "text": [
      "[I 2023-11-24 20:28:17,937] Trial 28 finished with values: [1.6600460654074185, 0.0017255] and parameters: {'k': 8, 'M': 942, 'probes': 954}. \n"
     ]
    },
    {
     "name": "stdout",
     "output_type": "stream",
     "text": [
      "Read MNIST data\n",
      "Preprocessing...\n",
      "Preprocessing time: 5.77742\n",
      "Done\n",
      "Algorithm: Cube\n",
      "Query: 0\n",
      "Query: 1\n",
      "Query: 2\n",
      "Query: 3\n",
      "Query: 4\n",
      "Query: 5\n",
      "Query: 6\n",
      "Query: 7\n",
      "Query: 8\n",
      "Query: 9\n"
     ]
    },
    {
     "name": "stderr",
     "output_type": "stream",
     "text": [
      "[I 2023-11-24 20:28:27,349] Trial 29 finished with values: [1.5784707563781106, 0.08478260000000001] and parameters: {'k': 30, 'M': 733, 'probes': 305}. \n"
     ]
    },
    {
     "name": "stdout",
     "output_type": "stream",
     "text": [
      "Read MNIST data\n",
      "Preprocessing...\n",
      "Preprocessing time: 2.30344\n",
      "Done\n",
      "Algorithm: Cube\n",
      "Query: 0\n",
      "Query: 1\n",
      "Query: 2\n",
      "Query: 3\n",
      "Query: 4\n",
      "Query: 5\n",
      "Query: 6\n",
      "Query: 7\n",
      "Query: 8\n",
      "Query: 9\n"
     ]
    },
    {
     "name": "stderr",
     "output_type": "stream",
     "text": [
      "[I 2023-11-24 20:28:32,376] Trial 30 finished with values: [1.815838589777603, 0.0010017000000000001] and parameters: {'k': 12, 'M': 3132, 'probes': 223}. \n"
     ]
    },
    {
     "name": "stdout",
     "output_type": "stream",
     "text": [
      "Read MNIST data\n",
      "Preprocessing...\n",
      "Preprocessing time: 4.43659\n",
      "Done\n",
      "Algorithm: Cube\n",
      "Query: 0\n",
      "Query: 1\n",
      "Query: 2\n",
      "Query: 3\n",
      "Query: 4\n",
      "Query: 5\n",
      "Query: 6\n",
      "Query: 7\n",
      "Query: 8\n",
      "Query: 9\n"
     ]
    },
    {
     "name": "stderr",
     "output_type": "stream",
     "text": [
      "[I 2023-11-24 20:28:40,299] Trial 31 finished with values: [1.4037587023157931, 0.0709628] and parameters: {'k': 23, 'M': 3958, 'probes': 464}. \n"
     ]
    },
    {
     "name": "stdout",
     "output_type": "stream",
     "text": [
      "Read MNIST data\n",
      "Preprocessing...\n",
      "Preprocessing time: 3.27208\n",
      "Done\n",
      "Algorithm: Cube\n",
      "Query: 0\n",
      "Query: 1\n",
      "Query: 2\n",
      "Query: 3\n",
      "Query: 4\n",
      "Query: 5\n",
      "Query: 6\n",
      "Query: 7\n",
      "Query: 8\n",
      "Query: 9\n"
     ]
    },
    {
     "name": "stderr",
     "output_type": "stream",
     "text": [
      "[I 2023-11-24 20:28:46,350] Trial 32 finished with values: [1.6430260793612481, 0.007685900000000001] and parameters: {'k': 17, 'M': 1672, 'probes': 307}. \n"
     ]
    },
    {
     "name": "stdout",
     "output_type": "stream",
     "text": [
      "Read MNIST data\n",
      "Preprocessing...\n",
      "Preprocessing time: 3.26968\n",
      "Done\n",
      "Algorithm: Cube\n",
      "Query: 0\n",
      "Query: 1\n",
      "Query: 2\n",
      "Query: 3\n",
      "Query: 4\n",
      "Query: 5\n",
      "Query: 6\n",
      "Query: 7\n",
      "Query: 8\n",
      "Query: 9\n"
     ]
    },
    {
     "name": "stderr",
     "output_type": "stream",
     "text": [
      "[I 2023-11-24 20:28:52,365] Trial 33 finished with values: [1.8829153239193481, 0.006983100000000001] and parameters: {'k': 17, 'M': 4968, 'probes': 156}. \n"
     ]
    },
    {
     "name": "stdout",
     "output_type": "stream",
     "text": [
      "Read MNIST data\n",
      "Preprocessing...\n",
      "Preprocessing time: 3.46469\n",
      "Done\n",
      "Algorithm: Cube\n",
      "Query: 0\n",
      "Query: 1\n",
      "Query: 2\n",
      "Query: 3\n",
      "Query: 4\n",
      "Query: 5\n",
      "Query: 6\n",
      "Query: 7\n",
      "Query: 8\n",
      "Query: 9\n"
     ]
    },
    {
     "name": "stderr",
     "output_type": "stream",
     "text": [
      "[I 2023-11-24 20:28:58,765] Trial 34 finished with values: [1.712759557150828, 0.0207769] and parameters: {'k': 18, 'M': 4624, 'probes': 366}. \n"
     ]
    },
    {
     "name": "stdout",
     "output_type": "stream",
     "text": [
      "Read MNIST data\n",
      "Preprocessing...\n",
      "Preprocessing time: 2.69906\n",
      "Done\n",
      "Algorithm: Cube\n",
      "Query: 0\n",
      "Query: 1\n",
      "Query: 2\n",
      "Query: 3\n",
      "Query: 4\n",
      "Query: 5\n",
      "Query: 6\n",
      "Query: 7\n",
      "Query: 8\n",
      "Query: 9\n"
     ]
    },
    {
     "name": "stderr",
     "output_type": "stream",
     "text": [
      "[I 2023-11-24 20:29:04,209] Trial 35 finished with values: [1.482006611552869, 0.0030407000000000003] and parameters: {'k': 14, 'M': 2216, 'probes': 196}. \n"
     ]
    },
    {
     "name": "stdout",
     "output_type": "stream",
     "text": [
      "Read MNIST data\n",
      "Preprocessing...\n",
      "Preprocessing time: 2.11399\n",
      "Done\n",
      "Algorithm: Cube\n",
      "Query: 0\n",
      "Query: 1\n",
      "Query: 2\n",
      "Query: 3\n",
      "Query: 4\n",
      "Query: 5\n",
      "Query: 6\n",
      "Query: 7\n",
      "Query: 8\n",
      "Query: 9\n"
     ]
    },
    {
     "name": "stderr",
     "output_type": "stream",
     "text": [
      "[I 2023-11-24 20:29:09,074] Trial 36 finished with values: [1.5056455023888717, 0.002436] and parameters: {'k': 11, 'M': 2095, 'probes': 840}. \n"
     ]
    },
    {
     "name": "stdout",
     "output_type": "stream",
     "text": [
      "Read MNIST data\n",
      "Preprocessing...\n",
      "Preprocessing time: 4.02341\n",
      "Done\n",
      "Algorithm: Cube\n",
      "Query: 0\n",
      "Query: 1\n",
      "Query: 2\n",
      "Query: 3\n",
      "Query: 4\n",
      "Query: 5\n",
      "Query: 6\n",
      "Query: 7\n",
      "Query: 8\n",
      "Query: 9\n"
     ]
    },
    {
     "name": "stderr",
     "output_type": "stream",
     "text": [
      "[I 2023-11-24 20:29:15,995] Trial 37 finished with values: [1.7980922283138767, 0.0160522] and parameters: {'k': 21, 'M': 1689, 'probes': 191}. \n"
     ]
    },
    {
     "name": "stdout",
     "output_type": "stream",
     "text": [
      "Read MNIST data\n",
      "Preprocessing...\n",
      "Preprocessing time: 5.3785\n",
      "Done\n",
      "Algorithm: Cube\n",
      "Query: 0\n",
      "Query: 1\n",
      "Query: 2\n",
      "Query: 3\n",
      "Query: 4\n",
      "Query: 5\n",
      "Query: 6\n",
      "Query: 7\n",
      "Query: 8\n",
      "Query: 9\n"
     ]
    },
    {
     "name": "stderr",
     "output_type": "stream",
     "text": [
      "[I 2023-11-24 20:29:25,215] Trial 38 finished with values: [1.4938208735559628, 0.1031069] and parameters: {'k': 28, 'M': 4500, 'probes': 758}. \n"
     ]
    },
    {
     "name": "stdout",
     "output_type": "stream",
     "text": [
      "Read MNIST data\n",
      "Preprocessing...\n",
      "Preprocessing time: 2.86948\n",
      "Done\n",
      "Algorithm: Cube\n",
      "Query: 0\n",
      "Query: 1\n",
      "Query: 2\n",
      "Query: 3\n",
      "Query: 4\n",
      "Query: 5\n",
      "Query: 6\n",
      "Query: 7\n",
      "Query: 8\n",
      "Query: 9\n"
     ]
    },
    {
     "name": "stderr",
     "output_type": "stream",
     "text": [
      "[I 2023-11-24 20:29:30,811] Trial 39 finished with values: [1.411292625588669, 0.0038618] and parameters: {'k': 15, 'M': 2924, 'probes': 653}. \n"
     ]
    },
    {
     "name": "stdout",
     "output_type": "stream",
     "text": [
      "Read MNIST data\n",
      "Preprocessing...\n",
      "Preprocessing time: 0.390158\n",
      "Done\n",
      "Algorithm: Cube\n",
      "Query: 0\n",
      "Query: 1\n",
      "Query: 2\n",
      "Query: 3\n",
      "Query: 4\n",
      "Query: 5\n",
      "Query: 6\n",
      "Query: 7\n",
      "Query: 8\n",
      "Query: 9\n"
     ]
    },
    {
     "name": "stderr",
     "output_type": "stream",
     "text": [
      "[I 2023-11-24 20:29:33,977] Trial 40 finished with values: [2.6813315150306347, 0.0004785000000000001] and parameters: {'k': 2, 'M': 2575, 'probes': 200}. \n"
     ]
    },
    {
     "name": "stdout",
     "output_type": "stream",
     "text": [
      "Read MNIST data\n",
      "Preprocessing...\n",
      "Preprocessing time: 0.769845\n",
      "Done\n",
      "Algorithm: Cube\n",
      "Query: 0\n",
      "Query: 1\n",
      "Query: 2\n",
      "Query: 3\n",
      "Query: 4\n",
      "Query: 5\n",
      "Query: 6\n",
      "Query: 7\n",
      "Query: 8\n",
      "Query: 9\n"
     ]
    },
    {
     "name": "stderr",
     "output_type": "stream",
     "text": [
      "[I 2023-11-24 20:29:37,528] Trial 41 finished with values: [2.402988384368219, 0.0009278] and parameters: {'k': 4, 'M': 24, 'probes': 519}. \n"
     ]
    },
    {
     "name": "stdout",
     "output_type": "stream",
     "text": [
      "Read MNIST data\n",
      "Preprocessing...\n",
      "Preprocessing time: 0.959886\n",
      "Done\n",
      "Algorithm: Cube\n",
      "Query: 0\n",
      "Query: 1\n",
      "Query: 2\n",
      "Query: 3\n",
      "Query: 4\n",
      "Query: 5\n",
      "Query: 6\n",
      "Query: 7\n",
      "Query: 8\n",
      "Query: 9\n"
     ]
    },
    {
     "name": "stderr",
     "output_type": "stream",
     "text": [
      "[I 2023-11-24 20:29:41,278] Trial 42 finished with values: [2.633067072700275, 0.0004029] and parameters: {'k': 5, 'M': 4957, 'probes': 140}. \n"
     ]
    },
    {
     "name": "stdout",
     "output_type": "stream",
     "text": [
      "Read MNIST data\n",
      "Preprocessing...\n",
      "Preprocessing time: 4.43228\n",
      "Done\n",
      "Algorithm: Cube\n",
      "Query: 0\n",
      "Query: 1\n",
      "Query: 2\n",
      "Query: 3\n",
      "Query: 4\n",
      "Query: 5\n",
      "Query: 6\n",
      "Query: 7\n",
      "Query: 8\n",
      "Query: 9\n"
     ]
    },
    {
     "name": "stderr",
     "output_type": "stream",
     "text": [
      "[I 2023-11-24 20:29:49,002] Trial 43 finished with values: [1.4815507560538244, 0.04768289999999999] and parameters: {'k': 23, 'M': 732, 'probes': 947}. \n"
     ]
    },
    {
     "name": "stdout",
     "output_type": "stream",
     "text": [
      "Read MNIST data\n",
      "Preprocessing...\n",
      "Preprocessing time: 1.52656\n",
      "Done\n",
      "Algorithm: Cube\n",
      "Query: 0\n",
      "Query: 1\n",
      "Query: 2\n",
      "Query: 3\n",
      "Query: 4\n",
      "Query: 5\n",
      "Query: 6\n",
      "Query: 7\n",
      "Query: 8\n",
      "Query: 9\n"
     ]
    },
    {
     "name": "stderr",
     "output_type": "stream",
     "text": [
      "[I 2023-11-24 20:29:53,219] Trial 44 finished with values: [1.621818005658229, 0.0011896] and parameters: {'k': 8, 'M': 4351, 'probes': 679}. \n"
     ]
    },
    {
     "name": "stdout",
     "output_type": "stream",
     "text": [
      "Read MNIST data\n",
      "Preprocessing...\n",
      "Preprocessing time: 5.59106\n",
      "Done\n",
      "Algorithm: Cube\n",
      "Query: 0\n",
      "Query: 1\n",
      "Query: 2\n",
      "Query: 3\n",
      "Query: 4\n",
      "Query: 5\n",
      "Query: 6\n",
      "Query: 7\n",
      "Query: 8\n",
      "Query: 9\n"
     ]
    },
    {
     "name": "stderr",
     "output_type": "stream",
     "text": [
      "[I 2023-11-24 20:30:02,625] Trial 45 finished with values: [1.4259423703847074, 0.099945] and parameters: {'k': 29, 'M': 3494, 'probes': 682}. \n"
     ]
    },
    {
     "name": "stdout",
     "output_type": "stream",
     "text": [
      "Read MNIST data\n",
      "Preprocessing...\n",
      "Preprocessing time: 1.53155\n",
      "Done\n",
      "Algorithm: Cube\n",
      "Query: 0\n",
      "Query: 1\n",
      "Query: 2\n",
      "Query: 3\n",
      "Query: 4\n",
      "Query: 5\n",
      "Query: 6\n",
      "Query: 7\n",
      "Query: 8\n",
      "Query: 9\n"
     ]
    },
    {
     "name": "stderr",
     "output_type": "stream",
     "text": [
      "[I 2023-11-24 20:30:06,841] Trial 46 finished with values: [1.6878746444665818, 0.0014487000000000002] and parameters: {'k': 8, 'M': 1530, 'probes': 815}. \n"
     ]
    },
    {
     "name": "stdout",
     "output_type": "stream",
     "text": [
      "Read MNIST data\n",
      "Preprocessing...\n",
      "Preprocessing time: 2.29854\n",
      "Done\n",
      "Algorithm: Cube\n",
      "Query: 0\n",
      "Query: 1\n",
      "Query: 2\n",
      "Query: 3\n",
      "Query: 4\n",
      "Query: 5\n",
      "Query: 6\n",
      "Query: 7\n",
      "Query: 8\n",
      "Query: 9\n"
     ]
    },
    {
     "name": "stderr",
     "output_type": "stream",
     "text": [
      "[I 2023-11-24 20:30:11,849] Trial 47 finished with values: [1.6058316314503709, 0.0022613] and parameters: {'k': 12, 'M': 3260, 'probes': 914}. \n"
     ]
    },
    {
     "name": "stdout",
     "output_type": "stream",
     "text": [
      "Read MNIST data\n",
      "Preprocessing...\n",
      "Preprocessing time: 2.87867\n",
      "Done\n",
      "Algorithm: Cube\n",
      "Query: 0\n",
      "Query: 1\n",
      "Query: 2\n",
      "Query: 3\n",
      "Query: 4\n",
      "Query: 5\n",
      "Query: 6\n",
      "Query: 7\n",
      "Query: 8\n",
      "Query: 9\n"
     ]
    },
    {
     "name": "stderr",
     "output_type": "stream",
     "text": [
      "[I 2023-11-24 20:30:17,488] Trial 48 finished with values: [1.5266650041139054, 0.004064] and parameters: {'k': 15, 'M': 2756, 'probes': 230}. \n"
     ]
    },
    {
     "name": "stdout",
     "output_type": "stream",
     "text": [
      "Read MNIST data\n",
      "Preprocessing...\n",
      "Preprocessing time: 3.07504\n",
      "Done\n",
      "Algorithm: Cube\n",
      "Query: 0\n",
      "Query: 1\n",
      "Query: 2\n",
      "Query: 3\n",
      "Query: 4\n",
      "Query: 5\n",
      "Query: 6\n",
      "Query: 7\n",
      "Query: 8\n",
      "Query: 9\n"
     ]
    },
    {
     "name": "stderr",
     "output_type": "stream",
     "text": [
      "[I 2023-11-24 20:30:23,393] Trial 49 finished with values: [1.4115338545030527, 0.010862] and parameters: {'k': 16, 'M': 1699, 'probes': 847}. \n"
     ]
    },
    {
     "name": "stdout",
     "output_type": "stream",
     "text": [
      "-----------------------------------------------------\n",
      "Trial no. 17\n",
      " Values = [1.2138728669424221, 0.09235270000000001]\n",
      " Params = {'k': 26, 'M': 4453, 'probes': 980}\n",
      "Trial no. 24\n",
      " Values = [1.3877293557617412, 0.001493]\n",
      " Params = {'k': 9, 'M': 2943, 'probes': 740}\n",
      "Trial no. 44\n",
      " Values = [1.621818005658229, 0.0011896]\n",
      " Params = {'k': 8, 'M': 4351, 'probes': 679}\n",
      "Trial no. 19\n",
      " Values = [1.7008422594541597, 0.0011613]\n",
      " Params = {'k': 2, 'M': 24, 'probes': 804}\n",
      "Trial no. 14\n",
      " Values = [1.780159117933763, 0.0009214]\n",
      " Params = {'k': 4, 'M': 1966, 'probes': 570}\n",
      "Trial no. 22\n",
      " Values = [1.8083326113265408, 0.0006953]\n",
      " Params = {'k': 4, 'M': 3099, 'probes': 359}\n",
      "Trial no. 9\n",
      " Values = [1.9332440185941568, 0.0005749]\n",
      " Params = {'k': 4, 'M': 66, 'probes': 305}\n",
      "Trial no. 10\n",
      " Values = [2.381787456413473, 0.00044039999999999997]\n",
      " Params = {'k': 8, 'M': 2748, 'probes': 124}\n",
      "Trial no. 42\n",
      " Values = [2.633067072700275, 0.0004029]\n",
      " Params = {'k': 5, 'M': 4957, 'probes': 140}\n",
      "CPU times: user 3min 55s, sys: 45.9 s, total: 4min 41s\n",
      "Wall time: 4min 41s\n"
     ]
    }
   ],
   "source": [
    "%%time\n",
    "hypercube_study = optuna.create_study(study_name='hypercube', directions=['minimize', 'minimize'])\n",
    "hypercube_study.optimize(objective_hypercube, n_trials=50)\n",
    "print(\"-----------------------------------------------------\")\n",
    "\n",
    "trials = sorted(hypercube_study.best_trials, key=lambda x: x.values)\n",
    "for trial in trials:\n",
    "    print(\"Trial no. {}\".format(trial.number))\n",
    "    print(\" Values = {}\".format(trial.values))\n",
    "    print(\" Params = {}\".format(trial.params))"
   ]
  },
  {
   "attachments": {},
   "cell_type": "markdown",
   "metadata": {},
   "source": [
    "## Visualize Hypercube study results"
   ]
  },
  {
   "cell_type": "code",
   "execution_count": 7,
   "metadata": {},
   "outputs": [
    {
     "data": {
      "application/vnd.plotly.v1+json": {
       "config": {
        "plotlyServerURL": "https://plot.ly"
       },
       "data": [
        {
         "hovertemplate": "%{text}<extra>Trial</extra>",
         "marker": {
          "color": [
           0,
           1,
           2,
           3,
           4,
           5,
           6,
           7,
           8,
           11,
           12,
           13,
           15,
           16,
           18,
           20,
           21,
           23,
           25,
           26,
           27,
           28,
           29,
           30,
           31,
           32,
           33,
           34,
           35,
           36,
           37,
           38,
           39,
           40,
           41,
           43,
           45,
           46,
           47,
           48,
           49
          ],
          "colorbar": {
           "title": {
            "text": "Trial"
           }
          },
          "colorscale": [
           [
            0,
            "rgb(247,251,255)"
           ],
           [
            0.125,
            "rgb(222,235,247)"
           ],
           [
            0.25,
            "rgb(198,219,239)"
           ],
           [
            0.375,
            "rgb(158,202,225)"
           ],
           [
            0.5,
            "rgb(107,174,214)"
           ],
           [
            0.625,
            "rgb(66,146,198)"
           ],
           [
            0.75,
            "rgb(33,113,181)"
           ],
           [
            0.875,
            "rgb(8,81,156)"
           ],
           [
            1,
            "rgb(8,48,107)"
           ]
          ],
          "line": {
           "color": "Grey",
           "width": 0.5
          }
         },
         "mode": "markers",
         "showlegend": false,
         "text": [
          "{<br>  \"number\": 0,<br>  \"values\": [<br>    1.9820858777568677,<br>    0.0054666<br>  ],<br>  \"params\": {<br>    \"k\": 15,<br>    \"M\": 3181,<br>    \"probes\": 31<br>  }<br>}",
          "{<br>  \"number\": 1,<br>  \"values\": [<br>    1.7737250814991719,<br>    0.0702306<br>  ],<br>  \"params\": {<br>    \"k\": 28,<br>    \"M\": 1684,<br>    \"probes\": 200<br>  }<br>}",
          "{<br>  \"number\": 2,<br>  \"values\": [<br>    2.5395984074472704,<br>    0.0011132000000000002<br>  ],<br>  \"params\": {<br>    \"k\": 3,<br>    \"M\": 4056,<br>    \"probes\": 665<br>  }<br>}",
          "{<br>  \"number\": 3,<br>  \"values\": [<br>    1.8083326113265408,<br>    0.0014605999999999998<br>  ],<br>  \"params\": {<br>    \"k\": 4,<br>    \"M\": 3130,<br>    \"probes\": 921<br>  }<br>}",
          "{<br>  \"number\": 4,<br>  \"values\": [<br>    1.752688660258667,<br>    0.0072838<br>  ],<br>  \"params\": {<br>    \"k\": 16,<br>    \"M\": 25,<br>    \"probes\": 750<br>  }<br>}",
          "{<br>  \"number\": 5,<br>  \"values\": [<br>    1.7985897656818197,<br>    0.008184499999999999<br>  ],<br>  \"params\": {<br>    \"k\": 15,<br>    \"M\": 852,<br>    \"probes\": 802<br>  }<br>}",
          "{<br>  \"number\": 6,<br>  \"values\": [<br>    1.4322010253695117,<br>    0.0210656<br>  ],<br>  \"params\": {<br>    \"k\": 18,<br>    \"M\": 1551,<br>    \"probes\": 836<br>  }<br>}",
          "{<br>  \"number\": 7,<br>  \"values\": [<br>    1.7916286942867166,<br>    0.0013756<br>  ],<br>  \"params\": {<br>    \"k\": 5,<br>    \"M\": 264,<br>    \"probes\": 853<br>  }<br>}",
          "{<br>  \"number\": 8,<br>  \"values\": [<br>    1.8403353729480714,<br>    0.0007258000000000001<br>  ],<br>  \"params\": {<br>    \"k\": 8,<br>    \"M\": 636,<br>    \"probes\": 307<br>  }<br>}",
          "{<br>  \"number\": 11,<br>  \"values\": [<br>    1.4931837310582181,<br>    0.08372530000000002<br>  ],<br>  \"params\": {<br>    \"k\": 28,<br>    \"M\": 2772,<br>    \"probes\": 533<br>  }<br>}",
          "{<br>  \"number\": 12,<br>  \"values\": [<br>    1.7515089323386144,<br>    0.06502309999999999<br>  ],<br>  \"params\": {<br>    \"k\": 24,<br>    \"M\": 4983,<br>    \"probes\": 362<br>  }<br>}",
          "{<br>  \"number\": 13,<br>  \"values\": [<br>    1.8480215745938111,<br>    0.0007619<br>  ],<br>  \"params\": {<br>    \"k\": 11,<br>    \"M\": 3458,<br>    \"probes\": 80<br>  }<br>}",
          "{<br>  \"number\": 15,<br>  \"values\": [<br>    1.9185473220696934,<br>    0.0010255000000000002<br>  ],<br>  \"params\": {<br>    \"k\": 4,<br>    \"M\": 460,<br>    \"probes\": 683<br>  }<br>}",
          "{<br>  \"number\": 16,<br>  \"values\": [<br>    1.8983355548347576,<br>    0.0248911<br>  ],<br>  \"params\": {<br>    \"k\": 23,<br>    \"M\": 1407,<br>    \"probes\": 103<br>  }<br>}",
          "{<br>  \"number\": 18,<br>  \"values\": [<br>    1.432066949046283,<br>    0.08266860000000001<br>  ],<br>  \"params\": {<br>    \"k\": 29,<br>    \"M\": 3073,<br>    \"probes\": 598<br>  }<br>}",
          "{<br>  \"number\": 20,<br>  \"values\": [<br>    1.433949666368659,<br>    0.0256446<br>  ],<br>  \"params\": {<br>    \"k\": 22,<br>    \"M\": 1540,<br>    \"probes\": 678<br>  }<br>}",
          "{<br>  \"number\": 21,<br>  \"values\": [<br>    1.7479305902294213,<br>    0.0018781<br>  ],<br>  \"params\": {<br>    \"k\": 12,<br>    \"M\": 3947,<br>    \"probes\": 203<br>  }<br>}",
          "{<br>  \"number\": 23,<br>  \"values\": [<br>    1.65249975838885,<br>    0.0017244000000000003<br>  ],<br>  \"params\": {<br>    \"k\": 12,<br>    \"M\": 1414,<br>    \"probes\": 509<br>  }<br>}",
          "{<br>  \"number\": 25,<br>  \"values\": [<br>    2.5395984074472704,<br>    0.0009441<br>  ],<br>  \"params\": {<br>    \"k\": 2,<br>    \"M\": 127,<br>    \"probes\": 560<br>  }<br>}",
          "{<br>  \"number\": 26,<br>  \"values\": [<br>    1.5324523419170595,<br>    0.009423999999999998<br>  ],<br>  \"params\": {<br>    \"k\": 19,<br>    \"M\": 2362,<br>    \"probes\": 424<br>  }<br>}",
          "{<br>  \"number\": 27,<br>  \"values\": [<br>    2.6798375748725642,<br>    0.0012371<br>  ],<br>  \"params\": {<br>    \"k\": 6,<br>    \"M\": 4412,<br>    \"probes\": 750<br>  }<br>}",
          "{<br>  \"number\": 28,<br>  \"values\": [<br>    1.6600460654074185,<br>    0.0017255<br>  ],<br>  \"params\": {<br>    \"k\": 8,<br>    \"M\": 942,<br>    \"probes\": 954<br>  }<br>}",
          "{<br>  \"number\": 29,<br>  \"values\": [<br>    1.5784707563781106,<br>    0.08478260000000001<br>  ],<br>  \"params\": {<br>    \"k\": 30,<br>    \"M\": 733,<br>    \"probes\": 305<br>  }<br>}",
          "{<br>  \"number\": 30,<br>  \"values\": [<br>    1.815838589777603,<br>    0.0010017000000000001<br>  ],<br>  \"params\": {<br>    \"k\": 12,<br>    \"M\": 3132,<br>    \"probes\": 223<br>  }<br>}",
          "{<br>  \"number\": 31,<br>  \"values\": [<br>    1.4037587023157931,<br>    0.0709628<br>  ],<br>  \"params\": {<br>    \"k\": 23,<br>    \"M\": 3958,<br>    \"probes\": 464<br>  }<br>}",
          "{<br>  \"number\": 32,<br>  \"values\": [<br>    1.6430260793612481,<br>    0.007685900000000001<br>  ],<br>  \"params\": {<br>    \"k\": 17,<br>    \"M\": 1672,<br>    \"probes\": 307<br>  }<br>}",
          "{<br>  \"number\": 33,<br>  \"values\": [<br>    1.8829153239193481,<br>    0.006983100000000001<br>  ],<br>  \"params\": {<br>    \"k\": 17,<br>    \"M\": 4968,<br>    \"probes\": 156<br>  }<br>}",
          "{<br>  \"number\": 34,<br>  \"values\": [<br>    1.712759557150828,<br>    0.0207769<br>  ],<br>  \"params\": {<br>    \"k\": 18,<br>    \"M\": 4624,<br>    \"probes\": 366<br>  }<br>}",
          "{<br>  \"number\": 35,<br>  \"values\": [<br>    1.482006611552869,<br>    0.0030407000000000003<br>  ],<br>  \"params\": {<br>    \"k\": 14,<br>    \"M\": 2216,<br>    \"probes\": 196<br>  }<br>}",
          "{<br>  \"number\": 36,<br>  \"values\": [<br>    1.5056455023888717,<br>    0.002436<br>  ],<br>  \"params\": {<br>    \"k\": 11,<br>    \"M\": 2095,<br>    \"probes\": 840<br>  }<br>}",
          "{<br>  \"number\": 37,<br>  \"values\": [<br>    1.7980922283138767,<br>    0.0160522<br>  ],<br>  \"params\": {<br>    \"k\": 21,<br>    \"M\": 1689,<br>    \"probes\": 191<br>  }<br>}",
          "{<br>  \"number\": 38,<br>  \"values\": [<br>    1.4938208735559628,<br>    0.1031069<br>  ],<br>  \"params\": {<br>    \"k\": 28,<br>    \"M\": 4500,<br>    \"probes\": 758<br>  }<br>}",
          "{<br>  \"number\": 39,<br>  \"values\": [<br>    1.411292625588669,<br>    0.0038618<br>  ],<br>  \"params\": {<br>    \"k\": 15,<br>    \"M\": 2924,<br>    \"probes\": 653<br>  }<br>}",
          "{<br>  \"number\": 40,<br>  \"values\": [<br>    2.6813315150306347,<br>    0.0004785000000000001<br>  ],<br>  \"params\": {<br>    \"k\": 2,<br>    \"M\": 2575,<br>    \"probes\": 200<br>  }<br>}",
          "{<br>  \"number\": 41,<br>  \"values\": [<br>    2.402988384368219,<br>    0.0009278<br>  ],<br>  \"params\": {<br>    \"k\": 4,<br>    \"M\": 24,<br>    \"probes\": 519<br>  }<br>}",
          "{<br>  \"number\": 43,<br>  \"values\": [<br>    1.4815507560538244,<br>    0.04768289999999999<br>  ],<br>  \"params\": {<br>    \"k\": 23,<br>    \"M\": 732,<br>    \"probes\": 947<br>  }<br>}",
          "{<br>  \"number\": 45,<br>  \"values\": [<br>    1.4259423703847074,<br>    0.099945<br>  ],<br>  \"params\": {<br>    \"k\": 29,<br>    \"M\": 3494,<br>    \"probes\": 682<br>  }<br>}",
          "{<br>  \"number\": 46,<br>  \"values\": [<br>    1.6878746444665818,<br>    0.0014487000000000002<br>  ],<br>  \"params\": {<br>    \"k\": 8,<br>    \"M\": 1530,<br>    \"probes\": 815<br>  }<br>}",
          "{<br>  \"number\": 47,<br>  \"values\": [<br>    1.6058316314503709,<br>    0.0022613<br>  ],<br>  \"params\": {<br>    \"k\": 12,<br>    \"M\": 3260,<br>    \"probes\": 914<br>  }<br>}",
          "{<br>  \"number\": 48,<br>  \"values\": [<br>    1.5266650041139054,<br>    0.004064<br>  ],<br>  \"params\": {<br>    \"k\": 15,<br>    \"M\": 2756,<br>    \"probes\": 230<br>  }<br>}",
          "{<br>  \"number\": 49,<br>  \"values\": [<br>    1.4115338545030527,<br>    0.010862<br>  ],<br>  \"params\": {<br>    \"k\": 16,<br>    \"M\": 1699,<br>    \"probes\": 847<br>  }<br>}"
         ],
         "type": "scatter",
         "x": [
          1.9820858777568677,
          1.7737250814991719,
          2.5395984074472704,
          1.8083326113265408,
          1.752688660258667,
          1.7985897656818197,
          1.4322010253695117,
          1.7916286942867166,
          1.8403353729480714,
          1.4931837310582181,
          1.7515089323386144,
          1.8480215745938111,
          1.9185473220696934,
          1.8983355548347576,
          1.432066949046283,
          1.433949666368659,
          1.7479305902294213,
          1.65249975838885,
          2.5395984074472704,
          1.5324523419170595,
          2.6798375748725642,
          1.6600460654074185,
          1.5784707563781106,
          1.815838589777603,
          1.4037587023157931,
          1.6430260793612481,
          1.8829153239193481,
          1.712759557150828,
          1.482006611552869,
          1.5056455023888717,
          1.7980922283138767,
          1.4938208735559628,
          1.411292625588669,
          2.6813315150306347,
          2.402988384368219,
          1.4815507560538244,
          1.4259423703847074,
          1.6878746444665818,
          1.6058316314503709,
          1.5266650041139054,
          1.4115338545030527
         ],
         "y": [
          0.0054666,
          0.0702306,
          0.0011132000000000002,
          0.0014605999999999998,
          0.0072838,
          0.008184499999999999,
          0.0210656,
          0.0013756,
          0.0007258000000000001,
          0.08372530000000002,
          0.06502309999999999,
          0.0007619,
          0.0010255000000000002,
          0.0248911,
          0.08266860000000001,
          0.0256446,
          0.0018781,
          0.0017244000000000003,
          0.0009441,
          0.009423999999999998,
          0.0012371,
          0.0017255,
          0.08478260000000001,
          0.0010017000000000001,
          0.0709628,
          0.007685900000000001,
          0.006983100000000001,
          0.0207769,
          0.0030407000000000003,
          0.002436,
          0.0160522,
          0.1031069,
          0.0038618,
          0.0004785000000000001,
          0.0009278,
          0.04768289999999999,
          0.099945,
          0.0014487000000000002,
          0.0022613,
          0.004064,
          0.010862
         ]
        },
        {
         "hovertemplate": "%{text}<extra>Best Trial</extra>",
         "marker": {
          "color": [
           9,
           10,
           14,
           17,
           19,
           22,
           24,
           42,
           44
          ],
          "colorbar": {
           "title": {
            "text": "Best Trial"
           },
           "x": 1.1,
           "xpad": 40
          },
          "colorscale": [
           [
            0,
            "rgb(255,245,240)"
           ],
           [
            0.125,
            "rgb(254,224,210)"
           ],
           [
            0.25,
            "rgb(252,187,161)"
           ],
           [
            0.375,
            "rgb(252,146,114)"
           ],
           [
            0.5,
            "rgb(251,106,74)"
           ],
           [
            0.625,
            "rgb(239,59,44)"
           ],
           [
            0.75,
            "rgb(203,24,29)"
           ],
           [
            0.875,
            "rgb(165,15,21)"
           ],
           [
            1,
            "rgb(103,0,13)"
           ]
          ],
          "line": {
           "color": "Grey",
           "width": 0.5
          }
         },
         "mode": "markers",
         "showlegend": false,
         "text": [
          "{<br>  \"number\": 9,<br>  \"values\": [<br>    1.9332440185941568,<br>    0.0005749<br>  ],<br>  \"params\": {<br>    \"k\": 4,<br>    \"M\": 66,<br>    \"probes\": 305<br>  }<br>}",
          "{<br>  \"number\": 10,<br>  \"values\": [<br>    2.381787456413473,<br>    0.00044039999999999997<br>  ],<br>  \"params\": {<br>    \"k\": 8,<br>    \"M\": 2748,<br>    \"probes\": 124<br>  }<br>}",
          "{<br>  \"number\": 14,<br>  \"values\": [<br>    1.780159117933763,<br>    0.0009214<br>  ],<br>  \"params\": {<br>    \"k\": 4,<br>    \"M\": 1966,<br>    \"probes\": 570<br>  }<br>}",
          "{<br>  \"number\": 17,<br>  \"values\": [<br>    1.2138728669424221,<br>    0.09235270000000001<br>  ],<br>  \"params\": {<br>    \"k\": 26,<br>    \"M\": 4453,<br>    \"probes\": 980<br>  }<br>}",
          "{<br>  \"number\": 19,<br>  \"values\": [<br>    1.7008422594541597,<br>    0.0011613<br>  ],<br>  \"params\": {<br>    \"k\": 2,<br>    \"M\": 24,<br>    \"probes\": 804<br>  }<br>}",
          "{<br>  \"number\": 22,<br>  \"values\": [<br>    1.8083326113265408,<br>    0.0006953<br>  ],<br>  \"params\": {<br>    \"k\": 4,<br>    \"M\": 3099,<br>    \"probes\": 359<br>  }<br>}",
          "{<br>  \"number\": 24,<br>  \"values\": [<br>    1.3877293557617412,<br>    0.001493<br>  ],<br>  \"params\": {<br>    \"k\": 9,<br>    \"M\": 2943,<br>    \"probes\": 740<br>  }<br>}",
          "{<br>  \"number\": 42,<br>  \"values\": [<br>    2.633067072700275,<br>    0.0004029<br>  ],<br>  \"params\": {<br>    \"k\": 5,<br>    \"M\": 4957,<br>    \"probes\": 140<br>  }<br>}",
          "{<br>  \"number\": 44,<br>  \"values\": [<br>    1.621818005658229,<br>    0.0011896<br>  ],<br>  \"params\": {<br>    \"k\": 8,<br>    \"M\": 4351,<br>    \"probes\": 679<br>  }<br>}"
         ],
         "type": "scatter",
         "x": [
          1.9332440185941568,
          2.381787456413473,
          1.780159117933763,
          1.2138728669424221,
          1.7008422594541597,
          1.8083326113265408,
          1.3877293557617412,
          2.633067072700275,
          1.621818005658229
         ],
         "y": [
          0.0005749,
          0.00044039999999999997,
          0.0009214,
          0.09235270000000001,
          0.0011613,
          0.0006953,
          0.001493,
          0.0004029,
          0.0011896
         ]
        }
       ],
       "layout": {
        "template": {
         "data": {
          "bar": [
           {
            "error_x": {
             "color": "#2a3f5f"
            },
            "error_y": {
             "color": "#2a3f5f"
            },
            "marker": {
             "line": {
              "color": "#E5ECF6",
              "width": 0.5
             },
             "pattern": {
              "fillmode": "overlay",
              "size": 10,
              "solidity": 0.2
             }
            },
            "type": "bar"
           }
          ],
          "barpolar": [
           {
            "marker": {
             "line": {
              "color": "#E5ECF6",
              "width": 0.5
             },
             "pattern": {
              "fillmode": "overlay",
              "size": 10,
              "solidity": 0.2
             }
            },
            "type": "barpolar"
           }
          ],
          "carpet": [
           {
            "aaxis": {
             "endlinecolor": "#2a3f5f",
             "gridcolor": "white",
             "linecolor": "white",
             "minorgridcolor": "white",
             "startlinecolor": "#2a3f5f"
            },
            "baxis": {
             "endlinecolor": "#2a3f5f",
             "gridcolor": "white",
             "linecolor": "white",
             "minorgridcolor": "white",
             "startlinecolor": "#2a3f5f"
            },
            "type": "carpet"
           }
          ],
          "choropleth": [
           {
            "colorbar": {
             "outlinewidth": 0,
             "ticks": ""
            },
            "type": "choropleth"
           }
          ],
          "contour": [
           {
            "colorbar": {
             "outlinewidth": 0,
             "ticks": ""
            },
            "colorscale": [
             [
              0,
              "#0d0887"
             ],
             [
              0.1111111111111111,
              "#46039f"
             ],
             [
              0.2222222222222222,
              "#7201a8"
             ],
             [
              0.3333333333333333,
              "#9c179e"
             ],
             [
              0.4444444444444444,
              "#bd3786"
             ],
             [
              0.5555555555555556,
              "#d8576b"
             ],
             [
              0.6666666666666666,
              "#ed7953"
             ],
             [
              0.7777777777777778,
              "#fb9f3a"
             ],
             [
              0.8888888888888888,
              "#fdca26"
             ],
             [
              1,
              "#f0f921"
             ]
            ],
            "type": "contour"
           }
          ],
          "contourcarpet": [
           {
            "colorbar": {
             "outlinewidth": 0,
             "ticks": ""
            },
            "type": "contourcarpet"
           }
          ],
          "heatmap": [
           {
            "colorbar": {
             "outlinewidth": 0,
             "ticks": ""
            },
            "colorscale": [
             [
              0,
              "#0d0887"
             ],
             [
              0.1111111111111111,
              "#46039f"
             ],
             [
              0.2222222222222222,
              "#7201a8"
             ],
             [
              0.3333333333333333,
              "#9c179e"
             ],
             [
              0.4444444444444444,
              "#bd3786"
             ],
             [
              0.5555555555555556,
              "#d8576b"
             ],
             [
              0.6666666666666666,
              "#ed7953"
             ],
             [
              0.7777777777777778,
              "#fb9f3a"
             ],
             [
              0.8888888888888888,
              "#fdca26"
             ],
             [
              1,
              "#f0f921"
             ]
            ],
            "type": "heatmap"
           }
          ],
          "heatmapgl": [
           {
            "colorbar": {
             "outlinewidth": 0,
             "ticks": ""
            },
            "colorscale": [
             [
              0,
              "#0d0887"
             ],
             [
              0.1111111111111111,
              "#46039f"
             ],
             [
              0.2222222222222222,
              "#7201a8"
             ],
             [
              0.3333333333333333,
              "#9c179e"
             ],
             [
              0.4444444444444444,
              "#bd3786"
             ],
             [
              0.5555555555555556,
              "#d8576b"
             ],
             [
              0.6666666666666666,
              "#ed7953"
             ],
             [
              0.7777777777777778,
              "#fb9f3a"
             ],
             [
              0.8888888888888888,
              "#fdca26"
             ],
             [
              1,
              "#f0f921"
             ]
            ],
            "type": "heatmapgl"
           }
          ],
          "histogram": [
           {
            "marker": {
             "pattern": {
              "fillmode": "overlay",
              "size": 10,
              "solidity": 0.2
             }
            },
            "type": "histogram"
           }
          ],
          "histogram2d": [
           {
            "colorbar": {
             "outlinewidth": 0,
             "ticks": ""
            },
            "colorscale": [
             [
              0,
              "#0d0887"
             ],
             [
              0.1111111111111111,
              "#46039f"
             ],
             [
              0.2222222222222222,
              "#7201a8"
             ],
             [
              0.3333333333333333,
              "#9c179e"
             ],
             [
              0.4444444444444444,
              "#bd3786"
             ],
             [
              0.5555555555555556,
              "#d8576b"
             ],
             [
              0.6666666666666666,
              "#ed7953"
             ],
             [
              0.7777777777777778,
              "#fb9f3a"
             ],
             [
              0.8888888888888888,
              "#fdca26"
             ],
             [
              1,
              "#f0f921"
             ]
            ],
            "type": "histogram2d"
           }
          ],
          "histogram2dcontour": [
           {
            "colorbar": {
             "outlinewidth": 0,
             "ticks": ""
            },
            "colorscale": [
             [
              0,
              "#0d0887"
             ],
             [
              0.1111111111111111,
              "#46039f"
             ],
             [
              0.2222222222222222,
              "#7201a8"
             ],
             [
              0.3333333333333333,
              "#9c179e"
             ],
             [
              0.4444444444444444,
              "#bd3786"
             ],
             [
              0.5555555555555556,
              "#d8576b"
             ],
             [
              0.6666666666666666,
              "#ed7953"
             ],
             [
              0.7777777777777778,
              "#fb9f3a"
             ],
             [
              0.8888888888888888,
              "#fdca26"
             ],
             [
              1,
              "#f0f921"
             ]
            ],
            "type": "histogram2dcontour"
           }
          ],
          "mesh3d": [
           {
            "colorbar": {
             "outlinewidth": 0,
             "ticks": ""
            },
            "type": "mesh3d"
           }
          ],
          "parcoords": [
           {
            "line": {
             "colorbar": {
              "outlinewidth": 0,
              "ticks": ""
             }
            },
            "type": "parcoords"
           }
          ],
          "pie": [
           {
            "automargin": true,
            "type": "pie"
           }
          ],
          "scatter": [
           {
            "fillpattern": {
             "fillmode": "overlay",
             "size": 10,
             "solidity": 0.2
            },
            "type": "scatter"
           }
          ],
          "scatter3d": [
           {
            "line": {
             "colorbar": {
              "outlinewidth": 0,
              "ticks": ""
             }
            },
            "marker": {
             "colorbar": {
              "outlinewidth": 0,
              "ticks": ""
             }
            },
            "type": "scatter3d"
           }
          ],
          "scattercarpet": [
           {
            "marker": {
             "colorbar": {
              "outlinewidth": 0,
              "ticks": ""
             }
            },
            "type": "scattercarpet"
           }
          ],
          "scattergeo": [
           {
            "marker": {
             "colorbar": {
              "outlinewidth": 0,
              "ticks": ""
             }
            },
            "type": "scattergeo"
           }
          ],
          "scattergl": [
           {
            "marker": {
             "colorbar": {
              "outlinewidth": 0,
              "ticks": ""
             }
            },
            "type": "scattergl"
           }
          ],
          "scattermapbox": [
           {
            "marker": {
             "colorbar": {
              "outlinewidth": 0,
              "ticks": ""
             }
            },
            "type": "scattermapbox"
           }
          ],
          "scatterpolar": [
           {
            "marker": {
             "colorbar": {
              "outlinewidth": 0,
              "ticks": ""
             }
            },
            "type": "scatterpolar"
           }
          ],
          "scatterpolargl": [
           {
            "marker": {
             "colorbar": {
              "outlinewidth": 0,
              "ticks": ""
             }
            },
            "type": "scatterpolargl"
           }
          ],
          "scatterternary": [
           {
            "marker": {
             "colorbar": {
              "outlinewidth": 0,
              "ticks": ""
             }
            },
            "type": "scatterternary"
           }
          ],
          "surface": [
           {
            "colorbar": {
             "outlinewidth": 0,
             "ticks": ""
            },
            "colorscale": [
             [
              0,
              "#0d0887"
             ],
             [
              0.1111111111111111,
              "#46039f"
             ],
             [
              0.2222222222222222,
              "#7201a8"
             ],
             [
              0.3333333333333333,
              "#9c179e"
             ],
             [
              0.4444444444444444,
              "#bd3786"
             ],
             [
              0.5555555555555556,
              "#d8576b"
             ],
             [
              0.6666666666666666,
              "#ed7953"
             ],
             [
              0.7777777777777778,
              "#fb9f3a"
             ],
             [
              0.8888888888888888,
              "#fdca26"
             ],
             [
              1,
              "#f0f921"
             ]
            ],
            "type": "surface"
           }
          ],
          "table": [
           {
            "cells": {
             "fill": {
              "color": "#EBF0F8"
             },
             "line": {
              "color": "white"
             }
            },
            "header": {
             "fill": {
              "color": "#C8D4E3"
             },
             "line": {
              "color": "white"
             }
            },
            "type": "table"
           }
          ]
         },
         "layout": {
          "annotationdefaults": {
           "arrowcolor": "#2a3f5f",
           "arrowhead": 0,
           "arrowwidth": 1
          },
          "autotypenumbers": "strict",
          "coloraxis": {
           "colorbar": {
            "outlinewidth": 0,
            "ticks": ""
           }
          },
          "colorscale": {
           "diverging": [
            [
             0,
             "#8e0152"
            ],
            [
             0.1,
             "#c51b7d"
            ],
            [
             0.2,
             "#de77ae"
            ],
            [
             0.3,
             "#f1b6da"
            ],
            [
             0.4,
             "#fde0ef"
            ],
            [
             0.5,
             "#f7f7f7"
            ],
            [
             0.6,
             "#e6f5d0"
            ],
            [
             0.7,
             "#b8e186"
            ],
            [
             0.8,
             "#7fbc41"
            ],
            [
             0.9,
             "#4d9221"
            ],
            [
             1,
             "#276419"
            ]
           ],
           "sequential": [
            [
             0,
             "#0d0887"
            ],
            [
             0.1111111111111111,
             "#46039f"
            ],
            [
             0.2222222222222222,
             "#7201a8"
            ],
            [
             0.3333333333333333,
             "#9c179e"
            ],
            [
             0.4444444444444444,
             "#bd3786"
            ],
            [
             0.5555555555555556,
             "#d8576b"
            ],
            [
             0.6666666666666666,
             "#ed7953"
            ],
            [
             0.7777777777777778,
             "#fb9f3a"
            ],
            [
             0.8888888888888888,
             "#fdca26"
            ],
            [
             1,
             "#f0f921"
            ]
           ],
           "sequentialminus": [
            [
             0,
             "#0d0887"
            ],
            [
             0.1111111111111111,
             "#46039f"
            ],
            [
             0.2222222222222222,
             "#7201a8"
            ],
            [
             0.3333333333333333,
             "#9c179e"
            ],
            [
             0.4444444444444444,
             "#bd3786"
            ],
            [
             0.5555555555555556,
             "#d8576b"
            ],
            [
             0.6666666666666666,
             "#ed7953"
            ],
            [
             0.7777777777777778,
             "#fb9f3a"
            ],
            [
             0.8888888888888888,
             "#fdca26"
            ],
            [
             1,
             "#f0f921"
            ]
           ]
          },
          "colorway": [
           "#636efa",
           "#EF553B",
           "#00cc96",
           "#ab63fa",
           "#FFA15A",
           "#19d3f3",
           "#FF6692",
           "#B6E880",
           "#FF97FF",
           "#FECB52"
          ],
          "font": {
           "color": "#2a3f5f"
          },
          "geo": {
           "bgcolor": "white",
           "lakecolor": "white",
           "landcolor": "#E5ECF6",
           "showlakes": true,
           "showland": true,
           "subunitcolor": "white"
          },
          "hoverlabel": {
           "align": "left"
          },
          "hovermode": "closest",
          "mapbox": {
           "style": "light"
          },
          "paper_bgcolor": "white",
          "plot_bgcolor": "#E5ECF6",
          "polar": {
           "angularaxis": {
            "gridcolor": "white",
            "linecolor": "white",
            "ticks": ""
           },
           "bgcolor": "#E5ECF6",
           "radialaxis": {
            "gridcolor": "white",
            "linecolor": "white",
            "ticks": ""
           }
          },
          "scene": {
           "xaxis": {
            "backgroundcolor": "#E5ECF6",
            "gridcolor": "white",
            "gridwidth": 2,
            "linecolor": "white",
            "showbackground": true,
            "ticks": "",
            "zerolinecolor": "white"
           },
           "yaxis": {
            "backgroundcolor": "#E5ECF6",
            "gridcolor": "white",
            "gridwidth": 2,
            "linecolor": "white",
            "showbackground": true,
            "ticks": "",
            "zerolinecolor": "white"
           },
           "zaxis": {
            "backgroundcolor": "#E5ECF6",
            "gridcolor": "white",
            "gridwidth": 2,
            "linecolor": "white",
            "showbackground": true,
            "ticks": "",
            "zerolinecolor": "white"
           }
          },
          "shapedefaults": {
           "line": {
            "color": "#2a3f5f"
           }
          },
          "ternary": {
           "aaxis": {
            "gridcolor": "white",
            "linecolor": "white",
            "ticks": ""
           },
           "baxis": {
            "gridcolor": "white",
            "linecolor": "white",
            "ticks": ""
           },
           "bgcolor": "#E5ECF6",
           "caxis": {
            "gridcolor": "white",
            "linecolor": "white",
            "ticks": ""
           }
          },
          "title": {
           "x": 0.05
          },
          "xaxis": {
           "automargin": true,
           "gridcolor": "white",
           "linecolor": "white",
           "ticks": "",
           "title": {
            "standoff": 15
           },
           "zerolinecolor": "white",
           "zerolinewidth": 2
          },
          "yaxis": {
           "automargin": true,
           "gridcolor": "white",
           "linecolor": "white",
           "ticks": "",
           "title": {
            "standoff": 15
           },
           "zerolinecolor": "white",
           "zerolinewidth": 2
          }
         }
        },
        "title": {
         "text": "Pareto-front Plot"
        },
        "xaxis": {
         "title": {
          "text": "maf"
         }
        },
        "yaxis": {
         "title": {
          "text": "average_time"
         }
        }
       }
      }
     },
     "metadata": {},
     "output_type": "display_data"
    }
   ],
   "source": [
    "plot_pareto_front(hypercube_study, target_names=['maf', 'average_time'])"
   ]
  },
  {
   "cell_type": "code",
   "execution_count": 8,
   "metadata": {},
   "outputs": [
    {
     "data": {
      "application/vnd.plotly.v1+json": {
       "config": {
        "plotlyServerURL": "https://plot.ly"
       },
       "data": [
        {
         "mode": "markers",
         "name": "maf",
         "type": "scatter",
         "x": [
          0,
          1,
          2,
          3,
          4,
          5,
          6,
          7,
          8,
          9,
          10,
          11,
          12,
          13,
          14,
          15,
          16,
          17,
          18,
          19,
          20,
          21,
          22,
          23,
          24,
          25,
          26,
          27,
          28,
          29,
          30,
          31,
          32,
          33,
          34,
          35,
          36,
          37,
          38,
          39,
          40,
          41,
          42,
          43,
          44,
          45,
          46,
          47,
          48,
          49
         ],
         "y": [
          1.9820858777568677,
          1.7737250814991719,
          2.5395984074472704,
          1.8083326113265408,
          1.752688660258667,
          1.7985897656818197,
          1.4322010253695117,
          1.7916286942867166,
          1.8403353729480714,
          1.9332440185941568,
          2.381787456413473,
          1.4931837310582181,
          1.7515089323386144,
          1.8480215745938111,
          1.780159117933763,
          1.9185473220696934,
          1.8983355548347576,
          1.2138728669424221,
          1.432066949046283,
          1.7008422594541597,
          1.433949666368659,
          1.7479305902294213,
          1.8083326113265408,
          1.65249975838885,
          1.3877293557617412,
          2.5395984074472704,
          1.5324523419170595,
          2.6798375748725642,
          1.6600460654074185,
          1.5784707563781106,
          1.815838589777603,
          1.4037587023157931,
          1.6430260793612481,
          1.8829153239193481,
          1.712759557150828,
          1.482006611552869,
          1.5056455023888717,
          1.7980922283138767,
          1.4938208735559628,
          1.411292625588669,
          2.6813315150306347,
          2.402988384368219,
          2.633067072700275,
          1.4815507560538244,
          1.621818005658229,
          1.4259423703847074,
          1.6878746444665818,
          1.6058316314503709,
          1.5266650041139054,
          1.4115338545030527
         ]
        },
        {
         "marker": {
          "color": "#cccccc"
         },
         "mode": "markers",
         "name": "Infeasible Trial",
         "showlegend": false,
         "type": "scatter",
         "x": [],
         "y": []
        }
       ],
       "layout": {
        "template": {
         "data": {
          "bar": [
           {
            "error_x": {
             "color": "#2a3f5f"
            },
            "error_y": {
             "color": "#2a3f5f"
            },
            "marker": {
             "line": {
              "color": "#E5ECF6",
              "width": 0.5
             },
             "pattern": {
              "fillmode": "overlay",
              "size": 10,
              "solidity": 0.2
             }
            },
            "type": "bar"
           }
          ],
          "barpolar": [
           {
            "marker": {
             "line": {
              "color": "#E5ECF6",
              "width": 0.5
             },
             "pattern": {
              "fillmode": "overlay",
              "size": 10,
              "solidity": 0.2
             }
            },
            "type": "barpolar"
           }
          ],
          "carpet": [
           {
            "aaxis": {
             "endlinecolor": "#2a3f5f",
             "gridcolor": "white",
             "linecolor": "white",
             "minorgridcolor": "white",
             "startlinecolor": "#2a3f5f"
            },
            "baxis": {
             "endlinecolor": "#2a3f5f",
             "gridcolor": "white",
             "linecolor": "white",
             "minorgridcolor": "white",
             "startlinecolor": "#2a3f5f"
            },
            "type": "carpet"
           }
          ],
          "choropleth": [
           {
            "colorbar": {
             "outlinewidth": 0,
             "ticks": ""
            },
            "type": "choropleth"
           }
          ],
          "contour": [
           {
            "colorbar": {
             "outlinewidth": 0,
             "ticks": ""
            },
            "colorscale": [
             [
              0,
              "#0d0887"
             ],
             [
              0.1111111111111111,
              "#46039f"
             ],
             [
              0.2222222222222222,
              "#7201a8"
             ],
             [
              0.3333333333333333,
              "#9c179e"
             ],
             [
              0.4444444444444444,
              "#bd3786"
             ],
             [
              0.5555555555555556,
              "#d8576b"
             ],
             [
              0.6666666666666666,
              "#ed7953"
             ],
             [
              0.7777777777777778,
              "#fb9f3a"
             ],
             [
              0.8888888888888888,
              "#fdca26"
             ],
             [
              1,
              "#f0f921"
             ]
            ],
            "type": "contour"
           }
          ],
          "contourcarpet": [
           {
            "colorbar": {
             "outlinewidth": 0,
             "ticks": ""
            },
            "type": "contourcarpet"
           }
          ],
          "heatmap": [
           {
            "colorbar": {
             "outlinewidth": 0,
             "ticks": ""
            },
            "colorscale": [
             [
              0,
              "#0d0887"
             ],
             [
              0.1111111111111111,
              "#46039f"
             ],
             [
              0.2222222222222222,
              "#7201a8"
             ],
             [
              0.3333333333333333,
              "#9c179e"
             ],
             [
              0.4444444444444444,
              "#bd3786"
             ],
             [
              0.5555555555555556,
              "#d8576b"
             ],
             [
              0.6666666666666666,
              "#ed7953"
             ],
             [
              0.7777777777777778,
              "#fb9f3a"
             ],
             [
              0.8888888888888888,
              "#fdca26"
             ],
             [
              1,
              "#f0f921"
             ]
            ],
            "type": "heatmap"
           }
          ],
          "heatmapgl": [
           {
            "colorbar": {
             "outlinewidth": 0,
             "ticks": ""
            },
            "colorscale": [
             [
              0,
              "#0d0887"
             ],
             [
              0.1111111111111111,
              "#46039f"
             ],
             [
              0.2222222222222222,
              "#7201a8"
             ],
             [
              0.3333333333333333,
              "#9c179e"
             ],
             [
              0.4444444444444444,
              "#bd3786"
             ],
             [
              0.5555555555555556,
              "#d8576b"
             ],
             [
              0.6666666666666666,
              "#ed7953"
             ],
             [
              0.7777777777777778,
              "#fb9f3a"
             ],
             [
              0.8888888888888888,
              "#fdca26"
             ],
             [
              1,
              "#f0f921"
             ]
            ],
            "type": "heatmapgl"
           }
          ],
          "histogram": [
           {
            "marker": {
             "pattern": {
              "fillmode": "overlay",
              "size": 10,
              "solidity": 0.2
             }
            },
            "type": "histogram"
           }
          ],
          "histogram2d": [
           {
            "colorbar": {
             "outlinewidth": 0,
             "ticks": ""
            },
            "colorscale": [
             [
              0,
              "#0d0887"
             ],
             [
              0.1111111111111111,
              "#46039f"
             ],
             [
              0.2222222222222222,
              "#7201a8"
             ],
             [
              0.3333333333333333,
              "#9c179e"
             ],
             [
              0.4444444444444444,
              "#bd3786"
             ],
             [
              0.5555555555555556,
              "#d8576b"
             ],
             [
              0.6666666666666666,
              "#ed7953"
             ],
             [
              0.7777777777777778,
              "#fb9f3a"
             ],
             [
              0.8888888888888888,
              "#fdca26"
             ],
             [
              1,
              "#f0f921"
             ]
            ],
            "type": "histogram2d"
           }
          ],
          "histogram2dcontour": [
           {
            "colorbar": {
             "outlinewidth": 0,
             "ticks": ""
            },
            "colorscale": [
             [
              0,
              "#0d0887"
             ],
             [
              0.1111111111111111,
              "#46039f"
             ],
             [
              0.2222222222222222,
              "#7201a8"
             ],
             [
              0.3333333333333333,
              "#9c179e"
             ],
             [
              0.4444444444444444,
              "#bd3786"
             ],
             [
              0.5555555555555556,
              "#d8576b"
             ],
             [
              0.6666666666666666,
              "#ed7953"
             ],
             [
              0.7777777777777778,
              "#fb9f3a"
             ],
             [
              0.8888888888888888,
              "#fdca26"
             ],
             [
              1,
              "#f0f921"
             ]
            ],
            "type": "histogram2dcontour"
           }
          ],
          "mesh3d": [
           {
            "colorbar": {
             "outlinewidth": 0,
             "ticks": ""
            },
            "type": "mesh3d"
           }
          ],
          "parcoords": [
           {
            "line": {
             "colorbar": {
              "outlinewidth": 0,
              "ticks": ""
             }
            },
            "type": "parcoords"
           }
          ],
          "pie": [
           {
            "automargin": true,
            "type": "pie"
           }
          ],
          "scatter": [
           {
            "fillpattern": {
             "fillmode": "overlay",
             "size": 10,
             "solidity": 0.2
            },
            "type": "scatter"
           }
          ],
          "scatter3d": [
           {
            "line": {
             "colorbar": {
              "outlinewidth": 0,
              "ticks": ""
             }
            },
            "marker": {
             "colorbar": {
              "outlinewidth": 0,
              "ticks": ""
             }
            },
            "type": "scatter3d"
           }
          ],
          "scattercarpet": [
           {
            "marker": {
             "colorbar": {
              "outlinewidth": 0,
              "ticks": ""
             }
            },
            "type": "scattercarpet"
           }
          ],
          "scattergeo": [
           {
            "marker": {
             "colorbar": {
              "outlinewidth": 0,
              "ticks": ""
             }
            },
            "type": "scattergeo"
           }
          ],
          "scattergl": [
           {
            "marker": {
             "colorbar": {
              "outlinewidth": 0,
              "ticks": ""
             }
            },
            "type": "scattergl"
           }
          ],
          "scattermapbox": [
           {
            "marker": {
             "colorbar": {
              "outlinewidth": 0,
              "ticks": ""
             }
            },
            "type": "scattermapbox"
           }
          ],
          "scatterpolar": [
           {
            "marker": {
             "colorbar": {
              "outlinewidth": 0,
              "ticks": ""
             }
            },
            "type": "scatterpolar"
           }
          ],
          "scatterpolargl": [
           {
            "marker": {
             "colorbar": {
              "outlinewidth": 0,
              "ticks": ""
             }
            },
            "type": "scatterpolargl"
           }
          ],
          "scatterternary": [
           {
            "marker": {
             "colorbar": {
              "outlinewidth": 0,
              "ticks": ""
             }
            },
            "type": "scatterternary"
           }
          ],
          "surface": [
           {
            "colorbar": {
             "outlinewidth": 0,
             "ticks": ""
            },
            "colorscale": [
             [
              0,
              "#0d0887"
             ],
             [
              0.1111111111111111,
              "#46039f"
             ],
             [
              0.2222222222222222,
              "#7201a8"
             ],
             [
              0.3333333333333333,
              "#9c179e"
             ],
             [
              0.4444444444444444,
              "#bd3786"
             ],
             [
              0.5555555555555556,
              "#d8576b"
             ],
             [
              0.6666666666666666,
              "#ed7953"
             ],
             [
              0.7777777777777778,
              "#fb9f3a"
             ],
             [
              0.8888888888888888,
              "#fdca26"
             ],
             [
              1,
              "#f0f921"
             ]
            ],
            "type": "surface"
           }
          ],
          "table": [
           {
            "cells": {
             "fill": {
              "color": "#EBF0F8"
             },
             "line": {
              "color": "white"
             }
            },
            "header": {
             "fill": {
              "color": "#C8D4E3"
             },
             "line": {
              "color": "white"
             }
            },
            "type": "table"
           }
          ]
         },
         "layout": {
          "annotationdefaults": {
           "arrowcolor": "#2a3f5f",
           "arrowhead": 0,
           "arrowwidth": 1
          },
          "autotypenumbers": "strict",
          "coloraxis": {
           "colorbar": {
            "outlinewidth": 0,
            "ticks": ""
           }
          },
          "colorscale": {
           "diverging": [
            [
             0,
             "#8e0152"
            ],
            [
             0.1,
             "#c51b7d"
            ],
            [
             0.2,
             "#de77ae"
            ],
            [
             0.3,
             "#f1b6da"
            ],
            [
             0.4,
             "#fde0ef"
            ],
            [
             0.5,
             "#f7f7f7"
            ],
            [
             0.6,
             "#e6f5d0"
            ],
            [
             0.7,
             "#b8e186"
            ],
            [
             0.8,
             "#7fbc41"
            ],
            [
             0.9,
             "#4d9221"
            ],
            [
             1,
             "#276419"
            ]
           ],
           "sequential": [
            [
             0,
             "#0d0887"
            ],
            [
             0.1111111111111111,
             "#46039f"
            ],
            [
             0.2222222222222222,
             "#7201a8"
            ],
            [
             0.3333333333333333,
             "#9c179e"
            ],
            [
             0.4444444444444444,
             "#bd3786"
            ],
            [
             0.5555555555555556,
             "#d8576b"
            ],
            [
             0.6666666666666666,
             "#ed7953"
            ],
            [
             0.7777777777777778,
             "#fb9f3a"
            ],
            [
             0.8888888888888888,
             "#fdca26"
            ],
            [
             1,
             "#f0f921"
            ]
           ],
           "sequentialminus": [
            [
             0,
             "#0d0887"
            ],
            [
             0.1111111111111111,
             "#46039f"
            ],
            [
             0.2222222222222222,
             "#7201a8"
            ],
            [
             0.3333333333333333,
             "#9c179e"
            ],
            [
             0.4444444444444444,
             "#bd3786"
            ],
            [
             0.5555555555555556,
             "#d8576b"
            ],
            [
             0.6666666666666666,
             "#ed7953"
            ],
            [
             0.7777777777777778,
             "#fb9f3a"
            ],
            [
             0.8888888888888888,
             "#fdca26"
            ],
            [
             1,
             "#f0f921"
            ]
           ]
          },
          "colorway": [
           "#636efa",
           "#EF553B",
           "#00cc96",
           "#ab63fa",
           "#FFA15A",
           "#19d3f3",
           "#FF6692",
           "#B6E880",
           "#FF97FF",
           "#FECB52"
          ],
          "font": {
           "color": "#2a3f5f"
          },
          "geo": {
           "bgcolor": "white",
           "lakecolor": "white",
           "landcolor": "#E5ECF6",
           "showlakes": true,
           "showland": true,
           "subunitcolor": "white"
          },
          "hoverlabel": {
           "align": "left"
          },
          "hovermode": "closest",
          "mapbox": {
           "style": "light"
          },
          "paper_bgcolor": "white",
          "plot_bgcolor": "#E5ECF6",
          "polar": {
           "angularaxis": {
            "gridcolor": "white",
            "linecolor": "white",
            "ticks": ""
           },
           "bgcolor": "#E5ECF6",
           "radialaxis": {
            "gridcolor": "white",
            "linecolor": "white",
            "ticks": ""
           }
          },
          "scene": {
           "xaxis": {
            "backgroundcolor": "#E5ECF6",
            "gridcolor": "white",
            "gridwidth": 2,
            "linecolor": "white",
            "showbackground": true,
            "ticks": "",
            "zerolinecolor": "white"
           },
           "yaxis": {
            "backgroundcolor": "#E5ECF6",
            "gridcolor": "white",
            "gridwidth": 2,
            "linecolor": "white",
            "showbackground": true,
            "ticks": "",
            "zerolinecolor": "white"
           },
           "zaxis": {
            "backgroundcolor": "#E5ECF6",
            "gridcolor": "white",
            "gridwidth": 2,
            "linecolor": "white",
            "showbackground": true,
            "ticks": "",
            "zerolinecolor": "white"
           }
          },
          "shapedefaults": {
           "line": {
            "color": "#2a3f5f"
           }
          },
          "ternary": {
           "aaxis": {
            "gridcolor": "white",
            "linecolor": "white",
            "ticks": ""
           },
           "baxis": {
            "gridcolor": "white",
            "linecolor": "white",
            "ticks": ""
           },
           "bgcolor": "#E5ECF6",
           "caxis": {
            "gridcolor": "white",
            "linecolor": "white",
            "ticks": ""
           }
          },
          "title": {
           "x": 0.05
          },
          "xaxis": {
           "automargin": true,
           "gridcolor": "white",
           "linecolor": "white",
           "ticks": "",
           "title": {
            "standoff": 15
           },
           "zerolinecolor": "white",
           "zerolinewidth": 2
          },
          "yaxis": {
           "automargin": true,
           "gridcolor": "white",
           "linecolor": "white",
           "ticks": "",
           "title": {
            "standoff": 15
           },
           "zerolinecolor": "white",
           "zerolinewidth": 2
          }
         }
        },
        "title": {
         "text": "Optimization History Plot"
        },
        "xaxis": {
         "title": {
          "text": "Trial"
         }
        },
        "yaxis": {
         "title": {
          "text": "maf"
         }
        }
       }
      }
     },
     "metadata": {},
     "output_type": "display_data"
    }
   ],
   "source": [
    "plot_optimization_history(hypercube_study, target = lambda t: t.values[0], target_name = 'maf')"
   ]
  },
  {
   "cell_type": "code",
   "execution_count": 9,
   "metadata": {},
   "outputs": [
    {
     "data": {
      "application/vnd.plotly.v1+json": {
       "config": {
        "plotlyServerURL": "https://plot.ly"
       },
       "data": [
        {
         "mode": "markers",
         "name": "average_time",
         "type": "scatter",
         "x": [
          0,
          1,
          2,
          3,
          4,
          5,
          6,
          7,
          8,
          9,
          10,
          11,
          12,
          13,
          14,
          15,
          16,
          17,
          18,
          19,
          20,
          21,
          22,
          23,
          24,
          25,
          26,
          27,
          28,
          29,
          30,
          31,
          32,
          33,
          34,
          35,
          36,
          37,
          38,
          39,
          40,
          41,
          42,
          43,
          44,
          45,
          46,
          47,
          48,
          49
         ],
         "y": [
          0.0054666,
          0.0702306,
          0.0011132000000000002,
          0.0014605999999999998,
          0.0072838,
          0.008184499999999999,
          0.0210656,
          0.0013756,
          0.0007258000000000001,
          0.0005749,
          0.00044039999999999997,
          0.08372530000000002,
          0.06502309999999999,
          0.0007619,
          0.0009214,
          0.0010255000000000002,
          0.0248911,
          0.09235270000000001,
          0.08266860000000001,
          0.0011613,
          0.0256446,
          0.0018781,
          0.0006953,
          0.0017244000000000003,
          0.001493,
          0.0009441,
          0.009423999999999998,
          0.0012371,
          0.0017255,
          0.08478260000000001,
          0.0010017000000000001,
          0.0709628,
          0.007685900000000001,
          0.006983100000000001,
          0.0207769,
          0.0030407000000000003,
          0.002436,
          0.0160522,
          0.1031069,
          0.0038618,
          0.0004785000000000001,
          0.0009278,
          0.0004029,
          0.04768289999999999,
          0.0011896,
          0.099945,
          0.0014487000000000002,
          0.0022613,
          0.004064,
          0.010862
         ]
        },
        {
         "marker": {
          "color": "#cccccc"
         },
         "mode": "markers",
         "name": "Infeasible Trial",
         "showlegend": false,
         "type": "scatter",
         "x": [],
         "y": []
        }
       ],
       "layout": {
        "template": {
         "data": {
          "bar": [
           {
            "error_x": {
             "color": "#2a3f5f"
            },
            "error_y": {
             "color": "#2a3f5f"
            },
            "marker": {
             "line": {
              "color": "#E5ECF6",
              "width": 0.5
             },
             "pattern": {
              "fillmode": "overlay",
              "size": 10,
              "solidity": 0.2
             }
            },
            "type": "bar"
           }
          ],
          "barpolar": [
           {
            "marker": {
             "line": {
              "color": "#E5ECF6",
              "width": 0.5
             },
             "pattern": {
              "fillmode": "overlay",
              "size": 10,
              "solidity": 0.2
             }
            },
            "type": "barpolar"
           }
          ],
          "carpet": [
           {
            "aaxis": {
             "endlinecolor": "#2a3f5f",
             "gridcolor": "white",
             "linecolor": "white",
             "minorgridcolor": "white",
             "startlinecolor": "#2a3f5f"
            },
            "baxis": {
             "endlinecolor": "#2a3f5f",
             "gridcolor": "white",
             "linecolor": "white",
             "minorgridcolor": "white",
             "startlinecolor": "#2a3f5f"
            },
            "type": "carpet"
           }
          ],
          "choropleth": [
           {
            "colorbar": {
             "outlinewidth": 0,
             "ticks": ""
            },
            "type": "choropleth"
           }
          ],
          "contour": [
           {
            "colorbar": {
             "outlinewidth": 0,
             "ticks": ""
            },
            "colorscale": [
             [
              0,
              "#0d0887"
             ],
             [
              0.1111111111111111,
              "#46039f"
             ],
             [
              0.2222222222222222,
              "#7201a8"
             ],
             [
              0.3333333333333333,
              "#9c179e"
             ],
             [
              0.4444444444444444,
              "#bd3786"
             ],
             [
              0.5555555555555556,
              "#d8576b"
             ],
             [
              0.6666666666666666,
              "#ed7953"
             ],
             [
              0.7777777777777778,
              "#fb9f3a"
             ],
             [
              0.8888888888888888,
              "#fdca26"
             ],
             [
              1,
              "#f0f921"
             ]
            ],
            "type": "contour"
           }
          ],
          "contourcarpet": [
           {
            "colorbar": {
             "outlinewidth": 0,
             "ticks": ""
            },
            "type": "contourcarpet"
           }
          ],
          "heatmap": [
           {
            "colorbar": {
             "outlinewidth": 0,
             "ticks": ""
            },
            "colorscale": [
             [
              0,
              "#0d0887"
             ],
             [
              0.1111111111111111,
              "#46039f"
             ],
             [
              0.2222222222222222,
              "#7201a8"
             ],
             [
              0.3333333333333333,
              "#9c179e"
             ],
             [
              0.4444444444444444,
              "#bd3786"
             ],
             [
              0.5555555555555556,
              "#d8576b"
             ],
             [
              0.6666666666666666,
              "#ed7953"
             ],
             [
              0.7777777777777778,
              "#fb9f3a"
             ],
             [
              0.8888888888888888,
              "#fdca26"
             ],
             [
              1,
              "#f0f921"
             ]
            ],
            "type": "heatmap"
           }
          ],
          "heatmapgl": [
           {
            "colorbar": {
             "outlinewidth": 0,
             "ticks": ""
            },
            "colorscale": [
             [
              0,
              "#0d0887"
             ],
             [
              0.1111111111111111,
              "#46039f"
             ],
             [
              0.2222222222222222,
              "#7201a8"
             ],
             [
              0.3333333333333333,
              "#9c179e"
             ],
             [
              0.4444444444444444,
              "#bd3786"
             ],
             [
              0.5555555555555556,
              "#d8576b"
             ],
             [
              0.6666666666666666,
              "#ed7953"
             ],
             [
              0.7777777777777778,
              "#fb9f3a"
             ],
             [
              0.8888888888888888,
              "#fdca26"
             ],
             [
              1,
              "#f0f921"
             ]
            ],
            "type": "heatmapgl"
           }
          ],
          "histogram": [
           {
            "marker": {
             "pattern": {
              "fillmode": "overlay",
              "size": 10,
              "solidity": 0.2
             }
            },
            "type": "histogram"
           }
          ],
          "histogram2d": [
           {
            "colorbar": {
             "outlinewidth": 0,
             "ticks": ""
            },
            "colorscale": [
             [
              0,
              "#0d0887"
             ],
             [
              0.1111111111111111,
              "#46039f"
             ],
             [
              0.2222222222222222,
              "#7201a8"
             ],
             [
              0.3333333333333333,
              "#9c179e"
             ],
             [
              0.4444444444444444,
              "#bd3786"
             ],
             [
              0.5555555555555556,
              "#d8576b"
             ],
             [
              0.6666666666666666,
              "#ed7953"
             ],
             [
              0.7777777777777778,
              "#fb9f3a"
             ],
             [
              0.8888888888888888,
              "#fdca26"
             ],
             [
              1,
              "#f0f921"
             ]
            ],
            "type": "histogram2d"
           }
          ],
          "histogram2dcontour": [
           {
            "colorbar": {
             "outlinewidth": 0,
             "ticks": ""
            },
            "colorscale": [
             [
              0,
              "#0d0887"
             ],
             [
              0.1111111111111111,
              "#46039f"
             ],
             [
              0.2222222222222222,
              "#7201a8"
             ],
             [
              0.3333333333333333,
              "#9c179e"
             ],
             [
              0.4444444444444444,
              "#bd3786"
             ],
             [
              0.5555555555555556,
              "#d8576b"
             ],
             [
              0.6666666666666666,
              "#ed7953"
             ],
             [
              0.7777777777777778,
              "#fb9f3a"
             ],
             [
              0.8888888888888888,
              "#fdca26"
             ],
             [
              1,
              "#f0f921"
             ]
            ],
            "type": "histogram2dcontour"
           }
          ],
          "mesh3d": [
           {
            "colorbar": {
             "outlinewidth": 0,
             "ticks": ""
            },
            "type": "mesh3d"
           }
          ],
          "parcoords": [
           {
            "line": {
             "colorbar": {
              "outlinewidth": 0,
              "ticks": ""
             }
            },
            "type": "parcoords"
           }
          ],
          "pie": [
           {
            "automargin": true,
            "type": "pie"
           }
          ],
          "scatter": [
           {
            "fillpattern": {
             "fillmode": "overlay",
             "size": 10,
             "solidity": 0.2
            },
            "type": "scatter"
           }
          ],
          "scatter3d": [
           {
            "line": {
             "colorbar": {
              "outlinewidth": 0,
              "ticks": ""
             }
            },
            "marker": {
             "colorbar": {
              "outlinewidth": 0,
              "ticks": ""
             }
            },
            "type": "scatter3d"
           }
          ],
          "scattercarpet": [
           {
            "marker": {
             "colorbar": {
              "outlinewidth": 0,
              "ticks": ""
             }
            },
            "type": "scattercarpet"
           }
          ],
          "scattergeo": [
           {
            "marker": {
             "colorbar": {
              "outlinewidth": 0,
              "ticks": ""
             }
            },
            "type": "scattergeo"
           }
          ],
          "scattergl": [
           {
            "marker": {
             "colorbar": {
              "outlinewidth": 0,
              "ticks": ""
             }
            },
            "type": "scattergl"
           }
          ],
          "scattermapbox": [
           {
            "marker": {
             "colorbar": {
              "outlinewidth": 0,
              "ticks": ""
             }
            },
            "type": "scattermapbox"
           }
          ],
          "scatterpolar": [
           {
            "marker": {
             "colorbar": {
              "outlinewidth": 0,
              "ticks": ""
             }
            },
            "type": "scatterpolar"
           }
          ],
          "scatterpolargl": [
           {
            "marker": {
             "colorbar": {
              "outlinewidth": 0,
              "ticks": ""
             }
            },
            "type": "scatterpolargl"
           }
          ],
          "scatterternary": [
           {
            "marker": {
             "colorbar": {
              "outlinewidth": 0,
              "ticks": ""
             }
            },
            "type": "scatterternary"
           }
          ],
          "surface": [
           {
            "colorbar": {
             "outlinewidth": 0,
             "ticks": ""
            },
            "colorscale": [
             [
              0,
              "#0d0887"
             ],
             [
              0.1111111111111111,
              "#46039f"
             ],
             [
              0.2222222222222222,
              "#7201a8"
             ],
             [
              0.3333333333333333,
              "#9c179e"
             ],
             [
              0.4444444444444444,
              "#bd3786"
             ],
             [
              0.5555555555555556,
              "#d8576b"
             ],
             [
              0.6666666666666666,
              "#ed7953"
             ],
             [
              0.7777777777777778,
              "#fb9f3a"
             ],
             [
              0.8888888888888888,
              "#fdca26"
             ],
             [
              1,
              "#f0f921"
             ]
            ],
            "type": "surface"
           }
          ],
          "table": [
           {
            "cells": {
             "fill": {
              "color": "#EBF0F8"
             },
             "line": {
              "color": "white"
             }
            },
            "header": {
             "fill": {
              "color": "#C8D4E3"
             },
             "line": {
              "color": "white"
             }
            },
            "type": "table"
           }
          ]
         },
         "layout": {
          "annotationdefaults": {
           "arrowcolor": "#2a3f5f",
           "arrowhead": 0,
           "arrowwidth": 1
          },
          "autotypenumbers": "strict",
          "coloraxis": {
           "colorbar": {
            "outlinewidth": 0,
            "ticks": ""
           }
          },
          "colorscale": {
           "diverging": [
            [
             0,
             "#8e0152"
            ],
            [
             0.1,
             "#c51b7d"
            ],
            [
             0.2,
             "#de77ae"
            ],
            [
             0.3,
             "#f1b6da"
            ],
            [
             0.4,
             "#fde0ef"
            ],
            [
             0.5,
             "#f7f7f7"
            ],
            [
             0.6,
             "#e6f5d0"
            ],
            [
             0.7,
             "#b8e186"
            ],
            [
             0.8,
             "#7fbc41"
            ],
            [
             0.9,
             "#4d9221"
            ],
            [
             1,
             "#276419"
            ]
           ],
           "sequential": [
            [
             0,
             "#0d0887"
            ],
            [
             0.1111111111111111,
             "#46039f"
            ],
            [
             0.2222222222222222,
             "#7201a8"
            ],
            [
             0.3333333333333333,
             "#9c179e"
            ],
            [
             0.4444444444444444,
             "#bd3786"
            ],
            [
             0.5555555555555556,
             "#d8576b"
            ],
            [
             0.6666666666666666,
             "#ed7953"
            ],
            [
             0.7777777777777778,
             "#fb9f3a"
            ],
            [
             0.8888888888888888,
             "#fdca26"
            ],
            [
             1,
             "#f0f921"
            ]
           ],
           "sequentialminus": [
            [
             0,
             "#0d0887"
            ],
            [
             0.1111111111111111,
             "#46039f"
            ],
            [
             0.2222222222222222,
             "#7201a8"
            ],
            [
             0.3333333333333333,
             "#9c179e"
            ],
            [
             0.4444444444444444,
             "#bd3786"
            ],
            [
             0.5555555555555556,
             "#d8576b"
            ],
            [
             0.6666666666666666,
             "#ed7953"
            ],
            [
             0.7777777777777778,
             "#fb9f3a"
            ],
            [
             0.8888888888888888,
             "#fdca26"
            ],
            [
             1,
             "#f0f921"
            ]
           ]
          },
          "colorway": [
           "#636efa",
           "#EF553B",
           "#00cc96",
           "#ab63fa",
           "#FFA15A",
           "#19d3f3",
           "#FF6692",
           "#B6E880",
           "#FF97FF",
           "#FECB52"
          ],
          "font": {
           "color": "#2a3f5f"
          },
          "geo": {
           "bgcolor": "white",
           "lakecolor": "white",
           "landcolor": "#E5ECF6",
           "showlakes": true,
           "showland": true,
           "subunitcolor": "white"
          },
          "hoverlabel": {
           "align": "left"
          },
          "hovermode": "closest",
          "mapbox": {
           "style": "light"
          },
          "paper_bgcolor": "white",
          "plot_bgcolor": "#E5ECF6",
          "polar": {
           "angularaxis": {
            "gridcolor": "white",
            "linecolor": "white",
            "ticks": ""
           },
           "bgcolor": "#E5ECF6",
           "radialaxis": {
            "gridcolor": "white",
            "linecolor": "white",
            "ticks": ""
           }
          },
          "scene": {
           "xaxis": {
            "backgroundcolor": "#E5ECF6",
            "gridcolor": "white",
            "gridwidth": 2,
            "linecolor": "white",
            "showbackground": true,
            "ticks": "",
            "zerolinecolor": "white"
           },
           "yaxis": {
            "backgroundcolor": "#E5ECF6",
            "gridcolor": "white",
            "gridwidth": 2,
            "linecolor": "white",
            "showbackground": true,
            "ticks": "",
            "zerolinecolor": "white"
           },
           "zaxis": {
            "backgroundcolor": "#E5ECF6",
            "gridcolor": "white",
            "gridwidth": 2,
            "linecolor": "white",
            "showbackground": true,
            "ticks": "",
            "zerolinecolor": "white"
           }
          },
          "shapedefaults": {
           "line": {
            "color": "#2a3f5f"
           }
          },
          "ternary": {
           "aaxis": {
            "gridcolor": "white",
            "linecolor": "white",
            "ticks": ""
           },
           "baxis": {
            "gridcolor": "white",
            "linecolor": "white",
            "ticks": ""
           },
           "bgcolor": "#E5ECF6",
           "caxis": {
            "gridcolor": "white",
            "linecolor": "white",
            "ticks": ""
           }
          },
          "title": {
           "x": 0.05
          },
          "xaxis": {
           "automargin": true,
           "gridcolor": "white",
           "linecolor": "white",
           "ticks": "",
           "title": {
            "standoff": 15
           },
           "zerolinecolor": "white",
           "zerolinewidth": 2
          },
          "yaxis": {
           "automargin": true,
           "gridcolor": "white",
           "linecolor": "white",
           "ticks": "",
           "title": {
            "standoff": 15
           },
           "zerolinecolor": "white",
           "zerolinewidth": 2
          }
         }
        },
        "title": {
         "text": "Optimization History Plot"
        },
        "xaxis": {
         "title": {
          "text": "Trial"
         }
        },
        "yaxis": {
         "title": {
          "text": "average_time"
         }
        }
       }
      }
     },
     "metadata": {},
     "output_type": "display_data"
    }
   ],
   "source": [
    "plot_optimization_history(hypercube_study, target = lambda t: t.values[1], target_name = 'average_time')"
   ]
  },
  {
   "cell_type": "code",
   "execution_count": 10,
   "metadata": {},
   "outputs": [
    {
     "data": {
      "application/vnd.plotly.v1+json": {
       "config": {
        "plotlyServerURL": "https://plot.ly"
       },
       "data": [
        {
         "marker": {
          "color": [
           0,
           1,
           2,
           3,
           4,
           5,
           6,
           7,
           8,
           9,
           10,
           11,
           12,
           13,
           14,
           15,
           16,
           17,
           18,
           19,
           20,
           21,
           22,
           23,
           24,
           25,
           26,
           27,
           28,
           29,
           30,
           31,
           32,
           33,
           34,
           35,
           36,
           37,
           38,
           39,
           40,
           41,
           42,
           43,
           44,
           45,
           46,
           47,
           48,
           49
          ],
          "colorbar": {
           "title": {
            "text": "Trial"
           },
           "x": 1,
           "xpad": 40
          },
          "colorscale": [
           [
            0,
            "rgb(247,251,255)"
           ],
           [
            0.125,
            "rgb(222,235,247)"
           ],
           [
            0.25,
            "rgb(198,219,239)"
           ],
           [
            0.375,
            "rgb(158,202,225)"
           ],
           [
            0.5,
            "rgb(107,174,214)"
           ],
           [
            0.625,
            "rgb(66,146,198)"
           ],
           [
            0.75,
            "rgb(33,113,181)"
           ],
           [
            0.875,
            "rgb(8,81,156)"
           ],
           [
            1,
            "rgb(8,48,107)"
           ]
          ],
          "line": {
           "color": "Grey",
           "width": 0.5
          },
          "showscale": true
         },
         "mode": "markers",
         "name": "Feasible Trial",
         "showlegend": false,
         "type": "scatter",
         "x": [
          3181,
          1684,
          4056,
          3130,
          25,
          852,
          1551,
          264,
          636,
          66,
          2748,
          2772,
          4983,
          3458,
          1966,
          460,
          1407,
          4453,
          3073,
          24,
          1540,
          3947,
          3099,
          1414,
          2943,
          127,
          2362,
          4412,
          942,
          733,
          3132,
          3958,
          1672,
          4968,
          4624,
          2216,
          2095,
          1689,
          4500,
          2924,
          2575,
          24,
          4957,
          732,
          4351,
          3494,
          1530,
          3260,
          2756,
          1699
         ],
         "xaxis": "x",
         "y": [
          1.9820858777568677,
          1.7737250814991719,
          2.5395984074472704,
          1.8083326113265408,
          1.752688660258667,
          1.7985897656818197,
          1.4322010253695117,
          1.7916286942867166,
          1.8403353729480714,
          1.9332440185941568,
          2.381787456413473,
          1.4931837310582181,
          1.7515089323386144,
          1.8480215745938111,
          1.780159117933763,
          1.9185473220696934,
          1.8983355548347576,
          1.2138728669424221,
          1.432066949046283,
          1.7008422594541597,
          1.433949666368659,
          1.7479305902294213,
          1.8083326113265408,
          1.65249975838885,
          1.3877293557617412,
          2.5395984074472704,
          1.5324523419170595,
          2.6798375748725642,
          1.6600460654074185,
          1.5784707563781106,
          1.815838589777603,
          1.4037587023157931,
          1.6430260793612481,
          1.8829153239193481,
          1.712759557150828,
          1.482006611552869,
          1.5056455023888717,
          1.7980922283138767,
          1.4938208735559628,
          1.411292625588669,
          2.6813315150306347,
          2.402988384368219,
          2.633067072700275,
          1.4815507560538244,
          1.621818005658229,
          1.4259423703847074,
          1.6878746444665818,
          1.6058316314503709,
          1.5266650041139054,
          1.4115338545030527
         ],
         "yaxis": "y"
        },
        {
         "marker": {
          "color": [
           0,
           1,
           2,
           3,
           4,
           5,
           6,
           7,
           8,
           9,
           10,
           11,
           12,
           13,
           14,
           15,
           16,
           17,
           18,
           19,
           20,
           21,
           22,
           23,
           24,
           25,
           26,
           27,
           28,
           29,
           30,
           31,
           32,
           33,
           34,
           35,
           36,
           37,
           38,
           39,
           40,
           41,
           42,
           43,
           44,
           45,
           46,
           47,
           48,
           49
          ],
          "colorbar": {
           "title": {
            "text": "Trial"
           },
           "x": 1,
           "xpad": 40
          },
          "colorscale": [
           [
            0,
            "rgb(247,251,255)"
           ],
           [
            0.125,
            "rgb(222,235,247)"
           ],
           [
            0.25,
            "rgb(198,219,239)"
           ],
           [
            0.375,
            "rgb(158,202,225)"
           ],
           [
            0.5,
            "rgb(107,174,214)"
           ],
           [
            0.625,
            "rgb(66,146,198)"
           ],
           [
            0.75,
            "rgb(33,113,181)"
           ],
           [
            0.875,
            "rgb(8,81,156)"
           ],
           [
            1,
            "rgb(8,48,107)"
           ]
          ],
          "line": {
           "color": "Grey",
           "width": 0.5
          },
          "showscale": false
         },
         "mode": "markers",
         "name": "Feasible Trial",
         "showlegend": false,
         "type": "scatter",
         "x": [
          15,
          28,
          3,
          4,
          16,
          15,
          18,
          5,
          8,
          4,
          8,
          28,
          24,
          11,
          4,
          4,
          23,
          26,
          29,
          2,
          22,
          12,
          4,
          12,
          9,
          2,
          19,
          6,
          8,
          30,
          12,
          23,
          17,
          17,
          18,
          14,
          11,
          21,
          28,
          15,
          2,
          4,
          5,
          23,
          8,
          29,
          8,
          12,
          15,
          16
         ],
         "xaxis": "x2",
         "y": [
          1.9820858777568677,
          1.7737250814991719,
          2.5395984074472704,
          1.8083326113265408,
          1.752688660258667,
          1.7985897656818197,
          1.4322010253695117,
          1.7916286942867166,
          1.8403353729480714,
          1.9332440185941568,
          2.381787456413473,
          1.4931837310582181,
          1.7515089323386144,
          1.8480215745938111,
          1.780159117933763,
          1.9185473220696934,
          1.8983355548347576,
          1.2138728669424221,
          1.432066949046283,
          1.7008422594541597,
          1.433949666368659,
          1.7479305902294213,
          1.8083326113265408,
          1.65249975838885,
          1.3877293557617412,
          2.5395984074472704,
          1.5324523419170595,
          2.6798375748725642,
          1.6600460654074185,
          1.5784707563781106,
          1.815838589777603,
          1.4037587023157931,
          1.6430260793612481,
          1.8829153239193481,
          1.712759557150828,
          1.482006611552869,
          1.5056455023888717,
          1.7980922283138767,
          1.4938208735559628,
          1.411292625588669,
          2.6813315150306347,
          2.402988384368219,
          2.633067072700275,
          1.4815507560538244,
          1.621818005658229,
          1.4259423703847074,
          1.6878746444665818,
          1.6058316314503709,
          1.5266650041139054,
          1.4115338545030527
         ],
         "yaxis": "y2"
        },
        {
         "marker": {
          "color": [
           0,
           1,
           2,
           3,
           4,
           5,
           6,
           7,
           8,
           9,
           10,
           11,
           12,
           13,
           14,
           15,
           16,
           17,
           18,
           19,
           20,
           21,
           22,
           23,
           24,
           25,
           26,
           27,
           28,
           29,
           30,
           31,
           32,
           33,
           34,
           35,
           36,
           37,
           38,
           39,
           40,
           41,
           42,
           43,
           44,
           45,
           46,
           47,
           48,
           49
          ],
          "colorbar": {
           "title": {
            "text": "Trial"
           },
           "x": 1,
           "xpad": 40
          },
          "colorscale": [
           [
            0,
            "rgb(247,251,255)"
           ],
           [
            0.125,
            "rgb(222,235,247)"
           ],
           [
            0.25,
            "rgb(198,219,239)"
           ],
           [
            0.375,
            "rgb(158,202,225)"
           ],
           [
            0.5,
            "rgb(107,174,214)"
           ],
           [
            0.625,
            "rgb(66,146,198)"
           ],
           [
            0.75,
            "rgb(33,113,181)"
           ],
           [
            0.875,
            "rgb(8,81,156)"
           ],
           [
            1,
            "rgb(8,48,107)"
           ]
          ],
          "line": {
           "color": "Grey",
           "width": 0.5
          },
          "showscale": false
         },
         "mode": "markers",
         "name": "Feasible Trial",
         "showlegend": false,
         "type": "scatter",
         "x": [
          31,
          200,
          665,
          921,
          750,
          802,
          836,
          853,
          307,
          305,
          124,
          533,
          362,
          80,
          570,
          683,
          103,
          980,
          598,
          804,
          678,
          203,
          359,
          509,
          740,
          560,
          424,
          750,
          954,
          305,
          223,
          464,
          307,
          156,
          366,
          196,
          840,
          191,
          758,
          653,
          200,
          519,
          140,
          947,
          679,
          682,
          815,
          914,
          230,
          847
         ],
         "xaxis": "x3",
         "y": [
          1.9820858777568677,
          1.7737250814991719,
          2.5395984074472704,
          1.8083326113265408,
          1.752688660258667,
          1.7985897656818197,
          1.4322010253695117,
          1.7916286942867166,
          1.8403353729480714,
          1.9332440185941568,
          2.381787456413473,
          1.4931837310582181,
          1.7515089323386144,
          1.8480215745938111,
          1.780159117933763,
          1.9185473220696934,
          1.8983355548347576,
          1.2138728669424221,
          1.432066949046283,
          1.7008422594541597,
          1.433949666368659,
          1.7479305902294213,
          1.8083326113265408,
          1.65249975838885,
          1.3877293557617412,
          2.5395984074472704,
          1.5324523419170595,
          2.6798375748725642,
          1.6600460654074185,
          1.5784707563781106,
          1.815838589777603,
          1.4037587023157931,
          1.6430260793612481,
          1.8829153239193481,
          1.712759557150828,
          1.482006611552869,
          1.5056455023888717,
          1.7980922283138767,
          1.4938208735559628,
          1.411292625588669,
          2.6813315150306347,
          2.402988384368219,
          2.633067072700275,
          1.4815507560538244,
          1.621818005658229,
          1.4259423703847074,
          1.6878746444665818,
          1.6058316314503709,
          1.5266650041139054,
          1.4115338545030527
         ],
         "yaxis": "y3"
        }
       ],
       "layout": {
        "template": {
         "data": {
          "bar": [
           {
            "error_x": {
             "color": "#2a3f5f"
            },
            "error_y": {
             "color": "#2a3f5f"
            },
            "marker": {
             "line": {
              "color": "#E5ECF6",
              "width": 0.5
             },
             "pattern": {
              "fillmode": "overlay",
              "size": 10,
              "solidity": 0.2
             }
            },
            "type": "bar"
           }
          ],
          "barpolar": [
           {
            "marker": {
             "line": {
              "color": "#E5ECF6",
              "width": 0.5
             },
             "pattern": {
              "fillmode": "overlay",
              "size": 10,
              "solidity": 0.2
             }
            },
            "type": "barpolar"
           }
          ],
          "carpet": [
           {
            "aaxis": {
             "endlinecolor": "#2a3f5f",
             "gridcolor": "white",
             "linecolor": "white",
             "minorgridcolor": "white",
             "startlinecolor": "#2a3f5f"
            },
            "baxis": {
             "endlinecolor": "#2a3f5f",
             "gridcolor": "white",
             "linecolor": "white",
             "minorgridcolor": "white",
             "startlinecolor": "#2a3f5f"
            },
            "type": "carpet"
           }
          ],
          "choropleth": [
           {
            "colorbar": {
             "outlinewidth": 0,
             "ticks": ""
            },
            "type": "choropleth"
           }
          ],
          "contour": [
           {
            "colorbar": {
             "outlinewidth": 0,
             "ticks": ""
            },
            "colorscale": [
             [
              0,
              "#0d0887"
             ],
             [
              0.1111111111111111,
              "#46039f"
             ],
             [
              0.2222222222222222,
              "#7201a8"
             ],
             [
              0.3333333333333333,
              "#9c179e"
             ],
             [
              0.4444444444444444,
              "#bd3786"
             ],
             [
              0.5555555555555556,
              "#d8576b"
             ],
             [
              0.6666666666666666,
              "#ed7953"
             ],
             [
              0.7777777777777778,
              "#fb9f3a"
             ],
             [
              0.8888888888888888,
              "#fdca26"
             ],
             [
              1,
              "#f0f921"
             ]
            ],
            "type": "contour"
           }
          ],
          "contourcarpet": [
           {
            "colorbar": {
             "outlinewidth": 0,
             "ticks": ""
            },
            "type": "contourcarpet"
           }
          ],
          "heatmap": [
           {
            "colorbar": {
             "outlinewidth": 0,
             "ticks": ""
            },
            "colorscale": [
             [
              0,
              "#0d0887"
             ],
             [
              0.1111111111111111,
              "#46039f"
             ],
             [
              0.2222222222222222,
              "#7201a8"
             ],
             [
              0.3333333333333333,
              "#9c179e"
             ],
             [
              0.4444444444444444,
              "#bd3786"
             ],
             [
              0.5555555555555556,
              "#d8576b"
             ],
             [
              0.6666666666666666,
              "#ed7953"
             ],
             [
              0.7777777777777778,
              "#fb9f3a"
             ],
             [
              0.8888888888888888,
              "#fdca26"
             ],
             [
              1,
              "#f0f921"
             ]
            ],
            "type": "heatmap"
           }
          ],
          "heatmapgl": [
           {
            "colorbar": {
             "outlinewidth": 0,
             "ticks": ""
            },
            "colorscale": [
             [
              0,
              "#0d0887"
             ],
             [
              0.1111111111111111,
              "#46039f"
             ],
             [
              0.2222222222222222,
              "#7201a8"
             ],
             [
              0.3333333333333333,
              "#9c179e"
             ],
             [
              0.4444444444444444,
              "#bd3786"
             ],
             [
              0.5555555555555556,
              "#d8576b"
             ],
             [
              0.6666666666666666,
              "#ed7953"
             ],
             [
              0.7777777777777778,
              "#fb9f3a"
             ],
             [
              0.8888888888888888,
              "#fdca26"
             ],
             [
              1,
              "#f0f921"
             ]
            ],
            "type": "heatmapgl"
           }
          ],
          "histogram": [
           {
            "marker": {
             "pattern": {
              "fillmode": "overlay",
              "size": 10,
              "solidity": 0.2
             }
            },
            "type": "histogram"
           }
          ],
          "histogram2d": [
           {
            "colorbar": {
             "outlinewidth": 0,
             "ticks": ""
            },
            "colorscale": [
             [
              0,
              "#0d0887"
             ],
             [
              0.1111111111111111,
              "#46039f"
             ],
             [
              0.2222222222222222,
              "#7201a8"
             ],
             [
              0.3333333333333333,
              "#9c179e"
             ],
             [
              0.4444444444444444,
              "#bd3786"
             ],
             [
              0.5555555555555556,
              "#d8576b"
             ],
             [
              0.6666666666666666,
              "#ed7953"
             ],
             [
              0.7777777777777778,
              "#fb9f3a"
             ],
             [
              0.8888888888888888,
              "#fdca26"
             ],
             [
              1,
              "#f0f921"
             ]
            ],
            "type": "histogram2d"
           }
          ],
          "histogram2dcontour": [
           {
            "colorbar": {
             "outlinewidth": 0,
             "ticks": ""
            },
            "colorscale": [
             [
              0,
              "#0d0887"
             ],
             [
              0.1111111111111111,
              "#46039f"
             ],
             [
              0.2222222222222222,
              "#7201a8"
             ],
             [
              0.3333333333333333,
              "#9c179e"
             ],
             [
              0.4444444444444444,
              "#bd3786"
             ],
             [
              0.5555555555555556,
              "#d8576b"
             ],
             [
              0.6666666666666666,
              "#ed7953"
             ],
             [
              0.7777777777777778,
              "#fb9f3a"
             ],
             [
              0.8888888888888888,
              "#fdca26"
             ],
             [
              1,
              "#f0f921"
             ]
            ],
            "type": "histogram2dcontour"
           }
          ],
          "mesh3d": [
           {
            "colorbar": {
             "outlinewidth": 0,
             "ticks": ""
            },
            "type": "mesh3d"
           }
          ],
          "parcoords": [
           {
            "line": {
             "colorbar": {
              "outlinewidth": 0,
              "ticks": ""
             }
            },
            "type": "parcoords"
           }
          ],
          "pie": [
           {
            "automargin": true,
            "type": "pie"
           }
          ],
          "scatter": [
           {
            "fillpattern": {
             "fillmode": "overlay",
             "size": 10,
             "solidity": 0.2
            },
            "type": "scatter"
           }
          ],
          "scatter3d": [
           {
            "line": {
             "colorbar": {
              "outlinewidth": 0,
              "ticks": ""
             }
            },
            "marker": {
             "colorbar": {
              "outlinewidth": 0,
              "ticks": ""
             }
            },
            "type": "scatter3d"
           }
          ],
          "scattercarpet": [
           {
            "marker": {
             "colorbar": {
              "outlinewidth": 0,
              "ticks": ""
             }
            },
            "type": "scattercarpet"
           }
          ],
          "scattergeo": [
           {
            "marker": {
             "colorbar": {
              "outlinewidth": 0,
              "ticks": ""
             }
            },
            "type": "scattergeo"
           }
          ],
          "scattergl": [
           {
            "marker": {
             "colorbar": {
              "outlinewidth": 0,
              "ticks": ""
             }
            },
            "type": "scattergl"
           }
          ],
          "scattermapbox": [
           {
            "marker": {
             "colorbar": {
              "outlinewidth": 0,
              "ticks": ""
             }
            },
            "type": "scattermapbox"
           }
          ],
          "scatterpolar": [
           {
            "marker": {
             "colorbar": {
              "outlinewidth": 0,
              "ticks": ""
             }
            },
            "type": "scatterpolar"
           }
          ],
          "scatterpolargl": [
           {
            "marker": {
             "colorbar": {
              "outlinewidth": 0,
              "ticks": ""
             }
            },
            "type": "scatterpolargl"
           }
          ],
          "scatterternary": [
           {
            "marker": {
             "colorbar": {
              "outlinewidth": 0,
              "ticks": ""
             }
            },
            "type": "scatterternary"
           }
          ],
          "surface": [
           {
            "colorbar": {
             "outlinewidth": 0,
             "ticks": ""
            },
            "colorscale": [
             [
              0,
              "#0d0887"
             ],
             [
              0.1111111111111111,
              "#46039f"
             ],
             [
              0.2222222222222222,
              "#7201a8"
             ],
             [
              0.3333333333333333,
              "#9c179e"
             ],
             [
              0.4444444444444444,
              "#bd3786"
             ],
             [
              0.5555555555555556,
              "#d8576b"
             ],
             [
              0.6666666666666666,
              "#ed7953"
             ],
             [
              0.7777777777777778,
              "#fb9f3a"
             ],
             [
              0.8888888888888888,
              "#fdca26"
             ],
             [
              1,
              "#f0f921"
             ]
            ],
            "type": "surface"
           }
          ],
          "table": [
           {
            "cells": {
             "fill": {
              "color": "#EBF0F8"
             },
             "line": {
              "color": "white"
             }
            },
            "header": {
             "fill": {
              "color": "#C8D4E3"
             },
             "line": {
              "color": "white"
             }
            },
            "type": "table"
           }
          ]
         },
         "layout": {
          "annotationdefaults": {
           "arrowcolor": "#2a3f5f",
           "arrowhead": 0,
           "arrowwidth": 1
          },
          "autotypenumbers": "strict",
          "coloraxis": {
           "colorbar": {
            "outlinewidth": 0,
            "ticks": ""
           }
          },
          "colorscale": {
           "diverging": [
            [
             0,
             "#8e0152"
            ],
            [
             0.1,
             "#c51b7d"
            ],
            [
             0.2,
             "#de77ae"
            ],
            [
             0.3,
             "#f1b6da"
            ],
            [
             0.4,
             "#fde0ef"
            ],
            [
             0.5,
             "#f7f7f7"
            ],
            [
             0.6,
             "#e6f5d0"
            ],
            [
             0.7,
             "#b8e186"
            ],
            [
             0.8,
             "#7fbc41"
            ],
            [
             0.9,
             "#4d9221"
            ],
            [
             1,
             "#276419"
            ]
           ],
           "sequential": [
            [
             0,
             "#0d0887"
            ],
            [
             0.1111111111111111,
             "#46039f"
            ],
            [
             0.2222222222222222,
             "#7201a8"
            ],
            [
             0.3333333333333333,
             "#9c179e"
            ],
            [
             0.4444444444444444,
             "#bd3786"
            ],
            [
             0.5555555555555556,
             "#d8576b"
            ],
            [
             0.6666666666666666,
             "#ed7953"
            ],
            [
             0.7777777777777778,
             "#fb9f3a"
            ],
            [
             0.8888888888888888,
             "#fdca26"
            ],
            [
             1,
             "#f0f921"
            ]
           ],
           "sequentialminus": [
            [
             0,
             "#0d0887"
            ],
            [
             0.1111111111111111,
             "#46039f"
            ],
            [
             0.2222222222222222,
             "#7201a8"
            ],
            [
             0.3333333333333333,
             "#9c179e"
            ],
            [
             0.4444444444444444,
             "#bd3786"
            ],
            [
             0.5555555555555556,
             "#d8576b"
            ],
            [
             0.6666666666666666,
             "#ed7953"
            ],
            [
             0.7777777777777778,
             "#fb9f3a"
            ],
            [
             0.8888888888888888,
             "#fdca26"
            ],
            [
             1,
             "#f0f921"
            ]
           ]
          },
          "colorway": [
           "#636efa",
           "#EF553B",
           "#00cc96",
           "#ab63fa",
           "#FFA15A",
           "#19d3f3",
           "#FF6692",
           "#B6E880",
           "#FF97FF",
           "#FECB52"
          ],
          "font": {
           "color": "#2a3f5f"
          },
          "geo": {
           "bgcolor": "white",
           "lakecolor": "white",
           "landcolor": "#E5ECF6",
           "showlakes": true,
           "showland": true,
           "subunitcolor": "white"
          },
          "hoverlabel": {
           "align": "left"
          },
          "hovermode": "closest",
          "mapbox": {
           "style": "light"
          },
          "paper_bgcolor": "white",
          "plot_bgcolor": "#E5ECF6",
          "polar": {
           "angularaxis": {
            "gridcolor": "white",
            "linecolor": "white",
            "ticks": ""
           },
           "bgcolor": "#E5ECF6",
           "radialaxis": {
            "gridcolor": "white",
            "linecolor": "white",
            "ticks": ""
           }
          },
          "scene": {
           "xaxis": {
            "backgroundcolor": "#E5ECF6",
            "gridcolor": "white",
            "gridwidth": 2,
            "linecolor": "white",
            "showbackground": true,
            "ticks": "",
            "zerolinecolor": "white"
           },
           "yaxis": {
            "backgroundcolor": "#E5ECF6",
            "gridcolor": "white",
            "gridwidth": 2,
            "linecolor": "white",
            "showbackground": true,
            "ticks": "",
            "zerolinecolor": "white"
           },
           "zaxis": {
            "backgroundcolor": "#E5ECF6",
            "gridcolor": "white",
            "gridwidth": 2,
            "linecolor": "white",
            "showbackground": true,
            "ticks": "",
            "zerolinecolor": "white"
           }
          },
          "shapedefaults": {
           "line": {
            "color": "#2a3f5f"
           }
          },
          "ternary": {
           "aaxis": {
            "gridcolor": "white",
            "linecolor": "white",
            "ticks": ""
           },
           "baxis": {
            "gridcolor": "white",
            "linecolor": "white",
            "ticks": ""
           },
           "bgcolor": "#E5ECF6",
           "caxis": {
            "gridcolor": "white",
            "linecolor": "white",
            "ticks": ""
           }
          },
          "title": {
           "x": 0.05
          },
          "xaxis": {
           "automargin": true,
           "gridcolor": "white",
           "linecolor": "white",
           "ticks": "",
           "title": {
            "standoff": 15
           },
           "zerolinecolor": "white",
           "zerolinewidth": 2
          },
          "yaxis": {
           "automargin": true,
           "gridcolor": "white",
           "linecolor": "white",
           "ticks": "",
           "title": {
            "standoff": 15
           },
           "zerolinecolor": "white",
           "zerolinewidth": 2
          }
         }
        },
        "title": {
         "text": "Slice Plot"
        },
        "xaxis": {
         "anchor": "y",
         "domain": [
          0,
          0.2888888888888889
         ],
         "title": {
          "text": "M"
         }
        },
        "xaxis2": {
         "anchor": "y2",
         "domain": [
          0.35555555555555557,
          0.6444444444444445
         ],
         "title": {
          "text": "k"
         }
        },
        "xaxis3": {
         "anchor": "y3",
         "domain": [
          0.7111111111111111,
          1
         ],
         "title": {
          "text": "probes"
         }
        },
        "yaxis": {
         "anchor": "x",
         "domain": [
          0,
          1
         ],
         "title": {
          "text": "maf"
         }
        },
        "yaxis2": {
         "anchor": "x2",
         "domain": [
          0,
          1
         ],
         "matches": "y",
         "showticklabels": false
        },
        "yaxis3": {
         "anchor": "x3",
         "domain": [
          0,
          1
         ],
         "matches": "y",
         "showticklabels": false
        }
       }
      }
     },
     "metadata": {},
     "output_type": "display_data"
    }
   ],
   "source": [
    "plot_slice(hypercube_study, target = lambda t: t.values[0], target_name = 'maf')"
   ]
  },
  {
   "cell_type": "code",
   "execution_count": 11,
   "metadata": {},
   "outputs": [
    {
     "data": {
      "application/vnd.plotly.v1+json": {
       "config": {
        "plotlyServerURL": "https://plot.ly"
       },
       "data": [
        {
         "marker": {
          "color": [
           0,
           1,
           2,
           3,
           4,
           5,
           6,
           7,
           8,
           9,
           10,
           11,
           12,
           13,
           14,
           15,
           16,
           17,
           18,
           19,
           20,
           21,
           22,
           23,
           24,
           25,
           26,
           27,
           28,
           29,
           30,
           31,
           32,
           33,
           34,
           35,
           36,
           37,
           38,
           39,
           40,
           41,
           42,
           43,
           44,
           45,
           46,
           47,
           48,
           49
          ],
          "colorbar": {
           "title": {
            "text": "Trial"
           },
           "x": 1,
           "xpad": 40
          },
          "colorscale": [
           [
            0,
            "rgb(247,251,255)"
           ],
           [
            0.125,
            "rgb(222,235,247)"
           ],
           [
            0.25,
            "rgb(198,219,239)"
           ],
           [
            0.375,
            "rgb(158,202,225)"
           ],
           [
            0.5,
            "rgb(107,174,214)"
           ],
           [
            0.625,
            "rgb(66,146,198)"
           ],
           [
            0.75,
            "rgb(33,113,181)"
           ],
           [
            0.875,
            "rgb(8,81,156)"
           ],
           [
            1,
            "rgb(8,48,107)"
           ]
          ],
          "line": {
           "color": "Grey",
           "width": 0.5
          },
          "showscale": true
         },
         "mode": "markers",
         "name": "Feasible Trial",
         "showlegend": false,
         "type": "scatter",
         "x": [
          3181,
          1684,
          4056,
          3130,
          25,
          852,
          1551,
          264,
          636,
          66,
          2748,
          2772,
          4983,
          3458,
          1966,
          460,
          1407,
          4453,
          3073,
          24,
          1540,
          3947,
          3099,
          1414,
          2943,
          127,
          2362,
          4412,
          942,
          733,
          3132,
          3958,
          1672,
          4968,
          4624,
          2216,
          2095,
          1689,
          4500,
          2924,
          2575,
          24,
          4957,
          732,
          4351,
          3494,
          1530,
          3260,
          2756,
          1699
         ],
         "xaxis": "x",
         "y": [
          0.0054666,
          0.0702306,
          0.0011132000000000002,
          0.0014605999999999998,
          0.0072838,
          0.008184499999999999,
          0.0210656,
          0.0013756,
          0.0007258000000000001,
          0.0005749,
          0.00044039999999999997,
          0.08372530000000002,
          0.06502309999999999,
          0.0007619,
          0.0009214,
          0.0010255000000000002,
          0.0248911,
          0.09235270000000001,
          0.08266860000000001,
          0.0011613,
          0.0256446,
          0.0018781,
          0.0006953,
          0.0017244000000000003,
          0.001493,
          0.0009441,
          0.009423999999999998,
          0.0012371,
          0.0017255,
          0.08478260000000001,
          0.0010017000000000001,
          0.0709628,
          0.007685900000000001,
          0.006983100000000001,
          0.0207769,
          0.0030407000000000003,
          0.002436,
          0.0160522,
          0.1031069,
          0.0038618,
          0.0004785000000000001,
          0.0009278,
          0.0004029,
          0.04768289999999999,
          0.0011896,
          0.099945,
          0.0014487000000000002,
          0.0022613,
          0.004064,
          0.010862
         ],
         "yaxis": "y"
        },
        {
         "marker": {
          "color": [
           0,
           1,
           2,
           3,
           4,
           5,
           6,
           7,
           8,
           9,
           10,
           11,
           12,
           13,
           14,
           15,
           16,
           17,
           18,
           19,
           20,
           21,
           22,
           23,
           24,
           25,
           26,
           27,
           28,
           29,
           30,
           31,
           32,
           33,
           34,
           35,
           36,
           37,
           38,
           39,
           40,
           41,
           42,
           43,
           44,
           45,
           46,
           47,
           48,
           49
          ],
          "colorbar": {
           "title": {
            "text": "Trial"
           },
           "x": 1,
           "xpad": 40
          },
          "colorscale": [
           [
            0,
            "rgb(247,251,255)"
           ],
           [
            0.125,
            "rgb(222,235,247)"
           ],
           [
            0.25,
            "rgb(198,219,239)"
           ],
           [
            0.375,
            "rgb(158,202,225)"
           ],
           [
            0.5,
            "rgb(107,174,214)"
           ],
           [
            0.625,
            "rgb(66,146,198)"
           ],
           [
            0.75,
            "rgb(33,113,181)"
           ],
           [
            0.875,
            "rgb(8,81,156)"
           ],
           [
            1,
            "rgb(8,48,107)"
           ]
          ],
          "line": {
           "color": "Grey",
           "width": 0.5
          },
          "showscale": false
         },
         "mode": "markers",
         "name": "Feasible Trial",
         "showlegend": false,
         "type": "scatter",
         "x": [
          15,
          28,
          3,
          4,
          16,
          15,
          18,
          5,
          8,
          4,
          8,
          28,
          24,
          11,
          4,
          4,
          23,
          26,
          29,
          2,
          22,
          12,
          4,
          12,
          9,
          2,
          19,
          6,
          8,
          30,
          12,
          23,
          17,
          17,
          18,
          14,
          11,
          21,
          28,
          15,
          2,
          4,
          5,
          23,
          8,
          29,
          8,
          12,
          15,
          16
         ],
         "xaxis": "x2",
         "y": [
          0.0054666,
          0.0702306,
          0.0011132000000000002,
          0.0014605999999999998,
          0.0072838,
          0.008184499999999999,
          0.0210656,
          0.0013756,
          0.0007258000000000001,
          0.0005749,
          0.00044039999999999997,
          0.08372530000000002,
          0.06502309999999999,
          0.0007619,
          0.0009214,
          0.0010255000000000002,
          0.0248911,
          0.09235270000000001,
          0.08266860000000001,
          0.0011613,
          0.0256446,
          0.0018781,
          0.0006953,
          0.0017244000000000003,
          0.001493,
          0.0009441,
          0.009423999999999998,
          0.0012371,
          0.0017255,
          0.08478260000000001,
          0.0010017000000000001,
          0.0709628,
          0.007685900000000001,
          0.006983100000000001,
          0.0207769,
          0.0030407000000000003,
          0.002436,
          0.0160522,
          0.1031069,
          0.0038618,
          0.0004785000000000001,
          0.0009278,
          0.0004029,
          0.04768289999999999,
          0.0011896,
          0.099945,
          0.0014487000000000002,
          0.0022613,
          0.004064,
          0.010862
         ],
         "yaxis": "y2"
        },
        {
         "marker": {
          "color": [
           0,
           1,
           2,
           3,
           4,
           5,
           6,
           7,
           8,
           9,
           10,
           11,
           12,
           13,
           14,
           15,
           16,
           17,
           18,
           19,
           20,
           21,
           22,
           23,
           24,
           25,
           26,
           27,
           28,
           29,
           30,
           31,
           32,
           33,
           34,
           35,
           36,
           37,
           38,
           39,
           40,
           41,
           42,
           43,
           44,
           45,
           46,
           47,
           48,
           49
          ],
          "colorbar": {
           "title": {
            "text": "Trial"
           },
           "x": 1,
           "xpad": 40
          },
          "colorscale": [
           [
            0,
            "rgb(247,251,255)"
           ],
           [
            0.125,
            "rgb(222,235,247)"
           ],
           [
            0.25,
            "rgb(198,219,239)"
           ],
           [
            0.375,
            "rgb(158,202,225)"
           ],
           [
            0.5,
            "rgb(107,174,214)"
           ],
           [
            0.625,
            "rgb(66,146,198)"
           ],
           [
            0.75,
            "rgb(33,113,181)"
           ],
           [
            0.875,
            "rgb(8,81,156)"
           ],
           [
            1,
            "rgb(8,48,107)"
           ]
          ],
          "line": {
           "color": "Grey",
           "width": 0.5
          },
          "showscale": false
         },
         "mode": "markers",
         "name": "Feasible Trial",
         "showlegend": false,
         "type": "scatter",
         "x": [
          31,
          200,
          665,
          921,
          750,
          802,
          836,
          853,
          307,
          305,
          124,
          533,
          362,
          80,
          570,
          683,
          103,
          980,
          598,
          804,
          678,
          203,
          359,
          509,
          740,
          560,
          424,
          750,
          954,
          305,
          223,
          464,
          307,
          156,
          366,
          196,
          840,
          191,
          758,
          653,
          200,
          519,
          140,
          947,
          679,
          682,
          815,
          914,
          230,
          847
         ],
         "xaxis": "x3",
         "y": [
          0.0054666,
          0.0702306,
          0.0011132000000000002,
          0.0014605999999999998,
          0.0072838,
          0.008184499999999999,
          0.0210656,
          0.0013756,
          0.0007258000000000001,
          0.0005749,
          0.00044039999999999997,
          0.08372530000000002,
          0.06502309999999999,
          0.0007619,
          0.0009214,
          0.0010255000000000002,
          0.0248911,
          0.09235270000000001,
          0.08266860000000001,
          0.0011613,
          0.0256446,
          0.0018781,
          0.0006953,
          0.0017244000000000003,
          0.001493,
          0.0009441,
          0.009423999999999998,
          0.0012371,
          0.0017255,
          0.08478260000000001,
          0.0010017000000000001,
          0.0709628,
          0.007685900000000001,
          0.006983100000000001,
          0.0207769,
          0.0030407000000000003,
          0.002436,
          0.0160522,
          0.1031069,
          0.0038618,
          0.0004785000000000001,
          0.0009278,
          0.0004029,
          0.04768289999999999,
          0.0011896,
          0.099945,
          0.0014487000000000002,
          0.0022613,
          0.004064,
          0.010862
         ],
         "yaxis": "y3"
        }
       ],
       "layout": {
        "template": {
         "data": {
          "bar": [
           {
            "error_x": {
             "color": "#2a3f5f"
            },
            "error_y": {
             "color": "#2a3f5f"
            },
            "marker": {
             "line": {
              "color": "#E5ECF6",
              "width": 0.5
             },
             "pattern": {
              "fillmode": "overlay",
              "size": 10,
              "solidity": 0.2
             }
            },
            "type": "bar"
           }
          ],
          "barpolar": [
           {
            "marker": {
             "line": {
              "color": "#E5ECF6",
              "width": 0.5
             },
             "pattern": {
              "fillmode": "overlay",
              "size": 10,
              "solidity": 0.2
             }
            },
            "type": "barpolar"
           }
          ],
          "carpet": [
           {
            "aaxis": {
             "endlinecolor": "#2a3f5f",
             "gridcolor": "white",
             "linecolor": "white",
             "minorgridcolor": "white",
             "startlinecolor": "#2a3f5f"
            },
            "baxis": {
             "endlinecolor": "#2a3f5f",
             "gridcolor": "white",
             "linecolor": "white",
             "minorgridcolor": "white",
             "startlinecolor": "#2a3f5f"
            },
            "type": "carpet"
           }
          ],
          "choropleth": [
           {
            "colorbar": {
             "outlinewidth": 0,
             "ticks": ""
            },
            "type": "choropleth"
           }
          ],
          "contour": [
           {
            "colorbar": {
             "outlinewidth": 0,
             "ticks": ""
            },
            "colorscale": [
             [
              0,
              "#0d0887"
             ],
             [
              0.1111111111111111,
              "#46039f"
             ],
             [
              0.2222222222222222,
              "#7201a8"
             ],
             [
              0.3333333333333333,
              "#9c179e"
             ],
             [
              0.4444444444444444,
              "#bd3786"
             ],
             [
              0.5555555555555556,
              "#d8576b"
             ],
             [
              0.6666666666666666,
              "#ed7953"
             ],
             [
              0.7777777777777778,
              "#fb9f3a"
             ],
             [
              0.8888888888888888,
              "#fdca26"
             ],
             [
              1,
              "#f0f921"
             ]
            ],
            "type": "contour"
           }
          ],
          "contourcarpet": [
           {
            "colorbar": {
             "outlinewidth": 0,
             "ticks": ""
            },
            "type": "contourcarpet"
           }
          ],
          "heatmap": [
           {
            "colorbar": {
             "outlinewidth": 0,
             "ticks": ""
            },
            "colorscale": [
             [
              0,
              "#0d0887"
             ],
             [
              0.1111111111111111,
              "#46039f"
             ],
             [
              0.2222222222222222,
              "#7201a8"
             ],
             [
              0.3333333333333333,
              "#9c179e"
             ],
             [
              0.4444444444444444,
              "#bd3786"
             ],
             [
              0.5555555555555556,
              "#d8576b"
             ],
             [
              0.6666666666666666,
              "#ed7953"
             ],
             [
              0.7777777777777778,
              "#fb9f3a"
             ],
             [
              0.8888888888888888,
              "#fdca26"
             ],
             [
              1,
              "#f0f921"
             ]
            ],
            "type": "heatmap"
           }
          ],
          "heatmapgl": [
           {
            "colorbar": {
             "outlinewidth": 0,
             "ticks": ""
            },
            "colorscale": [
             [
              0,
              "#0d0887"
             ],
             [
              0.1111111111111111,
              "#46039f"
             ],
             [
              0.2222222222222222,
              "#7201a8"
             ],
             [
              0.3333333333333333,
              "#9c179e"
             ],
             [
              0.4444444444444444,
              "#bd3786"
             ],
             [
              0.5555555555555556,
              "#d8576b"
             ],
             [
              0.6666666666666666,
              "#ed7953"
             ],
             [
              0.7777777777777778,
              "#fb9f3a"
             ],
             [
              0.8888888888888888,
              "#fdca26"
             ],
             [
              1,
              "#f0f921"
             ]
            ],
            "type": "heatmapgl"
           }
          ],
          "histogram": [
           {
            "marker": {
             "pattern": {
              "fillmode": "overlay",
              "size": 10,
              "solidity": 0.2
             }
            },
            "type": "histogram"
           }
          ],
          "histogram2d": [
           {
            "colorbar": {
             "outlinewidth": 0,
             "ticks": ""
            },
            "colorscale": [
             [
              0,
              "#0d0887"
             ],
             [
              0.1111111111111111,
              "#46039f"
             ],
             [
              0.2222222222222222,
              "#7201a8"
             ],
             [
              0.3333333333333333,
              "#9c179e"
             ],
             [
              0.4444444444444444,
              "#bd3786"
             ],
             [
              0.5555555555555556,
              "#d8576b"
             ],
             [
              0.6666666666666666,
              "#ed7953"
             ],
             [
              0.7777777777777778,
              "#fb9f3a"
             ],
             [
              0.8888888888888888,
              "#fdca26"
             ],
             [
              1,
              "#f0f921"
             ]
            ],
            "type": "histogram2d"
           }
          ],
          "histogram2dcontour": [
           {
            "colorbar": {
             "outlinewidth": 0,
             "ticks": ""
            },
            "colorscale": [
             [
              0,
              "#0d0887"
             ],
             [
              0.1111111111111111,
              "#46039f"
             ],
             [
              0.2222222222222222,
              "#7201a8"
             ],
             [
              0.3333333333333333,
              "#9c179e"
             ],
             [
              0.4444444444444444,
              "#bd3786"
             ],
             [
              0.5555555555555556,
              "#d8576b"
             ],
             [
              0.6666666666666666,
              "#ed7953"
             ],
             [
              0.7777777777777778,
              "#fb9f3a"
             ],
             [
              0.8888888888888888,
              "#fdca26"
             ],
             [
              1,
              "#f0f921"
             ]
            ],
            "type": "histogram2dcontour"
           }
          ],
          "mesh3d": [
           {
            "colorbar": {
             "outlinewidth": 0,
             "ticks": ""
            },
            "type": "mesh3d"
           }
          ],
          "parcoords": [
           {
            "line": {
             "colorbar": {
              "outlinewidth": 0,
              "ticks": ""
             }
            },
            "type": "parcoords"
           }
          ],
          "pie": [
           {
            "automargin": true,
            "type": "pie"
           }
          ],
          "scatter": [
           {
            "fillpattern": {
             "fillmode": "overlay",
             "size": 10,
             "solidity": 0.2
            },
            "type": "scatter"
           }
          ],
          "scatter3d": [
           {
            "line": {
             "colorbar": {
              "outlinewidth": 0,
              "ticks": ""
             }
            },
            "marker": {
             "colorbar": {
              "outlinewidth": 0,
              "ticks": ""
             }
            },
            "type": "scatter3d"
           }
          ],
          "scattercarpet": [
           {
            "marker": {
             "colorbar": {
              "outlinewidth": 0,
              "ticks": ""
             }
            },
            "type": "scattercarpet"
           }
          ],
          "scattergeo": [
           {
            "marker": {
             "colorbar": {
              "outlinewidth": 0,
              "ticks": ""
             }
            },
            "type": "scattergeo"
           }
          ],
          "scattergl": [
           {
            "marker": {
             "colorbar": {
              "outlinewidth": 0,
              "ticks": ""
             }
            },
            "type": "scattergl"
           }
          ],
          "scattermapbox": [
           {
            "marker": {
             "colorbar": {
              "outlinewidth": 0,
              "ticks": ""
             }
            },
            "type": "scattermapbox"
           }
          ],
          "scatterpolar": [
           {
            "marker": {
             "colorbar": {
              "outlinewidth": 0,
              "ticks": ""
             }
            },
            "type": "scatterpolar"
           }
          ],
          "scatterpolargl": [
           {
            "marker": {
             "colorbar": {
              "outlinewidth": 0,
              "ticks": ""
             }
            },
            "type": "scatterpolargl"
           }
          ],
          "scatterternary": [
           {
            "marker": {
             "colorbar": {
              "outlinewidth": 0,
              "ticks": ""
             }
            },
            "type": "scatterternary"
           }
          ],
          "surface": [
           {
            "colorbar": {
             "outlinewidth": 0,
             "ticks": ""
            },
            "colorscale": [
             [
              0,
              "#0d0887"
             ],
             [
              0.1111111111111111,
              "#46039f"
             ],
             [
              0.2222222222222222,
              "#7201a8"
             ],
             [
              0.3333333333333333,
              "#9c179e"
             ],
             [
              0.4444444444444444,
              "#bd3786"
             ],
             [
              0.5555555555555556,
              "#d8576b"
             ],
             [
              0.6666666666666666,
              "#ed7953"
             ],
             [
              0.7777777777777778,
              "#fb9f3a"
             ],
             [
              0.8888888888888888,
              "#fdca26"
             ],
             [
              1,
              "#f0f921"
             ]
            ],
            "type": "surface"
           }
          ],
          "table": [
           {
            "cells": {
             "fill": {
              "color": "#EBF0F8"
             },
             "line": {
              "color": "white"
             }
            },
            "header": {
             "fill": {
              "color": "#C8D4E3"
             },
             "line": {
              "color": "white"
             }
            },
            "type": "table"
           }
          ]
         },
         "layout": {
          "annotationdefaults": {
           "arrowcolor": "#2a3f5f",
           "arrowhead": 0,
           "arrowwidth": 1
          },
          "autotypenumbers": "strict",
          "coloraxis": {
           "colorbar": {
            "outlinewidth": 0,
            "ticks": ""
           }
          },
          "colorscale": {
           "diverging": [
            [
             0,
             "#8e0152"
            ],
            [
             0.1,
             "#c51b7d"
            ],
            [
             0.2,
             "#de77ae"
            ],
            [
             0.3,
             "#f1b6da"
            ],
            [
             0.4,
             "#fde0ef"
            ],
            [
             0.5,
             "#f7f7f7"
            ],
            [
             0.6,
             "#e6f5d0"
            ],
            [
             0.7,
             "#b8e186"
            ],
            [
             0.8,
             "#7fbc41"
            ],
            [
             0.9,
             "#4d9221"
            ],
            [
             1,
             "#276419"
            ]
           ],
           "sequential": [
            [
             0,
             "#0d0887"
            ],
            [
             0.1111111111111111,
             "#46039f"
            ],
            [
             0.2222222222222222,
             "#7201a8"
            ],
            [
             0.3333333333333333,
             "#9c179e"
            ],
            [
             0.4444444444444444,
             "#bd3786"
            ],
            [
             0.5555555555555556,
             "#d8576b"
            ],
            [
             0.6666666666666666,
             "#ed7953"
            ],
            [
             0.7777777777777778,
             "#fb9f3a"
            ],
            [
             0.8888888888888888,
             "#fdca26"
            ],
            [
             1,
             "#f0f921"
            ]
           ],
           "sequentialminus": [
            [
             0,
             "#0d0887"
            ],
            [
             0.1111111111111111,
             "#46039f"
            ],
            [
             0.2222222222222222,
             "#7201a8"
            ],
            [
             0.3333333333333333,
             "#9c179e"
            ],
            [
             0.4444444444444444,
             "#bd3786"
            ],
            [
             0.5555555555555556,
             "#d8576b"
            ],
            [
             0.6666666666666666,
             "#ed7953"
            ],
            [
             0.7777777777777778,
             "#fb9f3a"
            ],
            [
             0.8888888888888888,
             "#fdca26"
            ],
            [
             1,
             "#f0f921"
            ]
           ]
          },
          "colorway": [
           "#636efa",
           "#EF553B",
           "#00cc96",
           "#ab63fa",
           "#FFA15A",
           "#19d3f3",
           "#FF6692",
           "#B6E880",
           "#FF97FF",
           "#FECB52"
          ],
          "font": {
           "color": "#2a3f5f"
          },
          "geo": {
           "bgcolor": "white",
           "lakecolor": "white",
           "landcolor": "#E5ECF6",
           "showlakes": true,
           "showland": true,
           "subunitcolor": "white"
          },
          "hoverlabel": {
           "align": "left"
          },
          "hovermode": "closest",
          "mapbox": {
           "style": "light"
          },
          "paper_bgcolor": "white",
          "plot_bgcolor": "#E5ECF6",
          "polar": {
           "angularaxis": {
            "gridcolor": "white",
            "linecolor": "white",
            "ticks": ""
           },
           "bgcolor": "#E5ECF6",
           "radialaxis": {
            "gridcolor": "white",
            "linecolor": "white",
            "ticks": ""
           }
          },
          "scene": {
           "xaxis": {
            "backgroundcolor": "#E5ECF6",
            "gridcolor": "white",
            "gridwidth": 2,
            "linecolor": "white",
            "showbackground": true,
            "ticks": "",
            "zerolinecolor": "white"
           },
           "yaxis": {
            "backgroundcolor": "#E5ECF6",
            "gridcolor": "white",
            "gridwidth": 2,
            "linecolor": "white",
            "showbackground": true,
            "ticks": "",
            "zerolinecolor": "white"
           },
           "zaxis": {
            "backgroundcolor": "#E5ECF6",
            "gridcolor": "white",
            "gridwidth": 2,
            "linecolor": "white",
            "showbackground": true,
            "ticks": "",
            "zerolinecolor": "white"
           }
          },
          "shapedefaults": {
           "line": {
            "color": "#2a3f5f"
           }
          },
          "ternary": {
           "aaxis": {
            "gridcolor": "white",
            "linecolor": "white",
            "ticks": ""
           },
           "baxis": {
            "gridcolor": "white",
            "linecolor": "white",
            "ticks": ""
           },
           "bgcolor": "#E5ECF6",
           "caxis": {
            "gridcolor": "white",
            "linecolor": "white",
            "ticks": ""
           }
          },
          "title": {
           "x": 0.05
          },
          "xaxis": {
           "automargin": true,
           "gridcolor": "white",
           "linecolor": "white",
           "ticks": "",
           "title": {
            "standoff": 15
           },
           "zerolinecolor": "white",
           "zerolinewidth": 2
          },
          "yaxis": {
           "automargin": true,
           "gridcolor": "white",
           "linecolor": "white",
           "ticks": "",
           "title": {
            "standoff": 15
           },
           "zerolinecolor": "white",
           "zerolinewidth": 2
          }
         }
        },
        "title": {
         "text": "Slice Plot"
        },
        "xaxis": {
         "anchor": "y",
         "domain": [
          0,
          0.2888888888888889
         ],
         "title": {
          "text": "M"
         }
        },
        "xaxis2": {
         "anchor": "y2",
         "domain": [
          0.35555555555555557,
          0.6444444444444445
         ],
         "title": {
          "text": "k"
         }
        },
        "xaxis3": {
         "anchor": "y3",
         "domain": [
          0.7111111111111111,
          1
         ],
         "title": {
          "text": "probes"
         }
        },
        "yaxis": {
         "anchor": "x",
         "domain": [
          0,
          1
         ],
         "title": {
          "text": "average_time"
         }
        },
        "yaxis2": {
         "anchor": "x2",
         "domain": [
          0,
          1
         ],
         "matches": "y",
         "showticklabels": false
        },
        "yaxis3": {
         "anchor": "x3",
         "domain": [
          0,
          1
         ],
         "matches": "y",
         "showticklabels": false
        }
       }
      }
     },
     "metadata": {},
     "output_type": "display_data"
    }
   ],
   "source": [
    "plot_slice(hypercube_study, target = lambda t: t.values[1], target_name = 'average_time')"
   ]
  },
  {
   "attachments": {},
   "cell_type": "markdown",
   "metadata": {},
   "source": [
    "# 3. Optimize GNNS\n",
    "\n",
    "To skip logs, click [here](#visualize-gnns-study-results)."
   ]
  },
  {
   "cell_type": "code",
   "execution_count": 15,
   "metadata": {},
   "outputs": [
    {
     "ename": "NameError",
     "evalue": "name 'param_dict' is not defined",
     "output_type": "error",
     "traceback": [
      "\u001b[0;31m---------------------------------------------------------------------------\u001b[0m",
      "\u001b[0;31mNameError\u001b[0m                                 Traceback (most recent call last)",
      "Cell \u001b[0;32mIn[15], line 12\u001b[0m\n\u001b[1;32m      7\u001b[0m     average_time, true_time, maf, min_neighbors \u001b[39m=\u001b[39m gnn_test(input_path, query_path, queries_num\u001b[39m=\u001b[39m\u001b[39m10\u001b[39m, \u001b[39m*\u001b[39m\u001b[39m*\u001b[39mparam_dict, N\u001b[39m=\u001b[39m\u001b[39m1\u001b[39m)\n\u001b[1;32m      9\u001b[0m     \u001b[39mreturn\u001b[39;00m maf\u001b[39m.\u001b[39mvalue, average_time\u001b[39m.\u001b[39mvalue\n\u001b[1;32m     11\u001b[0m param_dict \u001b[39m=\u001b[39m {\u001b[39m'\u001b[39m\u001b[39mk\u001b[39m\u001b[39m'\u001b[39m: trial\u001b[39m.\u001b[39msuggest_int(\u001b[39m'\u001b[39m\u001b[39mk\u001b[39m\u001b[39m'\u001b[39m, \u001b[39m10\u001b[39m, \u001b[39m100\u001b[39m),\n\u001b[0;32m---> 12\u001b[0m                   \u001b[39m'\u001b[39m\u001b[39mE\u001b[39m\u001b[39m'\u001b[39m: trial\u001b[39m.\u001b[39msuggest_int(\u001b[39m'\u001b[39m\u001b[39mL\u001b[39m\u001b[39m'\u001b[39m, \u001b[39m9\u001b[39m, param_dict[\u001b[39m'\u001b[39m\u001b[39mk\u001b[39m\u001b[39m'\u001b[39m]),\n\u001b[1;32m     13\u001b[0m                   \u001b[39m'\u001b[39m\u001b[39mR\u001b[39m\u001b[39m'\u001b[39m: trial\u001b[39m.\u001b[39msuggest_int(\u001b[39m'\u001b[39m\u001b[39mL\u001b[39m\u001b[39m'\u001b[39m, \u001b[39m1\u001b[39m, \u001b[39m5\u001b[39m)\n\u001b[1;32m     14\u001b[0m                  }\n\u001b[1;32m     16\u001b[0m \u001b[39mprint\u001b[39m(param_dict)\n",
      "\u001b[0;31mNameError\u001b[0m: name 'param_dict' is not defined"
     ]
    }
   ],
   "source": [
    "def objective_gnns(trial):\n",
    "    param_dict = {'k': trial.suggest_int('k', 10, 100),\n",
    "                  'E': trial.suggest_int('E', 10, 100),\n",
    "                  'R': trial.suggest_int('R', 1, 10)\n",
    "                 }\n",
    "    \n",
    "    # penalize bad parameter choice\n",
    "    if param_dict['E'] > param_dict['k']:\n",
    "        return 1000, 1000\n",
    "\n",
    "    average_time, maf, min_neighbors = gnn_test(input_path, query_path, queries_num=10, **param_dict, N=1)\n",
    "\n",
    "    return maf.value, average_time.value"
   ]
  },
  {
   "attachments": {},
   "cell_type": "markdown",
   "metadata": {},
   "source": [
    "## Visualize GNNS study results"
   ]
  },
  {
   "cell_type": "code",
   "execution_count": null,
   "metadata": {},
   "outputs": [],
   "source": [
    "plot_pareto_front(gnns_study, target_names=['maf', 'average_time'])"
   ]
  },
  {
   "cell_type": "code",
   "execution_count": null,
   "metadata": {},
   "outputs": [],
   "source": [
    "plot_optimization_history(gnns_study, target = lambda t: t.values[0], target_name = 'maf')"
   ]
  },
  {
   "cell_type": "code",
   "execution_count": null,
   "metadata": {},
   "outputs": [],
   "source": [
    "plot_optimization_history(gnns_study, target = lambda t: t.values[1], target_name = 'average_time')"
   ]
  },
  {
   "cell_type": "code",
   "execution_count": null,
   "metadata": {},
   "outputs": [],
   "source": [
    "plot_slice(gnns_study, target = lambda t: t.values[0], target_name = 'maf')"
   ]
  },
  {
   "cell_type": "code",
   "execution_count": null,
   "metadata": {},
   "outputs": [],
   "source": [
    "plot_slice(gnns_study, target = lambda t: t.values[1], target_name = 'average_time')"
   ]
  }
 ],
 "metadata": {
  "kernelspec": {
   "display_name": "Python 3",
   "language": "python",
   "name": "python3"
  },
  "language_info": {
   "codemirror_mode": {
    "name": "ipython",
    "version": 3
   },
   "file_extension": ".py",
   "mimetype": "text/x-python",
   "name": "python",
   "nbconvert_exporter": "python",
   "pygments_lexer": "ipython3",
   "version": "3.10.12"
  },
  "orig_nbformat": 4
 },
 "nbformat": 4,
 "nbformat_minor": 2
}
