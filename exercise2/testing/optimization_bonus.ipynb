{
 "cells": [
  {
   "attachments": {},
   "cell_type": "markdown",
   "metadata": {},
   "source": [
    "# Optimization bonus - fine tuning for NSG\n",
    "\n",
    "[Optimize NSG](#1-optimize-nsg)"
   ]
  },
  {
   "attachments": {},
   "cell_type": "markdown",
   "metadata": {},
   "source": [
    "# Import libraries"
   ]
  },
  {
   "cell_type": "code",
   "execution_count": null,
   "metadata": {},
   "outputs": [],
   "source": [
    "import optuna\n",
    "from optuna.visualization import plot_pareto_front, plot_optimization_history, plot_slice\n",
    "\n",
    "import pandas\n",
    "\n",
    "from params import nsg_test"
   ]
  },
  {
   "cell_type": "code",
   "execution_count": 1,
   "metadata": {},
   "outputs": [],
   "source": [
    "input_path = b'../MNIST/input.dat'\n",
    "query_path = b'../MNIST/query.dat'"
   ]
  },
  {
   "attachments": {},
   "cell_type": "markdown",
   "metadata": {},
   "source": [
    "# Optimize NSG\n",
    "\n",
    "To skip logs, click [here](#visualize-nsg-study-results)."
   ]
  },
  {
   "cell_type": "code",
   "execution_count": null,
   "metadata": {},
   "outputs": [],
   "source": [
    "def objective_nsg(trial):\n",
    "    param_dict = {'m' : trial.suggest_int('m', 3, 500),\n",
    "                  'l' : trial.suggest_int('l', 10, 1000),\n",
    "                  'lq': trial.suggest_int('lq', 1, 1000),\n",
    "                  'k' : trial.suggest_int('k', 40, 100)}\n",
    "    \n",
    "    print(\"Trial parameters:\", param_dict)\n",
    "\n",
    "    average_time, maf = nsg_test(input_path, query_path, queries_num=100, **param_dict, N=5)\n",
    "\n",
    "    return maf.value, average_time.value"
   ]
  },
  {
   "cell_type": "code",
   "execution_count": null,
   "metadata": {},
   "outputs": [],
   "source": [
    "%%time\n",
    "for i in range(10):\n",
    "    try:\n",
    "        nsg_study = optuna.create_study(study_name='nsg', directions=['minimize', 'minimize'])\n",
    "        nsg_study.optimize(objective_nsg, n_trials=50, n_jobs=-1)\n",
    "        print(\"-------------------- Best trials --------------------\")\n",
    "        trials = sorted(nsg_study.best_trials, key=lambda x: x.values)\n",
    "        for trial in trials:\n",
    "            print(\"Trial no. {}\".format(trial.number))\n",
    "            print(\" Values = {}\".format(trial.values))\n",
    "            print(\" Params = {}\".format(trial.params))\n",
    "        break\n",
    "    except:\n",
    "        print(\"Trial failed, trying again...\")\n",
    "        continue"
   ]
  },
  {
   "attachments": {},
   "cell_type": "markdown",
   "metadata": {},
   "source": [
    "### Visualize NSG study results"
   ]
  },
  {
   "cell_type": "code",
   "execution_count": null,
   "metadata": {},
   "outputs": [],
   "source": [
    "plot_pareto_front(nsg_study, target_names=['maf', 'average_time'])"
   ]
  },
  {
   "cell_type": "code",
   "execution_count": null,
   "metadata": {},
   "outputs": [],
   "source": [
    "plot_optimization_history(nsg_study, target = lambda t: t.values[0], target_name = 'maf')"
   ]
  },
  {
   "cell_type": "code",
   "execution_count": null,
   "metadata": {},
   "outputs": [],
   "source": [
    "plot_optimization_history(nsg_study, target = lambda t: t.values[1], target_name = 'average_time')"
   ]
  },
  {
   "cell_type": "code",
   "execution_count": null,
   "metadata": {},
   "outputs": [],
   "source": [
    "plot_slice(nsg_study, target = lambda t: t.values[0], target_name = 'maf')"
   ]
  },
  {
   "cell_type": "code",
   "execution_count": null,
   "metadata": {},
   "outputs": [],
   "source": [
    "plot_slice(nsg_study, target = lambda t: t.values[1], target_name = 'average_time')"
   ]
  }
 ],
 "metadata": {
  "kernelspec": {
   "display_name": "Python 3",
   "language": "python",
   "name": "python3"
  },
  "language_info": {
   "codemirror_mode": {
    "name": "ipython",
    "version": 3
   },
   "file_extension": ".py",
   "mimetype": "text/x-python",
   "name": "python",
   "nbconvert_exporter": "python",
   "pygments_lexer": "ipython3",
   "version": "3.10.12"
  },
  "orig_nbformat": 4
 },
 "nbformat": 4,
 "nbformat_minor": 2
}
