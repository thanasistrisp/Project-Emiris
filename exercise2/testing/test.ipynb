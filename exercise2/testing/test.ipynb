{
 "cells": [
  {
   "attachments": {},
   "cell_type": "markdown",
   "metadata": {},
   "source": [
    "# Optimization - fine tuning\n",
    "\n",
    "[1. Optimize LSH](#1-optimize-lsh)\n",
    "\n",
    "[2. Optimize Hypercube](#2-optimize-hypercube)\n",
    "\n",
    "[3. Optimize GNNS](#3-optimize-gnns)\n",
    "\n",
    "[4. Optimize MRNG]()"
   ]
  },
  {
   "attachments": {},
   "cell_type": "markdown",
   "metadata": {},
   "source": [
    "# Import libraries"
   ]
  },
  {
   "cell_type": "code",
   "execution_count": 1,
   "metadata": {},
   "outputs": [
    {
     "name": "stderr",
     "output_type": "stream",
     "text": [
      "/home/thantrisp/miniconda3/envs/testpy/lib/python3.12/site-packages/tqdm/auto.py:21: TqdmWarning: IProgress not found. Please update jupyter and ipywidgets. See https://ipywidgets.readthedocs.io/en/stable/user_install.html\n",
      "  from .autonotebook import tqdm as notebook_tqdm\n"
     ]
    }
   ],
   "source": [
    "import optuna\n",
    "from optuna.visualization import plot_pareto_front, plot_optimization_history, plot_slice\n",
    "\n",
    "import pandas\n",
    "\n",
    "from params import lsh_test, hypercube_test, gnn_test, mrng_test"
   ]
  },
  {
   "cell_type": "code",
   "execution_count": 2,
   "metadata": {},
   "outputs": [],
   "source": [
    "input_path = b'../MNIST/input.dat'\n",
    "query_path = b'../MNIST/query.dat'\n",
    "\n",
    "n = 60000"
   ]
  },
  {
   "attachments": {},
   "cell_type": "markdown",
   "metadata": {},
   "source": [
    "# 1. Optimize LSH"
   ]
  },
  {
   "cell_type": "code",
   "execution_count": 3,
   "metadata": {},
   "outputs": [],
   "source": [
    "def objective_lsh(trial):\n",
    "    param_dict = {'k': trial.suggest_int('k', 2, 10),\n",
    "                  'L': trial.suggest_int('L', 2, 10),\n",
    "                  'table_size': trial.suggest_categorical('table_size', [int(n/16), int(n/8), int(n/4)]),\n",
    "                  'window_size': trial.suggest_int('window_size', 1000, 5000),\n",
    "                  'query_trick': trial.suggest_categorical('query_trick', [True, False]),\n",
    "                 }\n",
    "    \n",
    "    print(\"Trial parameters:\", param_dict)\n",
    "\n",
    "    average_time, maf, min_neighbors = lsh_test(input_path, query_path, queries_num=100, **param_dict, N=60)\n",
    "\n",
    "    # trial should return at least 60 neighbors to be used in GNNS\n",
    "    # penalize model if slower than brute force\n",
    "    c0 = - min_neighbors.value + 60\n",
    "    c1 = average_time.value - 0.01\n",
    "    trial.set_user_attr('constraint', (c0, c1))\n",
    "\n",
    "    return maf.value, average_time.value\n",
    "\n",
    "def constraints(trial):\n",
    "    return trial.user_attrs['constraint']"
   ]
  },
  {
   "cell_type": "code",
   "execution_count": 4,
   "metadata": {},
   "outputs": [
    {
     "name": "stderr",
     "output_type": "stream",
     "text": [
      "/home/thantrisp/miniconda3/envs/testpy/lib/python3.12/site-packages/optuna/samplers/nsgaii/_sampler.py:162: ExperimentalWarning: The constraints_func option is an experimental feature. The interface can change in the future.\n",
      "  warnings.warn(\n",
      "[I 2023-11-26 16:14:04,282] A new study created in memory with name: lsh\n"
     ]
    },
    {
     "name": "stdout",
     "output_type": "stream",
     "text": [
      "Trial parameters: {'k': 10, 'L': 6, 'table_size': 15000, 'window_size': 2190, 'query_trick': True}\n",
      "Read MNIST data\n",
      "Done\n",
      "Algorithm: LSH\n",
      "Query: 0\n",
      "Query: 1\n",
      "Query: 2\n",
      "Query: 3\n",
      "Query: 4\n",
      "Query: 5\n",
      "Query: 6\n",
      "Query: 7\n",
      "Query: 8\n",
      "Query: 9\n",
      "Query: 10\n",
      "Query: 11\n",
      "Query: 12\n",
      "Query: 13\n",
      "Query: 14\n",
      "Query: 15\n",
      "Query: 16\n",
      "Query: 17\n",
      "Query: 18\n",
      "Query: 19\n",
      "Query: 20\n",
      "Query: 21\n",
      "Query: 22\n",
      "Query: 23\n",
      "Query: 24\n",
      "Query: 25\n",
      "Query: 26\n",
      "Query: 27\n",
      "Query: 28\n",
      "Query: 29\n",
      "Query: 30\n",
      "Query: 31\n",
      "Query: 32\n",
      "Query: 33\n",
      "Query: 34\n",
      "Query: 35\n",
      "Query: 36\n",
      "Query: 37\n",
      "Query: 38\n",
      "Query: 39\n",
      "Query: 40\n",
      "Query: 41\n",
      "Query: 42\n",
      "Query: 43\n",
      "Query: 44\n",
      "Query: 45\n",
      "Query: 46\n",
      "Query: 47\n",
      "Query: 48\n",
      "Query: 49\n",
      "Query: 50\n",
      "Query: 51\n",
      "Query: 52\n",
      "Query: 53\n",
      "Query: 54\n",
      "Query: 55\n",
      "Query: 56\n",
      "Query: 57\n",
      "Query: 58\n",
      "Query: 59\n",
      "Query: 60\n",
      "Query: 61\n",
      "Query: 62\n",
      "Query: 63\n",
      "Query: 64\n",
      "Query: 65\n",
      "Query: 66\n",
      "Query: 67\n",
      "Query: 68\n",
      "Query: 69\n",
      "Query: 70\n",
      "Query: 71\n",
      "Query: 72\n",
      "Query: 73\n",
      "Query: 74\n",
      "Query: 75\n",
      "Query: 76\n",
      "Query: 77\n",
      "Query: 78\n",
      "Query: 79\n",
      "Query: 80\n",
      "Query: 81\n",
      "Query: 82\n",
      "Query: 83\n",
      "Query: 84\n",
      "Query: 85\n",
      "Query: 86\n",
      "Query: 87\n",
      "Query: 88\n",
      "Query: 89\n",
      "Query: 90\n",
      "Query: 91\n",
      "Query: 92\n",
      "Query: 93\n",
      "Query: 94\n",
      "Query: 95\n",
      "Query: 96\n",
      "Query: 97\n",
      "Query: 98\n",
      "Query: 99\n"
     ]
    },
    {
     "name": "stderr",
     "output_type": "stream",
     "text": [
      "[I 2023-11-26 16:14:52,662] Trial 0 finished with values: [1.4737879905085032, 0.0029157] and parameters: {'k': 10, 'L': 6, 'table_size': 15000, 'window_size': 2190, 'query_trick': True}. \n"
     ]
    },
    {
     "name": "stdout",
     "output_type": "stream",
     "text": [
      "Trial parameters: {'k': 3, 'L': 3, 'table_size': 3750, 'window_size': 1063, 'query_trick': False}\n",
      "Read MNIST data\n",
      "Done\n",
      "Algorithm: LSH\n",
      "Query: 0\n",
      "Query: 1\n",
      "Query: 2\n",
      "Query: 3\n",
      "Query: 4\n",
      "Query: 5\n",
      "Query: 6\n",
      "Query: 7\n",
      "Query: 8\n",
      "Query: 9\n",
      "Query: 10\n",
      "Query: 11\n",
      "Query: 12\n",
      "Query: 13\n",
      "Query: 14\n",
      "Query: 15\n",
      "Query: 16\n",
      "Query: 17\n",
      "Query: 18\n",
      "Query: 19\n",
      "Query: 20\n",
      "Query: 21\n",
      "Query: 22\n",
      "Query: 23\n",
      "Query: 24\n",
      "Query: 25\n",
      "Query: 26\n",
      "Query: 27\n",
      "Query: 28\n",
      "Query: 29\n",
      "Query: 30\n",
      "Query: 31\n",
      "Query: 32\n",
      "Query: 33\n",
      "Query: 34\n",
      "Query: 35\n",
      "Query: 36\n",
      "Query: 37\n",
      "Query: 38\n",
      "Query: 39\n",
      "Query: 40\n",
      "Query: 41\n",
      "Query: 42\n",
      "Query: 43\n",
      "Query: 44\n",
      "Query: 45\n",
      "Query: 46\n",
      "Query: 47\n",
      "Query: 48\n",
      "Query: 49\n",
      "Query: 50\n",
      "Query: 51\n",
      "Query: 52\n",
      "Query: 53\n",
      "Query: 54\n",
      "Query: 55\n",
      "Query: 56\n",
      "Query: 57\n",
      "Query: 58\n",
      "Query: 59\n",
      "Query: 60\n",
      "Query: 61\n",
      "Query: 62\n",
      "Query: 63\n",
      "Query: 64\n",
      "Query: 65\n",
      "Query: 66\n",
      "Query: 67\n",
      "Query: 68\n",
      "Query: 69\n",
      "Query: 70\n",
      "Query: 71\n",
      "Query: 72\n",
      "Query: 73\n",
      "Query: 74\n",
      "Query: 75\n",
      "Query: 76\n",
      "Query: 77\n",
      "Query: 78\n",
      "Query: 79\n",
      "Query: 80\n",
      "Query: 81\n",
      "Query: 82\n",
      "Query: 83\n",
      "Query: 84\n",
      "Query: 85\n",
      "Query: 86\n",
      "Query: 87\n",
      "Query: 88\n",
      "Query: 89\n",
      "Query: 90\n",
      "Query: 91\n",
      "Query: 92\n",
      "Query: 93\n",
      "Query: 94\n",
      "Query: 95\n",
      "Query: 96\n",
      "Query: 97\n",
      "Query: 98\n",
      "Query: 99\n"
     ]
    },
    {
     "name": "stderr",
     "output_type": "stream",
     "text": [
      "[I 2023-11-26 16:15:23,545] Trial 1 finished with values: [1.499912106564422, 0.00921434] and parameters: {'k': 3, 'L': 3, 'table_size': 3750, 'window_size': 1063, 'query_trick': False}. \n"
     ]
    },
    {
     "name": "stdout",
     "output_type": "stream",
     "text": [
      "Trial parameters: {'k': 4, 'L': 8, 'table_size': 3750, 'window_size': 2921, 'query_trick': True}\n",
      "Read MNIST data\n",
      "Done\n",
      "Algorithm: LSH\n",
      "Query: 0\n",
      "Query: 1\n",
      "Query: 2\n",
      "Query: 3\n",
      "Query: 4\n",
      "Query: 5\n",
      "Query: 6\n",
      "Query: 7\n",
      "Query: 8\n",
      "Query: 9\n",
      "Query: 10\n",
      "Query: 11\n",
      "Query: 12\n",
      "Query: 13\n",
      "Query: 14\n",
      "Query: 15\n",
      "Query: 16\n",
      "Query: 17\n",
      "Query: 18\n",
      "Query: 19\n",
      "Query: 20\n",
      "Query: 21\n",
      "Query: 22\n",
      "Query: 23\n",
      "Query: 24\n",
      "Query: 25\n",
      "Query: 26\n",
      "Query: 27\n",
      "Query: 28\n",
      "Query: 29\n",
      "Query: 30\n",
      "Query: 31\n",
      "Query: 32\n",
      "Query: 33\n",
      "Query: 34\n",
      "Query: 35\n",
      "Query: 36\n",
      "Query: 37\n",
      "Query: 38\n",
      "Query: 39\n",
      "Query: 40\n",
      "Query: 41\n",
      "Query: 42\n",
      "Query: 43\n",
      "Query: 44\n",
      "Query: 45\n",
      "Query: 46\n",
      "Query: 47\n",
      "Query: 48\n",
      "Query: 49\n",
      "Query: 50\n",
      "Query: 51\n",
      "Query: 52\n",
      "Query: 53\n",
      "Query: 54\n",
      "Query: 55\n",
      "Query: 56\n",
      "Query: 57\n",
      "Query: 58\n",
      "Query: 59\n",
      "Query: 60\n",
      "Query: 61\n",
      "Query: 62\n",
      "Query: 63\n",
      "Query: 64\n",
      "Query: 65\n",
      "Query: 66\n",
      "Query: 67\n",
      "Query: 68\n",
      "Query: 69\n",
      "Query: 70\n",
      "Query: 71\n",
      "Query: 72\n",
      "Query: 73\n",
      "Query: 74\n",
      "Query: 75\n",
      "Query: 76\n",
      "Query: 77\n",
      "Query: 78\n",
      "Query: 79\n",
      "Query: 80\n",
      "Query: 81\n",
      "Query: 82\n",
      "Query: 83\n",
      "Query: 84\n",
      "Query: 85\n",
      "Query: 86\n",
      "Query: 87\n",
      "Query: 88\n",
      "Query: 89\n",
      "Query: 90\n",
      "Query: 91\n",
      "Query: 92\n",
      "Query: 93\n",
      "Query: 94\n",
      "Query: 95\n",
      "Query: 96\n",
      "Query: 97\n",
      "Query: 98\n",
      "Query: 99\n"
     ]
    },
    {
     "name": "stderr",
     "output_type": "stream",
     "text": [
      "[I 2023-11-26 16:16:15,347] Trial 2 finished with values: [1.0016436954345849, 0.12031295999999997] and parameters: {'k': 4, 'L': 8, 'table_size': 3750, 'window_size': 2921, 'query_trick': True}. \n"
     ]
    },
    {
     "name": "stdout",
     "output_type": "stream",
     "text": [
      "Trial parameters: {'k': 5, 'L': 6, 'table_size': 15000, 'window_size': 4639, 'query_trick': True}\n",
      "Read MNIST data\n",
      "Done\n",
      "Algorithm: LSH\n",
      "Query: 0\n",
      "Query: 1\n",
      "Query: 2\n",
      "Query: 3\n",
      "Query: 4\n",
      "Query: 5\n",
      "Query: 6\n",
      "Query: 7\n",
      "Query: 8\n",
      "Query: 9\n",
      "Query: 10\n",
      "Query: 11\n",
      "Query: 12\n",
      "Query: 13\n",
      "Query: 14\n",
      "Query: 15\n",
      "Query: 16\n",
      "Query: 17\n",
      "Query: 18\n",
      "Query: 19\n",
      "Query: 20\n",
      "Query: 21\n",
      "Query: 22\n",
      "Query: 23\n",
      "Query: 24\n",
      "Query: 25\n",
      "Query: 26\n",
      "Query: 27\n",
      "Query: 28\n",
      "Query: 29\n",
      "Query: 30\n",
      "Query: 31\n",
      "Query: 32\n",
      "Query: 33\n",
      "Query: 34\n",
      "Query: 35\n",
      "Query: 36\n",
      "Query: 37\n",
      "Query: 38\n",
      "Query: 39\n",
      "Query: 40\n",
      "Query: 41\n",
      "Query: 42\n",
      "Query: 43\n",
      "Query: 44\n",
      "Query: 45\n",
      "Query: 46\n",
      "Query: 47\n",
      "Query: 48\n",
      "Query: 49\n",
      "Query: 50\n",
      "Query: 51\n",
      "Query: 52\n",
      "Query: 53\n",
      "Query: 54\n",
      "Query: 55\n",
      "Query: 56\n",
      "Query: 57\n",
      "Query: 58\n",
      "Query: 59\n",
      "Query: 60\n",
      "Query: 61\n",
      "Query: 62\n",
      "Query: 63\n",
      "Query: 64\n",
      "Query: 65\n",
      "Query: 66\n",
      "Query: 67\n",
      "Query: 68\n",
      "Query: 69\n",
      "Query: 70\n",
      "Query: 71\n",
      "Query: 72\n",
      "Query: 73\n",
      "Query: 74\n",
      "Query: 75\n",
      "Query: 76\n",
      "Query: 77\n",
      "Query: 78\n",
      "Query: 79\n",
      "Query: 80\n",
      "Query: 81\n",
      "Query: 82\n",
      "Query: 83\n",
      "Query: 84\n",
      "Query: 85\n",
      "Query: 86\n",
      "Query: 87\n",
      "Query: 88\n",
      "Query: 89\n",
      "Query: 90\n",
      "Query: 91\n",
      "Query: 92\n",
      "Query: 93\n",
      "Query: 94\n",
      "Query: 95\n",
      "Query: 96\n",
      "Query: 97\n",
      "Query: 98\n",
      "Query: 99\n"
     ]
    },
    {
     "name": "stderr",
     "output_type": "stream",
     "text": [
      "[I 2023-11-26 16:17:11,962] Trial 3 finished with values: [1.0, 0.17707529] and parameters: {'k': 5, 'L': 6, 'table_size': 15000, 'window_size': 4639, 'query_trick': True}. \n"
     ]
    },
    {
     "name": "stdout",
     "output_type": "stream",
     "text": [
      "Trial parameters: {'k': 8, 'L': 5, 'table_size': 7500, 'window_size': 3678, 'query_trick': False}\n",
      "Read MNIST data\n",
      "Done\n",
      "Algorithm: LSH\n",
      "Query: 0\n",
      "Query: 1\n",
      "Query: 2\n",
      "Query: 3\n",
      "Query: 4\n",
      "Query: 5\n",
      "Query: 6\n",
      "Query: 7\n",
      "Query: 8\n",
      "Query: 9\n",
      "Query: 10\n",
      "Query: 11\n",
      "Query: 12\n",
      "Query: 13\n",
      "Query: 14\n",
      "Query: 15\n",
      "Query: 16\n",
      "Query: 17\n",
      "Query: 18\n",
      "Query: 19\n",
      "Query: 20\n",
      "Query: 21\n",
      "Query: 22\n",
      "Query: 23\n",
      "Query: 24\n",
      "Query: 25\n",
      "Query: 26\n",
      "Query: 27\n",
      "Query: 28\n",
      "Query: 29\n",
      "Query: 30\n",
      "Query: 31\n",
      "Query: 32\n",
      "Query: 33\n",
      "Query: 34\n",
      "Query: 35\n",
      "Query: 36\n",
      "Query: 37\n",
      "Query: 38\n",
      "Query: 39\n",
      "Query: 40\n",
      "Query: 41\n",
      "Query: 42\n",
      "Query: 43\n",
      "Query: 44\n",
      "Query: 45\n",
      "Query: 46\n",
      "Query: 47\n",
      "Query: 48\n",
      "Query: 49\n",
      "Query: 50\n",
      "Query: 51\n",
      "Query: 52\n",
      "Query: 53\n",
      "Query: 54\n",
      "Query: 55\n",
      "Query: 56\n",
      "Query: 57\n",
      "Query: 58\n",
      "Query: 59\n",
      "Query: 60\n",
      "Query: 61\n",
      "Query: 62\n",
      "Query: 63\n",
      "Query: 64\n",
      "Query: 65\n",
      "Query: 66\n",
      "Query: 67\n",
      "Query: 68\n",
      "Query: 69\n",
      "Query: 70\n",
      "Query: 71\n",
      "Query: 72\n",
      "Query: 73\n",
      "Query: 74\n",
      "Query: 75\n",
      "Query: 76\n",
      "Query: 77\n",
      "Query: 78\n",
      "Query: 79\n",
      "Query: 80\n",
      "Query: 81\n",
      "Query: 82\n",
      "Query: 83\n",
      "Query: 84\n",
      "Query: 85\n",
      "Query: 86\n",
      "Query: 87\n",
      "Query: 88\n",
      "Query: 89\n",
      "Query: 90\n",
      "Query: 91\n",
      "Query: 92\n",
      "Query: 93\n",
      "Query: 94\n",
      "Query: 95\n",
      "Query: 96\n",
      "Query: 97\n",
      "Query: 98\n",
      "Query: 99\n"
     ]
    },
    {
     "name": "stderr",
     "output_type": "stream",
     "text": [
      "[I 2023-11-26 16:17:59,656] Trial 4 finished with values: [1.0713642739299358, 0.039423789999999986] and parameters: {'k': 8, 'L': 5, 'table_size': 7500, 'window_size': 3678, 'query_trick': False}. \n"
     ]
    },
    {
     "name": "stdout",
     "output_type": "stream",
     "text": [
      "Trial parameters: {'k': 5, 'L': 6, 'table_size': 3750, 'window_size': 1935, 'query_trick': False}\n",
      "Read MNIST data\n",
      "Done\n",
      "Algorithm: LSH\n",
      "Query: 0\n",
      "Query: 1\n",
      "Query: 2\n",
      "Query: 3\n",
      "Query: 4\n",
      "Query: 5\n",
      "Query: 6\n",
      "Query: 7\n",
      "Query: 8\n",
      "Query: 9\n",
      "Query: 10\n",
      "Query: 11\n",
      "Query: 12\n",
      "Query: 13\n",
      "Query: 14\n",
      "Query: 15\n",
      "Query: 16\n",
      "Query: 17\n",
      "Query: 18\n",
      "Query: 19\n",
      "Query: 20\n",
      "Query: 21\n",
      "Query: 22\n",
      "Query: 23\n",
      "Query: 24\n",
      "Query: 25\n",
      "Query: 26\n",
      "Query: 27\n",
      "Query: 28\n",
      "Query: 29\n",
      "Query: 30\n",
      "Query: 31\n",
      "Query: 32\n",
      "Query: 33\n",
      "Query: 34\n",
      "Query: 35\n",
      "Query: 36\n",
      "Query: 37\n",
      "Query: 38\n",
      "Query: 39\n",
      "Query: 40\n",
      "Query: 41\n",
      "Query: 42\n",
      "Query: 43\n",
      "Query: 44\n",
      "Query: 45\n",
      "Query: 46\n",
      "Query: 47\n",
      "Query: 48\n",
      "Query: 49\n",
      "Query: 50\n",
      "Query: 51\n",
      "Query: 52\n",
      "Query: 53\n",
      "Query: 54\n",
      "Query: 55\n",
      "Query: 56\n",
      "Query: 57\n",
      "Query: 58\n",
      "Query: 59\n",
      "Query: 60\n",
      "Query: 61\n",
      "Query: 62\n",
      "Query: 63\n",
      "Query: 64\n",
      "Query: 65\n",
      "Query: 66\n",
      "Query: 67\n",
      "Query: 68\n",
      "Query: 69\n",
      "Query: 70\n",
      "Query: 71\n",
      "Query: 72\n",
      "Query: 73\n",
      "Query: 74\n",
      "Query: 75\n",
      "Query: 76\n",
      "Query: 77\n",
      "Query: 78\n",
      "Query: 79\n",
      "Query: 80\n",
      "Query: 81\n",
      "Query: 82\n",
      "Query: 83\n",
      "Query: 84\n",
      "Query: 85\n",
      "Query: 86\n",
      "Query: 87\n",
      "Query: 88\n",
      "Query: 89\n",
      "Query: 90\n",
      "Query: 91\n",
      "Query: 92\n",
      "Query: 93\n",
      "Query: 94\n",
      "Query: 95\n",
      "Query: 96\n",
      "Query: 97\n",
      "Query: 98\n",
      "Query: 99\n"
     ]
    },
    {
     "name": "stderr",
     "output_type": "stream",
     "text": [
      "[I 2023-11-26 16:18:39,879] Trial 5 finished with values: [1.2008418810414185, 0.020625590000000006] and parameters: {'k': 5, 'L': 6, 'table_size': 3750, 'window_size': 1935, 'query_trick': False}. \n"
     ]
    },
    {
     "name": "stdout",
     "output_type": "stream",
     "text": [
      "Trial parameters: {'k': 5, 'L': 2, 'table_size': 15000, 'window_size': 1648, 'query_trick': False}\n",
      "Read MNIST data\n",
      "Done\n",
      "Algorithm: LSH\n",
      "Query: 0\n",
      "Query: 1\n",
      "Query: 2\n",
      "Query: 3\n",
      "Query: 4\n",
      "Query: 5\n",
      "Query: 6\n",
      "Query: 7\n",
      "Query: 8\n",
      "Query: 9\n",
      "Query: 10\n",
      "Query: 11\n",
      "Query: 12\n",
      "Query: 13\n",
      "Query: 14\n",
      "Query: 15\n",
      "Query: 16\n",
      "Query: 17\n",
      "Query: 18\n",
      "Query: 19\n",
      "Query: 20\n",
      "Query: 21\n",
      "Query: 22\n",
      "Query: 23\n",
      "Query: 24\n",
      "Query: 25\n",
      "Query: 26\n",
      "Query: 27\n",
      "Query: 28\n",
      "Query: 29\n",
      "Query: 30\n",
      "Query: 31\n",
      "Query: 32\n",
      "Query: 33\n",
      "Query: 34\n",
      "Query: 35\n",
      "Query: 36\n",
      "Query: 37\n",
      "Query: 38\n",
      "Query: 39\n",
      "Query: 40\n",
      "Query: 41\n",
      "Query: 42\n",
      "Query: 43\n",
      "Query: 44\n",
      "Query: 45\n",
      "Query: 46\n",
      "Query: 47\n",
      "Query: 48\n",
      "Query: 49\n",
      "Query: 50\n",
      "Query: 51\n",
      "Query: 52\n",
      "Query: 53\n",
      "Query: 54\n",
      "Query: 55\n",
      "Query: 56\n",
      "Query: 57\n",
      "Query: 58\n",
      "Query: 59\n",
      "Query: 60\n",
      "Query: 61\n",
      "Query: 62\n",
      "Query: 63\n",
      "Query: 64\n",
      "Query: 65\n",
      "Query: 66\n",
      "Query: 67\n",
      "Query: 68\n",
      "Query: 69\n",
      "Query: 70\n",
      "Query: 71\n",
      "Query: 72\n",
      "Query: 73\n",
      "Query: 74\n",
      "Query: 75\n",
      "Query: 76\n",
      "Query: 77\n",
      "Query: 78\n",
      "Query: 79\n",
      "Query: 80\n",
      "Query: 81\n",
      "Query: 82\n",
      "Query: 83\n",
      "Query: 84\n",
      "Query: 85\n",
      "Query: 86\n",
      "Query: 87\n",
      "Query: 88\n",
      "Query: 89\n",
      "Query: 90\n",
      "Query: 91\n",
      "Query: 92\n",
      "Query: 93\n",
      "Query: 94\n",
      "Query: 95\n",
      "Query: 96\n",
      "Query: 97\n",
      "Query: 98\n",
      "Query: 99\n"
     ]
    },
    {
     "name": "stderr",
     "output_type": "stream",
     "text": [
      "[I 2023-11-26 16:19:13,614] Trial 6 finished with values: [1.5831273752353285, 0.00326295] and parameters: {'k': 5, 'L': 2, 'table_size': 15000, 'window_size': 1648, 'query_trick': False}. \n"
     ]
    },
    {
     "name": "stdout",
     "output_type": "stream",
     "text": [
      "Trial parameters: {'k': 4, 'L': 9, 'table_size': 7500, 'window_size': 2438, 'query_trick': True}\n",
      "Read MNIST data\n",
      "Done\n",
      "Algorithm: LSH\n",
      "Query: 0\n",
      "Query: 1\n",
      "Query: 2\n",
      "Query: 3\n",
      "Query: 4\n",
      "Query: 5\n",
      "Query: 6\n",
      "Query: 7\n",
      "Query: 8\n",
      "Query: 9\n",
      "Query: 10\n",
      "Query: 11\n",
      "Query: 12\n",
      "Query: 13\n",
      "Query: 14\n",
      "Query: 15\n",
      "Query: 16\n",
      "Query: 17\n",
      "Query: 18\n",
      "Query: 19\n",
      "Query: 20\n",
      "Query: 21\n",
      "Query: 22\n",
      "Query: 23\n",
      "Query: 24\n",
      "Query: 25\n",
      "Query: 26\n",
      "Query: 27\n",
      "Query: 28\n",
      "Query: 29\n",
      "Query: 30\n",
      "Query: 31\n",
      "Query: 32\n",
      "Query: 33\n",
      "Query: 34\n",
      "Query: 35\n",
      "Query: 36\n",
      "Query: 37\n",
      "Query: 38\n",
      "Query: 39\n",
      "Query: 40\n",
      "Query: 41\n",
      "Query: 42\n",
      "Query: 43\n",
      "Query: 44\n",
      "Query: 45\n",
      "Query: 46\n",
      "Query: 47\n",
      "Query: 48\n",
      "Query: 49\n",
      "Query: 50\n",
      "Query: 51\n",
      "Query: 52\n",
      "Query: 53\n",
      "Query: 54\n",
      "Query: 55\n",
      "Query: 56\n",
      "Query: 57\n",
      "Query: 58\n",
      "Query: 59\n",
      "Query: 60\n",
      "Query: 61\n",
      "Query: 62\n",
      "Query: 63\n",
      "Query: 64\n",
      "Query: 65\n",
      "Query: 66\n",
      "Query: 67\n",
      "Query: 68\n",
      "Query: 69\n",
      "Query: 70\n",
      "Query: 71\n",
      "Query: 72\n",
      "Query: 73\n",
      "Query: 74\n",
      "Query: 75\n",
      "Query: 76\n",
      "Query: 77\n",
      "Query: 78\n",
      "Query: 79\n",
      "Query: 80\n",
      "Query: 81\n",
      "Query: 82\n",
      "Query: 83\n",
      "Query: 84\n",
      "Query: 85\n",
      "Query: 86\n",
      "Query: 87\n",
      "Query: 88\n",
      "Query: 89\n",
      "Query: 90\n",
      "Query: 91\n",
      "Query: 92\n",
      "Query: 93\n",
      "Query: 94\n",
      "Query: 95\n",
      "Query: 96\n",
      "Query: 97\n",
      "Query: 98\n",
      "Query: 99\n"
     ]
    },
    {
     "name": "stderr",
     "output_type": "stream",
     "text": [
      "[I 2023-11-26 16:20:08,194] Trial 7 finished with values: [1.008876982516312, 0.11541790000000002] and parameters: {'k': 4, 'L': 9, 'table_size': 7500, 'window_size': 2438, 'query_trick': True}. \n"
     ]
    },
    {
     "name": "stdout",
     "output_type": "stream",
     "text": [
      "Trial parameters: {'k': 9, 'L': 5, 'table_size': 7500, 'window_size': 1202, 'query_trick': True}\n",
      "Read MNIST data\n",
      "Done\n",
      "Algorithm: LSH\n",
      "Query: 0\n",
      "Query: 1\n",
      "Query: 2\n",
      "Query: 3\n",
      "Query: 4\n",
      "Query: 5\n",
      "Query: 6\n",
      "Query: 7\n",
      "Query: 8\n",
      "Query: 9\n",
      "Query: 10\n",
      "Query: 11\n",
      "Query: 12\n",
      "Query: 13\n",
      "Query: 14\n",
      "Query: 15\n",
      "Query: 16\n",
      "Query: 17\n",
      "Query: 18\n",
      "Query: 19\n",
      "Query: 20\n",
      "Query: 21\n",
      "Query: 22\n",
      "Query: 23\n",
      "Query: 24\n",
      "Query: 25\n",
      "Query: 26\n",
      "Query: 27\n",
      "Query: 28\n",
      "Query: 29\n",
      "Query: 30\n",
      "Query: 31\n",
      "Query: 32\n",
      "Query: 33\n",
      "Query: 34\n",
      "Query: 35\n",
      "Query: 36\n",
      "Query: 37\n",
      "Query: 38\n",
      "Query: 39\n",
      "Query: 40\n",
      "Query: 41\n",
      "Query: 42\n",
      "Query: 43\n",
      "Query: 44\n",
      "Query: 45\n",
      "Query: 46\n",
      "Query: 47\n",
      "Query: 48\n",
      "Query: 49\n",
      "Query: 50\n",
      "Query: 51\n",
      "Query: 52\n",
      "Query: 53\n",
      "Query: 54\n",
      "Query: 55\n",
      "Query: 56\n",
      "Query: 57\n",
      "Query: 58\n",
      "Query: 59\n",
      "Query: 60\n",
      "Query: 61\n",
      "Query: 62\n",
      "Query: 63\n",
      "Query: 64\n",
      "Query: 65\n",
      "Query: 66\n",
      "Query: 67\n",
      "Query: 68\n",
      "Query: 69\n",
      "Query: 70\n",
      "Query: 71\n",
      "Query: 72\n",
      "Query: 73\n",
      "Query: 74\n",
      "Query: 75\n",
      "Query: 76\n",
      "Query: 77\n",
      "Query: 78\n",
      "Query: 79\n",
      "Query: 80\n",
      "Query: 81\n",
      "Query: 82\n",
      "Query: 83\n",
      "Query: 84\n",
      "Query: 85\n",
      "Query: 86\n",
      "Query: 87\n",
      "Query: 88\n",
      "Query: 89\n",
      "Query: 90\n",
      "Query: 91\n",
      "Query: 92\n",
      "Query: 93\n",
      "Query: 94\n",
      "Query: 95\n",
      "Query: 96\n",
      "Query: 97\n",
      "Query: 98\n",
      "Query: 99\n"
     ]
    },
    {
     "name": "stderr",
     "output_type": "stream",
     "text": [
      "[I 2023-11-26 16:20:54,544] Trial 8 finished with values: [1.7976931348623157e+308, 0.0006855300000000002] and parameters: {'k': 9, 'L': 5, 'table_size': 7500, 'window_size': 1202, 'query_trick': True}. \n"
     ]
    },
    {
     "name": "stdout",
     "output_type": "stream",
     "text": [
      "Trial parameters: {'k': 9, 'L': 6, 'table_size': 7500, 'window_size': 4659, 'query_trick': True}\n",
      "Read MNIST data\n",
      "Done\n",
      "Algorithm: LSH\n",
      "Query: 0\n",
      "Query: 1\n",
      "Query: 2\n",
      "Query: 3\n",
      "Query: 4\n",
      "Query: 5\n",
      "Query: 6\n",
      "Query: 7\n",
      "Query: 8\n",
      "Query: 9\n",
      "Query: 10\n",
      "Query: 11\n",
      "Query: 12\n",
      "Query: 13\n",
      "Query: 14\n",
      "Query: 15\n",
      "Query: 16\n",
      "Query: 17\n",
      "Query: 18\n",
      "Query: 19\n",
      "Query: 20\n",
      "Query: 21\n",
      "Query: 22\n",
      "Query: 23\n",
      "Query: 24\n",
      "Query: 25\n",
      "Query: 26\n",
      "Query: 27\n",
      "Query: 28\n",
      "Query: 29\n",
      "Query: 30\n",
      "Query: 31\n",
      "Query: 32\n",
      "Query: 33\n",
      "Query: 34\n",
      "Query: 35\n",
      "Query: 36\n",
      "Query: 37\n",
      "Query: 38\n",
      "Query: 39\n",
      "Query: 40\n",
      "Query: 41\n",
      "Query: 42\n",
      "Query: 43\n",
      "Query: 44\n",
      "Query: 45\n",
      "Query: 46\n",
      "Query: 47\n",
      "Query: 48\n",
      "Query: 49\n",
      "Query: 50\n",
      "Query: 51\n",
      "Query: 52\n",
      "Query: 53\n",
      "Query: 54\n",
      "Query: 55\n",
      "Query: 56\n",
      "Query: 57\n",
      "Query: 58\n",
      "Query: 59\n",
      "Query: 60\n",
      "Query: 61\n",
      "Query: 62\n",
      "Query: 63\n",
      "Query: 64\n",
      "Query: 65\n",
      "Query: 66\n",
      "Query: 67\n",
      "Query: 68\n",
      "Query: 69\n",
      "Query: 70\n",
      "Query: 71\n",
      "Query: 72\n",
      "Query: 73\n",
      "Query: 74\n",
      "Query: 75\n",
      "Query: 76\n",
      "Query: 77\n",
      "Query: 78\n",
      "Query: 79\n",
      "Query: 80\n",
      "Query: 81\n",
      "Query: 82\n",
      "Query: 83\n",
      "Query: 84\n",
      "Query: 85\n",
      "Query: 86\n",
      "Query: 87\n",
      "Query: 88\n",
      "Query: 89\n",
      "Query: 90\n",
      "Query: 91\n",
      "Query: 92\n",
      "Query: 93\n",
      "Query: 94\n",
      "Query: 95\n",
      "Query: 96\n",
      "Query: 97\n",
      "Query: 98\n",
      "Query: 99\n"
     ]
    },
    {
     "name": "stderr",
     "output_type": "stream",
     "text": [
      "[I 2023-11-26 16:21:49,511] Trial 9 finished with values: [1.01098321046841, 0.07159987000000002] and parameters: {'k': 9, 'L': 6, 'table_size': 7500, 'window_size': 4659, 'query_trick': True}. \n"
     ]
    },
    {
     "name": "stdout",
     "output_type": "stream",
     "text": [
      "Trial parameters: {'k': 5, 'L': 9, 'table_size': 7500, 'window_size': 1956, 'query_trick': False}\n",
      "Read MNIST data\n",
      "Done\n",
      "Algorithm: LSH\n",
      "Query: 0\n",
      "Query: 1\n",
      "Query: 2\n",
      "Query: 3\n",
      "Query: 4\n",
      "Query: 5\n",
      "Query: 6\n",
      "Query: 7\n",
      "Query: 8\n",
      "Query: 9\n",
      "Query: 10\n",
      "Query: 11\n",
      "Query: 12\n",
      "Query: 13\n",
      "Query: 14\n",
      "Query: 15\n",
      "Query: 16\n",
      "Query: 17\n",
      "Query: 18\n",
      "Query: 19\n",
      "Query: 20\n",
      "Query: 21\n",
      "Query: 22\n",
      "Query: 23\n",
      "Query: 24\n",
      "Query: 25\n",
      "Query: 26\n",
      "Query: 27\n",
      "Query: 28\n",
      "Query: 29\n",
      "Query: 30\n",
      "Query: 31\n",
      "Query: 32\n",
      "Query: 33\n",
      "Query: 34\n",
      "Query: 35\n",
      "Query: 36\n",
      "Query: 37\n",
      "Query: 38\n",
      "Query: 39\n",
      "Query: 40\n",
      "Query: 41\n",
      "Query: 42\n",
      "Query: 43\n",
      "Query: 44\n",
      "Query: 45\n",
      "Query: 46\n",
      "Query: 47\n",
      "Query: 48\n",
      "Query: 49\n",
      "Query: 50\n",
      "Query: 51\n",
      "Query: 52\n",
      "Query: 53\n",
      "Query: 54\n",
      "Query: 55\n",
      "Query: 56\n",
      "Query: 57\n",
      "Query: 58\n",
      "Query: 59\n",
      "Query: 60\n",
      "Query: 61\n",
      "Query: 62\n",
      "Query: 63\n",
      "Query: 64\n",
      "Query: 65\n",
      "Query: 66\n",
      "Query: 67\n",
      "Query: 68\n",
      "Query: 69\n",
      "Query: 70\n",
      "Query: 71\n",
      "Query: 72\n",
      "Query: 73\n",
      "Query: 74\n",
      "Query: 75\n",
      "Query: 76\n",
      "Query: 77\n",
      "Query: 78\n",
      "Query: 79\n",
      "Query: 80\n",
      "Query: 81\n",
      "Query: 82\n",
      "Query: 83\n",
      "Query: 84\n",
      "Query: 85\n",
      "Query: 86\n",
      "Query: 87\n",
      "Query: 88\n",
      "Query: 89\n",
      "Query: 90\n",
      "Query: 91\n",
      "Query: 92\n",
      "Query: 93\n",
      "Query: 94\n",
      "Query: 95\n",
      "Query: 96\n",
      "Query: 97\n",
      "Query: 98\n",
      "Query: 99\n"
     ]
    },
    {
     "name": "stderr",
     "output_type": "stream",
     "text": [
      "[I 2023-11-26 16:22:38,391] Trial 10 finished with values: [1.1284524594554481, 0.02910053000000001] and parameters: {'k': 5, 'L': 9, 'table_size': 7500, 'window_size': 1956, 'query_trick': False}. \n"
     ]
    },
    {
     "name": "stdout",
     "output_type": "stream",
     "text": [
      "Trial parameters: {'k': 6, 'L': 7, 'table_size': 15000, 'window_size': 4417, 'query_trick': False}\n",
      "Read MNIST data\n",
      "Done\n",
      "Algorithm: LSH\n",
      "Query: 0\n",
      "Query: 1\n",
      "Query: 2\n",
      "Query: 3\n",
      "Query: 4\n",
      "Query: 5\n",
      "Query: 6\n",
      "Query: 7\n",
      "Query: 8\n",
      "Query: 9\n",
      "Query: 10\n",
      "Query: 11\n",
      "Query: 12\n",
      "Query: 13\n",
      "Query: 14\n",
      "Query: 15\n",
      "Query: 16\n",
      "Query: 17\n",
      "Query: 18\n",
      "Query: 19\n",
      "Query: 20\n",
      "Query: 21\n",
      "Query: 22\n",
      "Query: 23\n",
      "Query: 24\n",
      "Query: 25\n",
      "Query: 26\n",
      "Query: 27\n",
      "Query: 28\n",
      "Query: 29\n",
      "Query: 30\n",
      "Query: 31\n",
      "Query: 32\n",
      "Query: 33\n",
      "Query: 34\n",
      "Query: 35\n",
      "Query: 36\n",
      "Query: 37\n",
      "Query: 38\n",
      "Query: 39\n",
      "Query: 40\n",
      "Query: 41\n",
      "Query: 42\n",
      "Query: 43\n",
      "Query: 44\n",
      "Query: 45\n",
      "Query: 46\n",
      "Query: 47\n",
      "Query: 48\n",
      "Query: 49\n",
      "Query: 50\n",
      "Query: 51\n",
      "Query: 52\n",
      "Query: 53\n",
      "Query: 54\n",
      "Query: 55\n",
      "Query: 56\n",
      "Query: 57\n",
      "Query: 58\n",
      "Query: 59\n",
      "Query: 60\n",
      "Query: 61\n",
      "Query: 62\n",
      "Query: 63\n",
      "Query: 64\n",
      "Query: 65\n",
      "Query: 66\n",
      "Query: 67\n",
      "Query: 68\n",
      "Query: 69\n",
      "Query: 70\n",
      "Query: 71\n",
      "Query: 72\n",
      "Query: 73\n",
      "Query: 74\n",
      "Query: 75\n",
      "Query: 76\n",
      "Query: 77\n",
      "Query: 78\n",
      "Query: 79\n",
      "Query: 80\n",
      "Query: 81\n",
      "Query: 82\n",
      "Query: 83\n",
      "Query: 84\n",
      "Query: 85\n",
      "Query: 86\n",
      "Query: 87\n",
      "Query: 88\n",
      "Query: 89\n",
      "Query: 90\n",
      "Query: 91\n",
      "Query: 92\n",
      "Query: 93\n",
      "Query: 94\n",
      "Query: 95\n",
      "Query: 96\n",
      "Query: 97\n",
      "Query: 98\n",
      "Query: 99\n"
     ]
    },
    {
     "name": "stderr",
     "output_type": "stream",
     "text": [
      "[I 2023-11-26 16:23:30,225] Trial 11 finished with values: [1.0178833911407317, 0.10468586999999997] and parameters: {'k': 6, 'L': 7, 'table_size': 15000, 'window_size': 4417, 'query_trick': False}. \n"
     ]
    },
    {
     "name": "stdout",
     "output_type": "stream",
     "text": [
      "Trial parameters: {'k': 4, 'L': 2, 'table_size': 7500, 'window_size': 3101, 'query_trick': False}\n",
      "Read MNIST data\n",
      "Done\n",
      "Algorithm: LSH\n",
      "Query: 0\n",
      "Query: 1\n",
      "Query: 2\n",
      "Query: 3\n",
      "Query: 4\n",
      "Query: 5\n",
      "Query: 6\n",
      "Query: 7\n",
      "Query: 8\n",
      "Query: 9\n",
      "Query: 10\n",
      "Query: 11\n",
      "Query: 12\n",
      "Query: 13\n",
      "Query: 14\n",
      "Query: 15\n",
      "Query: 16\n",
      "Query: 17\n",
      "Query: 18\n",
      "Query: 19\n",
      "Query: 20\n",
      "Query: 21\n",
      "Query: 22\n",
      "Query: 23\n",
      "Query: 24\n",
      "Query: 25\n",
      "Query: 26\n",
      "Query: 27\n",
      "Query: 28\n",
      "Query: 29\n",
      "Query: 30\n",
      "Query: 31\n",
      "Query: 32\n",
      "Query: 33\n",
      "Query: 34\n",
      "Query: 35\n",
      "Query: 36\n",
      "Query: 37\n",
      "Query: 38\n",
      "Query: 39\n",
      "Query: 40\n",
      "Query: 41\n",
      "Query: 42\n",
      "Query: 43\n",
      "Query: 44\n",
      "Query: 45\n",
      "Query: 46\n",
      "Query: 47\n",
      "Query: 48\n",
      "Query: 49\n",
      "Query: 50\n",
      "Query: 51\n",
      "Query: 52\n",
      "Query: 53\n",
      "Query: 54\n",
      "Query: 55\n",
      "Query: 56\n",
      "Query: 57\n",
      "Query: 58\n",
      "Query: 59\n",
      "Query: 60\n",
      "Query: 61\n",
      "Query: 62\n",
      "Query: 63\n",
      "Query: 64\n",
      "Query: 65\n",
      "Query: 66\n",
      "Query: 67\n",
      "Query: 68\n",
      "Query: 69\n",
      "Query: 70\n",
      "Query: 71\n",
      "Query: 72\n",
      "Query: 73\n",
      "Query: 74\n",
      "Query: 75\n",
      "Query: 76\n",
      "Query: 77\n",
      "Query: 78\n",
      "Query: 79\n",
      "Query: 80\n",
      "Query: 81\n",
      "Query: 82\n",
      "Query: 83\n",
      "Query: 84\n",
      "Query: 85\n",
      "Query: 86\n",
      "Query: 87\n",
      "Query: 88\n",
      "Query: 89\n",
      "Query: 90\n",
      "Query: 91\n",
      "Query: 92\n",
      "Query: 93\n",
      "Query: 94\n",
      "Query: 95\n",
      "Query: 96\n",
      "Query: 97\n",
      "Query: 98\n",
      "Query: 99\n"
     ]
    },
    {
     "name": "stderr",
     "output_type": "stream",
     "text": [
      "[I 2023-11-26 16:24:02,381] Trial 12 finished with values: [1.2008555817617632, 0.02150309] and parameters: {'k': 4, 'L': 2, 'table_size': 7500, 'window_size': 3101, 'query_trick': False}. \n"
     ]
    },
    {
     "name": "stdout",
     "output_type": "stream",
     "text": [
      "Trial parameters: {'k': 7, 'L': 6, 'table_size': 7500, 'window_size': 1519, 'query_trick': False}\n",
      "Read MNIST data\n",
      "Done\n",
      "Algorithm: LSH\n",
      "Query: 0\n",
      "Query: 1\n",
      "Query: 2\n",
      "Query: 3\n",
      "Query: 4\n",
      "Query: 5\n",
      "Query: 6\n",
      "Query: 7\n",
      "Query: 8\n",
      "Query: 9\n",
      "Query: 10\n",
      "Query: 11\n",
      "Query: 12\n",
      "Query: 13\n",
      "Query: 14\n",
      "Query: 15\n",
      "Query: 16\n",
      "Query: 17\n",
      "Query: 18\n",
      "Query: 19\n",
      "Query: 20\n",
      "Query: 21\n",
      "Query: 22\n",
      "Query: 23\n",
      "Query: 24\n",
      "Query: 25\n",
      "Query: 26\n",
      "Query: 27\n",
      "Query: 28\n",
      "Query: 29\n",
      "Query: 30\n",
      "Query: 31\n",
      "Query: 32\n",
      "Query: 33\n",
      "Query: 34\n",
      "Query: 35\n",
      "Query: 36\n",
      "Query: 37\n",
      "Query: 38\n",
      "Query: 39\n",
      "Query: 40\n",
      "Query: 41\n",
      "Query: 42\n",
      "Query: 43\n",
      "Query: 44\n",
      "Query: 45\n",
      "Query: 46\n",
      "Query: 47\n",
      "Query: 48\n",
      "Query: 49\n",
      "Query: 50\n",
      "Query: 51\n",
      "Query: 52\n",
      "Query: 53\n",
      "Query: 54\n",
      "Query: 55\n",
      "Query: 56\n",
      "Query: 57\n",
      "Query: 58\n",
      "Query: 59\n",
      "Query: 60\n",
      "Query: 61\n",
      "Query: 62\n",
      "Query: 63\n",
      "Query: 64\n",
      "Query: 65\n",
      "Query: 66\n",
      "Query: 67\n",
      "Query: 68\n",
      "Query: 69\n",
      "Query: 70\n",
      "Query: 71\n",
      "Query: 72\n",
      "Query: 73\n",
      "Query: 74\n",
      "Query: 75\n",
      "Query: 76\n",
      "Query: 77\n",
      "Query: 78\n",
      "Query: 79\n",
      "Query: 80\n",
      "Query: 81\n",
      "Query: 82\n",
      "Query: 83\n",
      "Query: 84\n",
      "Query: 85\n",
      "Query: 86\n",
      "Query: 87\n",
      "Query: 88\n",
      "Query: 89\n",
      "Query: 90\n",
      "Query: 91\n",
      "Query: 92\n",
      "Query: 93\n",
      "Query: 94\n",
      "Query: 95\n",
      "Query: 96\n",
      "Query: 97\n",
      "Query: 98\n",
      "Query: 99\n"
     ]
    },
    {
     "name": "stderr",
     "output_type": "stream",
     "text": [
      "[I 2023-11-26 16:24:47,399] Trial 13 finished with values: [1.7201371597495037, 0.0021823999999999997] and parameters: {'k': 7, 'L': 6, 'table_size': 7500, 'window_size': 1519, 'query_trick': False}. \n"
     ]
    },
    {
     "name": "stdout",
     "output_type": "stream",
     "text": [
      "Trial parameters: {'k': 9, 'L': 2, 'table_size': 15000, 'window_size': 2736, 'query_trick': False}\n",
      "Read MNIST data\n",
      "Done\n",
      "Algorithm: LSH\n",
      "Query: 0\n",
      "Query: 1\n",
      "Query: 2\n",
      "Query: 3\n",
      "Query: 4\n",
      "Query: 5\n",
      "Query: 6\n",
      "Query: 7\n",
      "Query: 8\n",
      "Query: 9\n",
      "Query: 10\n",
      "Query: 11\n",
      "Query: 12\n",
      "Query: 13\n",
      "Query: 14\n",
      "Query: 15\n",
      "Query: 16\n",
      "Query: 17\n",
      "Query: 18\n",
      "Query: 19\n",
      "Query: 20\n",
      "Query: 21\n",
      "Query: 22\n",
      "Query: 23\n",
      "Query: 24\n",
      "Query: 25\n",
      "Query: 26\n",
      "Query: 27\n",
      "Query: 28\n",
      "Query: 29\n",
      "Query: 30\n",
      "Query: 31\n",
      "Query: 32\n",
      "Query: 33\n",
      "Query: 34\n",
      "Query: 35\n",
      "Query: 36\n",
      "Query: 37\n",
      "Query: 38\n",
      "Query: 39\n",
      "Query: 40\n",
      "Query: 41\n",
      "Query: 42\n",
      "Query: 43\n",
      "Query: 44\n",
      "Query: 45\n",
      "Query: 46\n",
      "Query: 47\n",
      "Query: 48\n",
      "Query: 49\n",
      "Query: 50\n",
      "Query: 51\n",
      "Query: 52\n",
      "Query: 53\n",
      "Query: 54\n",
      "Query: 55\n",
      "Query: 56\n",
      "Query: 57\n",
      "Query: 58\n",
      "Query: 59\n",
      "Query: 60\n",
      "Query: 61\n",
      "Query: 62\n",
      "Query: 63\n",
      "Query: 64\n",
      "Query: 65\n",
      "Query: 66\n",
      "Query: 67\n",
      "Query: 68\n",
      "Query: 69\n",
      "Query: 70\n",
      "Query: 71\n",
      "Query: 72\n",
      "Query: 73\n",
      "Query: 74\n",
      "Query: 75\n",
      "Query: 76\n",
      "Query: 77\n",
      "Query: 78\n",
      "Query: 79\n",
      "Query: 80\n",
      "Query: 81\n",
      "Query: 82\n",
      "Query: 83\n",
      "Query: 84\n",
      "Query: 85\n",
      "Query: 86\n",
      "Query: 87\n",
      "Query: 88\n",
      "Query: 89\n",
      "Query: 90\n",
      "Query: 91\n",
      "Query: 92\n",
      "Query: 93\n",
      "Query: 94\n",
      "Query: 95\n",
      "Query: 96\n",
      "Query: 97\n",
      "Query: 98\n",
      "Query: 99\n"
     ]
    },
    {
     "name": "stderr",
     "output_type": "stream",
     "text": [
      "[I 2023-11-26 16:25:21,146] Trial 14 finished with values: [1.5065832560954544, 0.0030173999999999995] and parameters: {'k': 9, 'L': 2, 'table_size': 15000, 'window_size': 2736, 'query_trick': False}. \n"
     ]
    },
    {
     "name": "stdout",
     "output_type": "stream",
     "text": [
      "Trial parameters: {'k': 10, 'L': 9, 'table_size': 3750, 'window_size': 1439, 'query_trick': False}\n",
      "Read MNIST data\n",
      "Done\n",
      "Algorithm: LSH\n",
      "Query: 0\n",
      "Query: 1\n",
      "Query: 2\n",
      "Query: 3\n",
      "Query: 4\n",
      "Query: 5\n",
      "Query: 6\n",
      "Query: 7\n",
      "Query: 8\n",
      "Query: 9\n",
      "Query: 10\n",
      "Query: 11\n",
      "Query: 12\n",
      "Query: 13\n",
      "Query: 14\n",
      "Query: 15\n",
      "Query: 16\n",
      "Query: 17\n",
      "Query: 18\n",
      "Query: 19\n",
      "Query: 20\n",
      "Query: 21\n",
      "Query: 22\n",
      "Query: 23\n",
      "Query: 24\n",
      "Query: 25\n",
      "Query: 26\n",
      "Query: 27\n",
      "Query: 28\n",
      "Query: 29\n",
      "Query: 30\n",
      "Query: 31\n",
      "Query: 32\n",
      "Query: 33\n",
      "Query: 34\n",
      "Query: 35\n",
      "Query: 36\n",
      "Query: 37\n",
      "Query: 38\n",
      "Query: 39\n",
      "Query: 40\n",
      "Query: 41\n",
      "Query: 42\n",
      "Query: 43\n",
      "Query: 44\n",
      "Query: 45\n",
      "Query: 46\n",
      "Query: 47\n",
      "Query: 48\n",
      "Query: 49\n",
      "Query: 50\n",
      "Query: 51\n",
      "Query: 52\n",
      "Query: 53\n",
      "Query: 54\n",
      "Query: 55\n",
      "Query: 56\n",
      "Query: 57\n",
      "Query: 58\n",
      "Query: 59\n",
      "Query: 60\n",
      "Query: 61\n",
      "Query: 62\n",
      "Query: 63\n",
      "Query: 64\n",
      "Query: 65\n",
      "Query: 66\n",
      "Query: 67\n",
      "Query: 68\n",
      "Query: 69\n",
      "Query: 70\n",
      "Query: 71\n",
      "Query: 72\n",
      "Query: 73\n",
      "Query: 74\n",
      "Query: 75\n",
      "Query: 76\n",
      "Query: 77\n",
      "Query: 78\n",
      "Query: 79\n",
      "Query: 80\n",
      "Query: 81\n",
      "Query: 82\n",
      "Query: 83\n",
      "Query: 84\n",
      "Query: 85\n",
      "Query: 86\n",
      "Query: 87\n",
      "Query: 88\n",
      "Query: 89\n",
      "Query: 90\n",
      "Query: 91\n",
      "Query: 92\n",
      "Query: 93\n",
      "Query: 94\n",
      "Query: 95\n",
      "Query: 96\n",
      "Query: 97\n",
      "Query: 98\n",
      "Query: 99\n"
     ]
    },
    {
     "name": "stderr",
     "output_type": "stream",
     "text": [
      "[I 2023-11-26 16:26:19,429] Trial 15 finished with values: [1.7405303517508866, 0.0013091200000000006] and parameters: {'k': 10, 'L': 9, 'table_size': 3750, 'window_size': 1439, 'query_trick': False}. \n"
     ]
    },
    {
     "name": "stdout",
     "output_type": "stream",
     "text": [
      "Trial parameters: {'k': 8, 'L': 2, 'table_size': 15000, 'window_size': 1951, 'query_trick': True}\n",
      "Read MNIST data\n",
      "Done\n",
      "Algorithm: LSH\n",
      "Query: 0\n",
      "Query: 1\n",
      "Query: 2\n",
      "Query: 3\n",
      "Query: 4\n",
      "Query: 5\n",
      "Query: 6\n",
      "Query: 7\n",
      "Query: 8\n",
      "Query: 9\n",
      "Query: 10\n",
      "Query: 11\n",
      "Query: 12\n",
      "Query: 13\n",
      "Query: 14\n",
      "Query: 15\n",
      "Query: 16\n",
      "Query: 17\n",
      "Query: 18\n",
      "Query: 19\n",
      "Query: 20\n",
      "Query: 21\n",
      "Query: 22\n",
      "Query: 23\n",
      "Query: 24\n",
      "Query: 25\n",
      "Query: 26\n",
      "Query: 27\n",
      "Query: 28\n",
      "Query: 29\n",
      "Query: 30\n",
      "Query: 31\n",
      "Query: 32\n",
      "Query: 33\n",
      "Query: 34\n",
      "Query: 35\n",
      "Query: 36\n",
      "Query: 37\n",
      "Query: 38\n",
      "Query: 39\n",
      "Query: 40\n",
      "Query: 41\n",
      "Query: 42\n",
      "Query: 43\n",
      "Query: 44\n",
      "Query: 45\n",
      "Query: 46\n",
      "Query: 47\n",
      "Query: 48\n",
      "Query: 49\n",
      "Query: 50\n",
      "Query: 51\n",
      "Query: 52\n",
      "Query: 53\n",
      "Query: 54\n",
      "Query: 55\n",
      "Query: 56\n",
      "Query: 57\n",
      "Query: 58\n",
      "Query: 59\n",
      "Query: 60\n",
      "Query: 61\n",
      "Query: 62\n",
      "Query: 63\n",
      "Query: 64\n",
      "Query: 65\n",
      "Query: 66\n",
      "Query: 67\n",
      "Query: 68\n",
      "Query: 69\n",
      "Query: 70\n",
      "Query: 71\n",
      "Query: 72\n",
      "Query: 73\n",
      "Query: 74\n",
      "Query: 75\n",
      "Query: 76\n",
      "Query: 77\n",
      "Query: 78\n",
      "Query: 79\n",
      "Query: 80\n",
      "Query: 81\n",
      "Query: 82\n",
      "Query: 83\n",
      "Query: 84\n",
      "Query: 85\n",
      "Query: 86\n",
      "Query: 87\n",
      "Query: 88\n",
      "Query: 89\n",
      "Query: 90\n",
      "Query: 91\n",
      "Query: 92\n",
      "Query: 93\n",
      "Query: 94\n",
      "Query: 95\n",
      "Query: 96\n",
      "Query: 97\n",
      "Query: 98\n",
      "Query: 99\n"
     ]
    },
    {
     "name": "stderr",
     "output_type": "stream",
     "text": [
      "[I 2023-11-26 16:26:53,723] Trial 16 finished with values: [1.692785172031265, 0.002109440000000001] and parameters: {'k': 8, 'L': 2, 'table_size': 15000, 'window_size': 1951, 'query_trick': True}. \n"
     ]
    },
    {
     "name": "stdout",
     "output_type": "stream",
     "text": [
      "Trial parameters: {'k': 4, 'L': 10, 'table_size': 3750, 'window_size': 4999, 'query_trick': False}\n",
      "Read MNIST data\n",
      "Done\n",
      "Algorithm: LSH\n",
      "Query: 0\n",
      "Query: 1\n",
      "Query: 2\n",
      "Query: 3\n",
      "Query: 4\n",
      "Query: 5\n",
      "Query: 6\n",
      "Query: 7\n",
      "Query: 8\n",
      "Query: 9\n",
      "Query: 10\n",
      "Query: 11\n",
      "Query: 12\n",
      "Query: 13\n",
      "Query: 14\n",
      "Query: 15\n",
      "Query: 16\n",
      "Query: 17\n",
      "Query: 18\n",
      "Query: 19\n",
      "Query: 20\n",
      "Query: 21\n",
      "Query: 22\n",
      "Query: 23\n",
      "Query: 24\n",
      "Query: 25\n",
      "Query: 26\n",
      "Query: 27\n",
      "Query: 28\n",
      "Query: 29\n",
      "Query: 30\n",
      "Query: 31\n",
      "Query: 32\n",
      "Query: 33\n",
      "Query: 34\n",
      "Query: 35\n",
      "Query: 36\n",
      "Query: 37\n",
      "Query: 38\n",
      "Query: 39\n",
      "Query: 40\n",
      "Query: 41\n",
      "Query: 42\n",
      "Query: 43\n",
      "Query: 44\n",
      "Query: 45\n",
      "Query: 46\n",
      "Query: 47\n",
      "Query: 48\n",
      "Query: 49\n",
      "Query: 50\n",
      "Query: 51\n",
      "Query: 52\n",
      "Query: 53\n",
      "Query: 54\n",
      "Query: 55\n",
      "Query: 56\n",
      "Query: 57\n",
      "Query: 58\n",
      "Query: 59\n",
      "Query: 60\n",
      "Query: 61\n",
      "Query: 62\n",
      "Query: 63\n",
      "Query: 64\n",
      "Query: 65\n",
      "Query: 66\n",
      "Query: 67\n",
      "Query: 68\n",
      "Query: 69\n",
      "Query: 70\n",
      "Query: 71\n",
      "Query: 72\n",
      "Query: 73\n",
      "Query: 74\n",
      "Query: 75\n",
      "Query: 76\n",
      "Query: 77\n",
      "Query: 78\n",
      "Query: 79\n",
      "Query: 80\n",
      "Query: 81\n",
      "Query: 82\n",
      "Query: 83\n",
      "Query: 84\n",
      "Query: 85\n",
      "Query: 86\n",
      "Query: 87\n",
      "Query: 88\n",
      "Query: 89\n",
      "Query: 90\n",
      "Query: 91\n",
      "Query: 92\n",
      "Query: 93\n",
      "Query: 94\n",
      "Query: 95\n",
      "Query: 96\n",
      "Query: 97\n",
      "Query: 98\n",
      "Query: 99\n"
     ]
    },
    {
     "name": "stderr",
     "output_type": "stream",
     "text": [
      "[I 2023-11-26 16:28:18,517] Trial 17 finished with values: [1.0, 0.4203500500000002] and parameters: {'k': 4, 'L': 10, 'table_size': 3750, 'window_size': 4999, 'query_trick': False}. \n"
     ]
    },
    {
     "name": "stdout",
     "output_type": "stream",
     "text": [
      "Trial parameters: {'k': 2, 'L': 5, 'table_size': 3750, 'window_size': 3626, 'query_trick': False}\n",
      "Read MNIST data\n",
      "Done\n",
      "Algorithm: LSH\n",
      "Query: 0\n",
      "Query: 1\n",
      "Query: 2\n",
      "Query: 3\n",
      "Query: 4\n",
      "Query: 5\n",
      "Query: 6\n",
      "Query: 7\n",
      "Query: 8\n",
      "Query: 9\n",
      "Query: 10\n",
      "Query: 11\n",
      "Query: 12\n",
      "Query: 13\n",
      "Query: 14\n",
      "Query: 15\n",
      "Query: 16\n",
      "Query: 17\n",
      "Query: 18\n",
      "Query: 19\n",
      "Query: 20\n",
      "Query: 21\n",
      "Query: 22\n",
      "Query: 23\n",
      "Query: 24\n",
      "Query: 25\n",
      "Query: 26\n",
      "Query: 27\n",
      "Query: 28\n",
      "Query: 29\n",
      "Query: 30\n",
      "Query: 31\n",
      "Query: 32\n",
      "Query: 33\n",
      "Query: 34\n",
      "Query: 35\n",
      "Query: 36\n",
      "Query: 37\n",
      "Query: 38\n",
      "Query: 39\n",
      "Query: 40\n",
      "Query: 41\n",
      "Query: 42\n",
      "Query: 43\n",
      "Query: 44\n",
      "Query: 45\n",
      "Query: 46\n",
      "Query: 47\n",
      "Query: 48\n",
      "Query: 49\n",
      "Query: 50\n",
      "Query: 51\n",
      "Query: 52\n",
      "Query: 53\n",
      "Query: 54\n",
      "Query: 55\n",
      "Query: 56\n",
      "Query: 57\n",
      "Query: 58\n",
      "Query: 59\n",
      "Query: 60\n",
      "Query: 61\n",
      "Query: 62\n",
      "Query: 63\n",
      "Query: 64\n",
      "Query: 65\n",
      "Query: 66\n",
      "Query: 67\n",
      "Query: 68\n",
      "Query: 69\n",
      "Query: 70\n",
      "Query: 71\n",
      "Query: 72\n",
      "Query: 73\n",
      "Query: 74\n",
      "Query: 75\n",
      "Query: 76\n",
      "Query: 77\n",
      "Query: 78\n",
      "Query: 79\n",
      "Query: 80\n",
      "Query: 81\n",
      "Query: 82\n",
      "Query: 83\n",
      "Query: 84\n",
      "Query: 85\n",
      "Query: 86\n",
      "Query: 87\n",
      "Query: 88\n",
      "Query: 89\n",
      "Query: 90\n",
      "Query: 91\n",
      "Query: 92\n",
      "Query: 93\n",
      "Query: 94\n",
      "Query: 95\n",
      "Query: 96\n",
      "Query: 97\n",
      "Query: 98\n",
      "Query: 99\n"
     ]
    },
    {
     "name": "stderr",
     "output_type": "stream",
     "text": [
      "[I 2023-11-26 16:29:26,386] Trial 18 finished with values: [1.0, 0.3574395699999999] and parameters: {'k': 2, 'L': 5, 'table_size': 3750, 'window_size': 3626, 'query_trick': False}. \n"
     ]
    },
    {
     "name": "stdout",
     "output_type": "stream",
     "text": [
      "Trial parameters: {'k': 7, 'L': 5, 'table_size': 3750, 'window_size': 4212, 'query_trick': True}\n",
      "Read MNIST data\n",
      "Done\n",
      "Algorithm: LSH\n",
      "Query: 0\n",
      "Query: 1\n",
      "Query: 2\n",
      "Query: 3\n",
      "Query: 4\n",
      "Query: 5\n",
      "Query: 6\n",
      "Query: 7\n",
      "Query: 8\n",
      "Query: 9\n",
      "Query: 10\n",
      "Query: 11\n",
      "Query: 12\n",
      "Query: 13\n",
      "Query: 14\n",
      "Query: 15\n",
      "Query: 16\n",
      "Query: 17\n",
      "Query: 18\n",
      "Query: 19\n",
      "Query: 20\n",
      "Query: 21\n",
      "Query: 22\n",
      "Query: 23\n",
      "Query: 24\n",
      "Query: 25\n",
      "Query: 26\n",
      "Query: 27\n",
      "Query: 28\n",
      "Query: 29\n",
      "Query: 30\n",
      "Query: 31\n",
      "Query: 32\n",
      "Query: 33\n",
      "Query: 34\n",
      "Query: 35\n",
      "Query: 36\n",
      "Query: 37\n",
      "Query: 38\n",
      "Query: 39\n",
      "Query: 40\n",
      "Query: 41\n",
      "Query: 42\n",
      "Query: 43\n",
      "Query: 44\n",
      "Query: 45\n",
      "Query: 46\n",
      "Query: 47\n",
      "Query: 48\n",
      "Query: 49\n",
      "Query: 50\n",
      "Query: 51\n",
      "Query: 52\n",
      "Query: 53\n",
      "Query: 54\n",
      "Query: 55\n",
      "Query: 56\n",
      "Query: 57\n",
      "Query: 58\n",
      "Query: 59\n",
      "Query: 60\n",
      "Query: 61\n",
      "Query: 62\n",
      "Query: 63\n",
      "Query: 64\n",
      "Query: 65\n",
      "Query: 66\n",
      "Query: 67\n",
      "Query: 68\n",
      "Query: 69\n",
      "Query: 70\n",
      "Query: 71\n",
      "Query: 72\n",
      "Query: 73\n",
      "Query: 74\n",
      "Query: 75\n",
      "Query: 76\n",
      "Query: 77\n",
      "Query: 78\n",
      "Query: 79\n",
      "Query: 80\n",
      "Query: 81\n",
      "Query: 82\n",
      "Query: 83\n",
      "Query: 84\n",
      "Query: 85\n",
      "Query: 86\n",
      "Query: 87\n",
      "Query: 88\n",
      "Query: 89\n",
      "Query: 90\n",
      "Query: 91\n",
      "Query: 92\n",
      "Query: 93\n",
      "Query: 94\n",
      "Query: 95\n",
      "Query: 96\n",
      "Query: 97\n",
      "Query: 98\n",
      "Query: 99\n"
     ]
    },
    {
     "name": "stderr",
     "output_type": "stream",
     "text": [
      "[I 2023-11-26 16:30:19,256] Trial 19 finished with values: [1.0030667027343796, 0.11474674000000004] and parameters: {'k': 7, 'L': 5, 'table_size': 3750, 'window_size': 4212, 'query_trick': True}. \n"
     ]
    },
    {
     "name": "stdout",
     "output_type": "stream",
     "text": [
      "Trial parameters: {'k': 5, 'L': 7, 'table_size': 3750, 'window_size': 2805, 'query_trick': True}\n",
      "Read MNIST data\n",
      "Done\n",
      "Algorithm: LSH\n",
      "Query: 0\n",
      "Query: 1\n",
      "Query: 2\n",
      "Query: 3\n",
      "Query: 4\n",
      "Query: 5\n",
      "Query: 6\n",
      "Query: 7\n",
      "Query: 8\n",
      "Query: 9\n",
      "Query: 10\n",
      "Query: 11\n",
      "Query: 12\n",
      "Query: 13\n",
      "Query: 14\n",
      "Query: 15\n",
      "Query: 16\n",
      "Query: 17\n",
      "Query: 18\n",
      "Query: 19\n",
      "Query: 20\n",
      "Query: 21\n",
      "Query: 22\n",
      "Query: 23\n",
      "Query: 24\n",
      "Query: 25\n",
      "Query: 26\n",
      "Query: 27\n",
      "Query: 28\n",
      "Query: 29\n",
      "Query: 30\n",
      "Query: 31\n",
      "Query: 32\n",
      "Query: 33\n",
      "Query: 34\n",
      "Query: 35\n",
      "Query: 36\n",
      "Query: 37\n",
      "Query: 38\n",
      "Query: 39\n",
      "Query: 40\n",
      "Query: 41\n",
      "Query: 42\n",
      "Query: 43\n",
      "Query: 44\n",
      "Query: 45\n",
      "Query: 46\n",
      "Query: 47\n",
      "Query: 48\n",
      "Query: 49\n",
      "Query: 50\n",
      "Query: 51\n",
      "Query: 52\n",
      "Query: 53\n",
      "Query: 54\n",
      "Query: 55\n",
      "Query: 56\n",
      "Query: 57\n",
      "Query: 58\n",
      "Query: 59\n",
      "Query: 60\n",
      "Query: 61\n",
      "Query: 62\n",
      "Query: 63\n",
      "Query: 64\n",
      "Query: 65\n",
      "Query: 66\n",
      "Query: 67\n",
      "Query: 68\n",
      "Query: 69\n",
      "Query: 70\n",
      "Query: 71\n",
      "Query: 72\n",
      "Query: 73\n",
      "Query: 74\n",
      "Query: 75\n",
      "Query: 76\n",
      "Query: 77\n",
      "Query: 78\n",
      "Query: 79\n",
      "Query: 80\n",
      "Query: 81\n",
      "Query: 82\n",
      "Query: 83\n",
      "Query: 84\n",
      "Query: 85\n",
      "Query: 86\n",
      "Query: 87\n",
      "Query: 88\n",
      "Query: 89\n",
      "Query: 90\n",
      "Query: 91\n",
      "Query: 92\n",
      "Query: 93\n",
      "Query: 94\n",
      "Query: 95\n",
      "Query: 96\n",
      "Query: 97\n",
      "Query: 98\n",
      "Query: 99\n"
     ]
    },
    {
     "name": "stderr",
     "output_type": "stream",
     "text": [
      "[I 2023-11-26 16:31:14,474] Trial 20 finished with values: [1.0019077119803148, 0.09559584999999998] and parameters: {'k': 5, 'L': 7, 'table_size': 3750, 'window_size': 2805, 'query_trick': True}. \n"
     ]
    },
    {
     "name": "stdout",
     "output_type": "stream",
     "text": [
      "Trial parameters: {'k': 7, 'L': 4, 'table_size': 15000, 'window_size': 1815, 'query_trick': False}\n",
      "Read MNIST data\n",
      "Done\n",
      "Algorithm: LSH\n",
      "Query: 0\n",
      "Query: 1\n",
      "Query: 2\n",
      "Query: 3\n",
      "Query: 4\n",
      "Query: 5\n",
      "Query: 6\n",
      "Query: 7\n",
      "Query: 8\n",
      "Query: 9\n",
      "Query: 10\n",
      "Query: 11\n",
      "Query: 12\n",
      "Query: 13\n",
      "Query: 14\n",
      "Query: 15\n",
      "Query: 16\n",
      "Query: 17\n",
      "Query: 18\n",
      "Query: 19\n",
      "Query: 20\n",
      "Query: 21\n",
      "Query: 22\n",
      "Query: 23\n",
      "Query: 24\n",
      "Query: 25\n",
      "Query: 26\n",
      "Query: 27\n",
      "Query: 28\n",
      "Query: 29\n",
      "Query: 30\n",
      "Query: 31\n",
      "Query: 32\n",
      "Query: 33\n",
      "Query: 34\n",
      "Query: 35\n",
      "Query: 36\n",
      "Query: 37\n",
      "Query: 38\n",
      "Query: 39\n",
      "Query: 40\n",
      "Query: 41\n",
      "Query: 42\n",
      "Query: 43\n",
      "Query: 44\n",
      "Query: 45\n",
      "Query: 46\n",
      "Query: 47\n",
      "Query: 48\n",
      "Query: 49\n",
      "Query: 50\n",
      "Query: 51\n",
      "Query: 52\n",
      "Query: 53\n",
      "Query: 54\n",
      "Query: 55\n",
      "Query: 56\n",
      "Query: 57\n",
      "Query: 58\n",
      "Query: 59\n",
      "Query: 60\n",
      "Query: 61\n",
      "Query: 62\n",
      "Query: 63\n",
      "Query: 64\n",
      "Query: 65\n",
      "Query: 66\n",
      "Query: 67\n",
      "Query: 68\n",
      "Query: 69\n",
      "Query: 70\n",
      "Query: 71\n",
      "Query: 72\n",
      "Query: 73\n",
      "Query: 74\n",
      "Query: 75\n",
      "Query: 76\n",
      "Query: 77\n",
      "Query: 78\n",
      "Query: 79\n",
      "Query: 80\n",
      "Query: 81\n",
      "Query: 82\n",
      "Query: 83\n",
      "Query: 84\n",
      "Query: 85\n",
      "Query: 86\n",
      "Query: 87\n",
      "Query: 88\n",
      "Query: 89\n",
      "Query: 90\n",
      "Query: 91\n",
      "Query: 92\n",
      "Query: 93\n",
      "Query: 94\n",
      "Query: 95\n",
      "Query: 96\n",
      "Query: 97\n",
      "Query: 98\n",
      "Query: 99\n"
     ]
    },
    {
     "name": "stderr",
     "output_type": "stream",
     "text": [
      "[I 2023-11-26 16:31:53,756] Trial 21 finished with values: [1.3606075712715895, 0.0026778199999999996] and parameters: {'k': 7, 'L': 4, 'table_size': 15000, 'window_size': 1815, 'query_trick': False}. \n"
     ]
    },
    {
     "name": "stdout",
     "output_type": "stream",
     "text": [
      "Trial parameters: {'k': 7, 'L': 2, 'table_size': 7500, 'window_size': 1718, 'query_trick': True}\n",
      "Read MNIST data\n",
      "Done\n",
      "Algorithm: LSH\n",
      "Query: 0\n",
      "Query: 1\n",
      "Query: 2\n",
      "Query: 3\n",
      "Query: 4\n",
      "Query: 5\n",
      "Query: 6\n",
      "Query: 7\n",
      "Query: 8\n",
      "Query: 9\n",
      "Query: 10\n",
      "Query: 11\n",
      "Query: 12\n",
      "Query: 13\n",
      "Query: 14\n",
      "Query: 15\n",
      "Query: 16\n",
      "Query: 17\n",
      "Query: 18\n",
      "Query: 19\n",
      "Query: 20\n",
      "Query: 21\n",
      "Query: 22\n",
      "Query: 23\n",
      "Query: 24\n",
      "Query: 25\n",
      "Query: 26\n",
      "Query: 27\n",
      "Query: 28\n",
      "Query: 29\n",
      "Query: 30\n",
      "Query: 31\n",
      "Query: 32\n",
      "Query: 33\n",
      "Query: 34\n",
      "Query: 35\n",
      "Query: 36\n",
      "Query: 37\n",
      "Query: 38\n",
      "Query: 39\n",
      "Query: 40\n",
      "Query: 41\n",
      "Query: 42\n",
      "Query: 43\n",
      "Query: 44\n",
      "Query: 45\n",
      "Query: 46\n",
      "Query: 47\n",
      "Query: 48\n",
      "Query: 49\n",
      "Query: 50\n",
      "Query: 51\n",
      "Query: 52\n",
      "Query: 53\n",
      "Query: 54\n",
      "Query: 55\n",
      "Query: 56\n",
      "Query: 57\n",
      "Query: 58\n",
      "Query: 59\n",
      "Query: 60\n",
      "Query: 61\n",
      "Query: 62\n",
      "Query: 63\n",
      "Query: 64\n",
      "Query: 65\n",
      "Query: 66\n",
      "Query: 67\n",
      "Query: 68\n",
      "Query: 69\n",
      "Query: 70\n",
      "Query: 71\n",
      "Query: 72\n",
      "Query: 73\n",
      "Query: 74\n",
      "Query: 75\n",
      "Query: 76\n",
      "Query: 77\n",
      "Query: 78\n",
      "Query: 79\n",
      "Query: 80\n",
      "Query: 81\n",
      "Query: 82\n",
      "Query: 83\n",
      "Query: 84\n",
      "Query: 85\n",
      "Query: 86\n",
      "Query: 87\n",
      "Query: 88\n",
      "Query: 89\n",
      "Query: 90\n",
      "Query: 91\n",
      "Query: 92\n",
      "Query: 93\n",
      "Query: 94\n",
      "Query: 95\n",
      "Query: 96\n",
      "Query: 97\n",
      "Query: 98\n",
      "Query: 99\n"
     ]
    },
    {
     "name": "stderr",
     "output_type": "stream",
     "text": [
      "[I 2023-11-26 16:32:26,920] Trial 22 finished with values: [1.7976931348623157e+308, 0.0007029400000000002] and parameters: {'k': 7, 'L': 2, 'table_size': 7500, 'window_size': 1718, 'query_trick': True}. \n"
     ]
    },
    {
     "name": "stdout",
     "output_type": "stream",
     "text": [
      "Trial parameters: {'k': 10, 'L': 6, 'table_size': 7500, 'window_size': 2609, 'query_trick': True}\n",
      "Read MNIST data\n",
      "Done\n",
      "Algorithm: LSH\n",
      "Query: 0\n",
      "Query: 1\n",
      "Query: 2\n",
      "Query: 3\n",
      "Query: 4\n",
      "Query: 5\n",
      "Query: 6\n",
      "Query: 7\n",
      "Query: 8\n",
      "Query: 9\n",
      "Query: 10\n",
      "Query: 11\n",
      "Query: 12\n",
      "Query: 13\n",
      "Query: 14\n",
      "Query: 15\n",
      "Query: 16\n",
      "Query: 17\n",
      "Query: 18\n",
      "Query: 19\n",
      "Query: 20\n",
      "Query: 21\n",
      "Query: 22\n",
      "Query: 23\n",
      "Query: 24\n",
      "Query: 25\n",
      "Query: 26\n",
      "Query: 27\n",
      "Query: 28\n",
      "Query: 29\n",
      "Query: 30\n",
      "Query: 31\n",
      "Query: 32\n",
      "Query: 33\n",
      "Query: 34\n",
      "Query: 35\n",
      "Query: 36\n",
      "Query: 37\n",
      "Query: 38\n",
      "Query: 39\n",
      "Query: 40\n",
      "Query: 41\n",
      "Query: 42\n",
      "Query: 43\n",
      "Query: 44\n",
      "Query: 45\n",
      "Query: 46\n",
      "Query: 47\n",
      "Query: 48\n",
      "Query: 49\n",
      "Query: 50\n",
      "Query: 51\n",
      "Query: 52\n",
      "Query: 53\n",
      "Query: 54\n",
      "Query: 55\n",
      "Query: 56\n",
      "Query: 57\n",
      "Query: 58\n",
      "Query: 59\n",
      "Query: 60\n",
      "Query: 61\n",
      "Query: 62\n",
      "Query: 63\n",
      "Query: 64\n",
      "Query: 65\n",
      "Query: 66\n",
      "Query: 67\n",
      "Query: 68\n",
      "Query: 69\n",
      "Query: 70\n",
      "Query: 71\n",
      "Query: 72\n",
      "Query: 73\n",
      "Query: 74\n",
      "Query: 75\n",
      "Query: 76\n",
      "Query: 77\n",
      "Query: 78\n",
      "Query: 79\n",
      "Query: 80\n",
      "Query: 81\n",
      "Query: 82\n",
      "Query: 83\n",
      "Query: 84\n",
      "Query: 85\n",
      "Query: 86\n",
      "Query: 87\n",
      "Query: 88\n",
      "Query: 89\n",
      "Query: 90\n",
      "Query: 91\n",
      "Query: 92\n",
      "Query: 93\n",
      "Query: 94\n",
      "Query: 95\n",
      "Query: 96\n",
      "Query: 97\n",
      "Query: 98\n",
      "Query: 99\n"
     ]
    },
    {
     "name": "stderr",
     "output_type": "stream",
     "text": [
      "[I 2023-11-26 16:33:17,577] Trial 23 finished with values: [1.2845873022975078, 0.00703459] and parameters: {'k': 10, 'L': 6, 'table_size': 7500, 'window_size': 2609, 'query_trick': True}. \n"
     ]
    },
    {
     "name": "stdout",
     "output_type": "stream",
     "text": [
      "Trial parameters: {'k': 4, 'L': 5, 'table_size': 3750, 'window_size': 4296, 'query_trick': True}\n",
      "Read MNIST data\n",
      "Done\n",
      "Algorithm: LSH\n",
      "Query: 0\n",
      "Query: 1\n",
      "Query: 2\n",
      "Query: 3\n",
      "Query: 4\n",
      "Query: 5\n",
      "Query: 6\n",
      "Query: 7\n",
      "Query: 8\n",
      "Query: 9\n",
      "Query: 10\n",
      "Query: 11\n",
      "Query: 12\n",
      "Query: 13\n",
      "Query: 14\n",
      "Query: 15\n",
      "Query: 16\n",
      "Query: 17\n",
      "Query: 18\n",
      "Query: 19\n",
      "Query: 20\n",
      "Query: 21\n",
      "Query: 22\n",
      "Query: 23\n",
      "Query: 24\n",
      "Query: 25\n",
      "Query: 26\n",
      "Query: 27\n",
      "Query: 28\n",
      "Query: 29\n",
      "Query: 30\n",
      "Query: 31\n",
      "Query: 32\n",
      "Query: 33\n",
      "Query: 34\n",
      "Query: 35\n",
      "Query: 36\n",
      "Query: 37\n",
      "Query: 38\n",
      "Query: 39\n",
      "Query: 40\n",
      "Query: 41\n",
      "Query: 42\n",
      "Query: 43\n",
      "Query: 44\n",
      "Query: 45\n",
      "Query: 46\n",
      "Query: 47\n",
      "Query: 48\n",
      "Query: 49\n",
      "Query: 50\n",
      "Query: 51\n",
      "Query: 52\n",
      "Query: 53\n",
      "Query: 54\n",
      "Query: 55\n",
      "Query: 56\n",
      "Query: 57\n",
      "Query: 58\n",
      "Query: 59\n",
      "Query: 60\n",
      "Query: 61\n",
      "Query: 62\n",
      "Query: 63\n",
      "Query: 64\n",
      "Query: 65\n",
      "Query: 66\n",
      "Query: 67\n",
      "Query: 68\n",
      "Query: 69\n",
      "Query: 70\n",
      "Query: 71\n",
      "Query: 72\n",
      "Query: 73\n",
      "Query: 74\n",
      "Query: 75\n",
      "Query: 76\n",
      "Query: 77\n",
      "Query: 78\n",
      "Query: 79\n",
      "Query: 80\n",
      "Query: 81\n",
      "Query: 82\n",
      "Query: 83\n",
      "Query: 84\n",
      "Query: 85\n",
      "Query: 86\n",
      "Query: 87\n",
      "Query: 88\n",
      "Query: 89\n",
      "Query: 90\n",
      "Query: 91\n",
      "Query: 92\n",
      "Query: 93\n",
      "Query: 94\n",
      "Query: 95\n",
      "Query: 96\n",
      "Query: 97\n",
      "Query: 98\n",
      "Query: 99\n"
     ]
    },
    {
     "name": "stderr",
     "output_type": "stream",
     "text": [
      "[I 2023-11-26 16:34:11,992] Trial 24 finished with values: [1.000196906315752, 0.19127134999999992] and parameters: {'k': 4, 'L': 5, 'table_size': 3750, 'window_size': 4296, 'query_trick': True}. \n"
     ]
    },
    {
     "name": "stdout",
     "output_type": "stream",
     "text": [
      "Trial parameters: {'k': 5, 'L': 9, 'table_size': 7500, 'window_size': 1679, 'query_trick': True}\n",
      "Read MNIST data\n",
      "Done\n",
      "Algorithm: LSH\n",
      "Query: 0\n",
      "Query: 1\n",
      "Query: 2\n",
      "Query: 3\n",
      "Query: 4\n",
      "Query: 5\n",
      "Query: 6\n",
      "Query: 7\n",
      "Query: 8\n",
      "Query: 9\n",
      "Query: 10\n",
      "Query: 11\n",
      "Query: 12\n",
      "Query: 13\n",
      "Query: 14\n",
      "Query: 15\n",
      "Query: 16\n",
      "Query: 17\n",
      "Query: 18\n",
      "Query: 19\n",
      "Query: 20\n",
      "Query: 21\n",
      "Query: 22\n",
      "Query: 23\n",
      "Query: 24\n",
      "Query: 25\n",
      "Query: 26\n",
      "Query: 27\n",
      "Query: 28\n",
      "Query: 29\n",
      "Query: 30\n",
      "Query: 31\n",
      "Query: 32\n",
      "Query: 33\n",
      "Query: 34\n",
      "Query: 35\n",
      "Query: 36\n",
      "Query: 37\n",
      "Query: 38\n",
      "Query: 39\n",
      "Query: 40\n",
      "Query: 41\n",
      "Query: 42\n",
      "Query: 43\n",
      "Query: 44\n",
      "Query: 45\n",
      "Query: 46\n",
      "Query: 47\n",
      "Query: 48\n",
      "Query: 49\n",
      "Query: 50\n",
      "Query: 51\n",
      "Query: 52\n",
      "Query: 53\n",
      "Query: 54\n",
      "Query: 55\n",
      "Query: 56\n",
      "Query: 57\n",
      "Query: 58\n",
      "Query: 59\n",
      "Query: 60\n",
      "Query: 61\n",
      "Query: 62\n",
      "Query: 63\n",
      "Query: 64\n",
      "Query: 65\n",
      "Query: 66\n",
      "Query: 67\n",
      "Query: 68\n",
      "Query: 69\n",
      "Query: 70\n",
      "Query: 71\n",
      "Query: 72\n",
      "Query: 73\n",
      "Query: 74\n",
      "Query: 75\n",
      "Query: 76\n",
      "Query: 77\n",
      "Query: 78\n",
      "Query: 79\n",
      "Query: 80\n",
      "Query: 81\n",
      "Query: 82\n",
      "Query: 83\n",
      "Query: 84\n",
      "Query: 85\n",
      "Query: 86\n",
      "Query: 87\n",
      "Query: 88\n",
      "Query: 89\n",
      "Query: 90\n",
      "Query: 91\n",
      "Query: 92\n",
      "Query: 93\n",
      "Query: 94\n",
      "Query: 95\n",
      "Query: 96\n",
      "Query: 97\n",
      "Query: 98\n",
      "Query: 99\n"
     ]
    },
    {
     "name": "stderr",
     "output_type": "stream",
     "text": [
      "[I 2023-11-26 16:34:59,163] Trial 25 finished with values: [1.169075947667741, 0.018905959999999996] and parameters: {'k': 5, 'L': 9, 'table_size': 7500, 'window_size': 1679, 'query_trick': True}. \n"
     ]
    },
    {
     "name": "stdout",
     "output_type": "stream",
     "text": [
      "Trial parameters: {'k': 6, 'L': 7, 'table_size': 15000, 'window_size': 4905, 'query_trick': False}\n",
      "Read MNIST data\n",
      "Done\n",
      "Algorithm: LSH\n",
      "Query: 0\n",
      "Query: 1\n",
      "Query: 2\n",
      "Query: 3\n",
      "Query: 4\n",
      "Query: 5\n",
      "Query: 6\n",
      "Query: 7\n",
      "Query: 8\n",
      "Query: 9\n",
      "Query: 10\n",
      "Query: 11\n",
      "Query: 12\n",
      "Query: 13\n",
      "Query: 14\n",
      "Query: 15\n",
      "Query: 16\n",
      "Query: 17\n",
      "Query: 18\n",
      "Query: 19\n",
      "Query: 20\n",
      "Query: 21\n",
      "Query: 22\n",
      "Query: 23\n",
      "Query: 24\n",
      "Query: 25\n",
      "Query: 26\n",
      "Query: 27\n",
      "Query: 28\n",
      "Query: 29\n",
      "Query: 30\n",
      "Query: 31\n",
      "Query: 32\n",
      "Query: 33\n",
      "Query: 34\n",
      "Query: 35\n",
      "Query: 36\n",
      "Query: 37\n",
      "Query: 38\n",
      "Query: 39\n",
      "Query: 40\n",
      "Query: 41\n",
      "Query: 42\n",
      "Query: 43\n",
      "Query: 44\n",
      "Query: 45\n",
      "Query: 46\n",
      "Query: 47\n",
      "Query: 48\n",
      "Query: 49\n",
      "Query: 50\n",
      "Query: 51\n",
      "Query: 52\n",
      "Query: 53\n",
      "Query: 54\n",
      "Query: 55\n",
      "Query: 56\n",
      "Query: 57\n",
      "Query: 58\n",
      "Query: 59\n",
      "Query: 60\n",
      "Query: 61\n",
      "Query: 62\n",
      "Query: 63\n",
      "Query: 64\n",
      "Query: 65\n",
      "Query: 66\n",
      "Query: 67\n",
      "Query: 68\n",
      "Query: 69\n",
      "Query: 70\n",
      "Query: 71\n",
      "Query: 72\n",
      "Query: 73\n",
      "Query: 74\n",
      "Query: 75\n",
      "Query: 76\n",
      "Query: 77\n",
      "Query: 78\n",
      "Query: 79\n",
      "Query: 80\n",
      "Query: 81\n",
      "Query: 82\n",
      "Query: 83\n",
      "Query: 84\n",
      "Query: 85\n",
      "Query: 86\n",
      "Query: 87\n",
      "Query: 88\n",
      "Query: 89\n",
      "Query: 90\n",
      "Query: 91\n",
      "Query: 92\n",
      "Query: 93\n",
      "Query: 94\n",
      "Query: 95\n",
      "Query: 96\n",
      "Query: 97\n",
      "Query: 98\n",
      "Query: 99\n"
     ]
    },
    {
     "name": "stderr",
     "output_type": "stream",
     "text": [
      "[I 2023-11-26 16:36:03,054] Trial 26 finished with values: [1.0, 0.19205882] and parameters: {'k': 6, 'L': 7, 'table_size': 15000, 'window_size': 4905, 'query_trick': False}. \n"
     ]
    },
    {
     "name": "stdout",
     "output_type": "stream",
     "text": [
      "Trial parameters: {'k': 4, 'L': 6, 'table_size': 7500, 'window_size': 4996, 'query_trick': False}\n",
      "Read MNIST data\n",
      "Done\n",
      "Algorithm: LSH\n",
      "Query: 0\n",
      "Query: 1\n",
      "Query: 2\n",
      "Query: 3\n",
      "Query: 4\n",
      "Query: 5\n",
      "Query: 6\n",
      "Query: 7\n",
      "Query: 8\n",
      "Query: 9\n",
      "Query: 10\n",
      "Query: 11\n",
      "Query: 12\n",
      "Query: 13\n",
      "Query: 14\n",
      "Query: 15\n",
      "Query: 16\n",
      "Query: 17\n",
      "Query: 18\n",
      "Query: 19\n",
      "Query: 20\n",
      "Query: 21\n",
      "Query: 22\n",
      "Query: 23\n",
      "Query: 24\n",
      "Query: 25\n",
      "Query: 26\n",
      "Query: 27\n",
      "Query: 28\n",
      "Query: 29\n",
      "Query: 30\n",
      "Query: 31\n",
      "Query: 32\n",
      "Query: 33\n",
      "Query: 34\n",
      "Query: 35\n",
      "Query: 36\n",
      "Query: 37\n",
      "Query: 38\n",
      "Query: 39\n",
      "Query: 40\n",
      "Query: 41\n",
      "Query: 42\n",
      "Query: 43\n",
      "Query: 44\n",
      "Query: 45\n",
      "Query: 46\n",
      "Query: 47\n",
      "Query: 48\n",
      "Query: 49\n",
      "Query: 50\n",
      "Query: 51\n",
      "Query: 52\n",
      "Query: 53\n",
      "Query: 54\n",
      "Query: 55\n",
      "Query: 56\n",
      "Query: 57\n",
      "Query: 58\n",
      "Query: 59\n",
      "Query: 60\n",
      "Query: 61\n",
      "Query: 62\n",
      "Query: 63\n",
      "Query: 64\n",
      "Query: 65\n",
      "Query: 66\n",
      "Query: 67\n",
      "Query: 68\n",
      "Query: 69\n",
      "Query: 70\n",
      "Query: 71\n",
      "Query: 72\n",
      "Query: 73\n",
      "Query: 74\n",
      "Query: 75\n",
      "Query: 76\n",
      "Query: 77\n",
      "Query: 78\n",
      "Query: 79\n",
      "Query: 80\n",
      "Query: 81\n",
      "Query: 82\n",
      "Query: 83\n",
      "Query: 84\n",
      "Query: 85\n",
      "Query: 86\n",
      "Query: 87\n",
      "Query: 88\n",
      "Query: 89\n",
      "Query: 90\n",
      "Query: 91\n",
      "Query: 92\n",
      "Query: 93\n",
      "Query: 94\n",
      "Query: 95\n",
      "Query: 96\n",
      "Query: 97\n",
      "Query: 98\n",
      "Query: 99\n"
     ]
    },
    {
     "name": "stderr",
     "output_type": "stream",
     "text": [
      "[I 2023-11-26 16:37:04,844] Trial 27 finished with values: [1.0, 0.23691250999999994] and parameters: {'k': 4, 'L': 6, 'table_size': 7500, 'window_size': 4996, 'query_trick': False}. \n"
     ]
    },
    {
     "name": "stdout",
     "output_type": "stream",
     "text": [
      "Trial parameters: {'k': 5, 'L': 8, 'table_size': 7500, 'window_size': 4064, 'query_trick': False}\n",
      "Read MNIST data\n",
      "Done\n",
      "Algorithm: LSH\n",
      "Query: 0\n",
      "Query: 1\n",
      "Query: 2\n",
      "Query: 3\n",
      "Query: 4\n",
      "Query: 5\n",
      "Query: 6\n",
      "Query: 7\n",
      "Query: 8\n",
      "Query: 9\n",
      "Query: 10\n",
      "Query: 11\n",
      "Query: 12\n",
      "Query: 13\n",
      "Query: 14\n",
      "Query: 15\n",
      "Query: 16\n",
      "Query: 17\n",
      "Query: 18\n",
      "Query: 19\n",
      "Query: 20\n",
      "Query: 21\n",
      "Query: 22\n",
      "Query: 23\n",
      "Query: 24\n",
      "Query: 25\n",
      "Query: 26\n",
      "Query: 27\n",
      "Query: 28\n",
      "Query: 29\n",
      "Query: 30\n",
      "Query: 31\n",
      "Query: 32\n",
      "Query: 33\n",
      "Query: 34\n",
      "Query: 35\n",
      "Query: 36\n",
      "Query: 37\n",
      "Query: 38\n",
      "Query: 39\n",
      "Query: 40\n",
      "Query: 41\n",
      "Query: 42\n",
      "Query: 43\n",
      "Query: 44\n",
      "Query: 45\n",
      "Query: 46\n",
      "Query: 47\n",
      "Query: 48\n",
      "Query: 49\n",
      "Query: 50\n",
      "Query: 51\n",
      "Query: 52\n",
      "Query: 53\n",
      "Query: 54\n",
      "Query: 55\n",
      "Query: 56\n",
      "Query: 57\n",
      "Query: 58\n",
      "Query: 59\n",
      "Query: 60\n",
      "Query: 61\n",
      "Query: 62\n",
      "Query: 63\n",
      "Query: 64\n",
      "Query: 65\n",
      "Query: 66\n",
      "Query: 67\n",
      "Query: 68\n",
      "Query: 69\n",
      "Query: 70\n",
      "Query: 71\n",
      "Query: 72\n",
      "Query: 73\n",
      "Query: 74\n",
      "Query: 75\n",
      "Query: 76\n",
      "Query: 77\n",
      "Query: 78\n",
      "Query: 79\n",
      "Query: 80\n",
      "Query: 81\n",
      "Query: 82\n",
      "Query: 83\n",
      "Query: 84\n",
      "Query: 85\n",
      "Query: 86\n",
      "Query: 87\n",
      "Query: 88\n",
      "Query: 89\n",
      "Query: 90\n",
      "Query: 91\n",
      "Query: 92\n",
      "Query: 93\n",
      "Query: 94\n",
      "Query: 95\n",
      "Query: 96\n",
      "Query: 97\n",
      "Query: 98\n",
      "Query: 99\n"
     ]
    },
    {
     "name": "stderr",
     "output_type": "stream",
     "text": [
      "[I 2023-11-26 16:38:03,660] Trial 28 finished with values: [1.0000446746328602, 0.15277255] and parameters: {'k': 5, 'L': 8, 'table_size': 7500, 'window_size': 4064, 'query_trick': False}. \n"
     ]
    },
    {
     "name": "stdout",
     "output_type": "stream",
     "text": [
      "Trial parameters: {'k': 4, 'L': 9, 'table_size': 7500, 'window_size': 2409, 'query_trick': False}\n",
      "Read MNIST data\n",
      "Done\n",
      "Algorithm: LSH\n",
      "Query: 0\n",
      "Query: 1\n",
      "Query: 2\n",
      "Query: 3\n",
      "Query: 4\n",
      "Query: 5\n",
      "Query: 6\n",
      "Query: 7\n",
      "Query: 8\n",
      "Query: 9\n",
      "Query: 10\n",
      "Query: 11\n",
      "Query: 12\n",
      "Query: 13\n",
      "Query: 14\n",
      "Query: 15\n",
      "Query: 16\n",
      "Query: 17\n",
      "Query: 18\n",
      "Query: 19\n",
      "Query: 20\n",
      "Query: 21\n",
      "Query: 22\n",
      "Query: 23\n",
      "Query: 24\n",
      "Query: 25\n",
      "Query: 26\n",
      "Query: 27\n",
      "Query: 28\n",
      "Query: 29\n",
      "Query: 30\n",
      "Query: 31\n",
      "Query: 32\n",
      "Query: 33\n",
      "Query: 34\n",
      "Query: 35\n",
      "Query: 36\n",
      "Query: 37\n",
      "Query: 38\n",
      "Query: 39\n",
      "Query: 40\n",
      "Query: 41\n",
      "Query: 42\n",
      "Query: 43\n",
      "Query: 44\n",
      "Query: 45\n",
      "Query: 46\n",
      "Query: 47\n",
      "Query: 48\n",
      "Query: 49\n",
      "Query: 50\n",
      "Query: 51\n",
      "Query: 52\n",
      "Query: 53\n",
      "Query: 54\n",
      "Query: 55\n",
      "Query: 56\n",
      "Query: 57\n",
      "Query: 58\n",
      "Query: 59\n",
      "Query: 60\n",
      "Query: 61\n",
      "Query: 62\n",
      "Query: 63\n",
      "Query: 64\n",
      "Query: 65\n",
      "Query: 66\n",
      "Query: 67\n",
      "Query: 68\n",
      "Query: 69\n",
      "Query: 70\n",
      "Query: 71\n",
      "Query: 72\n",
      "Query: 73\n",
      "Query: 74\n",
      "Query: 75\n",
      "Query: 76\n",
      "Query: 77\n",
      "Query: 78\n",
      "Query: 79\n",
      "Query: 80\n",
      "Query: 81\n",
      "Query: 82\n",
      "Query: 83\n",
      "Query: 84\n",
      "Query: 85\n",
      "Query: 86\n",
      "Query: 87\n",
      "Query: 88\n",
      "Query: 89\n",
      "Query: 90\n",
      "Query: 91\n",
      "Query: 92\n",
      "Query: 93\n",
      "Query: 94\n",
      "Query: 95\n",
      "Query: 96\n",
      "Query: 97\n",
      "Query: 98\n",
      "Query: 99\n"
     ]
    },
    {
     "name": "stderr",
     "output_type": "stream",
     "text": [
      "[I 2023-11-26 16:39:02,740] Trial 29 finished with values: [1.0130629383245582, 0.11428385999999997] and parameters: {'k': 4, 'L': 9, 'table_size': 7500, 'window_size': 2409, 'query_trick': False}. \n"
     ]
    },
    {
     "name": "stdout",
     "output_type": "stream",
     "text": [
      "Trial parameters: {'k': 10, 'L': 4, 'table_size': 3750, 'window_size': 1522, 'query_trick': True}\n",
      "Read MNIST data\n",
      "Done\n",
      "Algorithm: LSH\n",
      "Query: 0\n",
      "Query: 1\n",
      "Query: 2\n",
      "Query: 3\n",
      "Query: 4\n",
      "Query: 5\n",
      "Query: 6\n",
      "Query: 7\n",
      "Query: 8\n",
      "Query: 9\n",
      "Query: 10\n",
      "Query: 11\n",
      "Query: 12\n",
      "Query: 13\n",
      "Query: 14\n",
      "Query: 15\n",
      "Query: 16\n",
      "Query: 17\n",
      "Query: 18\n",
      "Query: 19\n",
      "Query: 20\n",
      "Query: 21\n",
      "Query: 22\n",
      "Query: 23\n",
      "Query: 24\n",
      "Query: 25\n",
      "Query: 26\n",
      "Query: 27\n",
      "Query: 28\n",
      "Query: 29\n",
      "Query: 30\n",
      "Query: 31\n",
      "Query: 32\n",
      "Query: 33\n",
      "Query: 34\n",
      "Query: 35\n",
      "Query: 36\n",
      "Query: 37\n",
      "Query: 38\n",
      "Query: 39\n",
      "Query: 40\n",
      "Query: 41\n",
      "Query: 42\n",
      "Query: 43\n",
      "Query: 44\n",
      "Query: 45\n",
      "Query: 46\n",
      "Query: 47\n",
      "Query: 48\n",
      "Query: 49\n",
      "Query: 50\n",
      "Query: 51\n",
      "Query: 52\n",
      "Query: 53\n",
      "Query: 54\n",
      "Query: 55\n",
      "Query: 56\n",
      "Query: 57\n",
      "Query: 58\n",
      "Query: 59\n",
      "Query: 60\n",
      "Query: 61\n",
      "Query: 62\n",
      "Query: 63\n",
      "Query: 64\n",
      "Query: 65\n",
      "Query: 66\n",
      "Query: 67\n",
      "Query: 68\n",
      "Query: 69\n",
      "Query: 70\n",
      "Query: 71\n",
      "Query: 72\n",
      "Query: 73\n",
      "Query: 74\n",
      "Query: 75\n",
      "Query: 76\n",
      "Query: 77\n",
      "Query: 78\n",
      "Query: 79\n",
      "Query: 80\n",
      "Query: 81\n",
      "Query: 82\n",
      "Query: 83\n",
      "Query: 84\n",
      "Query: 85\n",
      "Query: 86\n",
      "Query: 87\n",
      "Query: 88\n",
      "Query: 89\n",
      "Query: 90\n",
      "Query: 91\n",
      "Query: 92\n",
      "Query: 93\n",
      "Query: 94\n",
      "Query: 95\n",
      "Query: 96\n",
      "Query: 97\n",
      "Query: 98\n",
      "Query: 99\n"
     ]
    },
    {
     "name": "stderr",
     "output_type": "stream",
     "text": [
      "[I 2023-11-26 16:39:44,777] Trial 30 finished with values: [1.7976931348623157e+308, 0.00075214] and parameters: {'k': 10, 'L': 4, 'table_size': 3750, 'window_size': 1522, 'query_trick': True}. \n"
     ]
    },
    {
     "name": "stdout",
     "output_type": "stream",
     "text": [
      "Trial parameters: {'k': 6, 'L': 10, 'table_size': 3750, 'window_size': 3677, 'query_trick': True}\n",
      "Read MNIST data\n",
      "Done\n",
      "Algorithm: LSH\n",
      "Query: 0\n",
      "Query: 1\n",
      "Query: 2\n",
      "Query: 3\n",
      "Query: 4\n",
      "Query: 5\n",
      "Query: 6\n",
      "Query: 7\n",
      "Query: 8\n",
      "Query: 9\n",
      "Query: 10\n",
      "Query: 11\n",
      "Query: 12\n",
      "Query: 13\n",
      "Query: 14\n",
      "Query: 15\n",
      "Query: 16\n",
      "Query: 17\n",
      "Query: 18\n",
      "Query: 19\n",
      "Query: 20\n",
      "Query: 21\n",
      "Query: 22\n",
      "Query: 23\n",
      "Query: 24\n",
      "Query: 25\n",
      "Query: 26\n",
      "Query: 27\n",
      "Query: 28\n",
      "Query: 29\n",
      "Query: 30\n",
      "Query: 31\n",
      "Query: 32\n",
      "Query: 33\n",
      "Query: 34\n",
      "Query: 35\n",
      "Query: 36\n",
      "Query: 37\n",
      "Query: 38\n",
      "Query: 39\n",
      "Query: 40\n",
      "Query: 41\n",
      "Query: 42\n",
      "Query: 43\n",
      "Query: 44\n",
      "Query: 45\n",
      "Query: 46\n",
      "Query: 47\n",
      "Query: 48\n",
      "Query: 49\n",
      "Query: 50\n",
      "Query: 51\n",
      "Query: 52\n",
      "Query: 53\n",
      "Query: 54\n",
      "Query: 55\n",
      "Query: 56\n",
      "Query: 57\n",
      "Query: 58\n",
      "Query: 59\n",
      "Query: 60\n",
      "Query: 61\n",
      "Query: 62\n",
      "Query: 63\n",
      "Query: 64\n",
      "Query: 65\n",
      "Query: 66\n",
      "Query: 67\n",
      "Query: 68\n",
      "Query: 69\n",
      "Query: 70\n",
      "Query: 71\n",
      "Query: 72\n",
      "Query: 73\n",
      "Query: 74\n",
      "Query: 75\n",
      "Query: 76\n",
      "Query: 77\n",
      "Query: 78\n",
      "Query: 79\n",
      "Query: 80\n",
      "Query: 81\n",
      "Query: 82\n",
      "Query: 83\n",
      "Query: 84\n",
      "Query: 85\n",
      "Query: 86\n",
      "Query: 87\n",
      "Query: 88\n",
      "Query: 89\n",
      "Query: 90\n",
      "Query: 91\n",
      "Query: 92\n",
      "Query: 93\n",
      "Query: 94\n",
      "Query: 95\n",
      "Query: 96\n",
      "Query: 97\n",
      "Query: 98\n",
      "Query: 99\n"
     ]
    },
    {
     "name": "stderr",
     "output_type": "stream",
     "text": [
      "[I 2023-11-26 16:40:49,110] Trial 31 finished with values: [1.0, 0.15069452999999997] and parameters: {'k': 6, 'L': 10, 'table_size': 3750, 'window_size': 3677, 'query_trick': True}. \n"
     ]
    },
    {
     "name": "stdout",
     "output_type": "stream",
     "text": [
      "Trial parameters: {'k': 10, 'L': 5, 'table_size': 7500, 'window_size': 4069, 'query_trick': True}\n",
      "Read MNIST data\n",
      "Done\n",
      "Algorithm: LSH\n",
      "Query: 0\n",
      "Query: 1\n",
      "Query: 2\n",
      "Query: 3\n",
      "Query: 4\n",
      "Query: 5\n",
      "Query: 6\n",
      "Query: 7\n",
      "Query: 8\n",
      "Query: 9\n",
      "Query: 10\n",
      "Query: 11\n",
      "Query: 12\n",
      "Query: 13\n",
      "Query: 14\n",
      "Query: 15\n",
      "Query: 16\n",
      "Query: 17\n",
      "Query: 18\n",
      "Query: 19\n",
      "Query: 20\n",
      "Query: 21\n",
      "Query: 22\n",
      "Query: 23\n",
      "Query: 24\n",
      "Query: 25\n",
      "Query: 26\n",
      "Query: 27\n",
      "Query: 28\n",
      "Query: 29\n",
      "Query: 30\n",
      "Query: 31\n",
      "Query: 32\n",
      "Query: 33\n",
      "Query: 34\n",
      "Query: 35\n",
      "Query: 36\n",
      "Query: 37\n",
      "Query: 38\n",
      "Query: 39\n",
      "Query: 40\n",
      "Query: 41\n",
      "Query: 42\n",
      "Query: 43\n",
      "Query: 44\n",
      "Query: 45\n",
      "Query: 46\n",
      "Query: 47\n",
      "Query: 48\n",
      "Query: 49\n",
      "Query: 50\n",
      "Query: 51\n",
      "Query: 52\n",
      "Query: 53\n",
      "Query: 54\n",
      "Query: 55\n",
      "Query: 56\n",
      "Query: 57\n",
      "Query: 58\n",
      "Query: 59\n",
      "Query: 60\n",
      "Query: 61\n",
      "Query: 62\n",
      "Query: 63\n",
      "Query: 64\n",
      "Query: 65\n",
      "Query: 66\n",
      "Query: 67\n",
      "Query: 68\n",
      "Query: 69\n",
      "Query: 70\n",
      "Query: 71\n",
      "Query: 72\n",
      "Query: 73\n",
      "Query: 74\n",
      "Query: 75\n",
      "Query: 76\n",
      "Query: 77\n",
      "Query: 78\n",
      "Query: 79\n",
      "Query: 80\n",
      "Query: 81\n",
      "Query: 82\n",
      "Query: 83\n",
      "Query: 84\n",
      "Query: 85\n",
      "Query: 86\n",
      "Query: 87\n",
      "Query: 88\n",
      "Query: 89\n",
      "Query: 90\n",
      "Query: 91\n",
      "Query: 92\n",
      "Query: 93\n",
      "Query: 94\n",
      "Query: 95\n",
      "Query: 96\n",
      "Query: 97\n",
      "Query: 98\n",
      "Query: 99\n"
     ]
    },
    {
     "name": "stderr",
     "output_type": "stream",
     "text": [
      "[I 2023-11-26 16:41:37,656] Trial 32 finished with values: [1.0369902545654195, 0.03694716000000002] and parameters: {'k': 10, 'L': 5, 'table_size': 7500, 'window_size': 4069, 'query_trick': True}. \n"
     ]
    },
    {
     "name": "stdout",
     "output_type": "stream",
     "text": [
      "Trial parameters: {'k': 8, 'L': 10, 'table_size': 3750, 'window_size': 1206, 'query_trick': False}\n",
      "Read MNIST data\n",
      "Done\n",
      "Algorithm: LSH\n",
      "Query: 0\n",
      "Query: 1\n",
      "Query: 2\n",
      "Query: 3\n",
      "Query: 4\n",
      "Query: 5\n",
      "Query: 6\n",
      "Query: 7\n",
      "Query: 8\n",
      "Query: 9\n",
      "Query: 10\n",
      "Query: 11\n",
      "Query: 12\n",
      "Query: 13\n",
      "Query: 14\n",
      "Query: 15\n",
      "Query: 16\n",
      "Query: 17\n",
      "Query: 18\n",
      "Query: 19\n",
      "Query: 20\n",
      "Query: 21\n",
      "Query: 22\n",
      "Query: 23\n",
      "Query: 24\n",
      "Query: 25\n",
      "Query: 26\n",
      "Query: 27\n",
      "Query: 28\n",
      "Query: 29\n",
      "Query: 30\n",
      "Query: 31\n",
      "Query: 32\n",
      "Query: 33\n",
      "Query: 34\n",
      "Query: 35\n",
      "Query: 36\n",
      "Query: 37\n",
      "Query: 38\n",
      "Query: 39\n",
      "Query: 40\n",
      "Query: 41\n",
      "Query: 42\n",
      "Query: 43\n",
      "Query: 44\n",
      "Query: 45\n",
      "Query: 46\n",
      "Query: 47\n",
      "Query: 48\n",
      "Query: 49\n",
      "Query: 50\n",
      "Query: 51\n",
      "Query: 52\n",
      "Query: 53\n",
      "Query: 54\n",
      "Query: 55\n",
      "Query: 56\n",
      "Query: 57\n",
      "Query: 58\n",
      "Query: 59\n",
      "Query: 60\n",
      "Query: 61\n",
      "Query: 62\n",
      "Query: 63\n",
      "Query: 64\n",
      "Query: 65\n",
      "Query: 66\n",
      "Query: 67\n",
      "Query: 68\n",
      "Query: 69\n",
      "Query: 70\n",
      "Query: 71\n",
      "Query: 72\n",
      "Query: 73\n",
      "Query: 74\n",
      "Query: 75\n",
      "Query: 76\n",
      "Query: 77\n",
      "Query: 78\n",
      "Query: 79\n",
      "Query: 80\n",
      "Query: 81\n",
      "Query: 82\n",
      "Query: 83\n",
      "Query: 84\n",
      "Query: 85\n",
      "Query: 86\n",
      "Query: 87\n",
      "Query: 88\n",
      "Query: 89\n",
      "Query: 90\n",
      "Query: 91\n",
      "Query: 92\n",
      "Query: 93\n",
      "Query: 94\n",
      "Query: 95\n",
      "Query: 96\n",
      "Query: 97\n",
      "Query: 98\n",
      "Query: 99\n"
     ]
    },
    {
     "name": "stderr",
     "output_type": "stream",
     "text": [
      "[I 2023-11-26 16:42:36,081] Trial 33 finished with values: [1.7231291614122928, 0.0014273500000000002] and parameters: {'k': 8, 'L': 10, 'table_size': 3750, 'window_size': 1206, 'query_trick': False}. \n"
     ]
    },
    {
     "name": "stdout",
     "output_type": "stream",
     "text": [
      "Trial parameters: {'k': 4, 'L': 4, 'table_size': 3750, 'window_size': 1754, 'query_trick': False}\n",
      "Read MNIST data\n",
      "Done\n",
      "Algorithm: LSH\n",
      "Query: 0\n",
      "Query: 1\n",
      "Query: 2\n",
      "Query: 3\n",
      "Query: 4\n",
      "Query: 5\n",
      "Query: 6\n",
      "Query: 7\n",
      "Query: 8\n",
      "Query: 9\n",
      "Query: 10\n",
      "Query: 11\n",
      "Query: 12\n",
      "Query: 13\n",
      "Query: 14\n",
      "Query: 15\n",
      "Query: 16\n",
      "Query: 17\n",
      "Query: 18\n",
      "Query: 19\n",
      "Query: 20\n",
      "Query: 21\n",
      "Query: 22\n",
      "Query: 23\n",
      "Query: 24\n",
      "Query: 25\n",
      "Query: 26\n",
      "Query: 27\n",
      "Query: 28\n",
      "Query: 29\n",
      "Query: 30\n",
      "Query: 31\n",
      "Query: 32\n",
      "Query: 33\n",
      "Query: 34\n",
      "Query: 35\n",
      "Query: 36\n",
      "Query: 37\n",
      "Query: 38\n",
      "Query: 39\n",
      "Query: 40\n",
      "Query: 41\n",
      "Query: 42\n",
      "Query: 43\n",
      "Query: 44\n",
      "Query: 45\n",
      "Query: 46\n",
      "Query: 47\n",
      "Query: 48\n",
      "Query: 49\n",
      "Query: 50\n",
      "Query: 51\n",
      "Query: 52\n",
      "Query: 53\n",
      "Query: 54\n",
      "Query: 55\n",
      "Query: 56\n",
      "Query: 57\n",
      "Query: 58\n",
      "Query: 59\n",
      "Query: 60\n",
      "Query: 61\n",
      "Query: 62\n",
      "Query: 63\n",
      "Query: 64\n",
      "Query: 65\n",
      "Query: 66\n",
      "Query: 67\n",
      "Query: 68\n",
      "Query: 69\n",
      "Query: 70\n",
      "Query: 71\n",
      "Query: 72\n",
      "Query: 73\n",
      "Query: 74\n",
      "Query: 75\n",
      "Query: 76\n",
      "Query: 77\n",
      "Query: 78\n",
      "Query: 79\n",
      "Query: 80\n",
      "Query: 81\n",
      "Query: 82\n",
      "Query: 83\n",
      "Query: 84\n",
      "Query: 85\n",
      "Query: 86\n",
      "Query: 87\n",
      "Query: 88\n",
      "Query: 89\n",
      "Query: 90\n",
      "Query: 91\n",
      "Query: 92\n",
      "Query: 93\n",
      "Query: 94\n",
      "Query: 95\n",
      "Query: 96\n",
      "Query: 97\n",
      "Query: 98\n",
      "Query: 99\n"
     ]
    },
    {
     "name": "stderr",
     "output_type": "stream",
     "text": [
      "[I 2023-11-26 16:43:14,640] Trial 34 finished with values: [1.110830626913023, 0.02293467] and parameters: {'k': 4, 'L': 4, 'table_size': 3750, 'window_size': 1754, 'query_trick': False}. \n"
     ]
    },
    {
     "name": "stdout",
     "output_type": "stream",
     "text": [
      "Trial parameters: {'k': 7, 'L': 10, 'table_size': 3750, 'window_size': 1532, 'query_trick': False}\n",
      "Read MNIST data\n",
      "Done\n",
      "Algorithm: LSH\n",
      "Query: 0\n",
      "Query: 1\n",
      "Query: 2\n",
      "Query: 3\n",
      "Query: 4\n",
      "Query: 5\n",
      "Query: 6\n",
      "Query: 7\n",
      "Query: 8\n",
      "Query: 9\n",
      "Query: 10\n",
      "Query: 11\n",
      "Query: 12\n",
      "Query: 13\n",
      "Query: 14\n",
      "Query: 15\n",
      "Query: 16\n",
      "Query: 17\n",
      "Query: 18\n",
      "Query: 19\n",
      "Query: 20\n",
      "Query: 21\n",
      "Query: 22\n",
      "Query: 23\n",
      "Query: 24\n",
      "Query: 25\n",
      "Query: 26\n",
      "Query: 27\n",
      "Query: 28\n",
      "Query: 29\n",
      "Query: 30\n",
      "Query: 31\n",
      "Query: 32\n",
      "Query: 33\n",
      "Query: 34\n",
      "Query: 35\n",
      "Query: 36\n",
      "Query: 37\n",
      "Query: 38\n",
      "Query: 39\n",
      "Query: 40\n",
      "Query: 41\n",
      "Query: 42\n",
      "Query: 43\n",
      "Query: 44\n",
      "Query: 45\n",
      "Query: 46\n",
      "Query: 47\n",
      "Query: 48\n",
      "Query: 49\n",
      "Query: 50\n",
      "Query: 51\n",
      "Query: 52\n",
      "Query: 53\n",
      "Query: 54\n",
      "Query: 55\n",
      "Query: 56\n",
      "Query: 57\n",
      "Query: 58\n",
      "Query: 59\n",
      "Query: 60\n",
      "Query: 61\n",
      "Query: 62\n",
      "Query: 63\n",
      "Query: 64\n",
      "Query: 65\n",
      "Query: 66\n",
      "Query: 67\n",
      "Query: 68\n",
      "Query: 69\n",
      "Query: 70\n",
      "Query: 71\n",
      "Query: 72\n",
      "Query: 73\n",
      "Query: 74\n",
      "Query: 75\n",
      "Query: 76\n",
      "Query: 77\n",
      "Query: 78\n",
      "Query: 79\n",
      "Query: 80\n",
      "Query: 81\n",
      "Query: 82\n",
      "Query: 83\n",
      "Query: 84\n",
      "Query: 85\n",
      "Query: 86\n",
      "Query: 87\n",
      "Query: 88\n",
      "Query: 89\n",
      "Query: 90\n",
      "Query: 91\n",
      "Query: 92\n",
      "Query: 93\n",
      "Query: 94\n",
      "Query: 95\n",
      "Query: 96\n",
      "Query: 97\n",
      "Query: 98\n",
      "Query: 99\n"
     ]
    },
    {
     "name": "stderr",
     "output_type": "stream",
     "text": [
      "[I 2023-11-26 16:44:09,980] Trial 35 finished with values: [1.3211970432230733, 0.0032278300000000005] and parameters: {'k': 7, 'L': 10, 'table_size': 3750, 'window_size': 1532, 'query_trick': False}. \n"
     ]
    },
    {
     "name": "stdout",
     "output_type": "stream",
     "text": [
      "Trial parameters: {'k': 3, 'L': 4, 'table_size': 15000, 'window_size': 2151, 'query_trick': True}\n",
      "Read MNIST data\n",
      "Done\n",
      "Algorithm: LSH\n",
      "Query: 0\n",
      "Query: 1\n",
      "Query: 2\n",
      "Query: 3\n",
      "Query: 4\n",
      "Query: 5\n",
      "Query: 6\n",
      "Query: 7\n",
      "Query: 8\n",
      "Query: 9\n",
      "Query: 10\n",
      "Query: 11\n",
      "Query: 12\n",
      "Query: 13\n",
      "Query: 14\n",
      "Query: 15\n",
      "Query: 16\n",
      "Query: 17\n",
      "Query: 18\n",
      "Query: 19\n",
      "Query: 20\n",
      "Query: 21\n",
      "Query: 22\n",
      "Query: 23\n",
      "Query: 24\n",
      "Query: 25\n",
      "Query: 26\n",
      "Query: 27\n",
      "Query: 28\n",
      "Query: 29\n",
      "Query: 30\n",
      "Query: 31\n",
      "Query: 32\n",
      "Query: 33\n",
      "Query: 34\n",
      "Query: 35\n",
      "Query: 36\n",
      "Query: 37\n",
      "Query: 38\n",
      "Query: 39\n",
      "Query: 40\n",
      "Query: 41\n",
      "Query: 42\n",
      "Query: 43\n",
      "Query: 44\n",
      "Query: 45\n",
      "Query: 46\n",
      "Query: 47\n",
      "Query: 48\n",
      "Query: 49\n",
      "Query: 50\n",
      "Query: 51\n",
      "Query: 52\n",
      "Query: 53\n",
      "Query: 54\n",
      "Query: 55\n",
      "Query: 56\n",
      "Query: 57\n",
      "Query: 58\n",
      "Query: 59\n",
      "Query: 60\n",
      "Query: 61\n",
      "Query: 62\n",
      "Query: 63\n",
      "Query: 64\n",
      "Query: 65\n",
      "Query: 66\n",
      "Query: 67\n",
      "Query: 68\n",
      "Query: 69\n",
      "Query: 70\n",
      "Query: 71\n",
      "Query: 72\n",
      "Query: 73\n",
      "Query: 74\n",
      "Query: 75\n",
      "Query: 76\n",
      "Query: 77\n",
      "Query: 78\n",
      "Query: 79\n",
      "Query: 80\n",
      "Query: 81\n",
      "Query: 82\n",
      "Query: 83\n",
      "Query: 84\n",
      "Query: 85\n",
      "Query: 86\n",
      "Query: 87\n",
      "Query: 88\n",
      "Query: 89\n",
      "Query: 90\n",
      "Query: 91\n",
      "Query: 92\n",
      "Query: 93\n",
      "Query: 94\n",
      "Query: 95\n",
      "Query: 96\n",
      "Query: 97\n",
      "Query: 98\n",
      "Query: 99\n"
     ]
    },
    {
     "name": "stderr",
     "output_type": "stream",
     "text": [
      "[I 2023-11-26 16:44:48,308] Trial 36 finished with values: [1.031194777022799, 0.05635063000000003] and parameters: {'k': 3, 'L': 4, 'table_size': 15000, 'window_size': 2151, 'query_trick': True}. \n"
     ]
    },
    {
     "name": "stdout",
     "output_type": "stream",
     "text": [
      "Trial parameters: {'k': 5, 'L': 8, 'table_size': 15000, 'window_size': 3602, 'query_trick': True}\n",
      "Read MNIST data\n",
      "Done\n",
      "Algorithm: LSH\n",
      "Query: 0\n",
      "Query: 1\n",
      "Query: 2\n",
      "Query: 3\n",
      "Query: 4\n",
      "Query: 5\n",
      "Query: 6\n",
      "Query: 7\n",
      "Query: 8\n",
      "Query: 9\n",
      "Query: 10\n",
      "Query: 11\n",
      "Query: 12\n",
      "Query: 13\n",
      "Query: 14\n",
      "Query: 15\n",
      "Query: 16\n",
      "Query: 17\n",
      "Query: 18\n",
      "Query: 19\n",
      "Query: 20\n",
      "Query: 21\n",
      "Query: 22\n",
      "Query: 23\n",
      "Query: 24\n",
      "Query: 25\n",
      "Query: 26\n",
      "Query: 27\n",
      "Query: 28\n",
      "Query: 29\n",
      "Query: 30\n",
      "Query: 31\n",
      "Query: 32\n",
      "Query: 33\n",
      "Query: 34\n",
      "Query: 35\n",
      "Query: 36\n",
      "Query: 37\n",
      "Query: 38\n",
      "Query: 39\n",
      "Query: 40\n",
      "Query: 41\n",
      "Query: 42\n",
      "Query: 43\n",
      "Query: 44\n",
      "Query: 45\n",
      "Query: 46\n",
      "Query: 47\n",
      "Query: 48\n",
      "Query: 49\n",
      "Query: 50\n",
      "Query: 51\n",
      "Query: 52\n",
      "Query: 53\n",
      "Query: 54\n",
      "Query: 55\n",
      "Query: 56\n",
      "Query: 57\n",
      "Query: 58\n",
      "Query: 59\n",
      "Query: 60\n",
      "Query: 61\n",
      "Query: 62\n",
      "Query: 63\n",
      "Query: 64\n",
      "Query: 65\n",
      "Query: 66\n",
      "Query: 67\n",
      "Query: 68\n",
      "Query: 69\n",
      "Query: 70\n",
      "Query: 71\n",
      "Query: 72\n",
      "Query: 73\n",
      "Query: 74\n",
      "Query: 75\n",
      "Query: 76\n",
      "Query: 77\n",
      "Query: 78\n",
      "Query: 79\n",
      "Query: 80\n",
      "Query: 81\n",
      "Query: 82\n",
      "Query: 83\n",
      "Query: 84\n",
      "Query: 85\n",
      "Query: 86\n",
      "Query: 87\n",
      "Query: 88\n",
      "Query: 89\n",
      "Query: 90\n",
      "Query: 91\n",
      "Query: 92\n",
      "Query: 93\n",
      "Query: 94\n",
      "Query: 95\n",
      "Query: 96\n",
      "Query: 97\n",
      "Query: 98\n",
      "Query: 99\n"
     ]
    },
    {
     "name": "stderr",
     "output_type": "stream",
     "text": [
      "[I 2023-11-26 16:45:44,739] Trial 37 finished with values: [1.0047270162049746, 0.13586912999999995] and parameters: {'k': 5, 'L': 8, 'table_size': 15000, 'window_size': 3602, 'query_trick': True}. \n"
     ]
    },
    {
     "name": "stdout",
     "output_type": "stream",
     "text": [
      "Trial parameters: {'k': 8, 'L': 7, 'table_size': 15000, 'window_size': 1004, 'query_trick': True}\n",
      "Read MNIST data\n",
      "Done\n",
      "Algorithm: LSH\n",
      "Query: 0\n",
      "Query: 1\n",
      "Query: 2\n",
      "Query: 3\n",
      "Query: 4\n",
      "Query: 5\n",
      "Query: 6\n",
      "Query: 7\n",
      "Query: 8\n",
      "Query: 9\n",
      "Query: 10\n",
      "Query: 11\n",
      "Query: 12\n",
      "Query: 13\n",
      "Query: 14\n",
      "Query: 15\n",
      "Query: 16\n",
      "Query: 17\n",
      "Query: 18\n",
      "Query: 19\n",
      "Query: 20\n",
      "Query: 21\n",
      "Query: 22\n",
      "Query: 23\n",
      "Query: 24\n",
      "Query: 25\n",
      "Query: 26\n",
      "Query: 27\n",
      "Query: 28\n",
      "Query: 29\n",
      "Query: 30\n",
      "Query: 31\n",
      "Query: 32\n",
      "Query: 33\n",
      "Query: 34\n",
      "Query: 35\n",
      "Query: 36\n",
      "Query: 37\n",
      "Query: 38\n",
      "Query: 39\n",
      "Query: 40\n",
      "Query: 41\n",
      "Query: 42\n",
      "Query: 43\n",
      "Query: 44\n",
      "Query: 45\n",
      "Query: 46\n",
      "Query: 47\n",
      "Query: 48\n",
      "Query: 49\n",
      "Query: 50\n",
      "Query: 51\n",
      "Query: 52\n",
      "Query: 53\n",
      "Query: 54\n",
      "Query: 55\n",
      "Query: 56\n",
      "Query: 57\n",
      "Query: 58\n",
      "Query: 59\n",
      "Query: 60\n",
      "Query: 61\n",
      "Query: 62\n",
      "Query: 63\n",
      "Query: 64\n",
      "Query: 65\n",
      "Query: 66\n",
      "Query: 67\n",
      "Query: 68\n",
      "Query: 69\n",
      "Query: 70\n",
      "Query: 71\n",
      "Query: 72\n",
      "Query: 73\n",
      "Query: 74\n",
      "Query: 75\n",
      "Query: 76\n",
      "Query: 77\n",
      "Query: 78\n",
      "Query: 79\n",
      "Query: 80\n",
      "Query: 81\n",
      "Query: 82\n",
      "Query: 83\n",
      "Query: 84\n",
      "Query: 85\n",
      "Query: 86\n",
      "Query: 87\n",
      "Query: 88\n",
      "Query: 89\n",
      "Query: 90\n",
      "Query: 91\n",
      "Query: 92\n",
      "Query: 93\n",
      "Query: 94\n",
      "Query: 95\n",
      "Query: 96\n",
      "Query: 97\n",
      "Query: 98\n",
      "Query: 99\n"
     ]
    },
    {
     "name": "stderr",
     "output_type": "stream",
     "text": [
      "[I 2023-11-26 16:46:36,367] Trial 38 finished with values: [1.7976931348623157e+308, 0.0007511599999999998] and parameters: {'k': 8, 'L': 7, 'table_size': 15000, 'window_size': 1004, 'query_trick': True}. \n"
     ]
    },
    {
     "name": "stdout",
     "output_type": "stream",
     "text": [
      "Trial parameters: {'k': 4, 'L': 4, 'table_size': 3750, 'window_size': 1043, 'query_trick': False}\n",
      "Read MNIST data\n",
      "Done\n",
      "Algorithm: LSH\n",
      "Query: 0\n",
      "Query: 1\n",
      "Query: 2\n",
      "Query: 3\n",
      "Query: 4\n",
      "Query: 5\n",
      "Query: 6\n",
      "Query: 7\n",
      "Query: 8\n",
      "Query: 9\n",
      "Query: 10\n",
      "Query: 11\n",
      "Query: 12\n",
      "Query: 13\n",
      "Query: 14\n",
      "Query: 15\n",
      "Query: 16\n",
      "Query: 17\n",
      "Query: 18\n",
      "Query: 19\n",
      "Query: 20\n",
      "Query: 21\n",
      "Query: 22\n",
      "Query: 23\n",
      "Query: 24\n",
      "Query: 25\n",
      "Query: 26\n",
      "Query: 27\n",
      "Query: 28\n",
      "Query: 29\n",
      "Query: 30\n",
      "Query: 31\n",
      "Query: 32\n",
      "Query: 33\n",
      "Query: 34\n",
      "Query: 35\n",
      "Query: 36\n",
      "Query: 37\n",
      "Query: 38\n",
      "Query: 39\n",
      "Query: 40\n",
      "Query: 41\n",
      "Query: 42\n",
      "Query: 43\n",
      "Query: 44\n",
      "Query: 45\n",
      "Query: 46\n",
      "Query: 47\n",
      "Query: 48\n",
      "Query: 49\n",
      "Query: 50\n",
      "Query: 51\n",
      "Query: 52\n",
      "Query: 53\n",
      "Query: 54\n",
      "Query: 55\n",
      "Query: 56\n",
      "Query: 57\n",
      "Query: 58\n",
      "Query: 59\n",
      "Query: 60\n",
      "Query: 61\n",
      "Query: 62\n",
      "Query: 63\n",
      "Query: 64\n",
      "Query: 65\n",
      "Query: 66\n",
      "Query: 67\n",
      "Query: 68\n",
      "Query: 69\n",
      "Query: 70\n",
      "Query: 71\n",
      "Query: 72\n",
      "Query: 73\n",
      "Query: 74\n",
      "Query: 75\n",
      "Query: 76\n",
      "Query: 77\n",
      "Query: 78\n",
      "Query: 79\n",
      "Query: 80\n",
      "Query: 81\n",
      "Query: 82\n",
      "Query: 83\n",
      "Query: 84\n",
      "Query: 85\n",
      "Query: 86\n",
      "Query: 87\n",
      "Query: 88\n",
      "Query: 89\n",
      "Query: 90\n",
      "Query: 91\n",
      "Query: 92\n",
      "Query: 93\n",
      "Query: 94\n",
      "Query: 95\n",
      "Query: 96\n",
      "Query: 97\n",
      "Query: 98\n",
      "Query: 99\n"
     ]
    },
    {
     "name": "stderr",
     "output_type": "stream",
     "text": [
      "[I 2023-11-26 16:47:15,056] Trial 39 finished with values: [1.4230298958584962, 0.003321590000000001] and parameters: {'k': 4, 'L': 4, 'table_size': 3750, 'window_size': 1043, 'query_trick': False}. \n"
     ]
    },
    {
     "name": "stdout",
     "output_type": "stream",
     "text": [
      "Trial parameters: {'k': 5, 'L': 2, 'table_size': 3750, 'window_size': 1087, 'query_trick': False}\n",
      "Read MNIST data\n",
      "Done\n",
      "Algorithm: LSH\n",
      "Query: 0\n",
      "Query: 1\n",
      "Query: 2\n",
      "Query: 3\n",
      "Query: 4\n",
      "Query: 5\n",
      "Query: 6\n",
      "Query: 7\n",
      "Query: 8\n",
      "Query: 9\n",
      "Query: 10\n",
      "Query: 11\n",
      "Query: 12\n",
      "Query: 13\n",
      "Query: 14\n",
      "Query: 15\n",
      "Query: 16\n",
      "Query: 17\n",
      "Query: 18\n",
      "Query: 19\n",
      "Query: 20\n",
      "Query: 21\n",
      "Query: 22\n",
      "Query: 23\n",
      "Query: 24\n",
      "Query: 25\n",
      "Query: 26\n",
      "Query: 27\n",
      "Query: 28\n",
      "Query: 29\n",
      "Query: 30\n",
      "Query: 31\n",
      "Query: 32\n",
      "Query: 33\n",
      "Query: 34\n",
      "Query: 35\n",
      "Query: 36\n",
      "Query: 37\n",
      "Query: 38\n",
      "Query: 39\n",
      "Query: 40\n",
      "Query: 41\n",
      "Query: 42\n",
      "Query: 43\n",
      "Query: 44\n",
      "Query: 45\n",
      "Query: 46\n",
      "Query: 47\n",
      "Query: 48\n",
      "Query: 49\n",
      "Query: 50\n",
      "Query: 51\n",
      "Query: 52\n",
      "Query: 53\n",
      "Query: 54\n",
      "Query: 55\n",
      "Query: 56\n",
      "Query: 57\n",
      "Query: 58\n",
      "Query: 59\n",
      "Query: 60\n",
      "Query: 61\n",
      "Query: 62\n",
      "Query: 63\n",
      "Query: 64\n",
      "Query: 65\n",
      "Query: 66\n",
      "Query: 67\n",
      "Query: 68\n",
      "Query: 69\n",
      "Query: 70\n",
      "Query: 71\n",
      "Query: 72\n",
      "Query: 73\n",
      "Query: 74\n",
      "Query: 75\n",
      "Query: 76\n",
      "Query: 77\n",
      "Query: 78\n",
      "Query: 79\n",
      "Query: 80\n",
      "Query: 81\n",
      "Query: 82\n",
      "Query: 83\n",
      "Query: 84\n",
      "Query: 85\n",
      "Query: 86\n",
      "Query: 87\n",
      "Query: 88\n",
      "Query: 89\n",
      "Query: 90\n",
      "Query: 91\n",
      "Query: 92\n",
      "Query: 93\n",
      "Query: 94\n",
      "Query: 95\n",
      "Query: 96\n",
      "Query: 97\n",
      "Query: 98\n",
      "Query: 99\n"
     ]
    },
    {
     "name": "stderr",
     "output_type": "stream",
     "text": [
      "[I 2023-11-26 16:47:48,169] Trial 40 finished with values: [2.1746663295131157, 0.0010110499999999997] and parameters: {'k': 5, 'L': 2, 'table_size': 3750, 'window_size': 1087, 'query_trick': False}. \n"
     ]
    },
    {
     "name": "stdout",
     "output_type": "stream",
     "text": [
      "Trial parameters: {'k': 6, 'L': 8, 'table_size': 3750, 'window_size': 3274, 'query_trick': False}\n",
      "Read MNIST data\n",
      "Done\n",
      "Algorithm: LSH\n",
      "Query: 0\n",
      "Query: 1\n",
      "Query: 2\n",
      "Query: 3\n",
      "Query: 4\n",
      "Query: 5\n",
      "Query: 6\n",
      "Query: 7\n",
      "Query: 8\n",
      "Query: 9\n",
      "Query: 10\n",
      "Query: 11\n",
      "Query: 12\n",
      "Query: 13\n",
      "Query: 14\n",
      "Query: 15\n",
      "Query: 16\n",
      "Query: 17\n",
      "Query: 18\n",
      "Query: 19\n",
      "Query: 20\n",
      "Query: 21\n",
      "Query: 22\n",
      "Query: 23\n",
      "Query: 24\n",
      "Query: 25\n",
      "Query: 26\n",
      "Query: 27\n",
      "Query: 28\n",
      "Query: 29\n",
      "Query: 30\n",
      "Query: 31\n",
      "Query: 32\n",
      "Query: 33\n",
      "Query: 34\n",
      "Query: 35\n",
      "Query: 36\n",
      "Query: 37\n",
      "Query: 38\n",
      "Query: 39\n",
      "Query: 40\n",
      "Query: 41\n",
      "Query: 42\n",
      "Query: 43\n",
      "Query: 44\n",
      "Query: 45\n",
      "Query: 46\n",
      "Query: 47\n",
      "Query: 48\n",
      "Query: 49\n",
      "Query: 50\n",
      "Query: 51\n",
      "Query: 52\n",
      "Query: 53\n",
      "Query: 54\n",
      "Query: 55\n",
      "Query: 56\n",
      "Query: 57\n",
      "Query: 58\n",
      "Query: 59\n",
      "Query: 60\n",
      "Query: 61\n",
      "Query: 62\n",
      "Query: 63\n",
      "Query: 64\n",
      "Query: 65\n",
      "Query: 66\n",
      "Query: 67\n",
      "Query: 68\n",
      "Query: 69\n",
      "Query: 70\n",
      "Query: 71\n",
      "Query: 72\n",
      "Query: 73\n",
      "Query: 74\n",
      "Query: 75\n",
      "Query: 76\n",
      "Query: 77\n",
      "Query: 78\n",
      "Query: 79\n",
      "Query: 80\n",
      "Query: 81\n",
      "Query: 82\n",
      "Query: 83\n",
      "Query: 84\n",
      "Query: 85\n",
      "Query: 86\n",
      "Query: 87\n",
      "Query: 88\n",
      "Query: 89\n",
      "Query: 90\n",
      "Query: 91\n",
      "Query: 92\n",
      "Query: 93\n",
      "Query: 94\n",
      "Query: 95\n",
      "Query: 96\n",
      "Query: 97\n",
      "Query: 98\n",
      "Query: 99\n"
     ]
    },
    {
     "name": "stderr",
     "output_type": "stream",
     "text": [
      "[I 2023-11-26 16:48:45,025] Trial 41 finished with values: [1.0099462609224377, 0.09728096999999998] and parameters: {'k': 6, 'L': 8, 'table_size': 3750, 'window_size': 3274, 'query_trick': False}. \n"
     ]
    },
    {
     "name": "stdout",
     "output_type": "stream",
     "text": [
      "Trial parameters: {'k': 3, 'L': 4, 'table_size': 15000, 'window_size': 4249, 'query_trick': False}\n",
      "Read MNIST data\n",
      "Done\n",
      "Algorithm: LSH\n",
      "Query: 0\n",
      "Query: 1\n",
      "Query: 2\n",
      "Query: 3\n",
      "Query: 4\n",
      "Query: 5\n",
      "Query: 6\n",
      "Query: 7\n",
      "Query: 8\n",
      "Query: 9\n",
      "Query: 10\n",
      "Query: 11\n",
      "Query: 12\n",
      "Query: 13\n",
      "Query: 14\n",
      "Query: 15\n",
      "Query: 16\n",
      "Query: 17\n",
      "Query: 18\n",
      "Query: 19\n",
      "Query: 20\n",
      "Query: 21\n",
      "Query: 22\n",
      "Query: 23\n",
      "Query: 24\n",
      "Query: 25\n",
      "Query: 26\n",
      "Query: 27\n",
      "Query: 28\n",
      "Query: 29\n",
      "Query: 30\n",
      "Query: 31\n",
      "Query: 32\n",
      "Query: 33\n",
      "Query: 34\n",
      "Query: 35\n",
      "Query: 36\n",
      "Query: 37\n",
      "Query: 38\n",
      "Query: 39\n",
      "Query: 40\n",
      "Query: 41\n",
      "Query: 42\n",
      "Query: 43\n",
      "Query: 44\n",
      "Query: 45\n",
      "Query: 46\n",
      "Query: 47\n",
      "Query: 48\n",
      "Query: 49\n",
      "Query: 50\n",
      "Query: 51\n",
      "Query: 52\n",
      "Query: 53\n",
      "Query: 54\n",
      "Query: 55\n",
      "Query: 56\n",
      "Query: 57\n",
      "Query: 58\n",
      "Query: 59\n",
      "Query: 60\n",
      "Query: 61\n",
      "Query: 62\n",
      "Query: 63\n",
      "Query: 64\n",
      "Query: 65\n",
      "Query: 66\n",
      "Query: 67\n",
      "Query: 68\n",
      "Query: 69\n",
      "Query: 70\n",
      "Query: 71\n",
      "Query: 72\n",
      "Query: 73\n",
      "Query: 74\n",
      "Query: 75\n",
      "Query: 76\n",
      "Query: 77\n",
      "Query: 78\n",
      "Query: 79\n",
      "Query: 80\n",
      "Query: 81\n",
      "Query: 82\n",
      "Query: 83\n",
      "Query: 84\n",
      "Query: 85\n",
      "Query: 86\n",
      "Query: 87\n",
      "Query: 88\n",
      "Query: 89\n",
      "Query: 90\n",
      "Query: 91\n",
      "Query: 92\n",
      "Query: 93\n",
      "Query: 94\n",
      "Query: 95\n",
      "Query: 96\n",
      "Query: 97\n",
      "Query: 98\n",
      "Query: 99\n"
     ]
    },
    {
     "name": "stderr",
     "output_type": "stream",
     "text": [
      "[I 2023-11-26 16:49:39,408] Trial 42 finished with values: [1.0, 0.22630350999999993] and parameters: {'k': 3, 'L': 4, 'table_size': 15000, 'window_size': 4249, 'query_trick': False}. \n"
     ]
    },
    {
     "name": "stdout",
     "output_type": "stream",
     "text": [
      "Trial parameters: {'k': 4, 'L': 4, 'table_size': 15000, 'window_size': 4137, 'query_trick': True}\n",
      "Read MNIST data\n",
      "Done\n",
      "Algorithm: LSH\n",
      "Query: 0\n",
      "Query: 1\n",
      "Query: 2\n",
      "Query: 3\n",
      "Query: 4\n",
      "Query: 5\n",
      "Query: 6\n",
      "Query: 7\n",
      "Query: 8\n",
      "Query: 9\n",
      "Query: 10\n",
      "Query: 11\n",
      "Query: 12\n",
      "Query: 13\n",
      "Query: 14\n",
      "Query: 15\n",
      "Query: 16\n",
      "Query: 17\n",
      "Query: 18\n",
      "Query: 19\n",
      "Query: 20\n",
      "Query: 21\n",
      "Query: 22\n",
      "Query: 23\n",
      "Query: 24\n",
      "Query: 25\n",
      "Query: 26\n",
      "Query: 27\n",
      "Query: 28\n",
      "Query: 29\n",
      "Query: 30\n",
      "Query: 31\n",
      "Query: 32\n",
      "Query: 33\n",
      "Query: 34\n",
      "Query: 35\n",
      "Query: 36\n",
      "Query: 37\n",
      "Query: 38\n",
      "Query: 39\n",
      "Query: 40\n",
      "Query: 41\n",
      "Query: 42\n",
      "Query: 43\n",
      "Query: 44\n",
      "Query: 45\n",
      "Query: 46\n",
      "Query: 47\n",
      "Query: 48\n",
      "Query: 49\n",
      "Query: 50\n",
      "Query: 51\n",
      "Query: 52\n",
      "Query: 53\n",
      "Query: 54\n",
      "Query: 55\n",
      "Query: 56\n",
      "Query: 57\n",
      "Query: 58\n",
      "Query: 59\n",
      "Query: 60\n",
      "Query: 61\n",
      "Query: 62\n",
      "Query: 63\n",
      "Query: 64\n",
      "Query: 65\n",
      "Query: 66\n",
      "Query: 67\n",
      "Query: 68\n",
      "Query: 69\n",
      "Query: 70\n",
      "Query: 71\n",
      "Query: 72\n",
      "Query: 73\n",
      "Query: 74\n",
      "Query: 75\n",
      "Query: 76\n",
      "Query: 77\n",
      "Query: 78\n",
      "Query: 79\n",
      "Query: 80\n",
      "Query: 81\n",
      "Query: 82\n",
      "Query: 83\n",
      "Query: 84\n",
      "Query: 85\n",
      "Query: 86\n",
      "Query: 87\n",
      "Query: 88\n",
      "Query: 89\n",
      "Query: 90\n",
      "Query: 91\n",
      "Query: 92\n",
      "Query: 93\n",
      "Query: 94\n",
      "Query: 95\n",
      "Query: 96\n",
      "Query: 97\n",
      "Query: 98\n",
      "Query: 99\n"
     ]
    },
    {
     "name": "stderr",
     "output_type": "stream",
     "text": [
      "[I 2023-11-26 16:50:29,016] Trial 43 finished with values: [1.0078619807400493, 0.15173036] and parameters: {'k': 4, 'L': 4, 'table_size': 15000, 'window_size': 4137, 'query_trick': True}. \n"
     ]
    },
    {
     "name": "stdout",
     "output_type": "stream",
     "text": [
      "Trial parameters: {'k': 6, 'L': 2, 'table_size': 3750, 'window_size': 1795, 'query_trick': True}\n",
      "Read MNIST data\n",
      "Done\n",
      "Algorithm: LSH\n",
      "Query: 0\n",
      "Query: 1\n",
      "Query: 2\n",
      "Query: 3\n",
      "Query: 4\n",
      "Query: 5\n",
      "Query: 6\n",
      "Query: 7\n",
      "Query: 8\n",
      "Query: 9\n",
      "Query: 10\n",
      "Query: 11\n",
      "Query: 12\n",
      "Query: 13\n",
      "Query: 14\n",
      "Query: 15\n",
      "Query: 16\n",
      "Query: 17\n",
      "Query: 18\n",
      "Query: 19\n",
      "Query: 20\n",
      "Query: 21\n",
      "Query: 22\n",
      "Query: 23\n",
      "Query: 24\n",
      "Query: 25\n",
      "Query: 26\n",
      "Query: 27\n",
      "Query: 28\n",
      "Query: 29\n",
      "Query: 30\n",
      "Query: 31\n",
      "Query: 32\n",
      "Query: 33\n",
      "Query: 34\n",
      "Query: 35\n",
      "Query: 36\n",
      "Query: 37\n",
      "Query: 38\n",
      "Query: 39\n",
      "Query: 40\n",
      "Query: 41\n",
      "Query: 42\n",
      "Query: 43\n",
      "Query: 44\n",
      "Query: 45\n",
      "Query: 46\n",
      "Query: 47\n",
      "Query: 48\n",
      "Query: 49\n",
      "Query: 50\n",
      "Query: 51\n",
      "Query: 52\n",
      "Query: 53\n",
      "Query: 54\n",
      "Query: 55\n",
      "Query: 56\n",
      "Query: 57\n",
      "Query: 58\n",
      "Query: 59\n",
      "Query: 60\n",
      "Query: 61\n",
      "Query: 62\n",
      "Query: 63\n",
      "Query: 64\n",
      "Query: 65\n",
      "Query: 66\n",
      "Query: 67\n",
      "Query: 68\n",
      "Query: 69\n",
      "Query: 70\n",
      "Query: 71\n",
      "Query: 72\n",
      "Query: 73\n",
      "Query: 74\n",
      "Query: 75\n",
      "Query: 76\n",
      "Query: 77\n",
      "Query: 78\n",
      "Query: 79\n",
      "Query: 80\n",
      "Query: 81\n",
      "Query: 82\n",
      "Query: 83\n",
      "Query: 84\n",
      "Query: 85\n",
      "Query: 86\n",
      "Query: 87\n",
      "Query: 88\n",
      "Query: 89\n",
      "Query: 90\n",
      "Query: 91\n",
      "Query: 92\n",
      "Query: 93\n",
      "Query: 94\n",
      "Query: 95\n",
      "Query: 96\n",
      "Query: 97\n",
      "Query: 98\n",
      "Query: 99\n"
     ]
    },
    {
     "name": "stderr",
     "output_type": "stream",
     "text": [
      "[I 2023-11-26 16:51:06,479] Trial 44 finished with values: [2.3087085333945456, 0.0015362200000000007] and parameters: {'k': 6, 'L': 2, 'table_size': 3750, 'window_size': 1795, 'query_trick': True}. \n"
     ]
    },
    {
     "name": "stdout",
     "output_type": "stream",
     "text": [
      "Trial parameters: {'k': 5, 'L': 10, 'table_size': 15000, 'window_size': 3534, 'query_trick': True}\n",
      "Read MNIST data\n",
      "Done\n",
      "Algorithm: LSH\n",
      "Query: 0\n",
      "Query: 1\n",
      "Query: 2\n",
      "Query: 3\n",
      "Query: 4\n",
      "Query: 5\n",
      "Query: 6\n",
      "Query: 7\n",
      "Query: 8\n",
      "Query: 9\n",
      "Query: 10\n",
      "Query: 11\n",
      "Query: 12\n",
      "Query: 13\n",
      "Query: 14\n",
      "Query: 15\n",
      "Query: 16\n",
      "Query: 17\n",
      "Query: 18\n",
      "Query: 19\n",
      "Query: 20\n",
      "Query: 21\n",
      "Query: 22\n",
      "Query: 23\n",
      "Query: 24\n",
      "Query: 25\n",
      "Query: 26\n",
      "Query: 27\n",
      "Query: 28\n",
      "Query: 29\n",
      "Query: 30\n",
      "Query: 31\n",
      "Query: 32\n",
      "Query: 33\n",
      "Query: 34\n",
      "Query: 35\n",
      "Query: 36\n",
      "Query: 37\n",
      "Query: 38\n",
      "Query: 39\n",
      "Query: 40\n",
      "Query: 41\n",
      "Query: 42\n",
      "Query: 43\n",
      "Query: 44\n",
      "Query: 45\n",
      "Query: 46\n",
      "Query: 47\n",
      "Query: 48\n",
      "Query: 49\n",
      "Query: 50\n",
      "Query: 51\n",
      "Query: 52\n",
      "Query: 53\n",
      "Query: 54\n",
      "Query: 55\n",
      "Query: 56\n",
      "Query: 57\n",
      "Query: 58\n",
      "Query: 59\n",
      "Query: 60\n",
      "Query: 61\n",
      "Query: 62\n",
      "Query: 63\n",
      "Query: 64\n",
      "Query: 65\n",
      "Query: 66\n",
      "Query: 67\n",
      "Query: 68\n",
      "Query: 69\n",
      "Query: 70\n",
      "Query: 71\n",
      "Query: 72\n",
      "Query: 73\n",
      "Query: 74\n",
      "Query: 75\n",
      "Query: 76\n",
      "Query: 77\n",
      "Query: 78\n",
      "Query: 79\n",
      "Query: 80\n",
      "Query: 81\n",
      "Query: 82\n",
      "Query: 83\n",
      "Query: 84\n",
      "Query: 85\n",
      "Query: 86\n",
      "Query: 87\n",
      "Query: 88\n",
      "Query: 89\n",
      "Query: 90\n",
      "Query: 91\n",
      "Query: 92\n",
      "Query: 93\n",
      "Query: 94\n",
      "Query: 95\n",
      "Query: 96\n",
      "Query: 97\n",
      "Query: 98\n",
      "Query: 99\n"
     ]
    },
    {
     "name": "stderr",
     "output_type": "stream",
     "text": [
      "[I 2023-11-26 16:52:19,552] Trial 45 finished with values: [1.0001115268410337, 0.23279205] and parameters: {'k': 5, 'L': 10, 'table_size': 15000, 'window_size': 3534, 'query_trick': True}. \n"
     ]
    },
    {
     "name": "stdout",
     "output_type": "stream",
     "text": [
      "Trial parameters: {'k': 10, 'L': 5, 'table_size': 15000, 'window_size': 3585, 'query_trick': False}\n",
      "Read MNIST data\n",
      "Done\n",
      "Algorithm: LSH\n",
      "Query: 0\n",
      "Query: 1\n",
      "Query: 2\n",
      "Query: 3\n",
      "Query: 4\n",
      "Query: 5\n",
      "Query: 6\n",
      "Query: 7\n",
      "Query: 8\n",
      "Query: 9\n",
      "Query: 10\n",
      "Query: 11\n",
      "Query: 12\n",
      "Query: 13\n",
      "Query: 14\n",
      "Query: 15\n",
      "Query: 16\n",
      "Query: 17\n",
      "Query: 18\n",
      "Query: 19\n",
      "Query: 20\n",
      "Query: 21\n",
      "Query: 22\n",
      "Query: 23\n",
      "Query: 24\n",
      "Query: 25\n",
      "Query: 26\n",
      "Query: 27\n",
      "Query: 28\n",
      "Query: 29\n",
      "Query: 30\n",
      "Query: 31\n",
      "Query: 32\n",
      "Query: 33\n",
      "Query: 34\n",
      "Query: 35\n",
      "Query: 36\n",
      "Query: 37\n",
      "Query: 38\n",
      "Query: 39\n",
      "Query: 40\n",
      "Query: 41\n",
      "Query: 42\n",
      "Query: 43\n",
      "Query: 44\n",
      "Query: 45\n",
      "Query: 46\n",
      "Query: 47\n",
      "Query: 48\n",
      "Query: 49\n",
      "Query: 50\n",
      "Query: 51\n",
      "Query: 52\n",
      "Query: 53\n",
      "Query: 54\n",
      "Query: 55\n",
      "Query: 56\n",
      "Query: 57\n",
      "Query: 58\n",
      "Query: 59\n",
      "Query: 60\n",
      "Query: 61\n",
      "Query: 62\n",
      "Query: 63\n",
      "Query: 64\n",
      "Query: 65\n",
      "Query: 66\n",
      "Query: 67\n",
      "Query: 68\n",
      "Query: 69\n",
      "Query: 70\n",
      "Query: 71\n",
      "Query: 72\n",
      "Query: 73\n",
      "Query: 74\n",
      "Query: 75\n",
      "Query: 76\n",
      "Query: 77\n",
      "Query: 78\n",
      "Query: 79\n",
      "Query: 80\n",
      "Query: 81\n",
      "Query: 82\n",
      "Query: 83\n",
      "Query: 84\n",
      "Query: 85\n",
      "Query: 86\n",
      "Query: 87\n",
      "Query: 88\n",
      "Query: 89\n",
      "Query: 90\n",
      "Query: 91\n",
      "Query: 92\n",
      "Query: 93\n",
      "Query: 94\n",
      "Query: 95\n",
      "Query: 96\n",
      "Query: 97\n",
      "Query: 98\n",
      "Query: 99\n"
     ]
    },
    {
     "name": "stderr",
     "output_type": "stream",
     "text": [
      "[I 2023-11-26 16:53:08,910] Trial 46 finished with values: [1.1113900452814391, 0.01997564] and parameters: {'k': 10, 'L': 5, 'table_size': 15000, 'window_size': 3585, 'query_trick': False}. \n"
     ]
    },
    {
     "name": "stdout",
     "output_type": "stream",
     "text": [
      "Trial parameters: {'k': 7, 'L': 8, 'table_size': 3750, 'window_size': 3304, 'query_trick': False}\n",
      "Read MNIST data\n",
      "Done\n",
      "Algorithm: LSH\n",
      "Query: 0\n",
      "Query: 1\n",
      "Query: 2\n",
      "Query: 3\n",
      "Query: 4\n",
      "Query: 5\n",
      "Query: 6\n",
      "Query: 7\n",
      "Query: 8\n",
      "Query: 9\n",
      "Query: 10\n",
      "Query: 11\n",
      "Query: 12\n",
      "Query: 13\n",
      "Query: 14\n",
      "Query: 15\n",
      "Query: 16\n",
      "Query: 17\n",
      "Query: 18\n",
      "Query: 19\n",
      "Query: 20\n",
      "Query: 21\n",
      "Query: 22\n",
      "Query: 23\n",
      "Query: 24\n",
      "Query: 25\n",
      "Query: 26\n",
      "Query: 27\n",
      "Query: 28\n",
      "Query: 29\n",
      "Query: 30\n",
      "Query: 31\n",
      "Query: 32\n",
      "Query: 33\n",
      "Query: 34\n",
      "Query: 35\n",
      "Query: 36\n",
      "Query: 37\n",
      "Query: 38\n",
      "Query: 39\n",
      "Query: 40\n",
      "Query: 41\n",
      "Query: 42\n",
      "Query: 43\n",
      "Query: 44\n",
      "Query: 45\n",
      "Query: 46\n",
      "Query: 47\n",
      "Query: 48\n",
      "Query: 49\n",
      "Query: 50\n",
      "Query: 51\n",
      "Query: 52\n",
      "Query: 53\n",
      "Query: 54\n",
      "Query: 55\n",
      "Query: 56\n",
      "Query: 57\n",
      "Query: 58\n",
      "Query: 59\n",
      "Query: 60\n",
      "Query: 61\n",
      "Query: 62\n",
      "Query: 63\n",
      "Query: 64\n",
      "Query: 65\n",
      "Query: 66\n",
      "Query: 67\n",
      "Query: 68\n",
      "Query: 69\n",
      "Query: 70\n",
      "Query: 71\n",
      "Query: 72\n",
      "Query: 73\n",
      "Query: 74\n",
      "Query: 75\n",
      "Query: 76\n",
      "Query: 77\n",
      "Query: 78\n",
      "Query: 79\n",
      "Query: 80\n",
      "Query: 81\n",
      "Query: 82\n",
      "Query: 83\n",
      "Query: 84\n",
      "Query: 85\n",
      "Query: 86\n",
      "Query: 87\n",
      "Query: 88\n",
      "Query: 89\n",
      "Query: 90\n",
      "Query: 91\n",
      "Query: 92\n",
      "Query: 93\n",
      "Query: 94\n",
      "Query: 95\n",
      "Query: 96\n",
      "Query: 97\n",
      "Query: 98\n",
      "Query: 99\n"
     ]
    },
    {
     "name": "stderr",
     "output_type": "stream",
     "text": [
      "[I 2023-11-26 16:54:04,554] Trial 47 finished with values: [1.0157488177897585, 0.06259387] and parameters: {'k': 7, 'L': 8, 'table_size': 3750, 'window_size': 3304, 'query_trick': False}. \n"
     ]
    },
    {
     "name": "stdout",
     "output_type": "stream",
     "text": [
      "Trial parameters: {'k': 8, 'L': 9, 'table_size': 15000, 'window_size': 2242, 'query_trick': False}\n",
      "Read MNIST data\n",
      "Done\n",
      "Algorithm: LSH\n",
      "Query: 0\n",
      "Query: 1\n",
      "Query: 2\n",
      "Query: 3\n",
      "Query: 4\n",
      "Query: 5\n",
      "Query: 6\n",
      "Query: 7\n",
      "Query: 8\n",
      "Query: 9\n",
      "Query: 10\n",
      "Query: 11\n",
      "Query: 12\n",
      "Query: 13\n",
      "Query: 14\n",
      "Query: 15\n",
      "Query: 16\n",
      "Query: 17\n",
      "Query: 18\n",
      "Query: 19\n",
      "Query: 20\n",
      "Query: 21\n",
      "Query: 22\n",
      "Query: 23\n",
      "Query: 24\n",
      "Query: 25\n",
      "Query: 26\n",
      "Query: 27\n",
      "Query: 28\n",
      "Query: 29\n",
      "Query: 30\n",
      "Query: 31\n",
      "Query: 32\n",
      "Query: 33\n",
      "Query: 34\n",
      "Query: 35\n",
      "Query: 36\n",
      "Query: 37\n",
      "Query: 38\n",
      "Query: 39\n",
      "Query: 40\n",
      "Query: 41\n",
      "Query: 42\n",
      "Query: 43\n",
      "Query: 44\n",
      "Query: 45\n",
      "Query: 46\n",
      "Query: 47\n",
      "Query: 48\n",
      "Query: 49\n",
      "Query: 50\n",
      "Query: 51\n",
      "Query: 52\n",
      "Query: 53\n",
      "Query: 54\n",
      "Query: 55\n",
      "Query: 56\n",
      "Query: 57\n",
      "Query: 58\n",
      "Query: 59\n",
      "Query: 60\n",
      "Query: 61\n",
      "Query: 62\n",
      "Query: 63\n",
      "Query: 64\n",
      "Query: 65\n",
      "Query: 66\n",
      "Query: 67\n",
      "Query: 68\n",
      "Query: 69\n",
      "Query: 70\n",
      "Query: 71\n",
      "Query: 72\n",
      "Query: 73\n",
      "Query: 74\n",
      "Query: 75\n",
      "Query: 76\n",
      "Query: 77\n",
      "Query: 78\n",
      "Query: 79\n",
      "Query: 80\n",
      "Query: 81\n",
      "Query: 82\n",
      "Query: 83\n",
      "Query: 84\n",
      "Query: 85\n",
      "Query: 86\n",
      "Query: 87\n",
      "Query: 88\n",
      "Query: 89\n",
      "Query: 90\n",
      "Query: 91\n",
      "Query: 92\n",
      "Query: 93\n",
      "Query: 94\n",
      "Query: 95\n",
      "Query: 96\n",
      "Query: 97\n",
      "Query: 98\n",
      "Query: 99\n"
     ]
    },
    {
     "name": "stderr",
     "output_type": "stream",
     "text": [
      "[I 2023-11-26 16:55:00,642] Trial 48 finished with values: [1.152395647747845, 0.010039130000000002] and parameters: {'k': 8, 'L': 9, 'table_size': 15000, 'window_size': 2242, 'query_trick': False}. \n"
     ]
    },
    {
     "name": "stdout",
     "output_type": "stream",
     "text": [
      "Trial parameters: {'k': 3, 'L': 5, 'table_size': 7500, 'window_size': 2881, 'query_trick': True}\n",
      "Read MNIST data\n",
      "Done\n",
      "Algorithm: LSH\n",
      "Query: 0\n",
      "Query: 1\n",
      "Query: 2\n",
      "Query: 3\n",
      "Query: 4\n",
      "Query: 5\n",
      "Query: 6\n",
      "Query: 7\n",
      "Query: 8\n",
      "Query: 9\n",
      "Query: 10\n",
      "Query: 11\n",
      "Query: 12\n",
      "Query: 13\n",
      "Query: 14\n",
      "Query: 15\n",
      "Query: 16\n",
      "Query: 17\n",
      "Query: 18\n",
      "Query: 19\n",
      "Query: 20\n",
      "Query: 21\n",
      "Query: 22\n",
      "Query: 23\n",
      "Query: 24\n",
      "Query: 25\n",
      "Query: 26\n",
      "Query: 27\n",
      "Query: 28\n",
      "Query: 29\n",
      "Query: 30\n",
      "Query: 31\n",
      "Query: 32\n",
      "Query: 33\n",
      "Query: 34\n",
      "Query: 35\n",
      "Query: 36\n",
      "Query: 37\n",
      "Query: 38\n",
      "Query: 39\n",
      "Query: 40\n",
      "Query: 41\n",
      "Query: 42\n",
      "Query: 43\n",
      "Query: 44\n",
      "Query: 45\n",
      "Query: 46\n",
      "Query: 47\n",
      "Query: 48\n",
      "Query: 49\n",
      "Query: 50\n",
      "Query: 51\n",
      "Query: 52\n",
      "Query: 53\n",
      "Query: 54\n",
      "Query: 55\n",
      "Query: 56\n",
      "Query: 57\n",
      "Query: 58\n",
      "Query: 59\n",
      "Query: 60\n",
      "Query: 61\n",
      "Query: 62\n",
      "Query: 63\n",
      "Query: 64\n",
      "Query: 65\n",
      "Query: 66\n",
      "Query: 67\n",
      "Query: 68\n",
      "Query: 69\n",
      "Query: 70\n",
      "Query: 71\n",
      "Query: 72\n",
      "Query: 73\n",
      "Query: 74\n",
      "Query: 75\n",
      "Query: 76\n",
      "Query: 77\n",
      "Query: 78\n",
      "Query: 79\n",
      "Query: 80\n",
      "Query: 81\n",
      "Query: 82\n",
      "Query: 83\n",
      "Query: 84\n",
      "Query: 85\n",
      "Query: 86\n",
      "Query: 87\n",
      "Query: 88\n",
      "Query: 89\n",
      "Query: 90\n",
      "Query: 91\n",
      "Query: 92\n",
      "Query: 93\n",
      "Query: 94\n",
      "Query: 95\n",
      "Query: 96\n",
      "Query: 97\n",
      "Query: 98\n",
      "Query: 99\n"
     ]
    },
    {
     "name": "stderr",
     "output_type": "stream",
     "text": [
      "[I 2023-11-26 16:55:50,453] Trial 49 finished with values: [1.0152371815700856, 0.14100393999999997] and parameters: {'k': 3, 'L': 5, 'table_size': 7500, 'window_size': 2881, 'query_trick': True}. \n"
     ]
    },
    {
     "name": "stdout",
     "output_type": "stream",
     "text": [
      "-------------------- Best trials --------------------\n",
      "Trial no. 31\n",
      " Values = [1.0, 0.15069452999999997], Constraints = (0, 0.14069452999999996)\n",
      " Params = {'k': 6, 'L': 10, 'table_size': 3750, 'window_size': 3677, 'query_trick': True}\n",
      "Trial no. 2\n",
      " Values = [1.0016436954345849, 0.12031295999999997], Constraints = (0, 0.11031295999999997)\n",
      " Params = {'k': 4, 'L': 8, 'table_size': 3750, 'window_size': 2921, 'query_trick': True}\n",
      "Trial no. 20\n",
      " Values = [1.0019077119803148, 0.09559584999999998], Constraints = (0, 0.08559584999999999)\n",
      " Params = {'k': 5, 'L': 7, 'table_size': 3750, 'window_size': 2805, 'query_trick': True}\n",
      "Trial no. 9\n",
      " Values = [1.01098321046841, 0.07159987000000002], Constraints = (0, 0.06159987000000002)\n",
      " Params = {'k': 9, 'L': 6, 'table_size': 7500, 'window_size': 4659, 'query_trick': True}\n",
      "Trial no. 47\n",
      " Values = [1.0157488177897585, 0.06259387], Constraints = (0, 0.052593869999999994)\n",
      " Params = {'k': 7, 'L': 8, 'table_size': 3750, 'window_size': 3304, 'query_trick': False}\n",
      "Trial no. 36\n",
      " Values = [1.031194777022799, 0.05635063000000003], Constraints = (0, 0.046350630000000025)\n",
      " Params = {'k': 3, 'L': 4, 'table_size': 15000, 'window_size': 2151, 'query_trick': True}\n",
      "Trial no. 32\n",
      " Values = [1.0369902545654195, 0.03694716000000002], Constraints = (0, 0.02694716000000002)\n",
      " Params = {'k': 10, 'L': 5, 'table_size': 7500, 'window_size': 4069, 'query_trick': True}\n",
      "Trial no. 34\n",
      " Values = [1.110830626913023, 0.02293467], Constraints = (0, 0.01293467)\n",
      " Params = {'k': 4, 'L': 4, 'table_size': 3750, 'window_size': 1754, 'query_trick': False}\n",
      "Trial no. 46\n",
      " Values = [1.1113900452814391, 0.01997564], Constraints = (0, 0.00997564)\n",
      " Params = {'k': 10, 'L': 5, 'table_size': 15000, 'window_size': 3585, 'query_trick': False}\n",
      "Trial no. 48\n",
      " Values = [1.152395647747845, 0.010039130000000002], Constraints = (0, 3.91300000000018e-05)\n",
      " Params = {'k': 8, 'L': 9, 'table_size': 15000, 'window_size': 2242, 'query_trick': False}\n",
      "Trial no. 23\n",
      " Values = [1.2845873022975078, 0.00703459], Constraints = (0, -0.00296541)\n",
      " Params = {'k': 10, 'L': 6, 'table_size': 7500, 'window_size': 2609, 'query_trick': True}\n",
      "Trial no. 35\n",
      " Values = [1.3211970432230733, 0.0032278300000000005], Constraints = (0, -0.006772169999999999)\n",
      " Params = {'k': 7, 'L': 10, 'table_size': 3750, 'window_size': 1532, 'query_trick': False}\n",
      "Trial no. 21\n",
      " Values = [1.3606075712715895, 0.0026778199999999996], Constraints = (0, -0.007322180000000001)\n",
      " Params = {'k': 7, 'L': 4, 'table_size': 15000, 'window_size': 1815, 'query_trick': False}\n",
      "Trial no. 16\n",
      " Values = [1.692785172031265, 0.002109440000000001], Constraints = (59, -0.00789056)\n",
      " Params = {'k': 8, 'L': 2, 'table_size': 15000, 'window_size': 1951, 'query_trick': True}\n",
      "Trial no. 33\n",
      " Values = [1.7231291614122928, 0.0014273500000000002], Constraints = (0, -0.00857265)\n",
      " Params = {'k': 8, 'L': 10, 'table_size': 3750, 'window_size': 1206, 'query_trick': False}\n",
      "Trial no. 15\n",
      " Values = [1.7405303517508866, 0.0013091200000000006], Constraints = (0, -0.00869088)\n",
      " Params = {'k': 10, 'L': 9, 'table_size': 3750, 'window_size': 1439, 'query_trick': False}\n",
      "Trial no. 40\n",
      " Values = [2.1746663295131157, 0.0010110499999999997], Constraints = (55, -0.00898895)\n",
      " Params = {'k': 5, 'L': 2, 'table_size': 3750, 'window_size': 1087, 'query_trick': False}\n",
      "Trial no. 8\n",
      " Values = [1.7976931348623157e+308, 0.0006855300000000002], Constraints = (60, -0.00931447)\n",
      " Params = {'k': 9, 'L': 5, 'table_size': 7500, 'window_size': 1202, 'query_trick': True}\n",
      "CPU times: user 30min 54s, sys: 10min 46s, total: 41min 41s\n",
      "Wall time: 41min 46s\n"
     ]
    }
   ],
   "source": [
    "%%time\n",
    "for i in range(10):\n",
    "    try:\n",
    "        sampler = optuna.samplers.NSGAIISampler(constraints_func=constraints)\n",
    "        lsh_study = optuna.create_study(study_name='lsh', directions=['minimize', 'minimize'], sampler=sampler)\n",
    "        lsh_study.optimize(objective_lsh, n_trials=50)\n",
    "        print(\"-------------------- Best trials --------------------\")\n",
    "        trials = sorted(lsh_study.best_trials, key=lambda x: x.values)\n",
    "        # print feasible trials only\n",
    "        for trial in trials:\n",
    "            print(\"Trial no. {}\".format(trial.number))\n",
    "            print(\" Values = {}, Constraints = {}\".format(trial.values, trial.user_attrs[\"constraint\"]))\n",
    "            print(\" Params = {}\".format(trial.params))\n",
    "        break\n",
    "    except:\n",
    "        print(\"Trial failed, trying again...\")\n",
    "        continue"
   ]
  },
  {
   "cell_type": "code",
   "execution_count": 5,
   "metadata": {},
   "outputs": [
    {
     "data": {
      "application/vnd.plotly.v1+json": {
       "config": {
        "plotlyServerURL": "https://plot.ly"
       },
       "data": [
        {
         "hovertemplate": "%{text}<extra>Trial</extra>",
         "marker": {
          "color": [
           0,
           1,
           3,
           4,
           5,
           6,
           7,
           10,
           11,
           12,
           13,
           14,
           17,
           18,
           19,
           22,
           24,
           25,
           26,
           27,
           28,
           29,
           30,
           37,
           38,
           39,
           41,
           42,
           43,
           44,
           45,
           49
          ],
          "colorbar": {
           "title": {
            "text": "Trial"
           }
          },
          "colorscale": [
           [
            0,
            "rgb(247,251,255)"
           ],
           [
            0.125,
            "rgb(222,235,247)"
           ],
           [
            0.25,
            "rgb(198,219,239)"
           ],
           [
            0.375,
            "rgb(158,202,225)"
           ],
           [
            0.5,
            "rgb(107,174,214)"
           ],
           [
            0.625,
            "rgb(66,146,198)"
           ],
           [
            0.75,
            "rgb(33,113,181)"
           ],
           [
            0.875,
            "rgb(8,81,156)"
           ],
           [
            1,
            "rgb(8,48,107)"
           ]
          ],
          "line": {
           "color": "Grey",
           "width": 0.5
          }
         },
         "mode": "markers",
         "showlegend": false,
         "text": [
          "{<br>  \"number\": 0,<br>  \"values\": [<br>    1.4737879905085032,<br>    0.0029157<br>  ],<br>  \"params\": {<br>    \"k\": 10,<br>    \"L\": 6,<br>    \"table_size\": 15000,<br>    \"window_size\": 2190,<br>    \"query_trick\": true<br>  },<br>  \"user_attrs\": {<br>    \"constraint\": [<br>      57,<br>      -0.0070843<br>    ]<br>  }<br>}",
          "{<br>  \"number\": 1,<br>  \"values\": [<br>    1.499912106564422,<br>    0.00921434<br>  ],<br>  \"params\": {<br>    \"k\": 3,<br>    \"L\": 3,<br>    \"table_size\": 3750,<br>    \"window_size\": 1063,<br>    \"query_trick\": false<br>  },<br>  \"user_attrs\": {<br>    \"constraint\": [<br>      0,<br>      -0.0007856600000000005<br>    ]<br>  }<br>}",
          "{<br>  \"number\": 3,<br>  \"values\": [<br>    1.0,<br>    0.17707529<br>  ],<br>  \"params\": {<br>    \"k\": 5,<br>    \"L\": 6,<br>    \"table_size\": 15000,<br>    \"window_size\": 4639,<br>    \"query_trick\": true<br>  },<br>  \"user_attrs\": {<br>    \"constraint\": [<br>      0,<br>      0.16707529<br>    ]<br>  }<br>}",
          "{<br>  \"number\": 4,<br>  \"values\": [<br>    1.0713642739299358,<br>    0.039423789999999986<br>  ],<br>  \"params\": {<br>    \"k\": 8,<br>    \"L\": 5,<br>    \"table_size\": 7500,<br>    \"window_size\": 3678,<br>    \"query_trick\": false<br>  },<br>  \"user_attrs\": {<br>    \"constraint\": [<br>      0,<br>      0.029423789999999984<br>    ]<br>  }<br>}",
          "{<br>  \"number\": 5,<br>  \"values\": [<br>    1.2008418810414185,<br>    0.020625590000000006<br>  ],<br>  \"params\": {<br>    \"k\": 5,<br>    \"L\": 6,<br>    \"table_size\": 3750,<br>    \"window_size\": 1935,<br>    \"query_trick\": false<br>  },<br>  \"user_attrs\": {<br>    \"constraint\": [<br>      0,<br>      0.010625590000000006<br>    ]<br>  }<br>}",
          "{<br>  \"number\": 6,<br>  \"values\": [<br>    1.5831273752353285,<br>    0.00326295<br>  ],<br>  \"params\": {<br>    \"k\": 5,<br>    \"L\": 2,<br>    \"table_size\": 15000,<br>    \"window_size\": 1648,<br>    \"query_trick\": false<br>  },<br>  \"user_attrs\": {<br>    \"constraint\": [<br>      12,<br>      -0.00673705<br>    ]<br>  }<br>}",
          "{<br>  \"number\": 7,<br>  \"values\": [<br>    1.008876982516312,<br>    0.11541790000000002<br>  ],<br>  \"params\": {<br>    \"k\": 4,<br>    \"L\": 9,<br>    \"table_size\": 7500,<br>    \"window_size\": 2438,<br>    \"query_trick\": true<br>  },<br>  \"user_attrs\": {<br>    \"constraint\": [<br>      0,<br>      0.10541790000000002<br>    ]<br>  }<br>}",
          "{<br>  \"number\": 10,<br>  \"values\": [<br>    1.1284524594554481,<br>    0.02910053000000001<br>  ],<br>  \"params\": {<br>    \"k\": 5,<br>    \"L\": 9,<br>    \"table_size\": 7500,<br>    \"window_size\": 1956,<br>    \"query_trick\": false<br>  },<br>  \"user_attrs\": {<br>    \"constraint\": [<br>      0,<br>      0.01910053000000001<br>    ]<br>  }<br>}",
          "{<br>  \"number\": 11,<br>  \"values\": [<br>    1.0178833911407317,<br>    0.10468586999999997<br>  ],<br>  \"params\": {<br>    \"k\": 6,<br>    \"L\": 7,<br>    \"table_size\": 15000,<br>    \"window_size\": 4417,<br>    \"query_trick\": false<br>  },<br>  \"user_attrs\": {<br>    \"constraint\": [<br>      0,<br>      0.09468586999999998<br>    ]<br>  }<br>}",
          "{<br>  \"number\": 12,<br>  \"values\": [<br>    1.2008555817617632,<br>    0.02150309<br>  ],<br>  \"params\": {<br>    \"k\": 4,<br>    \"L\": 2,<br>    \"table_size\": 7500,<br>    \"window_size\": 3101,<br>    \"query_trick\": false<br>  },<br>  \"user_attrs\": {<br>    \"constraint\": [<br>      0,<br>      0.011503089999999999<br>    ]<br>  }<br>}",
          "{<br>  \"number\": 13,<br>  \"values\": [<br>    1.7201371597495037,<br>    0.0021823999999999997<br>  ],<br>  \"params\": {<br>    \"k\": 7,<br>    \"L\": 6,<br>    \"table_size\": 7500,<br>    \"window_size\": 1519,<br>    \"query_trick\": false<br>  },<br>  \"user_attrs\": {<br>    \"constraint\": [<br>      45,<br>      -0.007817600000000001<br>    ]<br>  }<br>}",
          "{<br>  \"number\": 14,<br>  \"values\": [<br>    1.5065832560954544,<br>    0.0030173999999999995<br>  ],<br>  \"params\": {<br>    \"k\": 9,<br>    \"L\": 2,<br>    \"table_size\": 15000,<br>    \"window_size\": 2736,<br>    \"query_trick\": false<br>  },<br>  \"user_attrs\": {<br>    \"constraint\": [<br>      48,<br>      -0.0069826<br>    ]<br>  }<br>}",
          "{<br>  \"number\": 17,<br>  \"values\": [<br>    1.0,<br>    0.4203500500000002<br>  ],<br>  \"params\": {<br>    \"k\": 4,<br>    \"L\": 10,<br>    \"table_size\": 3750,<br>    \"window_size\": 4999,<br>    \"query_trick\": false<br>  },<br>  \"user_attrs\": {<br>    \"constraint\": [<br>      0,<br>      0.4103500500000002<br>    ]<br>  }<br>}",
          "{<br>  \"number\": 18,<br>  \"values\": [<br>    1.0,<br>    0.3574395699999999<br>  ],<br>  \"params\": {<br>    \"k\": 2,<br>    \"L\": 5,<br>    \"table_size\": 3750,<br>    \"window_size\": 3626,<br>    \"query_trick\": false<br>  },<br>  \"user_attrs\": {<br>    \"constraint\": [<br>      0,<br>      0.34743956999999986<br>    ]<br>  }<br>}",
          "{<br>  \"number\": 19,<br>  \"values\": [<br>    1.0030667027343796,<br>    0.11474674000000004<br>  ],<br>  \"params\": {<br>    \"k\": 7,<br>    \"L\": 5,<br>    \"table_size\": 3750,<br>    \"window_size\": 4212,<br>    \"query_trick\": true<br>  },<br>  \"user_attrs\": {<br>    \"constraint\": [<br>      0,<br>      0.10474674000000005<br>    ]<br>  }<br>}",
          "{<br>  \"number\": 22,<br>  \"values\": [<br>    1.7976931348623157e+308,<br>    0.0007029400000000002<br>  ],<br>  \"params\": {<br>    \"k\": 7,<br>    \"L\": 2,<br>    \"table_size\": 7500,<br>    \"window_size\": 1718,<br>    \"query_trick\": true<br>  },<br>  \"user_attrs\": {<br>    \"constraint\": [<br>      60,<br>      -0.00929706<br>    ]<br>  }<br>}",
          "{<br>  \"number\": 24,<br>  \"values\": [<br>    1.000196906315752,<br>    0.19127134999999992<br>  ],<br>  \"params\": {<br>    \"k\": 4,<br>    \"L\": 5,<br>    \"table_size\": 3750,<br>    \"window_size\": 4296,<br>    \"query_trick\": true<br>  },<br>  \"user_attrs\": {<br>    \"constraint\": [<br>      0,<br>      0.18127134999999991<br>    ]<br>  }<br>}",
          "{<br>  \"number\": 25,<br>  \"values\": [<br>    1.169075947667741,<br>    0.018905959999999996<br>  ],<br>  \"params\": {<br>    \"k\": 5,<br>    \"L\": 9,<br>    \"table_size\": 7500,<br>    \"window_size\": 1679,<br>    \"query_trick\": true<br>  },<br>  \"user_attrs\": {<br>    \"constraint\": [<br>      0,<br>      0.008905959999999996<br>    ]<br>  }<br>}",
          "{<br>  \"number\": 26,<br>  \"values\": [<br>    1.0,<br>    0.19205882<br>  ],<br>  \"params\": {<br>    \"k\": 6,<br>    \"L\": 7,<br>    \"table_size\": 15000,<br>    \"window_size\": 4905,<br>    \"query_trick\": false<br>  },<br>  \"user_attrs\": {<br>    \"constraint\": [<br>      0,<br>      0.18205881999999998<br>    ]<br>  }<br>}",
          "{<br>  \"number\": 27,<br>  \"values\": [<br>    1.0,<br>    0.23691250999999994<br>  ],<br>  \"params\": {<br>    \"k\": 4,<br>    \"L\": 6,<br>    \"table_size\": 7500,<br>    \"window_size\": 4996,<br>    \"query_trick\": false<br>  },<br>  \"user_attrs\": {<br>    \"constraint\": [<br>      0,<br>      0.22691250999999993<br>    ]<br>  }<br>}",
          "{<br>  \"number\": 28,<br>  \"values\": [<br>    1.0000446746328602,<br>    0.15277255<br>  ],<br>  \"params\": {<br>    \"k\": 5,<br>    \"L\": 8,<br>    \"table_size\": 7500,<br>    \"window_size\": 4064,<br>    \"query_trick\": false<br>  },<br>  \"user_attrs\": {<br>    \"constraint\": [<br>      0,<br>      0.14277255<br>    ]<br>  }<br>}",
          "{<br>  \"number\": 29,<br>  \"values\": [<br>    1.0130629383245582,<br>    0.11428385999999997<br>  ],<br>  \"params\": {<br>    \"k\": 4,<br>    \"L\": 9,<br>    \"table_size\": 7500,<br>    \"window_size\": 2409,<br>    \"query_trick\": false<br>  },<br>  \"user_attrs\": {<br>    \"constraint\": [<br>      0,<br>      0.10428385999999998<br>    ]<br>  }<br>}",
          "{<br>  \"number\": 30,<br>  \"values\": [<br>    1.7976931348623157e+308,<br>    0.00075214<br>  ],<br>  \"params\": {<br>    \"k\": 10,<br>    \"L\": 4,<br>    \"table_size\": 3750,<br>    \"window_size\": 1522,<br>    \"query_trick\": true<br>  },<br>  \"user_attrs\": {<br>    \"constraint\": [<br>      60,<br>      -0.00924786<br>    ]<br>  }<br>}",
          "{<br>  \"number\": 37,<br>  \"values\": [<br>    1.0047270162049746,<br>    0.13586912999999995<br>  ],<br>  \"params\": {<br>    \"k\": 5,<br>    \"L\": 8,<br>    \"table_size\": 15000,<br>    \"window_size\": 3602,<br>    \"query_trick\": true<br>  },<br>  \"user_attrs\": {<br>    \"constraint\": [<br>      0,<br>      0.12586912999999994<br>    ]<br>  }<br>}",
          "{<br>  \"number\": 38,<br>  \"values\": [<br>    1.7976931348623157e+308,<br>    0.0007511599999999998<br>  ],<br>  \"params\": {<br>    \"k\": 8,<br>    \"L\": 7,<br>    \"table_size\": 15000,<br>    \"window_size\": 1004,<br>    \"query_trick\": true<br>  },<br>  \"user_attrs\": {<br>    \"constraint\": [<br>      60,<br>      -0.009248840000000001<br>    ]<br>  }<br>}",
          "{<br>  \"number\": 39,<br>  \"values\": [<br>    1.4230298958584962,<br>    0.003321590000000001<br>  ],<br>  \"params\": {<br>    \"k\": 4,<br>    \"L\": 4,<br>    \"table_size\": 3750,<br>    \"window_size\": 1043,<br>    \"query_trick\": false<br>  },<br>  \"user_attrs\": {<br>    \"constraint\": [<br>      0,<br>      -0.006678409999999999<br>    ]<br>  }<br>}",
          "{<br>  \"number\": 41,<br>  \"values\": [<br>    1.0099462609224377,<br>    0.09728096999999998<br>  ],<br>  \"params\": {<br>    \"k\": 6,<br>    \"L\": 8,<br>    \"table_size\": 3750,<br>    \"window_size\": 3274,<br>    \"query_trick\": false<br>  },<br>  \"user_attrs\": {<br>    \"constraint\": [<br>      0,<br>      0.08728096999999999<br>    ]<br>  }<br>}",
          "{<br>  \"number\": 42,<br>  \"values\": [<br>    1.0,<br>    0.22630350999999993<br>  ],<br>  \"params\": {<br>    \"k\": 3,<br>    \"L\": 4,<br>    \"table_size\": 15000,<br>    \"window_size\": 4249,<br>    \"query_trick\": false<br>  },<br>  \"user_attrs\": {<br>    \"constraint\": [<br>      0,<br>      0.21630350999999992<br>    ]<br>  }<br>}",
          "{<br>  \"number\": 43,<br>  \"values\": [<br>    1.0078619807400493,<br>    0.15173036<br>  ],<br>  \"params\": {<br>    \"k\": 4,<br>    \"L\": 4,<br>    \"table_size\": 15000,<br>    \"window_size\": 4137,<br>    \"query_trick\": true<br>  },<br>  \"user_attrs\": {<br>    \"constraint\": [<br>      0,<br>      0.14173036<br>    ]<br>  }<br>}",
          "{<br>  \"number\": 44,<br>  \"values\": [<br>    2.3087085333945456,<br>    0.0015362200000000007<br>  ],<br>  \"params\": {<br>    \"k\": 6,<br>    \"L\": 2,<br>    \"table_size\": 3750,<br>    \"window_size\": 1795,<br>    \"query_trick\": true<br>  },<br>  \"user_attrs\": {<br>    \"constraint\": [<br>      57,<br>      -0.008463779999999999<br>    ]<br>  }<br>}",
          "{<br>  \"number\": 45,<br>  \"values\": [<br>    1.0001115268410337,<br>    0.23279205<br>  ],<br>  \"params\": {<br>    \"k\": 5,<br>    \"L\": 10,<br>    \"table_size\": 15000,<br>    \"window_size\": 3534,<br>    \"query_trick\": true<br>  },<br>  \"user_attrs\": {<br>    \"constraint\": [<br>      0,<br>      0.22279205<br>    ]<br>  }<br>}",
          "{<br>  \"number\": 49,<br>  \"values\": [<br>    1.0152371815700856,<br>    0.14100393999999997<br>  ],<br>  \"params\": {<br>    \"k\": 3,<br>    \"L\": 5,<br>    \"table_size\": 7500,<br>    \"window_size\": 2881,<br>    \"query_trick\": true<br>  },<br>  \"user_attrs\": {<br>    \"constraint\": [<br>      0,<br>      0.13100393999999996<br>    ]<br>  }<br>}"
         ],
         "type": "scatter",
         "x": [
          1.4737879905085032,
          1.499912106564422,
          1,
          1.0713642739299358,
          1.2008418810414185,
          1.5831273752353285,
          1.008876982516312,
          1.1284524594554481,
          1.0178833911407317,
          1.2008555817617632,
          1.7201371597495037,
          1.5065832560954544,
          1,
          1,
          1.0030667027343796,
          1.7976931348623157e+308,
          1.000196906315752,
          1.169075947667741,
          1,
          1,
          1.0000446746328602,
          1.0130629383245582,
          1.7976931348623157e+308,
          1.0047270162049746,
          1.7976931348623157e+308,
          1.4230298958584962,
          1.0099462609224377,
          1,
          1.0078619807400493,
          2.3087085333945456,
          1.0001115268410337,
          1.0152371815700856
         ],
         "y": [
          0.0029157,
          0.00921434,
          0.17707529,
          0.039423789999999986,
          0.020625590000000006,
          0.00326295,
          0.11541790000000002,
          0.02910053000000001,
          0.10468586999999997,
          0.02150309,
          0.0021823999999999997,
          0.0030173999999999995,
          0.4203500500000002,
          0.3574395699999999,
          0.11474674000000004,
          0.0007029400000000002,
          0.19127134999999992,
          0.018905959999999996,
          0.19205882,
          0.23691250999999994,
          0.15277255,
          0.11428385999999997,
          0.00075214,
          0.13586912999999995,
          0.0007511599999999998,
          0.003321590000000001,
          0.09728096999999998,
          0.22630350999999993,
          0.15173036,
          0.0015362200000000007,
          0.23279205,
          0.14100393999999997
         ]
        },
        {
         "hovertemplate": "%{text}<extra>Best Trial</extra>",
         "marker": {
          "color": [
           2,
           8,
           9,
           15,
           16,
           20,
           21,
           23,
           31,
           32,
           33,
           34,
           35,
           36,
           40,
           46,
           47,
           48
          ],
          "colorbar": {
           "title": {
            "text": "Best Trial"
           },
           "x": 1.1,
           "xpad": 40
          },
          "colorscale": [
           [
            0,
            "rgb(255,245,240)"
           ],
           [
            0.125,
            "rgb(254,224,210)"
           ],
           [
            0.25,
            "rgb(252,187,161)"
           ],
           [
            0.375,
            "rgb(252,146,114)"
           ],
           [
            0.5,
            "rgb(251,106,74)"
           ],
           [
            0.625,
            "rgb(239,59,44)"
           ],
           [
            0.75,
            "rgb(203,24,29)"
           ],
           [
            0.875,
            "rgb(165,15,21)"
           ],
           [
            1,
            "rgb(103,0,13)"
           ]
          ],
          "line": {
           "color": "Grey",
           "width": 0.5
          }
         },
         "mode": "markers",
         "showlegend": false,
         "text": [
          "{<br>  \"number\": 2,<br>  \"values\": [<br>    1.0016436954345849,<br>    0.12031295999999997<br>  ],<br>  \"params\": {<br>    \"k\": 4,<br>    \"L\": 8,<br>    \"table_size\": 3750,<br>    \"window_size\": 2921,<br>    \"query_trick\": true<br>  },<br>  \"user_attrs\": {<br>    \"constraint\": [<br>      0,<br>      0.11031295999999997<br>    ]<br>  }<br>}",
          "{<br>  \"number\": 8,<br>  \"values\": [<br>    1.7976931348623157e+308,<br>    0.0006855300000000002<br>  ],<br>  \"params\": {<br>    \"k\": 9,<br>    \"L\": 5,<br>    \"table_size\": 7500,<br>    \"window_size\": 1202,<br>    \"query_trick\": true<br>  },<br>  \"user_attrs\": {<br>    \"constraint\": [<br>      60,<br>      -0.00931447<br>    ]<br>  }<br>}",
          "{<br>  \"number\": 9,<br>  \"values\": [<br>    1.01098321046841,<br>    0.07159987000000002<br>  ],<br>  \"params\": {<br>    \"k\": 9,<br>    \"L\": 6,<br>    \"table_size\": 7500,<br>    \"window_size\": 4659,<br>    \"query_trick\": true<br>  },<br>  \"user_attrs\": {<br>    \"constraint\": [<br>      0,<br>      0.06159987000000002<br>    ]<br>  }<br>}",
          "{<br>  \"number\": 15,<br>  \"values\": [<br>    1.7405303517508866,<br>    0.0013091200000000006<br>  ],<br>  \"params\": {<br>    \"k\": 10,<br>    \"L\": 9,<br>    \"table_size\": 3750,<br>    \"window_size\": 1439,<br>    \"query_trick\": false<br>  },<br>  \"user_attrs\": {<br>    \"constraint\": [<br>      0,<br>      -0.00869088<br>    ]<br>  }<br>}",
          "{<br>  \"number\": 16,<br>  \"values\": [<br>    1.692785172031265,<br>    0.002109440000000001<br>  ],<br>  \"params\": {<br>    \"k\": 8,<br>    \"L\": 2,<br>    \"table_size\": 15000,<br>    \"window_size\": 1951,<br>    \"query_trick\": true<br>  },<br>  \"user_attrs\": {<br>    \"constraint\": [<br>      59,<br>      -0.00789056<br>    ]<br>  }<br>}",
          "{<br>  \"number\": 20,<br>  \"values\": [<br>    1.0019077119803148,<br>    0.09559584999999998<br>  ],<br>  \"params\": {<br>    \"k\": 5,<br>    \"L\": 7,<br>    \"table_size\": 3750,<br>    \"window_size\": 2805,<br>    \"query_trick\": true<br>  },<br>  \"user_attrs\": {<br>    \"constraint\": [<br>      0,<br>      0.08559584999999999<br>    ]<br>  }<br>}",
          "{<br>  \"number\": 21,<br>  \"values\": [<br>    1.3606075712715895,<br>    0.0026778199999999996<br>  ],<br>  \"params\": {<br>    \"k\": 7,<br>    \"L\": 4,<br>    \"table_size\": 15000,<br>    \"window_size\": 1815,<br>    \"query_trick\": false<br>  },<br>  \"user_attrs\": {<br>    \"constraint\": [<br>      0,<br>      -0.007322180000000001<br>    ]<br>  }<br>}",
          "{<br>  \"number\": 23,<br>  \"values\": [<br>    1.2845873022975078,<br>    0.00703459<br>  ],<br>  \"params\": {<br>    \"k\": 10,<br>    \"L\": 6,<br>    \"table_size\": 7500,<br>    \"window_size\": 2609,<br>    \"query_trick\": true<br>  },<br>  \"user_attrs\": {<br>    \"constraint\": [<br>      0,<br>      -0.00296541<br>    ]<br>  }<br>}",
          "{<br>  \"number\": 31,<br>  \"values\": [<br>    1.0,<br>    0.15069452999999997<br>  ],<br>  \"params\": {<br>    \"k\": 6,<br>    \"L\": 10,<br>    \"table_size\": 3750,<br>    \"window_size\": 3677,<br>    \"query_trick\": true<br>  },<br>  \"user_attrs\": {<br>    \"constraint\": [<br>      0,<br>      0.14069452999999996<br>    ]<br>  }<br>}",
          "{<br>  \"number\": 32,<br>  \"values\": [<br>    1.0369902545654195,<br>    0.03694716000000002<br>  ],<br>  \"params\": {<br>    \"k\": 10,<br>    \"L\": 5,<br>    \"table_size\": 7500,<br>    \"window_size\": 4069,<br>    \"query_trick\": true<br>  },<br>  \"user_attrs\": {<br>    \"constraint\": [<br>      0,<br>      0.02694716000000002<br>    ]<br>  }<br>}",
          "{<br>  \"number\": 33,<br>  \"values\": [<br>    1.7231291614122928,<br>    0.0014273500000000002<br>  ],<br>  \"params\": {<br>    \"k\": 8,<br>    \"L\": 10,<br>    \"table_size\": 3750,<br>    \"window_size\": 1206,<br>    \"query_trick\": false<br>  },<br>  \"user_attrs\": {<br>    \"constraint\": [<br>      0,<br>      -0.00857265<br>    ]<br>  }<br>}",
          "{<br>  \"number\": 34,<br>  \"values\": [<br>    1.110830626913023,<br>    0.02293467<br>  ],<br>  \"params\": {<br>    \"k\": 4,<br>    \"L\": 4,<br>    \"table_size\": 3750,<br>    \"window_size\": 1754,<br>    \"query_trick\": false<br>  },<br>  \"user_attrs\": {<br>    \"constraint\": [<br>      0,<br>      0.01293467<br>    ]<br>  }<br>}",
          "{<br>  \"number\": 35,<br>  \"values\": [<br>    1.3211970432230733,<br>    0.0032278300000000005<br>  ],<br>  \"params\": {<br>    \"k\": 7,<br>    \"L\": 10,<br>    \"table_size\": 3750,<br>    \"window_size\": 1532,<br>    \"query_trick\": false<br>  },<br>  \"user_attrs\": {<br>    \"constraint\": [<br>      0,<br>      -0.006772169999999999<br>    ]<br>  }<br>}",
          "{<br>  \"number\": 36,<br>  \"values\": [<br>    1.031194777022799,<br>    0.05635063000000003<br>  ],<br>  \"params\": {<br>    \"k\": 3,<br>    \"L\": 4,<br>    \"table_size\": 15000,<br>    \"window_size\": 2151,<br>    \"query_trick\": true<br>  },<br>  \"user_attrs\": {<br>    \"constraint\": [<br>      0,<br>      0.046350630000000025<br>    ]<br>  }<br>}",
          "{<br>  \"number\": 40,<br>  \"values\": [<br>    2.1746663295131157,<br>    0.0010110499999999997<br>  ],<br>  \"params\": {<br>    \"k\": 5,<br>    \"L\": 2,<br>    \"table_size\": 3750,<br>    \"window_size\": 1087,<br>    \"query_trick\": false<br>  },<br>  \"user_attrs\": {<br>    \"constraint\": [<br>      55,<br>      -0.00898895<br>    ]<br>  }<br>}",
          "{<br>  \"number\": 46,<br>  \"values\": [<br>    1.1113900452814391,<br>    0.01997564<br>  ],<br>  \"params\": {<br>    \"k\": 10,<br>    \"L\": 5,<br>    \"table_size\": 15000,<br>    \"window_size\": 3585,<br>    \"query_trick\": false<br>  },<br>  \"user_attrs\": {<br>    \"constraint\": [<br>      0,<br>      0.00997564<br>    ]<br>  }<br>}",
          "{<br>  \"number\": 47,<br>  \"values\": [<br>    1.0157488177897585,<br>    0.06259387<br>  ],<br>  \"params\": {<br>    \"k\": 7,<br>    \"L\": 8,<br>    \"table_size\": 3750,<br>    \"window_size\": 3304,<br>    \"query_trick\": false<br>  },<br>  \"user_attrs\": {<br>    \"constraint\": [<br>      0,<br>      0.052593869999999994<br>    ]<br>  }<br>}",
          "{<br>  \"number\": 48,<br>  \"values\": [<br>    1.152395647747845,<br>    0.010039130000000002<br>  ],<br>  \"params\": {<br>    \"k\": 8,<br>    \"L\": 9,<br>    \"table_size\": 15000,<br>    \"window_size\": 2242,<br>    \"query_trick\": false<br>  },<br>  \"user_attrs\": {<br>    \"constraint\": [<br>      0,<br>      3.91300000000018e-05<br>    ]<br>  }<br>}"
         ],
         "type": "scatter",
         "x": [
          1.0016436954345849,
          1.7976931348623157e+308,
          1.01098321046841,
          1.7405303517508866,
          1.692785172031265,
          1.0019077119803148,
          1.3606075712715895,
          1.2845873022975078,
          1,
          1.0369902545654195,
          1.7231291614122928,
          1.110830626913023,
          1.3211970432230733,
          1.031194777022799,
          2.1746663295131157,
          1.1113900452814391,
          1.0157488177897585,
          1.152395647747845
         ],
         "y": [
          0.12031295999999997,
          0.0006855300000000002,
          0.07159987000000002,
          0.0013091200000000006,
          0.002109440000000001,
          0.09559584999999998,
          0.0026778199999999996,
          0.00703459,
          0.15069452999999997,
          0.03694716000000002,
          0.0014273500000000002,
          0.02293467,
          0.0032278300000000005,
          0.05635063000000003,
          0.0010110499999999997,
          0.01997564,
          0.06259387,
          0.010039130000000002
         ]
        }
       ],
       "layout": {
        "template": {
         "data": {
          "bar": [
           {
            "error_x": {
             "color": "#2a3f5f"
            },
            "error_y": {
             "color": "#2a3f5f"
            },
            "marker": {
             "line": {
              "color": "#E5ECF6",
              "width": 0.5
             },
             "pattern": {
              "fillmode": "overlay",
              "size": 10,
              "solidity": 0.2
             }
            },
            "type": "bar"
           }
          ],
          "barpolar": [
           {
            "marker": {
             "line": {
              "color": "#E5ECF6",
              "width": 0.5
             },
             "pattern": {
              "fillmode": "overlay",
              "size": 10,
              "solidity": 0.2
             }
            },
            "type": "barpolar"
           }
          ],
          "carpet": [
           {
            "aaxis": {
             "endlinecolor": "#2a3f5f",
             "gridcolor": "white",
             "linecolor": "white",
             "minorgridcolor": "white",
             "startlinecolor": "#2a3f5f"
            },
            "baxis": {
             "endlinecolor": "#2a3f5f",
             "gridcolor": "white",
             "linecolor": "white",
             "minorgridcolor": "white",
             "startlinecolor": "#2a3f5f"
            },
            "type": "carpet"
           }
          ],
          "choropleth": [
           {
            "colorbar": {
             "outlinewidth": 0,
             "ticks": ""
            },
            "type": "choropleth"
           }
          ],
          "contour": [
           {
            "colorbar": {
             "outlinewidth": 0,
             "ticks": ""
            },
            "colorscale": [
             [
              0,
              "#0d0887"
             ],
             [
              0.1111111111111111,
              "#46039f"
             ],
             [
              0.2222222222222222,
              "#7201a8"
             ],
             [
              0.3333333333333333,
              "#9c179e"
             ],
             [
              0.4444444444444444,
              "#bd3786"
             ],
             [
              0.5555555555555556,
              "#d8576b"
             ],
             [
              0.6666666666666666,
              "#ed7953"
             ],
             [
              0.7777777777777778,
              "#fb9f3a"
             ],
             [
              0.8888888888888888,
              "#fdca26"
             ],
             [
              1,
              "#f0f921"
             ]
            ],
            "type": "contour"
           }
          ],
          "contourcarpet": [
           {
            "colorbar": {
             "outlinewidth": 0,
             "ticks": ""
            },
            "type": "contourcarpet"
           }
          ],
          "heatmap": [
           {
            "colorbar": {
             "outlinewidth": 0,
             "ticks": ""
            },
            "colorscale": [
             [
              0,
              "#0d0887"
             ],
             [
              0.1111111111111111,
              "#46039f"
             ],
             [
              0.2222222222222222,
              "#7201a8"
             ],
             [
              0.3333333333333333,
              "#9c179e"
             ],
             [
              0.4444444444444444,
              "#bd3786"
             ],
             [
              0.5555555555555556,
              "#d8576b"
             ],
             [
              0.6666666666666666,
              "#ed7953"
             ],
             [
              0.7777777777777778,
              "#fb9f3a"
             ],
             [
              0.8888888888888888,
              "#fdca26"
             ],
             [
              1,
              "#f0f921"
             ]
            ],
            "type": "heatmap"
           }
          ],
          "heatmapgl": [
           {
            "colorbar": {
             "outlinewidth": 0,
             "ticks": ""
            },
            "colorscale": [
             [
              0,
              "#0d0887"
             ],
             [
              0.1111111111111111,
              "#46039f"
             ],
             [
              0.2222222222222222,
              "#7201a8"
             ],
             [
              0.3333333333333333,
              "#9c179e"
             ],
             [
              0.4444444444444444,
              "#bd3786"
             ],
             [
              0.5555555555555556,
              "#d8576b"
             ],
             [
              0.6666666666666666,
              "#ed7953"
             ],
             [
              0.7777777777777778,
              "#fb9f3a"
             ],
             [
              0.8888888888888888,
              "#fdca26"
             ],
             [
              1,
              "#f0f921"
             ]
            ],
            "type": "heatmapgl"
           }
          ],
          "histogram": [
           {
            "marker": {
             "pattern": {
              "fillmode": "overlay",
              "size": 10,
              "solidity": 0.2
             }
            },
            "type": "histogram"
           }
          ],
          "histogram2d": [
           {
            "colorbar": {
             "outlinewidth": 0,
             "ticks": ""
            },
            "colorscale": [
             [
              0,
              "#0d0887"
             ],
             [
              0.1111111111111111,
              "#46039f"
             ],
             [
              0.2222222222222222,
              "#7201a8"
             ],
             [
              0.3333333333333333,
              "#9c179e"
             ],
             [
              0.4444444444444444,
              "#bd3786"
             ],
             [
              0.5555555555555556,
              "#d8576b"
             ],
             [
              0.6666666666666666,
              "#ed7953"
             ],
             [
              0.7777777777777778,
              "#fb9f3a"
             ],
             [
              0.8888888888888888,
              "#fdca26"
             ],
             [
              1,
              "#f0f921"
             ]
            ],
            "type": "histogram2d"
           }
          ],
          "histogram2dcontour": [
           {
            "colorbar": {
             "outlinewidth": 0,
             "ticks": ""
            },
            "colorscale": [
             [
              0,
              "#0d0887"
             ],
             [
              0.1111111111111111,
              "#46039f"
             ],
             [
              0.2222222222222222,
              "#7201a8"
             ],
             [
              0.3333333333333333,
              "#9c179e"
             ],
             [
              0.4444444444444444,
              "#bd3786"
             ],
             [
              0.5555555555555556,
              "#d8576b"
             ],
             [
              0.6666666666666666,
              "#ed7953"
             ],
             [
              0.7777777777777778,
              "#fb9f3a"
             ],
             [
              0.8888888888888888,
              "#fdca26"
             ],
             [
              1,
              "#f0f921"
             ]
            ],
            "type": "histogram2dcontour"
           }
          ],
          "mesh3d": [
           {
            "colorbar": {
             "outlinewidth": 0,
             "ticks": ""
            },
            "type": "mesh3d"
           }
          ],
          "parcoords": [
           {
            "line": {
             "colorbar": {
              "outlinewidth": 0,
              "ticks": ""
             }
            },
            "type": "parcoords"
           }
          ],
          "pie": [
           {
            "automargin": true,
            "type": "pie"
           }
          ],
          "scatter": [
           {
            "fillpattern": {
             "fillmode": "overlay",
             "size": 10,
             "solidity": 0.2
            },
            "type": "scatter"
           }
          ],
          "scatter3d": [
           {
            "line": {
             "colorbar": {
              "outlinewidth": 0,
              "ticks": ""
             }
            },
            "marker": {
             "colorbar": {
              "outlinewidth": 0,
              "ticks": ""
             }
            },
            "type": "scatter3d"
           }
          ],
          "scattercarpet": [
           {
            "marker": {
             "colorbar": {
              "outlinewidth": 0,
              "ticks": ""
             }
            },
            "type": "scattercarpet"
           }
          ],
          "scattergeo": [
           {
            "marker": {
             "colorbar": {
              "outlinewidth": 0,
              "ticks": ""
             }
            },
            "type": "scattergeo"
           }
          ],
          "scattergl": [
           {
            "marker": {
             "colorbar": {
              "outlinewidth": 0,
              "ticks": ""
             }
            },
            "type": "scattergl"
           }
          ],
          "scattermapbox": [
           {
            "marker": {
             "colorbar": {
              "outlinewidth": 0,
              "ticks": ""
             }
            },
            "type": "scattermapbox"
           }
          ],
          "scatterpolar": [
           {
            "marker": {
             "colorbar": {
              "outlinewidth": 0,
              "ticks": ""
             }
            },
            "type": "scatterpolar"
           }
          ],
          "scatterpolargl": [
           {
            "marker": {
             "colorbar": {
              "outlinewidth": 0,
              "ticks": ""
             }
            },
            "type": "scatterpolargl"
           }
          ],
          "scatterternary": [
           {
            "marker": {
             "colorbar": {
              "outlinewidth": 0,
              "ticks": ""
             }
            },
            "type": "scatterternary"
           }
          ],
          "surface": [
           {
            "colorbar": {
             "outlinewidth": 0,
             "ticks": ""
            },
            "colorscale": [
             [
              0,
              "#0d0887"
             ],
             [
              0.1111111111111111,
              "#46039f"
             ],
             [
              0.2222222222222222,
              "#7201a8"
             ],
             [
              0.3333333333333333,
              "#9c179e"
             ],
             [
              0.4444444444444444,
              "#bd3786"
             ],
             [
              0.5555555555555556,
              "#d8576b"
             ],
             [
              0.6666666666666666,
              "#ed7953"
             ],
             [
              0.7777777777777778,
              "#fb9f3a"
             ],
             [
              0.8888888888888888,
              "#fdca26"
             ],
             [
              1,
              "#f0f921"
             ]
            ],
            "type": "surface"
           }
          ],
          "table": [
           {
            "cells": {
             "fill": {
              "color": "#EBF0F8"
             },
             "line": {
              "color": "white"
             }
            },
            "header": {
             "fill": {
              "color": "#C8D4E3"
             },
             "line": {
              "color": "white"
             }
            },
            "type": "table"
           }
          ]
         },
         "layout": {
          "annotationdefaults": {
           "arrowcolor": "#2a3f5f",
           "arrowhead": 0,
           "arrowwidth": 1
          },
          "autotypenumbers": "strict",
          "coloraxis": {
           "colorbar": {
            "outlinewidth": 0,
            "ticks": ""
           }
          },
          "colorscale": {
           "diverging": [
            [
             0,
             "#8e0152"
            ],
            [
             0.1,
             "#c51b7d"
            ],
            [
             0.2,
             "#de77ae"
            ],
            [
             0.3,
             "#f1b6da"
            ],
            [
             0.4,
             "#fde0ef"
            ],
            [
             0.5,
             "#f7f7f7"
            ],
            [
             0.6,
             "#e6f5d0"
            ],
            [
             0.7,
             "#b8e186"
            ],
            [
             0.8,
             "#7fbc41"
            ],
            [
             0.9,
             "#4d9221"
            ],
            [
             1,
             "#276419"
            ]
           ],
           "sequential": [
            [
             0,
             "#0d0887"
            ],
            [
             0.1111111111111111,
             "#46039f"
            ],
            [
             0.2222222222222222,
             "#7201a8"
            ],
            [
             0.3333333333333333,
             "#9c179e"
            ],
            [
             0.4444444444444444,
             "#bd3786"
            ],
            [
             0.5555555555555556,
             "#d8576b"
            ],
            [
             0.6666666666666666,
             "#ed7953"
            ],
            [
             0.7777777777777778,
             "#fb9f3a"
            ],
            [
             0.8888888888888888,
             "#fdca26"
            ],
            [
             1,
             "#f0f921"
            ]
           ],
           "sequentialminus": [
            [
             0,
             "#0d0887"
            ],
            [
             0.1111111111111111,
             "#46039f"
            ],
            [
             0.2222222222222222,
             "#7201a8"
            ],
            [
             0.3333333333333333,
             "#9c179e"
            ],
            [
             0.4444444444444444,
             "#bd3786"
            ],
            [
             0.5555555555555556,
             "#d8576b"
            ],
            [
             0.6666666666666666,
             "#ed7953"
            ],
            [
             0.7777777777777778,
             "#fb9f3a"
            ],
            [
             0.8888888888888888,
             "#fdca26"
            ],
            [
             1,
             "#f0f921"
            ]
           ]
          },
          "colorway": [
           "#636efa",
           "#EF553B",
           "#00cc96",
           "#ab63fa",
           "#FFA15A",
           "#19d3f3",
           "#FF6692",
           "#B6E880",
           "#FF97FF",
           "#FECB52"
          ],
          "font": {
           "color": "#2a3f5f"
          },
          "geo": {
           "bgcolor": "white",
           "lakecolor": "white",
           "landcolor": "#E5ECF6",
           "showlakes": true,
           "showland": true,
           "subunitcolor": "white"
          },
          "hoverlabel": {
           "align": "left"
          },
          "hovermode": "closest",
          "mapbox": {
           "style": "light"
          },
          "paper_bgcolor": "white",
          "plot_bgcolor": "#E5ECF6",
          "polar": {
           "angularaxis": {
            "gridcolor": "white",
            "linecolor": "white",
            "ticks": ""
           },
           "bgcolor": "#E5ECF6",
           "radialaxis": {
            "gridcolor": "white",
            "linecolor": "white",
            "ticks": ""
           }
          },
          "scene": {
           "xaxis": {
            "backgroundcolor": "#E5ECF6",
            "gridcolor": "white",
            "gridwidth": 2,
            "linecolor": "white",
            "showbackground": true,
            "ticks": "",
            "zerolinecolor": "white"
           },
           "yaxis": {
            "backgroundcolor": "#E5ECF6",
            "gridcolor": "white",
            "gridwidth": 2,
            "linecolor": "white",
            "showbackground": true,
            "ticks": "",
            "zerolinecolor": "white"
           },
           "zaxis": {
            "backgroundcolor": "#E5ECF6",
            "gridcolor": "white",
            "gridwidth": 2,
            "linecolor": "white",
            "showbackground": true,
            "ticks": "",
            "zerolinecolor": "white"
           }
          },
          "shapedefaults": {
           "line": {
            "color": "#2a3f5f"
           }
          },
          "ternary": {
           "aaxis": {
            "gridcolor": "white",
            "linecolor": "white",
            "ticks": ""
           },
           "baxis": {
            "gridcolor": "white",
            "linecolor": "white",
            "ticks": ""
           },
           "bgcolor": "#E5ECF6",
           "caxis": {
            "gridcolor": "white",
            "linecolor": "white",
            "ticks": ""
           }
          },
          "title": {
           "x": 0.05
          },
          "xaxis": {
           "automargin": true,
           "gridcolor": "white",
           "linecolor": "white",
           "ticks": "",
           "title": {
            "standoff": 15
           },
           "zerolinecolor": "white",
           "zerolinewidth": 2
          },
          "yaxis": {
           "automargin": true,
           "gridcolor": "white",
           "linecolor": "white",
           "ticks": "",
           "title": {
            "standoff": 15
           },
           "zerolinecolor": "white",
           "zerolinewidth": 2
          }
         }
        },
        "title": {
         "text": "Pareto-front Plot"
        },
        "xaxis": {
         "title": {
          "text": "MAF"
         }
        },
        "yaxis": {
         "title": {
          "text": "Average time"
         }
        }
       }
      }
     },
     "metadata": {},
     "output_type": "display_data"
    }
   ],
   "source": [
    "plot_pareto_front(lsh_study, target_names=['MAF', 'Average time'])"
   ]
  },
  {
   "cell_type": "code",
   "execution_count": 6,
   "metadata": {},
   "outputs": [
    {
     "data": {
      "application/vnd.plotly.v1+json": {
       "config": {
        "plotlyServerURL": "https://plot.ly"
       },
       "data": [
        {
         "mode": "markers",
         "name": "MAF",
         "type": "scatter",
         "x": [
          1,
          15,
          21,
          23,
          33,
          35,
          39
         ],
         "y": [
          1.499912106564422,
          1.7405303517508866,
          1.3606075712715895,
          1.2845873022975078,
          1.7231291614122928,
          1.3211970432230733,
          1.4230298958584962
         ]
        },
        {
         "marker": {
          "color": "#cccccc"
         },
         "mode": "markers",
         "name": "Infeasible Trial",
         "showlegend": false,
         "type": "scatter",
         "x": [
          0,
          2,
          3,
          4,
          5,
          6,
          7,
          8,
          9,
          10,
          11,
          12,
          13,
          14,
          16,
          17,
          18,
          19,
          20,
          22,
          24,
          25,
          26,
          27,
          28,
          29,
          30,
          31,
          32,
          34,
          36,
          37,
          38,
          40,
          41,
          42,
          43,
          44,
          45,
          46,
          47,
          48,
          49
         ],
         "y": [
          1.4737879905085032,
          1.0016436954345849,
          1,
          1.0713642739299358,
          1.2008418810414185,
          1.5831273752353285,
          1.008876982516312,
          1.7976931348623157e+308,
          1.01098321046841,
          1.1284524594554481,
          1.0178833911407317,
          1.2008555817617632,
          1.7201371597495037,
          1.5065832560954544,
          1.692785172031265,
          1,
          1,
          1.0030667027343796,
          1.0019077119803148,
          1.7976931348623157e+308,
          1.000196906315752,
          1.169075947667741,
          1,
          1,
          1.0000446746328602,
          1.0130629383245582,
          1.7976931348623157e+308,
          1,
          1.0369902545654195,
          1.110830626913023,
          1.031194777022799,
          1.0047270162049746,
          1.7976931348623157e+308,
          2.1746663295131157,
          1.0099462609224377,
          1,
          1.0078619807400493,
          2.3087085333945456,
          1.0001115268410337,
          1.1113900452814391,
          1.0157488177897585,
          1.152395647747845,
          1.0152371815700856
         ]
        }
       ],
       "layout": {
        "template": {
         "data": {
          "bar": [
           {
            "error_x": {
             "color": "#2a3f5f"
            },
            "error_y": {
             "color": "#2a3f5f"
            },
            "marker": {
             "line": {
              "color": "#E5ECF6",
              "width": 0.5
             },
             "pattern": {
              "fillmode": "overlay",
              "size": 10,
              "solidity": 0.2
             }
            },
            "type": "bar"
           }
          ],
          "barpolar": [
           {
            "marker": {
             "line": {
              "color": "#E5ECF6",
              "width": 0.5
             },
             "pattern": {
              "fillmode": "overlay",
              "size": 10,
              "solidity": 0.2
             }
            },
            "type": "barpolar"
           }
          ],
          "carpet": [
           {
            "aaxis": {
             "endlinecolor": "#2a3f5f",
             "gridcolor": "white",
             "linecolor": "white",
             "minorgridcolor": "white",
             "startlinecolor": "#2a3f5f"
            },
            "baxis": {
             "endlinecolor": "#2a3f5f",
             "gridcolor": "white",
             "linecolor": "white",
             "minorgridcolor": "white",
             "startlinecolor": "#2a3f5f"
            },
            "type": "carpet"
           }
          ],
          "choropleth": [
           {
            "colorbar": {
             "outlinewidth": 0,
             "ticks": ""
            },
            "type": "choropleth"
           }
          ],
          "contour": [
           {
            "colorbar": {
             "outlinewidth": 0,
             "ticks": ""
            },
            "colorscale": [
             [
              0,
              "#0d0887"
             ],
             [
              0.1111111111111111,
              "#46039f"
             ],
             [
              0.2222222222222222,
              "#7201a8"
             ],
             [
              0.3333333333333333,
              "#9c179e"
             ],
             [
              0.4444444444444444,
              "#bd3786"
             ],
             [
              0.5555555555555556,
              "#d8576b"
             ],
             [
              0.6666666666666666,
              "#ed7953"
             ],
             [
              0.7777777777777778,
              "#fb9f3a"
             ],
             [
              0.8888888888888888,
              "#fdca26"
             ],
             [
              1,
              "#f0f921"
             ]
            ],
            "type": "contour"
           }
          ],
          "contourcarpet": [
           {
            "colorbar": {
             "outlinewidth": 0,
             "ticks": ""
            },
            "type": "contourcarpet"
           }
          ],
          "heatmap": [
           {
            "colorbar": {
             "outlinewidth": 0,
             "ticks": ""
            },
            "colorscale": [
             [
              0,
              "#0d0887"
             ],
             [
              0.1111111111111111,
              "#46039f"
             ],
             [
              0.2222222222222222,
              "#7201a8"
             ],
             [
              0.3333333333333333,
              "#9c179e"
             ],
             [
              0.4444444444444444,
              "#bd3786"
             ],
             [
              0.5555555555555556,
              "#d8576b"
             ],
             [
              0.6666666666666666,
              "#ed7953"
             ],
             [
              0.7777777777777778,
              "#fb9f3a"
             ],
             [
              0.8888888888888888,
              "#fdca26"
             ],
             [
              1,
              "#f0f921"
             ]
            ],
            "type": "heatmap"
           }
          ],
          "heatmapgl": [
           {
            "colorbar": {
             "outlinewidth": 0,
             "ticks": ""
            },
            "colorscale": [
             [
              0,
              "#0d0887"
             ],
             [
              0.1111111111111111,
              "#46039f"
             ],
             [
              0.2222222222222222,
              "#7201a8"
             ],
             [
              0.3333333333333333,
              "#9c179e"
             ],
             [
              0.4444444444444444,
              "#bd3786"
             ],
             [
              0.5555555555555556,
              "#d8576b"
             ],
             [
              0.6666666666666666,
              "#ed7953"
             ],
             [
              0.7777777777777778,
              "#fb9f3a"
             ],
             [
              0.8888888888888888,
              "#fdca26"
             ],
             [
              1,
              "#f0f921"
             ]
            ],
            "type": "heatmapgl"
           }
          ],
          "histogram": [
           {
            "marker": {
             "pattern": {
              "fillmode": "overlay",
              "size": 10,
              "solidity": 0.2
             }
            },
            "type": "histogram"
           }
          ],
          "histogram2d": [
           {
            "colorbar": {
             "outlinewidth": 0,
             "ticks": ""
            },
            "colorscale": [
             [
              0,
              "#0d0887"
             ],
             [
              0.1111111111111111,
              "#46039f"
             ],
             [
              0.2222222222222222,
              "#7201a8"
             ],
             [
              0.3333333333333333,
              "#9c179e"
             ],
             [
              0.4444444444444444,
              "#bd3786"
             ],
             [
              0.5555555555555556,
              "#d8576b"
             ],
             [
              0.6666666666666666,
              "#ed7953"
             ],
             [
              0.7777777777777778,
              "#fb9f3a"
             ],
             [
              0.8888888888888888,
              "#fdca26"
             ],
             [
              1,
              "#f0f921"
             ]
            ],
            "type": "histogram2d"
           }
          ],
          "histogram2dcontour": [
           {
            "colorbar": {
             "outlinewidth": 0,
             "ticks": ""
            },
            "colorscale": [
             [
              0,
              "#0d0887"
             ],
             [
              0.1111111111111111,
              "#46039f"
             ],
             [
              0.2222222222222222,
              "#7201a8"
             ],
             [
              0.3333333333333333,
              "#9c179e"
             ],
             [
              0.4444444444444444,
              "#bd3786"
             ],
             [
              0.5555555555555556,
              "#d8576b"
             ],
             [
              0.6666666666666666,
              "#ed7953"
             ],
             [
              0.7777777777777778,
              "#fb9f3a"
             ],
             [
              0.8888888888888888,
              "#fdca26"
             ],
             [
              1,
              "#f0f921"
             ]
            ],
            "type": "histogram2dcontour"
           }
          ],
          "mesh3d": [
           {
            "colorbar": {
             "outlinewidth": 0,
             "ticks": ""
            },
            "type": "mesh3d"
           }
          ],
          "parcoords": [
           {
            "line": {
             "colorbar": {
              "outlinewidth": 0,
              "ticks": ""
             }
            },
            "type": "parcoords"
           }
          ],
          "pie": [
           {
            "automargin": true,
            "type": "pie"
           }
          ],
          "scatter": [
           {
            "fillpattern": {
             "fillmode": "overlay",
             "size": 10,
             "solidity": 0.2
            },
            "type": "scatter"
           }
          ],
          "scatter3d": [
           {
            "line": {
             "colorbar": {
              "outlinewidth": 0,
              "ticks": ""
             }
            },
            "marker": {
             "colorbar": {
              "outlinewidth": 0,
              "ticks": ""
             }
            },
            "type": "scatter3d"
           }
          ],
          "scattercarpet": [
           {
            "marker": {
             "colorbar": {
              "outlinewidth": 0,
              "ticks": ""
             }
            },
            "type": "scattercarpet"
           }
          ],
          "scattergeo": [
           {
            "marker": {
             "colorbar": {
              "outlinewidth": 0,
              "ticks": ""
             }
            },
            "type": "scattergeo"
           }
          ],
          "scattergl": [
           {
            "marker": {
             "colorbar": {
              "outlinewidth": 0,
              "ticks": ""
             }
            },
            "type": "scattergl"
           }
          ],
          "scattermapbox": [
           {
            "marker": {
             "colorbar": {
              "outlinewidth": 0,
              "ticks": ""
             }
            },
            "type": "scattermapbox"
           }
          ],
          "scatterpolar": [
           {
            "marker": {
             "colorbar": {
              "outlinewidth": 0,
              "ticks": ""
             }
            },
            "type": "scatterpolar"
           }
          ],
          "scatterpolargl": [
           {
            "marker": {
             "colorbar": {
              "outlinewidth": 0,
              "ticks": ""
             }
            },
            "type": "scatterpolargl"
           }
          ],
          "scatterternary": [
           {
            "marker": {
             "colorbar": {
              "outlinewidth": 0,
              "ticks": ""
             }
            },
            "type": "scatterternary"
           }
          ],
          "surface": [
           {
            "colorbar": {
             "outlinewidth": 0,
             "ticks": ""
            },
            "colorscale": [
             [
              0,
              "#0d0887"
             ],
             [
              0.1111111111111111,
              "#46039f"
             ],
             [
              0.2222222222222222,
              "#7201a8"
             ],
             [
              0.3333333333333333,
              "#9c179e"
             ],
             [
              0.4444444444444444,
              "#bd3786"
             ],
             [
              0.5555555555555556,
              "#d8576b"
             ],
             [
              0.6666666666666666,
              "#ed7953"
             ],
             [
              0.7777777777777778,
              "#fb9f3a"
             ],
             [
              0.8888888888888888,
              "#fdca26"
             ],
             [
              1,
              "#f0f921"
             ]
            ],
            "type": "surface"
           }
          ],
          "table": [
           {
            "cells": {
             "fill": {
              "color": "#EBF0F8"
             },
             "line": {
              "color": "white"
             }
            },
            "header": {
             "fill": {
              "color": "#C8D4E3"
             },
             "line": {
              "color": "white"
             }
            },
            "type": "table"
           }
          ]
         },
         "layout": {
          "annotationdefaults": {
           "arrowcolor": "#2a3f5f",
           "arrowhead": 0,
           "arrowwidth": 1
          },
          "autotypenumbers": "strict",
          "coloraxis": {
           "colorbar": {
            "outlinewidth": 0,
            "ticks": ""
           }
          },
          "colorscale": {
           "diverging": [
            [
             0,
             "#8e0152"
            ],
            [
             0.1,
             "#c51b7d"
            ],
            [
             0.2,
             "#de77ae"
            ],
            [
             0.3,
             "#f1b6da"
            ],
            [
             0.4,
             "#fde0ef"
            ],
            [
             0.5,
             "#f7f7f7"
            ],
            [
             0.6,
             "#e6f5d0"
            ],
            [
             0.7,
             "#b8e186"
            ],
            [
             0.8,
             "#7fbc41"
            ],
            [
             0.9,
             "#4d9221"
            ],
            [
             1,
             "#276419"
            ]
           ],
           "sequential": [
            [
             0,
             "#0d0887"
            ],
            [
             0.1111111111111111,
             "#46039f"
            ],
            [
             0.2222222222222222,
             "#7201a8"
            ],
            [
             0.3333333333333333,
             "#9c179e"
            ],
            [
             0.4444444444444444,
             "#bd3786"
            ],
            [
             0.5555555555555556,
             "#d8576b"
            ],
            [
             0.6666666666666666,
             "#ed7953"
            ],
            [
             0.7777777777777778,
             "#fb9f3a"
            ],
            [
             0.8888888888888888,
             "#fdca26"
            ],
            [
             1,
             "#f0f921"
            ]
           ],
           "sequentialminus": [
            [
             0,
             "#0d0887"
            ],
            [
             0.1111111111111111,
             "#46039f"
            ],
            [
             0.2222222222222222,
             "#7201a8"
            ],
            [
             0.3333333333333333,
             "#9c179e"
            ],
            [
             0.4444444444444444,
             "#bd3786"
            ],
            [
             0.5555555555555556,
             "#d8576b"
            ],
            [
             0.6666666666666666,
             "#ed7953"
            ],
            [
             0.7777777777777778,
             "#fb9f3a"
            ],
            [
             0.8888888888888888,
             "#fdca26"
            ],
            [
             1,
             "#f0f921"
            ]
           ]
          },
          "colorway": [
           "#636efa",
           "#EF553B",
           "#00cc96",
           "#ab63fa",
           "#FFA15A",
           "#19d3f3",
           "#FF6692",
           "#B6E880",
           "#FF97FF",
           "#FECB52"
          ],
          "font": {
           "color": "#2a3f5f"
          },
          "geo": {
           "bgcolor": "white",
           "lakecolor": "white",
           "landcolor": "#E5ECF6",
           "showlakes": true,
           "showland": true,
           "subunitcolor": "white"
          },
          "hoverlabel": {
           "align": "left"
          },
          "hovermode": "closest",
          "mapbox": {
           "style": "light"
          },
          "paper_bgcolor": "white",
          "plot_bgcolor": "#E5ECF6",
          "polar": {
           "angularaxis": {
            "gridcolor": "white",
            "linecolor": "white",
            "ticks": ""
           },
           "bgcolor": "#E5ECF6",
           "radialaxis": {
            "gridcolor": "white",
            "linecolor": "white",
            "ticks": ""
           }
          },
          "scene": {
           "xaxis": {
            "backgroundcolor": "#E5ECF6",
            "gridcolor": "white",
            "gridwidth": 2,
            "linecolor": "white",
            "showbackground": true,
            "ticks": "",
            "zerolinecolor": "white"
           },
           "yaxis": {
            "backgroundcolor": "#E5ECF6",
            "gridcolor": "white",
            "gridwidth": 2,
            "linecolor": "white",
            "showbackground": true,
            "ticks": "",
            "zerolinecolor": "white"
           },
           "zaxis": {
            "backgroundcolor": "#E5ECF6",
            "gridcolor": "white",
            "gridwidth": 2,
            "linecolor": "white",
            "showbackground": true,
            "ticks": "",
            "zerolinecolor": "white"
           }
          },
          "shapedefaults": {
           "line": {
            "color": "#2a3f5f"
           }
          },
          "ternary": {
           "aaxis": {
            "gridcolor": "white",
            "linecolor": "white",
            "ticks": ""
           },
           "baxis": {
            "gridcolor": "white",
            "linecolor": "white",
            "ticks": ""
           },
           "bgcolor": "#E5ECF6",
           "caxis": {
            "gridcolor": "white",
            "linecolor": "white",
            "ticks": ""
           }
          },
          "title": {
           "x": 0.05
          },
          "xaxis": {
           "automargin": true,
           "gridcolor": "white",
           "linecolor": "white",
           "ticks": "",
           "title": {
            "standoff": 15
           },
           "zerolinecolor": "white",
           "zerolinewidth": 2
          },
          "yaxis": {
           "automargin": true,
           "gridcolor": "white",
           "linecolor": "white",
           "ticks": "",
           "title": {
            "standoff": 15
           },
           "zerolinecolor": "white",
           "zerolinewidth": 2
          }
         }
        },
        "title": {
         "text": "Optimization History Plot"
        },
        "xaxis": {
         "title": {
          "text": "Trial"
         }
        },
        "yaxis": {
         "title": {
          "text": "MAF"
         }
        }
       }
      }
     },
     "metadata": {},
     "output_type": "display_data"
    }
   ],
   "source": [
    "plot_optimization_history(lsh_study, target = lambda t: t.values[0], target_name = 'MAF')"
   ]
  },
  {
   "cell_type": "code",
   "execution_count": 7,
   "metadata": {},
   "outputs": [
    {
     "data": {
      "application/vnd.plotly.v1+json": {
       "config": {
        "plotlyServerURL": "https://plot.ly"
       },
       "data": [
        {
         "mode": "markers",
         "name": "Average time",
         "type": "scatter",
         "x": [
          1,
          15,
          21,
          23,
          33,
          35,
          39
         ],
         "y": [
          0.00921434,
          0.0013091200000000006,
          0.0026778199999999996,
          0.00703459,
          0.0014273500000000002,
          0.0032278300000000005,
          0.003321590000000001
         ]
        },
        {
         "marker": {
          "color": "#cccccc"
         },
         "mode": "markers",
         "name": "Infeasible Trial",
         "showlegend": false,
         "type": "scatter",
         "x": [
          0,
          2,
          3,
          4,
          5,
          6,
          7,
          8,
          9,
          10,
          11,
          12,
          13,
          14,
          16,
          17,
          18,
          19,
          20,
          22,
          24,
          25,
          26,
          27,
          28,
          29,
          30,
          31,
          32,
          34,
          36,
          37,
          38,
          40,
          41,
          42,
          43,
          44,
          45,
          46,
          47,
          48,
          49
         ],
         "y": [
          0.0029157,
          0.12031295999999997,
          0.17707529,
          0.039423789999999986,
          0.020625590000000006,
          0.00326295,
          0.11541790000000002,
          0.0006855300000000002,
          0.07159987000000002,
          0.02910053000000001,
          0.10468586999999997,
          0.02150309,
          0.0021823999999999997,
          0.0030173999999999995,
          0.002109440000000001,
          0.4203500500000002,
          0.3574395699999999,
          0.11474674000000004,
          0.09559584999999998,
          0.0007029400000000002,
          0.19127134999999992,
          0.018905959999999996,
          0.19205882,
          0.23691250999999994,
          0.15277255,
          0.11428385999999997,
          0.00075214,
          0.15069452999999997,
          0.03694716000000002,
          0.02293467,
          0.05635063000000003,
          0.13586912999999995,
          0.0007511599999999998,
          0.0010110499999999997,
          0.09728096999999998,
          0.22630350999999993,
          0.15173036,
          0.0015362200000000007,
          0.23279205,
          0.01997564,
          0.06259387,
          0.010039130000000002,
          0.14100393999999997
         ]
        }
       ],
       "layout": {
        "template": {
         "data": {
          "bar": [
           {
            "error_x": {
             "color": "#2a3f5f"
            },
            "error_y": {
             "color": "#2a3f5f"
            },
            "marker": {
             "line": {
              "color": "#E5ECF6",
              "width": 0.5
             },
             "pattern": {
              "fillmode": "overlay",
              "size": 10,
              "solidity": 0.2
             }
            },
            "type": "bar"
           }
          ],
          "barpolar": [
           {
            "marker": {
             "line": {
              "color": "#E5ECF6",
              "width": 0.5
             },
             "pattern": {
              "fillmode": "overlay",
              "size": 10,
              "solidity": 0.2
             }
            },
            "type": "barpolar"
           }
          ],
          "carpet": [
           {
            "aaxis": {
             "endlinecolor": "#2a3f5f",
             "gridcolor": "white",
             "linecolor": "white",
             "minorgridcolor": "white",
             "startlinecolor": "#2a3f5f"
            },
            "baxis": {
             "endlinecolor": "#2a3f5f",
             "gridcolor": "white",
             "linecolor": "white",
             "minorgridcolor": "white",
             "startlinecolor": "#2a3f5f"
            },
            "type": "carpet"
           }
          ],
          "choropleth": [
           {
            "colorbar": {
             "outlinewidth": 0,
             "ticks": ""
            },
            "type": "choropleth"
           }
          ],
          "contour": [
           {
            "colorbar": {
             "outlinewidth": 0,
             "ticks": ""
            },
            "colorscale": [
             [
              0,
              "#0d0887"
             ],
             [
              0.1111111111111111,
              "#46039f"
             ],
             [
              0.2222222222222222,
              "#7201a8"
             ],
             [
              0.3333333333333333,
              "#9c179e"
             ],
             [
              0.4444444444444444,
              "#bd3786"
             ],
             [
              0.5555555555555556,
              "#d8576b"
             ],
             [
              0.6666666666666666,
              "#ed7953"
             ],
             [
              0.7777777777777778,
              "#fb9f3a"
             ],
             [
              0.8888888888888888,
              "#fdca26"
             ],
             [
              1,
              "#f0f921"
             ]
            ],
            "type": "contour"
           }
          ],
          "contourcarpet": [
           {
            "colorbar": {
             "outlinewidth": 0,
             "ticks": ""
            },
            "type": "contourcarpet"
           }
          ],
          "heatmap": [
           {
            "colorbar": {
             "outlinewidth": 0,
             "ticks": ""
            },
            "colorscale": [
             [
              0,
              "#0d0887"
             ],
             [
              0.1111111111111111,
              "#46039f"
             ],
             [
              0.2222222222222222,
              "#7201a8"
             ],
             [
              0.3333333333333333,
              "#9c179e"
             ],
             [
              0.4444444444444444,
              "#bd3786"
             ],
             [
              0.5555555555555556,
              "#d8576b"
             ],
             [
              0.6666666666666666,
              "#ed7953"
             ],
             [
              0.7777777777777778,
              "#fb9f3a"
             ],
             [
              0.8888888888888888,
              "#fdca26"
             ],
             [
              1,
              "#f0f921"
             ]
            ],
            "type": "heatmap"
           }
          ],
          "heatmapgl": [
           {
            "colorbar": {
             "outlinewidth": 0,
             "ticks": ""
            },
            "colorscale": [
             [
              0,
              "#0d0887"
             ],
             [
              0.1111111111111111,
              "#46039f"
             ],
             [
              0.2222222222222222,
              "#7201a8"
             ],
             [
              0.3333333333333333,
              "#9c179e"
             ],
             [
              0.4444444444444444,
              "#bd3786"
             ],
             [
              0.5555555555555556,
              "#d8576b"
             ],
             [
              0.6666666666666666,
              "#ed7953"
             ],
             [
              0.7777777777777778,
              "#fb9f3a"
             ],
             [
              0.8888888888888888,
              "#fdca26"
             ],
             [
              1,
              "#f0f921"
             ]
            ],
            "type": "heatmapgl"
           }
          ],
          "histogram": [
           {
            "marker": {
             "pattern": {
              "fillmode": "overlay",
              "size": 10,
              "solidity": 0.2
             }
            },
            "type": "histogram"
           }
          ],
          "histogram2d": [
           {
            "colorbar": {
             "outlinewidth": 0,
             "ticks": ""
            },
            "colorscale": [
             [
              0,
              "#0d0887"
             ],
             [
              0.1111111111111111,
              "#46039f"
             ],
             [
              0.2222222222222222,
              "#7201a8"
             ],
             [
              0.3333333333333333,
              "#9c179e"
             ],
             [
              0.4444444444444444,
              "#bd3786"
             ],
             [
              0.5555555555555556,
              "#d8576b"
             ],
             [
              0.6666666666666666,
              "#ed7953"
             ],
             [
              0.7777777777777778,
              "#fb9f3a"
             ],
             [
              0.8888888888888888,
              "#fdca26"
             ],
             [
              1,
              "#f0f921"
             ]
            ],
            "type": "histogram2d"
           }
          ],
          "histogram2dcontour": [
           {
            "colorbar": {
             "outlinewidth": 0,
             "ticks": ""
            },
            "colorscale": [
             [
              0,
              "#0d0887"
             ],
             [
              0.1111111111111111,
              "#46039f"
             ],
             [
              0.2222222222222222,
              "#7201a8"
             ],
             [
              0.3333333333333333,
              "#9c179e"
             ],
             [
              0.4444444444444444,
              "#bd3786"
             ],
             [
              0.5555555555555556,
              "#d8576b"
             ],
             [
              0.6666666666666666,
              "#ed7953"
             ],
             [
              0.7777777777777778,
              "#fb9f3a"
             ],
             [
              0.8888888888888888,
              "#fdca26"
             ],
             [
              1,
              "#f0f921"
             ]
            ],
            "type": "histogram2dcontour"
           }
          ],
          "mesh3d": [
           {
            "colorbar": {
             "outlinewidth": 0,
             "ticks": ""
            },
            "type": "mesh3d"
           }
          ],
          "parcoords": [
           {
            "line": {
             "colorbar": {
              "outlinewidth": 0,
              "ticks": ""
             }
            },
            "type": "parcoords"
           }
          ],
          "pie": [
           {
            "automargin": true,
            "type": "pie"
           }
          ],
          "scatter": [
           {
            "fillpattern": {
             "fillmode": "overlay",
             "size": 10,
             "solidity": 0.2
            },
            "type": "scatter"
           }
          ],
          "scatter3d": [
           {
            "line": {
             "colorbar": {
              "outlinewidth": 0,
              "ticks": ""
             }
            },
            "marker": {
             "colorbar": {
              "outlinewidth": 0,
              "ticks": ""
             }
            },
            "type": "scatter3d"
           }
          ],
          "scattercarpet": [
           {
            "marker": {
             "colorbar": {
              "outlinewidth": 0,
              "ticks": ""
             }
            },
            "type": "scattercarpet"
           }
          ],
          "scattergeo": [
           {
            "marker": {
             "colorbar": {
              "outlinewidth": 0,
              "ticks": ""
             }
            },
            "type": "scattergeo"
           }
          ],
          "scattergl": [
           {
            "marker": {
             "colorbar": {
              "outlinewidth": 0,
              "ticks": ""
             }
            },
            "type": "scattergl"
           }
          ],
          "scattermapbox": [
           {
            "marker": {
             "colorbar": {
              "outlinewidth": 0,
              "ticks": ""
             }
            },
            "type": "scattermapbox"
           }
          ],
          "scatterpolar": [
           {
            "marker": {
             "colorbar": {
              "outlinewidth": 0,
              "ticks": ""
             }
            },
            "type": "scatterpolar"
           }
          ],
          "scatterpolargl": [
           {
            "marker": {
             "colorbar": {
              "outlinewidth": 0,
              "ticks": ""
             }
            },
            "type": "scatterpolargl"
           }
          ],
          "scatterternary": [
           {
            "marker": {
             "colorbar": {
              "outlinewidth": 0,
              "ticks": ""
             }
            },
            "type": "scatterternary"
           }
          ],
          "surface": [
           {
            "colorbar": {
             "outlinewidth": 0,
             "ticks": ""
            },
            "colorscale": [
             [
              0,
              "#0d0887"
             ],
             [
              0.1111111111111111,
              "#46039f"
             ],
             [
              0.2222222222222222,
              "#7201a8"
             ],
             [
              0.3333333333333333,
              "#9c179e"
             ],
             [
              0.4444444444444444,
              "#bd3786"
             ],
             [
              0.5555555555555556,
              "#d8576b"
             ],
             [
              0.6666666666666666,
              "#ed7953"
             ],
             [
              0.7777777777777778,
              "#fb9f3a"
             ],
             [
              0.8888888888888888,
              "#fdca26"
             ],
             [
              1,
              "#f0f921"
             ]
            ],
            "type": "surface"
           }
          ],
          "table": [
           {
            "cells": {
             "fill": {
              "color": "#EBF0F8"
             },
             "line": {
              "color": "white"
             }
            },
            "header": {
             "fill": {
              "color": "#C8D4E3"
             },
             "line": {
              "color": "white"
             }
            },
            "type": "table"
           }
          ]
         },
         "layout": {
          "annotationdefaults": {
           "arrowcolor": "#2a3f5f",
           "arrowhead": 0,
           "arrowwidth": 1
          },
          "autotypenumbers": "strict",
          "coloraxis": {
           "colorbar": {
            "outlinewidth": 0,
            "ticks": ""
           }
          },
          "colorscale": {
           "diverging": [
            [
             0,
             "#8e0152"
            ],
            [
             0.1,
             "#c51b7d"
            ],
            [
             0.2,
             "#de77ae"
            ],
            [
             0.3,
             "#f1b6da"
            ],
            [
             0.4,
             "#fde0ef"
            ],
            [
             0.5,
             "#f7f7f7"
            ],
            [
             0.6,
             "#e6f5d0"
            ],
            [
             0.7,
             "#b8e186"
            ],
            [
             0.8,
             "#7fbc41"
            ],
            [
             0.9,
             "#4d9221"
            ],
            [
             1,
             "#276419"
            ]
           ],
           "sequential": [
            [
             0,
             "#0d0887"
            ],
            [
             0.1111111111111111,
             "#46039f"
            ],
            [
             0.2222222222222222,
             "#7201a8"
            ],
            [
             0.3333333333333333,
             "#9c179e"
            ],
            [
             0.4444444444444444,
             "#bd3786"
            ],
            [
             0.5555555555555556,
             "#d8576b"
            ],
            [
             0.6666666666666666,
             "#ed7953"
            ],
            [
             0.7777777777777778,
             "#fb9f3a"
            ],
            [
             0.8888888888888888,
             "#fdca26"
            ],
            [
             1,
             "#f0f921"
            ]
           ],
           "sequentialminus": [
            [
             0,
             "#0d0887"
            ],
            [
             0.1111111111111111,
             "#46039f"
            ],
            [
             0.2222222222222222,
             "#7201a8"
            ],
            [
             0.3333333333333333,
             "#9c179e"
            ],
            [
             0.4444444444444444,
             "#bd3786"
            ],
            [
             0.5555555555555556,
             "#d8576b"
            ],
            [
             0.6666666666666666,
             "#ed7953"
            ],
            [
             0.7777777777777778,
             "#fb9f3a"
            ],
            [
             0.8888888888888888,
             "#fdca26"
            ],
            [
             1,
             "#f0f921"
            ]
           ]
          },
          "colorway": [
           "#636efa",
           "#EF553B",
           "#00cc96",
           "#ab63fa",
           "#FFA15A",
           "#19d3f3",
           "#FF6692",
           "#B6E880",
           "#FF97FF",
           "#FECB52"
          ],
          "font": {
           "color": "#2a3f5f"
          },
          "geo": {
           "bgcolor": "white",
           "lakecolor": "white",
           "landcolor": "#E5ECF6",
           "showlakes": true,
           "showland": true,
           "subunitcolor": "white"
          },
          "hoverlabel": {
           "align": "left"
          },
          "hovermode": "closest",
          "mapbox": {
           "style": "light"
          },
          "paper_bgcolor": "white",
          "plot_bgcolor": "#E5ECF6",
          "polar": {
           "angularaxis": {
            "gridcolor": "white",
            "linecolor": "white",
            "ticks": ""
           },
           "bgcolor": "#E5ECF6",
           "radialaxis": {
            "gridcolor": "white",
            "linecolor": "white",
            "ticks": ""
           }
          },
          "scene": {
           "xaxis": {
            "backgroundcolor": "#E5ECF6",
            "gridcolor": "white",
            "gridwidth": 2,
            "linecolor": "white",
            "showbackground": true,
            "ticks": "",
            "zerolinecolor": "white"
           },
           "yaxis": {
            "backgroundcolor": "#E5ECF6",
            "gridcolor": "white",
            "gridwidth": 2,
            "linecolor": "white",
            "showbackground": true,
            "ticks": "",
            "zerolinecolor": "white"
           },
           "zaxis": {
            "backgroundcolor": "#E5ECF6",
            "gridcolor": "white",
            "gridwidth": 2,
            "linecolor": "white",
            "showbackground": true,
            "ticks": "",
            "zerolinecolor": "white"
           }
          },
          "shapedefaults": {
           "line": {
            "color": "#2a3f5f"
           }
          },
          "ternary": {
           "aaxis": {
            "gridcolor": "white",
            "linecolor": "white",
            "ticks": ""
           },
           "baxis": {
            "gridcolor": "white",
            "linecolor": "white",
            "ticks": ""
           },
           "bgcolor": "#E5ECF6",
           "caxis": {
            "gridcolor": "white",
            "linecolor": "white",
            "ticks": ""
           }
          },
          "title": {
           "x": 0.05
          },
          "xaxis": {
           "automargin": true,
           "gridcolor": "white",
           "linecolor": "white",
           "ticks": "",
           "title": {
            "standoff": 15
           },
           "zerolinecolor": "white",
           "zerolinewidth": 2
          },
          "yaxis": {
           "automargin": true,
           "gridcolor": "white",
           "linecolor": "white",
           "ticks": "",
           "title": {
            "standoff": 15
           },
           "zerolinecolor": "white",
           "zerolinewidth": 2
          }
         }
        },
        "title": {
         "text": "Optimization History Plot"
        },
        "xaxis": {
         "title": {
          "text": "Trial"
         }
        },
        "yaxis": {
         "title": {
          "text": "Average time"
         }
        }
       }
      }
     },
     "metadata": {},
     "output_type": "display_data"
    }
   ],
   "source": [
    "plot_optimization_history(lsh_study, target = lambda t: t.values[1], target_name = 'Average time')"
   ]
  },
  {
   "cell_type": "code",
   "execution_count": 8,
   "metadata": {},
   "outputs": [
    {
     "data": {
      "application/vnd.plotly.v1+json": {
       "config": {
        "plotlyServerURL": "https://plot.ly"
       },
       "data": [
        {
         "marker": {
          "color": [
           1,
           15,
           21,
           23,
           33,
           35,
           39
          ],
          "colorbar": {
           "title": {
            "text": "Trial"
           },
           "x": 1,
           "xpad": 40
          },
          "colorscale": [
           [
            0,
            "rgb(247,251,255)"
           ],
           [
            0.125,
            "rgb(222,235,247)"
           ],
           [
            0.25,
            "rgb(198,219,239)"
           ],
           [
            0.375,
            "rgb(158,202,225)"
           ],
           [
            0.5,
            "rgb(107,174,214)"
           ],
           [
            0.625,
            "rgb(66,146,198)"
           ],
           [
            0.75,
            "rgb(33,113,181)"
           ],
           [
            0.875,
            "rgb(8,81,156)"
           ],
           [
            1,
            "rgb(8,48,107)"
           ]
          ],
          "line": {
           "color": "Grey",
           "width": 0.5
          },
          "showscale": true
         },
         "mode": "markers",
         "name": "Feasible Trial",
         "showlegend": false,
         "type": "scatter",
         "x": [
          3,
          9,
          4,
          6,
          10,
          10,
          4
         ],
         "xaxis": "x",
         "y": [
          1.499912106564422,
          1.7405303517508866,
          1.3606075712715895,
          1.2845873022975078,
          1.7231291614122928,
          1.3211970432230733,
          1.4230298958584962
         ],
         "yaxis": "y"
        },
        {
         "marker": {
          "color": "#cccccc"
         },
         "mode": "markers",
         "name": "Infeasible Trial",
         "showlegend": false,
         "type": "scatter",
         "x": [
          6,
          8,
          6,
          5,
          6,
          2,
          9,
          5,
          6,
          9,
          7,
          2,
          6,
          2,
          2,
          10,
          5,
          5,
          7,
          2,
          5,
          9,
          7,
          6,
          8,
          9,
          4,
          10,
          5,
          4,
          4,
          8,
          7,
          2,
          8,
          4,
          4,
          2,
          10,
          5,
          8,
          9,
          5
         ],
         "xaxis": "x",
         "y": [
          1.4737879905085032,
          1.0016436954345849,
          1,
          1.0713642739299358,
          1.2008418810414185,
          1.5831273752353285,
          1.008876982516312,
          1.7976931348623157e+308,
          1.01098321046841,
          1.1284524594554481,
          1.0178833911407317,
          1.2008555817617632,
          1.7201371597495037,
          1.5065832560954544,
          1.692785172031265,
          1,
          1,
          1.0030667027343796,
          1.0019077119803148,
          1.7976931348623157e+308,
          1.000196906315752,
          1.169075947667741,
          1,
          1,
          1.0000446746328602,
          1.0130629383245582,
          1.7976931348623157e+308,
          1,
          1.0369902545654195,
          1.110830626913023,
          1.031194777022799,
          1.0047270162049746,
          1.7976931348623157e+308,
          2.1746663295131157,
          1.0099462609224377,
          1,
          1.0078619807400493,
          2.3087085333945456,
          1.0001115268410337,
          1.1113900452814391,
          1.0157488177897585,
          1.152395647747845,
          1.0152371815700856
         ],
         "yaxis": "y"
        },
        {
         "marker": {
          "color": [
           1,
           15,
           21,
           23,
           33,
           35,
           39
          ],
          "colorbar": {
           "title": {
            "text": "Trial"
           },
           "x": 1,
           "xpad": 40
          },
          "colorscale": [
           [
            0,
            "rgb(247,251,255)"
           ],
           [
            0.125,
            "rgb(222,235,247)"
           ],
           [
            0.25,
            "rgb(198,219,239)"
           ],
           [
            0.375,
            "rgb(158,202,225)"
           ],
           [
            0.5,
            "rgb(107,174,214)"
           ],
           [
            0.625,
            "rgb(66,146,198)"
           ],
           [
            0.75,
            "rgb(33,113,181)"
           ],
           [
            0.875,
            "rgb(8,81,156)"
           ],
           [
            1,
            "rgb(8,48,107)"
           ]
          ],
          "line": {
           "color": "Grey",
           "width": 0.5
          },
          "showscale": false
         },
         "mode": "markers",
         "name": "Feasible Trial",
         "showlegend": false,
         "type": "scatter",
         "x": [
          3,
          10,
          7,
          10,
          8,
          7,
          4
         ],
         "xaxis": "x2",
         "y": [
          1.499912106564422,
          1.7405303517508866,
          1.3606075712715895,
          1.2845873022975078,
          1.7231291614122928,
          1.3211970432230733,
          1.4230298958584962
         ],
         "yaxis": "y2"
        },
        {
         "marker": {
          "color": "#cccccc"
         },
         "mode": "markers",
         "name": "Infeasible Trial",
         "showlegend": false,
         "type": "scatter",
         "x": [
          10,
          4,
          5,
          8,
          5,
          5,
          4,
          9,
          9,
          5,
          6,
          4,
          7,
          9,
          8,
          4,
          2,
          7,
          5,
          7,
          4,
          5,
          6,
          4,
          5,
          4,
          10,
          6,
          10,
          4,
          3,
          5,
          8,
          5,
          6,
          3,
          4,
          6,
          5,
          10,
          7,
          8,
          3
         ],
         "xaxis": "x2",
         "y": [
          1.4737879905085032,
          1.0016436954345849,
          1,
          1.0713642739299358,
          1.2008418810414185,
          1.5831273752353285,
          1.008876982516312,
          1.7976931348623157e+308,
          1.01098321046841,
          1.1284524594554481,
          1.0178833911407317,
          1.2008555817617632,
          1.7201371597495037,
          1.5065832560954544,
          1.692785172031265,
          1,
          1,
          1.0030667027343796,
          1.0019077119803148,
          1.7976931348623157e+308,
          1.000196906315752,
          1.169075947667741,
          1,
          1,
          1.0000446746328602,
          1.0130629383245582,
          1.7976931348623157e+308,
          1,
          1.0369902545654195,
          1.110830626913023,
          1.031194777022799,
          1.0047270162049746,
          1.7976931348623157e+308,
          2.1746663295131157,
          1.0099462609224377,
          1,
          1.0078619807400493,
          2.3087085333945456,
          1.0001115268410337,
          1.1113900452814391,
          1.0157488177897585,
          1.152395647747845,
          1.0152371815700856
         ],
         "yaxis": "y2"
        },
        {
         "marker": {
          "color": [
           1,
           15,
           21,
           23,
           33,
           35,
           39
          ],
          "colorbar": {
           "title": {
            "text": "Trial"
           },
           "x": 1,
           "xpad": 40
          },
          "colorscale": [
           [
            0,
            "rgb(247,251,255)"
           ],
           [
            0.125,
            "rgb(222,235,247)"
           ],
           [
            0.25,
            "rgb(198,219,239)"
           ],
           [
            0.375,
            "rgb(158,202,225)"
           ],
           [
            0.5,
            "rgb(107,174,214)"
           ],
           [
            0.625,
            "rgb(66,146,198)"
           ],
           [
            0.75,
            "rgb(33,113,181)"
           ],
           [
            0.875,
            "rgb(8,81,156)"
           ],
           [
            1,
            "rgb(8,48,107)"
           ]
          ],
          "line": {
           "color": "Grey",
           "width": 0.5
          },
          "showscale": false
         },
         "mode": "markers",
         "name": "Feasible Trial",
         "showlegend": false,
         "type": "scatter",
         "x": [
          false,
          false,
          false,
          true,
          false,
          false,
          false
         ],
         "xaxis": "x3",
         "y": [
          1.499912106564422,
          1.7405303517508866,
          1.3606075712715895,
          1.2845873022975078,
          1.7231291614122928,
          1.3211970432230733,
          1.4230298958584962
         ],
         "yaxis": "y3"
        },
        {
         "marker": {
          "color": "#cccccc"
         },
         "mode": "markers",
         "name": "Infeasible Trial",
         "showlegend": false,
         "type": "scatter",
         "x": [
          true,
          true,
          true,
          false,
          false,
          false,
          true,
          true,
          true,
          false,
          false,
          false,
          false,
          false,
          true,
          false,
          false,
          true,
          true,
          true,
          true,
          true,
          false,
          false,
          false,
          false,
          true,
          true,
          true,
          false,
          true,
          true,
          true,
          false,
          false,
          false,
          true,
          true,
          true,
          false,
          false,
          false,
          true
         ],
         "xaxis": "x3",
         "y": [
          1.4737879905085032,
          1.0016436954345849,
          1,
          1.0713642739299358,
          1.2008418810414185,
          1.5831273752353285,
          1.008876982516312,
          1.7976931348623157e+308,
          1.01098321046841,
          1.1284524594554481,
          1.0178833911407317,
          1.2008555817617632,
          1.7201371597495037,
          1.5065832560954544,
          1.692785172031265,
          1,
          1,
          1.0030667027343796,
          1.0019077119803148,
          1.7976931348623157e+308,
          1.000196906315752,
          1.169075947667741,
          1,
          1,
          1.0000446746328602,
          1.0130629383245582,
          1.7976931348623157e+308,
          1,
          1.0369902545654195,
          1.110830626913023,
          1.031194777022799,
          1.0047270162049746,
          1.7976931348623157e+308,
          2.1746663295131157,
          1.0099462609224377,
          1,
          1.0078619807400493,
          2.3087085333945456,
          1.0001115268410337,
          1.1113900452814391,
          1.0157488177897585,
          1.152395647747845,
          1.0152371815700856
         ],
         "yaxis": "y3"
        },
        {
         "marker": {
          "color": [
           1,
           15,
           21,
           23,
           33,
           35,
           39
          ],
          "colorbar": {
           "title": {
            "text": "Trial"
           },
           "x": 1,
           "xpad": 40
          },
          "colorscale": [
           [
            0,
            "rgb(247,251,255)"
           ],
           [
            0.125,
            "rgb(222,235,247)"
           ],
           [
            0.25,
            "rgb(198,219,239)"
           ],
           [
            0.375,
            "rgb(158,202,225)"
           ],
           [
            0.5,
            "rgb(107,174,214)"
           ],
           [
            0.625,
            "rgb(66,146,198)"
           ],
           [
            0.75,
            "rgb(33,113,181)"
           ],
           [
            0.875,
            "rgb(8,81,156)"
           ],
           [
            1,
            "rgb(8,48,107)"
           ]
          ],
          "line": {
           "color": "Grey",
           "width": 0.5
          },
          "showscale": false
         },
         "mode": "markers",
         "name": "Feasible Trial",
         "showlegend": false,
         "type": "scatter",
         "x": [
          3750,
          3750,
          15000,
          7500,
          3750,
          3750,
          3750
         ],
         "xaxis": "x4",
         "y": [
          1.499912106564422,
          1.7405303517508866,
          1.3606075712715895,
          1.2845873022975078,
          1.7231291614122928,
          1.3211970432230733,
          1.4230298958584962
         ],
         "yaxis": "y4"
        },
        {
         "marker": {
          "color": "#cccccc"
         },
         "mode": "markers",
         "name": "Infeasible Trial",
         "showlegend": false,
         "type": "scatter",
         "x": [
          15000,
          3750,
          15000,
          7500,
          3750,
          15000,
          7500,
          7500,
          7500,
          7500,
          15000,
          7500,
          7500,
          15000,
          15000,
          3750,
          3750,
          3750,
          3750,
          7500,
          3750,
          7500,
          15000,
          7500,
          7500,
          7500,
          3750,
          3750,
          7500,
          3750,
          15000,
          15000,
          15000,
          3750,
          3750,
          15000,
          15000,
          3750,
          15000,
          15000,
          3750,
          15000,
          7500
         ],
         "xaxis": "x4",
         "y": [
          1.4737879905085032,
          1.0016436954345849,
          1,
          1.0713642739299358,
          1.2008418810414185,
          1.5831273752353285,
          1.008876982516312,
          1.7976931348623157e+308,
          1.01098321046841,
          1.1284524594554481,
          1.0178833911407317,
          1.2008555817617632,
          1.7201371597495037,
          1.5065832560954544,
          1.692785172031265,
          1,
          1,
          1.0030667027343796,
          1.0019077119803148,
          1.7976931348623157e+308,
          1.000196906315752,
          1.169075947667741,
          1,
          1,
          1.0000446746328602,
          1.0130629383245582,
          1.7976931348623157e+308,
          1,
          1.0369902545654195,
          1.110830626913023,
          1.031194777022799,
          1.0047270162049746,
          1.7976931348623157e+308,
          2.1746663295131157,
          1.0099462609224377,
          1,
          1.0078619807400493,
          2.3087085333945456,
          1.0001115268410337,
          1.1113900452814391,
          1.0157488177897585,
          1.152395647747845,
          1.0152371815700856
         ],
         "yaxis": "y4"
        },
        {
         "marker": {
          "color": [
           1,
           15,
           21,
           23,
           33,
           35,
           39
          ],
          "colorbar": {
           "title": {
            "text": "Trial"
           },
           "x": 1,
           "xpad": 40
          },
          "colorscale": [
           [
            0,
            "rgb(247,251,255)"
           ],
           [
            0.125,
            "rgb(222,235,247)"
           ],
           [
            0.25,
            "rgb(198,219,239)"
           ],
           [
            0.375,
            "rgb(158,202,225)"
           ],
           [
            0.5,
            "rgb(107,174,214)"
           ],
           [
            0.625,
            "rgb(66,146,198)"
           ],
           [
            0.75,
            "rgb(33,113,181)"
           ],
           [
            0.875,
            "rgb(8,81,156)"
           ],
           [
            1,
            "rgb(8,48,107)"
           ]
          ],
          "line": {
           "color": "Grey",
           "width": 0.5
          },
          "showscale": false
         },
         "mode": "markers",
         "name": "Feasible Trial",
         "showlegend": false,
         "type": "scatter",
         "x": [
          1063,
          1439,
          1815,
          2609,
          1206,
          1532,
          1043
         ],
         "xaxis": "x5",
         "y": [
          1.499912106564422,
          1.7405303517508866,
          1.3606075712715895,
          1.2845873022975078,
          1.7231291614122928,
          1.3211970432230733,
          1.4230298958584962
         ],
         "yaxis": "y5"
        },
        {
         "marker": {
          "color": "#cccccc"
         },
         "mode": "markers",
         "name": "Infeasible Trial",
         "showlegend": false,
         "type": "scatter",
         "x": [
          2190,
          2921,
          4639,
          3678,
          1935,
          1648,
          2438,
          1202,
          4659,
          1956,
          4417,
          3101,
          1519,
          2736,
          1951,
          4999,
          3626,
          4212,
          2805,
          1718,
          4296,
          1679,
          4905,
          4996,
          4064,
          2409,
          1522,
          3677,
          4069,
          1754,
          2151,
          3602,
          1004,
          1087,
          3274,
          4249,
          4137,
          1795,
          3534,
          3585,
          3304,
          2242,
          2881
         ],
         "xaxis": "x5",
         "y": [
          1.4737879905085032,
          1.0016436954345849,
          1,
          1.0713642739299358,
          1.2008418810414185,
          1.5831273752353285,
          1.008876982516312,
          1.7976931348623157e+308,
          1.01098321046841,
          1.1284524594554481,
          1.0178833911407317,
          1.2008555817617632,
          1.7201371597495037,
          1.5065832560954544,
          1.692785172031265,
          1,
          1,
          1.0030667027343796,
          1.0019077119803148,
          1.7976931348623157e+308,
          1.000196906315752,
          1.169075947667741,
          1,
          1,
          1.0000446746328602,
          1.0130629383245582,
          1.7976931348623157e+308,
          1,
          1.0369902545654195,
          1.110830626913023,
          1.031194777022799,
          1.0047270162049746,
          1.7976931348623157e+308,
          2.1746663295131157,
          1.0099462609224377,
          1,
          1.0078619807400493,
          2.3087085333945456,
          1.0001115268410337,
          1.1113900452814391,
          1.0157488177897585,
          1.152395647747845,
          1.0152371815700856
         ],
         "yaxis": "y5"
        }
       ],
       "layout": {
        "template": {
         "data": {
          "bar": [
           {
            "error_x": {
             "color": "#2a3f5f"
            },
            "error_y": {
             "color": "#2a3f5f"
            },
            "marker": {
             "line": {
              "color": "#E5ECF6",
              "width": 0.5
             },
             "pattern": {
              "fillmode": "overlay",
              "size": 10,
              "solidity": 0.2
             }
            },
            "type": "bar"
           }
          ],
          "barpolar": [
           {
            "marker": {
             "line": {
              "color": "#E5ECF6",
              "width": 0.5
             },
             "pattern": {
              "fillmode": "overlay",
              "size": 10,
              "solidity": 0.2
             }
            },
            "type": "barpolar"
           }
          ],
          "carpet": [
           {
            "aaxis": {
             "endlinecolor": "#2a3f5f",
             "gridcolor": "white",
             "linecolor": "white",
             "minorgridcolor": "white",
             "startlinecolor": "#2a3f5f"
            },
            "baxis": {
             "endlinecolor": "#2a3f5f",
             "gridcolor": "white",
             "linecolor": "white",
             "minorgridcolor": "white",
             "startlinecolor": "#2a3f5f"
            },
            "type": "carpet"
           }
          ],
          "choropleth": [
           {
            "colorbar": {
             "outlinewidth": 0,
             "ticks": ""
            },
            "type": "choropleth"
           }
          ],
          "contour": [
           {
            "colorbar": {
             "outlinewidth": 0,
             "ticks": ""
            },
            "colorscale": [
             [
              0,
              "#0d0887"
             ],
             [
              0.1111111111111111,
              "#46039f"
             ],
             [
              0.2222222222222222,
              "#7201a8"
             ],
             [
              0.3333333333333333,
              "#9c179e"
             ],
             [
              0.4444444444444444,
              "#bd3786"
             ],
             [
              0.5555555555555556,
              "#d8576b"
             ],
             [
              0.6666666666666666,
              "#ed7953"
             ],
             [
              0.7777777777777778,
              "#fb9f3a"
             ],
             [
              0.8888888888888888,
              "#fdca26"
             ],
             [
              1,
              "#f0f921"
             ]
            ],
            "type": "contour"
           }
          ],
          "contourcarpet": [
           {
            "colorbar": {
             "outlinewidth": 0,
             "ticks": ""
            },
            "type": "contourcarpet"
           }
          ],
          "heatmap": [
           {
            "colorbar": {
             "outlinewidth": 0,
             "ticks": ""
            },
            "colorscale": [
             [
              0,
              "#0d0887"
             ],
             [
              0.1111111111111111,
              "#46039f"
             ],
             [
              0.2222222222222222,
              "#7201a8"
             ],
             [
              0.3333333333333333,
              "#9c179e"
             ],
             [
              0.4444444444444444,
              "#bd3786"
             ],
             [
              0.5555555555555556,
              "#d8576b"
             ],
             [
              0.6666666666666666,
              "#ed7953"
             ],
             [
              0.7777777777777778,
              "#fb9f3a"
             ],
             [
              0.8888888888888888,
              "#fdca26"
             ],
             [
              1,
              "#f0f921"
             ]
            ],
            "type": "heatmap"
           }
          ],
          "heatmapgl": [
           {
            "colorbar": {
             "outlinewidth": 0,
             "ticks": ""
            },
            "colorscale": [
             [
              0,
              "#0d0887"
             ],
             [
              0.1111111111111111,
              "#46039f"
             ],
             [
              0.2222222222222222,
              "#7201a8"
             ],
             [
              0.3333333333333333,
              "#9c179e"
             ],
             [
              0.4444444444444444,
              "#bd3786"
             ],
             [
              0.5555555555555556,
              "#d8576b"
             ],
             [
              0.6666666666666666,
              "#ed7953"
             ],
             [
              0.7777777777777778,
              "#fb9f3a"
             ],
             [
              0.8888888888888888,
              "#fdca26"
             ],
             [
              1,
              "#f0f921"
             ]
            ],
            "type": "heatmapgl"
           }
          ],
          "histogram": [
           {
            "marker": {
             "pattern": {
              "fillmode": "overlay",
              "size": 10,
              "solidity": 0.2
             }
            },
            "type": "histogram"
           }
          ],
          "histogram2d": [
           {
            "colorbar": {
             "outlinewidth": 0,
             "ticks": ""
            },
            "colorscale": [
             [
              0,
              "#0d0887"
             ],
             [
              0.1111111111111111,
              "#46039f"
             ],
             [
              0.2222222222222222,
              "#7201a8"
             ],
             [
              0.3333333333333333,
              "#9c179e"
             ],
             [
              0.4444444444444444,
              "#bd3786"
             ],
             [
              0.5555555555555556,
              "#d8576b"
             ],
             [
              0.6666666666666666,
              "#ed7953"
             ],
             [
              0.7777777777777778,
              "#fb9f3a"
             ],
             [
              0.8888888888888888,
              "#fdca26"
             ],
             [
              1,
              "#f0f921"
             ]
            ],
            "type": "histogram2d"
           }
          ],
          "histogram2dcontour": [
           {
            "colorbar": {
             "outlinewidth": 0,
             "ticks": ""
            },
            "colorscale": [
             [
              0,
              "#0d0887"
             ],
             [
              0.1111111111111111,
              "#46039f"
             ],
             [
              0.2222222222222222,
              "#7201a8"
             ],
             [
              0.3333333333333333,
              "#9c179e"
             ],
             [
              0.4444444444444444,
              "#bd3786"
             ],
             [
              0.5555555555555556,
              "#d8576b"
             ],
             [
              0.6666666666666666,
              "#ed7953"
             ],
             [
              0.7777777777777778,
              "#fb9f3a"
             ],
             [
              0.8888888888888888,
              "#fdca26"
             ],
             [
              1,
              "#f0f921"
             ]
            ],
            "type": "histogram2dcontour"
           }
          ],
          "mesh3d": [
           {
            "colorbar": {
             "outlinewidth": 0,
             "ticks": ""
            },
            "type": "mesh3d"
           }
          ],
          "parcoords": [
           {
            "line": {
             "colorbar": {
              "outlinewidth": 0,
              "ticks": ""
             }
            },
            "type": "parcoords"
           }
          ],
          "pie": [
           {
            "automargin": true,
            "type": "pie"
           }
          ],
          "scatter": [
           {
            "fillpattern": {
             "fillmode": "overlay",
             "size": 10,
             "solidity": 0.2
            },
            "type": "scatter"
           }
          ],
          "scatter3d": [
           {
            "line": {
             "colorbar": {
              "outlinewidth": 0,
              "ticks": ""
             }
            },
            "marker": {
             "colorbar": {
              "outlinewidth": 0,
              "ticks": ""
             }
            },
            "type": "scatter3d"
           }
          ],
          "scattercarpet": [
           {
            "marker": {
             "colorbar": {
              "outlinewidth": 0,
              "ticks": ""
             }
            },
            "type": "scattercarpet"
           }
          ],
          "scattergeo": [
           {
            "marker": {
             "colorbar": {
              "outlinewidth": 0,
              "ticks": ""
             }
            },
            "type": "scattergeo"
           }
          ],
          "scattergl": [
           {
            "marker": {
             "colorbar": {
              "outlinewidth": 0,
              "ticks": ""
             }
            },
            "type": "scattergl"
           }
          ],
          "scattermapbox": [
           {
            "marker": {
             "colorbar": {
              "outlinewidth": 0,
              "ticks": ""
             }
            },
            "type": "scattermapbox"
           }
          ],
          "scatterpolar": [
           {
            "marker": {
             "colorbar": {
              "outlinewidth": 0,
              "ticks": ""
             }
            },
            "type": "scatterpolar"
           }
          ],
          "scatterpolargl": [
           {
            "marker": {
             "colorbar": {
              "outlinewidth": 0,
              "ticks": ""
             }
            },
            "type": "scatterpolargl"
           }
          ],
          "scatterternary": [
           {
            "marker": {
             "colorbar": {
              "outlinewidth": 0,
              "ticks": ""
             }
            },
            "type": "scatterternary"
           }
          ],
          "surface": [
           {
            "colorbar": {
             "outlinewidth": 0,
             "ticks": ""
            },
            "colorscale": [
             [
              0,
              "#0d0887"
             ],
             [
              0.1111111111111111,
              "#46039f"
             ],
             [
              0.2222222222222222,
              "#7201a8"
             ],
             [
              0.3333333333333333,
              "#9c179e"
             ],
             [
              0.4444444444444444,
              "#bd3786"
             ],
             [
              0.5555555555555556,
              "#d8576b"
             ],
             [
              0.6666666666666666,
              "#ed7953"
             ],
             [
              0.7777777777777778,
              "#fb9f3a"
             ],
             [
              0.8888888888888888,
              "#fdca26"
             ],
             [
              1,
              "#f0f921"
             ]
            ],
            "type": "surface"
           }
          ],
          "table": [
           {
            "cells": {
             "fill": {
              "color": "#EBF0F8"
             },
             "line": {
              "color": "white"
             }
            },
            "header": {
             "fill": {
              "color": "#C8D4E3"
             },
             "line": {
              "color": "white"
             }
            },
            "type": "table"
           }
          ]
         },
         "layout": {
          "annotationdefaults": {
           "arrowcolor": "#2a3f5f",
           "arrowhead": 0,
           "arrowwidth": 1
          },
          "autotypenumbers": "strict",
          "coloraxis": {
           "colorbar": {
            "outlinewidth": 0,
            "ticks": ""
           }
          },
          "colorscale": {
           "diverging": [
            [
             0,
             "#8e0152"
            ],
            [
             0.1,
             "#c51b7d"
            ],
            [
             0.2,
             "#de77ae"
            ],
            [
             0.3,
             "#f1b6da"
            ],
            [
             0.4,
             "#fde0ef"
            ],
            [
             0.5,
             "#f7f7f7"
            ],
            [
             0.6,
             "#e6f5d0"
            ],
            [
             0.7,
             "#b8e186"
            ],
            [
             0.8,
             "#7fbc41"
            ],
            [
             0.9,
             "#4d9221"
            ],
            [
             1,
             "#276419"
            ]
           ],
           "sequential": [
            [
             0,
             "#0d0887"
            ],
            [
             0.1111111111111111,
             "#46039f"
            ],
            [
             0.2222222222222222,
             "#7201a8"
            ],
            [
             0.3333333333333333,
             "#9c179e"
            ],
            [
             0.4444444444444444,
             "#bd3786"
            ],
            [
             0.5555555555555556,
             "#d8576b"
            ],
            [
             0.6666666666666666,
             "#ed7953"
            ],
            [
             0.7777777777777778,
             "#fb9f3a"
            ],
            [
             0.8888888888888888,
             "#fdca26"
            ],
            [
             1,
             "#f0f921"
            ]
           ],
           "sequentialminus": [
            [
             0,
             "#0d0887"
            ],
            [
             0.1111111111111111,
             "#46039f"
            ],
            [
             0.2222222222222222,
             "#7201a8"
            ],
            [
             0.3333333333333333,
             "#9c179e"
            ],
            [
             0.4444444444444444,
             "#bd3786"
            ],
            [
             0.5555555555555556,
             "#d8576b"
            ],
            [
             0.6666666666666666,
             "#ed7953"
            ],
            [
             0.7777777777777778,
             "#fb9f3a"
            ],
            [
             0.8888888888888888,
             "#fdca26"
            ],
            [
             1,
             "#f0f921"
            ]
           ]
          },
          "colorway": [
           "#636efa",
           "#EF553B",
           "#00cc96",
           "#ab63fa",
           "#FFA15A",
           "#19d3f3",
           "#FF6692",
           "#B6E880",
           "#FF97FF",
           "#FECB52"
          ],
          "font": {
           "color": "#2a3f5f"
          },
          "geo": {
           "bgcolor": "white",
           "lakecolor": "white",
           "landcolor": "#E5ECF6",
           "showlakes": true,
           "showland": true,
           "subunitcolor": "white"
          },
          "hoverlabel": {
           "align": "left"
          },
          "hovermode": "closest",
          "mapbox": {
           "style": "light"
          },
          "paper_bgcolor": "white",
          "plot_bgcolor": "#E5ECF6",
          "polar": {
           "angularaxis": {
            "gridcolor": "white",
            "linecolor": "white",
            "ticks": ""
           },
           "bgcolor": "#E5ECF6",
           "radialaxis": {
            "gridcolor": "white",
            "linecolor": "white",
            "ticks": ""
           }
          },
          "scene": {
           "xaxis": {
            "backgroundcolor": "#E5ECF6",
            "gridcolor": "white",
            "gridwidth": 2,
            "linecolor": "white",
            "showbackground": true,
            "ticks": "",
            "zerolinecolor": "white"
           },
           "yaxis": {
            "backgroundcolor": "#E5ECF6",
            "gridcolor": "white",
            "gridwidth": 2,
            "linecolor": "white",
            "showbackground": true,
            "ticks": "",
            "zerolinecolor": "white"
           },
           "zaxis": {
            "backgroundcolor": "#E5ECF6",
            "gridcolor": "white",
            "gridwidth": 2,
            "linecolor": "white",
            "showbackground": true,
            "ticks": "",
            "zerolinecolor": "white"
           }
          },
          "shapedefaults": {
           "line": {
            "color": "#2a3f5f"
           }
          },
          "ternary": {
           "aaxis": {
            "gridcolor": "white",
            "linecolor": "white",
            "ticks": ""
           },
           "baxis": {
            "gridcolor": "white",
            "linecolor": "white",
            "ticks": ""
           },
           "bgcolor": "#E5ECF6",
           "caxis": {
            "gridcolor": "white",
            "linecolor": "white",
            "ticks": ""
           }
          },
          "title": {
           "x": 0.05
          },
          "xaxis": {
           "automargin": true,
           "gridcolor": "white",
           "linecolor": "white",
           "ticks": "",
           "title": {
            "standoff": 15
           },
           "zerolinecolor": "white",
           "zerolinewidth": 2
          },
          "yaxis": {
           "automargin": true,
           "gridcolor": "white",
           "linecolor": "white",
           "ticks": "",
           "title": {
            "standoff": 15
           },
           "zerolinecolor": "white",
           "zerolinewidth": 2
          }
         }
        },
        "title": {
         "text": "Slice Plot"
        },
        "width": 1500,
        "xaxis": {
         "anchor": "y",
         "domain": [
          0,
          0.16799999999999998
         ],
         "title": {
          "text": "L"
         }
        },
        "xaxis2": {
         "anchor": "y2",
         "domain": [
          0.208,
          0.376
         ],
         "title": {
          "text": "k"
         }
        },
        "xaxis3": {
         "anchor": "y3",
         "categoryarray": [
          true,
          false
         ],
         "categoryorder": "array",
         "domain": [
          0.416,
          0.584
         ],
         "title": {
          "text": "query_trick"
         },
         "type": "category"
        },
        "xaxis4": {
         "anchor": "y4",
         "categoryarray": [
          3750,
          7500,
          15000
         ],
         "categoryorder": "array",
         "domain": [
          0.624,
          0.792
         ],
         "title": {
          "text": "table_size"
         },
         "type": "category"
        },
        "xaxis5": {
         "anchor": "y5",
         "domain": [
          0.832,
          1
         ],
         "title": {
          "text": "window_size"
         }
        },
        "yaxis": {
         "anchor": "x",
         "domain": [
          0,
          1
         ],
         "title": {
          "text": "MAF"
         }
        },
        "yaxis2": {
         "anchor": "x2",
         "domain": [
          0,
          1
         ],
         "matches": "y",
         "showticklabels": false
        },
        "yaxis3": {
         "anchor": "x3",
         "domain": [
          0,
          1
         ],
         "matches": "y",
         "showticklabels": false
        },
        "yaxis4": {
         "anchor": "x4",
         "domain": [
          0,
          1
         ],
         "matches": "y",
         "showticklabels": false
        },
        "yaxis5": {
         "anchor": "x5",
         "domain": [
          0,
          1
         ],
         "matches": "y",
         "showticklabels": false
        }
       }
      }
     },
     "metadata": {},
     "output_type": "display_data"
    }
   ],
   "source": [
    "plot_slice(lsh_study, target = lambda t: t.values[0], target_name = 'MAF')"
   ]
  },
  {
   "cell_type": "code",
   "execution_count": 9,
   "metadata": {},
   "outputs": [
    {
     "data": {
      "application/vnd.plotly.v1+json": {
       "config": {
        "plotlyServerURL": "https://plot.ly"
       },
       "data": [
        {
         "mode": "markers",
         "name": "Average time",
         "type": "scatter",
         "x": [
          1,
          15,
          21,
          23,
          33,
          35,
          39
         ],
         "y": [
          0.00921434,
          0.0013091200000000006,
          0.0026778199999999996,
          0.00703459,
          0.0014273500000000002,
          0.0032278300000000005,
          0.003321590000000001
         ]
        },
        {
         "marker": {
          "color": "#cccccc"
         },
         "mode": "markers",
         "name": "Infeasible Trial",
         "showlegend": false,
         "type": "scatter",
         "x": [
          0,
          2,
          3,
          4,
          5,
          6,
          7,
          8,
          9,
          10,
          11,
          12,
          13,
          14,
          16,
          17,
          18,
          19,
          20,
          22,
          24,
          25,
          26,
          27,
          28,
          29,
          30,
          31,
          32,
          34,
          36,
          37,
          38,
          40,
          41,
          42,
          43,
          44,
          45,
          46,
          47,
          48,
          49
         ],
         "y": [
          0.0029157,
          0.12031295999999997,
          0.17707529,
          0.039423789999999986,
          0.020625590000000006,
          0.00326295,
          0.11541790000000002,
          0.0006855300000000002,
          0.07159987000000002,
          0.02910053000000001,
          0.10468586999999997,
          0.02150309,
          0.0021823999999999997,
          0.0030173999999999995,
          0.002109440000000001,
          0.4203500500000002,
          0.3574395699999999,
          0.11474674000000004,
          0.09559584999999998,
          0.0007029400000000002,
          0.19127134999999992,
          0.018905959999999996,
          0.19205882,
          0.23691250999999994,
          0.15277255,
          0.11428385999999997,
          0.00075214,
          0.15069452999999997,
          0.03694716000000002,
          0.02293467,
          0.05635063000000003,
          0.13586912999999995,
          0.0007511599999999998,
          0.0010110499999999997,
          0.09728096999999998,
          0.22630350999999993,
          0.15173036,
          0.0015362200000000007,
          0.23279205,
          0.01997564,
          0.06259387,
          0.010039130000000002,
          0.14100393999999997
         ]
        }
       ],
       "layout": {
        "template": {
         "data": {
          "bar": [
           {
            "error_x": {
             "color": "#2a3f5f"
            },
            "error_y": {
             "color": "#2a3f5f"
            },
            "marker": {
             "line": {
              "color": "#E5ECF6",
              "width": 0.5
             },
             "pattern": {
              "fillmode": "overlay",
              "size": 10,
              "solidity": 0.2
             }
            },
            "type": "bar"
           }
          ],
          "barpolar": [
           {
            "marker": {
             "line": {
              "color": "#E5ECF6",
              "width": 0.5
             },
             "pattern": {
              "fillmode": "overlay",
              "size": 10,
              "solidity": 0.2
             }
            },
            "type": "barpolar"
           }
          ],
          "carpet": [
           {
            "aaxis": {
             "endlinecolor": "#2a3f5f",
             "gridcolor": "white",
             "linecolor": "white",
             "minorgridcolor": "white",
             "startlinecolor": "#2a3f5f"
            },
            "baxis": {
             "endlinecolor": "#2a3f5f",
             "gridcolor": "white",
             "linecolor": "white",
             "minorgridcolor": "white",
             "startlinecolor": "#2a3f5f"
            },
            "type": "carpet"
           }
          ],
          "choropleth": [
           {
            "colorbar": {
             "outlinewidth": 0,
             "ticks": ""
            },
            "type": "choropleth"
           }
          ],
          "contour": [
           {
            "colorbar": {
             "outlinewidth": 0,
             "ticks": ""
            },
            "colorscale": [
             [
              0,
              "#0d0887"
             ],
             [
              0.1111111111111111,
              "#46039f"
             ],
             [
              0.2222222222222222,
              "#7201a8"
             ],
             [
              0.3333333333333333,
              "#9c179e"
             ],
             [
              0.4444444444444444,
              "#bd3786"
             ],
             [
              0.5555555555555556,
              "#d8576b"
             ],
             [
              0.6666666666666666,
              "#ed7953"
             ],
             [
              0.7777777777777778,
              "#fb9f3a"
             ],
             [
              0.8888888888888888,
              "#fdca26"
             ],
             [
              1,
              "#f0f921"
             ]
            ],
            "type": "contour"
           }
          ],
          "contourcarpet": [
           {
            "colorbar": {
             "outlinewidth": 0,
             "ticks": ""
            },
            "type": "contourcarpet"
           }
          ],
          "heatmap": [
           {
            "colorbar": {
             "outlinewidth": 0,
             "ticks": ""
            },
            "colorscale": [
             [
              0,
              "#0d0887"
             ],
             [
              0.1111111111111111,
              "#46039f"
             ],
             [
              0.2222222222222222,
              "#7201a8"
             ],
             [
              0.3333333333333333,
              "#9c179e"
             ],
             [
              0.4444444444444444,
              "#bd3786"
             ],
             [
              0.5555555555555556,
              "#d8576b"
             ],
             [
              0.6666666666666666,
              "#ed7953"
             ],
             [
              0.7777777777777778,
              "#fb9f3a"
             ],
             [
              0.8888888888888888,
              "#fdca26"
             ],
             [
              1,
              "#f0f921"
             ]
            ],
            "type": "heatmap"
           }
          ],
          "heatmapgl": [
           {
            "colorbar": {
             "outlinewidth": 0,
             "ticks": ""
            },
            "colorscale": [
             [
              0,
              "#0d0887"
             ],
             [
              0.1111111111111111,
              "#46039f"
             ],
             [
              0.2222222222222222,
              "#7201a8"
             ],
             [
              0.3333333333333333,
              "#9c179e"
             ],
             [
              0.4444444444444444,
              "#bd3786"
             ],
             [
              0.5555555555555556,
              "#d8576b"
             ],
             [
              0.6666666666666666,
              "#ed7953"
             ],
             [
              0.7777777777777778,
              "#fb9f3a"
             ],
             [
              0.8888888888888888,
              "#fdca26"
             ],
             [
              1,
              "#f0f921"
             ]
            ],
            "type": "heatmapgl"
           }
          ],
          "histogram": [
           {
            "marker": {
             "pattern": {
              "fillmode": "overlay",
              "size": 10,
              "solidity": 0.2
             }
            },
            "type": "histogram"
           }
          ],
          "histogram2d": [
           {
            "colorbar": {
             "outlinewidth": 0,
             "ticks": ""
            },
            "colorscale": [
             [
              0,
              "#0d0887"
             ],
             [
              0.1111111111111111,
              "#46039f"
             ],
             [
              0.2222222222222222,
              "#7201a8"
             ],
             [
              0.3333333333333333,
              "#9c179e"
             ],
             [
              0.4444444444444444,
              "#bd3786"
             ],
             [
              0.5555555555555556,
              "#d8576b"
             ],
             [
              0.6666666666666666,
              "#ed7953"
             ],
             [
              0.7777777777777778,
              "#fb9f3a"
             ],
             [
              0.8888888888888888,
              "#fdca26"
             ],
             [
              1,
              "#f0f921"
             ]
            ],
            "type": "histogram2d"
           }
          ],
          "histogram2dcontour": [
           {
            "colorbar": {
             "outlinewidth": 0,
             "ticks": ""
            },
            "colorscale": [
             [
              0,
              "#0d0887"
             ],
             [
              0.1111111111111111,
              "#46039f"
             ],
             [
              0.2222222222222222,
              "#7201a8"
             ],
             [
              0.3333333333333333,
              "#9c179e"
             ],
             [
              0.4444444444444444,
              "#bd3786"
             ],
             [
              0.5555555555555556,
              "#d8576b"
             ],
             [
              0.6666666666666666,
              "#ed7953"
             ],
             [
              0.7777777777777778,
              "#fb9f3a"
             ],
             [
              0.8888888888888888,
              "#fdca26"
             ],
             [
              1,
              "#f0f921"
             ]
            ],
            "type": "histogram2dcontour"
           }
          ],
          "mesh3d": [
           {
            "colorbar": {
             "outlinewidth": 0,
             "ticks": ""
            },
            "type": "mesh3d"
           }
          ],
          "parcoords": [
           {
            "line": {
             "colorbar": {
              "outlinewidth": 0,
              "ticks": ""
             }
            },
            "type": "parcoords"
           }
          ],
          "pie": [
           {
            "automargin": true,
            "type": "pie"
           }
          ],
          "scatter": [
           {
            "fillpattern": {
             "fillmode": "overlay",
             "size": 10,
             "solidity": 0.2
            },
            "type": "scatter"
           }
          ],
          "scatter3d": [
           {
            "line": {
             "colorbar": {
              "outlinewidth": 0,
              "ticks": ""
             }
            },
            "marker": {
             "colorbar": {
              "outlinewidth": 0,
              "ticks": ""
             }
            },
            "type": "scatter3d"
           }
          ],
          "scattercarpet": [
           {
            "marker": {
             "colorbar": {
              "outlinewidth": 0,
              "ticks": ""
             }
            },
            "type": "scattercarpet"
           }
          ],
          "scattergeo": [
           {
            "marker": {
             "colorbar": {
              "outlinewidth": 0,
              "ticks": ""
             }
            },
            "type": "scattergeo"
           }
          ],
          "scattergl": [
           {
            "marker": {
             "colorbar": {
              "outlinewidth": 0,
              "ticks": ""
             }
            },
            "type": "scattergl"
           }
          ],
          "scattermapbox": [
           {
            "marker": {
             "colorbar": {
              "outlinewidth": 0,
              "ticks": ""
             }
            },
            "type": "scattermapbox"
           }
          ],
          "scatterpolar": [
           {
            "marker": {
             "colorbar": {
              "outlinewidth": 0,
              "ticks": ""
             }
            },
            "type": "scatterpolar"
           }
          ],
          "scatterpolargl": [
           {
            "marker": {
             "colorbar": {
              "outlinewidth": 0,
              "ticks": ""
             }
            },
            "type": "scatterpolargl"
           }
          ],
          "scatterternary": [
           {
            "marker": {
             "colorbar": {
              "outlinewidth": 0,
              "ticks": ""
             }
            },
            "type": "scatterternary"
           }
          ],
          "surface": [
           {
            "colorbar": {
             "outlinewidth": 0,
             "ticks": ""
            },
            "colorscale": [
             [
              0,
              "#0d0887"
             ],
             [
              0.1111111111111111,
              "#46039f"
             ],
             [
              0.2222222222222222,
              "#7201a8"
             ],
             [
              0.3333333333333333,
              "#9c179e"
             ],
             [
              0.4444444444444444,
              "#bd3786"
             ],
             [
              0.5555555555555556,
              "#d8576b"
             ],
             [
              0.6666666666666666,
              "#ed7953"
             ],
             [
              0.7777777777777778,
              "#fb9f3a"
             ],
             [
              0.8888888888888888,
              "#fdca26"
             ],
             [
              1,
              "#f0f921"
             ]
            ],
            "type": "surface"
           }
          ],
          "table": [
           {
            "cells": {
             "fill": {
              "color": "#EBF0F8"
             },
             "line": {
              "color": "white"
             }
            },
            "header": {
             "fill": {
              "color": "#C8D4E3"
             },
             "line": {
              "color": "white"
             }
            },
            "type": "table"
           }
          ]
         },
         "layout": {
          "annotationdefaults": {
           "arrowcolor": "#2a3f5f",
           "arrowhead": 0,
           "arrowwidth": 1
          },
          "autotypenumbers": "strict",
          "coloraxis": {
           "colorbar": {
            "outlinewidth": 0,
            "ticks": ""
           }
          },
          "colorscale": {
           "diverging": [
            [
             0,
             "#8e0152"
            ],
            [
             0.1,
             "#c51b7d"
            ],
            [
             0.2,
             "#de77ae"
            ],
            [
             0.3,
             "#f1b6da"
            ],
            [
             0.4,
             "#fde0ef"
            ],
            [
             0.5,
             "#f7f7f7"
            ],
            [
             0.6,
             "#e6f5d0"
            ],
            [
             0.7,
             "#b8e186"
            ],
            [
             0.8,
             "#7fbc41"
            ],
            [
             0.9,
             "#4d9221"
            ],
            [
             1,
             "#276419"
            ]
           ],
           "sequential": [
            [
             0,
             "#0d0887"
            ],
            [
             0.1111111111111111,
             "#46039f"
            ],
            [
             0.2222222222222222,
             "#7201a8"
            ],
            [
             0.3333333333333333,
             "#9c179e"
            ],
            [
             0.4444444444444444,
             "#bd3786"
            ],
            [
             0.5555555555555556,
             "#d8576b"
            ],
            [
             0.6666666666666666,
             "#ed7953"
            ],
            [
             0.7777777777777778,
             "#fb9f3a"
            ],
            [
             0.8888888888888888,
             "#fdca26"
            ],
            [
             1,
             "#f0f921"
            ]
           ],
           "sequentialminus": [
            [
             0,
             "#0d0887"
            ],
            [
             0.1111111111111111,
             "#46039f"
            ],
            [
             0.2222222222222222,
             "#7201a8"
            ],
            [
             0.3333333333333333,
             "#9c179e"
            ],
            [
             0.4444444444444444,
             "#bd3786"
            ],
            [
             0.5555555555555556,
             "#d8576b"
            ],
            [
             0.6666666666666666,
             "#ed7953"
            ],
            [
             0.7777777777777778,
             "#fb9f3a"
            ],
            [
             0.8888888888888888,
             "#fdca26"
            ],
            [
             1,
             "#f0f921"
            ]
           ]
          },
          "colorway": [
           "#636efa",
           "#EF553B",
           "#00cc96",
           "#ab63fa",
           "#FFA15A",
           "#19d3f3",
           "#FF6692",
           "#B6E880",
           "#FF97FF",
           "#FECB52"
          ],
          "font": {
           "color": "#2a3f5f"
          },
          "geo": {
           "bgcolor": "white",
           "lakecolor": "white",
           "landcolor": "#E5ECF6",
           "showlakes": true,
           "showland": true,
           "subunitcolor": "white"
          },
          "hoverlabel": {
           "align": "left"
          },
          "hovermode": "closest",
          "mapbox": {
           "style": "light"
          },
          "paper_bgcolor": "white",
          "plot_bgcolor": "#E5ECF6",
          "polar": {
           "angularaxis": {
            "gridcolor": "white",
            "linecolor": "white",
            "ticks": ""
           },
           "bgcolor": "#E5ECF6",
           "radialaxis": {
            "gridcolor": "white",
            "linecolor": "white",
            "ticks": ""
           }
          },
          "scene": {
           "xaxis": {
            "backgroundcolor": "#E5ECF6",
            "gridcolor": "white",
            "gridwidth": 2,
            "linecolor": "white",
            "showbackground": true,
            "ticks": "",
            "zerolinecolor": "white"
           },
           "yaxis": {
            "backgroundcolor": "#E5ECF6",
            "gridcolor": "white",
            "gridwidth": 2,
            "linecolor": "white",
            "showbackground": true,
            "ticks": "",
            "zerolinecolor": "white"
           },
           "zaxis": {
            "backgroundcolor": "#E5ECF6",
            "gridcolor": "white",
            "gridwidth": 2,
            "linecolor": "white",
            "showbackground": true,
            "ticks": "",
            "zerolinecolor": "white"
           }
          },
          "shapedefaults": {
           "line": {
            "color": "#2a3f5f"
           }
          },
          "ternary": {
           "aaxis": {
            "gridcolor": "white",
            "linecolor": "white",
            "ticks": ""
           },
           "baxis": {
            "gridcolor": "white",
            "linecolor": "white",
            "ticks": ""
           },
           "bgcolor": "#E5ECF6",
           "caxis": {
            "gridcolor": "white",
            "linecolor": "white",
            "ticks": ""
           }
          },
          "title": {
           "x": 0.05
          },
          "xaxis": {
           "automargin": true,
           "gridcolor": "white",
           "linecolor": "white",
           "ticks": "",
           "title": {
            "standoff": 15
           },
           "zerolinecolor": "white",
           "zerolinewidth": 2
          },
          "yaxis": {
           "automargin": true,
           "gridcolor": "white",
           "linecolor": "white",
           "ticks": "",
           "title": {
            "standoff": 15
           },
           "zerolinecolor": "white",
           "zerolinewidth": 2
          }
         }
        },
        "title": {
         "text": "Optimization History Plot"
        },
        "xaxis": {
         "title": {
          "text": "Trial"
         }
        },
        "yaxis": {
         "title": {
          "text": "Average time"
         }
        }
       }
      }
     },
     "metadata": {},
     "output_type": "display_data"
    }
   ],
   "source": [
    "plot_optimization_history(lsh_study, target = lambda t: t.values[1], target_name = 'Average time')"
   ]
  },
  {
   "cell_type": "markdown",
   "metadata": {},
   "source": [
    "# Optimize without constraints"
   ]
  },
  {
   "cell_type": "code",
   "execution_count": 3,
   "metadata": {},
   "outputs": [],
   "source": [
    "def objective_lsh(trial):\n",
    "    param_dict = {'k': trial.suggest_int('k', 2, 10),\n",
    "                  'L': trial.suggest_int('L', 2, 10),\n",
    "                  'table_size': trial.suggest_categorical('table_size', [int(n/16), int(n/8), int(n/4)]),\n",
    "                  'window_size': trial.suggest_int('window_size', 1000, 5000),\n",
    "                  'query_trick': trial.suggest_categorical('query_trick', [True, False])\n",
    "                 }\n",
    "    \n",
    "    print(\"Trial parameters:\", param_dict)\n",
    "\n",
    "    average_time, maf, min_neighbors = lsh_test(input_path, query_path, queries_num=100, **param_dict, N=50)\n",
    "\n",
    "    return maf.value, average_time.value, min_neighbors.value"
   ]
  },
  {
   "cell_type": "code",
   "execution_count": 4,
   "metadata": {},
   "outputs": [
    {
     "name": "stderr",
     "output_type": "stream",
     "text": [
      "[I 2023-11-26 18:29:54,478] A new study created in memory with name: lsh\n"
     ]
    },
    {
     "name": "stdout",
     "output_type": "stream",
     "text": [
      "Trial parameters: {'k': 9, 'L': 6, 'table_size': 15000, 'window_size': 2456, 'query_trick': True}\n",
      "Read MNIST data\n",
      "Done\n",
      "Algorithm: LSH\n",
      "Query: 0\n",
      "Query: 1\n",
      "Query: 2\n",
      "Query: 3\n",
      "Query: 4\n",
      "Query: 5\n",
      "Query: 6\n",
      "Query: 7\n",
      "Query: 8\n",
      "Query: 9\n",
      "Query: 10\n",
      "Query: 11\n",
      "Query: 12\n",
      "Query: 13\n",
      "Query: 14\n",
      "Query: 15\n",
      "Query: 16\n",
      "Query: 17\n",
      "Query: 18\n",
      "Query: 19\n",
      "Query: 20\n",
      "Query: 21\n",
      "Query: 22\n",
      "Query: 23\n",
      "Query: 24\n",
      "Query: 25\n",
      "Query: 26\n",
      "Query: 27\n",
      "Query: 28\n",
      "Query: 29\n",
      "Query: 30\n",
      "Query: 31\n",
      "Query: 32\n",
      "Query: 33\n",
      "Query: 34\n",
      "Query: 35\n",
      "Query: 36\n",
      "Query: 37\n",
      "Query: 38\n",
      "Query: 39\n",
      "Query: 40\n",
      "Query: 41\n",
      "Query: 42\n",
      "Query: 43\n",
      "Query: 44\n",
      "Query: 45\n",
      "Query: 46\n",
      "Query: 47\n",
      "Query: 48\n",
      "Query: 49\n",
      "Query: 50\n",
      "Query: 51\n",
      "Query: 52\n",
      "Query: 53\n",
      "Query: 54\n",
      "Query: 55\n",
      "Query: 56\n",
      "Query: 57\n",
      "Query: 58\n",
      "Query: 59\n",
      "Query: 60\n",
      "Query: 61\n",
      "Query: 62\n",
      "Query: 63\n",
      "Query: 64\n",
      "Query: 65\n",
      "Query: 66\n",
      "Query: 67\n",
      "Query: 68\n",
      "Query: 69\n",
      "Query: 70\n",
      "Query: 71\n",
      "Query: 72\n",
      "Query: 73\n",
      "Query: 74\n",
      "Query: 75\n",
      "Query: 76\n",
      "Query: 77\n",
      "Query: 78\n",
      "Query: 79\n",
      "Query: 80\n",
      "Query: 81\n",
      "Query: 82\n",
      "Query: 83\n",
      "Query: 84\n",
      "Query: 85\n",
      "Query: 86\n",
      "Query: 87\n",
      "Query: 88\n",
      "Query: 89\n",
      "Query: 90\n",
      "Query: 91\n",
      "Query: 92\n",
      "Query: 93\n",
      "Query: 94\n",
      "Query: 95\n",
      "Query: 96\n",
      "Query: 97\n",
      "Query: 98\n",
      "Query: 99\n"
     ]
    },
    {
     "name": "stderr",
     "output_type": "stream",
     "text": [
      "[I 2023-11-26 18:30:38,632] Trial 0 finished with values: [1.2863161135729677, 0.004823560000000001, 50.0] and parameters: {'k': 9, 'L': 6, 'table_size': 15000, 'window_size': 2456, 'query_trick': True}. \n"
     ]
    },
    {
     "name": "stdout",
     "output_type": "stream",
     "text": [
      "Trial parameters: {'k': 2, 'L': 7, 'table_size': 3750, 'window_size': 1288, 'query_trick': False}\n",
      "Read MNIST data\n",
      "Done\n",
      "Algorithm: LSH\n",
      "Query: 0\n",
      "Query: 1\n",
      "Query: 2\n",
      "Query: 3\n",
      "Query: 4\n",
      "Query: 5\n",
      "Query: 6\n",
      "Query: 7\n",
      "Query: 8\n",
      "Query: 9\n",
      "Query: 10\n",
      "Query: 11\n",
      "Query: 12\n",
      "Query: 13\n",
      "Query: 14\n",
      "Query: 15\n",
      "Query: 16\n",
      "Query: 17\n",
      "Query: 18\n",
      "Query: 19\n",
      "Query: 20\n",
      "Query: 21\n",
      "Query: 22\n",
      "Query: 23\n",
      "Query: 24\n",
      "Query: 25\n",
      "Query: 26\n",
      "Query: 27\n",
      "Query: 28\n",
      "Query: 29\n",
      "Query: 30\n",
      "Query: 31\n",
      "Query: 32\n",
      "Query: 33\n",
      "Query: 34\n",
      "Query: 35\n",
      "Query: 36\n",
      "Query: 37\n",
      "Query: 38\n",
      "Query: 39\n",
      "Query: 40\n",
      "Query: 41\n",
      "Query: 42\n",
      "Query: 43\n",
      "Query: 44\n",
      "Query: 45\n",
      "Query: 46\n",
      "Query: 47\n",
      "Query: 48\n",
      "Query: 49\n",
      "Query: 50\n",
      "Query: 51\n",
      "Query: 52\n",
      "Query: 53\n",
      "Query: 54\n",
      "Query: 55\n",
      "Query: 56\n",
      "Query: 57\n",
      "Query: 58\n",
      "Query: 59\n",
      "Query: 60\n",
      "Query: 61\n",
      "Query: 62\n",
      "Query: 63\n",
      "Query: 64\n",
      "Query: 65\n",
      "Query: 66\n",
      "Query: 67\n",
      "Query: 68\n",
      "Query: 69\n",
      "Query: 70\n",
      "Query: 71\n",
      "Query: 72\n",
      "Query: 73\n",
      "Query: 74\n",
      "Query: 75\n",
      "Query: 76\n",
      "Query: 77\n",
      "Query: 78\n",
      "Query: 79\n",
      "Query: 80\n",
      "Query: 81\n",
      "Query: 82\n",
      "Query: 83\n",
      "Query: 84\n",
      "Query: 85\n",
      "Query: 86\n",
      "Query: 87\n",
      "Query: 88\n",
      "Query: 89\n",
      "Query: 90\n",
      "Query: 91\n",
      "Query: 92\n",
      "Query: 93\n",
      "Query: 94\n",
      "Query: 95\n",
      "Query: 96\n",
      "Query: 97\n",
      "Query: 98\n",
      "Query: 99\n"
     ]
    },
    {
     "name": "stderr",
     "output_type": "stream",
     "text": [
      "[I 2023-11-26 18:31:17,262] Trial 1 finished with values: [1.027435474263356, 0.07817652000000001, 50.0] and parameters: {'k': 2, 'L': 7, 'table_size': 3750, 'window_size': 1288, 'query_trick': False}. \n"
     ]
    },
    {
     "name": "stdout",
     "output_type": "stream",
     "text": [
      "Trial parameters: {'k': 4, 'L': 3, 'table_size': 3750, 'window_size': 1871, 'query_trick': False}\n",
      "Read MNIST data\n",
      "Done\n",
      "Algorithm: LSH\n",
      "Query: 0\n",
      "Query: 1\n",
      "Query: 2\n",
      "Query: 3\n",
      "Query: 4\n",
      "Query: 5\n",
      "Query: 6\n",
      "Query: 7\n",
      "Query: 8\n",
      "Query: 9\n",
      "Query: 10\n",
      "Query: 11\n",
      "Query: 12\n",
      "Query: 13\n",
      "Query: 14\n",
      "Query: 15\n",
      "Query: 16\n",
      "Query: 17\n",
      "Query: 18\n",
      "Query: 19\n",
      "Query: 20\n",
      "Query: 21\n",
      "Query: 22\n",
      "Query: 23\n",
      "Query: 24\n",
      "Query: 25\n",
      "Query: 26\n",
      "Query: 27\n",
      "Query: 28\n",
      "Query: 29\n",
      "Query: 30\n",
      "Query: 31\n",
      "Query: 32\n",
      "Query: 33\n",
      "Query: 34\n",
      "Query: 35\n",
      "Query: 36\n",
      "Query: 37\n",
      "Query: 38\n",
      "Query: 39\n",
      "Query: 40\n",
      "Query: 41\n",
      "Query: 42\n",
      "Query: 43\n",
      "Query: 44\n",
      "Query: 45\n",
      "Query: 46\n",
      "Query: 47\n",
      "Query: 48\n",
      "Query: 49\n",
      "Query: 50\n",
      "Query: 51\n",
      "Query: 52\n",
      "Query: 53\n",
      "Query: 54\n",
      "Query: 55\n",
      "Query: 56\n",
      "Query: 57\n",
      "Query: 58\n",
      "Query: 59\n",
      "Query: 60\n",
      "Query: 61\n",
      "Query: 62\n",
      "Query: 63\n",
      "Query: 64\n",
      "Query: 65\n",
      "Query: 66\n",
      "Query: 67\n",
      "Query: 68\n",
      "Query: 69\n",
      "Query: 70\n",
      "Query: 71\n",
      "Query: 72\n",
      "Query: 73\n",
      "Query: 74\n",
      "Query: 75\n",
      "Query: 76\n",
      "Query: 77\n",
      "Query: 78\n",
      "Query: 79\n",
      "Query: 80\n",
      "Query: 81\n",
      "Query: 82\n",
      "Query: 83\n",
      "Query: 84\n",
      "Query: 85\n",
      "Query: 86\n",
      "Query: 87\n",
      "Query: 88\n",
      "Query: 89\n",
      "Query: 90\n",
      "Query: 91\n",
      "Query: 92\n",
      "Query: 93\n",
      "Query: 94\n",
      "Query: 95\n",
      "Query: 96\n",
      "Query: 97\n",
      "Query: 98\n",
      "Query: 99\n"
     ]
    },
    {
     "name": "stderr",
     "output_type": "stream",
     "text": [
      "[I 2023-11-26 18:31:47,713] Trial 2 finished with values: [1.1969214509228467, 0.01123237, 50.0] and parameters: {'k': 4, 'L': 3, 'table_size': 3750, 'window_size': 1871, 'query_trick': False}. \n"
     ]
    },
    {
     "name": "stdout",
     "output_type": "stream",
     "text": [
      "Trial parameters: {'k': 8, 'L': 8, 'table_size': 7500, 'window_size': 2770, 'query_trick': True}\n",
      "Read MNIST data\n",
      "Done\n",
      "Algorithm: LSH\n",
      "Query: 0\n",
      "Query: 1\n",
      "Query: 2\n",
      "Query: 3\n",
      "Query: 4\n",
      "Query: 5\n",
      "Query: 6\n",
      "Query: 7\n",
      "Query: 8\n",
      "Query: 9\n",
      "Query: 10\n",
      "Query: 11\n",
      "Query: 12\n",
      "Query: 13\n",
      "Query: 14\n",
      "Query: 15\n",
      "Query: 16\n",
      "Query: 17\n",
      "Query: 18\n",
      "Query: 19\n",
      "Query: 20\n",
      "Query: 21\n",
      "Query: 22\n",
      "Query: 23\n",
      "Query: 24\n",
      "Query: 25\n",
      "Query: 26\n",
      "Query: 27\n",
      "Query: 28\n",
      "Query: 29\n",
      "Query: 30\n",
      "Query: 31\n",
      "Query: 32\n",
      "Query: 33\n",
      "Query: 34\n",
      "Query: 35\n",
      "Query: 36\n",
      "Query: 37\n",
      "Query: 38\n",
      "Query: 39\n",
      "Query: 40\n",
      "Query: 41\n",
      "Query: 42\n",
      "Query: 43\n",
      "Query: 44\n",
      "Query: 45\n",
      "Query: 46\n",
      "Query: 47\n",
      "Query: 48\n",
      "Query: 49\n",
      "Query: 50\n",
      "Query: 51\n",
      "Query: 52\n",
      "Query: 53\n",
      "Query: 54\n",
      "Query: 55\n",
      "Query: 56\n",
      "Query: 57\n",
      "Query: 58\n",
      "Query: 59\n",
      "Query: 60\n",
      "Query: 61\n",
      "Query: 62\n",
      "Query: 63\n",
      "Query: 64\n",
      "Query: 65\n",
      "Query: 66\n",
      "Query: 67\n",
      "Query: 68\n",
      "Query: 69\n",
      "Query: 70\n",
      "Query: 71\n",
      "Query: 72\n",
      "Query: 73\n",
      "Query: 74\n",
      "Query: 75\n",
      "Query: 76\n",
      "Query: 77\n",
      "Query: 78\n",
      "Query: 79\n",
      "Query: 80\n",
      "Query: 81\n",
      "Query: 82\n",
      "Query: 83\n",
      "Query: 84\n",
      "Query: 85\n",
      "Query: 86\n",
      "Query: 87\n",
      "Query: 88\n",
      "Query: 89\n",
      "Query: 90\n",
      "Query: 91\n",
      "Query: 92\n",
      "Query: 93\n",
      "Query: 94\n",
      "Query: 95\n",
      "Query: 96\n",
      "Query: 97\n",
      "Query: 98\n",
      "Query: 99\n"
     ]
    },
    {
     "name": "stderr",
     "output_type": "stream",
     "text": [
      "[I 2023-11-26 18:32:38,237] Trial 3 finished with values: [1.0807682800596285, 0.02115718, 50.0] and parameters: {'k': 8, 'L': 8, 'table_size': 7500, 'window_size': 2770, 'query_trick': True}. \n"
     ]
    },
    {
     "name": "stdout",
     "output_type": "stream",
     "text": [
      "Trial parameters: {'k': 9, 'L': 4, 'table_size': 15000, 'window_size': 2439, 'query_trick': False}\n",
      "Read MNIST data\n",
      "Done\n",
      "Algorithm: LSH\n",
      "Query: 0\n",
      "Query: 1\n",
      "Query: 2\n",
      "Query: 3\n",
      "Query: 4\n",
      "Query: 5\n",
      "Query: 6\n",
      "Query: 7\n",
      "Query: 8\n",
      "Query: 9\n",
      "Query: 10\n",
      "Query: 11\n",
      "Query: 12\n",
      "Query: 13\n",
      "Query: 14\n",
      "Query: 15\n",
      "Query: 16\n",
      "Query: 17\n",
      "Query: 18\n",
      "Query: 19\n",
      "Query: 20\n",
      "Query: 21\n",
      "Query: 22\n",
      "Query: 23\n",
      "Query: 24\n",
      "Query: 25\n",
      "Query: 26\n",
      "Query: 27\n",
      "Query: 28\n",
      "Query: 29\n",
      "Query: 30\n",
      "Query: 31\n",
      "Query: 32\n",
      "Query: 33\n",
      "Query: 34\n",
      "Query: 35\n",
      "Query: 36\n",
      "Query: 37\n",
      "Query: 38\n",
      "Query: 39\n",
      "Query: 40\n",
      "Query: 41\n",
      "Query: 42\n",
      "Query: 43\n",
      "Query: 44\n",
      "Query: 45\n",
      "Query: 46\n",
      "Query: 47\n",
      "Query: 48\n",
      "Query: 49\n",
      "Query: 50\n",
      "Query: 51\n",
      "Query: 52\n",
      "Query: 53\n",
      "Query: 54\n",
      "Query: 55\n",
      "Query: 56\n",
      "Query: 57\n",
      "Query: 58\n",
      "Query: 59\n",
      "Query: 60\n",
      "Query: 61\n",
      "Query: 62\n",
      "Query: 63\n",
      "Query: 64\n",
      "Query: 65\n",
      "Query: 66\n",
      "Query: 67\n",
      "Query: 68\n",
      "Query: 69\n",
      "Query: 70\n",
      "Query: 71\n",
      "Query: 72\n",
      "Query: 73\n",
      "Query: 74\n",
      "Query: 75\n",
      "Query: 76\n",
      "Query: 77\n",
      "Query: 78\n",
      "Query: 79\n",
      "Query: 80\n",
      "Query: 81\n",
      "Query: 82\n",
      "Query: 83\n",
      "Query: 84\n",
      "Query: 85\n",
      "Query: 86\n",
      "Query: 87\n",
      "Query: 88\n",
      "Query: 89\n",
      "Query: 90\n",
      "Query: 91\n",
      "Query: 92\n",
      "Query: 93\n",
      "Query: 94\n",
      "Query: 95\n",
      "Query: 96\n",
      "Query: 97\n",
      "Query: 98\n",
      "Query: 99\n"
     ]
    },
    {
     "name": "stderr",
     "output_type": "stream",
     "text": [
      "[I 2023-11-26 18:33:18,200] Trial 4 finished with values: [1.415033622119244, 0.003524680000000001, 18.0] and parameters: {'k': 9, 'L': 4, 'table_size': 15000, 'window_size': 2439, 'query_trick': False}. \n"
     ]
    },
    {
     "name": "stdout",
     "output_type": "stream",
     "text": [
      "Trial parameters: {'k': 8, 'L': 9, 'table_size': 15000, 'window_size': 2114, 'query_trick': True}\n",
      "Read MNIST data\n",
      "Done\n",
      "Algorithm: LSH\n",
      "Query: 0\n",
      "Query: 1\n",
      "Query: 2\n",
      "Query: 3\n",
      "Query: 4\n",
      "Query: 5\n",
      "Query: 6\n",
      "Query: 7\n",
      "Query: 8\n",
      "Query: 9\n",
      "Query: 10\n",
      "Query: 11\n",
      "Query: 12\n",
      "Query: 13\n",
      "Query: 14\n",
      "Query: 15\n",
      "Query: 16\n",
      "Query: 17\n",
      "Query: 18\n",
      "Query: 19\n",
      "Query: 20\n",
      "Query: 21\n",
      "Query: 22\n",
      "Query: 23\n",
      "Query: 24\n",
      "Query: 25\n",
      "Query: 26\n",
      "Query: 27\n",
      "Query: 28\n",
      "Query: 29\n",
      "Query: 30\n",
      "Query: 31\n",
      "Query: 32\n",
      "Query: 33\n",
      "Query: 34\n",
      "Query: 35\n",
      "Query: 36\n",
      "Query: 37\n",
      "Query: 38\n",
      "Query: 39\n",
      "Query: 40\n",
      "Query: 41\n",
      "Query: 42\n",
      "Query: 43\n",
      "Query: 44\n",
      "Query: 45\n",
      "Query: 46\n",
      "Query: 47\n",
      "Query: 48\n",
      "Query: 49\n",
      "Query: 50\n",
      "Query: 51\n",
      "Query: 52\n",
      "Query: 53\n",
      "Query: 54\n",
      "Query: 55\n",
      "Query: 56\n",
      "Query: 57\n",
      "Query: 58\n",
      "Query: 59\n",
      "Query: 60\n",
      "Query: 61\n",
      "Query: 62\n",
      "Query: 63\n",
      "Query: 64\n",
      "Query: 65\n",
      "Query: 66\n",
      "Query: 67\n",
      "Query: 68\n",
      "Query: 69\n",
      "Query: 70\n",
      "Query: 71\n",
      "Query: 72\n",
      "Query: 73\n",
      "Query: 74\n",
      "Query: 75\n",
      "Query: 76\n",
      "Query: 77\n",
      "Query: 78\n",
      "Query: 79\n",
      "Query: 80\n",
      "Query: 81\n",
      "Query: 82\n",
      "Query: 83\n",
      "Query: 84\n",
      "Query: 85\n",
      "Query: 86\n",
      "Query: 87\n",
      "Query: 88\n",
      "Query: 89\n",
      "Query: 90\n",
      "Query: 91\n",
      "Query: 92\n",
      "Query: 93\n",
      "Query: 94\n",
      "Query: 95\n",
      "Query: 96\n",
      "Query: 97\n",
      "Query: 98\n",
      "Query: 99\n"
     ]
    },
    {
     "name": "stderr",
     "output_type": "stream",
     "text": [
      "[I 2023-11-26 18:34:10,946] Trial 5 finished with values: [1.3264488992413344, 0.0051971299999999995, 50.0] and parameters: {'k': 8, 'L': 9, 'table_size': 15000, 'window_size': 2114, 'query_trick': True}. \n"
     ]
    },
    {
     "name": "stdout",
     "output_type": "stream",
     "text": [
      "Trial parameters: {'k': 6, 'L': 4, 'table_size': 3750, 'window_size': 1925, 'query_trick': True}\n",
      "Read MNIST data\n",
      "Done\n",
      "Algorithm: LSH\n",
      "Query: 0\n",
      "Query: 1\n",
      "Query: 2\n",
      "Query: 3\n",
      "Query: 4\n",
      "Query: 5\n",
      "Query: 6\n",
      "Query: 7\n",
      "Query: 8\n",
      "Query: 9\n",
      "Query: 10\n",
      "Query: 11\n",
      "Query: 12\n",
      "Query: 13\n",
      "Query: 14\n",
      "Query: 15\n",
      "Query: 16\n",
      "Query: 17\n",
      "Query: 18\n",
      "Query: 19\n",
      "Query: 20\n",
      "Query: 21\n",
      "Query: 22\n",
      "Query: 23\n",
      "Query: 24\n",
      "Query: 25\n",
      "Query: 26\n",
      "Query: 27\n",
      "Query: 28\n",
      "Query: 29\n",
      "Query: 30\n",
      "Query: 31\n",
      "Query: 32\n",
      "Query: 33\n",
      "Query: 34\n",
      "Query: 35\n",
      "Query: 36\n",
      "Query: 37\n",
      "Query: 38\n",
      "Query: 39\n",
      "Query: 40\n",
      "Query: 41\n",
      "Query: 42\n",
      "Query: 43\n",
      "Query: 44\n",
      "Query: 45\n",
      "Query: 46\n",
      "Query: 47\n",
      "Query: 48\n",
      "Query: 49\n",
      "Query: 50\n",
      "Query: 51\n",
      "Query: 52\n",
      "Query: 53\n",
      "Query: 54\n",
      "Query: 55\n",
      "Query: 56\n",
      "Query: 57\n",
      "Query: 58\n",
      "Query: 59\n",
      "Query: 60\n",
      "Query: 61\n",
      "Query: 62\n",
      "Query: 63\n",
      "Query: 64\n",
      "Query: 65\n",
      "Query: 66\n",
      "Query: 67\n",
      "Query: 68\n",
      "Query: 69\n",
      "Query: 70\n",
      "Query: 71\n",
      "Query: 72\n",
      "Query: 73\n",
      "Query: 74\n",
      "Query: 75\n",
      "Query: 76\n",
      "Query: 77\n",
      "Query: 78\n",
      "Query: 79\n",
      "Query: 80\n",
      "Query: 81\n",
      "Query: 82\n",
      "Query: 83\n",
      "Query: 84\n",
      "Query: 85\n",
      "Query: 86\n",
      "Query: 87\n",
      "Query: 88\n",
      "Query: 89\n",
      "Query: 90\n",
      "Query: 91\n",
      "Query: 92\n",
      "Query: 93\n",
      "Query: 94\n",
      "Query: 95\n",
      "Query: 96\n",
      "Query: 97\n",
      "Query: 98\n",
      "Query: 99\n"
     ]
    },
    {
     "name": "stderr",
     "output_type": "stream",
     "text": [
      "[I 2023-11-26 18:34:46,819] Trial 6 finished with values: [1.3927914730283129, 0.0041317199999999984, 50.0] and parameters: {'k': 6, 'L': 4, 'table_size': 3750, 'window_size': 1925, 'query_trick': True}. \n"
     ]
    },
    {
     "name": "stdout",
     "output_type": "stream",
     "text": [
      "Trial parameters: {'k': 4, 'L': 6, 'table_size': 3750, 'window_size': 3102, 'query_trick': True}\n",
      "Read MNIST data\n",
      "Done\n",
      "Algorithm: LSH\n",
      "Query: 0\n",
      "Query: 1\n",
      "Query: 2\n",
      "Query: 3\n",
      "Query: 4\n",
      "Query: 5\n",
      "Query: 6\n",
      "Query: 7\n",
      "Query: 8\n",
      "Query: 9\n",
      "Query: 10\n",
      "Query: 11\n",
      "Query: 12\n",
      "Query: 13\n",
      "Query: 14\n",
      "Query: 15\n",
      "Query: 16\n",
      "Query: 17\n",
      "Query: 18\n",
      "Query: 19\n",
      "Query: 20\n",
      "Query: 21\n",
      "Query: 22\n",
      "Query: 23\n",
      "Query: 24\n",
      "Query: 25\n",
      "Query: 26\n",
      "Query: 27\n",
      "Query: 28\n",
      "Query: 29\n",
      "Query: 30\n",
      "Query: 31\n",
      "Query: 32\n",
      "Query: 33\n",
      "Query: 34\n",
      "Query: 35\n",
      "Query: 36\n",
      "Query: 37\n",
      "Query: 38\n",
      "Query: 39\n",
      "Query: 40\n",
      "Query: 41\n",
      "Query: 42\n",
      "Query: 43\n",
      "Query: 44\n",
      "Query: 45\n",
      "Query: 46\n",
      "Query: 47\n",
      "Query: 48\n",
      "Query: 49\n",
      "Query: 50\n",
      "Query: 51\n",
      "Query: 52\n",
      "Query: 53\n",
      "Query: 54\n",
      "Query: 55\n",
      "Query: 56\n",
      "Query: 57\n",
      "Query: 58\n",
      "Query: 59\n",
      "Query: 60\n",
      "Query: 61\n",
      "Query: 62\n",
      "Query: 63\n",
      "Query: 64\n",
      "Query: 65\n",
      "Query: 66\n",
      "Query: 67\n",
      "Query: 68\n",
      "Query: 69\n",
      "Query: 70\n",
      "Query: 71\n",
      "Query: 72\n",
      "Query: 73\n",
      "Query: 74\n",
      "Query: 75\n",
      "Query: 76\n",
      "Query: 77\n",
      "Query: 78\n",
      "Query: 79\n",
      "Query: 80\n",
      "Query: 81\n",
      "Query: 82\n",
      "Query: 83\n",
      "Query: 84\n",
      "Query: 85\n",
      "Query: 86\n",
      "Query: 87\n",
      "Query: 88\n",
      "Query: 89\n",
      "Query: 90\n",
      "Query: 91\n",
      "Query: 92\n",
      "Query: 93\n",
      "Query: 94\n",
      "Query: 95\n",
      "Query: 96\n",
      "Query: 97\n",
      "Query: 98\n",
      "Query: 99\n"
     ]
    },
    {
     "name": "stderr",
     "output_type": "stream",
     "text": [
      "[I 2023-11-26 18:35:34,149] Trial 7 finished with values: [1.0140417391023338, 0.11600840000000001, 50.0] and parameters: {'k': 4, 'L': 6, 'table_size': 3750, 'window_size': 3102, 'query_trick': True}. \n"
     ]
    },
    {
     "name": "stdout",
     "output_type": "stream",
     "text": [
      "Trial parameters: {'k': 2, 'L': 3, 'table_size': 7500, 'window_size': 3758, 'query_trick': True}\n",
      "Read MNIST data\n",
      "Done\n",
      "Algorithm: LSH\n",
      "Query: 0\n",
      "Query: 1\n",
      "Query: 2\n",
      "Query: 3\n",
      "Query: 4\n",
      "Query: 5\n",
      "Query: 6\n",
      "Query: 7\n",
      "Query: 8\n",
      "Query: 9\n",
      "Query: 10\n",
      "Query: 11\n",
      "Query: 12\n",
      "Query: 13\n",
      "Query: 14\n",
      "Query: 15\n",
      "Query: 16\n",
      "Query: 17\n",
      "Query: 18\n",
      "Query: 19\n",
      "Query: 20\n",
      "Query: 21\n",
      "Query: 22\n",
      "Query: 23\n",
      "Query: 24\n",
      "Query: 25\n",
      "Query: 26\n",
      "Query: 27\n",
      "Query: 28\n",
      "Query: 29\n",
      "Query: 30\n",
      "Query: 31\n",
      "Query: 32\n",
      "Query: 33\n",
      "Query: 34\n",
      "Query: 35\n",
      "Query: 36\n",
      "Query: 37\n",
      "Query: 38\n",
      "Query: 39\n",
      "Query: 40\n",
      "Query: 41\n",
      "Query: 42\n",
      "Query: 43\n",
      "Query: 44\n",
      "Query: 45\n",
      "Query: 46\n",
      "Query: 47\n",
      "Query: 48\n",
      "Query: 49\n",
      "Query: 50\n",
      "Query: 51\n",
      "Query: 52\n",
      "Query: 53\n",
      "Query: 54\n",
      "Query: 55\n",
      "Query: 56\n",
      "Query: 57\n",
      "Query: 58\n",
      "Query: 59\n",
      "Query: 60\n",
      "Query: 61\n",
      "Query: 62\n",
      "Query: 63\n",
      "Query: 64\n",
      "Query: 65\n",
      "Query: 66\n",
      "Query: 67\n",
      "Query: 68\n",
      "Query: 69\n",
      "Query: 70\n",
      "Query: 71\n",
      "Query: 72\n",
      "Query: 73\n",
      "Query: 74\n",
      "Query: 75\n",
      "Query: 76\n",
      "Query: 77\n",
      "Query: 78\n",
      "Query: 79\n",
      "Query: 80\n",
      "Query: 81\n",
      "Query: 82\n",
      "Query: 83\n",
      "Query: 84\n",
      "Query: 85\n",
      "Query: 86\n",
      "Query: 87\n",
      "Query: 88\n",
      "Query: 89\n",
      "Query: 90\n",
      "Query: 91\n",
      "Query: 92\n",
      "Query: 93\n",
      "Query: 94\n",
      "Query: 95\n",
      "Query: 96\n",
      "Query: 97\n",
      "Query: 98\n",
      "Query: 99\n"
     ]
    },
    {
     "name": "stderr",
     "output_type": "stream",
     "text": [
      "[I 2023-11-26 18:36:24,063] Trial 8 finished with values: [1.000381003095774, 0.20442788000000003, 50.0] and parameters: {'k': 2, 'L': 3, 'table_size': 7500, 'window_size': 3758, 'query_trick': True}. \n"
     ]
    },
    {
     "name": "stdout",
     "output_type": "stream",
     "text": [
      "Trial parameters: {'k': 4, 'L': 7, 'table_size': 3750, 'window_size': 3229, 'query_trick': False}\n",
      "Read MNIST data\n",
      "Done\n",
      "Algorithm: LSH\n",
      "Query: 0\n",
      "Query: 1\n",
      "Query: 2\n",
      "Query: 3\n",
      "Query: 4\n",
      "Query: 5\n",
      "Query: 6\n",
      "Query: 7\n",
      "Query: 8\n",
      "Query: 9\n",
      "Query: 10\n",
      "Query: 11\n",
      "Query: 12\n",
      "Query: 13\n",
      "Query: 14\n",
      "Query: 15\n",
      "Query: 16\n",
      "Query: 17\n",
      "Query: 18\n",
      "Query: 19\n",
      "Query: 20\n",
      "Query: 21\n",
      "Query: 22\n",
      "Query: 23\n",
      "Query: 24\n",
      "Query: 25\n",
      "Query: 26\n",
      "Query: 27\n",
      "Query: 28\n",
      "Query: 29\n",
      "Query: 30\n",
      "Query: 31\n",
      "Query: 32\n",
      "Query: 33\n",
      "Query: 34\n",
      "Query: 35\n",
      "Query: 36\n",
      "Query: 37\n",
      "Query: 38\n",
      "Query: 39\n",
      "Query: 40\n",
      "Query: 41\n",
      "Query: 42\n",
      "Query: 43\n",
      "Query: 44\n",
      "Query: 45\n",
      "Query: 46\n",
      "Query: 47\n",
      "Query: 48\n",
      "Query: 49\n",
      "Query: 50\n",
      "Query: 51\n",
      "Query: 52\n",
      "Query: 53\n",
      "Query: 54\n",
      "Query: 55\n",
      "Query: 56\n",
      "Query: 57\n",
      "Query: 58\n",
      "Query: 59\n",
      "Query: 60\n",
      "Query: 61\n",
      "Query: 62\n",
      "Query: 63\n",
      "Query: 64\n",
      "Query: 65\n",
      "Query: 66\n",
      "Query: 67\n",
      "Query: 68\n",
      "Query: 69\n",
      "Query: 70\n",
      "Query: 71\n",
      "Query: 72\n",
      "Query: 73\n",
      "Query: 74\n",
      "Query: 75\n",
      "Query: 76\n",
      "Query: 77\n",
      "Query: 78\n",
      "Query: 79\n",
      "Query: 80\n",
      "Query: 81\n",
      "Query: 82\n",
      "Query: 83\n",
      "Query: 84\n",
      "Query: 85\n",
      "Query: 86\n",
      "Query: 87\n",
      "Query: 88\n",
      "Query: 89\n",
      "Query: 90\n",
      "Query: 91\n",
      "Query: 92\n",
      "Query: 93\n",
      "Query: 94\n",
      "Query: 95\n",
      "Query: 96\n",
      "Query: 97\n",
      "Query: 98\n",
      "Query: 99\n"
     ]
    },
    {
     "name": "stderr",
     "output_type": "stream",
     "text": [
      "[I 2023-11-26 18:37:14,528] Trial 9 finished with values: [1.0001757881943298, 0.13929892000000002, 50.0] and parameters: {'k': 4, 'L': 7, 'table_size': 3750, 'window_size': 3229, 'query_trick': False}. \n"
     ]
    },
    {
     "name": "stdout",
     "output_type": "stream",
     "text": [
      "Trial parameters: {'k': 8, 'L': 4, 'table_size': 7500, 'window_size': 2574, 'query_trick': True}\n",
      "Read MNIST data\n",
      "Done\n",
      "Algorithm: LSH\n",
      "Query: 0\n",
      "Query: 1\n",
      "Query: 2\n",
      "Query: 3\n",
      "Query: 4\n",
      "Query: 5\n",
      "Query: 6\n",
      "Query: 7\n",
      "Query: 8\n",
      "Query: 9\n",
      "Query: 10\n",
      "Query: 11\n",
      "Query: 12\n",
      "Query: 13\n",
      "Query: 14\n",
      "Query: 15\n",
      "Query: 16\n",
      "Query: 17\n",
      "Query: 18\n",
      "Query: 19\n",
      "Query: 20\n",
      "Query: 21\n",
      "Query: 22\n",
      "Query: 23\n",
      "Query: 24\n",
      "Query: 25\n",
      "Query: 26\n",
      "Query: 27\n",
      "Query: 28\n",
      "Query: 29\n",
      "Query: 30\n",
      "Query: 31\n",
      "Query: 32\n",
      "Query: 33\n",
      "Query: 34\n",
      "Query: 35\n",
      "Query: 36\n",
      "Query: 37\n",
      "Query: 38\n",
      "Query: 39\n",
      "Query: 40\n",
      "Query: 41\n",
      "Query: 42\n",
      "Query: 43\n",
      "Query: 44\n",
      "Query: 45\n",
      "Query: 46\n",
      "Query: 47\n",
      "Query: 48\n",
      "Query: 49\n",
      "Query: 50\n",
      "Query: 51\n",
      "Query: 52\n",
      "Query: 53\n",
      "Query: 54\n",
      "Query: 55\n",
      "Query: 56\n",
      "Query: 57\n",
      "Query: 58\n",
      "Query: 59\n",
      "Query: 60\n",
      "Query: 61\n",
      "Query: 62\n",
      "Query: 63\n",
      "Query: 64\n",
      "Query: 65\n",
      "Query: 66\n",
      "Query: 67\n",
      "Query: 68\n",
      "Query: 69\n",
      "Query: 70\n",
      "Query: 71\n",
      "Query: 72\n",
      "Query: 73\n",
      "Query: 74\n",
      "Query: 75\n",
      "Query: 76\n",
      "Query: 77\n",
      "Query: 78\n",
      "Query: 79\n",
      "Query: 80\n",
      "Query: 81\n",
      "Query: 82\n",
      "Query: 83\n",
      "Query: 84\n",
      "Query: 85\n",
      "Query: 86\n",
      "Query: 87\n",
      "Query: 88\n",
      "Query: 89\n",
      "Query: 90\n",
      "Query: 91\n",
      "Query: 92\n",
      "Query: 93\n",
      "Query: 94\n",
      "Query: 95\n",
      "Query: 96\n",
      "Query: 97\n",
      "Query: 98\n",
      "Query: 99\n"
     ]
    },
    {
     "name": "stderr",
     "output_type": "stream",
     "text": [
      "[I 2023-11-26 18:37:53,581] Trial 10 finished with values: [1.2473981815233675, 0.009634479999999996, 50.0] and parameters: {'k': 8, 'L': 4, 'table_size': 7500, 'window_size': 2574, 'query_trick': True}. \n"
     ]
    },
    {
     "name": "stdout",
     "output_type": "stream",
     "text": [
      "Trial parameters: {'k': 8, 'L': 10, 'table_size': 7500, 'window_size': 3824, 'query_trick': True}\n",
      "Read MNIST data\n",
      "Done\n",
      "Algorithm: LSH\n",
      "Query: 0\n",
      "Query: 1\n",
      "Query: 2\n",
      "Query: 3\n",
      "Query: 4\n",
      "Query: 5\n",
      "Query: 6\n",
      "Query: 7\n",
      "Query: 8\n",
      "Query: 9\n",
      "Query: 10\n",
      "Query: 11\n",
      "Query: 12\n",
      "Query: 13\n",
      "Query: 14\n",
      "Query: 15\n",
      "Query: 16\n",
      "Query: 17\n",
      "Query: 18\n",
      "Query: 19\n",
      "Query: 20\n",
      "Query: 21\n",
      "Query: 22\n",
      "Query: 23\n",
      "Query: 24\n",
      "Query: 25\n",
      "Query: 26\n",
      "Query: 27\n",
      "Query: 28\n",
      "Query: 29\n",
      "Query: 30\n",
      "Query: 31\n",
      "Query: 32\n",
      "Query: 33\n",
      "Query: 34\n",
      "Query: 35\n",
      "Query: 36\n",
      "Query: 37\n",
      "Query: 38\n",
      "Query: 39\n",
      "Query: 40\n",
      "Query: 41\n",
      "Query: 42\n",
      "Query: 43\n",
      "Query: 44\n",
      "Query: 45\n",
      "Query: 46\n",
      "Query: 47\n",
      "Query: 48\n",
      "Query: 49\n",
      "Query: 50\n",
      "Query: 51\n",
      "Query: 52\n",
      "Query: 53\n",
      "Query: 54\n",
      "Query: 55\n",
      "Query: 56\n",
      "Query: 57\n",
      "Query: 58\n",
      "Query: 59\n",
      "Query: 60\n",
      "Query: 61\n",
      "Query: 62\n",
      "Query: 63\n",
      "Query: 64\n",
      "Query: 65\n",
      "Query: 66\n",
      "Query: 67\n",
      "Query: 68\n",
      "Query: 69\n",
      "Query: 70\n",
      "Query: 71\n",
      "Query: 72\n",
      "Query: 73\n",
      "Query: 74\n",
      "Query: 75\n",
      "Query: 76\n",
      "Query: 77\n",
      "Query: 78\n",
      "Query: 79\n",
      "Query: 80\n",
      "Query: 81\n",
      "Query: 82\n",
      "Query: 83\n",
      "Query: 84\n",
      "Query: 85\n",
      "Query: 86\n",
      "Query: 87\n",
      "Query: 88\n",
      "Query: 89\n",
      "Query: 90\n",
      "Query: 91\n",
      "Query: 92\n",
      "Query: 93\n",
      "Query: 94\n",
      "Query: 95\n",
      "Query: 96\n",
      "Query: 97\n",
      "Query: 98\n",
      "Query: 99\n"
     ]
    },
    {
     "name": "stderr",
     "output_type": "stream",
     "text": [
      "[I 2023-11-26 18:38:51,240] Trial 11 finished with values: [1.014306164419062, 0.05221652000000002, 50.0] and parameters: {'k': 8, 'L': 10, 'table_size': 7500, 'window_size': 3824, 'query_trick': True}. \n"
     ]
    },
    {
     "name": "stdout",
     "output_type": "stream",
     "text": [
      "Trial parameters: {'k': 10, 'L': 4, 'table_size': 3750, 'window_size': 2782, 'query_trick': True}\n",
      "Read MNIST data\n",
      "Done\n",
      "Algorithm: LSH\n",
      "Query: 0\n",
      "Query: 1\n",
      "Query: 2\n",
      "Query: 3\n",
      "Query: 4\n",
      "Query: 5\n",
      "Query: 6\n",
      "Query: 7\n",
      "Query: 8\n",
      "Query: 9\n",
      "Query: 10\n",
      "Query: 11\n",
      "Query: 12\n",
      "Query: 13\n",
      "Query: 14\n",
      "Query: 15\n",
      "Query: 16\n",
      "Query: 17\n",
      "Query: 18\n",
      "Query: 19\n",
      "Query: 20\n",
      "Query: 21\n",
      "Query: 22\n",
      "Query: 23\n",
      "Query: 24\n",
      "Query: 25\n",
      "Query: 26\n",
      "Query: 27\n",
      "Query: 28\n",
      "Query: 29\n",
      "Query: 30\n",
      "Query: 31\n",
      "Query: 32\n",
      "Query: 33\n",
      "Query: 34\n",
      "Query: 35\n",
      "Query: 36\n",
      "Query: 37\n",
      "Query: 38\n",
      "Query: 39\n",
      "Query: 40\n",
      "Query: 41\n",
      "Query: 42\n",
      "Query: 43\n",
      "Query: 44\n",
      "Query: 45\n",
      "Query: 46\n",
      "Query: 47\n",
      "Query: 48\n",
      "Query: 49\n",
      "Query: 50\n",
      "Query: 51\n",
      "Query: 52\n",
      "Query: 53\n",
      "Query: 54\n",
      "Query: 55\n",
      "Query: 56\n",
      "Query: 57\n",
      "Query: 58\n",
      "Query: 59\n",
      "Query: 60\n",
      "Query: 61\n",
      "Query: 62\n",
      "Query: 63\n",
      "Query: 64\n",
      "Query: 65\n",
      "Query: 66\n",
      "Query: 67\n",
      "Query: 68\n",
      "Query: 69\n",
      "Query: 70\n",
      "Query: 71\n",
      "Query: 72\n",
      "Query: 73\n",
      "Query: 74\n",
      "Query: 75\n",
      "Query: 76\n",
      "Query: 77\n",
      "Query: 78\n",
      "Query: 79\n",
      "Query: 80\n",
      "Query: 81\n",
      "Query: 82\n",
      "Query: 83\n",
      "Query: 84\n",
      "Query: 85\n",
      "Query: 86\n",
      "Query: 87\n",
      "Query: 88\n",
      "Query: 89\n",
      "Query: 90\n",
      "Query: 91\n",
      "Query: 92\n",
      "Query: 93\n",
      "Query: 94\n",
      "Query: 95\n",
      "Query: 96\n",
      "Query: 97\n",
      "Query: 98\n",
      "Query: 99\n"
     ]
    },
    {
     "name": "stderr",
     "output_type": "stream",
     "text": [
      "[I 2023-11-26 18:39:30,249] Trial 12 finished with values: [1.4478600549443554, 0.0030970000000000004, 14.0] and parameters: {'k': 10, 'L': 4, 'table_size': 3750, 'window_size': 2782, 'query_trick': True}. \n"
     ]
    },
    {
     "name": "stdout",
     "output_type": "stream",
     "text": [
      "Trial parameters: {'k': 10, 'L': 10, 'table_size': 3750, 'window_size': 4989, 'query_trick': False}\n",
      "Read MNIST data\n",
      "Done\n",
      "Algorithm: LSH\n",
      "Query: 0\n",
      "Query: 1\n",
      "Query: 2\n",
      "Query: 3\n",
      "Query: 4\n",
      "Query: 5\n",
      "Query: 6\n",
      "Query: 7\n",
      "Query: 8\n",
      "Query: 9\n",
      "Query: 10\n",
      "Query: 11\n",
      "Query: 12\n",
      "Query: 13\n",
      "Query: 14\n",
      "Query: 15\n",
      "Query: 16\n",
      "Query: 17\n",
      "Query: 18\n",
      "Query: 19\n",
      "Query: 20\n",
      "Query: 21\n",
      "Query: 22\n",
      "Query: 23\n",
      "Query: 24\n",
      "Query: 25\n",
      "Query: 26\n",
      "Query: 27\n",
      "Query: 28\n",
      "Query: 29\n",
      "Query: 30\n",
      "Query: 31\n",
      "Query: 32\n",
      "Query: 33\n",
      "Query: 34\n",
      "Query: 35\n",
      "Query: 36\n",
      "Query: 37\n",
      "Query: 38\n",
      "Query: 39\n",
      "Query: 40\n",
      "Query: 41\n",
      "Query: 42\n",
      "Query: 43\n",
      "Query: 44\n",
      "Query: 45\n",
      "Query: 46\n",
      "Query: 47\n",
      "Query: 48\n",
      "Query: 49\n",
      "Query: 50\n",
      "Query: 51\n",
      "Query: 52\n",
      "Query: 53\n",
      "Query: 54\n",
      "Query: 55\n",
      "Query: 56\n",
      "Query: 57\n",
      "Query: 58\n",
      "Query: 59\n",
      "Query: 60\n",
      "Query: 61\n",
      "Query: 62\n",
      "Query: 63\n",
      "Query: 64\n",
      "Query: 65\n",
      "Query: 66\n",
      "Query: 67\n",
      "Query: 68\n",
      "Query: 69\n",
      "Query: 70\n",
      "Query: 71\n",
      "Query: 72\n",
      "Query: 73\n",
      "Query: 74\n",
      "Query: 75\n",
      "Query: 76\n",
      "Query: 77\n",
      "Query: 78\n",
      "Query: 79\n",
      "Query: 80\n",
      "Query: 81\n",
      "Query: 82\n",
      "Query: 83\n",
      "Query: 84\n",
      "Query: 85\n",
      "Query: 86\n",
      "Query: 87\n",
      "Query: 88\n",
      "Query: 89\n",
      "Query: 90\n",
      "Query: 91\n",
      "Query: 92\n",
      "Query: 93\n",
      "Query: 94\n",
      "Query: 95\n",
      "Query: 96\n",
      "Query: 97\n",
      "Query: 98\n",
      "Query: 99\n"
     ]
    },
    {
     "name": "stderr",
     "output_type": "stream",
     "text": [
      "[I 2023-11-26 18:40:38,928] Trial 13 finished with values: [1.0017920583849802, 0.07380007999999999, 50.0] and parameters: {'k': 10, 'L': 10, 'table_size': 3750, 'window_size': 4989, 'query_trick': False}. \n"
     ]
    },
    {
     "name": "stdout",
     "output_type": "stream",
     "text": [
      "Trial parameters: {'k': 8, 'L': 9, 'table_size': 7500, 'window_size': 3293, 'query_trick': False}\n",
      "Read MNIST data\n",
      "Done\n",
      "Algorithm: LSH\n",
      "Query: 0\n",
      "Query: 1\n",
      "Query: 2\n",
      "Query: 3\n",
      "Query: 4\n",
      "Query: 5\n",
      "Query: 6\n",
      "Query: 7\n",
      "Query: 8\n",
      "Query: 9\n",
      "Query: 10\n",
      "Query: 11\n",
      "Query: 12\n",
      "Query: 13\n",
      "Query: 14\n",
      "Query: 15\n",
      "Query: 16\n",
      "Query: 17\n",
      "Query: 18\n",
      "Query: 19\n",
      "Query: 20\n",
      "Query: 21\n",
      "Query: 22\n",
      "Query: 23\n",
      "Query: 24\n",
      "Query: 25\n",
      "Query: 26\n",
      "Query: 27\n",
      "Query: 28\n",
      "Query: 29\n",
      "Query: 30\n",
      "Query: 31\n",
      "Query: 32\n",
      "Query: 33\n",
      "Query: 34\n",
      "Query: 35\n",
      "Query: 36\n",
      "Query: 37\n",
      "Query: 38\n",
      "Query: 39\n",
      "Query: 40\n",
      "Query: 41\n",
      "Query: 42\n",
      "Query: 43\n",
      "Query: 44\n",
      "Query: 45\n",
      "Query: 46\n",
      "Query: 47\n",
      "Query: 48\n",
      "Query: 49\n",
      "Query: 50\n",
      "Query: 51\n",
      "Query: 52\n",
      "Query: 53\n",
      "Query: 54\n",
      "Query: 55\n",
      "Query: 56\n",
      "Query: 57\n",
      "Query: 58\n",
      "Query: 59\n",
      "Query: 60\n",
      "Query: 61\n",
      "Query: 62\n",
      "Query: 63\n",
      "Query: 64\n",
      "Query: 65\n",
      "Query: 66\n",
      "Query: 67\n",
      "Query: 68\n",
      "Query: 69\n",
      "Query: 70\n",
      "Query: 71\n",
      "Query: 72\n",
      "Query: 73\n",
      "Query: 74\n",
      "Query: 75\n",
      "Query: 76\n",
      "Query: 77\n",
      "Query: 78\n",
      "Query: 79\n",
      "Query: 80\n",
      "Query: 81\n",
      "Query: 82\n",
      "Query: 83\n",
      "Query: 84\n",
      "Query: 85\n",
      "Query: 86\n",
      "Query: 87\n",
      "Query: 88\n",
      "Query: 89\n",
      "Query: 90\n",
      "Query: 91\n",
      "Query: 92\n",
      "Query: 93\n",
      "Query: 94\n",
      "Query: 95\n",
      "Query: 96\n",
      "Query: 97\n",
      "Query: 98\n",
      "Query: 99\n"
     ]
    },
    {
     "name": "stderr",
     "output_type": "stream",
     "text": [
      "[I 2023-11-26 18:41:35,207] Trial 14 finished with values: [1.042958288537168, 0.03975905, 50.0] and parameters: {'k': 8, 'L': 9, 'table_size': 7500, 'window_size': 3293, 'query_trick': False}. \n"
     ]
    },
    {
     "name": "stdout",
     "output_type": "stream",
     "text": [
      "Trial parameters: {'k': 3, 'L': 6, 'table_size': 7500, 'window_size': 2438, 'query_trick': False}\n",
      "Read MNIST data\n",
      "Done\n",
      "Algorithm: LSH\n",
      "Query: 0\n",
      "Query: 1\n",
      "Query: 2\n",
      "Query: 3\n",
      "Query: 4\n",
      "Query: 5\n",
      "Query: 6\n",
      "Query: 7\n",
      "Query: 8\n",
      "Query: 9\n",
      "Query: 10\n",
      "Query: 11\n",
      "Query: 12\n",
      "Query: 13\n",
      "Query: 14\n",
      "Query: 15\n",
      "Query: 16\n",
      "Query: 17\n",
      "Query: 18\n",
      "Query: 19\n",
      "Query: 20\n",
      "Query: 21\n",
      "Query: 22\n",
      "Query: 23\n",
      "Query: 24\n",
      "Query: 25\n",
      "Query: 26\n",
      "Query: 27\n",
      "Query: 28\n",
      "Query: 29\n",
      "Query: 30\n",
      "Query: 31\n",
      "Query: 32\n",
      "Query: 33\n",
      "Query: 34\n",
      "Query: 35\n",
      "Query: 36\n",
      "Query: 37\n",
      "Query: 38\n",
      "Query: 39\n",
      "Query: 40\n",
      "Query: 41\n",
      "Query: 42\n",
      "Query: 43\n",
      "Query: 44\n",
      "Query: 45\n",
      "Query: 46\n",
      "Query: 47\n",
      "Query: 48\n",
      "Query: 49\n",
      "Query: 50\n",
      "Query: 51\n",
      "Query: 52\n",
      "Query: 53\n",
      "Query: 54\n",
      "Query: 55\n",
      "Query: 56\n",
      "Query: 57\n",
      "Query: 58\n",
      "Query: 59\n",
      "Query: 60\n",
      "Query: 61\n",
      "Query: 62\n",
      "Query: 63\n",
      "Query: 64\n",
      "Query: 65\n",
      "Query: 66\n",
      "Query: 67\n",
      "Query: 68\n",
      "Query: 69\n",
      "Query: 70\n",
      "Query: 71\n",
      "Query: 72\n",
      "Query: 73\n",
      "Query: 74\n",
      "Query: 75\n",
      "Query: 76\n",
      "Query: 77\n",
      "Query: 78\n",
      "Query: 79\n",
      "Query: 80\n",
      "Query: 81\n",
      "Query: 82\n",
      "Query: 83\n",
      "Query: 84\n",
      "Query: 85\n",
      "Query: 86\n",
      "Query: 87\n",
      "Query: 88\n",
      "Query: 89\n",
      "Query: 90\n",
      "Query: 91\n",
      "Query: 92\n",
      "Query: 93\n",
      "Query: 94\n",
      "Query: 95\n",
      "Query: 96\n",
      "Query: 97\n",
      "Query: 98\n",
      "Query: 99\n"
     ]
    },
    {
     "name": "stderr",
     "output_type": "stream",
     "text": [
      "[I 2023-11-26 18:42:22,196] Trial 15 finished with values: [1.003079571761728, 0.1325692, 50.0] and parameters: {'k': 3, 'L': 6, 'table_size': 7500, 'window_size': 2438, 'query_trick': False}. \n"
     ]
    },
    {
     "name": "stdout",
     "output_type": "stream",
     "text": [
      "Trial parameters: {'k': 5, 'L': 2, 'table_size': 15000, 'window_size': 3945, 'query_trick': False}\n",
      "Read MNIST data\n",
      "Done\n",
      "Algorithm: LSH\n",
      "Query: 0\n",
      "Query: 1\n",
      "Query: 2\n",
      "Query: 3\n",
      "Query: 4\n",
      "Query: 5\n",
      "Query: 6\n",
      "Query: 7\n",
      "Query: 8\n",
      "Query: 9\n",
      "Query: 10\n",
      "Query: 11\n",
      "Query: 12\n",
      "Query: 13\n",
      "Query: 14\n",
      "Query: 15\n",
      "Query: 16\n",
      "Query: 17\n",
      "Query: 18\n",
      "Query: 19\n",
      "Query: 20\n",
      "Query: 21\n",
      "Query: 22\n",
      "Query: 23\n",
      "Query: 24\n",
      "Query: 25\n",
      "Query: 26\n",
      "Query: 27\n",
      "Query: 28\n",
      "Query: 29\n",
      "Query: 30\n",
      "Query: 31\n",
      "Query: 32\n",
      "Query: 33\n",
      "Query: 34\n",
      "Query: 35\n",
      "Query: 36\n",
      "Query: 37\n",
      "Query: 38\n",
      "Query: 39\n",
      "Query: 40\n",
      "Query: 41\n",
      "Query: 42\n",
      "Query: 43\n",
      "Query: 44\n",
      "Query: 45\n",
      "Query: 46\n",
      "Query: 47\n",
      "Query: 48\n",
      "Query: 49\n",
      "Query: 50\n",
      "Query: 51\n",
      "Query: 52\n",
      "Query: 53\n",
      "Query: 54\n",
      "Query: 55\n",
      "Query: 56\n",
      "Query: 57\n",
      "Query: 58\n",
      "Query: 59\n",
      "Query: 60\n",
      "Query: 61\n",
      "Query: 62\n",
      "Query: 63\n",
      "Query: 64\n",
      "Query: 65\n",
      "Query: 66\n",
      "Query: 67\n",
      "Query: 68\n",
      "Query: 69\n",
      "Query: 70\n",
      "Query: 71\n",
      "Query: 72\n",
      "Query: 73\n",
      "Query: 74\n",
      "Query: 75\n",
      "Query: 76\n",
      "Query: 77\n",
      "Query: 78\n",
      "Query: 79\n",
      "Query: 80\n",
      "Query: 81\n",
      "Query: 82\n",
      "Query: 83\n",
      "Query: 84\n",
      "Query: 85\n",
      "Query: 86\n",
      "Query: 87\n",
      "Query: 88\n",
      "Query: 89\n",
      "Query: 90\n",
      "Query: 91\n",
      "Query: 92\n",
      "Query: 93\n",
      "Query: 94\n",
      "Query: 95\n",
      "Query: 96\n",
      "Query: 97\n",
      "Query: 98\n",
      "Query: 99\n"
     ]
    },
    {
     "name": "stderr",
     "output_type": "stream",
     "text": [
      "[I 2023-11-26 18:42:57,628] Trial 16 finished with values: [1.0816211973570828, 0.04219778, 50.0] and parameters: {'k': 5, 'L': 2, 'table_size': 15000, 'window_size': 3945, 'query_trick': False}. \n"
     ]
    },
    {
     "name": "stdout",
     "output_type": "stream",
     "text": [
      "Trial parameters: {'k': 8, 'L': 2, 'table_size': 3750, 'window_size': 3440, 'query_trick': True}\n",
      "Read MNIST data\n",
      "Done\n",
      "Algorithm: LSH\n",
      "Query: 0\n",
      "Query: 1\n",
      "Query: 2\n",
      "Query: 3\n",
      "Query: 4\n",
      "Query: 5\n",
      "Query: 6\n",
      "Query: 7\n",
      "Query: 8\n",
      "Query: 9\n",
      "Query: 10\n",
      "Query: 11\n",
      "Query: 12\n",
      "Query: 13\n",
      "Query: 14\n",
      "Query: 15\n",
      "Query: 16\n",
      "Query: 17\n",
      "Query: 18\n",
      "Query: 19\n",
      "Query: 20\n",
      "Query: 21\n",
      "Query: 22\n",
      "Query: 23\n",
      "Query: 24\n",
      "Query: 25\n",
      "Query: 26\n",
      "Query: 27\n",
      "Query: 28\n",
      "Query: 29\n",
      "Query: 30\n",
      "Query: 31\n",
      "Query: 32\n",
      "Query: 33\n",
      "Query: 34\n",
      "Query: 35\n",
      "Query: 36\n",
      "Query: 37\n",
      "Query: 38\n",
      "Query: 39\n",
      "Query: 40\n",
      "Query: 41\n",
      "Query: 42\n",
      "Query: 43\n",
      "Query: 44\n",
      "Query: 45\n",
      "Query: 46\n",
      "Query: 47\n",
      "Query: 48\n",
      "Query: 49\n",
      "Query: 50\n",
      "Query: 51\n",
      "Query: 52\n",
      "Query: 53\n",
      "Query: 54\n",
      "Query: 55\n",
      "Query: 56\n",
      "Query: 57\n",
      "Query: 58\n",
      "Query: 59\n",
      "Query: 60\n",
      "Query: 61\n",
      "Query: 62\n",
      "Query: 63\n",
      "Query: 64\n",
      "Query: 65\n",
      "Query: 66\n",
      "Query: 67\n",
      "Query: 68\n",
      "Query: 69\n",
      "Query: 70\n",
      "Query: 71\n",
      "Query: 72\n",
      "Query: 73\n",
      "Query: 74\n",
      "Query: 75\n",
      "Query: 76\n",
      "Query: 77\n",
      "Query: 78\n",
      "Query: 79\n",
      "Query: 80\n",
      "Query: 81\n",
      "Query: 82\n",
      "Query: 83\n",
      "Query: 84\n",
      "Query: 85\n",
      "Query: 86\n",
      "Query: 87\n",
      "Query: 88\n",
      "Query: 89\n",
      "Query: 90\n",
      "Query: 91\n",
      "Query: 92\n",
      "Query: 93\n",
      "Query: 94\n",
      "Query: 95\n",
      "Query: 96\n",
      "Query: 97\n",
      "Query: 98\n",
      "Query: 99\n"
     ]
    },
    {
     "name": "stderr",
     "output_type": "stream",
     "text": [
      "[I 2023-11-26 18:43:32,840] Trial 17 finished with values: [1.210495900186597, 0.016965679999999993, 50.0] and parameters: {'k': 8, 'L': 2, 'table_size': 3750, 'window_size': 3440, 'query_trick': True}. \n"
     ]
    },
    {
     "name": "stdout",
     "output_type": "stream",
     "text": [
      "Trial parameters: {'k': 8, 'L': 10, 'table_size': 7500, 'window_size': 4570, 'query_trick': True}\n",
      "Read MNIST data\n",
      "Done\n",
      "Algorithm: LSH\n",
      "Query: 0\n",
      "Query: 1\n",
      "Query: 2\n",
      "Query: 3\n",
      "Query: 4\n",
      "Query: 5\n",
      "Query: 6\n",
      "Query: 7\n",
      "Query: 8\n",
      "Query: 9\n",
      "Query: 10\n",
      "Query: 11\n",
      "Query: 12\n",
      "Query: 13\n",
      "Query: 14\n",
      "Query: 15\n",
      "Query: 16\n",
      "Query: 17\n",
      "Query: 18\n",
      "Query: 19\n",
      "Query: 20\n",
      "Query: 21\n",
      "Query: 22\n",
      "Query: 23\n",
      "Query: 24\n",
      "Query: 25\n",
      "Query: 26\n",
      "Query: 27\n",
      "Query: 28\n",
      "Query: 29\n",
      "Query: 30\n",
      "Query: 31\n",
      "Query: 32\n",
      "Query: 33\n",
      "Query: 34\n",
      "Query: 35\n",
      "Query: 36\n",
      "Query: 37\n",
      "Query: 38\n",
      "Query: 39\n",
      "Query: 40\n",
      "Query: 41\n",
      "Query: 42\n",
      "Query: 43\n",
      "Query: 44\n",
      "Query: 45\n",
      "Query: 46\n",
      "Query: 47\n",
      "Query: 48\n",
      "Query: 49\n",
      "Query: 50\n",
      "Query: 51\n",
      "Query: 52\n",
      "Query: 53\n",
      "Query: 54\n",
      "Query: 55\n",
      "Query: 56\n",
      "Query: 57\n",
      "Query: 58\n",
      "Query: 59\n",
      "Query: 60\n",
      "Query: 61\n",
      "Query: 62\n",
      "Query: 63\n",
      "Query: 64\n",
      "Query: 65\n",
      "Query: 66\n",
      "Query: 67\n",
      "Query: 68\n",
      "Query: 69\n",
      "Query: 70\n",
      "Query: 71\n",
      "Query: 72\n",
      "Query: 73\n",
      "Query: 74\n",
      "Query: 75\n",
      "Query: 76\n",
      "Query: 77\n",
      "Query: 78\n",
      "Query: 79\n",
      "Query: 80\n",
      "Query: 81\n",
      "Query: 82\n",
      "Query: 83\n",
      "Query: 84\n",
      "Query: 85\n",
      "Query: 86\n",
      "Query: 87\n",
      "Query: 88\n",
      "Query: 89\n",
      "Query: 90\n",
      "Query: 91\n",
      "Query: 92\n",
      "Query: 93\n",
      "Query: 94\n",
      "Query: 95\n",
      "Query: 96\n",
      "Query: 97\n",
      "Query: 98\n",
      "Query: 99\n"
     ]
    },
    {
     "name": "stderr",
     "output_type": "stream",
     "text": [
      "[I 2023-11-26 18:44:43,758] Trial 18 finished with values: [1.0, 0.13765656999999992, 50.0] and parameters: {'k': 8, 'L': 10, 'table_size': 7500, 'window_size': 4570, 'query_trick': True}. \n"
     ]
    },
    {
     "name": "stdout",
     "output_type": "stream",
     "text": [
      "Trial parameters: {'k': 5, 'L': 9, 'table_size': 7500, 'window_size': 3981, 'query_trick': True}\n",
      "Read MNIST data\n",
      "Done\n",
      "Algorithm: LSH\n",
      "Query: 0\n",
      "Query: 1\n",
      "Query: 2\n",
      "Query: 3\n",
      "Query: 4\n",
      "Query: 5\n",
      "Query: 6\n",
      "Query: 7\n",
      "Query: 8\n",
      "Query: 9\n",
      "Query: 10\n",
      "Query: 11\n",
      "Query: 12\n",
      "Query: 13\n",
      "Query: 14\n",
      "Query: 15\n",
      "Query: 16\n",
      "Query: 17\n",
      "Query: 18\n",
      "Query: 19\n",
      "Query: 20\n",
      "Query: 21\n",
      "Query: 22\n",
      "Query: 23\n",
      "Query: 24\n",
      "Query: 25\n",
      "Query: 26\n",
      "Query: 27\n",
      "Query: 28\n",
      "Query: 29\n",
      "Query: 30\n",
      "Query: 31\n",
      "Query: 32\n",
      "Query: 33\n",
      "Query: 34\n",
      "Query: 35\n",
      "Query: 36\n",
      "Query: 37\n",
      "Query: 38\n",
      "Query: 39\n",
      "Query: 40\n",
      "Query: 41\n",
      "Query: 42\n",
      "Query: 43\n",
      "Query: 44\n",
      "Query: 45\n",
      "Query: 46\n",
      "Query: 47\n",
      "Query: 48\n",
      "Query: 49\n",
      "Query: 50\n",
      "Query: 51\n",
      "Query: 52\n",
      "Query: 53\n",
      "Query: 54\n",
      "Query: 55\n",
      "Query: 56\n",
      "Query: 57\n",
      "Query: 58\n",
      "Query: 59\n",
      "Query: 60\n",
      "Query: 61\n",
      "Query: 62\n",
      "Query: 63\n",
      "Query: 64\n",
      "Query: 65\n",
      "Query: 66\n",
      "Query: 67\n",
      "Query: 68\n",
      "Query: 69\n",
      "Query: 70\n",
      "Query: 71\n",
      "Query: 72\n",
      "Query: 73\n",
      "Query: 74\n",
      "Query: 75\n",
      "Query: 76\n",
      "Query: 77\n",
      "Query: 78\n",
      "Query: 79\n",
      "Query: 80\n",
      "Query: 81\n",
      "Query: 82\n",
      "Query: 83\n",
      "Query: 84\n",
      "Query: 85\n",
      "Query: 86\n",
      "Query: 87\n",
      "Query: 88\n",
      "Query: 89\n",
      "Query: 90\n",
      "Query: 91\n",
      "Query: 92\n",
      "Query: 93\n",
      "Query: 94\n",
      "Query: 95\n",
      "Query: 96\n",
      "Query: 97\n",
      "Query: 98\n",
      "Query: 99\n"
     ]
    },
    {
     "name": "stderr",
     "output_type": "stream",
     "text": [
      "[I 2023-11-26 18:45:51,653] Trial 19 finished with values: [1.0, 0.23862968999999995, 50.0] and parameters: {'k': 5, 'L': 9, 'table_size': 7500, 'window_size': 3981, 'query_trick': True}. \n"
     ]
    },
    {
     "name": "stdout",
     "output_type": "stream",
     "text": [
      "Trial parameters: {'k': 2, 'L': 10, 'table_size': 15000, 'window_size': 4615, 'query_trick': False}\n",
      "Read MNIST data\n",
      "Done\n",
      "Algorithm: LSH\n",
      "Query: 0\n",
      "Query: 1\n",
      "Query: 2\n",
      "Query: 3\n",
      "Query: 4\n",
      "Query: 5\n",
      "Query: 6\n",
      "Query: 7\n",
      "Query: 8\n",
      "Query: 9\n",
      "Query: 10\n",
      "Query: 11\n",
      "Query: 12\n",
      "Query: 13\n",
      "Query: 14\n",
      "Query: 15\n",
      "Query: 16\n",
      "Query: 17\n",
      "Query: 18\n",
      "Query: 19\n",
      "Query: 20\n",
      "Query: 21\n",
      "Query: 22\n",
      "Query: 23\n",
      "Query: 24\n",
      "Query: 25\n",
      "Query: 26\n",
      "Query: 27\n",
      "Query: 28\n",
      "Query: 29\n",
      "Query: 30\n",
      "Query: 31\n",
      "Query: 32\n",
      "Query: 33\n",
      "Query: 34\n",
      "Query: 35\n",
      "Query: 36\n",
      "Query: 37\n",
      "Query: 38\n",
      "Query: 39\n",
      "Query: 40\n",
      "Query: 41\n",
      "Query: 42\n",
      "Query: 43\n",
      "Query: 44\n",
      "Query: 45\n",
      "Query: 46\n",
      "Query: 47\n",
      "Query: 48\n",
      "Query: 49\n",
      "Query: 50\n",
      "Query: 51\n",
      "Query: 52\n",
      "Query: 53\n",
      "Query: 54\n",
      "Query: 55\n",
      "Query: 56\n",
      "Query: 57\n",
      "Query: 58\n",
      "Query: 59\n",
      "Query: 60\n",
      "Query: 61\n",
      "Query: 62\n",
      "Query: 63\n",
      "Query: 64\n",
      "Query: 65\n",
      "Query: 66\n",
      "Query: 67\n",
      "Query: 68\n",
      "Query: 69\n",
      "Query: 70\n",
      "Query: 71\n",
      "Query: 72\n",
      "Query: 73\n",
      "Query: 74\n",
      "Query: 75\n",
      "Query: 76\n",
      "Query: 77\n",
      "Query: 78\n",
      "Query: 79\n",
      "Query: 80\n",
      "Query: 81\n",
      "Query: 82\n",
      "Query: 83\n",
      "Query: 84\n",
      "Query: 85\n",
      "Query: 86\n",
      "Query: 87\n",
      "Query: 88\n",
      "Query: 89\n",
      "Query: 90\n",
      "Query: 91\n",
      "Query: 92\n",
      "Query: 93\n",
      "Query: 94\n",
      "Query: 95\n",
      "Query: 96\n",
      "Query: 97\n",
      "Query: 98\n",
      "Query: 99\n"
     ]
    },
    {
     "name": "stderr",
     "output_type": "stream",
     "text": [
      "[I 2023-11-26 18:47:46,910] Trial 20 finished with values: [1.0, 0.7818453800000001, 50.0] and parameters: {'k': 2, 'L': 10, 'table_size': 15000, 'window_size': 4615, 'query_trick': False}. \n"
     ]
    },
    {
     "name": "stdout",
     "output_type": "stream",
     "text": [
      "Trial parameters: {'k': 7, 'L': 5, 'table_size': 7500, 'window_size': 4865, 'query_trick': True}\n",
      "Read MNIST data\n",
      "Done\n",
      "Algorithm: LSH\n",
      "Query: 0\n",
      "Query: 1\n",
      "Query: 2\n",
      "Query: 3\n",
      "Query: 4\n",
      "Query: 5\n",
      "Query: 6\n",
      "Query: 7\n",
      "Query: 8\n",
      "Query: 9\n",
      "Query: 10\n",
      "Query: 11\n",
      "Query: 12\n",
      "Query: 13\n",
      "Query: 14\n",
      "Query: 15\n",
      "Query: 16\n",
      "Query: 17\n",
      "Query: 18\n",
      "Query: 19\n",
      "Query: 20\n",
      "Query: 21\n",
      "Query: 22\n",
      "Query: 23\n",
      "Query: 24\n",
      "Query: 25\n",
      "Query: 26\n",
      "Query: 27\n",
      "Query: 28\n",
      "Query: 29\n",
      "Query: 30\n",
      "Query: 31\n",
      "Query: 32\n",
      "Query: 33\n",
      "Query: 34\n",
      "Query: 35\n",
      "Query: 36\n",
      "Query: 37\n",
      "Query: 38\n",
      "Query: 39\n",
      "Query: 40\n",
      "Query: 41\n",
      "Query: 42\n",
      "Query: 43\n",
      "Query: 44\n",
      "Query: 45\n",
      "Query: 46\n",
      "Query: 47\n",
      "Query: 48\n",
      "Query: 49\n",
      "Query: 50\n",
      "Query: 51\n",
      "Query: 52\n",
      "Query: 53\n",
      "Query: 54\n",
      "Query: 55\n",
      "Query: 56\n",
      "Query: 57\n",
      "Query: 58\n",
      "Query: 59\n",
      "Query: 60\n",
      "Query: 61\n",
      "Query: 62\n",
      "Query: 63\n",
      "Query: 64\n",
      "Query: 65\n",
      "Query: 66\n",
      "Query: 67\n",
      "Query: 68\n",
      "Query: 69\n",
      "Query: 70\n",
      "Query: 71\n",
      "Query: 72\n",
      "Query: 73\n",
      "Query: 74\n",
      "Query: 75\n",
      "Query: 76\n",
      "Query: 77\n",
      "Query: 78\n",
      "Query: 79\n",
      "Query: 80\n",
      "Query: 81\n",
      "Query: 82\n",
      "Query: 83\n",
      "Query: 84\n",
      "Query: 85\n",
      "Query: 86\n",
      "Query: 87\n",
      "Query: 88\n",
      "Query: 89\n",
      "Query: 90\n",
      "Query: 91\n",
      "Query: 92\n",
      "Query: 93\n",
      "Query: 94\n",
      "Query: 95\n",
      "Query: 96\n",
      "Query: 97\n",
      "Query: 98\n",
      "Query: 99\n"
     ]
    },
    {
     "name": "stderr",
     "output_type": "stream",
     "text": [
      "[I 2023-11-26 18:48:42,069] Trial 21 finished with values: [1.019573218221974, 0.12813682, 50.0] and parameters: {'k': 7, 'L': 5, 'table_size': 7500, 'window_size': 4865, 'query_trick': True}. \n"
     ]
    },
    {
     "name": "stdout",
     "output_type": "stream",
     "text": [
      "Trial parameters: {'k': 4, 'L': 6, 'table_size': 3750, 'window_size': 2397, 'query_trick': True}\n",
      "Read MNIST data\n",
      "Done\n",
      "Algorithm: LSH\n",
      "Query: 0\n",
      "Query: 1\n",
      "Query: 2\n",
      "Query: 3\n",
      "Query: 4\n",
      "Query: 5\n",
      "Query: 6\n",
      "Query: 7\n",
      "Query: 8\n",
      "Query: 9\n",
      "Query: 10\n",
      "Query: 11\n",
      "Query: 12\n",
      "Query: 13\n",
      "Query: 14\n",
      "Query: 15\n",
      "Query: 16\n",
      "Query: 17\n",
      "Query: 18\n",
      "Query: 19\n",
      "Query: 20\n",
      "Query: 21\n",
      "Query: 22\n",
      "Query: 23\n",
      "Query: 24\n",
      "Query: 25\n",
      "Query: 26\n",
      "Query: 27\n",
      "Query: 28\n",
      "Query: 29\n",
      "Query: 30\n",
      "Query: 31\n",
      "Query: 32\n",
      "Query: 33\n",
      "Query: 34\n",
      "Query: 35\n",
      "Query: 36\n",
      "Query: 37\n",
      "Query: 38\n",
      "Query: 39\n",
      "Query: 40\n",
      "Query: 41\n",
      "Query: 42\n",
      "Query: 43\n",
      "Query: 44\n",
      "Query: 45\n",
      "Query: 46\n",
      "Query: 47\n",
      "Query: 48\n",
      "Query: 49\n",
      "Query: 50\n",
      "Query: 51\n",
      "Query: 52\n",
      "Query: 53\n",
      "Query: 54\n",
      "Query: 55\n",
      "Query: 56\n",
      "Query: 57\n",
      "Query: 58\n",
      "Query: 59\n",
      "Query: 60\n",
      "Query: 61\n",
      "Query: 62\n",
      "Query: 63\n",
      "Query: 64\n",
      "Query: 65\n",
      "Query: 66\n",
      "Query: 67\n",
      "Query: 68\n",
      "Query: 69\n",
      "Query: 70\n",
      "Query: 71\n",
      "Query: 72\n",
      "Query: 73\n",
      "Query: 74\n",
      "Query: 75\n",
      "Query: 76\n",
      "Query: 77\n",
      "Query: 78\n",
      "Query: 79\n",
      "Query: 80\n",
      "Query: 81\n",
      "Query: 82\n",
      "Query: 83\n",
      "Query: 84\n",
      "Query: 85\n",
      "Query: 86\n",
      "Query: 87\n",
      "Query: 88\n",
      "Query: 89\n",
      "Query: 90\n",
      "Query: 91\n",
      "Query: 92\n",
      "Query: 93\n",
      "Query: 94\n",
      "Query: 95\n",
      "Query: 96\n",
      "Query: 97\n",
      "Query: 98\n",
      "Query: 99\n"
     ]
    },
    {
     "name": "stderr",
     "output_type": "stream",
     "text": [
      "[I 2023-11-26 18:49:30,409] Trial 22 finished with values: [1.0545639820632464, 0.07328077999999998, 50.0] and parameters: {'k': 4, 'L': 6, 'table_size': 3750, 'window_size': 2397, 'query_trick': True}. \n"
     ]
    },
    {
     "name": "stdout",
     "output_type": "stream",
     "text": [
      "Trial parameters: {'k': 10, 'L': 9, 'table_size': 15000, 'window_size': 4428, 'query_trick': False}\n",
      "Read MNIST data\n",
      "Done\n",
      "Algorithm: LSH\n",
      "Query: 0\n",
      "Query: 1\n",
      "Query: 2\n",
      "Query: 3\n",
      "Query: 4\n",
      "Query: 5\n",
      "Query: 6\n",
      "Query: 7\n",
      "Query: 8\n",
      "Query: 9\n",
      "Query: 10\n",
      "Query: 11\n",
      "Query: 12\n",
      "Query: 13\n",
      "Query: 14\n",
      "Query: 15\n",
      "Query: 16\n",
      "Query: 17\n",
      "Query: 18\n",
      "Query: 19\n",
      "Query: 20\n",
      "Query: 21\n",
      "Query: 22\n",
      "Query: 23\n",
      "Query: 24\n",
      "Query: 25\n",
      "Query: 26\n",
      "Query: 27\n",
      "Query: 28\n",
      "Query: 29\n",
      "Query: 30\n",
      "Query: 31\n",
      "Query: 32\n",
      "Query: 33\n",
      "Query: 34\n",
      "Query: 35\n",
      "Query: 36\n",
      "Query: 37\n",
      "Query: 38\n",
      "Query: 39\n",
      "Query: 40\n",
      "Query: 41\n",
      "Query: 42\n",
      "Query: 43\n",
      "Query: 44\n",
      "Query: 45\n",
      "Query: 46\n",
      "Query: 47\n",
      "Query: 48\n",
      "Query: 49\n",
      "Query: 50\n",
      "Query: 51\n",
      "Query: 52\n",
      "Query: 53\n",
      "Query: 54\n",
      "Query: 55\n",
      "Query: 56\n",
      "Query: 57\n",
      "Query: 58\n",
      "Query: 59\n",
      "Query: 60\n",
      "Query: 61\n",
      "Query: 62\n",
      "Query: 63\n",
      "Query: 64\n",
      "Query: 65\n",
      "Query: 66\n",
      "Query: 67\n",
      "Query: 68\n",
      "Query: 69\n",
      "Query: 70\n",
      "Query: 71\n",
      "Query: 72\n",
      "Query: 73\n",
      "Query: 74\n",
      "Query: 75\n",
      "Query: 76\n",
      "Query: 77\n",
      "Query: 78\n",
      "Query: 79\n",
      "Query: 80\n",
      "Query: 81\n",
      "Query: 82\n",
      "Query: 83\n",
      "Query: 84\n",
      "Query: 85\n",
      "Query: 86\n",
      "Query: 87\n",
      "Query: 88\n",
      "Query: 89\n",
      "Query: 90\n",
      "Query: 91\n",
      "Query: 92\n",
      "Query: 93\n",
      "Query: 94\n",
      "Query: 95\n",
      "Query: 96\n",
      "Query: 97\n",
      "Query: 98\n",
      "Query: 99\n"
     ]
    },
    {
     "name": "stderr",
     "output_type": "stream",
     "text": [
      "[I 2023-11-26 18:50:41,121] Trial 23 finished with values: [1.0000329705767328, 0.07704273000000002, 50.0] and parameters: {'k': 10, 'L': 9, 'table_size': 15000, 'window_size': 4428, 'query_trick': False}. \n"
     ]
    },
    {
     "name": "stdout",
     "output_type": "stream",
     "text": [
      "Trial parameters: {'k': 4, 'L': 5, 'table_size': 7500, 'window_size': 3327, 'query_trick': True}\n",
      "Read MNIST data\n",
      "Done\n",
      "Algorithm: LSH\n",
      "Query: 0\n",
      "Query: 1\n",
      "Query: 2\n",
      "Query: 3\n",
      "Query: 4\n",
      "Query: 5\n",
      "Query: 6\n",
      "Query: 7\n",
      "Query: 8\n",
      "Query: 9\n",
      "Query: 10\n",
      "Query: 11\n",
      "Query: 12\n",
      "Query: 13\n",
      "Query: 14\n",
      "Query: 15\n",
      "Query: 16\n",
      "Query: 17\n",
      "Query: 18\n",
      "Query: 19\n",
      "Query: 20\n",
      "Query: 21\n",
      "Query: 22\n",
      "Query: 23\n",
      "Query: 24\n",
      "Query: 25\n",
      "Query: 26\n",
      "Query: 27\n",
      "Query: 28\n",
      "Query: 29\n",
      "Query: 30\n",
      "Query: 31\n",
      "Query: 32\n",
      "Query: 33\n",
      "Query: 34\n",
      "Query: 35\n",
      "Query: 36\n",
      "Query: 37\n",
      "Query: 38\n",
      "Query: 39\n",
      "Query: 40\n",
      "Query: 41\n",
      "Query: 42\n",
      "Query: 43\n",
      "Query: 44\n",
      "Query: 45\n",
      "Query: 46\n",
      "Query: 47\n",
      "Query: 48\n",
      "Query: 49\n",
      "Query: 50\n",
      "Query: 51\n",
      "Query: 52\n",
      "Query: 53\n",
      "Query: 54\n",
      "Query: 55\n",
      "Query: 56\n",
      "Query: 57\n",
      "Query: 58\n",
      "Query: 59\n",
      "Query: 60\n",
      "Query: 61\n",
      "Query: 62\n",
      "Query: 63\n",
      "Query: 64\n",
      "Query: 65\n",
      "Query: 66\n",
      "Query: 67\n",
      "Query: 68\n",
      "Query: 69\n",
      "Query: 70\n",
      "Query: 71\n",
      "Query: 72\n",
      "Query: 73\n",
      "Query: 74\n",
      "Query: 75\n",
      "Query: 76\n",
      "Query: 77\n",
      "Query: 78\n",
      "Query: 79\n",
      "Query: 80\n",
      "Query: 81\n",
      "Query: 82\n",
      "Query: 83\n",
      "Query: 84\n",
      "Query: 85\n",
      "Query: 86\n",
      "Query: 87\n",
      "Query: 88\n",
      "Query: 89\n",
      "Query: 90\n",
      "Query: 91\n",
      "Query: 92\n",
      "Query: 93\n",
      "Query: 94\n",
      "Query: 95\n",
      "Query: 96\n",
      "Query: 97\n",
      "Query: 98\n",
      "Query: 99\n"
     ]
    },
    {
     "name": "stderr",
     "output_type": "stream",
     "text": [
      "[I 2023-11-26 18:51:27,586] Trial 24 finished with values: [1.0030667027343796, 0.12566375999999996, 50.0] and parameters: {'k': 4, 'L': 5, 'table_size': 7500, 'window_size': 3327, 'query_trick': True}. \n"
     ]
    },
    {
     "name": "stdout",
     "output_type": "stream",
     "text": [
      "Trial parameters: {'k': 8, 'L': 8, 'table_size': 3750, 'window_size': 4787, 'query_trick': True}\n",
      "Read MNIST data\n",
      "Done\n",
      "Algorithm: LSH\n",
      "Query: 0\n",
      "Query: 1\n",
      "Query: 2\n",
      "Query: 3\n",
      "Query: 4\n",
      "Query: 5\n",
      "Query: 6\n",
      "Query: 7\n",
      "Query: 8\n",
      "Query: 9\n",
      "Query: 10\n",
      "Query: 11\n",
      "Query: 12\n",
      "Query: 13\n",
      "Query: 14\n",
      "Query: 15\n",
      "Query: 16\n",
      "Query: 17\n",
      "Query: 18\n",
      "Query: 19\n",
      "Query: 20\n",
      "Query: 21\n",
      "Query: 22\n",
      "Query: 23\n",
      "Query: 24\n",
      "Query: 25\n",
      "Query: 26\n",
      "Query: 27\n",
      "Query: 28\n",
      "Query: 29\n",
      "Query: 30\n",
      "Query: 31\n",
      "Query: 32\n",
      "Query: 33\n",
      "Query: 34\n",
      "Query: 35\n",
      "Query: 36\n",
      "Query: 37\n",
      "Query: 38\n",
      "Query: 39\n",
      "Query: 40\n",
      "Query: 41\n",
      "Query: 42\n",
      "Query: 43\n",
      "Query: 44\n",
      "Query: 45\n",
      "Query: 46\n",
      "Query: 47\n",
      "Query: 48\n",
      "Query: 49\n",
      "Query: 50\n",
      "Query: 51\n",
      "Query: 52\n",
      "Query: 53\n",
      "Query: 54\n",
      "Query: 55\n",
      "Query: 56\n",
      "Query: 57\n",
      "Query: 58\n",
      "Query: 59\n",
      "Query: 60\n",
      "Query: 61\n",
      "Query: 62\n",
      "Query: 63\n",
      "Query: 64\n",
      "Query: 65\n",
      "Query: 66\n",
      "Query: 67\n",
      "Query: 68\n",
      "Query: 69\n",
      "Query: 70\n",
      "Query: 71\n",
      "Query: 72\n",
      "Query: 73\n",
      "Query: 74\n",
      "Query: 75\n",
      "Query: 76\n",
      "Query: 77\n",
      "Query: 78\n",
      "Query: 79\n",
      "Query: 80\n",
      "Query: 81\n",
      "Query: 82\n",
      "Query: 83\n",
      "Query: 84\n",
      "Query: 85\n",
      "Query: 86\n",
      "Query: 87\n",
      "Query: 88\n",
      "Query: 89\n",
      "Query: 90\n",
      "Query: 91\n",
      "Query: 92\n",
      "Query: 93\n",
      "Query: 94\n",
      "Query: 95\n",
      "Query: 96\n",
      "Query: 97\n",
      "Query: 98\n",
      "Query: 99\n"
     ]
    },
    {
     "name": "stderr",
     "output_type": "stream",
     "text": [
      "[I 2023-11-26 18:52:30,421] Trial 25 finished with values: [1.0, 0.14539111, 50.0] and parameters: {'k': 8, 'L': 8, 'table_size': 3750, 'window_size': 4787, 'query_trick': True}. \n"
     ]
    },
    {
     "name": "stdout",
     "output_type": "stream",
     "text": [
      "Trial parameters: {'k': 2, 'L': 10, 'table_size': 15000, 'window_size': 3695, 'query_trick': True}\n",
      "Read MNIST data\n",
      "Done\n",
      "Algorithm: LSH\n",
      "Query: 0\n",
      "Query: 1\n",
      "Query: 2\n",
      "Query: 3\n",
      "Query: 4\n",
      "Query: 5\n",
      "Query: 6\n",
      "Query: 7\n",
      "Query: 8\n",
      "Query: 9\n",
      "Query: 10\n",
      "Query: 11\n",
      "Query: 12\n",
      "Query: 13\n",
      "Query: 14\n",
      "Query: 15\n",
      "Query: 16\n",
      "Query: 17\n",
      "Query: 18\n",
      "Query: 19\n",
      "Query: 20\n",
      "Query: 21\n",
      "Query: 22\n",
      "Query: 23\n",
      "Query: 24\n",
      "Query: 25\n",
      "Query: 26\n",
      "Query: 27\n",
      "Query: 28\n",
      "Query: 29\n",
      "Query: 30\n",
      "Query: 31\n",
      "Query: 32\n",
      "Query: 33\n",
      "Query: 34\n",
      "Query: 35\n",
      "Query: 36\n",
      "Query: 37\n",
      "Query: 38\n",
      "Query: 39\n",
      "Query: 40\n",
      "Query: 41\n",
      "Query: 42\n",
      "Query: 43\n",
      "Query: 44\n",
      "Query: 45\n",
      "Query: 46\n",
      "Query: 47\n",
      "Query: 48\n",
      "Query: 49\n",
      "Query: 50\n",
      "Query: 51\n",
      "Query: 52\n",
      "Query: 53\n",
      "Query: 54\n",
      "Query: 55\n",
      "Query: 56\n",
      "Query: 57\n",
      "Query: 58\n",
      "Query: 59\n",
      "Query: 60\n",
      "Query: 61\n",
      "Query: 62\n",
      "Query: 63\n",
      "Query: 64\n",
      "Query: 65\n",
      "Query: 66\n",
      "Query: 67\n",
      "Query: 68\n",
      "Query: 69\n",
      "Query: 70\n",
      "Query: 71\n",
      "Query: 72\n",
      "Query: 73\n",
      "Query: 74\n",
      "Query: 75\n",
      "Query: 76\n",
      "Query: 77\n",
      "Query: 78\n",
      "Query: 79\n",
      "Query: 80\n",
      "Query: 81\n",
      "Query: 82\n",
      "Query: 83\n",
      "Query: 84\n",
      "Query: 85\n",
      "Query: 86\n",
      "Query: 87\n",
      "Query: 88\n",
      "Query: 89\n",
      "Query: 90\n",
      "Query: 91\n",
      "Query: 92\n",
      "Query: 93\n",
      "Query: 94\n",
      "Query: 95\n",
      "Query: 96\n",
      "Query: 97\n",
      "Query: 98\n",
      "Query: 99\n"
     ]
    },
    {
     "name": "stderr",
     "output_type": "stream",
     "text": [
      "[I 2023-11-26 18:54:00,867] Trial 26 finished with values: [1.0, 0.5546035499999998, 50.0] and parameters: {'k': 2, 'L': 10, 'table_size': 15000, 'window_size': 3695, 'query_trick': True}. \n"
     ]
    },
    {
     "name": "stdout",
     "output_type": "stream",
     "text": [
      "Trial parameters: {'k': 8, 'L': 8, 'table_size': 3750, 'window_size': 1013, 'query_trick': True}\n",
      "Read MNIST data\n",
      "Done\n",
      "Algorithm: LSH\n",
      "Query: 0\n",
      "Query: 1\n",
      "Query: 2\n",
      "Query: 3\n",
      "Query: 4\n",
      "Query: 5\n",
      "Query: 6\n",
      "Query: 7\n",
      "Query: 8\n",
      "Query: 9\n",
      "Query: 10\n",
      "Query: 11\n",
      "Query: 12\n",
      "Query: 13\n",
      "Query: 14\n",
      "Query: 15\n",
      "Query: 16\n",
      "Query: 17\n",
      "Query: 18\n",
      "Query: 19\n",
      "Query: 20\n",
      "Query: 21\n",
      "Query: 22\n",
      "Query: 23\n",
      "Query: 24\n",
      "Query: 25\n",
      "Query: 26\n",
      "Query: 27\n",
      "Query: 28\n",
      "Query: 29\n",
      "Query: 30\n",
      "Query: 31\n",
      "Query: 32\n",
      "Query: 33\n",
      "Query: 34\n",
      "Query: 35\n",
      "Query: 36\n",
      "Query: 37\n",
      "Query: 38\n",
      "Query: 39\n",
      "Query: 40\n",
      "Query: 41\n",
      "Query: 42\n",
      "Query: 43\n",
      "Query: 44\n",
      "Query: 45\n",
      "Query: 46\n",
      "Query: 47\n",
      "Query: 48\n",
      "Query: 49\n",
      "Query: 50\n",
      "Query: 51\n",
      "Query: 52\n",
      "Query: 53\n",
      "Query: 54\n",
      "Query: 55\n",
      "Query: 56\n",
      "Query: 57\n",
      "Query: 58\n",
      "Query: 59\n",
      "Query: 60\n",
      "Query: 61\n",
      "Query: 62\n",
      "Query: 63\n",
      "Query: 64\n",
      "Query: 65\n",
      "Query: 66\n",
      "Query: 67\n",
      "Query: 68\n",
      "Query: 69\n",
      "Query: 70\n",
      "Query: 71\n",
      "Query: 72\n",
      "Query: 73\n",
      "Query: 74\n",
      "Query: 75\n",
      "Query: 76\n",
      "Query: 77\n",
      "Query: 78\n",
      "Query: 79\n",
      "Query: 80\n",
      "Query: 81\n",
      "Query: 82\n",
      "Query: 83\n",
      "Query: 84\n",
      "Query: 85\n",
      "Query: 86\n",
      "Query: 87\n",
      "Query: 88\n",
      "Query: 89\n",
      "Query: 90\n",
      "Query: 91\n",
      "Query: 92\n",
      "Query: 93\n",
      "Query: 94\n",
      "Query: 95\n",
      "Query: 96\n",
      "Query: 97\n",
      "Query: 98\n",
      "Query: 99\n"
     ]
    },
    {
     "name": "stderr",
     "output_type": "stream",
     "text": [
      "[I 2023-11-26 18:54:51,194] Trial 27 finished with values: [1.7976931348623157e+308, 0.0008337900000000004, 0.0] and parameters: {'k': 8, 'L': 8, 'table_size': 3750, 'window_size': 1013, 'query_trick': True}. \n"
     ]
    },
    {
     "name": "stdout",
     "output_type": "stream",
     "text": [
      "Trial parameters: {'k': 5, 'L': 8, 'table_size': 15000, 'window_size': 1243, 'query_trick': False}\n",
      "Read MNIST data\n",
      "Done\n",
      "Algorithm: LSH\n",
      "Query: 0\n",
      "Query: 1\n",
      "Query: 2\n",
      "Query: 3\n",
      "Query: 4\n",
      "Query: 5\n",
      "Query: 6\n",
      "Query: 7\n",
      "Query: 8\n",
      "Query: 9\n",
      "Query: 10\n",
      "Query: 11\n",
      "Query: 12\n",
      "Query: 13\n",
      "Query: 14\n",
      "Query: 15\n",
      "Query: 16\n",
      "Query: 17\n",
      "Query: 18\n",
      "Query: 19\n",
      "Query: 20\n",
      "Query: 21\n",
      "Query: 22\n",
      "Query: 23\n",
      "Query: 24\n",
      "Query: 25\n",
      "Query: 26\n",
      "Query: 27\n",
      "Query: 28\n",
      "Query: 29\n",
      "Query: 30\n",
      "Query: 31\n",
      "Query: 32\n",
      "Query: 33\n",
      "Query: 34\n",
      "Query: 35\n",
      "Query: 36\n",
      "Query: 37\n",
      "Query: 38\n",
      "Query: 39\n",
      "Query: 40\n",
      "Query: 41\n",
      "Query: 42\n",
      "Query: 43\n",
      "Query: 44\n",
      "Query: 45\n",
      "Query: 46\n",
      "Query: 47\n",
      "Query: 48\n",
      "Query: 49\n",
      "Query: 50\n",
      "Query: 51\n",
      "Query: 52\n",
      "Query: 53\n",
      "Query: 54\n",
      "Query: 55\n",
      "Query: 56\n",
      "Query: 57\n",
      "Query: 58\n",
      "Query: 59\n",
      "Query: 60\n",
      "Query: 61\n",
      "Query: 62\n",
      "Query: 63\n",
      "Query: 64\n",
      "Query: 65\n",
      "Query: 66\n",
      "Query: 67\n",
      "Query: 68\n",
      "Query: 69\n",
      "Query: 70\n",
      "Query: 71\n",
      "Query: 72\n",
      "Query: 73\n",
      "Query: 74\n",
      "Query: 75\n",
      "Query: 76\n",
      "Query: 77\n",
      "Query: 78\n",
      "Query: 79\n",
      "Query: 80\n",
      "Query: 81\n",
      "Query: 82\n",
      "Query: 83\n",
      "Query: 84\n",
      "Query: 85\n",
      "Query: 86\n",
      "Query: 87\n",
      "Query: 88\n",
      "Query: 89\n",
      "Query: 90\n",
      "Query: 91\n",
      "Query: 92\n",
      "Query: 93\n",
      "Query: 94\n",
      "Query: 95\n",
      "Query: 96\n",
      "Query: 97\n",
      "Query: 98\n",
      "Query: 99\n"
     ]
    },
    {
     "name": "stderr",
     "output_type": "stream",
     "text": [
      "[I 2023-11-26 18:55:33,535] Trial 28 finished with values: [1.416661163696468, 0.0042783299999999995, 50.0] and parameters: {'k': 5, 'L': 8, 'table_size': 15000, 'window_size': 1243, 'query_trick': False}. \n"
     ]
    },
    {
     "name": "stdout",
     "output_type": "stream",
     "text": [
      "Trial parameters: {'k': 7, 'L': 9, 'table_size': 3750, 'window_size': 3629, 'query_trick': False}\n",
      "Read MNIST data\n",
      "Done\n",
      "Algorithm: LSH\n",
      "Query: 0\n",
      "Query: 1\n",
      "Query: 2\n",
      "Query: 3\n",
      "Query: 4\n",
      "Query: 5\n",
      "Query: 6\n",
      "Query: 7\n",
      "Query: 8\n",
      "Query: 9\n",
      "Query: 10\n",
      "Query: 11\n",
      "Query: 12\n",
      "Query: 13\n",
      "Query: 14\n",
      "Query: 15\n",
      "Query: 16\n",
      "Query: 17\n",
      "Query: 18\n",
      "Query: 19\n",
      "Query: 20\n",
      "Query: 21\n",
      "Query: 22\n",
      "Query: 23\n",
      "Query: 24\n",
      "Query: 25\n",
      "Query: 26\n",
      "Query: 27\n",
      "Query: 28\n",
      "Query: 29\n",
      "Query: 30\n",
      "Query: 31\n",
      "Query: 32\n",
      "Query: 33\n",
      "Query: 34\n",
      "Query: 35\n",
      "Query: 36\n",
      "Query: 37\n",
      "Query: 38\n",
      "Query: 39\n",
      "Query: 40\n",
      "Query: 41\n",
      "Query: 42\n",
      "Query: 43\n",
      "Query: 44\n",
      "Query: 45\n",
      "Query: 46\n",
      "Query: 47\n",
      "Query: 48\n",
      "Query: 49\n",
      "Query: 50\n",
      "Query: 51\n",
      "Query: 52\n",
      "Query: 53\n",
      "Query: 54\n",
      "Query: 55\n",
      "Query: 56\n",
      "Query: 57\n",
      "Query: 58\n",
      "Query: 59\n",
      "Query: 60\n",
      "Query: 61\n",
      "Query: 62\n",
      "Query: 63\n",
      "Query: 64\n",
      "Query: 65\n",
      "Query: 66\n",
      "Query: 67\n",
      "Query: 68\n",
      "Query: 69\n",
      "Query: 70\n",
      "Query: 71\n",
      "Query: 72\n",
      "Query: 73\n",
      "Query: 74\n",
      "Query: 75\n",
      "Query: 76\n",
      "Query: 77\n",
      "Query: 78\n",
      "Query: 79\n",
      "Query: 80\n",
      "Query: 81\n",
      "Query: 82\n",
      "Query: 83\n",
      "Query: 84\n",
      "Query: 85\n",
      "Query: 86\n",
      "Query: 87\n",
      "Query: 88\n",
      "Query: 89\n",
      "Query: 90\n",
      "Query: 91\n",
      "Query: 92\n",
      "Query: 93\n",
      "Query: 94\n",
      "Query: 95\n",
      "Query: 96\n",
      "Query: 97\n",
      "Query: 98\n",
      "Query: 99\n"
     ]
    },
    {
     "name": "stderr",
     "output_type": "stream",
     "text": [
      "[I 2023-11-26 18:56:30,285] Trial 29 finished with values: [1.0064591950958244, 0.061548800000000015, 50.0] and parameters: {'k': 7, 'L': 9, 'table_size': 3750, 'window_size': 3629, 'query_trick': False}. \n"
     ]
    },
    {
     "name": "stdout",
     "output_type": "stream",
     "text": [
      "Trial parameters: {'k': 2, 'L': 9, 'table_size': 7500, 'window_size': 1360, 'query_trick': False}\n",
      "Read MNIST data\n",
      "Done\n",
      "Algorithm: LSH\n",
      "Query: 0\n",
      "Query: 1\n",
      "Query: 2\n",
      "Query: 3\n",
      "Query: 4\n",
      "Query: 5\n",
      "Query: 6\n",
      "Query: 7\n",
      "Query: 8\n",
      "Query: 9\n",
      "Query: 10\n",
      "Query: 11\n",
      "Query: 12\n",
      "Query: 13\n",
      "Query: 14\n",
      "Query: 15\n",
      "Query: 16\n",
      "Query: 17\n",
      "Query: 18\n",
      "Query: 19\n",
      "Query: 20\n",
      "Query: 21\n",
      "Query: 22\n",
      "Query: 23\n",
      "Query: 24\n",
      "Query: 25\n",
      "Query: 26\n",
      "Query: 27\n",
      "Query: 28\n",
      "Query: 29\n",
      "Query: 30\n",
      "Query: 31\n",
      "Query: 32\n",
      "Query: 33\n",
      "Query: 34\n",
      "Query: 35\n",
      "Query: 36\n",
      "Query: 37\n",
      "Query: 38\n",
      "Query: 39\n",
      "Query: 40\n",
      "Query: 41\n",
      "Query: 42\n",
      "Query: 43\n",
      "Query: 44\n",
      "Query: 45\n",
      "Query: 46\n",
      "Query: 47\n",
      "Query: 48\n",
      "Query: 49\n",
      "Query: 50\n",
      "Query: 51\n",
      "Query: 52\n",
      "Query: 53\n",
      "Query: 54\n",
      "Query: 55\n",
      "Query: 56\n",
      "Query: 57\n",
      "Query: 58\n",
      "Query: 59\n",
      "Query: 60\n",
      "Query: 61\n",
      "Query: 62\n",
      "Query: 63\n",
      "Query: 64\n",
      "Query: 65\n",
      "Query: 66\n",
      "Query: 67\n",
      "Query: 68\n",
      "Query: 69\n",
      "Query: 70\n",
      "Query: 71\n",
      "Query: 72\n",
      "Query: 73\n",
      "Query: 74\n",
      "Query: 75\n",
      "Query: 76\n",
      "Query: 77\n",
      "Query: 78\n",
      "Query: 79\n",
      "Query: 80\n",
      "Query: 81\n",
      "Query: 82\n",
      "Query: 83\n",
      "Query: 84\n",
      "Query: 85\n",
      "Query: 86\n",
      "Query: 87\n",
      "Query: 88\n",
      "Query: 89\n",
      "Query: 90\n",
      "Query: 91\n",
      "Query: 92\n",
      "Query: 93\n",
      "Query: 94\n",
      "Query: 95\n",
      "Query: 96\n",
      "Query: 97\n",
      "Query: 98\n",
      "Query: 99\n"
     ]
    },
    {
     "name": "stderr",
     "output_type": "stream",
     "text": [
      "[I 2023-11-26 18:57:17,092] Trial 30 finished with values: [1.007277114480091, 0.11915658000000001, 50.0] and parameters: {'k': 2, 'L': 9, 'table_size': 7500, 'window_size': 1360, 'query_trick': False}. \n"
     ]
    },
    {
     "name": "stdout",
     "output_type": "stream",
     "text": [
      "Trial parameters: {'k': 10, 'L': 5, 'table_size': 7500, 'window_size': 2266, 'query_trick': False}\n",
      "Read MNIST data\n",
      "Done\n",
      "Algorithm: LSH\n",
      "Query: 0\n",
      "Query: 1\n",
      "Query: 2\n",
      "Query: 3\n",
      "Query: 4\n",
      "Query: 5\n",
      "Query: 6\n",
      "Query: 7\n",
      "Query: 8\n",
      "Query: 9\n",
      "Query: 10\n",
      "Query: 11\n",
      "Query: 12\n",
      "Query: 13\n",
      "Query: 14\n",
      "Query: 15\n",
      "Query: 16\n",
      "Query: 17\n",
      "Query: 18\n",
      "Query: 19\n",
      "Query: 20\n",
      "Query: 21\n",
      "Query: 22\n",
      "Query: 23\n",
      "Query: 24\n",
      "Query: 25\n",
      "Query: 26\n",
      "Query: 27\n",
      "Query: 28\n",
      "Query: 29\n",
      "Query: 30\n",
      "Query: 31\n",
      "Query: 32\n",
      "Query: 33\n",
      "Query: 34\n",
      "Query: 35\n",
      "Query: 36\n",
      "Query: 37\n",
      "Query: 38\n",
      "Query: 39\n",
      "Query: 40\n",
      "Query: 41\n",
      "Query: 42\n",
      "Query: 43\n",
      "Query: 44\n",
      "Query: 45\n",
      "Query: 46\n",
      "Query: 47\n",
      "Query: 48\n",
      "Query: 49\n",
      "Query: 50\n",
      "Query: 51\n",
      "Query: 52\n",
      "Query: 53\n",
      "Query: 54\n",
      "Query: 55\n",
      "Query: 56\n",
      "Query: 57\n",
      "Query: 58\n",
      "Query: 59\n",
      "Query: 60\n",
      "Query: 61\n",
      "Query: 62\n",
      "Query: 63\n",
      "Query: 64\n",
      "Query: 65\n",
      "Query: 66\n",
      "Query: 67\n",
      "Query: 68\n",
      "Query: 69\n",
      "Query: 70\n",
      "Query: 71\n",
      "Query: 72\n",
      "Query: 73\n",
      "Query: 74\n",
      "Query: 75\n",
      "Query: 76\n",
      "Query: 77\n",
      "Query: 78\n",
      "Query: 79\n",
      "Query: 80\n",
      "Query: 81\n",
      "Query: 82\n",
      "Query: 83\n",
      "Query: 84\n",
      "Query: 85\n",
      "Query: 86\n",
      "Query: 87\n",
      "Query: 88\n",
      "Query: 89\n",
      "Query: 90\n",
      "Query: 91\n",
      "Query: 92\n",
      "Query: 93\n",
      "Query: 94\n",
      "Query: 95\n",
      "Query: 96\n",
      "Query: 97\n",
      "Query: 98\n",
      "Query: 99\n"
     ]
    },
    {
     "name": "stderr",
     "output_type": "stream",
     "text": [
      "[I 2023-11-26 18:58:03,158] Trial 31 finished with values: [1.5211865489219223, 0.0020627600000000003, 21.0] and parameters: {'k': 10, 'L': 5, 'table_size': 7500, 'window_size': 2266, 'query_trick': False}. \n"
     ]
    },
    {
     "name": "stdout",
     "output_type": "stream",
     "text": [
      "Trial parameters: {'k': 10, 'L': 8, 'table_size': 7500, 'window_size': 1971, 'query_trick': True}\n",
      "Read MNIST data\n",
      "Done\n",
      "Algorithm: LSH\n",
      "Query: 0\n",
      "Query: 1\n",
      "Query: 2\n",
      "Query: 3\n",
      "Query: 4\n",
      "Query: 5\n",
      "Query: 6\n",
      "Query: 7\n",
      "Query: 8\n",
      "Query: 9\n",
      "Query: 10\n",
      "Query: 11\n",
      "Query: 12\n",
      "Query: 13\n",
      "Query: 14\n",
      "Query: 15\n",
      "Query: 16\n",
      "Query: 17\n",
      "Query: 18\n",
      "Query: 19\n",
      "Query: 20\n",
      "Query: 21\n",
      "Query: 22\n",
      "Query: 23\n",
      "Query: 24\n",
      "Query: 25\n",
      "Query: 26\n",
      "Query: 27\n",
      "Query: 28\n",
      "Query: 29\n",
      "Query: 30\n",
      "Query: 31\n",
      "Query: 32\n",
      "Query: 33\n",
      "Query: 34\n",
      "Query: 35\n",
      "Query: 36\n",
      "Query: 37\n",
      "Query: 38\n",
      "Query: 39\n",
      "Query: 40\n",
      "Query: 41\n",
      "Query: 42\n",
      "Query: 43\n",
      "Query: 44\n",
      "Query: 45\n",
      "Query: 46\n",
      "Query: 47\n",
      "Query: 48\n",
      "Query: 49\n",
      "Query: 50\n",
      "Query: 51\n",
      "Query: 52\n",
      "Query: 53\n",
      "Query: 54\n",
      "Query: 55\n",
      "Query: 56\n",
      "Query: 57\n",
      "Query: 58\n",
      "Query: 59\n",
      "Query: 60\n",
      "Query: 61\n",
      "Query: 62\n",
      "Query: 63\n",
      "Query: 64\n",
      "Query: 65\n",
      "Query: 66\n",
      "Query: 67\n",
      "Query: 68\n",
      "Query: 69\n",
      "Query: 70\n",
      "Query: 71\n",
      "Query: 72\n",
      "Query: 73\n",
      "Query: 74\n",
      "Query: 75\n",
      "Query: 76\n",
      "Query: 77\n",
      "Query: 78\n",
      "Query: 79\n",
      "Query: 80\n",
      "Query: 81\n",
      "Query: 82\n",
      "Query: 83\n",
      "Query: 84\n",
      "Query: 85\n",
      "Query: 86\n",
      "Query: 87\n",
      "Query: 88\n",
      "Query: 89\n",
      "Query: 90\n",
      "Query: 91\n",
      "Query: 92\n",
      "Query: 93\n",
      "Query: 94\n",
      "Query: 95\n",
      "Query: 96\n",
      "Query: 97\n",
      "Query: 98\n",
      "Query: 99\n"
     ]
    },
    {
     "name": "stderr",
     "output_type": "stream",
     "text": [
      "[I 2023-11-26 18:58:57,040] Trial 32 finished with values: [1.3555277288780203, 0.00205341, 17.0] and parameters: {'k': 10, 'L': 8, 'table_size': 7500, 'window_size': 1971, 'query_trick': True}. \n"
     ]
    },
    {
     "name": "stdout",
     "output_type": "stream",
     "text": [
      "Trial parameters: {'k': 10, 'L': 7, 'table_size': 3750, 'window_size': 2623, 'query_trick': True}\n",
      "Read MNIST data\n",
      "Done\n",
      "Algorithm: LSH\n",
      "Query: 0\n",
      "Query: 1\n",
      "Query: 2\n",
      "Query: 3\n",
      "Query: 4\n",
      "Query: 5\n",
      "Query: 6\n",
      "Query: 7\n",
      "Query: 8\n",
      "Query: 9\n",
      "Query: 10\n",
      "Query: 11\n",
      "Query: 12\n",
      "Query: 13\n",
      "Query: 14\n",
      "Query: 15\n",
      "Query: 16\n",
      "Query: 17\n",
      "Query: 18\n",
      "Query: 19\n",
      "Query: 20\n",
      "Query: 21\n",
      "Query: 22\n",
      "Query: 23\n",
      "Query: 24\n",
      "Query: 25\n",
      "Query: 26\n",
      "Query: 27\n",
      "Query: 28\n",
      "Query: 29\n",
      "Query: 30\n",
      "Query: 31\n",
      "Query: 32\n",
      "Query: 33\n",
      "Query: 34\n",
      "Query: 35\n",
      "Query: 36\n",
      "Query: 37\n",
      "Query: 38\n",
      "Query: 39\n",
      "Query: 40\n",
      "Query: 41\n",
      "Query: 42\n",
      "Query: 43\n",
      "Query: 44\n",
      "Query: 45\n",
      "Query: 46\n",
      "Query: 47\n",
      "Query: 48\n",
      "Query: 49\n",
      "Query: 50\n",
      "Query: 51\n",
      "Query: 52\n",
      "Query: 53\n",
      "Query: 54\n",
      "Query: 55\n",
      "Query: 56\n",
      "Query: 57\n",
      "Query: 58\n",
      "Query: 59\n",
      "Query: 60\n",
      "Query: 61\n",
      "Query: 62\n",
      "Query: 63\n",
      "Query: 64\n",
      "Query: 65\n",
      "Query: 66\n",
      "Query: 67\n",
      "Query: 68\n",
      "Query: 69\n",
      "Query: 70\n",
      "Query: 71\n",
      "Query: 72\n",
      "Query: 73\n",
      "Query: 74\n",
      "Query: 75\n",
      "Query: 76\n",
      "Query: 77\n",
      "Query: 78\n",
      "Query: 79\n",
      "Query: 80\n",
      "Query: 81\n",
      "Query: 82\n",
      "Query: 83\n",
      "Query: 84\n",
      "Query: 85\n",
      "Query: 86\n",
      "Query: 87\n",
      "Query: 88\n",
      "Query: 89\n",
      "Query: 90\n",
      "Query: 91\n",
      "Query: 92\n",
      "Query: 93\n",
      "Query: 94\n",
      "Query: 95\n",
      "Query: 96\n",
      "Query: 97\n",
      "Query: 98\n",
      "Query: 99\n"
     ]
    },
    {
     "name": "stderr",
     "output_type": "stream",
     "text": [
      "[I 2023-11-26 18:59:47,615] Trial 33 finished with values: [1.2007612037041664, 0.0072292400000000005, 50.0] and parameters: {'k': 10, 'L': 7, 'table_size': 3750, 'window_size': 2623, 'query_trick': True}. \n"
     ]
    },
    {
     "name": "stdout",
     "output_type": "stream",
     "text": [
      "Trial parameters: {'k': 8, 'L': 10, 'table_size': 3750, 'window_size': 3953, 'query_trick': False}\n",
      "Read MNIST data\n",
      "Done\n",
      "Algorithm: LSH\n",
      "Query: 0\n",
      "Query: 1\n",
      "Query: 2\n",
      "Query: 3\n",
      "Query: 4\n",
      "Query: 5\n",
      "Query: 6\n",
      "Query: 7\n",
      "Query: 8\n",
      "Query: 9\n",
      "Query: 10\n",
      "Query: 11\n",
      "Query: 12\n",
      "Query: 13\n",
      "Query: 14\n",
      "Query: 15\n",
      "Query: 16\n",
      "Query: 17\n",
      "Query: 18\n",
      "Query: 19\n",
      "Query: 20\n",
      "Query: 21\n",
      "Query: 22\n",
      "Query: 23\n",
      "Query: 24\n",
      "Query: 25\n",
      "Query: 26\n",
      "Query: 27\n",
      "Query: 28\n",
      "Query: 29\n",
      "Query: 30\n",
      "Query: 31\n",
      "Query: 32\n",
      "Query: 33\n",
      "Query: 34\n",
      "Query: 35\n",
      "Query: 36\n",
      "Query: 37\n",
      "Query: 38\n",
      "Query: 39\n",
      "Query: 40\n",
      "Query: 41\n",
      "Query: 42\n",
      "Query: 43\n",
      "Query: 44\n",
      "Query: 45\n",
      "Query: 46\n",
      "Query: 47\n",
      "Query: 48\n",
      "Query: 49\n",
      "Query: 50\n",
      "Query: 51\n",
      "Query: 52\n",
      "Query: 53\n",
      "Query: 54\n",
      "Query: 55\n",
      "Query: 56\n",
      "Query: 57\n",
      "Query: 58\n",
      "Query: 59\n",
      "Query: 60\n",
      "Query: 61\n",
      "Query: 62\n",
      "Query: 63\n",
      "Query: 64\n",
      "Query: 65\n",
      "Query: 66\n",
      "Query: 67\n",
      "Query: 68\n",
      "Query: 69\n",
      "Query: 70\n",
      "Query: 71\n",
      "Query: 72\n",
      "Query: 73\n",
      "Query: 74\n",
      "Query: 75\n",
      "Query: 76\n",
      "Query: 77\n",
      "Query: 78\n",
      "Query: 79\n",
      "Query: 80\n",
      "Query: 81\n",
      "Query: 82\n",
      "Query: 83\n",
      "Query: 84\n",
      "Query: 85\n",
      "Query: 86\n",
      "Query: 87\n",
      "Query: 88\n",
      "Query: 89\n",
      "Query: 90\n",
      "Query: 91\n",
      "Query: 92\n",
      "Query: 93\n",
      "Query: 94\n",
      "Query: 95\n",
      "Query: 96\n",
      "Query: 97\n",
      "Query: 98\n",
      "Query: 99\n"
     ]
    },
    {
     "name": "stderr",
     "output_type": "stream",
     "text": [
      "[I 2023-11-26 19:00:51,755] Trial 34 finished with values: [1.0073965014378894, 0.08648003000000001, 50.0] and parameters: {'k': 8, 'L': 10, 'table_size': 3750, 'window_size': 3953, 'query_trick': False}. \n"
     ]
    },
    {
     "name": "stdout",
     "output_type": "stream",
     "text": [
      "Trial parameters: {'k': 4, 'L': 10, 'table_size': 7500, 'window_size': 4372, 'query_trick': False}\n",
      "Read MNIST data\n",
      "Done\n",
      "Algorithm: LSH\n",
      "Query: 0\n",
      "Query: 1\n",
      "Query: 2\n",
      "Query: 3\n",
      "Query: 4\n",
      "Query: 5\n",
      "Query: 6\n",
      "Query: 7\n",
      "Query: 8\n",
      "Query: 9\n",
      "Query: 10\n",
      "Query: 11\n",
      "Query: 12\n",
      "Query: 13\n",
      "Query: 14\n",
      "Query: 15\n",
      "Query: 16\n",
      "Query: 17\n",
      "Query: 18\n",
      "Query: 19\n",
      "Query: 20\n",
      "Query: 21\n",
      "Query: 22\n",
      "Query: 23\n",
      "Query: 24\n",
      "Query: 25\n",
      "Query: 26\n",
      "Query: 27\n",
      "Query: 28\n",
      "Query: 29\n",
      "Query: 30\n",
      "Query: 31\n",
      "Query: 32\n",
      "Query: 33\n",
      "Query: 34\n",
      "Query: 35\n",
      "Query: 36\n",
      "Query: 37\n",
      "Query: 38\n",
      "Query: 39\n",
      "Query: 40\n",
      "Query: 41\n",
      "Query: 42\n",
      "Query: 43\n",
      "Query: 44\n",
      "Query: 45\n",
      "Query: 46\n",
      "Query: 47\n",
      "Query: 48\n",
      "Query: 49\n",
      "Query: 50\n",
      "Query: 51\n",
      "Query: 52\n",
      "Query: 53\n",
      "Query: 54\n",
      "Query: 55\n",
      "Query: 56\n",
      "Query: 57\n",
      "Query: 58\n",
      "Query: 59\n",
      "Query: 60\n",
      "Query: 61\n",
      "Query: 62\n",
      "Query: 63\n",
      "Query: 64\n",
      "Query: 65\n",
      "Query: 66\n",
      "Query: 67\n",
      "Query: 68\n",
      "Query: 69\n",
      "Query: 70\n",
      "Query: 71\n",
      "Query: 72\n",
      "Query: 73\n",
      "Query: 74\n",
      "Query: 75\n",
      "Query: 76\n",
      "Query: 77\n",
      "Query: 78\n",
      "Query: 79\n",
      "Query: 80\n",
      "Query: 81\n",
      "Query: 82\n",
      "Query: 83\n",
      "Query: 84\n",
      "Query: 85\n",
      "Query: 86\n",
      "Query: 87\n",
      "Query: 88\n",
      "Query: 89\n",
      "Query: 90\n",
      "Query: 91\n",
      "Query: 92\n",
      "Query: 93\n",
      "Query: 94\n",
      "Query: 95\n",
      "Query: 96\n",
      "Query: 97\n",
      "Query: 98\n",
      "Query: 99\n"
     ]
    },
    {
     "name": "stderr",
     "output_type": "stream",
     "text": [
      "[I 2023-11-26 19:02:14,389] Trial 35 finished with values: [1.0, 0.3832070400000001, 50.0] and parameters: {'k': 4, 'L': 10, 'table_size': 7500, 'window_size': 4372, 'query_trick': False}. \n"
     ]
    },
    {
     "name": "stdout",
     "output_type": "stream",
     "text": [
      "Trial parameters: {'k': 7, 'L': 10, 'table_size': 15000, 'window_size': 2657, 'query_trick': False}\n",
      "Read MNIST data\n",
      "Done\n",
      "Algorithm: LSH\n",
      "Query: 0\n",
      "Query: 1\n",
      "Query: 2\n",
      "Query: 3\n",
      "Query: 4\n",
      "Query: 5\n",
      "Query: 6\n",
      "Query: 7\n",
      "Query: 8\n",
      "Query: 9\n",
      "Query: 10\n",
      "Query: 11\n",
      "Query: 12\n",
      "Query: 13\n",
      "Query: 14\n",
      "Query: 15\n",
      "Query: 16\n",
      "Query: 17\n",
      "Query: 18\n",
      "Query: 19\n",
      "Query: 20\n",
      "Query: 21\n",
      "Query: 22\n",
      "Query: 23\n",
      "Query: 24\n",
      "Query: 25\n",
      "Query: 26\n",
      "Query: 27\n",
      "Query: 28\n",
      "Query: 29\n",
      "Query: 30\n",
      "Query: 31\n",
      "Query: 32\n",
      "Query: 33\n",
      "Query: 34\n",
      "Query: 35\n",
      "Query: 36\n",
      "Query: 37\n",
      "Query: 38\n",
      "Query: 39\n",
      "Query: 40\n",
      "Query: 41\n",
      "Query: 42\n",
      "Query: 43\n",
      "Query: 44\n",
      "Query: 45\n",
      "Query: 46\n",
      "Query: 47\n",
      "Query: 48\n",
      "Query: 49\n",
      "Query: 50\n",
      "Query: 51\n",
      "Query: 52\n",
      "Query: 53\n",
      "Query: 54\n",
      "Query: 55\n",
      "Query: 56\n",
      "Query: 57\n",
      "Query: 58\n",
      "Query: 59\n",
      "Query: 60\n",
      "Query: 61\n",
      "Query: 62\n",
      "Query: 63\n",
      "Query: 64\n",
      "Query: 65\n",
      "Query: 66\n",
      "Query: 67\n",
      "Query: 68\n",
      "Query: 69\n",
      "Query: 70\n",
      "Query: 71\n",
      "Query: 72\n",
      "Query: 73\n",
      "Query: 74\n",
      "Query: 75\n",
      "Query: 76\n",
      "Query: 77\n",
      "Query: 78\n",
      "Query: 79\n",
      "Query: 80\n",
      "Query: 81\n",
      "Query: 82\n",
      "Query: 83\n",
      "Query: 84\n",
      "Query: 85\n",
      "Query: 86\n",
      "Query: 87\n",
      "Query: 88\n",
      "Query: 89\n",
      "Query: 90\n",
      "Query: 91\n",
      "Query: 92\n",
      "Query: 93\n",
      "Query: 94\n",
      "Query: 95\n",
      "Query: 96\n",
      "Query: 97\n",
      "Query: 98\n",
      "Query: 99\n"
     ]
    },
    {
     "name": "stderr",
     "output_type": "stream",
     "text": [
      "[I 2023-11-26 19:03:13,075] Trial 36 finished with values: [1.0309397645013207, 0.03882437999999999, 50.0] and parameters: {'k': 7, 'L': 10, 'table_size': 15000, 'window_size': 2657, 'query_trick': False}. \n"
     ]
    },
    {
     "name": "stdout",
     "output_type": "stream",
     "text": [
      "Trial parameters: {'k': 4, 'L': 5, 'table_size': 15000, 'window_size': 3370, 'query_trick': False}\n",
      "Read MNIST data\n",
      "Done\n",
      "Algorithm: LSH\n",
      "Query: 0\n",
      "Query: 1\n",
      "Query: 2\n",
      "Query: 3\n",
      "Query: 4\n",
      "Query: 5\n",
      "Query: 6\n",
      "Query: 7\n",
      "Query: 8\n",
      "Query: 9\n",
      "Query: 10\n",
      "Query: 11\n",
      "Query: 12\n",
      "Query: 13\n",
      "Query: 14\n",
      "Query: 15\n",
      "Query: 16\n",
      "Query: 17\n",
      "Query: 18\n",
      "Query: 19\n",
      "Query: 20\n",
      "Query: 21\n",
      "Query: 22\n",
      "Query: 23\n",
      "Query: 24\n",
      "Query: 25\n",
      "Query: 26\n",
      "Query: 27\n",
      "Query: 28\n",
      "Query: 29\n",
      "Query: 30\n",
      "Query: 31\n",
      "Query: 32\n",
      "Query: 33\n",
      "Query: 34\n",
      "Query: 35\n",
      "Query: 36\n",
      "Query: 37\n",
      "Query: 38\n",
      "Query: 39\n",
      "Query: 40\n",
      "Query: 41\n",
      "Query: 42\n",
      "Query: 43\n",
      "Query: 44\n",
      "Query: 45\n",
      "Query: 46\n",
      "Query: 47\n",
      "Query: 48\n",
      "Query: 49\n",
      "Query: 50\n",
      "Query: 51\n",
      "Query: 52\n",
      "Query: 53\n",
      "Query: 54\n",
      "Query: 55\n",
      "Query: 56\n",
      "Query: 57\n",
      "Query: 58\n",
      "Query: 59\n",
      "Query: 60\n",
      "Query: 61\n",
      "Query: 62\n",
      "Query: 63\n",
      "Query: 64\n",
      "Query: 65\n",
      "Query: 66\n",
      "Query: 67\n",
      "Query: 68\n",
      "Query: 69\n",
      "Query: 70\n",
      "Query: 71\n",
      "Query: 72\n",
      "Query: 73\n",
      "Query: 74\n",
      "Query: 75\n",
      "Query: 76\n",
      "Query: 77\n",
      "Query: 78\n",
      "Query: 79\n",
      "Query: 80\n",
      "Query: 81\n",
      "Query: 82\n",
      "Query: 83\n",
      "Query: 84\n",
      "Query: 85\n",
      "Query: 86\n",
      "Query: 87\n",
      "Query: 88\n",
      "Query: 89\n",
      "Query: 90\n",
      "Query: 91\n",
      "Query: 92\n",
      "Query: 93\n",
      "Query: 94\n",
      "Query: 95\n",
      "Query: 96\n",
      "Query: 97\n",
      "Query: 98\n",
      "Query: 99\n"
     ]
    },
    {
     "name": "stderr",
     "output_type": "stream",
     "text": [
      "[I 2023-11-26 19:04:04,015] Trial 37 finished with values: [1.002881399940059, 0.12858413999999999, 50.0] and parameters: {'k': 4, 'L': 5, 'table_size': 15000, 'window_size': 3370, 'query_trick': False}. \n"
     ]
    },
    {
     "name": "stdout",
     "output_type": "stream",
     "text": [
      "Trial parameters: {'k': 6, 'L': 3, 'table_size': 3750, 'window_size': 2572, 'query_trick': True}\n",
      "Read MNIST data\n",
      "Done\n",
      "Algorithm: LSH\n",
      "Query: 0\n",
      "Query: 1\n",
      "Query: 2\n",
      "Query: 3\n",
      "Query: 4\n",
      "Query: 5\n",
      "Query: 6\n",
      "Query: 7\n",
      "Query: 8\n",
      "Query: 9\n",
      "Query: 10\n",
      "Query: 11\n",
      "Query: 12\n",
      "Query: 13\n",
      "Query: 14\n",
      "Query: 15\n",
      "Query: 16\n",
      "Query: 17\n",
      "Query: 18\n",
      "Query: 19\n",
      "Query: 20\n",
      "Query: 21\n",
      "Query: 22\n",
      "Query: 23\n",
      "Query: 24\n",
      "Query: 25\n",
      "Query: 26\n",
      "Query: 27\n",
      "Query: 28\n",
      "Query: 29\n",
      "Query: 30\n",
      "Query: 31\n",
      "Query: 32\n",
      "Query: 33\n",
      "Query: 34\n",
      "Query: 35\n",
      "Query: 36\n",
      "Query: 37\n",
      "Query: 38\n",
      "Query: 39\n",
      "Query: 40\n",
      "Query: 41\n",
      "Query: 42\n",
      "Query: 43\n",
      "Query: 44\n",
      "Query: 45\n",
      "Query: 46\n",
      "Query: 47\n",
      "Query: 48\n",
      "Query: 49\n",
      "Query: 50\n",
      "Query: 51\n",
      "Query: 52\n",
      "Query: 53\n",
      "Query: 54\n",
      "Query: 55\n",
      "Query: 56\n",
      "Query: 57\n",
      "Query: 58\n",
      "Query: 59\n",
      "Query: 60\n",
      "Query: 61\n",
      "Query: 62\n",
      "Query: 63\n",
      "Query: 64\n",
      "Query: 65\n",
      "Query: 66\n",
      "Query: 67\n",
      "Query: 68\n",
      "Query: 69\n",
      "Query: 70\n",
      "Query: 71\n",
      "Query: 72\n",
      "Query: 73\n",
      "Query: 74\n",
      "Query: 75\n",
      "Query: 76\n",
      "Query: 77\n",
      "Query: 78\n",
      "Query: 79\n",
      "Query: 80\n",
      "Query: 81\n",
      "Query: 82\n",
      "Query: 83\n",
      "Query: 84\n",
      "Query: 85\n",
      "Query: 86\n",
      "Query: 87\n",
      "Query: 88\n",
      "Query: 89\n",
      "Query: 90\n",
      "Query: 91\n",
      "Query: 92\n",
      "Query: 93\n",
      "Query: 94\n",
      "Query: 95\n",
      "Query: 96\n",
      "Query: 97\n",
      "Query: 98\n",
      "Query: 99\n"
     ]
    },
    {
     "name": "stderr",
     "output_type": "stream",
     "text": [
      "[I 2023-11-26 19:04:43,025] Trial 38 finished with values: [1.2605230403118861, 0.010172499999999996, 50.0] and parameters: {'k': 6, 'L': 3, 'table_size': 3750, 'window_size': 2572, 'query_trick': True}. \n"
     ]
    },
    {
     "name": "stdout",
     "output_type": "stream",
     "text": [
      "Trial parameters: {'k': 3, 'L': 10, 'table_size': 7500, 'window_size': 3748, 'query_trick': True}\n",
      "Read MNIST data\n",
      "Done\n",
      "Algorithm: LSH\n",
      "Query: 0\n",
      "Query: 1\n",
      "Query: 2\n",
      "Query: 3\n",
      "Query: 4\n",
      "Query: 5\n",
      "Query: 6\n",
      "Query: 7\n",
      "Query: 8\n",
      "Query: 9\n",
      "Query: 10\n",
      "Query: 11\n",
      "Query: 12\n",
      "Query: 13\n",
      "Query: 14\n",
      "Query: 15\n",
      "Query: 16\n",
      "Query: 17\n",
      "Query: 18\n",
      "Query: 19\n",
      "Query: 20\n",
      "Query: 21\n",
      "Query: 22\n",
      "Query: 23\n",
      "Query: 24\n",
      "Query: 25\n",
      "Query: 26\n",
      "Query: 27\n",
      "Query: 28\n",
      "Query: 29\n",
      "Query: 30\n",
      "Query: 31\n",
      "Query: 32\n",
      "Query: 33\n",
      "Query: 34\n",
      "Query: 35\n",
      "Query: 36\n",
      "Query: 37\n",
      "Query: 38\n",
      "Query: 39\n",
      "Query: 40\n",
      "Query: 41\n",
      "Query: 42\n",
      "Query: 43\n",
      "Query: 44\n",
      "Query: 45\n",
      "Query: 46\n",
      "Query: 47\n",
      "Query: 48\n",
      "Query: 49\n",
      "Query: 50\n",
      "Query: 51\n",
      "Query: 52\n",
      "Query: 53\n",
      "Query: 54\n",
      "Query: 55\n",
      "Query: 56\n",
      "Query: 57\n",
      "Query: 58\n",
      "Query: 59\n",
      "Query: 60\n",
      "Query: 61\n",
      "Query: 62\n",
      "Query: 63\n",
      "Query: 64\n",
      "Query: 65\n",
      "Query: 66\n",
      "Query: 67\n",
      "Query: 68\n",
      "Query: 69\n",
      "Query: 70\n",
      "Query: 71\n",
      "Query: 72\n",
      "Query: 73\n",
      "Query: 74\n",
      "Query: 75\n",
      "Query: 76\n",
      "Query: 77\n",
      "Query: 78\n",
      "Query: 79\n",
      "Query: 80\n",
      "Query: 81\n",
      "Query: 82\n",
      "Query: 83\n",
      "Query: 84\n",
      "Query: 85\n",
      "Query: 86\n",
      "Query: 87\n",
      "Query: 88\n",
      "Query: 89\n",
      "Query: 90\n",
      "Query: 91\n",
      "Query: 92\n",
      "Query: 93\n",
      "Query: 94\n",
      "Query: 95\n",
      "Query: 96\n",
      "Query: 97\n",
      "Query: 98\n",
      "Query: 99\n"
     ]
    },
    {
     "name": "stderr",
     "output_type": "stream",
     "text": [
      "[I 2023-11-26 19:06:07,580] Trial 39 finished with values: [1.0, 0.44205214000000004, 50.0] and parameters: {'k': 3, 'L': 10, 'table_size': 7500, 'window_size': 3748, 'query_trick': True}. \n"
     ]
    },
    {
     "name": "stdout",
     "output_type": "stream",
     "text": [
      "Trial parameters: {'k': 10, 'L': 5, 'table_size': 7500, 'window_size': 4631, 'query_trick': False}\n",
      "Read MNIST data\n",
      "Done\n",
      "Algorithm: LSH\n",
      "Query: 0\n",
      "Query: 1\n",
      "Query: 2\n",
      "Query: 3\n",
      "Query: 4\n",
      "Query: 5\n",
      "Query: 6\n",
      "Query: 7\n",
      "Query: 8\n",
      "Query: 9\n",
      "Query: 10\n",
      "Query: 11\n",
      "Query: 12\n",
      "Query: 13\n",
      "Query: 14\n",
      "Query: 15\n",
      "Query: 16\n",
      "Query: 17\n",
      "Query: 18\n",
      "Query: 19\n",
      "Query: 20\n",
      "Query: 21\n",
      "Query: 22\n",
      "Query: 23\n",
      "Query: 24\n",
      "Query: 25\n",
      "Query: 26\n",
      "Query: 27\n",
      "Query: 28\n",
      "Query: 29\n",
      "Query: 30\n",
      "Query: 31\n",
      "Query: 32\n",
      "Query: 33\n",
      "Query: 34\n",
      "Query: 35\n",
      "Query: 36\n",
      "Query: 37\n",
      "Query: 38\n",
      "Query: 39\n",
      "Query: 40\n",
      "Query: 41\n",
      "Query: 42\n",
      "Query: 43\n",
      "Query: 44\n",
      "Query: 45\n",
      "Query: 46\n",
      "Query: 47\n",
      "Query: 48\n",
      "Query: 49\n",
      "Query: 50\n",
      "Query: 51\n",
      "Query: 52\n",
      "Query: 53\n",
      "Query: 54\n",
      "Query: 55\n",
      "Query: 56\n",
      "Query: 57\n",
      "Query: 58\n",
      "Query: 59\n",
      "Query: 60\n",
      "Query: 61\n",
      "Query: 62\n",
      "Query: 63\n",
      "Query: 64\n",
      "Query: 65\n",
      "Query: 66\n",
      "Query: 67\n",
      "Query: 68\n",
      "Query: 69\n",
      "Query: 70\n",
      "Query: 71\n",
      "Query: 72\n",
      "Query: 73\n",
      "Query: 74\n",
      "Query: 75\n",
      "Query: 76\n",
      "Query: 77\n",
      "Query: 78\n",
      "Query: 79\n",
      "Query: 80\n",
      "Query: 81\n",
      "Query: 82\n",
      "Query: 83\n",
      "Query: 84\n",
      "Query: 85\n",
      "Query: 86\n",
      "Query: 87\n",
      "Query: 88\n",
      "Query: 89\n",
      "Query: 90\n",
      "Query: 91\n",
      "Query: 92\n",
      "Query: 93\n",
      "Query: 94\n",
      "Query: 95\n",
      "Query: 96\n",
      "Query: 97\n",
      "Query: 98\n",
      "Query: 99\n"
     ]
    },
    {
     "name": "stderr",
     "output_type": "stream",
     "text": [
      "[I 2023-11-26 19:07:00,299] Trial 40 finished with values: [1.0270279359256298, 0.05520693000000002, 50.0] and parameters: {'k': 10, 'L': 5, 'table_size': 7500, 'window_size': 4631, 'query_trick': False}. \n"
     ]
    },
    {
     "name": "stdout",
     "output_type": "stream",
     "text": [
      "Trial parameters: {'k': 7, 'L': 6, 'table_size': 7500, 'window_size': 3009, 'query_trick': True}\n",
      "Read MNIST data\n",
      "Done\n",
      "Algorithm: LSH\n",
      "Query: 0\n",
      "Query: 1\n",
      "Query: 2\n",
      "Query: 3\n",
      "Query: 4\n",
      "Query: 5\n",
      "Query: 6\n",
      "Query: 7\n",
      "Query: 8\n",
      "Query: 9\n",
      "Query: 10\n",
      "Query: 11\n",
      "Query: 12\n",
      "Query: 13\n",
      "Query: 14\n",
      "Query: 15\n",
      "Query: 16\n",
      "Query: 17\n",
      "Query: 18\n",
      "Query: 19\n",
      "Query: 20\n",
      "Query: 21\n",
      "Query: 22\n",
      "Query: 23\n",
      "Query: 24\n",
      "Query: 25\n",
      "Query: 26\n",
      "Query: 27\n",
      "Query: 28\n",
      "Query: 29\n",
      "Query: 30\n",
      "Query: 31\n",
      "Query: 32\n",
      "Query: 33\n",
      "Query: 34\n",
      "Query: 35\n",
      "Query: 36\n",
      "Query: 37\n",
      "Query: 38\n",
      "Query: 39\n",
      "Query: 40\n",
      "Query: 41\n",
      "Query: 42\n",
      "Query: 43\n",
      "Query: 44\n",
      "Query: 45\n",
      "Query: 46\n",
      "Query: 47\n",
      "Query: 48\n",
      "Query: 49\n",
      "Query: 50\n",
      "Query: 51\n",
      "Query: 52\n",
      "Query: 53\n",
      "Query: 54\n",
      "Query: 55\n",
      "Query: 56\n",
      "Query: 57\n",
      "Query: 58\n",
      "Query: 59\n",
      "Query: 60\n",
      "Query: 61\n",
      "Query: 62\n",
      "Query: 63\n",
      "Query: 64\n",
      "Query: 65\n",
      "Query: 66\n",
      "Query: 67\n",
      "Query: 68\n",
      "Query: 69\n",
      "Query: 70\n",
      "Query: 71\n",
      "Query: 72\n",
      "Query: 73\n",
      "Query: 74\n",
      "Query: 75\n",
      "Query: 76\n",
      "Query: 77\n",
      "Query: 78\n",
      "Query: 79\n",
      "Query: 80\n",
      "Query: 81\n",
      "Query: 82\n",
      "Query: 83\n",
      "Query: 84\n",
      "Query: 85\n",
      "Query: 86\n",
      "Query: 87\n",
      "Query: 88\n",
      "Query: 89\n",
      "Query: 90\n",
      "Query: 91\n",
      "Query: 92\n",
      "Query: 93\n",
      "Query: 94\n",
      "Query: 95\n",
      "Query: 96\n",
      "Query: 97\n",
      "Query: 98\n",
      "Query: 99\n"
     ]
    },
    {
     "name": "stderr",
     "output_type": "stream",
     "text": [
      "[I 2023-11-26 19:07:52,653] Trial 41 finished with values: [1.0783177095294851, 0.06931662999999999, 50.0] and parameters: {'k': 7, 'L': 6, 'table_size': 7500, 'window_size': 3009, 'query_trick': True}. \n"
     ]
    },
    {
     "name": "stdout",
     "output_type": "stream",
     "text": [
      "Trial parameters: {'k': 4, 'L': 7, 'table_size': 3750, 'window_size': 2561, 'query_trick': True}\n",
      "Read MNIST data\n",
      "Done\n",
      "Algorithm: LSH\n",
      "Query: 0\n",
      "Query: 1\n",
      "Query: 2\n",
      "Query: 3\n",
      "Query: 4\n",
      "Query: 5\n",
      "Query: 6\n",
      "Query: 7\n",
      "Query: 8\n",
      "Query: 9\n",
      "Query: 10\n",
      "Query: 11\n",
      "Query: 12\n",
      "Query: 13\n",
      "Query: 14\n",
      "Query: 15\n",
      "Query: 16\n",
      "Query: 17\n",
      "Query: 18\n",
      "Query: 19\n",
      "Query: 20\n",
      "Query: 21\n",
      "Query: 22\n",
      "Query: 23\n",
      "Query: 24\n",
      "Query: 25\n",
      "Query: 26\n",
      "Query: 27\n",
      "Query: 28\n",
      "Query: 29\n",
      "Query: 30\n",
      "Query: 31\n",
      "Query: 32\n",
      "Query: 33\n",
      "Query: 34\n",
      "Query: 35\n",
      "Query: 36\n",
      "Query: 37\n",
      "Query: 38\n",
      "Query: 39\n",
      "Query: 40\n",
      "Query: 41\n",
      "Query: 42\n",
      "Query: 43\n",
      "Query: 44\n",
      "Query: 45\n",
      "Query: 46\n",
      "Query: 47\n",
      "Query: 48\n",
      "Query: 49\n",
      "Query: 50\n",
      "Query: 51\n",
      "Query: 52\n",
      "Query: 53\n",
      "Query: 54\n",
      "Query: 55\n",
      "Query: 56\n",
      "Query: 57\n",
      "Query: 58\n",
      "Query: 59\n",
      "Query: 60\n",
      "Query: 61\n",
      "Query: 62\n",
      "Query: 63\n",
      "Query: 64\n",
      "Query: 65\n",
      "Query: 66\n",
      "Query: 67\n",
      "Query: 68\n",
      "Query: 69\n",
      "Query: 70\n",
      "Query: 71\n",
      "Query: 72\n",
      "Query: 73\n",
      "Query: 74\n",
      "Query: 75\n",
      "Query: 76\n",
      "Query: 77\n",
      "Query: 78\n",
      "Query: 79\n",
      "Query: 80\n",
      "Query: 81\n",
      "Query: 82\n",
      "Query: 83\n",
      "Query: 84\n",
      "Query: 85\n",
      "Query: 86\n",
      "Query: 87\n",
      "Query: 88\n",
      "Query: 89\n",
      "Query: 90\n",
      "Query: 91\n",
      "Query: 92\n",
      "Query: 93\n",
      "Query: 94\n",
      "Query: 95\n",
      "Query: 96\n",
      "Query: 97\n",
      "Query: 98\n",
      "Query: 99\n"
     ]
    },
    {
     "name": "stderr",
     "output_type": "stream",
     "text": [
      "[I 2023-11-26 19:08:38,238] Trial 42 finished with values: [1.023633074522788, 0.09210412000000004, 50.0] and parameters: {'k': 4, 'L': 7, 'table_size': 3750, 'window_size': 2561, 'query_trick': True}. \n"
     ]
    },
    {
     "name": "stdout",
     "output_type": "stream",
     "text": [
      "Trial parameters: {'k': 9, 'L': 2, 'table_size': 7500, 'window_size': 1349, 'query_trick': False}\n",
      "Read MNIST data\n",
      "Done\n",
      "Algorithm: LSH\n",
      "Query: 0\n",
      "Query: 1\n",
      "Query: 2\n",
      "Query: 3\n",
      "Query: 4\n",
      "Query: 5\n",
      "Query: 6\n",
      "Query: 7\n",
      "Query: 8\n",
      "Query: 9\n",
      "Query: 10\n",
      "Query: 11\n",
      "Query: 12\n",
      "Query: 13\n",
      "Query: 14\n",
      "Query: 15\n",
      "Query: 16\n",
      "Query: 17\n",
      "Query: 18\n",
      "Query: 19\n",
      "Query: 20\n",
      "Query: 21\n",
      "Query: 22\n",
      "Query: 23\n",
      "Query: 24\n",
      "Query: 25\n",
      "Query: 26\n",
      "Query: 27\n",
      "Query: 28\n",
      "Query: 29\n",
      "Query: 30\n",
      "Query: 31\n",
      "Query: 32\n",
      "Query: 33\n",
      "Query: 34\n",
      "Query: 35\n",
      "Query: 36\n",
      "Query: 37\n",
      "Query: 38\n",
      "Query: 39\n",
      "Query: 40\n",
      "Query: 41\n",
      "Query: 42\n",
      "Query: 43\n",
      "Query: 44\n",
      "Query: 45\n",
      "Query: 46\n",
      "Query: 47\n",
      "Query: 48\n",
      "Query: 49\n",
      "Query: 50\n",
      "Query: 51\n",
      "Query: 52\n",
      "Query: 53\n",
      "Query: 54\n",
      "Query: 55\n",
      "Query: 56\n",
      "Query: 57\n",
      "Query: 58\n",
      "Query: 59\n",
      "Query: 60\n",
      "Query: 61\n",
      "Query: 62\n",
      "Query: 63\n",
      "Query: 64\n",
      "Query: 65\n",
      "Query: 66\n",
      "Query: 67\n",
      "Query: 68\n",
      "Query: 69\n",
      "Query: 70\n",
      "Query: 71\n",
      "Query: 72\n",
      "Query: 73\n",
      "Query: 74\n",
      "Query: 75\n",
      "Query: 76\n",
      "Query: 77\n",
      "Query: 78\n",
      "Query: 79\n",
      "Query: 80\n",
      "Query: 81\n",
      "Query: 82\n",
      "Query: 83\n",
      "Query: 84\n",
      "Query: 85\n",
      "Query: 86\n",
      "Query: 87\n",
      "Query: 88\n",
      "Query: 89\n",
      "Query: 90\n",
      "Query: 91\n",
      "Query: 92\n",
      "Query: 93\n",
      "Query: 94\n",
      "Query: 95\n",
      "Query: 96\n",
      "Query: 97\n",
      "Query: 98\n",
      "Query: 99\n"
     ]
    },
    {
     "name": "stderr",
     "output_type": "stream",
     "text": [
      "[I 2023-11-26 19:09:13,199] Trial 43 finished with values: [2.935254601097435, 0.0003108499999999999, 1.0] and parameters: {'k': 9, 'L': 2, 'table_size': 7500, 'window_size': 1349, 'query_trick': False}. \n"
     ]
    },
    {
     "name": "stdout",
     "output_type": "stream",
     "text": [
      "Trial parameters: {'k': 9, 'L': 10, 'table_size': 7500, 'window_size': 2117, 'query_trick': False}\n",
      "Read MNIST data\n",
      "Done\n",
      "Algorithm: LSH\n",
      "Query: 0\n",
      "Query: 1\n",
      "Query: 2\n",
      "Query: 3\n",
      "Query: 4\n",
      "Query: 5\n",
      "Query: 6\n",
      "Query: 7\n",
      "Query: 8\n",
      "Query: 9\n",
      "Query: 10\n",
      "Query: 11\n",
      "Query: 12\n",
      "Query: 13\n",
      "Query: 14\n",
      "Query: 15\n",
      "Query: 16\n",
      "Query: 17\n",
      "Query: 18\n",
      "Query: 19\n",
      "Query: 20\n",
      "Query: 21\n",
      "Query: 22\n",
      "Query: 23\n",
      "Query: 24\n",
      "Query: 25\n",
      "Query: 26\n",
      "Query: 27\n",
      "Query: 28\n",
      "Query: 29\n",
      "Query: 30\n",
      "Query: 31\n",
      "Query: 32\n",
      "Query: 33\n",
      "Query: 34\n",
      "Query: 35\n",
      "Query: 36\n",
      "Query: 37\n",
      "Query: 38\n",
      "Query: 39\n",
      "Query: 40\n",
      "Query: 41\n",
      "Query: 42\n",
      "Query: 43\n",
      "Query: 44\n",
      "Query: 45\n",
      "Query: 46\n",
      "Query: 47\n",
      "Query: 48\n",
      "Query: 49\n",
      "Query: 50\n",
      "Query: 51\n",
      "Query: 52\n",
      "Query: 53\n",
      "Query: 54\n",
      "Query: 55\n",
      "Query: 56\n",
      "Query: 57\n",
      "Query: 58\n",
      "Query: 59\n",
      "Query: 60\n",
      "Query: 61\n",
      "Query: 62\n",
      "Query: 63\n",
      "Query: 64\n",
      "Query: 65\n",
      "Query: 66\n",
      "Query: 67\n",
      "Query: 68\n",
      "Query: 69\n",
      "Query: 70\n",
      "Query: 71\n",
      "Query: 72\n",
      "Query: 73\n",
      "Query: 74\n",
      "Query: 75\n",
      "Query: 76\n",
      "Query: 77\n",
      "Query: 78\n",
      "Query: 79\n",
      "Query: 80\n",
      "Query: 81\n",
      "Query: 82\n",
      "Query: 83\n",
      "Query: 84\n",
      "Query: 85\n",
      "Query: 86\n",
      "Query: 87\n",
      "Query: 88\n",
      "Query: 89\n",
      "Query: 90\n",
      "Query: 91\n",
      "Query: 92\n",
      "Query: 93\n",
      "Query: 94\n",
      "Query: 95\n",
      "Query: 96\n",
      "Query: 97\n",
      "Query: 98\n",
      "Query: 99\n"
     ]
    },
    {
     "name": "stderr",
     "output_type": "stream",
     "text": [
      "[I 2023-11-26 19:10:14,248] Trial 44 finished with values: [1.2917386783739233, 0.00499493, 50.0] and parameters: {'k': 9, 'L': 10, 'table_size': 7500, 'window_size': 2117, 'query_trick': False}. \n"
     ]
    },
    {
     "name": "stdout",
     "output_type": "stream",
     "text": [
      "Trial parameters: {'k': 5, 'L': 8, 'table_size': 3750, 'window_size': 2077, 'query_trick': False}\n",
      "Read MNIST data\n",
      "Done\n",
      "Algorithm: LSH\n",
      "Query: 0\n",
      "Query: 1\n",
      "Query: 2\n",
      "Query: 3\n",
      "Query: 4\n",
      "Query: 5\n",
      "Query: 6\n",
      "Query: 7\n",
      "Query: 8\n",
      "Query: 9\n",
      "Query: 10\n",
      "Query: 11\n",
      "Query: 12\n",
      "Query: 13\n",
      "Query: 14\n",
      "Query: 15\n",
      "Query: 16\n",
      "Query: 17\n",
      "Query: 18\n",
      "Query: 19\n",
      "Query: 20\n",
      "Query: 21\n",
      "Query: 22\n",
      "Query: 23\n",
      "Query: 24\n",
      "Query: 25\n",
      "Query: 26\n",
      "Query: 27\n",
      "Query: 28\n",
      "Query: 29\n",
      "Query: 30\n",
      "Query: 31\n",
      "Query: 32\n",
      "Query: 33\n",
      "Query: 34\n",
      "Query: 35\n",
      "Query: 36\n",
      "Query: 37\n",
      "Query: 38\n",
      "Query: 39\n",
      "Query: 40\n",
      "Query: 41\n",
      "Query: 42\n",
      "Query: 43\n",
      "Query: 44\n",
      "Query: 45\n",
      "Query: 46\n",
      "Query: 47\n",
      "Query: 48\n",
      "Query: 49\n",
      "Query: 50\n",
      "Query: 51\n",
      "Query: 52\n",
      "Query: 53\n",
      "Query: 54\n",
      "Query: 55\n",
      "Query: 56\n",
      "Query: 57\n",
      "Query: 58\n",
      "Query: 59\n",
      "Query: 60\n",
      "Query: 61\n",
      "Query: 62\n",
      "Query: 63\n",
      "Query: 64\n",
      "Query: 65\n",
      "Query: 66\n",
      "Query: 67\n",
      "Query: 68\n",
      "Query: 69\n",
      "Query: 70\n",
      "Query: 71\n",
      "Query: 72\n",
      "Query: 73\n",
      "Query: 74\n",
      "Query: 75\n",
      "Query: 76\n",
      "Query: 77\n",
      "Query: 78\n",
      "Query: 79\n",
      "Query: 80\n",
      "Query: 81\n",
      "Query: 82\n",
      "Query: 83\n",
      "Query: 84\n",
      "Query: 85\n",
      "Query: 86\n",
      "Query: 87\n",
      "Query: 88\n",
      "Query: 89\n",
      "Query: 90\n",
      "Query: 91\n",
      "Query: 92\n",
      "Query: 93\n",
      "Query: 94\n",
      "Query: 95\n",
      "Query: 96\n",
      "Query: 97\n",
      "Query: 98\n",
      "Query: 99\n"
     ]
    },
    {
     "name": "stderr",
     "output_type": "stream",
     "text": [
      "[I 2023-11-26 19:11:03,079] Trial 45 finished with values: [1.0331536354732895, 0.038455869999999975, 50.0] and parameters: {'k': 5, 'L': 8, 'table_size': 3750, 'window_size': 2077, 'query_trick': False}. \n"
     ]
    },
    {
     "name": "stdout",
     "output_type": "stream",
     "text": [
      "Trial parameters: {'k': 10, 'L': 5, 'table_size': 7500, 'window_size': 3276, 'query_trick': True}\n",
      "Read MNIST data\n",
      "Done\n",
      "Algorithm: LSH\n",
      "Query: 0\n",
      "Query: 1\n",
      "Query: 2\n",
      "Query: 3\n",
      "Query: 4\n",
      "Query: 5\n",
      "Query: 6\n",
      "Query: 7\n",
      "Query: 8\n",
      "Query: 9\n",
      "Query: 10\n",
      "Query: 11\n",
      "Query: 12\n",
      "Query: 13\n",
      "Query: 14\n",
      "Query: 15\n",
      "Query: 16\n",
      "Query: 17\n",
      "Query: 18\n",
      "Query: 19\n",
      "Query: 20\n",
      "Query: 21\n",
      "Query: 22\n",
      "Query: 23\n",
      "Query: 24\n",
      "Query: 25\n",
      "Query: 26\n",
      "Query: 27\n",
      "Query: 28\n",
      "Query: 29\n",
      "Query: 30\n",
      "Query: 31\n",
      "Query: 32\n",
      "Query: 33\n",
      "Query: 34\n",
      "Query: 35\n",
      "Query: 36\n",
      "Query: 37\n",
      "Query: 38\n",
      "Query: 39\n",
      "Query: 40\n",
      "Query: 41\n",
      "Query: 42\n",
      "Query: 43\n",
      "Query: 44\n",
      "Query: 45\n",
      "Query: 46\n",
      "Query: 47\n",
      "Query: 48\n",
      "Query: 49\n",
      "Query: 50\n",
      "Query: 51\n",
      "Query: 52\n",
      "Query: 53\n",
      "Query: 54\n",
      "Query: 55\n",
      "Query: 56\n",
      "Query: 57\n",
      "Query: 58\n",
      "Query: 59\n",
      "Query: 60\n",
      "Query: 61\n",
      "Query: 62\n",
      "Query: 63\n",
      "Query: 64\n",
      "Query: 65\n",
      "Query: 66\n",
      "Query: 67\n",
      "Query: 68\n",
      "Query: 69\n",
      "Query: 70\n",
      "Query: 71\n",
      "Query: 72\n",
      "Query: 73\n",
      "Query: 74\n",
      "Query: 75\n",
      "Query: 76\n",
      "Query: 77\n",
      "Query: 78\n",
      "Query: 79\n",
      "Query: 80\n",
      "Query: 81\n",
      "Query: 82\n",
      "Query: 83\n",
      "Query: 84\n",
      "Query: 85\n",
      "Query: 86\n",
      "Query: 87\n",
      "Query: 88\n",
      "Query: 89\n",
      "Query: 90\n",
      "Query: 91\n",
      "Query: 92\n",
      "Query: 93\n",
      "Query: 94\n",
      "Query: 95\n",
      "Query: 96\n",
      "Query: 97\n",
      "Query: 98\n",
      "Query: 99\n"
     ]
    },
    {
     "name": "stderr",
     "output_type": "stream",
     "text": [
      "[I 2023-11-26 19:11:53,093] Trial 46 finished with values: [1.1925134197027696, 0.006491320000000002, 50.0] and parameters: {'k': 10, 'L': 5, 'table_size': 7500, 'window_size': 3276, 'query_trick': True}. \n"
     ]
    },
    {
     "name": "stdout",
     "output_type": "stream",
     "text": [
      "Trial parameters: {'k': 5, 'L': 2, 'table_size': 15000, 'window_size': 2891, 'query_trick': True}\n",
      "Read MNIST data\n",
      "Done\n",
      "Algorithm: LSH\n",
      "Query: 0\n",
      "Query: 1\n",
      "Query: 2\n",
      "Query: 3\n",
      "Query: 4\n",
      "Query: 5\n",
      "Query: 6\n",
      "Query: 7\n",
      "Query: 8\n",
      "Query: 9\n",
      "Query: 10\n",
      "Query: 11\n",
      "Query: 12\n",
      "Query: 13\n",
      "Query: 14\n",
      "Query: 15\n",
      "Query: 16\n",
      "Query: 17\n",
      "Query: 18\n",
      "Query: 19\n",
      "Query: 20\n",
      "Query: 21\n",
      "Query: 22\n",
      "Query: 23\n",
      "Query: 24\n",
      "Query: 25\n",
      "Query: 26\n",
      "Query: 27\n",
      "Query: 28\n",
      "Query: 29\n",
      "Query: 30\n",
      "Query: 31\n",
      "Query: 32\n",
      "Query: 33\n",
      "Query: 34\n",
      "Query: 35\n",
      "Query: 36\n",
      "Query: 37\n",
      "Query: 38\n",
      "Query: 39\n",
      "Query: 40\n",
      "Query: 41\n",
      "Query: 42\n",
      "Query: 43\n",
      "Query: 44\n",
      "Query: 45\n",
      "Query: 46\n",
      "Query: 47\n",
      "Query: 48\n",
      "Query: 49\n",
      "Query: 50\n",
      "Query: 51\n",
      "Query: 52\n",
      "Query: 53\n",
      "Query: 54\n",
      "Query: 55\n",
      "Query: 56\n",
      "Query: 57\n",
      "Query: 58\n",
      "Query: 59\n",
      "Query: 60\n",
      "Query: 61\n",
      "Query: 62\n",
      "Query: 63\n",
      "Query: 64\n",
      "Query: 65\n",
      "Query: 66\n",
      "Query: 67\n",
      "Query: 68\n",
      "Query: 69\n",
      "Query: 70\n",
      "Query: 71\n",
      "Query: 72\n",
      "Query: 73\n",
      "Query: 74\n",
      "Query: 75\n",
      "Query: 76\n",
      "Query: 77\n",
      "Query: 78\n",
      "Query: 79\n",
      "Query: 80\n",
      "Query: 81\n",
      "Query: 82\n",
      "Query: 83\n",
      "Query: 84\n",
      "Query: 85\n",
      "Query: 86\n",
      "Query: 87\n",
      "Query: 88\n",
      "Query: 89\n",
      "Query: 90\n",
      "Query: 91\n",
      "Query: 92\n",
      "Query: 93\n",
      "Query: 94\n",
      "Query: 95\n",
      "Query: 96\n",
      "Query: 97\n",
      "Query: 98\n",
      "Query: 99\n"
     ]
    },
    {
     "name": "stderr",
     "output_type": "stream",
     "text": [
      "[I 2023-11-26 19:12:33,878] Trial 47 finished with values: [1.1876120010435658, 0.033358160000000005, 50.0] and parameters: {'k': 5, 'L': 2, 'table_size': 15000, 'window_size': 2891, 'query_trick': True}. \n"
     ]
    },
    {
     "name": "stdout",
     "output_type": "stream",
     "text": [
      "Trial parameters: {'k': 5, 'L': 9, 'table_size': 15000, 'window_size': 3438, 'query_trick': False}\n",
      "Read MNIST data\n",
      "Done\n",
      "Algorithm: LSH\n",
      "Query: 0\n",
      "Query: 1\n",
      "Query: 2\n",
      "Query: 3\n",
      "Query: 4\n",
      "Query: 5\n",
      "Query: 6\n",
      "Query: 7\n",
      "Query: 8\n",
      "Query: 9\n",
      "Query: 10\n",
      "Query: 11\n",
      "Query: 12\n",
      "Query: 13\n",
      "Query: 14\n",
      "Query: 15\n",
      "Query: 16\n",
      "Query: 17\n",
      "Query: 18\n",
      "Query: 19\n",
      "Query: 20\n",
      "Query: 21\n",
      "Query: 22\n",
      "Query: 23\n",
      "Query: 24\n",
      "Query: 25\n",
      "Query: 26\n",
      "Query: 27\n",
      "Query: 28\n",
      "Query: 29\n",
      "Query: 30\n",
      "Query: 31\n",
      "Query: 32\n",
      "Query: 33\n",
      "Query: 34\n",
      "Query: 35\n",
      "Query: 36\n",
      "Query: 37\n",
      "Query: 38\n",
      "Query: 39\n",
      "Query: 40\n",
      "Query: 41\n",
      "Query: 42\n",
      "Query: 43\n",
      "Query: 44\n",
      "Query: 45\n",
      "Query: 46\n",
      "Query: 47\n",
      "Query: 48\n",
      "Query: 49\n",
      "Query: 50\n",
      "Query: 51\n",
      "Query: 52\n",
      "Query: 53\n",
      "Query: 54\n",
      "Query: 55\n",
      "Query: 56\n",
      "Query: 57\n",
      "Query: 58\n",
      "Query: 59\n",
      "Query: 60\n",
      "Query: 61\n",
      "Query: 62\n",
      "Query: 63\n",
      "Query: 64\n",
      "Query: 65\n",
      "Query: 66\n",
      "Query: 67\n",
      "Query: 68\n",
      "Query: 69\n",
      "Query: 70\n",
      "Query: 71\n",
      "Query: 72\n",
      "Query: 73\n",
      "Query: 74\n",
      "Query: 75\n",
      "Query: 76\n",
      "Query: 77\n",
      "Query: 78\n",
      "Query: 79\n",
      "Query: 80\n",
      "Query: 81\n",
      "Query: 82\n",
      "Query: 83\n",
      "Query: 84\n",
      "Query: 85\n",
      "Query: 86\n",
      "Query: 87\n",
      "Query: 88\n",
      "Query: 89\n",
      "Query: 90\n",
      "Query: 91\n",
      "Query: 92\n",
      "Query: 93\n",
      "Query: 94\n",
      "Query: 95\n",
      "Query: 96\n",
      "Query: 97\n",
      "Query: 98\n",
      "Query: 99\n"
     ]
    },
    {
     "name": "stderr",
     "output_type": "stream",
     "text": [
      "[I 2023-11-26 19:13:49,792] Trial 48 finished with values: [1.0, 0.22487005000000007, 50.0] and parameters: {'k': 5, 'L': 9, 'table_size': 15000, 'window_size': 3438, 'query_trick': False}. \n"
     ]
    },
    {
     "name": "stdout",
     "output_type": "stream",
     "text": [
      "Trial parameters: {'k': 3, 'L': 4, 'table_size': 15000, 'window_size': 3182, 'query_trick': True}\n",
      "Read MNIST data\n",
      "Done\n",
      "Algorithm: LSH\n",
      "Query: 0\n",
      "Query: 1\n",
      "Query: 2\n",
      "Query: 3\n",
      "Query: 4\n",
      "Query: 5\n",
      "Query: 6\n",
      "Query: 7\n",
      "Query: 8\n",
      "Query: 9\n",
      "Query: 10\n",
      "Query: 11\n",
      "Query: 12\n",
      "Query: 13\n",
      "Query: 14\n",
      "Query: 15\n",
      "Query: 16\n",
      "Query: 17\n",
      "Query: 18\n",
      "Query: 19\n",
      "Query: 20\n",
      "Query: 21\n",
      "Query: 22\n",
      "Query: 23\n",
      "Query: 24\n",
      "Query: 25\n",
      "Query: 26\n",
      "Query: 27\n",
      "Query: 28\n",
      "Query: 29\n",
      "Query: 30\n",
      "Query: 31\n",
      "Query: 32\n",
      "Query: 33\n",
      "Query: 34\n",
      "Query: 35\n",
      "Query: 36\n",
      "Query: 37\n",
      "Query: 38\n",
      "Query: 39\n",
      "Query: 40\n",
      "Query: 41\n",
      "Query: 42\n",
      "Query: 43\n",
      "Query: 44\n",
      "Query: 45\n",
      "Query: 46\n",
      "Query: 47\n",
      "Query: 48\n",
      "Query: 49\n",
      "Query: 50\n",
      "Query: 51\n",
      "Query: 52\n",
      "Query: 53\n",
      "Query: 54\n",
      "Query: 55\n",
      "Query: 56\n",
      "Query: 57\n",
      "Query: 58\n",
      "Query: 59\n",
      "Query: 60\n",
      "Query: 61\n",
      "Query: 62\n",
      "Query: 63\n",
      "Query: 64\n",
      "Query: 65\n",
      "Query: 66\n",
      "Query: 67\n",
      "Query: 68\n",
      "Query: 69\n",
      "Query: 70\n",
      "Query: 71\n",
      "Query: 72\n",
      "Query: 73\n",
      "Query: 74\n",
      "Query: 75\n",
      "Query: 76\n",
      "Query: 77\n",
      "Query: 78\n",
      "Query: 79\n",
      "Query: 80\n",
      "Query: 81\n",
      "Query: 82\n",
      "Query: 83\n",
      "Query: 84\n",
      "Query: 85\n",
      "Query: 86\n",
      "Query: 87\n",
      "Query: 88\n",
      "Query: 89\n",
      "Query: 90\n",
      "Query: 91\n",
      "Query: 92\n",
      "Query: 93\n",
      "Query: 94\n",
      "Query: 95\n",
      "Query: 96\n",
      "Query: 97\n",
      "Query: 98\n",
      "Query: 99\n"
     ]
    },
    {
     "name": "stderr",
     "output_type": "stream",
     "text": [
      "[I 2023-11-26 19:14:44,072] Trial 49 finished with values: [1.003079571761728, 0.14983422000000002, 50.0] and parameters: {'k': 3, 'L': 4, 'table_size': 15000, 'window_size': 3182, 'query_trick': True}. \n"
     ]
    },
    {
     "name": "stdout",
     "output_type": "stream",
     "text": [
      "CPU times: user 34min 5s, sys: 10min 39s, total: 44min 44s\n",
      "Wall time: 44min 49s\n"
     ]
    }
   ],
   "source": [
    "%%time\n",
    "lsh_study = optuna.create_study(study_name='lsh', directions=['minimize', 'minimize', 'maximize'])\n",
    "lsh_study.optimize(objective_lsh, n_trials=50)"
   ]
  },
  {
   "cell_type": "code",
   "execution_count": 5,
   "metadata": {},
   "outputs": [
    {
     "name": "stdout",
     "output_type": "stream",
     "text": [
      "-------------------- Best trials --------------------\n",
      "Trial no. 18\n",
      " Values = [1.0, 0.13765656999999992, 50.0]\n",
      " Params = {'k': 8, 'L': 10, 'table_size': 7500, 'window_size': 4570, 'query_trick': True}\n",
      "Trial no. 23\n",
      " Values = [1.0000329705767328, 0.07704273000000002, 50.0]\n",
      " Params = {'k': 10, 'L': 9, 'table_size': 15000, 'window_size': 4428, 'query_trick': False}\n",
      "Trial no. 13\n",
      " Values = [1.0017920583849802, 0.07380007999999999, 50.0]\n",
      " Params = {'k': 10, 'L': 10, 'table_size': 3750, 'window_size': 4989, 'query_trick': False}\n",
      "Trial no. 29\n",
      " Values = [1.0064591950958244, 0.061548800000000015, 50.0]\n",
      " Params = {'k': 7, 'L': 9, 'table_size': 3750, 'window_size': 3629, 'query_trick': False}\n",
      "Trial no. 11\n",
      " Values = [1.014306164419062, 0.05221652000000002, 50.0]\n",
      " Params = {'k': 8, 'L': 10, 'table_size': 7500, 'window_size': 3824, 'query_trick': True}\n",
      "Trial no. 36\n",
      " Values = [1.0309397645013207, 0.03882437999999999, 50.0]\n",
      " Params = {'k': 7, 'L': 10, 'table_size': 15000, 'window_size': 2657, 'query_trick': False}\n",
      "Trial no. 45\n",
      " Values = [1.0331536354732895, 0.038455869999999975, 50.0]\n",
      " Params = {'k': 5, 'L': 8, 'table_size': 3750, 'window_size': 2077, 'query_trick': False}\n",
      "Trial no. 3\n",
      " Values = [1.0807682800596285, 0.02115718, 50.0]\n",
      " Params = {'k': 8, 'L': 8, 'table_size': 7500, 'window_size': 2770, 'query_trick': True}\n",
      "Trial no. 46\n",
      " Values = [1.1925134197027696, 0.006491320000000002, 50.0]\n",
      " Params = {'k': 10, 'L': 5, 'table_size': 7500, 'window_size': 3276, 'query_trick': True}\n",
      "Trial no. 0\n",
      " Values = [1.2863161135729677, 0.004823560000000001, 50.0]\n",
      " Params = {'k': 9, 'L': 6, 'table_size': 15000, 'window_size': 2456, 'query_trick': True}\n",
      "Trial no. 32\n",
      " Values = [1.3555277288780203, 0.00205341, 17.0]\n",
      " Params = {'k': 10, 'L': 8, 'table_size': 7500, 'window_size': 1971, 'query_trick': True}\n",
      "Trial no. 6\n",
      " Values = [1.3927914730283129, 0.0041317199999999984, 50.0]\n",
      " Params = {'k': 6, 'L': 4, 'table_size': 3750, 'window_size': 1925, 'query_trick': True}\n",
      "Trial no. 4\n",
      " Values = [1.415033622119244, 0.003524680000000001, 18.0]\n",
      " Params = {'k': 9, 'L': 4, 'table_size': 15000, 'window_size': 2439, 'query_trick': False}\n",
      "Trial no. 31\n",
      " Values = [1.5211865489219223, 0.0020627600000000003, 21.0]\n",
      " Params = {'k': 10, 'L': 5, 'table_size': 7500, 'window_size': 2266, 'query_trick': False}\n",
      "Trial no. 43\n",
      " Values = [2.935254601097435, 0.0003108499999999999, 1.0]\n",
      " Params = {'k': 9, 'L': 2, 'table_size': 7500, 'window_size': 1349, 'query_trick': False}\n"
     ]
    }
   ],
   "source": [
    "print(\"-------------------- Best trials --------------------\")\n",
    "trials = sorted(lsh_study.best_trials, key=lambda x: x.values)\n",
    "# print feasible trials only\n",
    "for trial in trials:\n",
    "    print(\"Trial no. {}\".format(trial.number))\n",
    "    print(\" Values = {}\".format(trial.values))\n",
    "    print(\" Params = {}\".format(trial.params))\n"
   ]
  },
  {
   "cell_type": "code",
   "execution_count": 6,
   "metadata": {},
   "outputs": [
    {
     "data": {
      "application/vnd.plotly.v1+json": {
       "config": {
        "plotlyServerURL": "https://plot.ly"
       },
       "data": [
        {
         "hovertemplate": "%{text}<extra>Trial</extra>",
         "marker": {
          "color": [
           1,
           2,
           5,
           7,
           8,
           9,
           10,
           12,
           14,
           15,
           16,
           17,
           19,
           20,
           21,
           22,
           24,
           25,
           26,
           27,
           28,
           30,
           33,
           34,
           35,
           37,
           38,
           39,
           40,
           41,
           42,
           44,
           47,
           48,
           49
          ],
          "colorbar": {
           "title": {
            "text": "Trial"
           }
          },
          "colorscale": [
           [
            0,
            "rgb(247,251,255)"
           ],
           [
            0.125,
            "rgb(222,235,247)"
           ],
           [
            0.25,
            "rgb(198,219,239)"
           ],
           [
            0.375,
            "rgb(158,202,225)"
           ],
           [
            0.5,
            "rgb(107,174,214)"
           ],
           [
            0.625,
            "rgb(66,146,198)"
           ],
           [
            0.75,
            "rgb(33,113,181)"
           ],
           [
            0.875,
            "rgb(8,81,156)"
           ],
           [
            1,
            "rgb(8,48,107)"
           ]
          ],
          "line": {
           "color": "Grey",
           "width": 0.5
          }
         },
         "mode": "markers",
         "showlegend": false,
         "text": [
          "{<br>  \"number\": 1,<br>  \"values\": [<br>    1.027435474263356,<br>    0.07817652000000001,<br>    50.0<br>  ],<br>  \"params\": {<br>    \"k\": 2,<br>    \"L\": 7,<br>    \"table_size\": 3750,<br>    \"window_size\": 1288,<br>    \"query_trick\": false<br>  }<br>}",
          "{<br>  \"number\": 2,<br>  \"values\": [<br>    1.1969214509228467,<br>    0.01123237,<br>    50.0<br>  ],<br>  \"params\": {<br>    \"k\": 4,<br>    \"L\": 3,<br>    \"table_size\": 3750,<br>    \"window_size\": 1871,<br>    \"query_trick\": false<br>  }<br>}",
          "{<br>  \"number\": 5,<br>  \"values\": [<br>    1.3264488992413344,<br>    0.0051971299999999995,<br>    50.0<br>  ],<br>  \"params\": {<br>    \"k\": 8,<br>    \"L\": 9,<br>    \"table_size\": 15000,<br>    \"window_size\": 2114,<br>    \"query_trick\": true<br>  }<br>}",
          "{<br>  \"number\": 7,<br>  \"values\": [<br>    1.0140417391023338,<br>    0.11600840000000001,<br>    50.0<br>  ],<br>  \"params\": {<br>    \"k\": 4,<br>    \"L\": 6,<br>    \"table_size\": 3750,<br>    \"window_size\": 3102,<br>    \"query_trick\": true<br>  }<br>}",
          "{<br>  \"number\": 8,<br>  \"values\": [<br>    1.000381003095774,<br>    0.20442788000000003,<br>    50.0<br>  ],<br>  \"params\": {<br>    \"k\": 2,<br>    \"L\": 3,<br>    \"table_size\": 7500,<br>    \"window_size\": 3758,<br>    \"query_trick\": true<br>  }<br>}",
          "{<br>  \"number\": 9,<br>  \"values\": [<br>    1.0001757881943298,<br>    0.13929892000000002,<br>    50.0<br>  ],<br>  \"params\": {<br>    \"k\": 4,<br>    \"L\": 7,<br>    \"table_size\": 3750,<br>    \"window_size\": 3229,<br>    \"query_trick\": false<br>  }<br>}",
          "{<br>  \"number\": 10,<br>  \"values\": [<br>    1.2473981815233675,<br>    0.009634479999999996,<br>    50.0<br>  ],<br>  \"params\": {<br>    \"k\": 8,<br>    \"L\": 4,<br>    \"table_size\": 7500,<br>    \"window_size\": 2574,<br>    \"query_trick\": true<br>  }<br>}",
          "{<br>  \"number\": 12,<br>  \"values\": [<br>    1.4478600549443554,<br>    0.0030970000000000004,<br>    14.0<br>  ],<br>  \"params\": {<br>    \"k\": 10,<br>    \"L\": 4,<br>    \"table_size\": 3750,<br>    \"window_size\": 2782,<br>    \"query_trick\": true<br>  }<br>}",
          "{<br>  \"number\": 14,<br>  \"values\": [<br>    1.042958288537168,<br>    0.03975905,<br>    50.0<br>  ],<br>  \"params\": {<br>    \"k\": 8,<br>    \"L\": 9,<br>    \"table_size\": 7500,<br>    \"window_size\": 3293,<br>    \"query_trick\": false<br>  }<br>}",
          "{<br>  \"number\": 15,<br>  \"values\": [<br>    1.003079571761728,<br>    0.1325692,<br>    50.0<br>  ],<br>  \"params\": {<br>    \"k\": 3,<br>    \"L\": 6,<br>    \"table_size\": 7500,<br>    \"window_size\": 2438,<br>    \"query_trick\": false<br>  }<br>}",
          "{<br>  \"number\": 16,<br>  \"values\": [<br>    1.0816211973570828,<br>    0.04219778,<br>    50.0<br>  ],<br>  \"params\": {<br>    \"k\": 5,<br>    \"L\": 2,<br>    \"table_size\": 15000,<br>    \"window_size\": 3945,<br>    \"query_trick\": false<br>  }<br>}",
          "{<br>  \"number\": 17,<br>  \"values\": [<br>    1.210495900186597,<br>    0.016965679999999993,<br>    50.0<br>  ],<br>  \"params\": {<br>    \"k\": 8,<br>    \"L\": 2,<br>    \"table_size\": 3750,<br>    \"window_size\": 3440,<br>    \"query_trick\": true<br>  }<br>}",
          "{<br>  \"number\": 19,<br>  \"values\": [<br>    1.0,<br>    0.23862968999999995,<br>    50.0<br>  ],<br>  \"params\": {<br>    \"k\": 5,<br>    \"L\": 9,<br>    \"table_size\": 7500,<br>    \"window_size\": 3981,<br>    \"query_trick\": true<br>  }<br>}",
          "{<br>  \"number\": 20,<br>  \"values\": [<br>    1.0,<br>    0.7818453800000001,<br>    50.0<br>  ],<br>  \"params\": {<br>    \"k\": 2,<br>    \"L\": 10,<br>    \"table_size\": 15000,<br>    \"window_size\": 4615,<br>    \"query_trick\": false<br>  }<br>}",
          "{<br>  \"number\": 21,<br>  \"values\": [<br>    1.019573218221974,<br>    0.12813682,<br>    50.0<br>  ],<br>  \"params\": {<br>    \"k\": 7,<br>    \"L\": 5,<br>    \"table_size\": 7500,<br>    \"window_size\": 4865,<br>    \"query_trick\": true<br>  }<br>}",
          "{<br>  \"number\": 22,<br>  \"values\": [<br>    1.0545639820632464,<br>    0.07328077999999998,<br>    50.0<br>  ],<br>  \"params\": {<br>    \"k\": 4,<br>    \"L\": 6,<br>    \"table_size\": 3750,<br>    \"window_size\": 2397,<br>    \"query_trick\": true<br>  }<br>}",
          "{<br>  \"number\": 24,<br>  \"values\": [<br>    1.0030667027343796,<br>    0.12566375999999996,<br>    50.0<br>  ],<br>  \"params\": {<br>    \"k\": 4,<br>    \"L\": 5,<br>    \"table_size\": 7500,<br>    \"window_size\": 3327,<br>    \"query_trick\": true<br>  }<br>}",
          "{<br>  \"number\": 25,<br>  \"values\": [<br>    1.0,<br>    0.14539111,<br>    50.0<br>  ],<br>  \"params\": {<br>    \"k\": 8,<br>    \"L\": 8,<br>    \"table_size\": 3750,<br>    \"window_size\": 4787,<br>    \"query_trick\": true<br>  }<br>}",
          "{<br>  \"number\": 26,<br>  \"values\": [<br>    1.0,<br>    0.5546035499999998,<br>    50.0<br>  ],<br>  \"params\": {<br>    \"k\": 2,<br>    \"L\": 10,<br>    \"table_size\": 15000,<br>    \"window_size\": 3695,<br>    \"query_trick\": true<br>  }<br>}",
          "{<br>  \"number\": 27,<br>  \"values\": [<br>    1.7976931348623157e+308,<br>    0.0008337900000000004,<br>    0.0<br>  ],<br>  \"params\": {<br>    \"k\": 8,<br>    \"L\": 8,<br>    \"table_size\": 3750,<br>    \"window_size\": 1013,<br>    \"query_trick\": true<br>  }<br>}",
          "{<br>  \"number\": 28,<br>  \"values\": [<br>    1.416661163696468,<br>    0.0042783299999999995,<br>    50.0<br>  ],<br>  \"params\": {<br>    \"k\": 5,<br>    \"L\": 8,<br>    \"table_size\": 15000,<br>    \"window_size\": 1243,<br>    \"query_trick\": false<br>  }<br>}",
          "{<br>  \"number\": 30,<br>  \"values\": [<br>    1.007277114480091,<br>    0.11915658000000001,<br>    50.0<br>  ],<br>  \"params\": {<br>    \"k\": 2,<br>    \"L\": 9,<br>    \"table_size\": 7500,<br>    \"window_size\": 1360,<br>    \"query_trick\": false<br>  }<br>}",
          "{<br>  \"number\": 33,<br>  \"values\": [<br>    1.2007612037041664,<br>    0.0072292400000000005,<br>    50.0<br>  ],<br>  \"params\": {<br>    \"k\": 10,<br>    \"L\": 7,<br>    \"table_size\": 3750,<br>    \"window_size\": 2623,<br>    \"query_trick\": true<br>  }<br>}",
          "{<br>  \"number\": 34,<br>  \"values\": [<br>    1.0073965014378894,<br>    0.08648003000000001,<br>    50.0<br>  ],<br>  \"params\": {<br>    \"k\": 8,<br>    \"L\": 10,<br>    \"table_size\": 3750,<br>    \"window_size\": 3953,<br>    \"query_trick\": false<br>  }<br>}",
          "{<br>  \"number\": 35,<br>  \"values\": [<br>    1.0,<br>    0.3832070400000001,<br>    50.0<br>  ],<br>  \"params\": {<br>    \"k\": 4,<br>    \"L\": 10,<br>    \"table_size\": 7500,<br>    \"window_size\": 4372,<br>    \"query_trick\": false<br>  }<br>}",
          "{<br>  \"number\": 37,<br>  \"values\": [<br>    1.002881399940059,<br>    0.12858413999999999,<br>    50.0<br>  ],<br>  \"params\": {<br>    \"k\": 4,<br>    \"L\": 5,<br>    \"table_size\": 15000,<br>    \"window_size\": 3370,<br>    \"query_trick\": false<br>  }<br>}",
          "{<br>  \"number\": 38,<br>  \"values\": [<br>    1.2605230403118861,<br>    0.010172499999999996,<br>    50.0<br>  ],<br>  \"params\": {<br>    \"k\": 6,<br>    \"L\": 3,<br>    \"table_size\": 3750,<br>    \"window_size\": 2572,<br>    \"query_trick\": true<br>  }<br>}",
          "{<br>  \"number\": 39,<br>  \"values\": [<br>    1.0,<br>    0.44205214000000004,<br>    50.0<br>  ],<br>  \"params\": {<br>    \"k\": 3,<br>    \"L\": 10,<br>    \"table_size\": 7500,<br>    \"window_size\": 3748,<br>    \"query_trick\": true<br>  }<br>}",
          "{<br>  \"number\": 40,<br>  \"values\": [<br>    1.0270279359256298,<br>    0.05520693000000002,<br>    50.0<br>  ],<br>  \"params\": {<br>    \"k\": 10,<br>    \"L\": 5,<br>    \"table_size\": 7500,<br>    \"window_size\": 4631,<br>    \"query_trick\": false<br>  }<br>}",
          "{<br>  \"number\": 41,<br>  \"values\": [<br>    1.0783177095294851,<br>    0.06931662999999999,<br>    50.0<br>  ],<br>  \"params\": {<br>    \"k\": 7,<br>    \"L\": 6,<br>    \"table_size\": 7500,<br>    \"window_size\": 3009,<br>    \"query_trick\": true<br>  }<br>}",
          "{<br>  \"number\": 42,<br>  \"values\": [<br>    1.023633074522788,<br>    0.09210412000000004,<br>    50.0<br>  ],<br>  \"params\": {<br>    \"k\": 4,<br>    \"L\": 7,<br>    \"table_size\": 3750,<br>    \"window_size\": 2561,<br>    \"query_trick\": true<br>  }<br>}",
          "{<br>  \"number\": 44,<br>  \"values\": [<br>    1.2917386783739233,<br>    0.00499493,<br>    50.0<br>  ],<br>  \"params\": {<br>    \"k\": 9,<br>    \"L\": 10,<br>    \"table_size\": 7500,<br>    \"window_size\": 2117,<br>    \"query_trick\": false<br>  }<br>}",
          "{<br>  \"number\": 47,<br>  \"values\": [<br>    1.1876120010435658,<br>    0.033358160000000005,<br>    50.0<br>  ],<br>  \"params\": {<br>    \"k\": 5,<br>    \"L\": 2,<br>    \"table_size\": 15000,<br>    \"window_size\": 2891,<br>    \"query_trick\": true<br>  }<br>}",
          "{<br>  \"number\": 48,<br>  \"values\": [<br>    1.0,<br>    0.22487005000000007,<br>    50.0<br>  ],<br>  \"params\": {<br>    \"k\": 5,<br>    \"L\": 9,<br>    \"table_size\": 15000,<br>    \"window_size\": 3438,<br>    \"query_trick\": false<br>  }<br>}",
          "{<br>  \"number\": 49,<br>  \"values\": [<br>    1.003079571761728,<br>    0.14983422000000002,<br>    50.0<br>  ],<br>  \"params\": {<br>    \"k\": 3,<br>    \"L\": 4,<br>    \"table_size\": 15000,<br>    \"window_size\": 3182,<br>    \"query_trick\": true<br>  }<br>}"
         ],
         "type": "scatter3d",
         "x": [
          1.027435474263356,
          1.1969214509228467,
          1.3264488992413344,
          1.0140417391023338,
          1.000381003095774,
          1.0001757881943298,
          1.2473981815233675,
          1.4478600549443554,
          1.042958288537168,
          1.003079571761728,
          1.0816211973570828,
          1.210495900186597,
          1,
          1,
          1.019573218221974,
          1.0545639820632464,
          1.0030667027343796,
          1,
          1,
          1.7976931348623157e+308,
          1.416661163696468,
          1.007277114480091,
          1.2007612037041664,
          1.0073965014378894,
          1,
          1.002881399940059,
          1.2605230403118861,
          1,
          1.0270279359256298,
          1.0783177095294851,
          1.023633074522788,
          1.2917386783739233,
          1.1876120010435658,
          1,
          1.003079571761728
         ],
         "y": [
          0.07817652000000001,
          0.01123237,
          0.0051971299999999995,
          0.11600840000000001,
          0.20442788000000003,
          0.13929892000000002,
          0.009634479999999996,
          0.0030970000000000004,
          0.03975905,
          0.1325692,
          0.04219778,
          0.016965679999999993,
          0.23862968999999995,
          0.7818453800000001,
          0.12813682,
          0.07328077999999998,
          0.12566375999999996,
          0.14539111,
          0.5546035499999998,
          0.0008337900000000004,
          0.0042783299999999995,
          0.11915658000000001,
          0.0072292400000000005,
          0.08648003000000001,
          0.3832070400000001,
          0.12858413999999999,
          0.010172499999999996,
          0.44205214000000004,
          0.05520693000000002,
          0.06931662999999999,
          0.09210412000000004,
          0.00499493,
          0.033358160000000005,
          0.22487005000000007,
          0.14983422000000002
         ],
         "z": [
          50,
          50,
          50,
          50,
          50,
          50,
          50,
          14,
          50,
          50,
          50,
          50,
          50,
          50,
          50,
          50,
          50,
          50,
          50,
          0,
          50,
          50,
          50,
          50,
          50,
          50,
          50,
          50,
          50,
          50,
          50,
          50,
          50,
          50,
          50
         ]
        },
        {
         "hovertemplate": "%{text}<extra>Best Trial</extra>",
         "marker": {
          "color": [
           0,
           3,
           4,
           6,
           11,
           13,
           18,
           23,
           29,
           31,
           32,
           36,
           43,
           45,
           46
          ],
          "colorbar": {
           "title": {
            "text": "Best Trial"
           },
           "x": 1.1,
           "xpad": 40
          },
          "colorscale": [
           [
            0,
            "rgb(255,245,240)"
           ],
           [
            0.125,
            "rgb(254,224,210)"
           ],
           [
            0.25,
            "rgb(252,187,161)"
           ],
           [
            0.375,
            "rgb(252,146,114)"
           ],
           [
            0.5,
            "rgb(251,106,74)"
           ],
           [
            0.625,
            "rgb(239,59,44)"
           ],
           [
            0.75,
            "rgb(203,24,29)"
           ],
           [
            0.875,
            "rgb(165,15,21)"
           ],
           [
            1,
            "rgb(103,0,13)"
           ]
          ],
          "line": {
           "color": "Grey",
           "width": 0.5
          }
         },
         "mode": "markers",
         "showlegend": false,
         "text": [
          "{<br>  \"number\": 0,<br>  \"values\": [<br>    1.2863161135729677,<br>    0.004823560000000001,<br>    50.0<br>  ],<br>  \"params\": {<br>    \"k\": 9,<br>    \"L\": 6,<br>    \"table_size\": 15000,<br>    \"window_size\": 2456,<br>    \"query_trick\": true<br>  }<br>}",
          "{<br>  \"number\": 3,<br>  \"values\": [<br>    1.0807682800596285,<br>    0.02115718,<br>    50.0<br>  ],<br>  \"params\": {<br>    \"k\": 8,<br>    \"L\": 8,<br>    \"table_size\": 7500,<br>    \"window_size\": 2770,<br>    \"query_trick\": true<br>  }<br>}",
          "{<br>  \"number\": 4,<br>  \"values\": [<br>    1.415033622119244,<br>    0.003524680000000001,<br>    18.0<br>  ],<br>  \"params\": {<br>    \"k\": 9,<br>    \"L\": 4,<br>    \"table_size\": 15000,<br>    \"window_size\": 2439,<br>    \"query_trick\": false<br>  }<br>}",
          "{<br>  \"number\": 6,<br>  \"values\": [<br>    1.3927914730283129,<br>    0.0041317199999999984,<br>    50.0<br>  ],<br>  \"params\": {<br>    \"k\": 6,<br>    \"L\": 4,<br>    \"table_size\": 3750,<br>    \"window_size\": 1925,<br>    \"query_trick\": true<br>  }<br>}",
          "{<br>  \"number\": 11,<br>  \"values\": [<br>    1.014306164419062,<br>    0.05221652000000002,<br>    50.0<br>  ],<br>  \"params\": {<br>    \"k\": 8,<br>    \"L\": 10,<br>    \"table_size\": 7500,<br>    \"window_size\": 3824,<br>    \"query_trick\": true<br>  }<br>}",
          "{<br>  \"number\": 13,<br>  \"values\": [<br>    1.0017920583849802,<br>    0.07380007999999999,<br>    50.0<br>  ],<br>  \"params\": {<br>    \"k\": 10,<br>    \"L\": 10,<br>    \"table_size\": 3750,<br>    \"window_size\": 4989,<br>    \"query_trick\": false<br>  }<br>}",
          "{<br>  \"number\": 18,<br>  \"values\": [<br>    1.0,<br>    0.13765656999999992,<br>    50.0<br>  ],<br>  \"params\": {<br>    \"k\": 8,<br>    \"L\": 10,<br>    \"table_size\": 7500,<br>    \"window_size\": 4570,<br>    \"query_trick\": true<br>  }<br>}",
          "{<br>  \"number\": 23,<br>  \"values\": [<br>    1.0000329705767328,<br>    0.07704273000000002,<br>    50.0<br>  ],<br>  \"params\": {<br>    \"k\": 10,<br>    \"L\": 9,<br>    \"table_size\": 15000,<br>    \"window_size\": 4428,<br>    \"query_trick\": false<br>  }<br>}",
          "{<br>  \"number\": 29,<br>  \"values\": [<br>    1.0064591950958244,<br>    0.061548800000000015,<br>    50.0<br>  ],<br>  \"params\": {<br>    \"k\": 7,<br>    \"L\": 9,<br>    \"table_size\": 3750,<br>    \"window_size\": 3629,<br>    \"query_trick\": false<br>  }<br>}",
          "{<br>  \"number\": 31,<br>  \"values\": [<br>    1.5211865489219223,<br>    0.0020627600000000003,<br>    21.0<br>  ],<br>  \"params\": {<br>    \"k\": 10,<br>    \"L\": 5,<br>    \"table_size\": 7500,<br>    \"window_size\": 2266,<br>    \"query_trick\": false<br>  }<br>}",
          "{<br>  \"number\": 32,<br>  \"values\": [<br>    1.3555277288780203,<br>    0.00205341,<br>    17.0<br>  ],<br>  \"params\": {<br>    \"k\": 10,<br>    \"L\": 8,<br>    \"table_size\": 7500,<br>    \"window_size\": 1971,<br>    \"query_trick\": true<br>  }<br>}",
          "{<br>  \"number\": 36,<br>  \"values\": [<br>    1.0309397645013207,<br>    0.03882437999999999,<br>    50.0<br>  ],<br>  \"params\": {<br>    \"k\": 7,<br>    \"L\": 10,<br>    \"table_size\": 15000,<br>    \"window_size\": 2657,<br>    \"query_trick\": false<br>  }<br>}",
          "{<br>  \"number\": 43,<br>  \"values\": [<br>    2.935254601097435,<br>    0.0003108499999999999,<br>    1.0<br>  ],<br>  \"params\": {<br>    \"k\": 9,<br>    \"L\": 2,<br>    \"table_size\": 7500,<br>    \"window_size\": 1349,<br>    \"query_trick\": false<br>  }<br>}",
          "{<br>  \"number\": 45,<br>  \"values\": [<br>    1.0331536354732895,<br>    0.038455869999999975,<br>    50.0<br>  ],<br>  \"params\": {<br>    \"k\": 5,<br>    \"L\": 8,<br>    \"table_size\": 3750,<br>    \"window_size\": 2077,<br>    \"query_trick\": false<br>  }<br>}",
          "{<br>  \"number\": 46,<br>  \"values\": [<br>    1.1925134197027696,<br>    0.006491320000000002,<br>    50.0<br>  ],<br>  \"params\": {<br>    \"k\": 10,<br>    \"L\": 5,<br>    \"table_size\": 7500,<br>    \"window_size\": 3276,<br>    \"query_trick\": true<br>  }<br>}"
         ],
         "type": "scatter3d",
         "x": [
          1.2863161135729677,
          1.0807682800596285,
          1.415033622119244,
          1.3927914730283129,
          1.014306164419062,
          1.0017920583849802,
          1,
          1.0000329705767328,
          1.0064591950958244,
          1.5211865489219223,
          1.3555277288780203,
          1.0309397645013207,
          2.935254601097435,
          1.0331536354732895,
          1.1925134197027696
         ],
         "y": [
          0.004823560000000001,
          0.02115718,
          0.003524680000000001,
          0.0041317199999999984,
          0.05221652000000002,
          0.07380007999999999,
          0.13765656999999992,
          0.07704273000000002,
          0.061548800000000015,
          0.0020627600000000003,
          0.00205341,
          0.03882437999999999,
          0.0003108499999999999,
          0.038455869999999975,
          0.006491320000000002
         ],
         "z": [
          50,
          50,
          18,
          50,
          50,
          50,
          50,
          50,
          50,
          21,
          17,
          50,
          1,
          50,
          50
         ]
        }
       ],
       "layout": {
        "scene": {
         "xaxis": {
          "title": {
           "text": "maf"
          }
         },
         "yaxis": {
          "title": {
           "text": "average_time"
          }
         },
         "zaxis": {
          "title": {
           "text": "min_neighbors"
          }
         }
        },
        "template": {
         "data": {
          "bar": [
           {
            "error_x": {
             "color": "#2a3f5f"
            },
            "error_y": {
             "color": "#2a3f5f"
            },
            "marker": {
             "line": {
              "color": "#E5ECF6",
              "width": 0.5
             },
             "pattern": {
              "fillmode": "overlay",
              "size": 10,
              "solidity": 0.2
             }
            },
            "type": "bar"
           }
          ],
          "barpolar": [
           {
            "marker": {
             "line": {
              "color": "#E5ECF6",
              "width": 0.5
             },
             "pattern": {
              "fillmode": "overlay",
              "size": 10,
              "solidity": 0.2
             }
            },
            "type": "barpolar"
           }
          ],
          "carpet": [
           {
            "aaxis": {
             "endlinecolor": "#2a3f5f",
             "gridcolor": "white",
             "linecolor": "white",
             "minorgridcolor": "white",
             "startlinecolor": "#2a3f5f"
            },
            "baxis": {
             "endlinecolor": "#2a3f5f",
             "gridcolor": "white",
             "linecolor": "white",
             "minorgridcolor": "white",
             "startlinecolor": "#2a3f5f"
            },
            "type": "carpet"
           }
          ],
          "choropleth": [
           {
            "colorbar": {
             "outlinewidth": 0,
             "ticks": ""
            },
            "type": "choropleth"
           }
          ],
          "contour": [
           {
            "colorbar": {
             "outlinewidth": 0,
             "ticks": ""
            },
            "colorscale": [
             [
              0,
              "#0d0887"
             ],
             [
              0.1111111111111111,
              "#46039f"
             ],
             [
              0.2222222222222222,
              "#7201a8"
             ],
             [
              0.3333333333333333,
              "#9c179e"
             ],
             [
              0.4444444444444444,
              "#bd3786"
             ],
             [
              0.5555555555555556,
              "#d8576b"
             ],
             [
              0.6666666666666666,
              "#ed7953"
             ],
             [
              0.7777777777777778,
              "#fb9f3a"
             ],
             [
              0.8888888888888888,
              "#fdca26"
             ],
             [
              1,
              "#f0f921"
             ]
            ],
            "type": "contour"
           }
          ],
          "contourcarpet": [
           {
            "colorbar": {
             "outlinewidth": 0,
             "ticks": ""
            },
            "type": "contourcarpet"
           }
          ],
          "heatmap": [
           {
            "colorbar": {
             "outlinewidth": 0,
             "ticks": ""
            },
            "colorscale": [
             [
              0,
              "#0d0887"
             ],
             [
              0.1111111111111111,
              "#46039f"
             ],
             [
              0.2222222222222222,
              "#7201a8"
             ],
             [
              0.3333333333333333,
              "#9c179e"
             ],
             [
              0.4444444444444444,
              "#bd3786"
             ],
             [
              0.5555555555555556,
              "#d8576b"
             ],
             [
              0.6666666666666666,
              "#ed7953"
             ],
             [
              0.7777777777777778,
              "#fb9f3a"
             ],
             [
              0.8888888888888888,
              "#fdca26"
             ],
             [
              1,
              "#f0f921"
             ]
            ],
            "type": "heatmap"
           }
          ],
          "heatmapgl": [
           {
            "colorbar": {
             "outlinewidth": 0,
             "ticks": ""
            },
            "colorscale": [
             [
              0,
              "#0d0887"
             ],
             [
              0.1111111111111111,
              "#46039f"
             ],
             [
              0.2222222222222222,
              "#7201a8"
             ],
             [
              0.3333333333333333,
              "#9c179e"
             ],
             [
              0.4444444444444444,
              "#bd3786"
             ],
             [
              0.5555555555555556,
              "#d8576b"
             ],
             [
              0.6666666666666666,
              "#ed7953"
             ],
             [
              0.7777777777777778,
              "#fb9f3a"
             ],
             [
              0.8888888888888888,
              "#fdca26"
             ],
             [
              1,
              "#f0f921"
             ]
            ],
            "type": "heatmapgl"
           }
          ],
          "histogram": [
           {
            "marker": {
             "pattern": {
              "fillmode": "overlay",
              "size": 10,
              "solidity": 0.2
             }
            },
            "type": "histogram"
           }
          ],
          "histogram2d": [
           {
            "colorbar": {
             "outlinewidth": 0,
             "ticks": ""
            },
            "colorscale": [
             [
              0,
              "#0d0887"
             ],
             [
              0.1111111111111111,
              "#46039f"
             ],
             [
              0.2222222222222222,
              "#7201a8"
             ],
             [
              0.3333333333333333,
              "#9c179e"
             ],
             [
              0.4444444444444444,
              "#bd3786"
             ],
             [
              0.5555555555555556,
              "#d8576b"
             ],
             [
              0.6666666666666666,
              "#ed7953"
             ],
             [
              0.7777777777777778,
              "#fb9f3a"
             ],
             [
              0.8888888888888888,
              "#fdca26"
             ],
             [
              1,
              "#f0f921"
             ]
            ],
            "type": "histogram2d"
           }
          ],
          "histogram2dcontour": [
           {
            "colorbar": {
             "outlinewidth": 0,
             "ticks": ""
            },
            "colorscale": [
             [
              0,
              "#0d0887"
             ],
             [
              0.1111111111111111,
              "#46039f"
             ],
             [
              0.2222222222222222,
              "#7201a8"
             ],
             [
              0.3333333333333333,
              "#9c179e"
             ],
             [
              0.4444444444444444,
              "#bd3786"
             ],
             [
              0.5555555555555556,
              "#d8576b"
             ],
             [
              0.6666666666666666,
              "#ed7953"
             ],
             [
              0.7777777777777778,
              "#fb9f3a"
             ],
             [
              0.8888888888888888,
              "#fdca26"
             ],
             [
              1,
              "#f0f921"
             ]
            ],
            "type": "histogram2dcontour"
           }
          ],
          "mesh3d": [
           {
            "colorbar": {
             "outlinewidth": 0,
             "ticks": ""
            },
            "type": "mesh3d"
           }
          ],
          "parcoords": [
           {
            "line": {
             "colorbar": {
              "outlinewidth": 0,
              "ticks": ""
             }
            },
            "type": "parcoords"
           }
          ],
          "pie": [
           {
            "automargin": true,
            "type": "pie"
           }
          ],
          "scatter": [
           {
            "fillpattern": {
             "fillmode": "overlay",
             "size": 10,
             "solidity": 0.2
            },
            "type": "scatter"
           }
          ],
          "scatter3d": [
           {
            "line": {
             "colorbar": {
              "outlinewidth": 0,
              "ticks": ""
             }
            },
            "marker": {
             "colorbar": {
              "outlinewidth": 0,
              "ticks": ""
             }
            },
            "type": "scatter3d"
           }
          ],
          "scattercarpet": [
           {
            "marker": {
             "colorbar": {
              "outlinewidth": 0,
              "ticks": ""
             }
            },
            "type": "scattercarpet"
           }
          ],
          "scattergeo": [
           {
            "marker": {
             "colorbar": {
              "outlinewidth": 0,
              "ticks": ""
             }
            },
            "type": "scattergeo"
           }
          ],
          "scattergl": [
           {
            "marker": {
             "colorbar": {
              "outlinewidth": 0,
              "ticks": ""
             }
            },
            "type": "scattergl"
           }
          ],
          "scattermapbox": [
           {
            "marker": {
             "colorbar": {
              "outlinewidth": 0,
              "ticks": ""
             }
            },
            "type": "scattermapbox"
           }
          ],
          "scatterpolar": [
           {
            "marker": {
             "colorbar": {
              "outlinewidth": 0,
              "ticks": ""
             }
            },
            "type": "scatterpolar"
           }
          ],
          "scatterpolargl": [
           {
            "marker": {
             "colorbar": {
              "outlinewidth": 0,
              "ticks": ""
             }
            },
            "type": "scatterpolargl"
           }
          ],
          "scatterternary": [
           {
            "marker": {
             "colorbar": {
              "outlinewidth": 0,
              "ticks": ""
             }
            },
            "type": "scatterternary"
           }
          ],
          "surface": [
           {
            "colorbar": {
             "outlinewidth": 0,
             "ticks": ""
            },
            "colorscale": [
             [
              0,
              "#0d0887"
             ],
             [
              0.1111111111111111,
              "#46039f"
             ],
             [
              0.2222222222222222,
              "#7201a8"
             ],
             [
              0.3333333333333333,
              "#9c179e"
             ],
             [
              0.4444444444444444,
              "#bd3786"
             ],
             [
              0.5555555555555556,
              "#d8576b"
             ],
             [
              0.6666666666666666,
              "#ed7953"
             ],
             [
              0.7777777777777778,
              "#fb9f3a"
             ],
             [
              0.8888888888888888,
              "#fdca26"
             ],
             [
              1,
              "#f0f921"
             ]
            ],
            "type": "surface"
           }
          ],
          "table": [
           {
            "cells": {
             "fill": {
              "color": "#EBF0F8"
             },
             "line": {
              "color": "white"
             }
            },
            "header": {
             "fill": {
              "color": "#C8D4E3"
             },
             "line": {
              "color": "white"
             }
            },
            "type": "table"
           }
          ]
         },
         "layout": {
          "annotationdefaults": {
           "arrowcolor": "#2a3f5f",
           "arrowhead": 0,
           "arrowwidth": 1
          },
          "autotypenumbers": "strict",
          "coloraxis": {
           "colorbar": {
            "outlinewidth": 0,
            "ticks": ""
           }
          },
          "colorscale": {
           "diverging": [
            [
             0,
             "#8e0152"
            ],
            [
             0.1,
             "#c51b7d"
            ],
            [
             0.2,
             "#de77ae"
            ],
            [
             0.3,
             "#f1b6da"
            ],
            [
             0.4,
             "#fde0ef"
            ],
            [
             0.5,
             "#f7f7f7"
            ],
            [
             0.6,
             "#e6f5d0"
            ],
            [
             0.7,
             "#b8e186"
            ],
            [
             0.8,
             "#7fbc41"
            ],
            [
             0.9,
             "#4d9221"
            ],
            [
             1,
             "#276419"
            ]
           ],
           "sequential": [
            [
             0,
             "#0d0887"
            ],
            [
             0.1111111111111111,
             "#46039f"
            ],
            [
             0.2222222222222222,
             "#7201a8"
            ],
            [
             0.3333333333333333,
             "#9c179e"
            ],
            [
             0.4444444444444444,
             "#bd3786"
            ],
            [
             0.5555555555555556,
             "#d8576b"
            ],
            [
             0.6666666666666666,
             "#ed7953"
            ],
            [
             0.7777777777777778,
             "#fb9f3a"
            ],
            [
             0.8888888888888888,
             "#fdca26"
            ],
            [
             1,
             "#f0f921"
            ]
           ],
           "sequentialminus": [
            [
             0,
             "#0d0887"
            ],
            [
             0.1111111111111111,
             "#46039f"
            ],
            [
             0.2222222222222222,
             "#7201a8"
            ],
            [
             0.3333333333333333,
             "#9c179e"
            ],
            [
             0.4444444444444444,
             "#bd3786"
            ],
            [
             0.5555555555555556,
             "#d8576b"
            ],
            [
             0.6666666666666666,
             "#ed7953"
            ],
            [
             0.7777777777777778,
             "#fb9f3a"
            ],
            [
             0.8888888888888888,
             "#fdca26"
            ],
            [
             1,
             "#f0f921"
            ]
           ]
          },
          "colorway": [
           "#636efa",
           "#EF553B",
           "#00cc96",
           "#ab63fa",
           "#FFA15A",
           "#19d3f3",
           "#FF6692",
           "#B6E880",
           "#FF97FF",
           "#FECB52"
          ],
          "font": {
           "color": "#2a3f5f"
          },
          "geo": {
           "bgcolor": "white",
           "lakecolor": "white",
           "landcolor": "#E5ECF6",
           "showlakes": true,
           "showland": true,
           "subunitcolor": "white"
          },
          "hoverlabel": {
           "align": "left"
          },
          "hovermode": "closest",
          "mapbox": {
           "style": "light"
          },
          "paper_bgcolor": "white",
          "plot_bgcolor": "#E5ECF6",
          "polar": {
           "angularaxis": {
            "gridcolor": "white",
            "linecolor": "white",
            "ticks": ""
           },
           "bgcolor": "#E5ECF6",
           "radialaxis": {
            "gridcolor": "white",
            "linecolor": "white",
            "ticks": ""
           }
          },
          "scene": {
           "xaxis": {
            "backgroundcolor": "#E5ECF6",
            "gridcolor": "white",
            "gridwidth": 2,
            "linecolor": "white",
            "showbackground": true,
            "ticks": "",
            "zerolinecolor": "white"
           },
           "yaxis": {
            "backgroundcolor": "#E5ECF6",
            "gridcolor": "white",
            "gridwidth": 2,
            "linecolor": "white",
            "showbackground": true,
            "ticks": "",
            "zerolinecolor": "white"
           },
           "zaxis": {
            "backgroundcolor": "#E5ECF6",
            "gridcolor": "white",
            "gridwidth": 2,
            "linecolor": "white",
            "showbackground": true,
            "ticks": "",
            "zerolinecolor": "white"
           }
          },
          "shapedefaults": {
           "line": {
            "color": "#2a3f5f"
           }
          },
          "ternary": {
           "aaxis": {
            "gridcolor": "white",
            "linecolor": "white",
            "ticks": ""
           },
           "baxis": {
            "gridcolor": "white",
            "linecolor": "white",
            "ticks": ""
           },
           "bgcolor": "#E5ECF6",
           "caxis": {
            "gridcolor": "white",
            "linecolor": "white",
            "ticks": ""
           }
          },
          "title": {
           "x": 0.05
          },
          "xaxis": {
           "automargin": true,
           "gridcolor": "white",
           "linecolor": "white",
           "ticks": "",
           "title": {
            "standoff": 15
           },
           "zerolinecolor": "white",
           "zerolinewidth": 2
          },
          "yaxis": {
           "automargin": true,
           "gridcolor": "white",
           "linecolor": "white",
           "ticks": "",
           "title": {
            "standoff": 15
           },
           "zerolinecolor": "white",
           "zerolinewidth": 2
          }
         }
        },
        "title": {
         "text": "Pareto-front Plot"
        }
       }
      }
     },
     "metadata": {},
     "output_type": "display_data"
    }
   ],
   "source": [
    "plot_pareto_front(lsh_study, target_names=['maf', 'average_time', 'min_neighbors'])"
   ]
  },
  {
   "cell_type": "code",
   "execution_count": 7,
   "metadata": {},
   "outputs": [
    {
     "data": {
      "application/vnd.plotly.v1+json": {
       "config": {
        "plotlyServerURL": "https://plot.ly"
       },
       "data": [
        {
         "mode": "markers",
         "name": "maf",
         "type": "scatter",
         "x": [
          0,
          1,
          2,
          3,
          4,
          5,
          6,
          7,
          8,
          9,
          10,
          11,
          12,
          13,
          14,
          15,
          16,
          17,
          18,
          19,
          20,
          21,
          22,
          23,
          24,
          25,
          26,
          27,
          28,
          29,
          30,
          31,
          32,
          33,
          34,
          35,
          36,
          37,
          38,
          39,
          40,
          41,
          42,
          43,
          44,
          45,
          46,
          47,
          48,
          49
         ],
         "y": [
          1.2863161135729677,
          1.027435474263356,
          1.1969214509228467,
          1.0807682800596285,
          1.415033622119244,
          1.3264488992413344,
          1.3927914730283129,
          1.0140417391023338,
          1.000381003095774,
          1.0001757881943298,
          1.2473981815233675,
          1.014306164419062,
          1.4478600549443554,
          1.0017920583849802,
          1.042958288537168,
          1.003079571761728,
          1.0816211973570828,
          1.210495900186597,
          1,
          1,
          1,
          1.019573218221974,
          1.0545639820632464,
          1.0000329705767328,
          1.0030667027343796,
          1,
          1,
          1.7976931348623157e+308,
          1.416661163696468,
          1.0064591950958244,
          1.007277114480091,
          1.5211865489219223,
          1.3555277288780203,
          1.2007612037041664,
          1.0073965014378894,
          1,
          1.0309397645013207,
          1.002881399940059,
          1.2605230403118861,
          1,
          1.0270279359256298,
          1.0783177095294851,
          1.023633074522788,
          2.935254601097435,
          1.2917386783739233,
          1.0331536354732895,
          1.1925134197027696,
          1.1876120010435658,
          1,
          1.003079571761728
         ]
        },
        {
         "marker": {
          "color": "#cccccc"
         },
         "mode": "markers",
         "name": "Infeasible Trial",
         "showlegend": false,
         "type": "scatter",
         "x": [],
         "y": []
        }
       ],
       "layout": {
        "template": {
         "data": {
          "bar": [
           {
            "error_x": {
             "color": "#2a3f5f"
            },
            "error_y": {
             "color": "#2a3f5f"
            },
            "marker": {
             "line": {
              "color": "#E5ECF6",
              "width": 0.5
             },
             "pattern": {
              "fillmode": "overlay",
              "size": 10,
              "solidity": 0.2
             }
            },
            "type": "bar"
           }
          ],
          "barpolar": [
           {
            "marker": {
             "line": {
              "color": "#E5ECF6",
              "width": 0.5
             },
             "pattern": {
              "fillmode": "overlay",
              "size": 10,
              "solidity": 0.2
             }
            },
            "type": "barpolar"
           }
          ],
          "carpet": [
           {
            "aaxis": {
             "endlinecolor": "#2a3f5f",
             "gridcolor": "white",
             "linecolor": "white",
             "minorgridcolor": "white",
             "startlinecolor": "#2a3f5f"
            },
            "baxis": {
             "endlinecolor": "#2a3f5f",
             "gridcolor": "white",
             "linecolor": "white",
             "minorgridcolor": "white",
             "startlinecolor": "#2a3f5f"
            },
            "type": "carpet"
           }
          ],
          "choropleth": [
           {
            "colorbar": {
             "outlinewidth": 0,
             "ticks": ""
            },
            "type": "choropleth"
           }
          ],
          "contour": [
           {
            "colorbar": {
             "outlinewidth": 0,
             "ticks": ""
            },
            "colorscale": [
             [
              0,
              "#0d0887"
             ],
             [
              0.1111111111111111,
              "#46039f"
             ],
             [
              0.2222222222222222,
              "#7201a8"
             ],
             [
              0.3333333333333333,
              "#9c179e"
             ],
             [
              0.4444444444444444,
              "#bd3786"
             ],
             [
              0.5555555555555556,
              "#d8576b"
             ],
             [
              0.6666666666666666,
              "#ed7953"
             ],
             [
              0.7777777777777778,
              "#fb9f3a"
             ],
             [
              0.8888888888888888,
              "#fdca26"
             ],
             [
              1,
              "#f0f921"
             ]
            ],
            "type": "contour"
           }
          ],
          "contourcarpet": [
           {
            "colorbar": {
             "outlinewidth": 0,
             "ticks": ""
            },
            "type": "contourcarpet"
           }
          ],
          "heatmap": [
           {
            "colorbar": {
             "outlinewidth": 0,
             "ticks": ""
            },
            "colorscale": [
             [
              0,
              "#0d0887"
             ],
             [
              0.1111111111111111,
              "#46039f"
             ],
             [
              0.2222222222222222,
              "#7201a8"
             ],
             [
              0.3333333333333333,
              "#9c179e"
             ],
             [
              0.4444444444444444,
              "#bd3786"
             ],
             [
              0.5555555555555556,
              "#d8576b"
             ],
             [
              0.6666666666666666,
              "#ed7953"
             ],
             [
              0.7777777777777778,
              "#fb9f3a"
             ],
             [
              0.8888888888888888,
              "#fdca26"
             ],
             [
              1,
              "#f0f921"
             ]
            ],
            "type": "heatmap"
           }
          ],
          "heatmapgl": [
           {
            "colorbar": {
             "outlinewidth": 0,
             "ticks": ""
            },
            "colorscale": [
             [
              0,
              "#0d0887"
             ],
             [
              0.1111111111111111,
              "#46039f"
             ],
             [
              0.2222222222222222,
              "#7201a8"
             ],
             [
              0.3333333333333333,
              "#9c179e"
             ],
             [
              0.4444444444444444,
              "#bd3786"
             ],
             [
              0.5555555555555556,
              "#d8576b"
             ],
             [
              0.6666666666666666,
              "#ed7953"
             ],
             [
              0.7777777777777778,
              "#fb9f3a"
             ],
             [
              0.8888888888888888,
              "#fdca26"
             ],
             [
              1,
              "#f0f921"
             ]
            ],
            "type": "heatmapgl"
           }
          ],
          "histogram": [
           {
            "marker": {
             "pattern": {
              "fillmode": "overlay",
              "size": 10,
              "solidity": 0.2
             }
            },
            "type": "histogram"
           }
          ],
          "histogram2d": [
           {
            "colorbar": {
             "outlinewidth": 0,
             "ticks": ""
            },
            "colorscale": [
             [
              0,
              "#0d0887"
             ],
             [
              0.1111111111111111,
              "#46039f"
             ],
             [
              0.2222222222222222,
              "#7201a8"
             ],
             [
              0.3333333333333333,
              "#9c179e"
             ],
             [
              0.4444444444444444,
              "#bd3786"
             ],
             [
              0.5555555555555556,
              "#d8576b"
             ],
             [
              0.6666666666666666,
              "#ed7953"
             ],
             [
              0.7777777777777778,
              "#fb9f3a"
             ],
             [
              0.8888888888888888,
              "#fdca26"
             ],
             [
              1,
              "#f0f921"
             ]
            ],
            "type": "histogram2d"
           }
          ],
          "histogram2dcontour": [
           {
            "colorbar": {
             "outlinewidth": 0,
             "ticks": ""
            },
            "colorscale": [
             [
              0,
              "#0d0887"
             ],
             [
              0.1111111111111111,
              "#46039f"
             ],
             [
              0.2222222222222222,
              "#7201a8"
             ],
             [
              0.3333333333333333,
              "#9c179e"
             ],
             [
              0.4444444444444444,
              "#bd3786"
             ],
             [
              0.5555555555555556,
              "#d8576b"
             ],
             [
              0.6666666666666666,
              "#ed7953"
             ],
             [
              0.7777777777777778,
              "#fb9f3a"
             ],
             [
              0.8888888888888888,
              "#fdca26"
             ],
             [
              1,
              "#f0f921"
             ]
            ],
            "type": "histogram2dcontour"
           }
          ],
          "mesh3d": [
           {
            "colorbar": {
             "outlinewidth": 0,
             "ticks": ""
            },
            "type": "mesh3d"
           }
          ],
          "parcoords": [
           {
            "line": {
             "colorbar": {
              "outlinewidth": 0,
              "ticks": ""
             }
            },
            "type": "parcoords"
           }
          ],
          "pie": [
           {
            "automargin": true,
            "type": "pie"
           }
          ],
          "scatter": [
           {
            "fillpattern": {
             "fillmode": "overlay",
             "size": 10,
             "solidity": 0.2
            },
            "type": "scatter"
           }
          ],
          "scatter3d": [
           {
            "line": {
             "colorbar": {
              "outlinewidth": 0,
              "ticks": ""
             }
            },
            "marker": {
             "colorbar": {
              "outlinewidth": 0,
              "ticks": ""
             }
            },
            "type": "scatter3d"
           }
          ],
          "scattercarpet": [
           {
            "marker": {
             "colorbar": {
              "outlinewidth": 0,
              "ticks": ""
             }
            },
            "type": "scattercarpet"
           }
          ],
          "scattergeo": [
           {
            "marker": {
             "colorbar": {
              "outlinewidth": 0,
              "ticks": ""
             }
            },
            "type": "scattergeo"
           }
          ],
          "scattergl": [
           {
            "marker": {
             "colorbar": {
              "outlinewidth": 0,
              "ticks": ""
             }
            },
            "type": "scattergl"
           }
          ],
          "scattermapbox": [
           {
            "marker": {
             "colorbar": {
              "outlinewidth": 0,
              "ticks": ""
             }
            },
            "type": "scattermapbox"
           }
          ],
          "scatterpolar": [
           {
            "marker": {
             "colorbar": {
              "outlinewidth": 0,
              "ticks": ""
             }
            },
            "type": "scatterpolar"
           }
          ],
          "scatterpolargl": [
           {
            "marker": {
             "colorbar": {
              "outlinewidth": 0,
              "ticks": ""
             }
            },
            "type": "scatterpolargl"
           }
          ],
          "scatterternary": [
           {
            "marker": {
             "colorbar": {
              "outlinewidth": 0,
              "ticks": ""
             }
            },
            "type": "scatterternary"
           }
          ],
          "surface": [
           {
            "colorbar": {
             "outlinewidth": 0,
             "ticks": ""
            },
            "colorscale": [
             [
              0,
              "#0d0887"
             ],
             [
              0.1111111111111111,
              "#46039f"
             ],
             [
              0.2222222222222222,
              "#7201a8"
             ],
             [
              0.3333333333333333,
              "#9c179e"
             ],
             [
              0.4444444444444444,
              "#bd3786"
             ],
             [
              0.5555555555555556,
              "#d8576b"
             ],
             [
              0.6666666666666666,
              "#ed7953"
             ],
             [
              0.7777777777777778,
              "#fb9f3a"
             ],
             [
              0.8888888888888888,
              "#fdca26"
             ],
             [
              1,
              "#f0f921"
             ]
            ],
            "type": "surface"
           }
          ],
          "table": [
           {
            "cells": {
             "fill": {
              "color": "#EBF0F8"
             },
             "line": {
              "color": "white"
             }
            },
            "header": {
             "fill": {
              "color": "#C8D4E3"
             },
             "line": {
              "color": "white"
             }
            },
            "type": "table"
           }
          ]
         },
         "layout": {
          "annotationdefaults": {
           "arrowcolor": "#2a3f5f",
           "arrowhead": 0,
           "arrowwidth": 1
          },
          "autotypenumbers": "strict",
          "coloraxis": {
           "colorbar": {
            "outlinewidth": 0,
            "ticks": ""
           }
          },
          "colorscale": {
           "diverging": [
            [
             0,
             "#8e0152"
            ],
            [
             0.1,
             "#c51b7d"
            ],
            [
             0.2,
             "#de77ae"
            ],
            [
             0.3,
             "#f1b6da"
            ],
            [
             0.4,
             "#fde0ef"
            ],
            [
             0.5,
             "#f7f7f7"
            ],
            [
             0.6,
             "#e6f5d0"
            ],
            [
             0.7,
             "#b8e186"
            ],
            [
             0.8,
             "#7fbc41"
            ],
            [
             0.9,
             "#4d9221"
            ],
            [
             1,
             "#276419"
            ]
           ],
           "sequential": [
            [
             0,
             "#0d0887"
            ],
            [
             0.1111111111111111,
             "#46039f"
            ],
            [
             0.2222222222222222,
             "#7201a8"
            ],
            [
             0.3333333333333333,
             "#9c179e"
            ],
            [
             0.4444444444444444,
             "#bd3786"
            ],
            [
             0.5555555555555556,
             "#d8576b"
            ],
            [
             0.6666666666666666,
             "#ed7953"
            ],
            [
             0.7777777777777778,
             "#fb9f3a"
            ],
            [
             0.8888888888888888,
             "#fdca26"
            ],
            [
             1,
             "#f0f921"
            ]
           ],
           "sequentialminus": [
            [
             0,
             "#0d0887"
            ],
            [
             0.1111111111111111,
             "#46039f"
            ],
            [
             0.2222222222222222,
             "#7201a8"
            ],
            [
             0.3333333333333333,
             "#9c179e"
            ],
            [
             0.4444444444444444,
             "#bd3786"
            ],
            [
             0.5555555555555556,
             "#d8576b"
            ],
            [
             0.6666666666666666,
             "#ed7953"
            ],
            [
             0.7777777777777778,
             "#fb9f3a"
            ],
            [
             0.8888888888888888,
             "#fdca26"
            ],
            [
             1,
             "#f0f921"
            ]
           ]
          },
          "colorway": [
           "#636efa",
           "#EF553B",
           "#00cc96",
           "#ab63fa",
           "#FFA15A",
           "#19d3f3",
           "#FF6692",
           "#B6E880",
           "#FF97FF",
           "#FECB52"
          ],
          "font": {
           "color": "#2a3f5f"
          },
          "geo": {
           "bgcolor": "white",
           "lakecolor": "white",
           "landcolor": "#E5ECF6",
           "showlakes": true,
           "showland": true,
           "subunitcolor": "white"
          },
          "hoverlabel": {
           "align": "left"
          },
          "hovermode": "closest",
          "mapbox": {
           "style": "light"
          },
          "paper_bgcolor": "white",
          "plot_bgcolor": "#E5ECF6",
          "polar": {
           "angularaxis": {
            "gridcolor": "white",
            "linecolor": "white",
            "ticks": ""
           },
           "bgcolor": "#E5ECF6",
           "radialaxis": {
            "gridcolor": "white",
            "linecolor": "white",
            "ticks": ""
           }
          },
          "scene": {
           "xaxis": {
            "backgroundcolor": "#E5ECF6",
            "gridcolor": "white",
            "gridwidth": 2,
            "linecolor": "white",
            "showbackground": true,
            "ticks": "",
            "zerolinecolor": "white"
           },
           "yaxis": {
            "backgroundcolor": "#E5ECF6",
            "gridcolor": "white",
            "gridwidth": 2,
            "linecolor": "white",
            "showbackground": true,
            "ticks": "",
            "zerolinecolor": "white"
           },
           "zaxis": {
            "backgroundcolor": "#E5ECF6",
            "gridcolor": "white",
            "gridwidth": 2,
            "linecolor": "white",
            "showbackground": true,
            "ticks": "",
            "zerolinecolor": "white"
           }
          },
          "shapedefaults": {
           "line": {
            "color": "#2a3f5f"
           }
          },
          "ternary": {
           "aaxis": {
            "gridcolor": "white",
            "linecolor": "white",
            "ticks": ""
           },
           "baxis": {
            "gridcolor": "white",
            "linecolor": "white",
            "ticks": ""
           },
           "bgcolor": "#E5ECF6",
           "caxis": {
            "gridcolor": "white",
            "linecolor": "white",
            "ticks": ""
           }
          },
          "title": {
           "x": 0.05
          },
          "xaxis": {
           "automargin": true,
           "gridcolor": "white",
           "linecolor": "white",
           "ticks": "",
           "title": {
            "standoff": 15
           },
           "zerolinecolor": "white",
           "zerolinewidth": 2
          },
          "yaxis": {
           "automargin": true,
           "gridcolor": "white",
           "linecolor": "white",
           "ticks": "",
           "title": {
            "standoff": 15
           },
           "zerolinecolor": "white",
           "zerolinewidth": 2
          }
         }
        },
        "title": {
         "text": "Optimization History Plot"
        },
        "xaxis": {
         "title": {
          "text": "Trial"
         }
        },
        "yaxis": {
         "title": {
          "text": "maf"
         }
        }
       }
      }
     },
     "metadata": {},
     "output_type": "display_data"
    }
   ],
   "source": [
    "plot_optimization_history(lsh_study, target = lambda t: t.values[0], target_name = 'maf')"
   ]
  },
  {
   "cell_type": "code",
   "execution_count": 8,
   "metadata": {},
   "outputs": [
    {
     "data": {
      "application/vnd.plotly.v1+json": {
       "config": {
        "plotlyServerURL": "https://plot.ly"
       },
       "data": [
        {
         "mode": "markers",
         "name": "average_time",
         "type": "scatter",
         "x": [
          0,
          1,
          2,
          3,
          4,
          5,
          6,
          7,
          8,
          9,
          10,
          11,
          12,
          13,
          14,
          15,
          16,
          17,
          18,
          19,
          20,
          21,
          22,
          23,
          24,
          25,
          26,
          27,
          28,
          29,
          30,
          31,
          32,
          33,
          34,
          35,
          36,
          37,
          38,
          39,
          40,
          41,
          42,
          43,
          44,
          45,
          46,
          47,
          48,
          49
         ],
         "y": [
          0.004823560000000001,
          0.07817652000000001,
          0.01123237,
          0.02115718,
          0.003524680000000001,
          0.0051971299999999995,
          0.0041317199999999984,
          0.11600840000000001,
          0.20442788000000003,
          0.13929892000000002,
          0.009634479999999996,
          0.05221652000000002,
          0.0030970000000000004,
          0.07380007999999999,
          0.03975905,
          0.1325692,
          0.04219778,
          0.016965679999999993,
          0.13765656999999992,
          0.23862968999999995,
          0.7818453800000001,
          0.12813682,
          0.07328077999999998,
          0.07704273000000002,
          0.12566375999999996,
          0.14539111,
          0.5546035499999998,
          0.0008337900000000004,
          0.0042783299999999995,
          0.061548800000000015,
          0.11915658000000001,
          0.0020627600000000003,
          0.00205341,
          0.0072292400000000005,
          0.08648003000000001,
          0.3832070400000001,
          0.03882437999999999,
          0.12858413999999999,
          0.010172499999999996,
          0.44205214000000004,
          0.05520693000000002,
          0.06931662999999999,
          0.09210412000000004,
          0.0003108499999999999,
          0.00499493,
          0.038455869999999975,
          0.006491320000000002,
          0.033358160000000005,
          0.22487005000000007,
          0.14983422000000002
         ]
        },
        {
         "marker": {
          "color": "#cccccc"
         },
         "mode": "markers",
         "name": "Infeasible Trial",
         "showlegend": false,
         "type": "scatter",
         "x": [],
         "y": []
        }
       ],
       "layout": {
        "template": {
         "data": {
          "bar": [
           {
            "error_x": {
             "color": "#2a3f5f"
            },
            "error_y": {
             "color": "#2a3f5f"
            },
            "marker": {
             "line": {
              "color": "#E5ECF6",
              "width": 0.5
             },
             "pattern": {
              "fillmode": "overlay",
              "size": 10,
              "solidity": 0.2
             }
            },
            "type": "bar"
           }
          ],
          "barpolar": [
           {
            "marker": {
             "line": {
              "color": "#E5ECF6",
              "width": 0.5
             },
             "pattern": {
              "fillmode": "overlay",
              "size": 10,
              "solidity": 0.2
             }
            },
            "type": "barpolar"
           }
          ],
          "carpet": [
           {
            "aaxis": {
             "endlinecolor": "#2a3f5f",
             "gridcolor": "white",
             "linecolor": "white",
             "minorgridcolor": "white",
             "startlinecolor": "#2a3f5f"
            },
            "baxis": {
             "endlinecolor": "#2a3f5f",
             "gridcolor": "white",
             "linecolor": "white",
             "minorgridcolor": "white",
             "startlinecolor": "#2a3f5f"
            },
            "type": "carpet"
           }
          ],
          "choropleth": [
           {
            "colorbar": {
             "outlinewidth": 0,
             "ticks": ""
            },
            "type": "choropleth"
           }
          ],
          "contour": [
           {
            "colorbar": {
             "outlinewidth": 0,
             "ticks": ""
            },
            "colorscale": [
             [
              0,
              "#0d0887"
             ],
             [
              0.1111111111111111,
              "#46039f"
             ],
             [
              0.2222222222222222,
              "#7201a8"
             ],
             [
              0.3333333333333333,
              "#9c179e"
             ],
             [
              0.4444444444444444,
              "#bd3786"
             ],
             [
              0.5555555555555556,
              "#d8576b"
             ],
             [
              0.6666666666666666,
              "#ed7953"
             ],
             [
              0.7777777777777778,
              "#fb9f3a"
             ],
             [
              0.8888888888888888,
              "#fdca26"
             ],
             [
              1,
              "#f0f921"
             ]
            ],
            "type": "contour"
           }
          ],
          "contourcarpet": [
           {
            "colorbar": {
             "outlinewidth": 0,
             "ticks": ""
            },
            "type": "contourcarpet"
           }
          ],
          "heatmap": [
           {
            "colorbar": {
             "outlinewidth": 0,
             "ticks": ""
            },
            "colorscale": [
             [
              0,
              "#0d0887"
             ],
             [
              0.1111111111111111,
              "#46039f"
             ],
             [
              0.2222222222222222,
              "#7201a8"
             ],
             [
              0.3333333333333333,
              "#9c179e"
             ],
             [
              0.4444444444444444,
              "#bd3786"
             ],
             [
              0.5555555555555556,
              "#d8576b"
             ],
             [
              0.6666666666666666,
              "#ed7953"
             ],
             [
              0.7777777777777778,
              "#fb9f3a"
             ],
             [
              0.8888888888888888,
              "#fdca26"
             ],
             [
              1,
              "#f0f921"
             ]
            ],
            "type": "heatmap"
           }
          ],
          "heatmapgl": [
           {
            "colorbar": {
             "outlinewidth": 0,
             "ticks": ""
            },
            "colorscale": [
             [
              0,
              "#0d0887"
             ],
             [
              0.1111111111111111,
              "#46039f"
             ],
             [
              0.2222222222222222,
              "#7201a8"
             ],
             [
              0.3333333333333333,
              "#9c179e"
             ],
             [
              0.4444444444444444,
              "#bd3786"
             ],
             [
              0.5555555555555556,
              "#d8576b"
             ],
             [
              0.6666666666666666,
              "#ed7953"
             ],
             [
              0.7777777777777778,
              "#fb9f3a"
             ],
             [
              0.8888888888888888,
              "#fdca26"
             ],
             [
              1,
              "#f0f921"
             ]
            ],
            "type": "heatmapgl"
           }
          ],
          "histogram": [
           {
            "marker": {
             "pattern": {
              "fillmode": "overlay",
              "size": 10,
              "solidity": 0.2
             }
            },
            "type": "histogram"
           }
          ],
          "histogram2d": [
           {
            "colorbar": {
             "outlinewidth": 0,
             "ticks": ""
            },
            "colorscale": [
             [
              0,
              "#0d0887"
             ],
             [
              0.1111111111111111,
              "#46039f"
             ],
             [
              0.2222222222222222,
              "#7201a8"
             ],
             [
              0.3333333333333333,
              "#9c179e"
             ],
             [
              0.4444444444444444,
              "#bd3786"
             ],
             [
              0.5555555555555556,
              "#d8576b"
             ],
             [
              0.6666666666666666,
              "#ed7953"
             ],
             [
              0.7777777777777778,
              "#fb9f3a"
             ],
             [
              0.8888888888888888,
              "#fdca26"
             ],
             [
              1,
              "#f0f921"
             ]
            ],
            "type": "histogram2d"
           }
          ],
          "histogram2dcontour": [
           {
            "colorbar": {
             "outlinewidth": 0,
             "ticks": ""
            },
            "colorscale": [
             [
              0,
              "#0d0887"
             ],
             [
              0.1111111111111111,
              "#46039f"
             ],
             [
              0.2222222222222222,
              "#7201a8"
             ],
             [
              0.3333333333333333,
              "#9c179e"
             ],
             [
              0.4444444444444444,
              "#bd3786"
             ],
             [
              0.5555555555555556,
              "#d8576b"
             ],
             [
              0.6666666666666666,
              "#ed7953"
             ],
             [
              0.7777777777777778,
              "#fb9f3a"
             ],
             [
              0.8888888888888888,
              "#fdca26"
             ],
             [
              1,
              "#f0f921"
             ]
            ],
            "type": "histogram2dcontour"
           }
          ],
          "mesh3d": [
           {
            "colorbar": {
             "outlinewidth": 0,
             "ticks": ""
            },
            "type": "mesh3d"
           }
          ],
          "parcoords": [
           {
            "line": {
             "colorbar": {
              "outlinewidth": 0,
              "ticks": ""
             }
            },
            "type": "parcoords"
           }
          ],
          "pie": [
           {
            "automargin": true,
            "type": "pie"
           }
          ],
          "scatter": [
           {
            "fillpattern": {
             "fillmode": "overlay",
             "size": 10,
             "solidity": 0.2
            },
            "type": "scatter"
           }
          ],
          "scatter3d": [
           {
            "line": {
             "colorbar": {
              "outlinewidth": 0,
              "ticks": ""
             }
            },
            "marker": {
             "colorbar": {
              "outlinewidth": 0,
              "ticks": ""
             }
            },
            "type": "scatter3d"
           }
          ],
          "scattercarpet": [
           {
            "marker": {
             "colorbar": {
              "outlinewidth": 0,
              "ticks": ""
             }
            },
            "type": "scattercarpet"
           }
          ],
          "scattergeo": [
           {
            "marker": {
             "colorbar": {
              "outlinewidth": 0,
              "ticks": ""
             }
            },
            "type": "scattergeo"
           }
          ],
          "scattergl": [
           {
            "marker": {
             "colorbar": {
              "outlinewidth": 0,
              "ticks": ""
             }
            },
            "type": "scattergl"
           }
          ],
          "scattermapbox": [
           {
            "marker": {
             "colorbar": {
              "outlinewidth": 0,
              "ticks": ""
             }
            },
            "type": "scattermapbox"
           }
          ],
          "scatterpolar": [
           {
            "marker": {
             "colorbar": {
              "outlinewidth": 0,
              "ticks": ""
             }
            },
            "type": "scatterpolar"
           }
          ],
          "scatterpolargl": [
           {
            "marker": {
             "colorbar": {
              "outlinewidth": 0,
              "ticks": ""
             }
            },
            "type": "scatterpolargl"
           }
          ],
          "scatterternary": [
           {
            "marker": {
             "colorbar": {
              "outlinewidth": 0,
              "ticks": ""
             }
            },
            "type": "scatterternary"
           }
          ],
          "surface": [
           {
            "colorbar": {
             "outlinewidth": 0,
             "ticks": ""
            },
            "colorscale": [
             [
              0,
              "#0d0887"
             ],
             [
              0.1111111111111111,
              "#46039f"
             ],
             [
              0.2222222222222222,
              "#7201a8"
             ],
             [
              0.3333333333333333,
              "#9c179e"
             ],
             [
              0.4444444444444444,
              "#bd3786"
             ],
             [
              0.5555555555555556,
              "#d8576b"
             ],
             [
              0.6666666666666666,
              "#ed7953"
             ],
             [
              0.7777777777777778,
              "#fb9f3a"
             ],
             [
              0.8888888888888888,
              "#fdca26"
             ],
             [
              1,
              "#f0f921"
             ]
            ],
            "type": "surface"
           }
          ],
          "table": [
           {
            "cells": {
             "fill": {
              "color": "#EBF0F8"
             },
             "line": {
              "color": "white"
             }
            },
            "header": {
             "fill": {
              "color": "#C8D4E3"
             },
             "line": {
              "color": "white"
             }
            },
            "type": "table"
           }
          ]
         },
         "layout": {
          "annotationdefaults": {
           "arrowcolor": "#2a3f5f",
           "arrowhead": 0,
           "arrowwidth": 1
          },
          "autotypenumbers": "strict",
          "coloraxis": {
           "colorbar": {
            "outlinewidth": 0,
            "ticks": ""
           }
          },
          "colorscale": {
           "diverging": [
            [
             0,
             "#8e0152"
            ],
            [
             0.1,
             "#c51b7d"
            ],
            [
             0.2,
             "#de77ae"
            ],
            [
             0.3,
             "#f1b6da"
            ],
            [
             0.4,
             "#fde0ef"
            ],
            [
             0.5,
             "#f7f7f7"
            ],
            [
             0.6,
             "#e6f5d0"
            ],
            [
             0.7,
             "#b8e186"
            ],
            [
             0.8,
             "#7fbc41"
            ],
            [
             0.9,
             "#4d9221"
            ],
            [
             1,
             "#276419"
            ]
           ],
           "sequential": [
            [
             0,
             "#0d0887"
            ],
            [
             0.1111111111111111,
             "#46039f"
            ],
            [
             0.2222222222222222,
             "#7201a8"
            ],
            [
             0.3333333333333333,
             "#9c179e"
            ],
            [
             0.4444444444444444,
             "#bd3786"
            ],
            [
             0.5555555555555556,
             "#d8576b"
            ],
            [
             0.6666666666666666,
             "#ed7953"
            ],
            [
             0.7777777777777778,
             "#fb9f3a"
            ],
            [
             0.8888888888888888,
             "#fdca26"
            ],
            [
             1,
             "#f0f921"
            ]
           ],
           "sequentialminus": [
            [
             0,
             "#0d0887"
            ],
            [
             0.1111111111111111,
             "#46039f"
            ],
            [
             0.2222222222222222,
             "#7201a8"
            ],
            [
             0.3333333333333333,
             "#9c179e"
            ],
            [
             0.4444444444444444,
             "#bd3786"
            ],
            [
             0.5555555555555556,
             "#d8576b"
            ],
            [
             0.6666666666666666,
             "#ed7953"
            ],
            [
             0.7777777777777778,
             "#fb9f3a"
            ],
            [
             0.8888888888888888,
             "#fdca26"
            ],
            [
             1,
             "#f0f921"
            ]
           ]
          },
          "colorway": [
           "#636efa",
           "#EF553B",
           "#00cc96",
           "#ab63fa",
           "#FFA15A",
           "#19d3f3",
           "#FF6692",
           "#B6E880",
           "#FF97FF",
           "#FECB52"
          ],
          "font": {
           "color": "#2a3f5f"
          },
          "geo": {
           "bgcolor": "white",
           "lakecolor": "white",
           "landcolor": "#E5ECF6",
           "showlakes": true,
           "showland": true,
           "subunitcolor": "white"
          },
          "hoverlabel": {
           "align": "left"
          },
          "hovermode": "closest",
          "mapbox": {
           "style": "light"
          },
          "paper_bgcolor": "white",
          "plot_bgcolor": "#E5ECF6",
          "polar": {
           "angularaxis": {
            "gridcolor": "white",
            "linecolor": "white",
            "ticks": ""
           },
           "bgcolor": "#E5ECF6",
           "radialaxis": {
            "gridcolor": "white",
            "linecolor": "white",
            "ticks": ""
           }
          },
          "scene": {
           "xaxis": {
            "backgroundcolor": "#E5ECF6",
            "gridcolor": "white",
            "gridwidth": 2,
            "linecolor": "white",
            "showbackground": true,
            "ticks": "",
            "zerolinecolor": "white"
           },
           "yaxis": {
            "backgroundcolor": "#E5ECF6",
            "gridcolor": "white",
            "gridwidth": 2,
            "linecolor": "white",
            "showbackground": true,
            "ticks": "",
            "zerolinecolor": "white"
           },
           "zaxis": {
            "backgroundcolor": "#E5ECF6",
            "gridcolor": "white",
            "gridwidth": 2,
            "linecolor": "white",
            "showbackground": true,
            "ticks": "",
            "zerolinecolor": "white"
           }
          },
          "shapedefaults": {
           "line": {
            "color": "#2a3f5f"
           }
          },
          "ternary": {
           "aaxis": {
            "gridcolor": "white",
            "linecolor": "white",
            "ticks": ""
           },
           "baxis": {
            "gridcolor": "white",
            "linecolor": "white",
            "ticks": ""
           },
           "bgcolor": "#E5ECF6",
           "caxis": {
            "gridcolor": "white",
            "linecolor": "white",
            "ticks": ""
           }
          },
          "title": {
           "x": 0.05
          },
          "xaxis": {
           "automargin": true,
           "gridcolor": "white",
           "linecolor": "white",
           "ticks": "",
           "title": {
            "standoff": 15
           },
           "zerolinecolor": "white",
           "zerolinewidth": 2
          },
          "yaxis": {
           "automargin": true,
           "gridcolor": "white",
           "linecolor": "white",
           "ticks": "",
           "title": {
            "standoff": 15
           },
           "zerolinecolor": "white",
           "zerolinewidth": 2
          }
         }
        },
        "title": {
         "text": "Optimization History Plot"
        },
        "xaxis": {
         "title": {
          "text": "Trial"
         }
        },
        "yaxis": {
         "title": {
          "text": "average_time"
         }
        }
       }
      }
     },
     "metadata": {},
     "output_type": "display_data"
    }
   ],
   "source": [
    "plot_optimization_history(lsh_study, target = lambda t: t.values[1], target_name = 'average_time')"
   ]
  },
  {
   "cell_type": "code",
   "execution_count": 9,
   "metadata": {},
   "outputs": [
    {
     "data": {
      "application/vnd.plotly.v1+json": {
       "config": {
        "plotlyServerURL": "https://plot.ly"
       },
       "data": [
        {
         "mode": "markers",
         "name": "min_neighbors",
         "type": "scatter",
         "x": [
          0,
          1,
          2,
          3,
          4,
          5,
          6,
          7,
          8,
          9,
          10,
          11,
          12,
          13,
          14,
          15,
          16,
          17,
          18,
          19,
          20,
          21,
          22,
          23,
          24,
          25,
          26,
          27,
          28,
          29,
          30,
          31,
          32,
          33,
          34,
          35,
          36,
          37,
          38,
          39,
          40,
          41,
          42,
          43,
          44,
          45,
          46,
          47,
          48,
          49
         ],
         "y": [
          50,
          50,
          50,
          50,
          18,
          50,
          50,
          50,
          50,
          50,
          50,
          50,
          14,
          50,
          50,
          50,
          50,
          50,
          50,
          50,
          50,
          50,
          50,
          50,
          50,
          50,
          50,
          0,
          50,
          50,
          50,
          21,
          17,
          50,
          50,
          50,
          50,
          50,
          50,
          50,
          50,
          50,
          50,
          1,
          50,
          50,
          50,
          50,
          50,
          50
         ]
        },
        {
         "marker": {
          "color": "#cccccc"
         },
         "mode": "markers",
         "name": "Infeasible Trial",
         "showlegend": false,
         "type": "scatter",
         "x": [],
         "y": []
        }
       ],
       "layout": {
        "template": {
         "data": {
          "bar": [
           {
            "error_x": {
             "color": "#2a3f5f"
            },
            "error_y": {
             "color": "#2a3f5f"
            },
            "marker": {
             "line": {
              "color": "#E5ECF6",
              "width": 0.5
             },
             "pattern": {
              "fillmode": "overlay",
              "size": 10,
              "solidity": 0.2
             }
            },
            "type": "bar"
           }
          ],
          "barpolar": [
           {
            "marker": {
             "line": {
              "color": "#E5ECF6",
              "width": 0.5
             },
             "pattern": {
              "fillmode": "overlay",
              "size": 10,
              "solidity": 0.2
             }
            },
            "type": "barpolar"
           }
          ],
          "carpet": [
           {
            "aaxis": {
             "endlinecolor": "#2a3f5f",
             "gridcolor": "white",
             "linecolor": "white",
             "minorgridcolor": "white",
             "startlinecolor": "#2a3f5f"
            },
            "baxis": {
             "endlinecolor": "#2a3f5f",
             "gridcolor": "white",
             "linecolor": "white",
             "minorgridcolor": "white",
             "startlinecolor": "#2a3f5f"
            },
            "type": "carpet"
           }
          ],
          "choropleth": [
           {
            "colorbar": {
             "outlinewidth": 0,
             "ticks": ""
            },
            "type": "choropleth"
           }
          ],
          "contour": [
           {
            "colorbar": {
             "outlinewidth": 0,
             "ticks": ""
            },
            "colorscale": [
             [
              0,
              "#0d0887"
             ],
             [
              0.1111111111111111,
              "#46039f"
             ],
             [
              0.2222222222222222,
              "#7201a8"
             ],
             [
              0.3333333333333333,
              "#9c179e"
             ],
             [
              0.4444444444444444,
              "#bd3786"
             ],
             [
              0.5555555555555556,
              "#d8576b"
             ],
             [
              0.6666666666666666,
              "#ed7953"
             ],
             [
              0.7777777777777778,
              "#fb9f3a"
             ],
             [
              0.8888888888888888,
              "#fdca26"
             ],
             [
              1,
              "#f0f921"
             ]
            ],
            "type": "contour"
           }
          ],
          "contourcarpet": [
           {
            "colorbar": {
             "outlinewidth": 0,
             "ticks": ""
            },
            "type": "contourcarpet"
           }
          ],
          "heatmap": [
           {
            "colorbar": {
             "outlinewidth": 0,
             "ticks": ""
            },
            "colorscale": [
             [
              0,
              "#0d0887"
             ],
             [
              0.1111111111111111,
              "#46039f"
             ],
             [
              0.2222222222222222,
              "#7201a8"
             ],
             [
              0.3333333333333333,
              "#9c179e"
             ],
             [
              0.4444444444444444,
              "#bd3786"
             ],
             [
              0.5555555555555556,
              "#d8576b"
             ],
             [
              0.6666666666666666,
              "#ed7953"
             ],
             [
              0.7777777777777778,
              "#fb9f3a"
             ],
             [
              0.8888888888888888,
              "#fdca26"
             ],
             [
              1,
              "#f0f921"
             ]
            ],
            "type": "heatmap"
           }
          ],
          "heatmapgl": [
           {
            "colorbar": {
             "outlinewidth": 0,
             "ticks": ""
            },
            "colorscale": [
             [
              0,
              "#0d0887"
             ],
             [
              0.1111111111111111,
              "#46039f"
             ],
             [
              0.2222222222222222,
              "#7201a8"
             ],
             [
              0.3333333333333333,
              "#9c179e"
             ],
             [
              0.4444444444444444,
              "#bd3786"
             ],
             [
              0.5555555555555556,
              "#d8576b"
             ],
             [
              0.6666666666666666,
              "#ed7953"
             ],
             [
              0.7777777777777778,
              "#fb9f3a"
             ],
             [
              0.8888888888888888,
              "#fdca26"
             ],
             [
              1,
              "#f0f921"
             ]
            ],
            "type": "heatmapgl"
           }
          ],
          "histogram": [
           {
            "marker": {
             "pattern": {
              "fillmode": "overlay",
              "size": 10,
              "solidity": 0.2
             }
            },
            "type": "histogram"
           }
          ],
          "histogram2d": [
           {
            "colorbar": {
             "outlinewidth": 0,
             "ticks": ""
            },
            "colorscale": [
             [
              0,
              "#0d0887"
             ],
             [
              0.1111111111111111,
              "#46039f"
             ],
             [
              0.2222222222222222,
              "#7201a8"
             ],
             [
              0.3333333333333333,
              "#9c179e"
             ],
             [
              0.4444444444444444,
              "#bd3786"
             ],
             [
              0.5555555555555556,
              "#d8576b"
             ],
             [
              0.6666666666666666,
              "#ed7953"
             ],
             [
              0.7777777777777778,
              "#fb9f3a"
             ],
             [
              0.8888888888888888,
              "#fdca26"
             ],
             [
              1,
              "#f0f921"
             ]
            ],
            "type": "histogram2d"
           }
          ],
          "histogram2dcontour": [
           {
            "colorbar": {
             "outlinewidth": 0,
             "ticks": ""
            },
            "colorscale": [
             [
              0,
              "#0d0887"
             ],
             [
              0.1111111111111111,
              "#46039f"
             ],
             [
              0.2222222222222222,
              "#7201a8"
             ],
             [
              0.3333333333333333,
              "#9c179e"
             ],
             [
              0.4444444444444444,
              "#bd3786"
             ],
             [
              0.5555555555555556,
              "#d8576b"
             ],
             [
              0.6666666666666666,
              "#ed7953"
             ],
             [
              0.7777777777777778,
              "#fb9f3a"
             ],
             [
              0.8888888888888888,
              "#fdca26"
             ],
             [
              1,
              "#f0f921"
             ]
            ],
            "type": "histogram2dcontour"
           }
          ],
          "mesh3d": [
           {
            "colorbar": {
             "outlinewidth": 0,
             "ticks": ""
            },
            "type": "mesh3d"
           }
          ],
          "parcoords": [
           {
            "line": {
             "colorbar": {
              "outlinewidth": 0,
              "ticks": ""
             }
            },
            "type": "parcoords"
           }
          ],
          "pie": [
           {
            "automargin": true,
            "type": "pie"
           }
          ],
          "scatter": [
           {
            "fillpattern": {
             "fillmode": "overlay",
             "size": 10,
             "solidity": 0.2
            },
            "type": "scatter"
           }
          ],
          "scatter3d": [
           {
            "line": {
             "colorbar": {
              "outlinewidth": 0,
              "ticks": ""
             }
            },
            "marker": {
             "colorbar": {
              "outlinewidth": 0,
              "ticks": ""
             }
            },
            "type": "scatter3d"
           }
          ],
          "scattercarpet": [
           {
            "marker": {
             "colorbar": {
              "outlinewidth": 0,
              "ticks": ""
             }
            },
            "type": "scattercarpet"
           }
          ],
          "scattergeo": [
           {
            "marker": {
             "colorbar": {
              "outlinewidth": 0,
              "ticks": ""
             }
            },
            "type": "scattergeo"
           }
          ],
          "scattergl": [
           {
            "marker": {
             "colorbar": {
              "outlinewidth": 0,
              "ticks": ""
             }
            },
            "type": "scattergl"
           }
          ],
          "scattermapbox": [
           {
            "marker": {
             "colorbar": {
              "outlinewidth": 0,
              "ticks": ""
             }
            },
            "type": "scattermapbox"
           }
          ],
          "scatterpolar": [
           {
            "marker": {
             "colorbar": {
              "outlinewidth": 0,
              "ticks": ""
             }
            },
            "type": "scatterpolar"
           }
          ],
          "scatterpolargl": [
           {
            "marker": {
             "colorbar": {
              "outlinewidth": 0,
              "ticks": ""
             }
            },
            "type": "scatterpolargl"
           }
          ],
          "scatterternary": [
           {
            "marker": {
             "colorbar": {
              "outlinewidth": 0,
              "ticks": ""
             }
            },
            "type": "scatterternary"
           }
          ],
          "surface": [
           {
            "colorbar": {
             "outlinewidth": 0,
             "ticks": ""
            },
            "colorscale": [
             [
              0,
              "#0d0887"
             ],
             [
              0.1111111111111111,
              "#46039f"
             ],
             [
              0.2222222222222222,
              "#7201a8"
             ],
             [
              0.3333333333333333,
              "#9c179e"
             ],
             [
              0.4444444444444444,
              "#bd3786"
             ],
             [
              0.5555555555555556,
              "#d8576b"
             ],
             [
              0.6666666666666666,
              "#ed7953"
             ],
             [
              0.7777777777777778,
              "#fb9f3a"
             ],
             [
              0.8888888888888888,
              "#fdca26"
             ],
             [
              1,
              "#f0f921"
             ]
            ],
            "type": "surface"
           }
          ],
          "table": [
           {
            "cells": {
             "fill": {
              "color": "#EBF0F8"
             },
             "line": {
              "color": "white"
             }
            },
            "header": {
             "fill": {
              "color": "#C8D4E3"
             },
             "line": {
              "color": "white"
             }
            },
            "type": "table"
           }
          ]
         },
         "layout": {
          "annotationdefaults": {
           "arrowcolor": "#2a3f5f",
           "arrowhead": 0,
           "arrowwidth": 1
          },
          "autotypenumbers": "strict",
          "coloraxis": {
           "colorbar": {
            "outlinewidth": 0,
            "ticks": ""
           }
          },
          "colorscale": {
           "diverging": [
            [
             0,
             "#8e0152"
            ],
            [
             0.1,
             "#c51b7d"
            ],
            [
             0.2,
             "#de77ae"
            ],
            [
             0.3,
             "#f1b6da"
            ],
            [
             0.4,
             "#fde0ef"
            ],
            [
             0.5,
             "#f7f7f7"
            ],
            [
             0.6,
             "#e6f5d0"
            ],
            [
             0.7,
             "#b8e186"
            ],
            [
             0.8,
             "#7fbc41"
            ],
            [
             0.9,
             "#4d9221"
            ],
            [
             1,
             "#276419"
            ]
           ],
           "sequential": [
            [
             0,
             "#0d0887"
            ],
            [
             0.1111111111111111,
             "#46039f"
            ],
            [
             0.2222222222222222,
             "#7201a8"
            ],
            [
             0.3333333333333333,
             "#9c179e"
            ],
            [
             0.4444444444444444,
             "#bd3786"
            ],
            [
             0.5555555555555556,
             "#d8576b"
            ],
            [
             0.6666666666666666,
             "#ed7953"
            ],
            [
             0.7777777777777778,
             "#fb9f3a"
            ],
            [
             0.8888888888888888,
             "#fdca26"
            ],
            [
             1,
             "#f0f921"
            ]
           ],
           "sequentialminus": [
            [
             0,
             "#0d0887"
            ],
            [
             0.1111111111111111,
             "#46039f"
            ],
            [
             0.2222222222222222,
             "#7201a8"
            ],
            [
             0.3333333333333333,
             "#9c179e"
            ],
            [
             0.4444444444444444,
             "#bd3786"
            ],
            [
             0.5555555555555556,
             "#d8576b"
            ],
            [
             0.6666666666666666,
             "#ed7953"
            ],
            [
             0.7777777777777778,
             "#fb9f3a"
            ],
            [
             0.8888888888888888,
             "#fdca26"
            ],
            [
             1,
             "#f0f921"
            ]
           ]
          },
          "colorway": [
           "#636efa",
           "#EF553B",
           "#00cc96",
           "#ab63fa",
           "#FFA15A",
           "#19d3f3",
           "#FF6692",
           "#B6E880",
           "#FF97FF",
           "#FECB52"
          ],
          "font": {
           "color": "#2a3f5f"
          },
          "geo": {
           "bgcolor": "white",
           "lakecolor": "white",
           "landcolor": "#E5ECF6",
           "showlakes": true,
           "showland": true,
           "subunitcolor": "white"
          },
          "hoverlabel": {
           "align": "left"
          },
          "hovermode": "closest",
          "mapbox": {
           "style": "light"
          },
          "paper_bgcolor": "white",
          "plot_bgcolor": "#E5ECF6",
          "polar": {
           "angularaxis": {
            "gridcolor": "white",
            "linecolor": "white",
            "ticks": ""
           },
           "bgcolor": "#E5ECF6",
           "radialaxis": {
            "gridcolor": "white",
            "linecolor": "white",
            "ticks": ""
           }
          },
          "scene": {
           "xaxis": {
            "backgroundcolor": "#E5ECF6",
            "gridcolor": "white",
            "gridwidth": 2,
            "linecolor": "white",
            "showbackground": true,
            "ticks": "",
            "zerolinecolor": "white"
           },
           "yaxis": {
            "backgroundcolor": "#E5ECF6",
            "gridcolor": "white",
            "gridwidth": 2,
            "linecolor": "white",
            "showbackground": true,
            "ticks": "",
            "zerolinecolor": "white"
           },
           "zaxis": {
            "backgroundcolor": "#E5ECF6",
            "gridcolor": "white",
            "gridwidth": 2,
            "linecolor": "white",
            "showbackground": true,
            "ticks": "",
            "zerolinecolor": "white"
           }
          },
          "shapedefaults": {
           "line": {
            "color": "#2a3f5f"
           }
          },
          "ternary": {
           "aaxis": {
            "gridcolor": "white",
            "linecolor": "white",
            "ticks": ""
           },
           "baxis": {
            "gridcolor": "white",
            "linecolor": "white",
            "ticks": ""
           },
           "bgcolor": "#E5ECF6",
           "caxis": {
            "gridcolor": "white",
            "linecolor": "white",
            "ticks": ""
           }
          },
          "title": {
           "x": 0.05
          },
          "xaxis": {
           "automargin": true,
           "gridcolor": "white",
           "linecolor": "white",
           "ticks": "",
           "title": {
            "standoff": 15
           },
           "zerolinecolor": "white",
           "zerolinewidth": 2
          },
          "yaxis": {
           "automargin": true,
           "gridcolor": "white",
           "linecolor": "white",
           "ticks": "",
           "title": {
            "standoff": 15
           },
           "zerolinecolor": "white",
           "zerolinewidth": 2
          }
         }
        },
        "title": {
         "text": "Optimization History Plot"
        },
        "xaxis": {
         "title": {
          "text": "Trial"
         }
        },
        "yaxis": {
         "title": {
          "text": "min_neighbors"
         }
        }
       }
      }
     },
     "metadata": {},
     "output_type": "display_data"
    }
   ],
   "source": [
    "plot_optimization_history(lsh_study, target = lambda t: t.values[2], target_name = 'min_neighbors')"
   ]
  },
  {
   "cell_type": "code",
   "execution_count": 10,
   "metadata": {},
   "outputs": [
    {
     "data": {
      "application/vnd.plotly.v1+json": {
       "config": {
        "plotlyServerURL": "https://plot.ly"
       },
       "data": [
        {
         "marker": {
          "color": [
           0,
           1,
           2,
           3,
           4,
           5,
           6,
           7,
           8,
           9,
           10,
           11,
           12,
           13,
           14,
           15,
           16,
           17,
           18,
           19,
           20,
           21,
           22,
           23,
           24,
           25,
           26,
           27,
           28,
           29,
           30,
           31,
           32,
           33,
           34,
           35,
           36,
           37,
           38,
           39,
           40,
           41,
           42,
           43,
           44,
           45,
           46,
           47,
           48,
           49
          ],
          "colorbar": {
           "title": {
            "text": "Trial"
           },
           "x": 1,
           "xpad": 40
          },
          "colorscale": [
           [
            0,
            "rgb(247,251,255)"
           ],
           [
            0.125,
            "rgb(222,235,247)"
           ],
           [
            0.25,
            "rgb(198,219,239)"
           ],
           [
            0.375,
            "rgb(158,202,225)"
           ],
           [
            0.5,
            "rgb(107,174,214)"
           ],
           [
            0.625,
            "rgb(66,146,198)"
           ],
           [
            0.75,
            "rgb(33,113,181)"
           ],
           [
            0.875,
            "rgb(8,81,156)"
           ],
           [
            1,
            "rgb(8,48,107)"
           ]
          ],
          "line": {
           "color": "Grey",
           "width": 0.5
          },
          "showscale": true
         },
         "mode": "markers",
         "name": "Feasible Trial",
         "showlegend": false,
         "type": "scatter",
         "x": [
          6,
          7,
          3,
          8,
          4,
          9,
          4,
          6,
          3,
          7,
          4,
          10,
          4,
          10,
          9,
          6,
          2,
          2,
          10,
          9,
          10,
          5,
          6,
          9,
          5,
          8,
          10,
          8,
          8,
          9,
          9,
          5,
          8,
          7,
          10,
          10,
          10,
          5,
          3,
          10,
          5,
          6,
          7,
          2,
          10,
          8,
          5,
          2,
          9,
          4
         ],
         "xaxis": "x",
         "y": [
          1.2863161135729677,
          1.027435474263356,
          1.1969214509228467,
          1.0807682800596285,
          1.415033622119244,
          1.3264488992413344,
          1.3927914730283129,
          1.0140417391023338,
          1.000381003095774,
          1.0001757881943298,
          1.2473981815233675,
          1.014306164419062,
          1.4478600549443554,
          1.0017920583849802,
          1.042958288537168,
          1.003079571761728,
          1.0816211973570828,
          1.210495900186597,
          1,
          1,
          1,
          1.019573218221974,
          1.0545639820632464,
          1.0000329705767328,
          1.0030667027343796,
          1,
          1,
          1.7976931348623157e+308,
          1.416661163696468,
          1.0064591950958244,
          1.007277114480091,
          1.5211865489219223,
          1.3555277288780203,
          1.2007612037041664,
          1.0073965014378894,
          1,
          1.0309397645013207,
          1.002881399940059,
          1.2605230403118861,
          1,
          1.0270279359256298,
          1.0783177095294851,
          1.023633074522788,
          2.935254601097435,
          1.2917386783739233,
          1.0331536354732895,
          1.1925134197027696,
          1.1876120010435658,
          1,
          1.003079571761728
         ],
         "yaxis": "y"
        },
        {
         "marker": {
          "color": [
           0,
           1,
           2,
           3,
           4,
           5,
           6,
           7,
           8,
           9,
           10,
           11,
           12,
           13,
           14,
           15,
           16,
           17,
           18,
           19,
           20,
           21,
           22,
           23,
           24,
           25,
           26,
           27,
           28,
           29,
           30,
           31,
           32,
           33,
           34,
           35,
           36,
           37,
           38,
           39,
           40,
           41,
           42,
           43,
           44,
           45,
           46,
           47,
           48,
           49
          ],
          "colorbar": {
           "title": {
            "text": "Trial"
           },
           "x": 1,
           "xpad": 40
          },
          "colorscale": [
           [
            0,
            "rgb(247,251,255)"
           ],
           [
            0.125,
            "rgb(222,235,247)"
           ],
           [
            0.25,
            "rgb(198,219,239)"
           ],
           [
            0.375,
            "rgb(158,202,225)"
           ],
           [
            0.5,
            "rgb(107,174,214)"
           ],
           [
            0.625,
            "rgb(66,146,198)"
           ],
           [
            0.75,
            "rgb(33,113,181)"
           ],
           [
            0.875,
            "rgb(8,81,156)"
           ],
           [
            1,
            "rgb(8,48,107)"
           ]
          ],
          "line": {
           "color": "Grey",
           "width": 0.5
          },
          "showscale": false
         },
         "mode": "markers",
         "name": "Feasible Trial",
         "showlegend": false,
         "type": "scatter",
         "x": [
          9,
          2,
          4,
          8,
          9,
          8,
          6,
          4,
          2,
          4,
          8,
          8,
          10,
          10,
          8,
          3,
          5,
          8,
          8,
          5,
          2,
          7,
          4,
          10,
          4,
          8,
          2,
          8,
          5,
          7,
          2,
          10,
          10,
          10,
          8,
          4,
          7,
          4,
          6,
          3,
          10,
          7,
          4,
          9,
          9,
          5,
          10,
          5,
          5,
          3
         ],
         "xaxis": "x2",
         "y": [
          1.2863161135729677,
          1.027435474263356,
          1.1969214509228467,
          1.0807682800596285,
          1.415033622119244,
          1.3264488992413344,
          1.3927914730283129,
          1.0140417391023338,
          1.000381003095774,
          1.0001757881943298,
          1.2473981815233675,
          1.014306164419062,
          1.4478600549443554,
          1.0017920583849802,
          1.042958288537168,
          1.003079571761728,
          1.0816211973570828,
          1.210495900186597,
          1,
          1,
          1,
          1.019573218221974,
          1.0545639820632464,
          1.0000329705767328,
          1.0030667027343796,
          1,
          1,
          1.7976931348623157e+308,
          1.416661163696468,
          1.0064591950958244,
          1.007277114480091,
          1.5211865489219223,
          1.3555277288780203,
          1.2007612037041664,
          1.0073965014378894,
          1,
          1.0309397645013207,
          1.002881399940059,
          1.2605230403118861,
          1,
          1.0270279359256298,
          1.0783177095294851,
          1.023633074522788,
          2.935254601097435,
          1.2917386783739233,
          1.0331536354732895,
          1.1925134197027696,
          1.1876120010435658,
          1,
          1.003079571761728
         ],
         "yaxis": "y2"
        },
        {
         "marker": {
          "color": [
           0,
           1,
           2,
           3,
           4,
           5,
           6,
           7,
           8,
           9,
           10,
           11,
           12,
           13,
           14,
           15,
           16,
           17,
           18,
           19,
           20,
           21,
           22,
           23,
           24,
           25,
           26,
           27,
           28,
           29,
           30,
           31,
           32,
           33,
           34,
           35,
           36,
           37,
           38,
           39,
           40,
           41,
           42,
           43,
           44,
           45,
           46,
           47,
           48,
           49
          ],
          "colorbar": {
           "title": {
            "text": "Trial"
           },
           "x": 1,
           "xpad": 40
          },
          "colorscale": [
           [
            0,
            "rgb(247,251,255)"
           ],
           [
            0.125,
            "rgb(222,235,247)"
           ],
           [
            0.25,
            "rgb(198,219,239)"
           ],
           [
            0.375,
            "rgb(158,202,225)"
           ],
           [
            0.5,
            "rgb(107,174,214)"
           ],
           [
            0.625,
            "rgb(66,146,198)"
           ],
           [
            0.75,
            "rgb(33,113,181)"
           ],
           [
            0.875,
            "rgb(8,81,156)"
           ],
           [
            1,
            "rgb(8,48,107)"
           ]
          ],
          "line": {
           "color": "Grey",
           "width": 0.5
          },
          "showscale": false
         },
         "mode": "markers",
         "name": "Feasible Trial",
         "showlegend": false,
         "type": "scatter",
         "x": [
          true,
          false,
          false,
          true,
          false,
          true,
          true,
          true,
          true,
          false,
          true,
          true,
          true,
          false,
          false,
          false,
          false,
          true,
          true,
          true,
          false,
          true,
          true,
          false,
          true,
          true,
          true,
          true,
          false,
          false,
          false,
          false,
          true,
          true,
          false,
          false,
          false,
          false,
          true,
          true,
          false,
          true,
          true,
          false,
          false,
          false,
          true,
          true,
          false,
          true
         ],
         "xaxis": "x3",
         "y": [
          1.2863161135729677,
          1.027435474263356,
          1.1969214509228467,
          1.0807682800596285,
          1.415033622119244,
          1.3264488992413344,
          1.3927914730283129,
          1.0140417391023338,
          1.000381003095774,
          1.0001757881943298,
          1.2473981815233675,
          1.014306164419062,
          1.4478600549443554,
          1.0017920583849802,
          1.042958288537168,
          1.003079571761728,
          1.0816211973570828,
          1.210495900186597,
          1,
          1,
          1,
          1.019573218221974,
          1.0545639820632464,
          1.0000329705767328,
          1.0030667027343796,
          1,
          1,
          1.7976931348623157e+308,
          1.416661163696468,
          1.0064591950958244,
          1.007277114480091,
          1.5211865489219223,
          1.3555277288780203,
          1.2007612037041664,
          1.0073965014378894,
          1,
          1.0309397645013207,
          1.002881399940059,
          1.2605230403118861,
          1,
          1.0270279359256298,
          1.0783177095294851,
          1.023633074522788,
          2.935254601097435,
          1.2917386783739233,
          1.0331536354732895,
          1.1925134197027696,
          1.1876120010435658,
          1,
          1.003079571761728
         ],
         "yaxis": "y3"
        },
        {
         "marker": {
          "color": [
           0,
           1,
           2,
           3,
           4,
           5,
           6,
           7,
           8,
           9,
           10,
           11,
           12,
           13,
           14,
           15,
           16,
           17,
           18,
           19,
           20,
           21,
           22,
           23,
           24,
           25,
           26,
           27,
           28,
           29,
           30,
           31,
           32,
           33,
           34,
           35,
           36,
           37,
           38,
           39,
           40,
           41,
           42,
           43,
           44,
           45,
           46,
           47,
           48,
           49
          ],
          "colorbar": {
           "title": {
            "text": "Trial"
           },
           "x": 1,
           "xpad": 40
          },
          "colorscale": [
           [
            0,
            "rgb(247,251,255)"
           ],
           [
            0.125,
            "rgb(222,235,247)"
           ],
           [
            0.25,
            "rgb(198,219,239)"
           ],
           [
            0.375,
            "rgb(158,202,225)"
           ],
           [
            0.5,
            "rgb(107,174,214)"
           ],
           [
            0.625,
            "rgb(66,146,198)"
           ],
           [
            0.75,
            "rgb(33,113,181)"
           ],
           [
            0.875,
            "rgb(8,81,156)"
           ],
           [
            1,
            "rgb(8,48,107)"
           ]
          ],
          "line": {
           "color": "Grey",
           "width": 0.5
          },
          "showscale": false
         },
         "mode": "markers",
         "name": "Feasible Trial",
         "showlegend": false,
         "type": "scatter",
         "x": [
          15000,
          3750,
          3750,
          7500,
          15000,
          15000,
          3750,
          3750,
          7500,
          3750,
          7500,
          7500,
          3750,
          3750,
          7500,
          7500,
          15000,
          3750,
          7500,
          7500,
          15000,
          7500,
          3750,
          15000,
          7500,
          3750,
          15000,
          3750,
          15000,
          3750,
          7500,
          7500,
          7500,
          3750,
          3750,
          7500,
          15000,
          15000,
          3750,
          7500,
          7500,
          7500,
          3750,
          7500,
          7500,
          3750,
          7500,
          15000,
          15000,
          15000
         ],
         "xaxis": "x4",
         "y": [
          1.2863161135729677,
          1.027435474263356,
          1.1969214509228467,
          1.0807682800596285,
          1.415033622119244,
          1.3264488992413344,
          1.3927914730283129,
          1.0140417391023338,
          1.000381003095774,
          1.0001757881943298,
          1.2473981815233675,
          1.014306164419062,
          1.4478600549443554,
          1.0017920583849802,
          1.042958288537168,
          1.003079571761728,
          1.0816211973570828,
          1.210495900186597,
          1,
          1,
          1,
          1.019573218221974,
          1.0545639820632464,
          1.0000329705767328,
          1.0030667027343796,
          1,
          1,
          1.7976931348623157e+308,
          1.416661163696468,
          1.0064591950958244,
          1.007277114480091,
          1.5211865489219223,
          1.3555277288780203,
          1.2007612037041664,
          1.0073965014378894,
          1,
          1.0309397645013207,
          1.002881399940059,
          1.2605230403118861,
          1,
          1.0270279359256298,
          1.0783177095294851,
          1.023633074522788,
          2.935254601097435,
          1.2917386783739233,
          1.0331536354732895,
          1.1925134197027696,
          1.1876120010435658,
          1,
          1.003079571761728
         ],
         "yaxis": "y4"
        },
        {
         "marker": {
          "color": [
           0,
           1,
           2,
           3,
           4,
           5,
           6,
           7,
           8,
           9,
           10,
           11,
           12,
           13,
           14,
           15,
           16,
           17,
           18,
           19,
           20,
           21,
           22,
           23,
           24,
           25,
           26,
           27,
           28,
           29,
           30,
           31,
           32,
           33,
           34,
           35,
           36,
           37,
           38,
           39,
           40,
           41,
           42,
           43,
           44,
           45,
           46,
           47,
           48,
           49
          ],
          "colorbar": {
           "title": {
            "text": "Trial"
           },
           "x": 1,
           "xpad": 40
          },
          "colorscale": [
           [
            0,
            "rgb(247,251,255)"
           ],
           [
            0.125,
            "rgb(222,235,247)"
           ],
           [
            0.25,
            "rgb(198,219,239)"
           ],
           [
            0.375,
            "rgb(158,202,225)"
           ],
           [
            0.5,
            "rgb(107,174,214)"
           ],
           [
            0.625,
            "rgb(66,146,198)"
           ],
           [
            0.75,
            "rgb(33,113,181)"
           ],
           [
            0.875,
            "rgb(8,81,156)"
           ],
           [
            1,
            "rgb(8,48,107)"
           ]
          ],
          "line": {
           "color": "Grey",
           "width": 0.5
          },
          "showscale": false
         },
         "mode": "markers",
         "name": "Feasible Trial",
         "showlegend": false,
         "type": "scatter",
         "x": [
          2456,
          1288,
          1871,
          2770,
          2439,
          2114,
          1925,
          3102,
          3758,
          3229,
          2574,
          3824,
          2782,
          4989,
          3293,
          2438,
          3945,
          3440,
          4570,
          3981,
          4615,
          4865,
          2397,
          4428,
          3327,
          4787,
          3695,
          1013,
          1243,
          3629,
          1360,
          2266,
          1971,
          2623,
          3953,
          4372,
          2657,
          3370,
          2572,
          3748,
          4631,
          3009,
          2561,
          1349,
          2117,
          2077,
          3276,
          2891,
          3438,
          3182
         ],
         "xaxis": "x5",
         "y": [
          1.2863161135729677,
          1.027435474263356,
          1.1969214509228467,
          1.0807682800596285,
          1.415033622119244,
          1.3264488992413344,
          1.3927914730283129,
          1.0140417391023338,
          1.000381003095774,
          1.0001757881943298,
          1.2473981815233675,
          1.014306164419062,
          1.4478600549443554,
          1.0017920583849802,
          1.042958288537168,
          1.003079571761728,
          1.0816211973570828,
          1.210495900186597,
          1,
          1,
          1,
          1.019573218221974,
          1.0545639820632464,
          1.0000329705767328,
          1.0030667027343796,
          1,
          1,
          1.7976931348623157e+308,
          1.416661163696468,
          1.0064591950958244,
          1.007277114480091,
          1.5211865489219223,
          1.3555277288780203,
          1.2007612037041664,
          1.0073965014378894,
          1,
          1.0309397645013207,
          1.002881399940059,
          1.2605230403118861,
          1,
          1.0270279359256298,
          1.0783177095294851,
          1.023633074522788,
          2.935254601097435,
          1.2917386783739233,
          1.0331536354732895,
          1.1925134197027696,
          1.1876120010435658,
          1,
          1.003079571761728
         ],
         "yaxis": "y5"
        }
       ],
       "layout": {
        "template": {
         "data": {
          "bar": [
           {
            "error_x": {
             "color": "#2a3f5f"
            },
            "error_y": {
             "color": "#2a3f5f"
            },
            "marker": {
             "line": {
              "color": "#E5ECF6",
              "width": 0.5
             },
             "pattern": {
              "fillmode": "overlay",
              "size": 10,
              "solidity": 0.2
             }
            },
            "type": "bar"
           }
          ],
          "barpolar": [
           {
            "marker": {
             "line": {
              "color": "#E5ECF6",
              "width": 0.5
             },
             "pattern": {
              "fillmode": "overlay",
              "size": 10,
              "solidity": 0.2
             }
            },
            "type": "barpolar"
           }
          ],
          "carpet": [
           {
            "aaxis": {
             "endlinecolor": "#2a3f5f",
             "gridcolor": "white",
             "linecolor": "white",
             "minorgridcolor": "white",
             "startlinecolor": "#2a3f5f"
            },
            "baxis": {
             "endlinecolor": "#2a3f5f",
             "gridcolor": "white",
             "linecolor": "white",
             "minorgridcolor": "white",
             "startlinecolor": "#2a3f5f"
            },
            "type": "carpet"
           }
          ],
          "choropleth": [
           {
            "colorbar": {
             "outlinewidth": 0,
             "ticks": ""
            },
            "type": "choropleth"
           }
          ],
          "contour": [
           {
            "colorbar": {
             "outlinewidth": 0,
             "ticks": ""
            },
            "colorscale": [
             [
              0,
              "#0d0887"
             ],
             [
              0.1111111111111111,
              "#46039f"
             ],
             [
              0.2222222222222222,
              "#7201a8"
             ],
             [
              0.3333333333333333,
              "#9c179e"
             ],
             [
              0.4444444444444444,
              "#bd3786"
             ],
             [
              0.5555555555555556,
              "#d8576b"
             ],
             [
              0.6666666666666666,
              "#ed7953"
             ],
             [
              0.7777777777777778,
              "#fb9f3a"
             ],
             [
              0.8888888888888888,
              "#fdca26"
             ],
             [
              1,
              "#f0f921"
             ]
            ],
            "type": "contour"
           }
          ],
          "contourcarpet": [
           {
            "colorbar": {
             "outlinewidth": 0,
             "ticks": ""
            },
            "type": "contourcarpet"
           }
          ],
          "heatmap": [
           {
            "colorbar": {
             "outlinewidth": 0,
             "ticks": ""
            },
            "colorscale": [
             [
              0,
              "#0d0887"
             ],
             [
              0.1111111111111111,
              "#46039f"
             ],
             [
              0.2222222222222222,
              "#7201a8"
             ],
             [
              0.3333333333333333,
              "#9c179e"
             ],
             [
              0.4444444444444444,
              "#bd3786"
             ],
             [
              0.5555555555555556,
              "#d8576b"
             ],
             [
              0.6666666666666666,
              "#ed7953"
             ],
             [
              0.7777777777777778,
              "#fb9f3a"
             ],
             [
              0.8888888888888888,
              "#fdca26"
             ],
             [
              1,
              "#f0f921"
             ]
            ],
            "type": "heatmap"
           }
          ],
          "heatmapgl": [
           {
            "colorbar": {
             "outlinewidth": 0,
             "ticks": ""
            },
            "colorscale": [
             [
              0,
              "#0d0887"
             ],
             [
              0.1111111111111111,
              "#46039f"
             ],
             [
              0.2222222222222222,
              "#7201a8"
             ],
             [
              0.3333333333333333,
              "#9c179e"
             ],
             [
              0.4444444444444444,
              "#bd3786"
             ],
             [
              0.5555555555555556,
              "#d8576b"
             ],
             [
              0.6666666666666666,
              "#ed7953"
             ],
             [
              0.7777777777777778,
              "#fb9f3a"
             ],
             [
              0.8888888888888888,
              "#fdca26"
             ],
             [
              1,
              "#f0f921"
             ]
            ],
            "type": "heatmapgl"
           }
          ],
          "histogram": [
           {
            "marker": {
             "pattern": {
              "fillmode": "overlay",
              "size": 10,
              "solidity": 0.2
             }
            },
            "type": "histogram"
           }
          ],
          "histogram2d": [
           {
            "colorbar": {
             "outlinewidth": 0,
             "ticks": ""
            },
            "colorscale": [
             [
              0,
              "#0d0887"
             ],
             [
              0.1111111111111111,
              "#46039f"
             ],
             [
              0.2222222222222222,
              "#7201a8"
             ],
             [
              0.3333333333333333,
              "#9c179e"
             ],
             [
              0.4444444444444444,
              "#bd3786"
             ],
             [
              0.5555555555555556,
              "#d8576b"
             ],
             [
              0.6666666666666666,
              "#ed7953"
             ],
             [
              0.7777777777777778,
              "#fb9f3a"
             ],
             [
              0.8888888888888888,
              "#fdca26"
             ],
             [
              1,
              "#f0f921"
             ]
            ],
            "type": "histogram2d"
           }
          ],
          "histogram2dcontour": [
           {
            "colorbar": {
             "outlinewidth": 0,
             "ticks": ""
            },
            "colorscale": [
             [
              0,
              "#0d0887"
             ],
             [
              0.1111111111111111,
              "#46039f"
             ],
             [
              0.2222222222222222,
              "#7201a8"
             ],
             [
              0.3333333333333333,
              "#9c179e"
             ],
             [
              0.4444444444444444,
              "#bd3786"
             ],
             [
              0.5555555555555556,
              "#d8576b"
             ],
             [
              0.6666666666666666,
              "#ed7953"
             ],
             [
              0.7777777777777778,
              "#fb9f3a"
             ],
             [
              0.8888888888888888,
              "#fdca26"
             ],
             [
              1,
              "#f0f921"
             ]
            ],
            "type": "histogram2dcontour"
           }
          ],
          "mesh3d": [
           {
            "colorbar": {
             "outlinewidth": 0,
             "ticks": ""
            },
            "type": "mesh3d"
           }
          ],
          "parcoords": [
           {
            "line": {
             "colorbar": {
              "outlinewidth": 0,
              "ticks": ""
             }
            },
            "type": "parcoords"
           }
          ],
          "pie": [
           {
            "automargin": true,
            "type": "pie"
           }
          ],
          "scatter": [
           {
            "fillpattern": {
             "fillmode": "overlay",
             "size": 10,
             "solidity": 0.2
            },
            "type": "scatter"
           }
          ],
          "scatter3d": [
           {
            "line": {
             "colorbar": {
              "outlinewidth": 0,
              "ticks": ""
             }
            },
            "marker": {
             "colorbar": {
              "outlinewidth": 0,
              "ticks": ""
             }
            },
            "type": "scatter3d"
           }
          ],
          "scattercarpet": [
           {
            "marker": {
             "colorbar": {
              "outlinewidth": 0,
              "ticks": ""
             }
            },
            "type": "scattercarpet"
           }
          ],
          "scattergeo": [
           {
            "marker": {
             "colorbar": {
              "outlinewidth": 0,
              "ticks": ""
             }
            },
            "type": "scattergeo"
           }
          ],
          "scattergl": [
           {
            "marker": {
             "colorbar": {
              "outlinewidth": 0,
              "ticks": ""
             }
            },
            "type": "scattergl"
           }
          ],
          "scattermapbox": [
           {
            "marker": {
             "colorbar": {
              "outlinewidth": 0,
              "ticks": ""
             }
            },
            "type": "scattermapbox"
           }
          ],
          "scatterpolar": [
           {
            "marker": {
             "colorbar": {
              "outlinewidth": 0,
              "ticks": ""
             }
            },
            "type": "scatterpolar"
           }
          ],
          "scatterpolargl": [
           {
            "marker": {
             "colorbar": {
              "outlinewidth": 0,
              "ticks": ""
             }
            },
            "type": "scatterpolargl"
           }
          ],
          "scatterternary": [
           {
            "marker": {
             "colorbar": {
              "outlinewidth": 0,
              "ticks": ""
             }
            },
            "type": "scatterternary"
           }
          ],
          "surface": [
           {
            "colorbar": {
             "outlinewidth": 0,
             "ticks": ""
            },
            "colorscale": [
             [
              0,
              "#0d0887"
             ],
             [
              0.1111111111111111,
              "#46039f"
             ],
             [
              0.2222222222222222,
              "#7201a8"
             ],
             [
              0.3333333333333333,
              "#9c179e"
             ],
             [
              0.4444444444444444,
              "#bd3786"
             ],
             [
              0.5555555555555556,
              "#d8576b"
             ],
             [
              0.6666666666666666,
              "#ed7953"
             ],
             [
              0.7777777777777778,
              "#fb9f3a"
             ],
             [
              0.8888888888888888,
              "#fdca26"
             ],
             [
              1,
              "#f0f921"
             ]
            ],
            "type": "surface"
           }
          ],
          "table": [
           {
            "cells": {
             "fill": {
              "color": "#EBF0F8"
             },
             "line": {
              "color": "white"
             }
            },
            "header": {
             "fill": {
              "color": "#C8D4E3"
             },
             "line": {
              "color": "white"
             }
            },
            "type": "table"
           }
          ]
         },
         "layout": {
          "annotationdefaults": {
           "arrowcolor": "#2a3f5f",
           "arrowhead": 0,
           "arrowwidth": 1
          },
          "autotypenumbers": "strict",
          "coloraxis": {
           "colorbar": {
            "outlinewidth": 0,
            "ticks": ""
           }
          },
          "colorscale": {
           "diverging": [
            [
             0,
             "#8e0152"
            ],
            [
             0.1,
             "#c51b7d"
            ],
            [
             0.2,
             "#de77ae"
            ],
            [
             0.3,
             "#f1b6da"
            ],
            [
             0.4,
             "#fde0ef"
            ],
            [
             0.5,
             "#f7f7f7"
            ],
            [
             0.6,
             "#e6f5d0"
            ],
            [
             0.7,
             "#b8e186"
            ],
            [
             0.8,
             "#7fbc41"
            ],
            [
             0.9,
             "#4d9221"
            ],
            [
             1,
             "#276419"
            ]
           ],
           "sequential": [
            [
             0,
             "#0d0887"
            ],
            [
             0.1111111111111111,
             "#46039f"
            ],
            [
             0.2222222222222222,
             "#7201a8"
            ],
            [
             0.3333333333333333,
             "#9c179e"
            ],
            [
             0.4444444444444444,
             "#bd3786"
            ],
            [
             0.5555555555555556,
             "#d8576b"
            ],
            [
             0.6666666666666666,
             "#ed7953"
            ],
            [
             0.7777777777777778,
             "#fb9f3a"
            ],
            [
             0.8888888888888888,
             "#fdca26"
            ],
            [
             1,
             "#f0f921"
            ]
           ],
           "sequentialminus": [
            [
             0,
             "#0d0887"
            ],
            [
             0.1111111111111111,
             "#46039f"
            ],
            [
             0.2222222222222222,
             "#7201a8"
            ],
            [
             0.3333333333333333,
             "#9c179e"
            ],
            [
             0.4444444444444444,
             "#bd3786"
            ],
            [
             0.5555555555555556,
             "#d8576b"
            ],
            [
             0.6666666666666666,
             "#ed7953"
            ],
            [
             0.7777777777777778,
             "#fb9f3a"
            ],
            [
             0.8888888888888888,
             "#fdca26"
            ],
            [
             1,
             "#f0f921"
            ]
           ]
          },
          "colorway": [
           "#636efa",
           "#EF553B",
           "#00cc96",
           "#ab63fa",
           "#FFA15A",
           "#19d3f3",
           "#FF6692",
           "#B6E880",
           "#FF97FF",
           "#FECB52"
          ],
          "font": {
           "color": "#2a3f5f"
          },
          "geo": {
           "bgcolor": "white",
           "lakecolor": "white",
           "landcolor": "#E5ECF6",
           "showlakes": true,
           "showland": true,
           "subunitcolor": "white"
          },
          "hoverlabel": {
           "align": "left"
          },
          "hovermode": "closest",
          "mapbox": {
           "style": "light"
          },
          "paper_bgcolor": "white",
          "plot_bgcolor": "#E5ECF6",
          "polar": {
           "angularaxis": {
            "gridcolor": "white",
            "linecolor": "white",
            "ticks": ""
           },
           "bgcolor": "#E5ECF6",
           "radialaxis": {
            "gridcolor": "white",
            "linecolor": "white",
            "ticks": ""
           }
          },
          "scene": {
           "xaxis": {
            "backgroundcolor": "#E5ECF6",
            "gridcolor": "white",
            "gridwidth": 2,
            "linecolor": "white",
            "showbackground": true,
            "ticks": "",
            "zerolinecolor": "white"
           },
           "yaxis": {
            "backgroundcolor": "#E5ECF6",
            "gridcolor": "white",
            "gridwidth": 2,
            "linecolor": "white",
            "showbackground": true,
            "ticks": "",
            "zerolinecolor": "white"
           },
           "zaxis": {
            "backgroundcolor": "#E5ECF6",
            "gridcolor": "white",
            "gridwidth": 2,
            "linecolor": "white",
            "showbackground": true,
            "ticks": "",
            "zerolinecolor": "white"
           }
          },
          "shapedefaults": {
           "line": {
            "color": "#2a3f5f"
           }
          },
          "ternary": {
           "aaxis": {
            "gridcolor": "white",
            "linecolor": "white",
            "ticks": ""
           },
           "baxis": {
            "gridcolor": "white",
            "linecolor": "white",
            "ticks": ""
           },
           "bgcolor": "#E5ECF6",
           "caxis": {
            "gridcolor": "white",
            "linecolor": "white",
            "ticks": ""
           }
          },
          "title": {
           "x": 0.05
          },
          "xaxis": {
           "automargin": true,
           "gridcolor": "white",
           "linecolor": "white",
           "ticks": "",
           "title": {
            "standoff": 15
           },
           "zerolinecolor": "white",
           "zerolinewidth": 2
          },
          "yaxis": {
           "automargin": true,
           "gridcolor": "white",
           "linecolor": "white",
           "ticks": "",
           "title": {
            "standoff": 15
           },
           "zerolinecolor": "white",
           "zerolinewidth": 2
          }
         }
        },
        "title": {
         "text": "Slice Plot"
        },
        "width": 1500,
        "xaxis": {
         "anchor": "y",
         "domain": [
          0,
          0.16799999999999998
         ],
         "title": {
          "text": "L"
         }
        },
        "xaxis2": {
         "anchor": "y2",
         "domain": [
          0.208,
          0.376
         ],
         "title": {
          "text": "k"
         }
        },
        "xaxis3": {
         "anchor": "y3",
         "categoryarray": [
          true,
          false
         ],
         "categoryorder": "array",
         "domain": [
          0.416,
          0.584
         ],
         "title": {
          "text": "query_trick"
         },
         "type": "category"
        },
        "xaxis4": {
         "anchor": "y4",
         "categoryarray": [
          3750,
          7500,
          15000
         ],
         "categoryorder": "array",
         "domain": [
          0.624,
          0.792
         ],
         "title": {
          "text": "table_size"
         },
         "type": "category"
        },
        "xaxis5": {
         "anchor": "y5",
         "domain": [
          0.832,
          1
         ],
         "title": {
          "text": "window_size"
         }
        },
        "yaxis": {
         "anchor": "x",
         "domain": [
          0,
          1
         ],
         "title": {
          "text": "maf"
         }
        },
        "yaxis2": {
         "anchor": "x2",
         "domain": [
          0,
          1
         ],
         "matches": "y",
         "showticklabels": false
        },
        "yaxis3": {
         "anchor": "x3",
         "domain": [
          0,
          1
         ],
         "matches": "y",
         "showticklabels": false
        },
        "yaxis4": {
         "anchor": "x4",
         "domain": [
          0,
          1
         ],
         "matches": "y",
         "showticklabels": false
        },
        "yaxis5": {
         "anchor": "x5",
         "domain": [
          0,
          1
         ],
         "matches": "y",
         "showticklabels": false
        }
       }
      }
     },
     "metadata": {},
     "output_type": "display_data"
    }
   ],
   "source": [
    "plot_slice(lsh_study, target = lambda t: t.values[0], target_name = 'maf')"
   ]
  },
  {
   "cell_type": "code",
   "execution_count": 11,
   "metadata": {},
   "outputs": [
    {
     "data": {
      "application/vnd.plotly.v1+json": {
       "config": {
        "plotlyServerURL": "https://plot.ly"
       },
       "data": [
        {
         "marker": {
          "color": [
           0,
           1,
           2,
           3,
           4,
           5,
           6,
           7,
           8,
           9,
           10,
           11,
           12,
           13,
           14,
           15,
           16,
           17,
           18,
           19,
           20,
           21,
           22,
           23,
           24,
           25,
           26,
           27,
           28,
           29,
           30,
           31,
           32,
           33,
           34,
           35,
           36,
           37,
           38,
           39,
           40,
           41,
           42,
           43,
           44,
           45,
           46,
           47,
           48,
           49
          ],
          "colorbar": {
           "title": {
            "text": "Trial"
           },
           "x": 1,
           "xpad": 40
          },
          "colorscale": [
           [
            0,
            "rgb(247,251,255)"
           ],
           [
            0.125,
            "rgb(222,235,247)"
           ],
           [
            0.25,
            "rgb(198,219,239)"
           ],
           [
            0.375,
            "rgb(158,202,225)"
           ],
           [
            0.5,
            "rgb(107,174,214)"
           ],
           [
            0.625,
            "rgb(66,146,198)"
           ],
           [
            0.75,
            "rgb(33,113,181)"
           ],
           [
            0.875,
            "rgb(8,81,156)"
           ],
           [
            1,
            "rgb(8,48,107)"
           ]
          ],
          "line": {
           "color": "Grey",
           "width": 0.5
          },
          "showscale": true
         },
         "mode": "markers",
         "name": "Feasible Trial",
         "showlegend": false,
         "type": "scatter",
         "x": [
          6,
          7,
          3,
          8,
          4,
          9,
          4,
          6,
          3,
          7,
          4,
          10,
          4,
          10,
          9,
          6,
          2,
          2,
          10,
          9,
          10,
          5,
          6,
          9,
          5,
          8,
          10,
          8,
          8,
          9,
          9,
          5,
          8,
          7,
          10,
          10,
          10,
          5,
          3,
          10,
          5,
          6,
          7,
          2,
          10,
          8,
          5,
          2,
          9,
          4
         ],
         "xaxis": "x",
         "y": [
          0.004823560000000001,
          0.07817652000000001,
          0.01123237,
          0.02115718,
          0.003524680000000001,
          0.0051971299999999995,
          0.0041317199999999984,
          0.11600840000000001,
          0.20442788000000003,
          0.13929892000000002,
          0.009634479999999996,
          0.05221652000000002,
          0.0030970000000000004,
          0.07380007999999999,
          0.03975905,
          0.1325692,
          0.04219778,
          0.016965679999999993,
          0.13765656999999992,
          0.23862968999999995,
          0.7818453800000001,
          0.12813682,
          0.07328077999999998,
          0.07704273000000002,
          0.12566375999999996,
          0.14539111,
          0.5546035499999998,
          0.0008337900000000004,
          0.0042783299999999995,
          0.061548800000000015,
          0.11915658000000001,
          0.0020627600000000003,
          0.00205341,
          0.0072292400000000005,
          0.08648003000000001,
          0.3832070400000001,
          0.03882437999999999,
          0.12858413999999999,
          0.010172499999999996,
          0.44205214000000004,
          0.05520693000000002,
          0.06931662999999999,
          0.09210412000000004,
          0.0003108499999999999,
          0.00499493,
          0.038455869999999975,
          0.006491320000000002,
          0.033358160000000005,
          0.22487005000000007,
          0.14983422000000002
         ],
         "yaxis": "y"
        },
        {
         "marker": {
          "color": [
           0,
           1,
           2,
           3,
           4,
           5,
           6,
           7,
           8,
           9,
           10,
           11,
           12,
           13,
           14,
           15,
           16,
           17,
           18,
           19,
           20,
           21,
           22,
           23,
           24,
           25,
           26,
           27,
           28,
           29,
           30,
           31,
           32,
           33,
           34,
           35,
           36,
           37,
           38,
           39,
           40,
           41,
           42,
           43,
           44,
           45,
           46,
           47,
           48,
           49
          ],
          "colorbar": {
           "title": {
            "text": "Trial"
           },
           "x": 1,
           "xpad": 40
          },
          "colorscale": [
           [
            0,
            "rgb(247,251,255)"
           ],
           [
            0.125,
            "rgb(222,235,247)"
           ],
           [
            0.25,
            "rgb(198,219,239)"
           ],
           [
            0.375,
            "rgb(158,202,225)"
           ],
           [
            0.5,
            "rgb(107,174,214)"
           ],
           [
            0.625,
            "rgb(66,146,198)"
           ],
           [
            0.75,
            "rgb(33,113,181)"
           ],
           [
            0.875,
            "rgb(8,81,156)"
           ],
           [
            1,
            "rgb(8,48,107)"
           ]
          ],
          "line": {
           "color": "Grey",
           "width": 0.5
          },
          "showscale": false
         },
         "mode": "markers",
         "name": "Feasible Trial",
         "showlegend": false,
         "type": "scatter",
         "x": [
          9,
          2,
          4,
          8,
          9,
          8,
          6,
          4,
          2,
          4,
          8,
          8,
          10,
          10,
          8,
          3,
          5,
          8,
          8,
          5,
          2,
          7,
          4,
          10,
          4,
          8,
          2,
          8,
          5,
          7,
          2,
          10,
          10,
          10,
          8,
          4,
          7,
          4,
          6,
          3,
          10,
          7,
          4,
          9,
          9,
          5,
          10,
          5,
          5,
          3
         ],
         "xaxis": "x2",
         "y": [
          0.004823560000000001,
          0.07817652000000001,
          0.01123237,
          0.02115718,
          0.003524680000000001,
          0.0051971299999999995,
          0.0041317199999999984,
          0.11600840000000001,
          0.20442788000000003,
          0.13929892000000002,
          0.009634479999999996,
          0.05221652000000002,
          0.0030970000000000004,
          0.07380007999999999,
          0.03975905,
          0.1325692,
          0.04219778,
          0.016965679999999993,
          0.13765656999999992,
          0.23862968999999995,
          0.7818453800000001,
          0.12813682,
          0.07328077999999998,
          0.07704273000000002,
          0.12566375999999996,
          0.14539111,
          0.5546035499999998,
          0.0008337900000000004,
          0.0042783299999999995,
          0.061548800000000015,
          0.11915658000000001,
          0.0020627600000000003,
          0.00205341,
          0.0072292400000000005,
          0.08648003000000001,
          0.3832070400000001,
          0.03882437999999999,
          0.12858413999999999,
          0.010172499999999996,
          0.44205214000000004,
          0.05520693000000002,
          0.06931662999999999,
          0.09210412000000004,
          0.0003108499999999999,
          0.00499493,
          0.038455869999999975,
          0.006491320000000002,
          0.033358160000000005,
          0.22487005000000007,
          0.14983422000000002
         ],
         "yaxis": "y2"
        },
        {
         "marker": {
          "color": [
           0,
           1,
           2,
           3,
           4,
           5,
           6,
           7,
           8,
           9,
           10,
           11,
           12,
           13,
           14,
           15,
           16,
           17,
           18,
           19,
           20,
           21,
           22,
           23,
           24,
           25,
           26,
           27,
           28,
           29,
           30,
           31,
           32,
           33,
           34,
           35,
           36,
           37,
           38,
           39,
           40,
           41,
           42,
           43,
           44,
           45,
           46,
           47,
           48,
           49
          ],
          "colorbar": {
           "title": {
            "text": "Trial"
           },
           "x": 1,
           "xpad": 40
          },
          "colorscale": [
           [
            0,
            "rgb(247,251,255)"
           ],
           [
            0.125,
            "rgb(222,235,247)"
           ],
           [
            0.25,
            "rgb(198,219,239)"
           ],
           [
            0.375,
            "rgb(158,202,225)"
           ],
           [
            0.5,
            "rgb(107,174,214)"
           ],
           [
            0.625,
            "rgb(66,146,198)"
           ],
           [
            0.75,
            "rgb(33,113,181)"
           ],
           [
            0.875,
            "rgb(8,81,156)"
           ],
           [
            1,
            "rgb(8,48,107)"
           ]
          ],
          "line": {
           "color": "Grey",
           "width": 0.5
          },
          "showscale": false
         },
         "mode": "markers",
         "name": "Feasible Trial",
         "showlegend": false,
         "type": "scatter",
         "x": [
          true,
          false,
          false,
          true,
          false,
          true,
          true,
          true,
          true,
          false,
          true,
          true,
          true,
          false,
          false,
          false,
          false,
          true,
          true,
          true,
          false,
          true,
          true,
          false,
          true,
          true,
          true,
          true,
          false,
          false,
          false,
          false,
          true,
          true,
          false,
          false,
          false,
          false,
          true,
          true,
          false,
          true,
          true,
          false,
          false,
          false,
          true,
          true,
          false,
          true
         ],
         "xaxis": "x3",
         "y": [
          0.004823560000000001,
          0.07817652000000001,
          0.01123237,
          0.02115718,
          0.003524680000000001,
          0.0051971299999999995,
          0.0041317199999999984,
          0.11600840000000001,
          0.20442788000000003,
          0.13929892000000002,
          0.009634479999999996,
          0.05221652000000002,
          0.0030970000000000004,
          0.07380007999999999,
          0.03975905,
          0.1325692,
          0.04219778,
          0.016965679999999993,
          0.13765656999999992,
          0.23862968999999995,
          0.7818453800000001,
          0.12813682,
          0.07328077999999998,
          0.07704273000000002,
          0.12566375999999996,
          0.14539111,
          0.5546035499999998,
          0.0008337900000000004,
          0.0042783299999999995,
          0.061548800000000015,
          0.11915658000000001,
          0.0020627600000000003,
          0.00205341,
          0.0072292400000000005,
          0.08648003000000001,
          0.3832070400000001,
          0.03882437999999999,
          0.12858413999999999,
          0.010172499999999996,
          0.44205214000000004,
          0.05520693000000002,
          0.06931662999999999,
          0.09210412000000004,
          0.0003108499999999999,
          0.00499493,
          0.038455869999999975,
          0.006491320000000002,
          0.033358160000000005,
          0.22487005000000007,
          0.14983422000000002
         ],
         "yaxis": "y3"
        },
        {
         "marker": {
          "color": [
           0,
           1,
           2,
           3,
           4,
           5,
           6,
           7,
           8,
           9,
           10,
           11,
           12,
           13,
           14,
           15,
           16,
           17,
           18,
           19,
           20,
           21,
           22,
           23,
           24,
           25,
           26,
           27,
           28,
           29,
           30,
           31,
           32,
           33,
           34,
           35,
           36,
           37,
           38,
           39,
           40,
           41,
           42,
           43,
           44,
           45,
           46,
           47,
           48,
           49
          ],
          "colorbar": {
           "title": {
            "text": "Trial"
           },
           "x": 1,
           "xpad": 40
          },
          "colorscale": [
           [
            0,
            "rgb(247,251,255)"
           ],
           [
            0.125,
            "rgb(222,235,247)"
           ],
           [
            0.25,
            "rgb(198,219,239)"
           ],
           [
            0.375,
            "rgb(158,202,225)"
           ],
           [
            0.5,
            "rgb(107,174,214)"
           ],
           [
            0.625,
            "rgb(66,146,198)"
           ],
           [
            0.75,
            "rgb(33,113,181)"
           ],
           [
            0.875,
            "rgb(8,81,156)"
           ],
           [
            1,
            "rgb(8,48,107)"
           ]
          ],
          "line": {
           "color": "Grey",
           "width": 0.5
          },
          "showscale": false
         },
         "mode": "markers",
         "name": "Feasible Trial",
         "showlegend": false,
         "type": "scatter",
         "x": [
          15000,
          3750,
          3750,
          7500,
          15000,
          15000,
          3750,
          3750,
          7500,
          3750,
          7500,
          7500,
          3750,
          3750,
          7500,
          7500,
          15000,
          3750,
          7500,
          7500,
          15000,
          7500,
          3750,
          15000,
          7500,
          3750,
          15000,
          3750,
          15000,
          3750,
          7500,
          7500,
          7500,
          3750,
          3750,
          7500,
          15000,
          15000,
          3750,
          7500,
          7500,
          7500,
          3750,
          7500,
          7500,
          3750,
          7500,
          15000,
          15000,
          15000
         ],
         "xaxis": "x4",
         "y": [
          0.004823560000000001,
          0.07817652000000001,
          0.01123237,
          0.02115718,
          0.003524680000000001,
          0.0051971299999999995,
          0.0041317199999999984,
          0.11600840000000001,
          0.20442788000000003,
          0.13929892000000002,
          0.009634479999999996,
          0.05221652000000002,
          0.0030970000000000004,
          0.07380007999999999,
          0.03975905,
          0.1325692,
          0.04219778,
          0.016965679999999993,
          0.13765656999999992,
          0.23862968999999995,
          0.7818453800000001,
          0.12813682,
          0.07328077999999998,
          0.07704273000000002,
          0.12566375999999996,
          0.14539111,
          0.5546035499999998,
          0.0008337900000000004,
          0.0042783299999999995,
          0.061548800000000015,
          0.11915658000000001,
          0.0020627600000000003,
          0.00205341,
          0.0072292400000000005,
          0.08648003000000001,
          0.3832070400000001,
          0.03882437999999999,
          0.12858413999999999,
          0.010172499999999996,
          0.44205214000000004,
          0.05520693000000002,
          0.06931662999999999,
          0.09210412000000004,
          0.0003108499999999999,
          0.00499493,
          0.038455869999999975,
          0.006491320000000002,
          0.033358160000000005,
          0.22487005000000007,
          0.14983422000000002
         ],
         "yaxis": "y4"
        },
        {
         "marker": {
          "color": [
           0,
           1,
           2,
           3,
           4,
           5,
           6,
           7,
           8,
           9,
           10,
           11,
           12,
           13,
           14,
           15,
           16,
           17,
           18,
           19,
           20,
           21,
           22,
           23,
           24,
           25,
           26,
           27,
           28,
           29,
           30,
           31,
           32,
           33,
           34,
           35,
           36,
           37,
           38,
           39,
           40,
           41,
           42,
           43,
           44,
           45,
           46,
           47,
           48,
           49
          ],
          "colorbar": {
           "title": {
            "text": "Trial"
           },
           "x": 1,
           "xpad": 40
          },
          "colorscale": [
           [
            0,
            "rgb(247,251,255)"
           ],
           [
            0.125,
            "rgb(222,235,247)"
           ],
           [
            0.25,
            "rgb(198,219,239)"
           ],
           [
            0.375,
            "rgb(158,202,225)"
           ],
           [
            0.5,
            "rgb(107,174,214)"
           ],
           [
            0.625,
            "rgb(66,146,198)"
           ],
           [
            0.75,
            "rgb(33,113,181)"
           ],
           [
            0.875,
            "rgb(8,81,156)"
           ],
           [
            1,
            "rgb(8,48,107)"
           ]
          ],
          "line": {
           "color": "Grey",
           "width": 0.5
          },
          "showscale": false
         },
         "mode": "markers",
         "name": "Feasible Trial",
         "showlegend": false,
         "type": "scatter",
         "x": [
          2456,
          1288,
          1871,
          2770,
          2439,
          2114,
          1925,
          3102,
          3758,
          3229,
          2574,
          3824,
          2782,
          4989,
          3293,
          2438,
          3945,
          3440,
          4570,
          3981,
          4615,
          4865,
          2397,
          4428,
          3327,
          4787,
          3695,
          1013,
          1243,
          3629,
          1360,
          2266,
          1971,
          2623,
          3953,
          4372,
          2657,
          3370,
          2572,
          3748,
          4631,
          3009,
          2561,
          1349,
          2117,
          2077,
          3276,
          2891,
          3438,
          3182
         ],
         "xaxis": "x5",
         "y": [
          0.004823560000000001,
          0.07817652000000001,
          0.01123237,
          0.02115718,
          0.003524680000000001,
          0.0051971299999999995,
          0.0041317199999999984,
          0.11600840000000001,
          0.20442788000000003,
          0.13929892000000002,
          0.009634479999999996,
          0.05221652000000002,
          0.0030970000000000004,
          0.07380007999999999,
          0.03975905,
          0.1325692,
          0.04219778,
          0.016965679999999993,
          0.13765656999999992,
          0.23862968999999995,
          0.7818453800000001,
          0.12813682,
          0.07328077999999998,
          0.07704273000000002,
          0.12566375999999996,
          0.14539111,
          0.5546035499999998,
          0.0008337900000000004,
          0.0042783299999999995,
          0.061548800000000015,
          0.11915658000000001,
          0.0020627600000000003,
          0.00205341,
          0.0072292400000000005,
          0.08648003000000001,
          0.3832070400000001,
          0.03882437999999999,
          0.12858413999999999,
          0.010172499999999996,
          0.44205214000000004,
          0.05520693000000002,
          0.06931662999999999,
          0.09210412000000004,
          0.0003108499999999999,
          0.00499493,
          0.038455869999999975,
          0.006491320000000002,
          0.033358160000000005,
          0.22487005000000007,
          0.14983422000000002
         ],
         "yaxis": "y5"
        }
       ],
       "layout": {
        "template": {
         "data": {
          "bar": [
           {
            "error_x": {
             "color": "#2a3f5f"
            },
            "error_y": {
             "color": "#2a3f5f"
            },
            "marker": {
             "line": {
              "color": "#E5ECF6",
              "width": 0.5
             },
             "pattern": {
              "fillmode": "overlay",
              "size": 10,
              "solidity": 0.2
             }
            },
            "type": "bar"
           }
          ],
          "barpolar": [
           {
            "marker": {
             "line": {
              "color": "#E5ECF6",
              "width": 0.5
             },
             "pattern": {
              "fillmode": "overlay",
              "size": 10,
              "solidity": 0.2
             }
            },
            "type": "barpolar"
           }
          ],
          "carpet": [
           {
            "aaxis": {
             "endlinecolor": "#2a3f5f",
             "gridcolor": "white",
             "linecolor": "white",
             "minorgridcolor": "white",
             "startlinecolor": "#2a3f5f"
            },
            "baxis": {
             "endlinecolor": "#2a3f5f",
             "gridcolor": "white",
             "linecolor": "white",
             "minorgridcolor": "white",
             "startlinecolor": "#2a3f5f"
            },
            "type": "carpet"
           }
          ],
          "choropleth": [
           {
            "colorbar": {
             "outlinewidth": 0,
             "ticks": ""
            },
            "type": "choropleth"
           }
          ],
          "contour": [
           {
            "colorbar": {
             "outlinewidth": 0,
             "ticks": ""
            },
            "colorscale": [
             [
              0,
              "#0d0887"
             ],
             [
              0.1111111111111111,
              "#46039f"
             ],
             [
              0.2222222222222222,
              "#7201a8"
             ],
             [
              0.3333333333333333,
              "#9c179e"
             ],
             [
              0.4444444444444444,
              "#bd3786"
             ],
             [
              0.5555555555555556,
              "#d8576b"
             ],
             [
              0.6666666666666666,
              "#ed7953"
             ],
             [
              0.7777777777777778,
              "#fb9f3a"
             ],
             [
              0.8888888888888888,
              "#fdca26"
             ],
             [
              1,
              "#f0f921"
             ]
            ],
            "type": "contour"
           }
          ],
          "contourcarpet": [
           {
            "colorbar": {
             "outlinewidth": 0,
             "ticks": ""
            },
            "type": "contourcarpet"
           }
          ],
          "heatmap": [
           {
            "colorbar": {
             "outlinewidth": 0,
             "ticks": ""
            },
            "colorscale": [
             [
              0,
              "#0d0887"
             ],
             [
              0.1111111111111111,
              "#46039f"
             ],
             [
              0.2222222222222222,
              "#7201a8"
             ],
             [
              0.3333333333333333,
              "#9c179e"
             ],
             [
              0.4444444444444444,
              "#bd3786"
             ],
             [
              0.5555555555555556,
              "#d8576b"
             ],
             [
              0.6666666666666666,
              "#ed7953"
             ],
             [
              0.7777777777777778,
              "#fb9f3a"
             ],
             [
              0.8888888888888888,
              "#fdca26"
             ],
             [
              1,
              "#f0f921"
             ]
            ],
            "type": "heatmap"
           }
          ],
          "heatmapgl": [
           {
            "colorbar": {
             "outlinewidth": 0,
             "ticks": ""
            },
            "colorscale": [
             [
              0,
              "#0d0887"
             ],
             [
              0.1111111111111111,
              "#46039f"
             ],
             [
              0.2222222222222222,
              "#7201a8"
             ],
             [
              0.3333333333333333,
              "#9c179e"
             ],
             [
              0.4444444444444444,
              "#bd3786"
             ],
             [
              0.5555555555555556,
              "#d8576b"
             ],
             [
              0.6666666666666666,
              "#ed7953"
             ],
             [
              0.7777777777777778,
              "#fb9f3a"
             ],
             [
              0.8888888888888888,
              "#fdca26"
             ],
             [
              1,
              "#f0f921"
             ]
            ],
            "type": "heatmapgl"
           }
          ],
          "histogram": [
           {
            "marker": {
             "pattern": {
              "fillmode": "overlay",
              "size": 10,
              "solidity": 0.2
             }
            },
            "type": "histogram"
           }
          ],
          "histogram2d": [
           {
            "colorbar": {
             "outlinewidth": 0,
             "ticks": ""
            },
            "colorscale": [
             [
              0,
              "#0d0887"
             ],
             [
              0.1111111111111111,
              "#46039f"
             ],
             [
              0.2222222222222222,
              "#7201a8"
             ],
             [
              0.3333333333333333,
              "#9c179e"
             ],
             [
              0.4444444444444444,
              "#bd3786"
             ],
             [
              0.5555555555555556,
              "#d8576b"
             ],
             [
              0.6666666666666666,
              "#ed7953"
             ],
             [
              0.7777777777777778,
              "#fb9f3a"
             ],
             [
              0.8888888888888888,
              "#fdca26"
             ],
             [
              1,
              "#f0f921"
             ]
            ],
            "type": "histogram2d"
           }
          ],
          "histogram2dcontour": [
           {
            "colorbar": {
             "outlinewidth": 0,
             "ticks": ""
            },
            "colorscale": [
             [
              0,
              "#0d0887"
             ],
             [
              0.1111111111111111,
              "#46039f"
             ],
             [
              0.2222222222222222,
              "#7201a8"
             ],
             [
              0.3333333333333333,
              "#9c179e"
             ],
             [
              0.4444444444444444,
              "#bd3786"
             ],
             [
              0.5555555555555556,
              "#d8576b"
             ],
             [
              0.6666666666666666,
              "#ed7953"
             ],
             [
              0.7777777777777778,
              "#fb9f3a"
             ],
             [
              0.8888888888888888,
              "#fdca26"
             ],
             [
              1,
              "#f0f921"
             ]
            ],
            "type": "histogram2dcontour"
           }
          ],
          "mesh3d": [
           {
            "colorbar": {
             "outlinewidth": 0,
             "ticks": ""
            },
            "type": "mesh3d"
           }
          ],
          "parcoords": [
           {
            "line": {
             "colorbar": {
              "outlinewidth": 0,
              "ticks": ""
             }
            },
            "type": "parcoords"
           }
          ],
          "pie": [
           {
            "automargin": true,
            "type": "pie"
           }
          ],
          "scatter": [
           {
            "fillpattern": {
             "fillmode": "overlay",
             "size": 10,
             "solidity": 0.2
            },
            "type": "scatter"
           }
          ],
          "scatter3d": [
           {
            "line": {
             "colorbar": {
              "outlinewidth": 0,
              "ticks": ""
             }
            },
            "marker": {
             "colorbar": {
              "outlinewidth": 0,
              "ticks": ""
             }
            },
            "type": "scatter3d"
           }
          ],
          "scattercarpet": [
           {
            "marker": {
             "colorbar": {
              "outlinewidth": 0,
              "ticks": ""
             }
            },
            "type": "scattercarpet"
           }
          ],
          "scattergeo": [
           {
            "marker": {
             "colorbar": {
              "outlinewidth": 0,
              "ticks": ""
             }
            },
            "type": "scattergeo"
           }
          ],
          "scattergl": [
           {
            "marker": {
             "colorbar": {
              "outlinewidth": 0,
              "ticks": ""
             }
            },
            "type": "scattergl"
           }
          ],
          "scattermapbox": [
           {
            "marker": {
             "colorbar": {
              "outlinewidth": 0,
              "ticks": ""
             }
            },
            "type": "scattermapbox"
           }
          ],
          "scatterpolar": [
           {
            "marker": {
             "colorbar": {
              "outlinewidth": 0,
              "ticks": ""
             }
            },
            "type": "scatterpolar"
           }
          ],
          "scatterpolargl": [
           {
            "marker": {
             "colorbar": {
              "outlinewidth": 0,
              "ticks": ""
             }
            },
            "type": "scatterpolargl"
           }
          ],
          "scatterternary": [
           {
            "marker": {
             "colorbar": {
              "outlinewidth": 0,
              "ticks": ""
             }
            },
            "type": "scatterternary"
           }
          ],
          "surface": [
           {
            "colorbar": {
             "outlinewidth": 0,
             "ticks": ""
            },
            "colorscale": [
             [
              0,
              "#0d0887"
             ],
             [
              0.1111111111111111,
              "#46039f"
             ],
             [
              0.2222222222222222,
              "#7201a8"
             ],
             [
              0.3333333333333333,
              "#9c179e"
             ],
             [
              0.4444444444444444,
              "#bd3786"
             ],
             [
              0.5555555555555556,
              "#d8576b"
             ],
             [
              0.6666666666666666,
              "#ed7953"
             ],
             [
              0.7777777777777778,
              "#fb9f3a"
             ],
             [
              0.8888888888888888,
              "#fdca26"
             ],
             [
              1,
              "#f0f921"
             ]
            ],
            "type": "surface"
           }
          ],
          "table": [
           {
            "cells": {
             "fill": {
              "color": "#EBF0F8"
             },
             "line": {
              "color": "white"
             }
            },
            "header": {
             "fill": {
              "color": "#C8D4E3"
             },
             "line": {
              "color": "white"
             }
            },
            "type": "table"
           }
          ]
         },
         "layout": {
          "annotationdefaults": {
           "arrowcolor": "#2a3f5f",
           "arrowhead": 0,
           "arrowwidth": 1
          },
          "autotypenumbers": "strict",
          "coloraxis": {
           "colorbar": {
            "outlinewidth": 0,
            "ticks": ""
           }
          },
          "colorscale": {
           "diverging": [
            [
             0,
             "#8e0152"
            ],
            [
             0.1,
             "#c51b7d"
            ],
            [
             0.2,
             "#de77ae"
            ],
            [
             0.3,
             "#f1b6da"
            ],
            [
             0.4,
             "#fde0ef"
            ],
            [
             0.5,
             "#f7f7f7"
            ],
            [
             0.6,
             "#e6f5d0"
            ],
            [
             0.7,
             "#b8e186"
            ],
            [
             0.8,
             "#7fbc41"
            ],
            [
             0.9,
             "#4d9221"
            ],
            [
             1,
             "#276419"
            ]
           ],
           "sequential": [
            [
             0,
             "#0d0887"
            ],
            [
             0.1111111111111111,
             "#46039f"
            ],
            [
             0.2222222222222222,
             "#7201a8"
            ],
            [
             0.3333333333333333,
             "#9c179e"
            ],
            [
             0.4444444444444444,
             "#bd3786"
            ],
            [
             0.5555555555555556,
             "#d8576b"
            ],
            [
             0.6666666666666666,
             "#ed7953"
            ],
            [
             0.7777777777777778,
             "#fb9f3a"
            ],
            [
             0.8888888888888888,
             "#fdca26"
            ],
            [
             1,
             "#f0f921"
            ]
           ],
           "sequentialminus": [
            [
             0,
             "#0d0887"
            ],
            [
             0.1111111111111111,
             "#46039f"
            ],
            [
             0.2222222222222222,
             "#7201a8"
            ],
            [
             0.3333333333333333,
             "#9c179e"
            ],
            [
             0.4444444444444444,
             "#bd3786"
            ],
            [
             0.5555555555555556,
             "#d8576b"
            ],
            [
             0.6666666666666666,
             "#ed7953"
            ],
            [
             0.7777777777777778,
             "#fb9f3a"
            ],
            [
             0.8888888888888888,
             "#fdca26"
            ],
            [
             1,
             "#f0f921"
            ]
           ]
          },
          "colorway": [
           "#636efa",
           "#EF553B",
           "#00cc96",
           "#ab63fa",
           "#FFA15A",
           "#19d3f3",
           "#FF6692",
           "#B6E880",
           "#FF97FF",
           "#FECB52"
          ],
          "font": {
           "color": "#2a3f5f"
          },
          "geo": {
           "bgcolor": "white",
           "lakecolor": "white",
           "landcolor": "#E5ECF6",
           "showlakes": true,
           "showland": true,
           "subunitcolor": "white"
          },
          "hoverlabel": {
           "align": "left"
          },
          "hovermode": "closest",
          "mapbox": {
           "style": "light"
          },
          "paper_bgcolor": "white",
          "plot_bgcolor": "#E5ECF6",
          "polar": {
           "angularaxis": {
            "gridcolor": "white",
            "linecolor": "white",
            "ticks": ""
           },
           "bgcolor": "#E5ECF6",
           "radialaxis": {
            "gridcolor": "white",
            "linecolor": "white",
            "ticks": ""
           }
          },
          "scene": {
           "xaxis": {
            "backgroundcolor": "#E5ECF6",
            "gridcolor": "white",
            "gridwidth": 2,
            "linecolor": "white",
            "showbackground": true,
            "ticks": "",
            "zerolinecolor": "white"
           },
           "yaxis": {
            "backgroundcolor": "#E5ECF6",
            "gridcolor": "white",
            "gridwidth": 2,
            "linecolor": "white",
            "showbackground": true,
            "ticks": "",
            "zerolinecolor": "white"
           },
           "zaxis": {
            "backgroundcolor": "#E5ECF6",
            "gridcolor": "white",
            "gridwidth": 2,
            "linecolor": "white",
            "showbackground": true,
            "ticks": "",
            "zerolinecolor": "white"
           }
          },
          "shapedefaults": {
           "line": {
            "color": "#2a3f5f"
           }
          },
          "ternary": {
           "aaxis": {
            "gridcolor": "white",
            "linecolor": "white",
            "ticks": ""
           },
           "baxis": {
            "gridcolor": "white",
            "linecolor": "white",
            "ticks": ""
           },
           "bgcolor": "#E5ECF6",
           "caxis": {
            "gridcolor": "white",
            "linecolor": "white",
            "ticks": ""
           }
          },
          "title": {
           "x": 0.05
          },
          "xaxis": {
           "automargin": true,
           "gridcolor": "white",
           "linecolor": "white",
           "ticks": "",
           "title": {
            "standoff": 15
           },
           "zerolinecolor": "white",
           "zerolinewidth": 2
          },
          "yaxis": {
           "automargin": true,
           "gridcolor": "white",
           "linecolor": "white",
           "ticks": "",
           "title": {
            "standoff": 15
           },
           "zerolinecolor": "white",
           "zerolinewidth": 2
          }
         }
        },
        "title": {
         "text": "Slice Plot"
        },
        "width": 1500,
        "xaxis": {
         "anchor": "y",
         "domain": [
          0,
          0.16799999999999998
         ],
         "title": {
          "text": "L"
         }
        },
        "xaxis2": {
         "anchor": "y2",
         "domain": [
          0.208,
          0.376
         ],
         "title": {
          "text": "k"
         }
        },
        "xaxis3": {
         "anchor": "y3",
         "categoryarray": [
          true,
          false
         ],
         "categoryorder": "array",
         "domain": [
          0.416,
          0.584
         ],
         "title": {
          "text": "query_trick"
         },
         "type": "category"
        },
        "xaxis4": {
         "anchor": "y4",
         "categoryarray": [
          3750,
          7500,
          15000
         ],
         "categoryorder": "array",
         "domain": [
          0.624,
          0.792
         ],
         "title": {
          "text": "table_size"
         },
         "type": "category"
        },
        "xaxis5": {
         "anchor": "y5",
         "domain": [
          0.832,
          1
         ],
         "title": {
          "text": "window_size"
         }
        },
        "yaxis": {
         "anchor": "x",
         "domain": [
          0,
          1
         ],
         "title": {
          "text": "average_time"
         }
        },
        "yaxis2": {
         "anchor": "x2",
         "domain": [
          0,
          1
         ],
         "matches": "y",
         "showticklabels": false
        },
        "yaxis3": {
         "anchor": "x3",
         "domain": [
          0,
          1
         ],
         "matches": "y",
         "showticklabels": false
        },
        "yaxis4": {
         "anchor": "x4",
         "domain": [
          0,
          1
         ],
         "matches": "y",
         "showticklabels": false
        },
        "yaxis5": {
         "anchor": "x5",
         "domain": [
          0,
          1
         ],
         "matches": "y",
         "showticklabels": false
        }
       }
      }
     },
     "metadata": {},
     "output_type": "display_data"
    }
   ],
   "source": [
    "plot_slice(lsh_study, target = lambda t: t.values[1], target_name = 'average_time')"
   ]
  },
  {
   "cell_type": "code",
   "execution_count": 12,
   "metadata": {},
   "outputs": [
    {
     "data": {
      "application/vnd.plotly.v1+json": {
       "config": {
        "plotlyServerURL": "https://plot.ly"
       },
       "data": [
        {
         "mode": "markers",
         "name": "min_neighbors",
         "type": "scatter",
         "x": [
          0,
          1,
          2,
          3,
          4,
          5,
          6,
          7,
          8,
          9,
          10,
          11,
          12,
          13,
          14,
          15,
          16,
          17,
          18,
          19,
          20,
          21,
          22,
          23,
          24,
          25,
          26,
          27,
          28,
          29,
          30,
          31,
          32,
          33,
          34,
          35,
          36,
          37,
          38,
          39,
          40,
          41,
          42,
          43,
          44,
          45,
          46,
          47,
          48,
          49
         ],
         "y": [
          50,
          50,
          50,
          50,
          18,
          50,
          50,
          50,
          50,
          50,
          50,
          50,
          14,
          50,
          50,
          50,
          50,
          50,
          50,
          50,
          50,
          50,
          50,
          50,
          50,
          50,
          50,
          0,
          50,
          50,
          50,
          21,
          17,
          50,
          50,
          50,
          50,
          50,
          50,
          50,
          50,
          50,
          50,
          1,
          50,
          50,
          50,
          50,
          50,
          50
         ]
        },
        {
         "marker": {
          "color": "#cccccc"
         },
         "mode": "markers",
         "name": "Infeasible Trial",
         "showlegend": false,
         "type": "scatter",
         "x": [],
         "y": []
        }
       ],
       "layout": {
        "template": {
         "data": {
          "bar": [
           {
            "error_x": {
             "color": "#2a3f5f"
            },
            "error_y": {
             "color": "#2a3f5f"
            },
            "marker": {
             "line": {
              "color": "#E5ECF6",
              "width": 0.5
             },
             "pattern": {
              "fillmode": "overlay",
              "size": 10,
              "solidity": 0.2
             }
            },
            "type": "bar"
           }
          ],
          "barpolar": [
           {
            "marker": {
             "line": {
              "color": "#E5ECF6",
              "width": 0.5
             },
             "pattern": {
              "fillmode": "overlay",
              "size": 10,
              "solidity": 0.2
             }
            },
            "type": "barpolar"
           }
          ],
          "carpet": [
           {
            "aaxis": {
             "endlinecolor": "#2a3f5f",
             "gridcolor": "white",
             "linecolor": "white",
             "minorgridcolor": "white",
             "startlinecolor": "#2a3f5f"
            },
            "baxis": {
             "endlinecolor": "#2a3f5f",
             "gridcolor": "white",
             "linecolor": "white",
             "minorgridcolor": "white",
             "startlinecolor": "#2a3f5f"
            },
            "type": "carpet"
           }
          ],
          "choropleth": [
           {
            "colorbar": {
             "outlinewidth": 0,
             "ticks": ""
            },
            "type": "choropleth"
           }
          ],
          "contour": [
           {
            "colorbar": {
             "outlinewidth": 0,
             "ticks": ""
            },
            "colorscale": [
             [
              0,
              "#0d0887"
             ],
             [
              0.1111111111111111,
              "#46039f"
             ],
             [
              0.2222222222222222,
              "#7201a8"
             ],
             [
              0.3333333333333333,
              "#9c179e"
             ],
             [
              0.4444444444444444,
              "#bd3786"
             ],
             [
              0.5555555555555556,
              "#d8576b"
             ],
             [
              0.6666666666666666,
              "#ed7953"
             ],
             [
              0.7777777777777778,
              "#fb9f3a"
             ],
             [
              0.8888888888888888,
              "#fdca26"
             ],
             [
              1,
              "#f0f921"
             ]
            ],
            "type": "contour"
           }
          ],
          "contourcarpet": [
           {
            "colorbar": {
             "outlinewidth": 0,
             "ticks": ""
            },
            "type": "contourcarpet"
           }
          ],
          "heatmap": [
           {
            "colorbar": {
             "outlinewidth": 0,
             "ticks": ""
            },
            "colorscale": [
             [
              0,
              "#0d0887"
             ],
             [
              0.1111111111111111,
              "#46039f"
             ],
             [
              0.2222222222222222,
              "#7201a8"
             ],
             [
              0.3333333333333333,
              "#9c179e"
             ],
             [
              0.4444444444444444,
              "#bd3786"
             ],
             [
              0.5555555555555556,
              "#d8576b"
             ],
             [
              0.6666666666666666,
              "#ed7953"
             ],
             [
              0.7777777777777778,
              "#fb9f3a"
             ],
             [
              0.8888888888888888,
              "#fdca26"
             ],
             [
              1,
              "#f0f921"
             ]
            ],
            "type": "heatmap"
           }
          ],
          "heatmapgl": [
           {
            "colorbar": {
             "outlinewidth": 0,
             "ticks": ""
            },
            "colorscale": [
             [
              0,
              "#0d0887"
             ],
             [
              0.1111111111111111,
              "#46039f"
             ],
             [
              0.2222222222222222,
              "#7201a8"
             ],
             [
              0.3333333333333333,
              "#9c179e"
             ],
             [
              0.4444444444444444,
              "#bd3786"
             ],
             [
              0.5555555555555556,
              "#d8576b"
             ],
             [
              0.6666666666666666,
              "#ed7953"
             ],
             [
              0.7777777777777778,
              "#fb9f3a"
             ],
             [
              0.8888888888888888,
              "#fdca26"
             ],
             [
              1,
              "#f0f921"
             ]
            ],
            "type": "heatmapgl"
           }
          ],
          "histogram": [
           {
            "marker": {
             "pattern": {
              "fillmode": "overlay",
              "size": 10,
              "solidity": 0.2
             }
            },
            "type": "histogram"
           }
          ],
          "histogram2d": [
           {
            "colorbar": {
             "outlinewidth": 0,
             "ticks": ""
            },
            "colorscale": [
             [
              0,
              "#0d0887"
             ],
             [
              0.1111111111111111,
              "#46039f"
             ],
             [
              0.2222222222222222,
              "#7201a8"
             ],
             [
              0.3333333333333333,
              "#9c179e"
             ],
             [
              0.4444444444444444,
              "#bd3786"
             ],
             [
              0.5555555555555556,
              "#d8576b"
             ],
             [
              0.6666666666666666,
              "#ed7953"
             ],
             [
              0.7777777777777778,
              "#fb9f3a"
             ],
             [
              0.8888888888888888,
              "#fdca26"
             ],
             [
              1,
              "#f0f921"
             ]
            ],
            "type": "histogram2d"
           }
          ],
          "histogram2dcontour": [
           {
            "colorbar": {
             "outlinewidth": 0,
             "ticks": ""
            },
            "colorscale": [
             [
              0,
              "#0d0887"
             ],
             [
              0.1111111111111111,
              "#46039f"
             ],
             [
              0.2222222222222222,
              "#7201a8"
             ],
             [
              0.3333333333333333,
              "#9c179e"
             ],
             [
              0.4444444444444444,
              "#bd3786"
             ],
             [
              0.5555555555555556,
              "#d8576b"
             ],
             [
              0.6666666666666666,
              "#ed7953"
             ],
             [
              0.7777777777777778,
              "#fb9f3a"
             ],
             [
              0.8888888888888888,
              "#fdca26"
             ],
             [
              1,
              "#f0f921"
             ]
            ],
            "type": "histogram2dcontour"
           }
          ],
          "mesh3d": [
           {
            "colorbar": {
             "outlinewidth": 0,
             "ticks": ""
            },
            "type": "mesh3d"
           }
          ],
          "parcoords": [
           {
            "line": {
             "colorbar": {
              "outlinewidth": 0,
              "ticks": ""
             }
            },
            "type": "parcoords"
           }
          ],
          "pie": [
           {
            "automargin": true,
            "type": "pie"
           }
          ],
          "scatter": [
           {
            "fillpattern": {
             "fillmode": "overlay",
             "size": 10,
             "solidity": 0.2
            },
            "type": "scatter"
           }
          ],
          "scatter3d": [
           {
            "line": {
             "colorbar": {
              "outlinewidth": 0,
              "ticks": ""
             }
            },
            "marker": {
             "colorbar": {
              "outlinewidth": 0,
              "ticks": ""
             }
            },
            "type": "scatter3d"
           }
          ],
          "scattercarpet": [
           {
            "marker": {
             "colorbar": {
              "outlinewidth": 0,
              "ticks": ""
             }
            },
            "type": "scattercarpet"
           }
          ],
          "scattergeo": [
           {
            "marker": {
             "colorbar": {
              "outlinewidth": 0,
              "ticks": ""
             }
            },
            "type": "scattergeo"
           }
          ],
          "scattergl": [
           {
            "marker": {
             "colorbar": {
              "outlinewidth": 0,
              "ticks": ""
             }
            },
            "type": "scattergl"
           }
          ],
          "scattermapbox": [
           {
            "marker": {
             "colorbar": {
              "outlinewidth": 0,
              "ticks": ""
             }
            },
            "type": "scattermapbox"
           }
          ],
          "scatterpolar": [
           {
            "marker": {
             "colorbar": {
              "outlinewidth": 0,
              "ticks": ""
             }
            },
            "type": "scatterpolar"
           }
          ],
          "scatterpolargl": [
           {
            "marker": {
             "colorbar": {
              "outlinewidth": 0,
              "ticks": ""
             }
            },
            "type": "scatterpolargl"
           }
          ],
          "scatterternary": [
           {
            "marker": {
             "colorbar": {
              "outlinewidth": 0,
              "ticks": ""
             }
            },
            "type": "scatterternary"
           }
          ],
          "surface": [
           {
            "colorbar": {
             "outlinewidth": 0,
             "ticks": ""
            },
            "colorscale": [
             [
              0,
              "#0d0887"
             ],
             [
              0.1111111111111111,
              "#46039f"
             ],
             [
              0.2222222222222222,
              "#7201a8"
             ],
             [
              0.3333333333333333,
              "#9c179e"
             ],
             [
              0.4444444444444444,
              "#bd3786"
             ],
             [
              0.5555555555555556,
              "#d8576b"
             ],
             [
              0.6666666666666666,
              "#ed7953"
             ],
             [
              0.7777777777777778,
              "#fb9f3a"
             ],
             [
              0.8888888888888888,
              "#fdca26"
             ],
             [
              1,
              "#f0f921"
             ]
            ],
            "type": "surface"
           }
          ],
          "table": [
           {
            "cells": {
             "fill": {
              "color": "#EBF0F8"
             },
             "line": {
              "color": "white"
             }
            },
            "header": {
             "fill": {
              "color": "#C8D4E3"
             },
             "line": {
              "color": "white"
             }
            },
            "type": "table"
           }
          ]
         },
         "layout": {
          "annotationdefaults": {
           "arrowcolor": "#2a3f5f",
           "arrowhead": 0,
           "arrowwidth": 1
          },
          "autotypenumbers": "strict",
          "coloraxis": {
           "colorbar": {
            "outlinewidth": 0,
            "ticks": ""
           }
          },
          "colorscale": {
           "diverging": [
            [
             0,
             "#8e0152"
            ],
            [
             0.1,
             "#c51b7d"
            ],
            [
             0.2,
             "#de77ae"
            ],
            [
             0.3,
             "#f1b6da"
            ],
            [
             0.4,
             "#fde0ef"
            ],
            [
             0.5,
             "#f7f7f7"
            ],
            [
             0.6,
             "#e6f5d0"
            ],
            [
             0.7,
             "#b8e186"
            ],
            [
             0.8,
             "#7fbc41"
            ],
            [
             0.9,
             "#4d9221"
            ],
            [
             1,
             "#276419"
            ]
           ],
           "sequential": [
            [
             0,
             "#0d0887"
            ],
            [
             0.1111111111111111,
             "#46039f"
            ],
            [
             0.2222222222222222,
             "#7201a8"
            ],
            [
             0.3333333333333333,
             "#9c179e"
            ],
            [
             0.4444444444444444,
             "#bd3786"
            ],
            [
             0.5555555555555556,
             "#d8576b"
            ],
            [
             0.6666666666666666,
             "#ed7953"
            ],
            [
             0.7777777777777778,
             "#fb9f3a"
            ],
            [
             0.8888888888888888,
             "#fdca26"
            ],
            [
             1,
             "#f0f921"
            ]
           ],
           "sequentialminus": [
            [
             0,
             "#0d0887"
            ],
            [
             0.1111111111111111,
             "#46039f"
            ],
            [
             0.2222222222222222,
             "#7201a8"
            ],
            [
             0.3333333333333333,
             "#9c179e"
            ],
            [
             0.4444444444444444,
             "#bd3786"
            ],
            [
             0.5555555555555556,
             "#d8576b"
            ],
            [
             0.6666666666666666,
             "#ed7953"
            ],
            [
             0.7777777777777778,
             "#fb9f3a"
            ],
            [
             0.8888888888888888,
             "#fdca26"
            ],
            [
             1,
             "#f0f921"
            ]
           ]
          },
          "colorway": [
           "#636efa",
           "#EF553B",
           "#00cc96",
           "#ab63fa",
           "#FFA15A",
           "#19d3f3",
           "#FF6692",
           "#B6E880",
           "#FF97FF",
           "#FECB52"
          ],
          "font": {
           "color": "#2a3f5f"
          },
          "geo": {
           "bgcolor": "white",
           "lakecolor": "white",
           "landcolor": "#E5ECF6",
           "showlakes": true,
           "showland": true,
           "subunitcolor": "white"
          },
          "hoverlabel": {
           "align": "left"
          },
          "hovermode": "closest",
          "mapbox": {
           "style": "light"
          },
          "paper_bgcolor": "white",
          "plot_bgcolor": "#E5ECF6",
          "polar": {
           "angularaxis": {
            "gridcolor": "white",
            "linecolor": "white",
            "ticks": ""
           },
           "bgcolor": "#E5ECF6",
           "radialaxis": {
            "gridcolor": "white",
            "linecolor": "white",
            "ticks": ""
           }
          },
          "scene": {
           "xaxis": {
            "backgroundcolor": "#E5ECF6",
            "gridcolor": "white",
            "gridwidth": 2,
            "linecolor": "white",
            "showbackground": true,
            "ticks": "",
            "zerolinecolor": "white"
           },
           "yaxis": {
            "backgroundcolor": "#E5ECF6",
            "gridcolor": "white",
            "gridwidth": 2,
            "linecolor": "white",
            "showbackground": true,
            "ticks": "",
            "zerolinecolor": "white"
           },
           "zaxis": {
            "backgroundcolor": "#E5ECF6",
            "gridcolor": "white",
            "gridwidth": 2,
            "linecolor": "white",
            "showbackground": true,
            "ticks": "",
            "zerolinecolor": "white"
           }
          },
          "shapedefaults": {
           "line": {
            "color": "#2a3f5f"
           }
          },
          "ternary": {
           "aaxis": {
            "gridcolor": "white",
            "linecolor": "white",
            "ticks": ""
           },
           "baxis": {
            "gridcolor": "white",
            "linecolor": "white",
            "ticks": ""
           },
           "bgcolor": "#E5ECF6",
           "caxis": {
            "gridcolor": "white",
            "linecolor": "white",
            "ticks": ""
           }
          },
          "title": {
           "x": 0.05
          },
          "xaxis": {
           "automargin": true,
           "gridcolor": "white",
           "linecolor": "white",
           "ticks": "",
           "title": {
            "standoff": 15
           },
           "zerolinecolor": "white",
           "zerolinewidth": 2
          },
          "yaxis": {
           "automargin": true,
           "gridcolor": "white",
           "linecolor": "white",
           "ticks": "",
           "title": {
            "standoff": 15
           },
           "zerolinecolor": "white",
           "zerolinewidth": 2
          }
         }
        },
        "title": {
         "text": "Optimization History Plot"
        },
        "xaxis": {
         "title": {
          "text": "Trial"
         }
        },
        "yaxis": {
         "title": {
          "text": "min_neighbors"
         }
        }
       }
      }
     },
     "metadata": {},
     "output_type": "display_data"
    }
   ],
   "source": [
    "plot_optimization_history(lsh_study, target = lambda t: t.values[2], target_name = 'min_neighbors')"
   ]
  }
 ],
 "metadata": {
  "kernelspec": {
   "display_name": "Python 3",
   "language": "python",
   "name": "python3"
  },
  "language_info": {
   "codemirror_mode": {
    "name": "ipython",
    "version": 3
   },
   "file_extension": ".py",
   "mimetype": "text/x-python",
   "name": "python",
   "nbconvert_exporter": "python",
   "pygments_lexer": "ipython3",
   "version": "3.12.0"
  },
  "orig_nbformat": 4
 },
 "nbformat": 4,
 "nbformat_minor": 2
}
